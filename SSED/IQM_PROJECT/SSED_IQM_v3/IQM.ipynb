{
 "cells": [
  {
   "cell_type": "code",
   "execution_count": 2,
   "metadata": {},
   "outputs": [
    {
     "name": "stdout",
     "output_type": "stream",
     "text": [
      "Evaluating multiple stream files with weights: (12, 12, 10, -12, 12, -15, 10, 13, -13)\n"
     ]
    },
    {
     "name": "stderr",
     "output_type": "stream",
     "text": [
      "Processing chunks in UOX1_min_50_-512.0_-513.0.stream:  48%|████▊     | 1862/3913 [02:13<01:47, 19.14chunk/s]"
     ]
    },
    {
     "name": "stdout",
     "output_type": "stream",
     "text": [
      "No diffraction resolution found in chunk."
     ]
    },
    {
     "name": "stderr",
     "output_type": "stream",
     "text": [
      "Processing chunks in UOX1_min_50_-511.0_-512.0.stream:  50%|█████     | 1958/3913 [02:13<03:11, 10.18chunk/s]"
     ]
    },
    {
     "name": "stdout",
     "output_type": "stream",
     "text": [
      "\n"
     ]
    },
    {
     "name": "stderr",
     "output_type": "stream",
     "text": [
      "Processing chunks in UOX1_min_50_-511.0_-511.0.stream: 100%|██████████| 3913/3913 [03:41<00:00, 17.69chunk/s]\n",
      "Processing chunks in UOX1_min_50_-511.0_-513.0.stream: 100%|██████████| 3913/3913 [03:49<00:00, 17.05chunk/s]\n",
      "Processing chunks in UOX1_min_50_-513.0_-513.0.stream: 100%|██████████| 3913/3913 [03:51<00:00, 16.92chunk/s]\n",
      "Processing chunks in UOX1_min_50_-511.0_-512.5.stream: 100%|██████████| 3913/3913 [04:18<00:00, 15.15chunk/s]\n",
      "Processing chunks in UOX1_min_50_-513.0_-511.0.stream: 100%|██████████| 3913/3913 [04:19<00:00, 15.06chunk/s]\n",
      "Processing chunks in UOX1_min_50_-511.5_-513.0.stream: 100%|██████████| 3913/3913 [04:38<00:00, 14.07chunk/s]\n",
      "Processing chunks in UOX1_min_50_-511.0_-512.0.stream: 100%|██████████| 3913/3913 [04:38<00:00, 14.07chunk/s]\n",
      "Processing chunks in UOX1_min_50_-513.0_-512.5.stream: 100%|██████████| 3913/3913 [04:43<00:00, 13.79chunk/s]\n",
      "Processing chunks in UOX1_min_50_-511.0_-511.5.stream: 100%|██████████| 3913/3913 [04:44<00:00, 13.77chunk/s]\n",
      "Processing chunks in UOX1_min_50_-512.5_-513.0.stream: 100%|██████████| 3913/3913 [04:44<00:00, 13.74chunk/s]\n",
      "Processing chunks in UOX1_min_50_-512.0_-513.0.stream: 100%|██████████| 3913/3913 [04:55<00:00, 13.26chunk/s]\n",
      "Processing chunks in UOX1_min_50_-511.5_-511.0.stream: 100%|██████████| 3913/3913 [04:58<00:00, 13.13chunk/s]\n",
      "Processing chunks in UOX1_min_50_-512.5_-511.0.stream: 100%|██████████| 3913/3913 [04:58<00:00, 13.10chunk/s]\n",
      "Processing chunks in UOX1_min_50_-512.0_-511.0.stream: 100%|██████████| 3913/3913 [05:04<00:00, 12.86chunk/s]\n",
      "Processing chunks in UOX1_min_50_-513.0_-511.5.stream: 100%|██████████| 3913/3913 [05:13<00:00, 12.49chunk/s]\n",
      "Processing chunks in UOX1_min_50_-513.0_-512.0.stream: 100%|██████████| 3913/3913 [05:16<00:00, 12.37chunk/s]\n",
      "Processing chunks in UOX1_min_50_-511.5_-512.5.stream: 100%|██████████| 3913/3913 [05:25<00:00, 12.02chunk/s]\n",
      "Processing chunks in UOX1_min_50_-511.5_-511.5.stream: 100%|██████████| 3913/3913 [05:41<00:00, 11.44chunk/s]\n",
      "Processing chunks in UOX1_min_50_-512.5_-512.5.stream: 100%|██████████| 3913/3913 [05:43<00:00, 11.39chunk/s]\n",
      "Processing chunks in UOX1_min_50_-512.5_-511.5.stream: 100%|██████████| 3913/3913 [05:50<00:00, 11.17chunk/s]\n",
      "Processing chunks in UOX1_min_50_-512.0_-512.5.stream: 100%|██████████| 3913/3913 [05:50<00:00, 11.17chunk/s]\n",
      "Processing chunks in UOX1_min_50_-512.5_-512.0.stream: 100%|██████████| 3913/3913 [05:55<00:00, 11.00chunk/s]\n",
      "Processing chunks in UOX1_min_50_-512.0_-511.5.stream: 100%|██████████| 3913/3913 [06:07<00:00, 10.65chunk/s]\n",
      "Processing chunks in UOX1_min_50_-512_-512.stream: 100%|██████████| 3913/3913 [06:12<00:00, 10.50chunk/s]k/s]\n",
      "Processing chunks in UOX1_min_50_-511.5_-512.0.stream: 100%|██████████| 3913/3913 [03:36<00:00, 18.04chunk/s]\n"
     ]
    },
    {
     "name": "stdout",
     "output_type": "stream",
     "text": [
      "Combined metrics CSV written to /home/buster/UOX1/UOX1_min_50/combined_metrics_IQM_SUM_12_12_10_-12_12_-15_10_13_-13.csv\n",
      "Best results stream file written to /home/buster/UOX1/UOX1_min_50/best_results_IQM_SUM_12_12_10_-12_12_-15_10_13_-13.stream\n",
      "Writing .sol file from stream: /home/buster/UOX1/UOX1_min_50/best_results_IQM_SUM_12_12_10_-12_12_-15_10_13_-13.stream\n",
      "Bash script generated: /home/buster/UOX1/UOX1_min_50/IQM_SUM_12_12_10_-12_12_-15_10_13_-13.sh\n",
      "Running fast integration...\n"
     ]
    },
    {
     "name": "stderr",
     "output_type": "stream",
     "text": [
      "Writing integration output stream: 100%|██████████| 3680/3680 [00:57<00:00, 63.72lines/s]\n"
     ]
    },
    {
     "name": "stdout",
     "output_type": "stream",
     "text": [
      "Integration executed successfully\n",
      "Merging fast integration results...\n",
      "Running partialator for stream file: /home/buster/UOX1/UOX1_min_50/IQM_SUM_12_12_10_-12_12_-15_10_13_-13/int_rings_2-5-10.stream\n"
     ]
    },
    {
     "name": "stderr",
     "output_type": "stream",
     "text": [
      "Partialator Progress: 100%|██████████| 5/5 [02:01<00:00, 24.26s/Residuals]\n"
     ]
    },
    {
     "name": "stdout",
     "output_type": "stream",
     "text": [
      "Partialator completed for stream file: /home/buster/UOX1/UOX1_min_50/IQM_SUM_12_12_10_-12_12_-15_10_13_-13/int_rings_2-5-10.stream\n",
      "Converting crystfel.hkl to output.mtz in directory: /home/buster/UOX1/UOX1_min_50/IQM_SUM_12_12_10_-12_12_-15_10_13_-13/merge_3_iter_int_rings_2-5-10\n",
      "Conversion to output.mtz completed for directory: /home/buster/UOX1/UOX1_min_50/IQM_SUM_12_12_10_-12_12_-15_10_13_-13/merge_3_iter_int_rings_2-5-10\n",
      "Merging Complete for int_rings_2-5-10\n",
      "Refining fast integration results...\n",
      "Processing folder: /home/buster/UOX1/UOX1_min_50/IQM_SUM_12_12_10_-12_12_-15_10_13_-13/merge_3_iter_int_rings_2-5-10\n"
     ]
    },
    {
     "name": "stderr",
     "output_type": "stream",
     "text": [
      "Refmac5 CGMAT cycles: 100%|██████████| 30/30 [01:13<00:00,  2.44s/cycle]"
     ]
    },
    {
     "name": "stdout",
     "output_type": "stream",
     "text": [
      "Automation process completed successfully for weights: (12, 12, 10, -12, 12, -15, 10, 13, -13) with a final R factor of 0.2142\n"
     ]
    },
    {
     "name": "stderr",
     "output_type": "stream",
     "text": [
      "\n"
     ]
    }
   ],
   "source": [
    "from find_first_file import find_first_file\n",
    "from automate_evaluation_and_integration import automate_evaluation_and_integration\n",
    "\n",
    "# stream_file_folder = \"/home/buster/UOX1/UOX1_no_bg_SLL\"\n",
    "stream_file_folder = '/home/buster/UOX1/UOX1_min_50'\n",
    "cellfile_path = find_first_file(stream_file_folder, \".cell\")\n",
    "pdb_file = find_first_file(stream_file_folder, \".pdb\")\n",
    "\n",
    "weights_list = [\n",
    "    (12, 12, 10, -12, 12, -15, 10, 13, -13)  \n",
    "]\n",
    "\n",
    "lattice = \"oI\"  # Pearson Symbol read from .cell file first letter for lattice type and second for centering\n",
    "ring_size = [(2, 5, 10)]\n",
    "pointgroup = \"mmm\"\n",
    "num_threads = 23\n",
    "bins = 20\n",
    "min_res = 1.5\n",
    "iterations = 3\n",
    "\n",
    "automate_evaluation_and_integration(stream_file_folder, weights_list, lattice, ring_size, cellfile_path, pointgroup, num_threads, bins, pdb_file, min_res, iterations)\n"
   ]
  }
 ],
 "metadata": {
  "kernelspec": {
   "display_name": "diffractem_env",
   "language": "python",
   "name": "python3"
  },
  "language_info": {
   "codemirror_mode": {
    "name": "ipython",
    "version": 3
   },
   "file_extension": ".py",
   "mimetype": "text/x-python",
   "name": "python",
   "nbconvert_exporter": "python",
   "pygments_lexer": "ipython3",
   "version": "3.10.14"
  }
 },
 "nbformat": 4,
 "nbformat_minor": 2
}
