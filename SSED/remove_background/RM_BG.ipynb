{
 "cells": [
  {
   "cell_type": "code",
   "execution_count": 1,
   "metadata": {},
   "outputs": [
    {
     "name": "stdout",
     "output_type": "stream",
     "text": [
      "The dataset contains 5362 images.\n",
      "Processing 9 selected images.\n",
      "Chunk size set to: 9\n",
      "Processing image 6 with center coordinates: center_x = 508.5403571337405, center_y = 514.8036910866964Processing image 7 with center coordinates: center_x = 508.5403448453563, center_y = 514.803793080115Processing image 2 with center coordinates: center_x = 508.5404186618236, center_y = 514.8031799750627Processing image 4 with center coordinates: center_x = 508.5403940357685, center_y = 514.8033846155295Processing image 5 with center coordinates: center_x = 508.5403694294897, center_y = 514.8035889950166Processing image 3 with center coordinates: center_x = 508.5404063463191, center_y = 514.8032823278797\n",
      "\n",
      "\n",
      "\n",
      "\n",
      "\n",
      "Processing image 8 with center coordinates: center_x = 508.5403325569721, center_y = 514.8038950735338Processing image 10 with center coordinates: center_x = 508.54027124867093, center_y = 514.8044032295303\n",
      "\n",
      "Processing image 9 with center coordinates: center_x = 508.5403202759346, center_y = 514.8039969685316\n",
      "Damped sinusoids fitting successful with N_sinusoids = 3. Residual: 1.35308852381106\n",
      "Damped sinusoids fitting successful with N_sinusoids = 3. Residual: 2.0112671384472467\n",
      "Damped sinusoids fitting successful with N_sinusoids = 3. Residual: 1.9772285906595788\n",
      "Damped sinusoids fitting successful with N_sinusoids = 3. Residual: 2.0270073138400644\n",
      "Damped sinusoids fitting successful with N_sinusoids = 3. Residual: 1.3439493250051113\n",
      "Damped sinusoids fitting successful with N_sinusoids = 3. Residual: 0.23570698679616123\n",
      "Damped sinusoids fitting successful with N_sinusoids = 4. Residual: 0.031145235795833445\n",
      "Damped sinusoids fitting successful with N_sinusoids = 4. Residual: 1.8308488351675967\n",
      "Damped sinusoids fitting successful with N_sinusoids = 4. Residual: 0.3679371660842122\n",
      "Damped sinusoids fitting successful with N_sinusoids = 4. Residual: 0.11318210966763169\n",
      "Damped sinusoids fitting successful with N_sinusoids = 4. Residual: 0.31345663395444284\n",
      "Damped sinusoids fitting successful with N_sinusoids = 5. Residual: 0.8871959603917704\n",
      "Using best fit with residual 0.3679371660842122 and N_sinusoids = 5\n",
      "Damped sinusoids fitting successful with N_sinusoids = 5. Residual: 1.326433300620175\n",
      "Using best fit with residual 0.11318210966763169 and N_sinusoids = 5\n",
      "Damped sinusoids fitting successful with N_sinusoids = 3. Residual: 0.17223383912919538\n",
      "Damped sinusoids fitting successful with N_sinusoids = 5. Residual: 0.025903729060573075\n",
      "Damped sinusoids fitting successful with N_sinusoids = 4. Residual: 0.25153862458846477\n",
      "Damped sinusoids fitting successful with N_sinusoids = 3. Residual: 0.2688645484244137\n",
      "Damped sinusoids fitting successful with N_sinusoids = 4. Residual: 0.2939810255318794\n",
      "Damped sinusoids fitting successful with N_sinusoids = 5. Residual: 0.31797042605835435\n",
      "Using best fit with residual 0.2688645484244137 and N_sinusoids = 5\n",
      "Damped sinusoids fitting successful with N_sinusoids = 5. Residual: 0.2670179842568673\n",
      "Using best fit with residual 0.2670179842568673 and N_sinusoids = 5\n",
      "Damped sinusoids fitting successful with N_sinusoids = 5. Residual: 0.16443247270147857\n",
      "Using best fit with residual 0.16443247270147857 and N_sinusoids = 5\n",
      "Damped sinusoids fitting successful with N_sinusoids = 3. Residual: 0.34592876125262756\n",
      "Damped sinusoids fitting successful with N_sinusoids = 4. Residual: 0.25814721813534086\n",
      "Damped sinusoids fitting successful with N_sinusoids = 5. Residual: 0.07475256031590341\n",
      "Damped sinusoids curve fitting failed with N_sinusoids = 4: Optimal parameters not found: The maximum number of function evaluations is exceeded.\n",
      "Damped sinusoids fitting successful with N_sinusoids = 5. Residual: 0.8571568724562056\n",
      "Using best fit with residual 0.8571568724562056 and N_sinusoids = 5\n",
      "Processing completed.\n"
     ]
    }
   ],
   "source": [
    "from remove_background_v5 import remove_background\n",
    "\n",
    "# Paths to the files\n",
    "h5_file_path = '/home/buster/UOX1/UOX1_background/deiced_UOX1_min_15_peak.h5'\n",
    "new_h5_file_path = '/home/buster/UOX1/deiced_UOX1_min_15_peak_corrected_ds_v5-FULL.h5'\n",
    "\n",
    "selected_indices = list(range(1, 10)) #None #[70, 700, 1500, 1800]\n",
    "\n",
    "# Call the main processing function\n",
    "remove_background(h5_file_path, new_h5_file_path, selected_indices=selected_indices)\n"
   ]
  }
 ],
 "metadata": {
  "kernelspec": {
   "display_name": "diffractem_env",
   "language": "python",
   "name": "python3"
  },
  "language_info": {
   "codemirror_mode": {
    "name": "ipython",
    "version": 3
   },
   "file_extension": ".py",
   "mimetype": "text/x-python",
   "name": "python",
   "nbconvert_exporter": "python",
   "pygments_lexer": "ipython3",
   "version": "3.10.14"
  }
 },
 "nbformat": 4,
 "nbformat_minor": 2
}
