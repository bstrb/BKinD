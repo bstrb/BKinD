{
 "cells": [
  {
   "cell_type": "markdown",
   "metadata": {},
   "source": [
    "Based on RMSD between found peaks and indexed reflections combine the best indexings from xGandalf for each frame to one .stream file and then write a .sol from combined .stream file."
   ]
  },
  {
   "cell_type": "code",
   "execution_count": 1,
   "metadata": {},
   "outputs": [],
   "source": [
    "# Find Best Results Function Definitions\n",
    "\n",
    "from rmsd_heatmap import  rmsd_heatmap\n",
    "from best_results_def import find_best_results\n",
    "from read_stream_write_sol import read_stream_write_sol"
   ]
  },
  {
   "cell_type": "code",
   "execution_count": null,
   "metadata": {},
   "outputs": [],
   "source": [
    "# Find Best Results\n",
    "\n",
    "inputfolder_path = \"/home/buster/UOX1/3x3\"\n",
    "output_path= \"/home/buster/UOX1/3x3/best_results.stream\"\n",
    "lattice = \"oI\" # Pearson Symbol read from .cell file first letter for lattice type and second for centering\n",
    "target_serial_number = 6186\n",
    "\n",
    "##### Enter your parameters above #####\n",
    "\n",
    "rmsd_heatmap(inputfolder_path, target_serial_number)\n",
    "\n",
    "find_best_results(inputfolder_path, output_path)\n",
    "\n",
    "read_stream_write_sol(output_path, lattice)"
   ]
  },
  {
   "cell_type": "code",
   "execution_count": 2,
   "metadata": {},
   "outputs": [
    {
     "name": "stdout",
     "output_type": "stream",
     "text": [
      "Skipping file best_results.stream as it doesn't match the expected naming pattern.\n",
      "RMSD data has been saved to /home/buster/UOX1/5x5/rmsd_data.csv\n"
     ]
    },
    {
     "data": {
      "application/vnd.jupyter.widget-view+json": {
       "model_id": "7e511cce5a7d4832a7d3df561fc14325",
       "version_major": 2,
       "version_minor": 0
      },
      "text/plain": [
       "interactive(children=(IntSlider(value=0, description='serial_number_index', max=4788), Output()), _dom_classes…"
      ]
     },
     "metadata": {},
     "output_type": "display_data"
    }
   ],
   "source": [
    "from find_stream_files import find_stream_files\n",
    "from extract_rmsd_to_csv import extract_rmsd_to_csv\n",
    "from plot_rmsd_heatmaps_with_slider import plot_rmsd_heatmaps_with_slider\n",
    "\n",
    "inputfolder_path = \"/home/buster/UOX1/0-05-step-indexing/41x41_0-05_indexing\"\n",
    "file_paths = find_stream_files(inputfolder_path)\n",
    "output_csv_path = \"/home/buster/UOX1/0-05-step-indexing/41x41_0-05_indexing/rmsd_data.csv\"\n",
    "extract_rmsd_to_csv(file_paths, n=10, output_csv_path=output_csv_path)\n",
    "plot_rmsd_heatmaps_with_slider(output_csv_path)\n",
    "\n",
    "\n"
   ]
  }
 ],
 "metadata": {
  "kernelspec": {
   "display_name": "diffractem_env",
   "language": "python",
   "name": "python3"
  },
  "language_info": {
   "codemirror_mode": {
    "name": "ipython",
    "version": 3
   },
   "file_extension": ".py",
   "mimetype": "text/x-python",
   "name": "python",
   "nbconvert_exporter": "python",
   "pygments_lexer": "ipython3",
   "version": "3.10.14"
  }
 },
 "nbformat": 4,
 "nbformat_minor": 2
}
