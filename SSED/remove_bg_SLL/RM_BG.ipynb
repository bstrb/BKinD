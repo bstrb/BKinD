{
 "cells": [
  {
   "cell_type": "code",
   "execution_count": 3,
   "metadata": {},
   "outputs": [
    {
     "name": "stdout",
     "output_type": "stream",
     "text": [
      "Processing 5362 selected images.\n"
     ]
    },
    {
     "name": "stderr",
     "output_type": "stream",
     "text": [
      "Processing images:   5%|▍         | 243/5362 [01:42<1:06:32,  1.28it/s]/mnt/c/Users/bubl3932/Desktop/BKinD/SSED/remove_bg/process_image.py:10: RuntimeWarning: overflow encountered in power\n",
      "  return A / (1 + ((r - mu) / gamma) ** 2) ** n + C + D / (r + epsilon)\n",
      "Processing images:   9%|▊         | 459/5362 [03:04<29:24,  2.78it/s]  /mnt/c/Users/bubl3932/Desktop/BKinD/SSED/remove_bg/process_image.py:10: RuntimeWarning: overflow encountered in power\n",
      "  return A / (1 + ((r - mu) / gamma) ** 2) ** n + C + D / (r + epsilon)\n",
      "Processing images:  12%|█▏        | 646/5362 [04:17<42:53,  1.83it/s]  "
     ]
    },
    {
     "name": "stdout",
     "output_type": "stream",
     "text": [
      "Error processing image: `x0` is infeasible.\n"
     ]
    },
    {
     "name": "stderr",
     "output_type": "stream",
     "text": [
      "Processing images:  12%|█▏        | 654/5362 [04:19<12:39,  6.20it/s]"
     ]
    },
    {
     "name": "stdout",
     "output_type": "stream",
     "text": [
      "Error processing image: `x0` is infeasible.\n"
     ]
    },
    {
     "name": "stderr",
     "output_type": "stream",
     "text": [
      "Processing images:  15%|█▍        | 798/5362 [05:15<20:31,  3.71it/s]  "
     ]
    },
    {
     "name": "stdout",
     "output_type": "stream",
     "text": [
      "Error processing image: `x0` is infeasible.\n"
     ]
    },
    {
     "name": "stderr",
     "output_type": "stream",
     "text": [
      "Processing images:  17%|█▋        | 909/5362 [05:59<16:13,  4.58it/s]  "
     ]
    },
    {
     "name": "stdout",
     "output_type": "stream",
     "text": [
      "Error processing image: `x0` is infeasible.\n"
     ]
    },
    {
     "name": "stderr",
     "output_type": "stream",
     "text": [
      "Processing images:  19%|█▊        | 999/5362 [06:31<08:39,  8.39it/s]  "
     ]
    },
    {
     "name": "stdout",
     "output_type": "stream",
     "text": [
      "Error processing image: `x0` is infeasible.\n"
     ]
    },
    {
     "name": "stderr",
     "output_type": "stream",
     "text": [
      "Processing images:  22%|██▏       | 1169/5362 [07:43<36:00,  1.94it/s]  "
     ]
    },
    {
     "name": "stdout",
     "output_type": "stream",
     "text": [
      "Error processing image: `x0` is infeasible.\n"
     ]
    },
    {
     "name": "stderr",
     "output_type": "stream",
     "text": [
      "Processing images:  24%|██▍       | 1308/5362 [08:39<57:41,  1.17it/s]  /mnt/c/Users/bubl3932/Desktop/BKinD/SSED/remove_bg/process_image.py:10: RuntimeWarning: overflow encountered in power\n",
      "  return A / (1 + ((r - mu) / gamma) ** 2) ** n + C + D / (r + epsilon)\n",
      "Processing images:  29%|██▉       | 1581/5362 [10:25<38:50,  1.62it/s]  /mnt/c/Users/bubl3932/Desktop/BKinD/SSED/remove_bg/process_image.py:10: RuntimeWarning: overflow encountered in power\n",
      "  return A / (1 + ((r - mu) / gamma) ** 2) ** n + C + D / (r + epsilon)\n",
      "Processing images:  38%|███▊      | 2031/5362 [13:22<22:14,  2.50it/s]  /mnt/c/Users/bubl3932/Desktop/BKinD/SSED/remove_bg/process_image.py:10: RuntimeWarning: overflow encountered in power\n",
      "  return A / (1 + ((r - mu) / gamma) ** 2) ** n + C + D / (r + epsilon)\n",
      "Processing images:  39%|███▊      | 2072/5362 [13:36<25:05,  2.18it/s]  "
     ]
    },
    {
     "name": "stdout",
     "output_type": "stream",
     "text": [
      "Error processing image: `x0` is infeasible.\n"
     ]
    },
    {
     "name": "stderr",
     "output_type": "stream",
     "text": [
      "Processing images:  39%|███▉      | 2104/5362 [13:49<20:56,  2.59it/s]"
     ]
    },
    {
     "name": "stdout",
     "output_type": "stream",
     "text": [
      "Error processing image: `x0` is infeasible.\n"
     ]
    },
    {
     "name": "stderr",
     "output_type": "stream",
     "text": [
      "Processing images:  53%|█████▎    | 2849/5362 [18:41<14:12,  2.95it/s]/mnt/c/Users/bubl3932/Desktop/BKinD/SSED/remove_bg/process_image.py:10: RuntimeWarning: overflow encountered in power\n",
      "  #     return A / (1 + ((r - mu) / gamma) ** 2) ** n + C + D / (r + epsilon)\n",
      "Processing images:  54%|█████▍    | 2888/5362 [18:55<16:13,  2.54it/s]/mnt/c/Users/bubl3932/Desktop/BKinD/SSED/remove_bg/process_image.py:10: RuntimeWarning: overflow encountered in power\n",
      "  #     return A / (1 + ((r - mu) / gamma) ** 2) ** n + C + D / (r + epsilon)\n",
      "Processing images:  55%|█████▌    | 2961/5362 [19:24<17:14,  2.32it/s]/mnt/c/Users/bubl3932/Desktop/BKinD/SSED/remove_bg/process_image.py:10: RuntimeWarning: overflow encountered in power\n",
      "  #     return A / (1 + ((r - mu) / gamma) ** 2) ** n + C + D / (r + epsilon)\n",
      "Processing images:  62%|██████▏   | 3313/5362 [21:49<19:31,  1.75it/s]  /mnt/c/Users/bubl3932/Desktop/BKinD/SSED/remove_bg/process_image.py:10: RuntimeWarning: overflow encountered in power\n",
      "  #     return A / (1 + ((r - mu) / gamma) ** 2) ** n + C + D / (r + epsilon)\n",
      "Processing images:  62%|██████▏   | 3317/5362 [21:50<11:01,  3.09it/s]/mnt/c/Users/bubl3932/Desktop/BKinD/SSED/remove_bg/process_image.py:10: RuntimeWarning: overflow encountered in power\n",
      "  #     return A / (1 + ((r - mu) / gamma) ** 2) ** n + C + D / (r + epsilon)\n",
      "Processing images:  62%|██████▏   | 3332/5362 [21:55<08:50,  3.83it/s]/mnt/c/Users/bubl3932/Desktop/BKinD/SSED/remove_bg/process_image.py:10: RuntimeWarning: overflow encountered in power\n",
      "  #     return A / (1 + ((r - mu) / gamma) ** 2) ** n + C + D / (r + epsilon)\n",
      "Processing images:  62%|██████▏   | 3334/5362 [21:56<09:34,  3.53it/s]/mnt/c/Users/bubl3932/Desktop/BKinD/SSED/remove_bg/process_image.py:10: RuntimeWarning: overflow encountered in power\n",
      "  #     return A / (1 + ((r - mu) / gamma) ** 2) ** n + C + D / (r + epsilon)\n",
      "Processing images:  63%|██████▎   | 3372/5362 [22:11<10:25,  3.18it/s]/mnt/c/Users/bubl3932/Desktop/BKinD/SSED/remove_bg/process_image.py:10: RuntimeWarning: overflow encountered in power\n",
      "  #     return A / (1 + ((r - mu) / gamma) ** 2) ** n + C + D / (r + epsilon)\n",
      "Processing images:  68%|██████▊   | 3663/5362 [24:04<16:05,  1.76it/s]/mnt/c/Users/bubl3932/Desktop/BKinD/SSED/remove_bg/process_image.py:10: RuntimeWarning: overflow encountered in power\n",
      "  #     return A / (1 + ((r - mu) / gamma) ** 2) ** n + C + D / (r + epsilon)\n",
      "Processing images:  70%|███████   | 3759/5362 [24:41<12:53,  2.07it/s]/mnt/c/Users/bubl3932/Desktop/BKinD/SSED/remove_bg/process_image.py:10: RuntimeWarning: overflow encountered in power\n",
      "  #     return A / (1 + ((r - mu) / gamma) ** 2) ** n + C + D / (r + epsilon)\n",
      "Processing images:  70%|███████   | 3780/5362 [24:48<04:27,  5.92it/s]/mnt/c/Users/bubl3932/Desktop/BKinD/SSED/remove_bg/process_image.py:10: RuntimeWarning: overflow encountered in power\n",
      "  #     return A / (1 + ((r - mu) / gamma) ** 2) ** n + C + D / (r + epsilon)\n",
      "Processing images:  73%|███████▎  | 3895/5362 [25:34<08:28,  2.89it/s]/mnt/c/Users/bubl3932/Desktop/BKinD/SSED/remove_bg/process_image.py:10: RuntimeWarning: overflow encountered in power\n",
      "  #     return A / (1 + ((r - mu) / gamma) ** 2) ** n + C + D / (r + epsilon)\n",
      "Processing images:  81%|████████  | 4318/5362 [28:17<09:25,  1.84it/s]"
     ]
    },
    {
     "name": "stdout",
     "output_type": "stream",
     "text": [
      "Error processing image: `x0` is infeasible.\n"
     ]
    },
    {
     "name": "stderr",
     "output_type": "stream",
     "text": [
      "Processing images:  81%|████████  | 4319/5362 [28:17<09:10,  1.89it/s]"
     ]
    },
    {
     "name": "stdout",
     "output_type": "stream",
     "text": [
      "Error processing image: `x0` is infeasible.\n"
     ]
    },
    {
     "name": "stderr",
     "output_type": "stream",
     "text": [
      "Processing images:  81%|████████  | 4338/5362 [28:24<05:06,  3.34it/s]/mnt/c/Users/bubl3932/Desktop/BKinD/SSED/remove_bg/process_image.py:10: RuntimeWarning: overflow encountered in power\n",
      "  #     return A / (1 + ((r - mu) / gamma) ** 2) ** n + C + D / (r + epsilon)\n",
      "Processing images:  81%|████████  | 4343/5362 [28:27<07:38,  2.22it/s]"
     ]
    },
    {
     "name": "stdout",
     "output_type": "stream",
     "text": [
      "Error processing image: `x0` is infeasible.\n"
     ]
    },
    {
     "name": "stderr",
     "output_type": "stream",
     "text": [
      "Processing images:  81%|████████  | 4351/5362 [28:29<04:41,  3.59it/s]"
     ]
    },
    {
     "name": "stdout",
     "output_type": "stream",
     "text": [
      "Error processing image: `x0` is infeasible.\n"
     ]
    },
    {
     "name": "stderr",
     "output_type": "stream",
     "text": [
      "Processing images:  84%|████████▍ | 4527/5362 [29:39<06:35,  2.11it/s]"
     ]
    },
    {
     "name": "stdout",
     "output_type": "stream",
     "text": [
      "Error processing image: `x0` is infeasible.\n",
      "Error processing image: `x0` is infeasible.\n"
     ]
    },
    {
     "name": "stderr",
     "output_type": "stream",
     "text": [
      "Processing images:  85%|████████▍ | 4539/5362 [29:41<01:58,  6.97it/s]"
     ]
    },
    {
     "name": "stdout",
     "output_type": "stream",
     "text": [
      "Error processing image: `x0` is infeasible.\n"
     ]
    },
    {
     "name": "stderr",
     "output_type": "stream",
     "text": [
      "Processing images:  90%|████████▉ | 4821/5362 [31:30<02:14,  4.03it/s]/mnt/c/Users/bubl3932/Desktop/BKinD/SSED/remove_bg/process_image.py:10: RuntimeWarning: overflow encountered in power\n",
      "  #     return A / (1 + ((r - mu) / gamma) ** 2) ** n + C + D / (r + epsilon)\n",
      "Processing images:  90%|█████████ | 4833/5362 [31:35<02:12,  3.98it/s]/mnt/c/Users/bubl3932/Desktop/BKinD/SSED/remove_bg/process_image.py:10: RuntimeWarning: overflow encountered in power\n",
      "  #     return A / (1 + ((r - mu) / gamma) ** 2) ** n + C + D / (r + epsilon)\n",
      "Processing images: 100%|█████████▉| 5336/5362 [34:50<00:06,  3.75it/s]/mnt/c/Users/bubl3932/Desktop/BKinD/SSED/remove_bg/process_image.py:10: RuntimeWarning: overflow encountered in power\n",
      "  #     return A / (1 + ((r - mu) / gamma) ** 2) ** n + C + D / (r + epsilon)\n",
      "Processing images: 100%|██████████| 5362/5362 [34:56<00:00,  2.56it/s]"
     ]
    },
    {
     "name": "stdout",
     "output_type": "stream",
     "text": [
      "Processing completed.\n"
     ]
    },
    {
     "name": "stderr",
     "output_type": "stream",
     "text": [
      "\n"
     ]
    }
   ],
   "source": [
    "from remove_background_v3 import remove_background\n",
    "\n",
    "# Paths to the files\n",
    "h5_file_path = '/home/buster/UOX1/UOX1_background/deiced_UOX1_min_15_peak.h5'\n",
    "new_h5_file_path = '/home/buster/UOX1/deiced_UOX1_min_15_peak_corrected.h5'\n",
    "\n",
    "selected_indices = None \n",
    "\n",
    "# Call the main processing function\n",
    "remove_background(h5_file_path, new_h5_file_path, selected_indices=selected_indices)\n"
   ]
  }
 ],
 "metadata": {
  "kernelspec": {
   "display_name": "diffractem_env",
   "language": "python",
   "name": "python3"
  },
  "language_info": {
   "codemirror_mode": {
    "name": "ipython",
    "version": 3
   },
   "file_extension": ".py",
   "mimetype": "text/x-python",
   "name": "python",
   "nbconvert_exporter": "python",
   "pygments_lexer": "ipython3",
   "version": "3.10.14"
  }
 },
 "nbformat": 4,
 "nbformat_minor": 2
}
