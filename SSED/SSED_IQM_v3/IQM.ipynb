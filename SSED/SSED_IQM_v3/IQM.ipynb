{
 "cells": [
  {
   "cell_type": "code",
   "execution_count": 2,
   "metadata": {},
   "outputs": [
    {
     "name": "stdout",
     "output_type": "stream",
     "text": [
      "Evaluating multiple stream files with exponents: [3, 5, 4, -1, 2, -3, 2, 1, -3]\n"
     ]
    },
    {
     "name": "stderr",
     "output_type": "stream",
     "text": [
      "Processing chunks in UOX_-512.01_-512.01.stream:   0%|          | 0/26138 [00:00<?, ?chunk/s]/root/anaconda3/envs/diffractem_env/lib/python3.10/site-packages/numpy/core/fromnumeric.py:3504: RuntimeWarning: Mean of empty slice.\n",
      "  return _methods._mean(a, axis=axis, dtype=dtype,\n",
      "/root/anaconda3/envs/diffractem_env/lib/python3.10/site-packages/numpy/core/_methods.py:129: RuntimeWarning: invalid value encountered in scalar divide\n",
      "  ret = ret.dtype.type(ret / rcount)\n",
      "/root/anaconda3/envs/diffractem_env/lib/python3.10/site-packages/numpy/core/_methods.py:206: RuntimeWarning: Degrees of freedom <= 0 for slice\n",
      "  ret = _var(a, axis=axis, dtype=dtype, out=out, ddof=ddof,\n",
      "/root/anaconda3/envs/diffractem_env/lib/python3.10/site-packages/numpy/core/_methods.py:163: RuntimeWarning: invalid value encountered in divide\n",
      "  arrmean = um.true_divide(arrmean, div, out=arrmean,\n",
      "/root/anaconda3/envs/diffractem_env/lib/python3.10/site-packages/numpy/core/fromnumeric.py:3504: RuntimeWarning: Mean of empty slice.\n",
      "  return _methods._mean(a, axis=axis, dtype=dtype,\n",
      "/root/anaconda3/envs/diffractem_env/lib/python3.10/site-packages/numpy/core/_methods.py:198: RuntimeWarning: invalid value encountered in scalar divide\n",
      "  ret = ret.dtype.type(ret / rcount)\n",
      "/root/anaconda3/envs/diffractem_env/lib/python3.10/site-packages/numpy/core/_methods.py:129: RuntimeWarning: invalid value encountered in scalar divide\n",
      "  ret = ret.dtype.type(ret / rcount)\n",
      "/root/anaconda3/envs/diffractem_env/lib/python3.10/site-packages/numpy/core/_methods.py:206: RuntimeWarning: Degrees of freedom <= 0 for slice\n",
      "  ret = _var(a, axis=axis, dtype=dtype, out=out, ddof=ddof,\n",
      "/root/anaconda3/envs/diffractem_env/lib/python3.10/site-packages/numpy/core/_methods.py:163: RuntimeWarning: invalid value encountered in divide\n",
      "  arrmean = um.true_divide(arrmean, div, out=arrmean,\n",
      "Processing chunks in UOX_-511.99_-512.01.stream:   0%|          | 0/26138 [00:00<?, ?chunk/s]/root/anaconda3/envs/diffractem_env/lib/python3.10/site-packages/numpy/core/_methods.py:198: RuntimeWarning: invalid value encountered in scalar divide\n",
      "  ret = ret.dtype.type(ret / rcount)\n",
      "Processing chunks in UOX_-512.0_-512.01.stream:   0%|          | 0/26138 [00:00<?, ?chunk/s]/root/anaconda3/envs/diffractem_env/lib/python3.10/site-packages/numpy/core/fromnumeric.py:3504: RuntimeWarning: Mean of empty slice.\n",
      "  return _methods._mean(a, axis=axis, dtype=dtype,\n",
      "/root/anaconda3/envs/diffractem_env/lib/python3.10/site-packages/numpy/core/_methods.py:129: RuntimeWarning: invalid value encountered in scalar divide\n",
      "  ret = ret.dtype.type(ret / rcount)\n",
      "/root/anaconda3/envs/diffractem_env/lib/python3.10/site-packages/numpy/core/_methods.py:206: RuntimeWarning: Degrees of freedom <= 0 for slice\n",
      "  ret = _var(a, axis=axis, dtype=dtype, out=out, ddof=ddof,\n",
      "/root/anaconda3/envs/diffractem_env/lib/python3.10/site-packages/numpy/core/fromnumeric.py:3504: RuntimeWarning: Mean of empty slice.\n",
      "  return _methods._mean(a, axis=axis, dtype=dtype,\n",
      "/root/anaconda3/envs/diffractem_env/lib/python3.10/site-packages/numpy/core/_methods.py:163: RuntimeWarning: invalid value encountered in divide\n",
      "  arrmean = um.true_divide(arrmean, div, out=arrmean,\n",
      "/root/anaconda3/envs/diffractem_env/lib/python3.10/site-packages/numpy/core/_methods.py:129: RuntimeWarning: invalid value encountered in scalar divide\n",
      "  ret = ret.dtype.type(ret / rcount)\n",
      "/root/anaconda3/envs/diffractem_env/lib/python3.10/site-packages/numpy/core/_methods.py:198: RuntimeWarning: invalid value encountered in scalar divide\n",
      "  ret = ret.dtype.type(ret / rcount)\n",
      "/root/anaconda3/envs/diffractem_env/lib/python3.10/site-packages/numpy/core/_methods.py:206: RuntimeWarning: Degrees of freedom <= 0 for slice\n",
      "  ret = _var(a, axis=axis, dtype=dtype, out=out, ddof=ddof,\n",
      "/root/anaconda3/envs/diffractem_env/lib/python3.10/site-packages/numpy/core/_methods.py:163: RuntimeWarning: invalid value encountered in divide\n",
      "  arrmean = um.true_divide(arrmean, div, out=arrmean,\n",
      "Processing chunks in UOX_-512.0_-511.99.stream:   0%|          | 0/26138 [00:00<?, ?chunk/s]/root/anaconda3/envs/diffractem_env/lib/python3.10/site-packages/numpy/core/_methods.py:198: RuntimeWarning: invalid value encountered in scalar divide\n",
      "  ret = ret.dtype.type(ret / rcount)\n",
      "/root/anaconda3/envs/diffractem_env/lib/python3.10/site-packages/numpy/core/fromnumeric.py:3504: RuntimeWarning: Mean of empty slice.\n",
      "  return _methods._mean(a, axis=axis, dtype=dtype,\n",
      "/root/anaconda3/envs/diffractem_env/lib/python3.10/site-packages/numpy/core/_methods.py:129: RuntimeWarning: invalid value encountered in scalar divide\n",
      "  ret = ret.dtype.type(ret / rcount)\n",
      "/root/anaconda3/envs/diffractem_env/lib/python3.10/site-packages/numpy/core/_methods.py:206: RuntimeWarning: Degrees of freedom <= 0 for slice\n",
      "  ret = _var(a, axis=axis, dtype=dtype, out=out, ddof=ddof,\n",
      "/root/anaconda3/envs/diffractem_env/lib/python3.10/site-packages/numpy/core/_methods.py:163: RuntimeWarning: invalid value encountered in divide\n",
      "  arrmean = um.true_divide(arrmean, div, out=arrmean,\n",
      "/root/anaconda3/envs/diffractem_env/lib/python3.10/site-packages/numpy/core/_methods.py:198: RuntimeWarning: invalid value encountered in scalar divide\n",
      "  ret = ret.dtype.type(ret / rcount)\n",
      "Processing chunks in UOX_-512.01_-511.99.stream:   0%|          | 0/26138 [00:00<?, ?chunk/s]/root/anaconda3/envs/diffractem_env/lib/python3.10/site-packages/numpy/core/fromnumeric.py:3504: RuntimeWarning: Mean of empty slice.\n",
      "  return _methods._mean(a, axis=axis, dtype=dtype,\n",
      "/root/anaconda3/envs/diffractem_env/lib/python3.10/site-packages/numpy/core/_methods.py:129: RuntimeWarning: invalid value encountered in scalar divide\n",
      "  ret = ret.dtype.type(ret / rcount)\n",
      "/root/anaconda3/envs/diffractem_env/lib/python3.10/site-packages/numpy/core/_methods.py:206: RuntimeWarning: Degrees of freedom <= 0 for slice\n",
      "  ret = _var(a, axis=axis, dtype=dtype, out=out, ddof=ddof,\n",
      "/root/anaconda3/envs/diffractem_env/lib/python3.10/site-packages/numpy/core/fromnumeric.py:3504: RuntimeWarning: Mean of empty slice.\n",
      "  return _methods._mean(a, axis=axis, dtype=dtype,\n",
      "/root/anaconda3/envs/diffractem_env/lib/python3.10/site-packages/numpy/core/_methods.py:163: RuntimeWarning: invalid value encountered in divide\n",
      "  arrmean = um.true_divide(arrmean, div, out=arrmean,\n",
      "/root/anaconda3/envs/diffractem_env/lib/python3.10/site-packages/numpy/core/_methods.py:129: RuntimeWarning: invalid value encountered in scalar divide\n",
      "  ret = ret.dtype.type(ret / rcount)\n",
      "/root/anaconda3/envs/diffractem_env/lib/python3.10/site-packages/numpy/core/_methods.py:198: RuntimeWarning: invalid value encountered in scalar divide\n",
      "  ret = ret.dtype.type(ret / rcount)\n",
      "Processing chunks in UOX_-512.01_-512.0.stream:   0%|          | 0/26138 [00:00<?, ?chunk/s]/root/anaconda3/envs/diffractem_env/lib/python3.10/site-packages/numpy/core/_methods.py:206: RuntimeWarning: Degrees of freedom <= 0 for slice\n",
      "  ret = _var(a, axis=axis, dtype=dtype, out=out, ddof=ddof,\n",
      "/root/anaconda3/envs/diffractem_env/lib/python3.10/site-packages/numpy/core/_methods.py:163: RuntimeWarning: invalid value encountered in divide\n",
      "  arrmean = um.true_divide(arrmean, div, out=arrmean,\n",
      "Processing chunks in UOX_-511.99_-512.0.stream:   0%|          | 0/26138 [00:00<?, ?chunk/s]/root/anaconda3/envs/diffractem_env/lib/python3.10/site-packages/numpy/core/_methods.py:198: RuntimeWarning: invalid value encountered in scalar divide\n",
      "  ret = ret.dtype.type(ret / rcount)\n",
      "/root/anaconda3/envs/diffractem_env/lib/python3.10/site-packages/numpy/core/fromnumeric.py:3504: RuntimeWarning: Mean of empty slice.\n",
      "  return _methods._mean(a, axis=axis, dtype=dtype,\n",
      "/root/anaconda3/envs/diffractem_env/lib/python3.10/site-packages/numpy/core/_methods.py:129: RuntimeWarning: invalid value encountered in scalar divide\n",
      "  ret = ret.dtype.type(ret / rcount)\n",
      "/root/anaconda3/envs/diffractem_env/lib/python3.10/site-packages/numpy/core/fromnumeric.py:3504: RuntimeWarning: Mean of empty slice.\n",
      "  return _methods._mean(a, axis=axis, dtype=dtype,\n",
      "/root/anaconda3/envs/diffractem_env/lib/python3.10/site-packages/numpy/core/_methods.py:206: RuntimeWarning: Degrees of freedom <= 0 for slice\n",
      "  ret = _var(a, axis=axis, dtype=dtype, out=out, ddof=ddof,\n",
      "/root/anaconda3/envs/diffractem_env/lib/python3.10/site-packages/numpy/core/_methods.py:129: RuntimeWarning: invalid value encountered in scalar divide\n",
      "  ret = ret.dtype.type(ret / rcount)\n",
      "/root/anaconda3/envs/diffractem_env/lib/python3.10/site-packages/numpy/core/_methods.py:163: RuntimeWarning: invalid value encountered in divide\n",
      "  arrmean = um.true_divide(arrmean, div, out=arrmean,\n",
      "/root/anaconda3/envs/diffractem_env/lib/python3.10/site-packages/numpy/core/_methods.py:206: RuntimeWarning: Degrees of freedom <= 0 for slice\n",
      "  ret = _var(a, axis=axis, dtype=dtype, out=out, ddof=ddof,\n",
      "/root/anaconda3/envs/diffractem_env/lib/python3.10/site-packages/numpy/core/_methods.py:198: RuntimeWarning: invalid value encountered in scalar divide\n",
      "  ret = ret.dtype.type(ret / rcount)\n",
      "/root/anaconda3/envs/diffractem_env/lib/python3.10/site-packages/numpy/core/_methods.py:163: RuntimeWarning: invalid value encountered in divide\n",
      "  arrmean = um.true_divide(arrmean, div, out=arrmean,\n",
      "/root/anaconda3/envs/diffractem_env/lib/python3.10/site-packages/numpy/core/_methods.py:198: RuntimeWarning: invalid value encountered in scalar divide\n",
      "  ret = ret.dtype.type(ret / rcount)\n",
      "Processing chunks in UOX_-512.0_-511.99.stream: 100%|██████████| 26138/26138 [05:56<00:00, 73.42chunk/s]] \n",
      "Processing chunks in UOX_-511.99_-512.01.stream: 100%|██████████| 26138/26138 [05:59<00:00, 72.68chunk/s] \n",
      "Processing chunks in UOX_-512_-512.stream: 100%|██████████| 26138/26138 [05:59<00:00, 72.61chunk/s] nk/s]\n",
      "Processing chunks in UOX_-512.01_-512.01.stream: 100%|██████████| 26138/26138 [06:02<00:00, 72.16chunk/s] \n",
      "Processing chunks in UOX_-511.99_-511.99.stream: 100%|██████████| 26138/26138 [06:02<00:00, 72.14chunk/s]\n",
      "Processing chunks in UOX_-512.0_-512.01.stream: 100%|██████████| 26138/26138 [06:03<00:00, 72.00chunk/s]]\n",
      "Processing chunks in UOX_-512.01_-511.99.stream: 100%|██████████| 26138/26138 [06:04<00:00, 71.80chunk/s] \n",
      "Processing chunks in UOX_-511.99_-512.0.stream: 100%|██████████| 26138/26138 [06:04<00:00, 71.70chunk/s] \n",
      "Processing chunks in UOX_-512.01_-512.0.stream: 100%|██████████| 26138/26138 [06:06<00:00, 71.35chunk/s] \n"
     ]
    },
    {
     "name": "stdout",
     "output_type": "stream",
     "text": [
      "Combined metrics CSV written to /home/buster/UOX123/3x3_retry/combined_metrics_IQM_3_5_4_-1_2_-3_2_1_-3.csv\n",
      "Best results stream file written to /home/buster/UOX123/3x3_retry/best_results_IQM_3_5_4_-1_2_-3_2_1_-3.stream\n",
      "Writing .sol file from stream: /home/buster/UOX123/3x3_retry/best_results_IQM_3_5_4_-1_2_-3_2_1_-3.stream\n",
      "Bash script generated: /home/buster/UOX123/3x3_retry/IQM_3_5_4_-1_2_-3_2_1_-3.sh\n",
      "Running fast integration...\n"
     ]
    },
    {
     "name": "stderr",
     "output_type": "stream",
     "text": [
      "Writing integration output stream: 100%|██████████| 23914/23914 [05:50<00:00, 68.13lines/s]\n"
     ]
    },
    {
     "name": "stdout",
     "output_type": "stream",
     "text": [
      "Integration executed successfully\n",
      "Merging fast integration results...\n",
      "Running partialator for stream file: /home/buster/UOX123/3x3_retry/IQM_3_5_4_-1_2_-3_2_1_-3/int_rings_3-4-7.stream\n"
     ]
    },
    {
     "name": "stderr",
     "output_type": "stream",
     "text": [
      "Partialator Progress: 100%|██████████| 5/5 [09:58<00:00, 119.65s/Residuals]\n"
     ]
    },
    {
     "name": "stdout",
     "output_type": "stream",
     "text": [
      "Partialator completed for stream file: /home/buster/UOX123/3x3_retry/IQM_3_5_4_-1_2_-3_2_1_-3/int_rings_3-4-7.stream\n",
      "Converting crystfel.hkl to output.mtz in directory: /home/buster/UOX123/3x3_retry/IQM_3_5_4_-1_2_-3_2_1_-3/merge_3_iter_int_rings_3-4-7\n",
      "Conversion to output.mtz completed for directory: /home/buster/UOX123/3x3_retry/IQM_3_5_4_-1_2_-3_2_1_-3/merge_3_iter_int_rings_3-4-7\n",
      "Merging Complete for int_rings_3-4-7\n",
      "Refining fast integration results...\n",
      "Processing folder: /home/buster/UOX123/3x3_retry/IQM_3_5_4_-1_2_-3_2_1_-3/merge_3_iter_int_rings_3-4-7\n"
     ]
    },
    {
     "name": "stderr",
     "output_type": "stream",
     "text": [
      "Refmac5 CGMAT cycles: 100%|██████████| 30/30 [01:11<00:00,  2.38s/cycle]"
     ]
    },
    {
     "name": "stdout",
     "output_type": "stream",
     "text": [
      "Automation process completed successfully for exponents: [3, 5, 4, -1, 2, -3, 2, 1, -3]\n",
      "Evaluating multiple stream files with exponents: [4, 3, 3, -2, 1, -2, 5, 3, -1]\n"
     ]
    },
    {
     "name": "stderr",
     "output_type": "stream",
     "text": [
      "\n",
      "Processing chunks in UOX_-512.01_-512.01.stream:   0%|          | 0/26138 [00:00<?, ?chunk/s]/root/anaconda3/envs/diffractem_env/lib/python3.10/site-packages/numpy/core/fromnumeric.py:3504: RuntimeWarning: Mean of empty slice.\n",
      "  return _methods._mean(a, axis=axis, dtype=dtype,\n",
      "/root/anaconda3/envs/diffractem_env/lib/python3.10/site-packages/numpy/core/fromnumeric.py:3504: RuntimeWarning: Mean of empty slice.\n",
      "  return _methods._mean(a, axis=axis, dtype=dtype,\n",
      "/root/anaconda3/envs/diffractem_env/lib/python3.10/site-packages/numpy/core/_methods.py:129: RuntimeWarning: invalid value encountered in scalar divide\n",
      "  ret = ret.dtype.type(ret / rcount)\n",
      "/root/anaconda3/envs/diffractem_env/lib/python3.10/site-packages/numpy/core/_methods.py:129: RuntimeWarning: invalid value encountered in scalar divide\n",
      "  ret = ret.dtype.type(ret / rcount)\n",
      "/root/anaconda3/envs/diffractem_env/lib/python3.10/site-packages/numpy/core/_methods.py:206: RuntimeWarning: Degrees of freedom <= 0 for slice\n",
      "  ret = _var(a, axis=axis, dtype=dtype, out=out, ddof=ddof,\n",
      "/root/anaconda3/envs/diffractem_env/lib/python3.10/site-packages/numpy/core/_methods.py:206: RuntimeWarning: Degrees of freedom <= 0 for slice\n",
      "  ret = _var(a, axis=axis, dtype=dtype, out=out, ddof=ddof,\n",
      "/root/anaconda3/envs/diffractem_env/lib/python3.10/site-packages/numpy/core/_methods.py:163: RuntimeWarning: invalid value encountered in divide\n",
      "  arrmean = um.true_divide(arrmean, div, out=arrmean,\n",
      "/root/anaconda3/envs/diffractem_env/lib/python3.10/site-packages/numpy/core/_methods.py:163: RuntimeWarning: invalid value encountered in divide\n",
      "  arrmean = um.true_divide(arrmean, div, out=arrmean,\n",
      "/root/anaconda3/envs/diffractem_env/lib/python3.10/site-packages/numpy/core/_methods.py:198: RuntimeWarning: invalid value encountered in scalar divide\n",
      "  ret = ret.dtype.type(ret / rcount)\n",
      "/root/anaconda3/envs/diffractem_env/lib/python3.10/site-packages/numpy/core/_methods.py:198: RuntimeWarning: invalid value encountered in scalar divide\n",
      "  ret = ret.dtype.type(ret / rcount)\n",
      "Processing chunks in UOX_-511.99_-512.01.stream:   0%|          | 0/26138 [00:00<?, ?chunk/s]/root/anaconda3/envs/diffractem_env/lib/python3.10/site-packages/numpy/core/fromnumeric.py:3504: RuntimeWarning: Mean of empty slice.\n",
      "  return _methods._mean(a, axis=axis, dtype=dtype,\n",
      "/root/anaconda3/envs/diffractem_env/lib/python3.10/site-packages/numpy/core/_methods.py:129: RuntimeWarning: invalid value encountered in scalar divide\n",
      "  ret = ret.dtype.type(ret / rcount)\n",
      "/root/anaconda3/envs/diffractem_env/lib/python3.10/site-packages/numpy/core/_methods.py:206: RuntimeWarning: Degrees of freedom <= 0 for slice\n",
      "  ret = _var(a, axis=axis, dtype=dtype, out=out, ddof=ddof,\n",
      "/root/anaconda3/envs/diffractem_env/lib/python3.10/site-packages/numpy/core/_methods.py:163: RuntimeWarning: invalid value encountered in divide\n",
      "  arrmean = um.true_divide(arrmean, div, out=arrmean,\n",
      "/root/anaconda3/envs/diffractem_env/lib/python3.10/site-packages/numpy/core/_methods.py:198: RuntimeWarning: invalid value encountered in scalar divide\n",
      "  ret = ret.dtype.type(ret / rcount)\n",
      "Processing chunks in UOX_-512.01_-511.99.stream:   0%|          | 0/26138 [00:00<?, ?chunk/s]/root/anaconda3/envs/diffractem_env/lib/python3.10/site-packages/numpy/core/fromnumeric.py:3504: RuntimeWarning: Mean of empty slice.\n",
      "  return _methods._mean(a, axis=axis, dtype=dtype,\n",
      "/root/anaconda3/envs/diffractem_env/lib/python3.10/site-packages/numpy/core/_methods.py:129: RuntimeWarning: invalid value encountered in scalar divide\n",
      "  ret = ret.dtype.type(ret / rcount)\n",
      "/root/anaconda3/envs/diffractem_env/lib/python3.10/site-packages/numpy/core/fromnumeric.py:3504: RuntimeWarning: Mean of empty slice.\n",
      "  return _methods._mean(a, axis=axis, dtype=dtype,\n",
      "/root/anaconda3/envs/diffractem_env/lib/python3.10/site-packages/numpy/core/_methods.py:206: RuntimeWarning: Degrees of freedom <= 0 for slice\n",
      "  ret = _var(a, axis=axis, dtype=dtype, out=out, ddof=ddof,\n",
      "/root/anaconda3/envs/diffractem_env/lib/python3.10/site-packages/numpy/core/_methods.py:129: RuntimeWarning: invalid value encountered in scalar divide\n",
      "  ret = ret.dtype.type(ret / rcount)\n",
      "/root/anaconda3/envs/diffractem_env/lib/python3.10/site-packages/numpy/core/_methods.py:163: RuntimeWarning: invalid value encountered in divide\n",
      "  arrmean = um.true_divide(arrmean, div, out=arrmean,\n",
      "/root/anaconda3/envs/diffractem_env/lib/python3.10/site-packages/numpy/core/_methods.py:198: RuntimeWarning: invalid value encountered in scalar divide\n",
      "  ret = ret.dtype.type(ret / rcount)\n",
      "/root/anaconda3/envs/diffractem_env/lib/python3.10/site-packages/numpy/core/_methods.py:206: RuntimeWarning: Degrees of freedom <= 0 for slice\n",
      "  ret = _var(a, axis=axis, dtype=dtype, out=out, ddof=ddof,\n",
      "/root/anaconda3/envs/diffractem_env/lib/python3.10/site-packages/numpy/core/_methods.py:163: RuntimeWarning: invalid value encountered in divide\n",
      "  arrmean = um.true_divide(arrmean, div, out=arrmean,\n",
      "/root/anaconda3/envs/diffractem_env/lib/python3.10/site-packages/numpy/core/_methods.py:198: RuntimeWarning: invalid value encountered in scalar divide\n",
      "  ret = ret.dtype.type(ret / rcount)\n",
      "Processing chunks in UOX_-512_-512.stream:   0%|          | 0/26138 [00:00<?, ?chunk/s]/root/anaconda3/envs/diffractem_env/lib/python3.10/site-packages/numpy/core/fromnumeric.py:3504: RuntimeWarning: Mean of empty slice.\n",
      "  return _methods._mean(a, axis=axis, dtype=dtype,\n",
      "/root/anaconda3/envs/diffractem_env/lib/python3.10/site-packages/numpy/core/_methods.py:129: RuntimeWarning: invalid value encountered in scalar divide\n",
      "  ret = ret.dtype.type(ret / rcount)\n",
      "/root/anaconda3/envs/diffractem_env/lib/python3.10/site-packages/numpy/core/_methods.py:206: RuntimeWarning: Degrees of freedom <= 0 for slice\n",
      "  ret = _var(a, axis=axis, dtype=dtype, out=out, ddof=ddof,\n",
      "/root/anaconda3/envs/diffractem_env/lib/python3.10/site-packages/numpy/core/_methods.py:163: RuntimeWarning: invalid value encountered in divide\n",
      "  arrmean = um.true_divide(arrmean, div, out=arrmean,\n",
      "/root/anaconda3/envs/diffractem_env/lib/python3.10/site-packages/numpy/core/_methods.py:198: RuntimeWarning: invalid value encountered in scalar divide\n",
      "  ret = ret.dtype.type(ret / rcount)\n",
      "Processing chunks in UOX_-511.99_-512.0.stream:   0%|          | 0/26138 [00:00<?, ?chunk/s]/root/anaconda3/envs/diffractem_env/lib/python3.10/site-packages/numpy/core/fromnumeric.py:3504: RuntimeWarning: Mean of empty slice.\n",
      "  return _methods._mean(a, axis=axis, dtype=dtype,\n",
      "/root/anaconda3/envs/diffractem_env/lib/python3.10/site-packages/numpy/core/_methods.py:129: RuntimeWarning: invalid value encountered in scalar divide\n",
      "  ret = ret.dtype.type(ret / rcount)\n",
      "/root/anaconda3/envs/diffractem_env/lib/python3.10/site-packages/numpy/core/_methods.py:206: RuntimeWarning: Degrees of freedom <= 0 for slice\n",
      "  ret = _var(a, axis=axis, dtype=dtype, out=out, ddof=ddof,\n",
      "Processing chunks in UOX_-512.0_-512.01.stream:   0%|          | 0/26138 [00:00<?, ?chunk/s]/root/anaconda3/envs/diffractem_env/lib/python3.10/site-packages/numpy/core/_methods.py:163: RuntimeWarning: invalid value encountered in divide\n",
      "  arrmean = um.true_divide(arrmean, div, out=arrmean,\n",
      "/root/anaconda3/envs/diffractem_env/lib/python3.10/site-packages/numpy/core/_methods.py:198: RuntimeWarning: invalid value encountered in scalar divide\n",
      "  ret = ret.dtype.type(ret / rcount)\n",
      "/root/anaconda3/envs/diffractem_env/lib/python3.10/site-packages/numpy/core/fromnumeric.py:3504: RuntimeWarning: Mean of empty slice.\n",
      "  return _methods._mean(a, axis=axis, dtype=dtype,\n",
      "/root/anaconda3/envs/diffractem_env/lib/python3.10/site-packages/numpy/core/_methods.py:129: RuntimeWarning: invalid value encountered in scalar divide\n",
      "  ret = ret.dtype.type(ret / rcount)\n",
      "/root/anaconda3/envs/diffractem_env/lib/python3.10/site-packages/numpy/core/_methods.py:206: RuntimeWarning: Degrees of freedom <= 0 for slice\n",
      "  ret = _var(a, axis=axis, dtype=dtype, out=out, ddof=ddof,\n",
      "/root/anaconda3/envs/diffractem_env/lib/python3.10/site-packages/numpy/core/_methods.py:163: RuntimeWarning: invalid value encountered in divide\n",
      "  arrmean = um.true_divide(arrmean, div, out=arrmean,\n",
      "/root/anaconda3/envs/diffractem_env/lib/python3.10/site-packages/numpy/core/_methods.py:198: RuntimeWarning: invalid value encountered in scalar divide\n",
      "  ret = ret.dtype.type(ret / rcount)\n",
      "Processing chunks in UOX_-512.01_-512.0.stream:   0%|          | 12/26138 [00:00<03:39, 119.18chunk/s]/root/anaconda3/envs/diffractem_env/lib/python3.10/site-packages/numpy/core/fromnumeric.py:3504: RuntimeWarning: Mean of empty slice.\n",
      "  return _methods._mean(a, axis=axis, dtype=dtype,\n",
      "/root/anaconda3/envs/diffractem_env/lib/python3.10/site-packages/numpy/core/_methods.py:129: RuntimeWarning: invalid value encountered in scalar divide\n",
      "  ret = ret.dtype.type(ret / rcount)\n",
      "Processing chunks in UOX_-512.01_-512.01.stream:   0%|          | 10/26138 [00:00<04:22, 99.51chunk/s]/root/anaconda3/envs/diffractem_env/lib/python3.10/site-packages/numpy/core/_methods.py:206: RuntimeWarning: Degrees of freedom <= 0 for slice\n",
      "  ret = _var(a, axis=axis, dtype=dtype, out=out, ddof=ddof,\n",
      "/root/anaconda3/envs/diffractem_env/lib/python3.10/site-packages/numpy/core/_methods.py:163: RuntimeWarning: invalid value encountered in divide\n",
      "  arrmean = um.true_divide(arrmean, div, out=arrmean,\n",
      "/root/anaconda3/envs/diffractem_env/lib/python3.10/site-packages/numpy/core/_methods.py:198: RuntimeWarning: invalid value encountered in scalar divide\n",
      "  ret = ret.dtype.type(ret / rcount)\n",
      "Processing chunks in UOX_-512.0_-511.99.stream: 100%|██████████| 26138/26138 [06:02<00:00, 72.15chunk/s]] \n",
      "Processing chunks in UOX_-511.99_-512.01.stream: 100%|██████████| 26138/26138 [06:04<00:00, 71.62chunk/s] \n",
      "Processing chunks in UOX_-512.01_-512.01.stream: 100%|██████████| 26138/26138 [06:05<00:00, 71.50chunk/s] \n",
      "Processing chunks in UOX_-512.0_-512.01.stream: 100%|██████████| 26138/26138 [06:07<00:00, 71.16chunk/s]]\n",
      "Processing chunks in UOX_-512_-512.stream: 100%|██████████| 26138/26138 [06:08<00:00, 70.94chunk/s]unk/s] \n",
      "Processing chunks in UOX_-511.99_-511.99.stream: 100%|██████████| 26138/26138 [06:09<00:00, 70.83chunk/s]\n",
      "Processing chunks in UOX_-512.01_-511.99.stream: 100%|██████████| 26138/26138 [06:11<00:00, 70.38chunk/s] \n",
      "Processing chunks in UOX_-511.99_-512.0.stream: 100%|██████████| 26138/26138 [06:13<00:00, 69.94chunk/s]]\n",
      "Processing chunks in UOX_-512.01_-512.0.stream: 100%|██████████| 26138/26138 [06:14<00:00, 69.71chunk/s] \n"
     ]
    },
    {
     "name": "stdout",
     "output_type": "stream",
     "text": [
      "Combined metrics CSV written to /home/buster/UOX123/3x3_retry/combined_metrics_IQM_4_3_3_-2_1_-2_5_3_-1.csv\n",
      "Best results stream file written to /home/buster/UOX123/3x3_retry/best_results_IQM_4_3_3_-2_1_-2_5_3_-1.stream\n",
      "Writing .sol file from stream: /home/buster/UOX123/3x3_retry/best_results_IQM_4_3_3_-2_1_-2_5_3_-1.stream\n",
      "Bash script generated: /home/buster/UOX123/3x3_retry/IQM_4_3_3_-2_1_-2_5_3_-1.sh\n",
      "Running fast integration...\n"
     ]
    },
    {
     "name": "stderr",
     "output_type": "stream",
     "text": [
      "Writing integration output stream: 100%|██████████| 23914/23914 [05:39<00:00, 70.54lines/s]\n"
     ]
    },
    {
     "name": "stdout",
     "output_type": "stream",
     "text": [
      "Integration executed successfully\n",
      "Merging fast integration results...\n",
      "Running partialator for stream file: /home/buster/UOX123/3x3_retry/IQM_4_3_3_-2_1_-2_5_3_-1/int_rings_3-4-7.stream\n"
     ]
    },
    {
     "name": "stderr",
     "output_type": "stream",
     "text": [
      "Partialator Progress: 100%|██████████| 5/5 [09:30<00:00, 114.04s/Residuals]\n"
     ]
    },
    {
     "name": "stdout",
     "output_type": "stream",
     "text": [
      "Partialator completed for stream file: /home/buster/UOX123/3x3_retry/IQM_4_3_3_-2_1_-2_5_3_-1/int_rings_3-4-7.stream\n",
      "Converting crystfel.hkl to output.mtz in directory: /home/buster/UOX123/3x3_retry/IQM_4_3_3_-2_1_-2_5_3_-1/merge_3_iter_int_rings_3-4-7\n",
      "Conversion to output.mtz completed for directory: /home/buster/UOX123/3x3_retry/IQM_4_3_3_-2_1_-2_5_3_-1/merge_3_iter_int_rings_3-4-7\n",
      "Merging Complete for int_rings_3-4-7\n",
      "Refining fast integration results...\n",
      "Processing folder: /home/buster/UOX123/3x3_retry/IQM_4_3_3_-2_1_-2_5_3_-1/merge_3_iter_int_rings_3-4-7\n"
     ]
    },
    {
     "name": "stderr",
     "output_type": "stream",
     "text": [
      "Refmac5 CGMAT cycles: 100%|██████████| 30/30 [01:11<00:00,  2.37s/cycle]"
     ]
    },
    {
     "name": "stdout",
     "output_type": "stream",
     "text": [
      "Automation process completed successfully for exponents: [4, 3, 3, -2, 1, -2, 5, 3, -1]\n",
      "Evaluating multiple stream files with exponents: [2, 4, 4, -1, 2, -3, 3, 1, -1]\n"
     ]
    },
    {
     "name": "stderr",
     "output_type": "stream",
     "text": [
      "\n",
      "Processing chunks in UOX_-512.0_-511.99.stream:   0%|          | 0/26138 [00:00<?, ?chunk/s]/root/anaconda3/envs/diffractem_env/lib/python3.10/site-packages/numpy/core/fromnumeric.py:3504: RuntimeWarning: Mean of empty slice.\n",
      "  return _methods._mean(a, axis=axis, dtype=dtype,\n",
      "/root/anaconda3/envs/diffractem_env/lib/python3.10/site-packages/numpy/core/_methods.py:129: RuntimeWarning: invalid value encountered in scalar divide\n",
      "  ret = ret.dtype.type(ret / rcount)\n",
      "/root/anaconda3/envs/diffractem_env/lib/python3.10/site-packages/numpy/core/_methods.py:206: RuntimeWarning: Degrees of freedom <= 0 for slice\n",
      "  ret = _var(a, axis=axis, dtype=dtype, out=out, ddof=ddof,\n",
      "/root/anaconda3/envs/diffractem_env/lib/python3.10/site-packages/numpy/core/fromnumeric.py:3504: RuntimeWarning: Mean of empty slice.\n",
      "  return _methods._mean(a, axis=axis, dtype=dtype,\n",
      "/root/anaconda3/envs/diffractem_env/lib/python3.10/site-packages/numpy/core/_methods.py:163: RuntimeWarning: invalid value encountered in divide\n",
      "  arrmean = um.true_divide(arrmean, div, out=arrmean,\n",
      "/root/anaconda3/envs/diffractem_env/lib/python3.10/site-packages/numpy/core/_methods.py:129: RuntimeWarning: invalid value encountered in scalar divide\n",
      "  ret = ret.dtype.type(ret / rcount)\n",
      "/root/anaconda3/envs/diffractem_env/lib/python3.10/site-packages/numpy/core/_methods.py:198: RuntimeWarning: invalid value encountered in scalar divide\n",
      "  ret = ret.dtype.type(ret / rcount)\n",
      "/root/anaconda3/envs/diffractem_env/lib/python3.10/site-packages/numpy/core/_methods.py:206: RuntimeWarning: Degrees of freedom <= 0 for slice\n",
      "  ret = _var(a, axis=axis, dtype=dtype, out=out, ddof=ddof,\n",
      "/root/anaconda3/envs/diffractem_env/lib/python3.10/site-packages/numpy/core/_methods.py:163: RuntimeWarning: invalid value encountered in divide\n",
      "  arrmean = um.true_divide(arrmean, div, out=arrmean,\n",
      "/root/anaconda3/envs/diffractem_env/lib/python3.10/site-packages/numpy/core/_methods.py:198: RuntimeWarning: invalid value encountered in scalar divide\n",
      "  ret = ret.dtype.type(ret / rcount)\n",
      "Processing chunks in UOX_-512_-512.stream:   0%|          | 0/26138 [00:00<?, ?chunk/s]/root/anaconda3/envs/diffractem_env/lib/python3.10/site-packages/numpy/core/fromnumeric.py:3504: RuntimeWarning: Mean of empty slice.\n",
      "  return _methods._mean(a, axis=axis, dtype=dtype,\n",
      "/root/anaconda3/envs/diffractem_env/lib/python3.10/site-packages/numpy/core/_methods.py:129: RuntimeWarning: invalid value encountered in scalar divide\n",
      "  ret = ret.dtype.type(ret / rcount)\n",
      "/root/anaconda3/envs/diffractem_env/lib/python3.10/site-packages/numpy/core/_methods.py:206: RuntimeWarning: Degrees of freedom <= 0 for slice\n",
      "  ret = _var(a, axis=axis, dtype=dtype, out=out, ddof=ddof,\n",
      "/root/anaconda3/envs/diffractem_env/lib/python3.10/site-packages/numpy/core/_methods.py:163: RuntimeWarning: invalid value encountered in divide\n",
      "  arrmean = um.true_divide(arrmean, div, out=arrmean,\n",
      "/root/anaconda3/envs/diffractem_env/lib/python3.10/site-packages/numpy/core/_methods.py:198: RuntimeWarning: invalid value encountered in scalar divide\n",
      "  ret = ret.dtype.type(ret / rcount)\n",
      "Processing chunks in UOX_-511.99_-511.99.stream:   0%|          | 0/26138 [00:00<?, ?chunk/s]/root/anaconda3/envs/diffractem_env/lib/python3.10/site-packages/numpy/core/fromnumeric.py:3504: RuntimeWarning: Mean of empty slice.\n",
      "  return _methods._mean(a, axis=axis, dtype=dtype,\n",
      "/root/anaconda3/envs/diffractem_env/lib/python3.10/site-packages/numpy/core/_methods.py:129: RuntimeWarning: invalid value encountered in scalar divide\n",
      "  ret = ret.dtype.type(ret / rcount)\n",
      "/root/anaconda3/envs/diffractem_env/lib/python3.10/site-packages/numpy/core/_methods.py:206: RuntimeWarning: Degrees of freedom <= 0 for slice\n",
      "  ret = _var(a, axis=axis, dtype=dtype, out=out, ddof=ddof,\n",
      "/root/anaconda3/envs/diffractem_env/lib/python3.10/site-packages/numpy/core/_methods.py:163: RuntimeWarning: invalid value encountered in divide\n",
      "  arrmean = um.true_divide(arrmean, div, out=arrmean,\n",
      "/root/anaconda3/envs/diffractem_env/lib/python3.10/site-packages/numpy/core/_methods.py:198: RuntimeWarning: invalid value encountered in scalar divide\n",
      "  ret = ret.dtype.type(ret / rcount)\n",
      "Processing chunks in UOX_-511.99_-512.0.stream:   0%|          | 0/26138 [00:00<?, ?chunk/s]/root/anaconda3/envs/diffractem_env/lib/python3.10/site-packages/numpy/core/fromnumeric.py:3504: RuntimeWarning: Mean of empty slice.\n",
      "  return _methods._mean(a, axis=axis, dtype=dtype,\n",
      "/root/anaconda3/envs/diffractem_env/lib/python3.10/site-packages/numpy/core/_methods.py:129: RuntimeWarning: invalid value encountered in scalar divide\n",
      "  ret = ret.dtype.type(ret / rcount)\n",
      "/root/anaconda3/envs/diffractem_env/lib/python3.10/site-packages/numpy/core/_methods.py:206: RuntimeWarning: Degrees of freedom <= 0 for slice\n",
      "  ret = _var(a, axis=axis, dtype=dtype, out=out, ddof=ddof,\n",
      "/root/anaconda3/envs/diffractem_env/lib/python3.10/site-packages/numpy/core/_methods.py:163: RuntimeWarning: invalid value encountered in divide\n",
      "  arrmean = um.true_divide(arrmean, div, out=arrmean,\n",
      "/root/anaconda3/envs/diffractem_env/lib/python3.10/site-packages/numpy/core/_methods.py:198: RuntimeWarning: invalid value encountered in scalar divide\n",
      "  ret = ret.dtype.type(ret / rcount)\n",
      "Processing chunks in UOX_-512.01_-512.01.stream:   0%|          | 0/26138 [00:00<?, ?chunk/s]/root/anaconda3/envs/diffractem_env/lib/python3.10/site-packages/numpy/core/fromnumeric.py:3504: RuntimeWarning: Mean of empty slice.\n",
      "  return _methods._mean(a, axis=axis, dtype=dtype,\n",
      "/root/anaconda3/envs/diffractem_env/lib/python3.10/site-packages/numpy/core/_methods.py:129: RuntimeWarning: invalid value encountered in scalar divide\n",
      "  ret = ret.dtype.type(ret / rcount)\n",
      "/root/anaconda3/envs/diffractem_env/lib/python3.10/site-packages/numpy/core/_methods.py:206: RuntimeWarning: Degrees of freedom <= 0 for slice\n",
      "  ret = _var(a, axis=axis, dtype=dtype, out=out, ddof=ddof,\n",
      "/root/anaconda3/envs/diffractem_env/lib/python3.10/site-packages/numpy/core/_methods.py:163: RuntimeWarning: invalid value encountered in divide\n",
      "  arrmean = um.true_divide(arrmean, div, out=arrmean,\n",
      "/root/anaconda3/envs/diffractem_env/lib/python3.10/site-packages/numpy/core/_methods.py:198: RuntimeWarning: invalid value encountered in scalar divide\n",
      "  ret = ret.dtype.type(ret / rcount)\n",
      "Processing chunks in UOX_-512.01_-512.0.stream:   0%|          | 0/26138 [00:00<?, ?chunk/s]/root/anaconda3/envs/diffractem_env/lib/python3.10/site-packages/numpy/core/fromnumeric.py:3504: RuntimeWarning: Mean of empty slice.\n",
      "  return _methods._mean(a, axis=axis, dtype=dtype,\n",
      "/root/anaconda3/envs/diffractem_env/lib/python3.10/site-packages/numpy/core/_methods.py:129: RuntimeWarning: invalid value encountered in scalar divide\n",
      "  ret = ret.dtype.type(ret / rcount)\n",
      "/root/anaconda3/envs/diffractem_env/lib/python3.10/site-packages/numpy/core/_methods.py:206: RuntimeWarning: Degrees of freedom <= 0 for slice\n",
      "  ret = _var(a, axis=axis, dtype=dtype, out=out, ddof=ddof,\n",
      "/root/anaconda3/envs/diffractem_env/lib/python3.10/site-packages/numpy/core/_methods.py:163: RuntimeWarning: invalid value encountered in divide\n",
      "  arrmean = um.true_divide(arrmean, div, out=arrmean,\n",
      "/root/anaconda3/envs/diffractem_env/lib/python3.10/site-packages/numpy/core/_methods.py:198: RuntimeWarning: invalid value encountered in scalar divide\n",
      "  ret = ret.dtype.type(ret / rcount)\n",
      "Processing chunks in UOX_-512.01_-511.99.stream:   0%|          | 0/26138 [00:00<?, ?chunk/s]9chunk/s]/root/anaconda3/envs/diffractem_env/lib/python3.10/site-packages/numpy/core/fromnumeric.py:3504: RuntimeWarning: Mean of empty slice.\n",
      "  return _methods._mean(a, axis=axis, dtype=dtype,\n",
      "/root/anaconda3/envs/diffractem_env/lib/python3.10/site-packages/numpy/core/_methods.py:129: RuntimeWarning: invalid value encountered in scalar divide\n",
      "  ret = ret.dtype.type(ret / rcount)\n",
      "/root/anaconda3/envs/diffractem_env/lib/python3.10/site-packages/numpy/core/_methods.py:206: RuntimeWarning: Degrees of freedom <= 0 for slice\n",
      "  ret = _var(a, axis=axis, dtype=dtype, out=out, ddof=ddof,\n",
      "/root/anaconda3/envs/diffractem_env/lib/python3.10/site-packages/numpy/core/_methods.py:163: RuntimeWarning: invalid value encountered in divide\n",
      "  arrmean = um.true_divide(arrmean, div, out=arrmean,\n",
      "/root/anaconda3/envs/diffractem_env/lib/python3.10/site-packages/numpy/core/_methods.py:198: RuntimeWarning: invalid value encountered in scalar divide\n",
      "  ret = ret.dtype.type(ret / rcount)\n",
      "Processing chunks in UOX_-511.99_-512.01.stream:   0%|          | 0/26138 [00:00<?, ?chunk/s]9chunk/s]/root/anaconda3/envs/diffractem_env/lib/python3.10/site-packages/numpy/core/fromnumeric.py:3504: RuntimeWarning: Mean of empty slice.\n",
      "  return _methods._mean(a, axis=axis, dtype=dtype,\n",
      "Processing chunks in UOX_-512_-512.stream:   0%|          | 12/26138 [00:00<04:04, 106.96chunk/s]/root/anaconda3/envs/diffractem_env/lib/python3.10/site-packages/numpy/core/_methods.py:129: RuntimeWarning: invalid value encountered in scalar divide\n",
      "  ret = ret.dtype.type(ret / rcount)\n",
      "/root/anaconda3/envs/diffractem_env/lib/python3.10/site-packages/numpy/core/_methods.py:206: RuntimeWarning: Degrees of freedom <= 0 for slice\n",
      "  ret = _var(a, axis=axis, dtype=dtype, out=out, ddof=ddof,\n",
      "/root/anaconda3/envs/diffractem_env/lib/python3.10/site-packages/numpy/core/_methods.py:163: RuntimeWarning: invalid value encountered in divide\n",
      "  arrmean = um.true_divide(arrmean, div, out=arrmean,\n",
      "/root/anaconda3/envs/diffractem_env/lib/python3.10/site-packages/numpy/core/_methods.py:198: RuntimeWarning: invalid value encountered in scalar divide\n",
      "  ret = ret.dtype.type(ret / rcount)\n",
      "Processing chunks in UOX_-512.0_-511.99.stream: 100%|██████████| 26138/26138 [06:00<00:00, 72.47chunk/s]] \n",
      "Processing chunks in UOX_-511.99_-512.01.stream: 100%|██████████| 26138/26138 [06:03<00:00, 71.92chunk/s] \n",
      "Processing chunks in UOX_-512_-512.stream: 100%|██████████| 26138/26138 [06:04<00:00, 71.75chunk/s] k/s]]\n",
      "Processing chunks in UOX_-512.0_-512.01.stream: 100%|██████████| 26138/26138 [06:05<00:00, 71.59chunk/s]]\n",
      "Processing chunks in UOX_-512.01_-511.99.stream: 100%|██████████| 26138/26138 [06:06<00:00, 71.33chunk/s] \n",
      "Processing chunks in UOX_-512.01_-512.01.stream: 100%|██████████| 26138/26138 [06:07<00:00, 71.22chunk/s] \n",
      "Processing chunks in UOX_-511.99_-512.0.stream: 100%|██████████| 26138/26138 [06:07<00:00, 71.19chunk/s]]\n",
      "Processing chunks in UOX_-512.01_-512.0.stream: 100%|██████████| 26138/26138 [06:08<00:00, 70.98chunk/s]  \n",
      "Processing chunks in UOX_-511.99_-511.99.stream: 100%|██████████| 26138/26138 [06:08<00:00, 70.87chunk/s]\n"
     ]
    },
    {
     "name": "stdout",
     "output_type": "stream",
     "text": [
      "Combined metrics CSV written to /home/buster/UOX123/3x3_retry/combined_metrics_IQM_2_4_4_-1_2_-3_3_1_-1.csv\n",
      "Best results stream file written to /home/buster/UOX123/3x3_retry/best_results_IQM_2_4_4_-1_2_-3_3_1_-1.stream\n",
      "Writing .sol file from stream: /home/buster/UOX123/3x3_retry/best_results_IQM_2_4_4_-1_2_-3_3_1_-1.stream\n",
      "Bash script generated: /home/buster/UOX123/3x3_retry/IQM_2_4_4_-1_2_-3_3_1_-1.sh\n",
      "Running fast integration...\n"
     ]
    },
    {
     "name": "stderr",
     "output_type": "stream",
     "text": [
      "Writing integration output stream: 100%|██████████| 23914/23914 [05:42<00:00, 69.76lines/s]\n"
     ]
    },
    {
     "name": "stdout",
     "output_type": "stream",
     "text": [
      "Integration executed successfully\n",
      "Merging fast integration results...\n",
      "Running partialator for stream file: /home/buster/UOX123/3x3_retry/IQM_2_4_4_-1_2_-3_3_1_-1/int_rings_3-4-7.stream\n"
     ]
    },
    {
     "name": "stderr",
     "output_type": "stream",
     "text": [
      "Partialator Progress: 100%|██████████| 5/5 [09:56<00:00, 119.26s/Residuals]\n"
     ]
    },
    {
     "name": "stdout",
     "output_type": "stream",
     "text": [
      "Partialator completed for stream file: /home/buster/UOX123/3x3_retry/IQM_2_4_4_-1_2_-3_3_1_-1/int_rings_3-4-7.stream\n",
      "Converting crystfel.hkl to output.mtz in directory: /home/buster/UOX123/3x3_retry/IQM_2_4_4_-1_2_-3_3_1_-1/merge_3_iter_int_rings_3-4-7\n",
      "Conversion to output.mtz completed for directory: /home/buster/UOX123/3x3_retry/IQM_2_4_4_-1_2_-3_3_1_-1/merge_3_iter_int_rings_3-4-7\n",
      "Merging Complete for int_rings_3-4-7\n",
      "Refining fast integration results...\n",
      "Processing folder: /home/buster/UOX123/3x3_retry/IQM_2_4_4_-1_2_-3_3_1_-1/merge_3_iter_int_rings_3-4-7\n"
     ]
    },
    {
     "name": "stderr",
     "output_type": "stream",
     "text": [
      "Refmac5 CGMAT cycles: 100%|██████████| 30/30 [01:13<00:00,  2.44s/cycle]"
     ]
    },
    {
     "name": "stdout",
     "output_type": "stream",
     "text": [
      "Automation process completed successfully for exponents: [2, 4, 4, -1, 2, -3, 3, 1, -1]\n",
      "Evaluating multiple stream files with exponents: [1, 2, 3, -1, 1, -2, 1, 1, -1]\n"
     ]
    },
    {
     "name": "stderr",
     "output_type": "stream",
     "text": [
      "\n",
      "Processing chunks in UOX_-512.01_-512.0.stream:   0%|          | 0/26138 [00:00<?, ?chunk/s]]/root/anaconda3/envs/diffractem_env/lib/python3.10/site-packages/numpy/core/fromnumeric.py:3504: RuntimeWarning: Mean of empty slice.\n",
      "  return _methods._mean(a, axis=axis, dtype=dtype,\n",
      "/root/anaconda3/envs/diffractem_env/lib/python3.10/site-packages/numpy/core/fromnumeric.py:3504: RuntimeWarning: Mean of empty slice.\n",
      "  return _methods._mean(a, axis=axis, dtype=dtype,\n",
      "/root/anaconda3/envs/diffractem_env/lib/python3.10/site-packages/numpy/core/_methods.py:129: RuntimeWarning: invalid value encountered in scalar divide\n",
      "  ret = ret.dtype.type(ret / rcount)\n",
      "/root/anaconda3/envs/diffractem_env/lib/python3.10/site-packages/numpy/core/_methods.py:129: RuntimeWarning: invalid value encountered in scalar divide\n",
      "  ret = ret.dtype.type(ret / rcount)\n",
      "Processing chunks in UOX_-511.99_-511.99.stream:   0%|          | 0/26138 [00:00<?, ?chunk/s]/root/anaconda3/envs/diffractem_env/lib/python3.10/site-packages/numpy/core/_methods.py:206: RuntimeWarning: Degrees of freedom <= 0 for slice\n",
      "  ret = _var(a, axis=axis, dtype=dtype, out=out, ddof=ddof,\n",
      "/root/anaconda3/envs/diffractem_env/lib/python3.10/site-packages/numpy/core/_methods.py:206: RuntimeWarning: Degrees of freedom <= 0 for slice\n",
      "  ret = _var(a, axis=axis, dtype=dtype, out=out, ddof=ddof,\n",
      "/root/anaconda3/envs/diffractem_env/lib/python3.10/site-packages/numpy/core/fromnumeric.py:3504: RuntimeWarning: Mean of empty slice.\n",
      "  return _methods._mean(a, axis=axis, dtype=dtype,\n",
      "/root/anaconda3/envs/diffractem_env/lib/python3.10/site-packages/numpy/core/_methods.py:163: RuntimeWarning: invalid value encountered in divide\n",
      "  arrmean = um.true_divide(arrmean, div, out=arrmean,\n",
      "/root/anaconda3/envs/diffractem_env/lib/python3.10/site-packages/numpy/core/_methods.py:163: RuntimeWarning: invalid value encountered in divide\n",
      "  arrmean = um.true_divide(arrmean, div, out=arrmean,\n",
      "/root/anaconda3/envs/diffractem_env/lib/python3.10/site-packages/numpy/core/_methods.py:129: RuntimeWarning: invalid value encountered in scalar divide\n",
      "  ret = ret.dtype.type(ret / rcount)\n",
      "/root/anaconda3/envs/diffractem_env/lib/python3.10/site-packages/numpy/core/_methods.py:198: RuntimeWarning: invalid value encountered in scalar divide\n",
      "  ret = ret.dtype.type(ret / rcount)\n",
      "/root/anaconda3/envs/diffractem_env/lib/python3.10/site-packages/numpy/core/_methods.py:198: RuntimeWarning: invalid value encountered in scalar divide\n",
      "  ret = ret.dtype.type(ret / rcount)\n",
      "/root/anaconda3/envs/diffractem_env/lib/python3.10/site-packages/numpy/core/_methods.py:206: RuntimeWarning: Degrees of freedom <= 0 for slice\n",
      "  ret = _var(a, axis=axis, dtype=dtype, out=out, ddof=ddof,\n",
      "/root/anaconda3/envs/diffractem_env/lib/python3.10/site-packages/numpy/core/fromnumeric.py:3504: RuntimeWarning: Mean of empty slice.\n",
      "  return _methods._mean(a, axis=axis, dtype=dtype,\n",
      "/root/anaconda3/envs/diffractem_env/lib/python3.10/site-packages/numpy/core/_methods.py:163: RuntimeWarning: invalid value encountered in divide\n",
      "  arrmean = um.true_divide(arrmean, div, out=arrmean,\n",
      "/root/anaconda3/envs/diffractem_env/lib/python3.10/site-packages/numpy/core/_methods.py:129: RuntimeWarning: invalid value encountered in scalar divide\n",
      "  ret = ret.dtype.type(ret / rcount)\n",
      "/root/anaconda3/envs/diffractem_env/lib/python3.10/site-packages/numpy/core/_methods.py:198: RuntimeWarning: invalid value encountered in scalar divide\n",
      "  ret = ret.dtype.type(ret / rcount)\n",
      "/root/anaconda3/envs/diffractem_env/lib/python3.10/site-packages/numpy/core/_methods.py:206: RuntimeWarning: Degrees of freedom <= 0 for slice\n",
      "  ret = _var(a, axis=axis, dtype=dtype, out=out, ddof=ddof,\n",
      "/root/anaconda3/envs/diffractem_env/lib/python3.10/site-packages/numpy/core/_methods.py:163: RuntimeWarning: invalid value encountered in divide\n",
      "  arrmean = um.true_divide(arrmean, div, out=arrmean,\n",
      "/root/anaconda3/envs/diffractem_env/lib/python3.10/site-packages/numpy/core/_methods.py:198: RuntimeWarning: invalid value encountered in scalar divide\n",
      "  ret = ret.dtype.type(ret / rcount)\n",
      "Processing chunks in UOX_-512.01_-511.99.stream:   0%|          | 0/26138 [00:00<?, ?chunk/s]/root/anaconda3/envs/diffractem_env/lib/python3.10/site-packages/numpy/core/fromnumeric.py:3504: RuntimeWarning: Mean of empty slice.\n",
      "  return _methods._mean(a, axis=axis, dtype=dtype,\n",
      "/root/anaconda3/envs/diffractem_env/lib/python3.10/site-packages/numpy/core/_methods.py:129: RuntimeWarning: invalid value encountered in scalar divide\n",
      "  ret = ret.dtype.type(ret / rcount)\n",
      "/root/anaconda3/envs/diffractem_env/lib/python3.10/site-packages/numpy/core/fromnumeric.py:3504: RuntimeWarning: Mean of empty slice.\n",
      "  return _methods._mean(a, axis=axis, dtype=dtype,\n",
      "/root/anaconda3/envs/diffractem_env/lib/python3.10/site-packages/numpy/core/_methods.py:206: RuntimeWarning: Degrees of freedom <= 0 for slice\n",
      "  ret = _var(a, axis=axis, dtype=dtype, out=out, ddof=ddof,\n",
      "/root/anaconda3/envs/diffractem_env/lib/python3.10/site-packages/numpy/core/_methods.py:129: RuntimeWarning: invalid value encountered in scalar divide\n",
      "  ret = ret.dtype.type(ret / rcount)\n",
      "/root/anaconda3/envs/diffractem_env/lib/python3.10/site-packages/numpy/core/_methods.py:163: RuntimeWarning: invalid value encountered in divide\n",
      "  arrmean = um.true_divide(arrmean, div, out=arrmean,\n",
      "/root/anaconda3/envs/diffractem_env/lib/python3.10/site-packages/numpy/core/_methods.py:206: RuntimeWarning: Degrees of freedom <= 0 for slice\n",
      "  ret = _var(a, axis=axis, dtype=dtype, out=out, ddof=ddof,\n",
      "/root/anaconda3/envs/diffractem_env/lib/python3.10/site-packages/numpy/core/_methods.py:198: RuntimeWarning: invalid value encountered in scalar divide\n",
      "  ret = ret.dtype.type(ret / rcount)\n",
      "/root/anaconda3/envs/diffractem_env/lib/python3.10/site-packages/numpy/core/_methods.py:163: RuntimeWarning: invalid value encountered in divide\n",
      "  arrmean = um.true_divide(arrmean, div, out=arrmean,\n",
      "/root/anaconda3/envs/diffractem_env/lib/python3.10/site-packages/numpy/core/_methods.py:198: RuntimeWarning: invalid value encountered in scalar divide\n",
      "  ret = ret.dtype.type(ret / rcount)\n",
      "Processing chunks in UOX_-512.0_-511.99.stream:   0%|          | 0/26138 [00:00<?, ?chunk/s]/root/anaconda3/envs/diffractem_env/lib/python3.10/site-packages/numpy/core/fromnumeric.py:3504: RuntimeWarning: Mean of empty slice.\n",
      "  return _methods._mean(a, axis=axis, dtype=dtype,\n",
      "/root/anaconda3/envs/diffractem_env/lib/python3.10/site-packages/numpy/core/_methods.py:129: RuntimeWarning: invalid value encountered in scalar divide\n",
      "  ret = ret.dtype.type(ret / rcount)\n",
      "/root/anaconda3/envs/diffractem_env/lib/python3.10/site-packages/numpy/core/_methods.py:206: RuntimeWarning: Degrees of freedom <= 0 for slice\n",
      "  ret = _var(a, axis=axis, dtype=dtype, out=out, ddof=ddof,\n",
      "/root/anaconda3/envs/diffractem_env/lib/python3.10/site-packages/numpy/core/_methods.py:163: RuntimeWarning: invalid value encountered in divide\n",
      "  arrmean = um.true_divide(arrmean, div, out=arrmean,\n",
      "/root/anaconda3/envs/diffractem_env/lib/python3.10/site-packages/numpy/core/_methods.py:198: RuntimeWarning: invalid value encountered in scalar divide\n",
      "  ret = ret.dtype.type(ret / rcount)\n",
      "Processing chunks in UOX_-512.01_-512.01.stream:   0%|          | 0/26138 [00:00<?, ?chunk/s]/root/anaconda3/envs/diffractem_env/lib/python3.10/site-packages/numpy/core/fromnumeric.py:3504: RuntimeWarning: Mean of empty slice.\n",
      "  return _methods._mean(a, axis=axis, dtype=dtype,\n",
      "/root/anaconda3/envs/diffractem_env/lib/python3.10/site-packages/numpy/core/_methods.py:129: RuntimeWarning: invalid value encountered in scalar divide\n",
      "  ret = ret.dtype.type(ret / rcount)\n",
      "/root/anaconda3/envs/diffractem_env/lib/python3.10/site-packages/numpy/core/_methods.py:206: RuntimeWarning: Degrees of freedom <= 0 for slice\n",
      "  ret = _var(a, axis=axis, dtype=dtype, out=out, ddof=ddof,\n",
      "/root/anaconda3/envs/diffractem_env/lib/python3.10/site-packages/numpy/core/_methods.py:163: RuntimeWarning: invalid value encountered in divide\n",
      "  arrmean = um.true_divide(arrmean, div, out=arrmean,\n",
      "/root/anaconda3/envs/diffractem_env/lib/python3.10/site-packages/numpy/core/_methods.py:198: RuntimeWarning: invalid value encountered in scalar divide\n",
      "  ret = ret.dtype.type(ret / rcount)\n",
      "Processing chunks in UOX_-512_-512.stream:   0%|          | 0/26138 [00:00<?, ?chunk/s]/root/anaconda3/envs/diffractem_env/lib/python3.10/site-packages/numpy/core/fromnumeric.py:3504: RuntimeWarning: Mean of empty slice.\n",
      "  return _methods._mean(a, axis=axis, dtype=dtype,\n",
      "/root/anaconda3/envs/diffractem_env/lib/python3.10/site-packages/numpy/core/_methods.py:129: RuntimeWarning: invalid value encountered in scalar divide\n",
      "  ret = ret.dtype.type(ret / rcount)\n",
      "/root/anaconda3/envs/diffractem_env/lib/python3.10/site-packages/numpy/core/_methods.py:206: RuntimeWarning: Degrees of freedom <= 0 for slice\n",
      "  ret = _var(a, axis=axis, dtype=dtype, out=out, ddof=ddof,\n",
      "/root/anaconda3/envs/diffractem_env/lib/python3.10/site-packages/numpy/core/_methods.py:163: RuntimeWarning: invalid value encountered in divide\n",
      "  arrmean = um.true_divide(arrmean, div, out=arrmean,\n",
      "/root/anaconda3/envs/diffractem_env/lib/python3.10/site-packages/numpy/core/_methods.py:198: RuntimeWarning: invalid value encountered in scalar divide\n",
      "  ret = ret.dtype.type(ret / rcount)\n",
      "Processing chunks in UOX_-512.0_-511.99.stream: 100%|██████████| 26138/26138 [06:00<00:00, 72.55chunk/s]]]\n",
      "Processing chunks in UOX_-511.99_-512.01.stream: 100%|██████████| 26138/26138 [06:03<00:00, 71.99chunk/s] \n",
      "Processing chunks in UOX_-511.99_-511.99.stream: 100%|██████████| 26138/26138 [06:06<00:00, 71.38chunk/s]]\n",
      "Processing chunks in UOX_-512.01_-512.01.stream: 100%|██████████| 26138/26138 [06:06<00:00, 71.39chunk/s] \n",
      "Processing chunks in UOX_-512_-512.stream: 100%|██████████| 26138/26138 [06:06<00:00, 71.37chunk/s] k/s]]\n",
      "Processing chunks in UOX_-511.99_-512.0.stream: 100%|██████████| 26138/26138 [06:07<00:00, 71.04chunk/s]] \n",
      "Processing chunks in UOX_-512.0_-512.01.stream: 100%|██████████| 26138/26138 [06:08<00:00, 70.99chunk/s]s]\n",
      "Processing chunks in UOX_-512.01_-511.99.stream: 100%|██████████| 26138/26138 [06:08<00:00, 70.99chunk/s] \n",
      "Processing chunks in UOX_-512.01_-512.0.stream: 100%|██████████| 26138/26138 [06:11<00:00, 70.41chunk/s] \n"
     ]
    },
    {
     "name": "stdout",
     "output_type": "stream",
     "text": [
      "Combined metrics CSV written to /home/buster/UOX123/3x3_retry/combined_metrics_IQM_1_2_3_-1_1_-2_1_1_-1.csv\n",
      "Best results stream file written to /home/buster/UOX123/3x3_retry/best_results_IQM_1_2_3_-1_1_-2_1_1_-1.stream\n",
      "Writing .sol file from stream: /home/buster/UOX123/3x3_retry/best_results_IQM_1_2_3_-1_1_-2_1_1_-1.stream\n",
      "Bash script generated: /home/buster/UOX123/3x3_retry/IQM_1_2_3_-1_1_-2_1_1_-1.sh\n",
      "Running fast integration...\n"
     ]
    },
    {
     "name": "stderr",
     "output_type": "stream",
     "text": [
      "Writing integration output stream: 100%|██████████| 23914/23914 [05:45<00:00, 69.13lines/s]\n"
     ]
    },
    {
     "name": "stdout",
     "output_type": "stream",
     "text": [
      "Integration executed successfully\n",
      "Merging fast integration results...\n",
      "Running partialator for stream file: /home/buster/UOX123/3x3_retry/IQM_1_2_3_-1_1_-2_1_1_-1/int_rings_3-4-7.stream\n"
     ]
    },
    {
     "name": "stderr",
     "output_type": "stream",
     "text": [
      "Partialator Progress: 100%|██████████| 5/5 [09:12<00:00, 110.44s/Residuals]\n"
     ]
    },
    {
     "name": "stdout",
     "output_type": "stream",
     "text": [
      "Partialator completed for stream file: /home/buster/UOX123/3x3_retry/IQM_1_2_3_-1_1_-2_1_1_-1/int_rings_3-4-7.stream\n",
      "Converting crystfel.hkl to output.mtz in directory: /home/buster/UOX123/3x3_retry/IQM_1_2_3_-1_1_-2_1_1_-1/merge_3_iter_int_rings_3-4-7\n",
      "Conversion to output.mtz completed for directory: /home/buster/UOX123/3x3_retry/IQM_1_2_3_-1_1_-2_1_1_-1/merge_3_iter_int_rings_3-4-7\n",
      "Merging Complete for int_rings_3-4-7\n",
      "Refining fast integration results...\n",
      "Processing folder: /home/buster/UOX123/3x3_retry/IQM_1_2_3_-1_1_-2_1_1_-1/merge_3_iter_int_rings_3-4-7\n"
     ]
    },
    {
     "name": "stderr",
     "output_type": "stream",
     "text": [
      "Refmac5 CGMAT cycles: 100%|██████████| 30/30 [01:12<00:00,  2.42s/cycle]"
     ]
    },
    {
     "name": "stdout",
     "output_type": "stream",
     "text": [
      "Automation process completed successfully for exponents: [1, 2, 3, -1, 1, -2, 1, 1, -1]\n",
      "Evaluating multiple stream files with exponents: [3, 7, 4, -2, 2, -1, 1, 3, -3]\n"
     ]
    },
    {
     "name": "stderr",
     "output_type": "stream",
     "text": [
      "\n",
      "Processing chunks in UOX_-511.99_-512.01.stream:   0%|          | 0/26138 [00:00<?, ?chunk/s]/root/anaconda3/envs/diffractem_env/lib/python3.10/site-packages/numpy/core/fromnumeric.py:3504: RuntimeWarning: Mean of empty slice.\n",
      "  return _methods._mean(a, axis=axis, dtype=dtype,\n",
      "/root/anaconda3/envs/diffractem_env/lib/python3.10/site-packages/numpy/core/_methods.py:129: RuntimeWarning: invalid value encountered in scalar divide\n",
      "  ret = ret.dtype.type(ret / rcount)\n",
      "Processing chunks in UOX_-511.99_-511.99.stream:   0%|          | 0/26138 [00:00<?, ?chunk/s]/root/anaconda3/envs/diffractem_env/lib/python3.10/site-packages/numpy/core/_methods.py:206: RuntimeWarning: Degrees of freedom <= 0 for slice\n",
      "  ret = _var(a, axis=axis, dtype=dtype, out=out, ddof=ddof,\n",
      "/root/anaconda3/envs/diffractem_env/lib/python3.10/site-packages/numpy/core/_methods.py:163: RuntimeWarning: invalid value encountered in divide\n",
      "  arrmean = um.true_divide(arrmean, div, out=arrmean,\n",
      "Processing chunks in UOX_-512.01_-511.99.stream:   0%|          | 0/26138 [00:00<?, ?chunk/s]/root/anaconda3/envs/diffractem_env/lib/python3.10/site-packages/numpy/core/fromnumeric.py:3504: RuntimeWarning: Mean of empty slice.\n",
      "  return _methods._mean(a, axis=axis, dtype=dtype,\n",
      "/root/anaconda3/envs/diffractem_env/lib/python3.10/site-packages/numpy/core/_methods.py:198: RuntimeWarning: invalid value encountered in scalar divide\n",
      "  ret = ret.dtype.type(ret / rcount)\n",
      "Processing chunks in UOX_-512.0_-511.99.stream:   0%|          | 0/26138 [00:00<?, ?chunk/s]/root/anaconda3/envs/diffractem_env/lib/python3.10/site-packages/numpy/core/fromnumeric.py:3504: RuntimeWarning: Mean of empty slice.\n",
      "  return _methods._mean(a, axis=axis, dtype=dtype,\n",
      "/root/anaconda3/envs/diffractem_env/lib/python3.10/site-packages/numpy/core/_methods.py:129: RuntimeWarning: invalid value encountered in scalar divide\n",
      "  ret = ret.dtype.type(ret / rcount)\n",
      "/root/anaconda3/envs/diffractem_env/lib/python3.10/site-packages/numpy/core/_methods.py:129: RuntimeWarning: invalid value encountered in scalar divide\n",
      "  ret = ret.dtype.type(ret / rcount)\n",
      "/root/anaconda3/envs/diffractem_env/lib/python3.10/site-packages/numpy/core/_methods.py:206: RuntimeWarning: Degrees of freedom <= 0 for slice\n",
      "  ret = _var(a, axis=axis, dtype=dtype, out=out, ddof=ddof,\n",
      "/root/anaconda3/envs/diffractem_env/lib/python3.10/site-packages/numpy/core/_methods.py:206: RuntimeWarning: Degrees of freedom <= 0 for slice\n",
      "  ret = _var(a, axis=axis, dtype=dtype, out=out, ddof=ddof,\n",
      "/root/anaconda3/envs/diffractem_env/lib/python3.10/site-packages/numpy/core/_methods.py:163: RuntimeWarning: invalid value encountered in divide\n",
      "  arrmean = um.true_divide(arrmean, div, out=arrmean,\n",
      "/root/anaconda3/envs/diffractem_env/lib/python3.10/site-packages/numpy/core/_methods.py:163: RuntimeWarning: invalid value encountered in divide\n",
      "  arrmean = um.true_divide(arrmean, div, out=arrmean,\n",
      "/root/anaconda3/envs/diffractem_env/lib/python3.10/site-packages/numpy/core/_methods.py:198: RuntimeWarning: invalid value encountered in scalar divide\n",
      "  ret = ret.dtype.type(ret / rcount)\n",
      "/root/anaconda3/envs/diffractem_env/lib/python3.10/site-packages/numpy/core/fromnumeric.py:3504: RuntimeWarning: Mean of empty slice.\n",
      "  return _methods._mean(a, axis=axis, dtype=dtype,\n",
      "/root/anaconda3/envs/diffractem_env/lib/python3.10/site-packages/numpy/core/_methods.py:198: RuntimeWarning: invalid value encountered in scalar divide\n",
      "  ret = ret.dtype.type(ret / rcount)\n",
      "/root/anaconda3/envs/diffractem_env/lib/python3.10/site-packages/numpy/core/_methods.py:129: RuntimeWarning: invalid value encountered in scalar divide\n",
      "  ret = ret.dtype.type(ret / rcount)\n",
      "/root/anaconda3/envs/diffractem_env/lib/python3.10/site-packages/numpy/core/_methods.py:206: RuntimeWarning: Degrees of freedom <= 0 for slice\n",
      "  ret = _var(a, axis=axis, dtype=dtype, out=out, ddof=ddof,\n",
      "/root/anaconda3/envs/diffractem_env/lib/python3.10/site-packages/numpy/core/_methods.py:163: RuntimeWarning: invalid value encountered in divide\n",
      "  arrmean = um.true_divide(arrmean, div, out=arrmean,\n",
      "/root/anaconda3/envs/diffractem_env/lib/python3.10/site-packages/numpy/core/_methods.py:198: RuntimeWarning: invalid value encountered in scalar divide\n",
      "  ret = ret.dtype.type(ret / rcount)\n",
      "Processing chunks in UOX_-512.01_-512.0.stream:   0%|          | 0/26138 [00:00<?, ?chunk/s]]/root/anaconda3/envs/diffractem_env/lib/python3.10/site-packages/numpy/core/fromnumeric.py:3504: RuntimeWarning: Mean of empty slice.\n",
      "  return _methods._mean(a, axis=axis, dtype=dtype,\n",
      "/root/anaconda3/envs/diffractem_env/lib/python3.10/site-packages/numpy/core/_methods.py:129: RuntimeWarning: invalid value encountered in scalar divide\n",
      "  ret = ret.dtype.type(ret / rcount)\n",
      "/root/anaconda3/envs/diffractem_env/lib/python3.10/site-packages/numpy/core/fromnumeric.py:3504: RuntimeWarning: Mean of empty slice.\n",
      "  return _methods._mean(a, axis=axis, dtype=dtype,\n",
      "/root/anaconda3/envs/diffractem_env/lib/python3.10/site-packages/numpy/core/_methods.py:206: RuntimeWarning: Degrees of freedom <= 0 for slice\n",
      "  ret = _var(a, axis=axis, dtype=dtype, out=out, ddof=ddof,\n",
      "/root/anaconda3/envs/diffractem_env/lib/python3.10/site-packages/numpy/core/_methods.py:129: RuntimeWarning: invalid value encountered in scalar divide\n",
      "  ret = ret.dtype.type(ret / rcount)\n",
      "/root/anaconda3/envs/diffractem_env/lib/python3.10/site-packages/numpy/core/_methods.py:163: RuntimeWarning: invalid value encountered in divide\n",
      "  arrmean = um.true_divide(arrmean, div, out=arrmean,\n",
      "/root/anaconda3/envs/diffractem_env/lib/python3.10/site-packages/numpy/core/_methods.py:206: RuntimeWarning: Degrees of freedom <= 0 for slice\n",
      "  ret = _var(a, axis=axis, dtype=dtype, out=out, ddof=ddof,\n",
      "/root/anaconda3/envs/diffractem_env/lib/python3.10/site-packages/numpy/core/_methods.py:198: RuntimeWarning: invalid value encountered in scalar divide\n",
      "  ret = ret.dtype.type(ret / rcount)\n",
      "/root/anaconda3/envs/diffractem_env/lib/python3.10/site-packages/numpy/core/_methods.py:163: RuntimeWarning: invalid value encountered in divide\n",
      "  arrmean = um.true_divide(arrmean, div, out=arrmean,\n",
      "/root/anaconda3/envs/diffractem_env/lib/python3.10/site-packages/numpy/core/_methods.py:198: RuntimeWarning: invalid value encountered in scalar divide\n",
      "  ret = ret.dtype.type(ret / rcount)\n",
      "Processing chunks in UOX_-511.99_-512.0.stream:   0%|          | 0/26138 [00:00<?, ?chunk/s]/root/anaconda3/envs/diffractem_env/lib/python3.10/site-packages/numpy/core/fromnumeric.py:3504: RuntimeWarning: Mean of empty slice.\n",
      "  return _methods._mean(a, axis=axis, dtype=dtype,\n",
      "Processing chunks in UOX_-512.0_-512.01.stream:   0%|          | 0/26138 [00:00<?, ?chunk/s]/root/anaconda3/envs/diffractem_env/lib/python3.10/site-packages/numpy/core/_methods.py:129: RuntimeWarning: invalid value encountered in scalar divide\n",
      "  ret = ret.dtype.type(ret / rcount)\n",
      "/root/anaconda3/envs/diffractem_env/lib/python3.10/site-packages/numpy/core/_methods.py:206: RuntimeWarning: Degrees of freedom <= 0 for slice\n",
      "  ret = _var(a, axis=axis, dtype=dtype, out=out, ddof=ddof,\n",
      "/root/anaconda3/envs/diffractem_env/lib/python3.10/site-packages/numpy/core/_methods.py:163: RuntimeWarning: invalid value encountered in divide\n",
      "  arrmean = um.true_divide(arrmean, div, out=arrmean,\n",
      "/root/anaconda3/envs/diffractem_env/lib/python3.10/site-packages/numpy/core/_methods.py:198: RuntimeWarning: invalid value encountered in scalar divide\n",
      "  ret = ret.dtype.type(ret / rcount)\n",
      "/root/anaconda3/envs/diffractem_env/lib/python3.10/site-packages/numpy/core/fromnumeric.py:3504: RuntimeWarning: Mean of empty slice.\n",
      "  return _methods._mean(a, axis=axis, dtype=dtype,\n",
      "/root/anaconda3/envs/diffractem_env/lib/python3.10/site-packages/numpy/core/_methods.py:129: RuntimeWarning: invalid value encountered in scalar divide\n",
      "  ret = ret.dtype.type(ret / rcount)\n",
      "/root/anaconda3/envs/diffractem_env/lib/python3.10/site-packages/numpy/core/_methods.py:206: RuntimeWarning: Degrees of freedom <= 0 for slice\n",
      "  ret = _var(a, axis=axis, dtype=dtype, out=out, ddof=ddof,\n",
      "/root/anaconda3/envs/diffractem_env/lib/python3.10/site-packages/numpy/core/_methods.py:163: RuntimeWarning: invalid value encountered in divide\n",
      "  arrmean = um.true_divide(arrmean, div, out=arrmean,\n",
      "/root/anaconda3/envs/diffractem_env/lib/python3.10/site-packages/numpy/core/_methods.py:198: RuntimeWarning: invalid value encountered in scalar divide\n",
      "  ret = ret.dtype.type(ret / rcount)\n",
      "Processing chunks in UOX_-512_-512.stream:   0%|          | 0/26138 [00:00<?, ?chunk/s]/root/anaconda3/envs/diffractem_env/lib/python3.10/site-packages/numpy/core/fromnumeric.py:3504: RuntimeWarning: Mean of empty slice.\n",
      "  return _methods._mean(a, axis=axis, dtype=dtype,\n",
      "/root/anaconda3/envs/diffractem_env/lib/python3.10/site-packages/numpy/core/_methods.py:129: RuntimeWarning: invalid value encountered in scalar divide\n",
      "  ret = ret.dtype.type(ret / rcount)\n",
      "/root/anaconda3/envs/diffractem_env/lib/python3.10/site-packages/numpy/core/_methods.py:206: RuntimeWarning: Degrees of freedom <= 0 for slice\n",
      "  ret = _var(a, axis=axis, dtype=dtype, out=out, ddof=ddof,\n",
      "/root/anaconda3/envs/diffractem_env/lib/python3.10/site-packages/numpy/core/_methods.py:163: RuntimeWarning: invalid value encountered in divide\n",
      "  arrmean = um.true_divide(arrmean, div, out=arrmean,\n",
      "/root/anaconda3/envs/diffractem_env/lib/python3.10/site-packages/numpy/core/_methods.py:198: RuntimeWarning: invalid value encountered in scalar divide\n",
      "  ret = ret.dtype.type(ret / rcount)\n",
      "Processing chunks in UOX_-512.0_-511.99.stream: 100%|██████████| 26138/26138 [05:55<00:00, 73.46chunk/s]] \n",
      "Processing chunks in UOX_-511.99_-512.01.stream: 100%|██████████| 26138/26138 [06:00<00:00, 72.46chunk/s] \n",
      "Processing chunks in UOX_-512_-512.stream: 100%|██████████| 26138/26138 [06:02<00:00, 72.14chunk/s]nk/s]] \n",
      "Processing chunks in UOX_-511.99_-511.99.stream: 100%|██████████| 26138/26138 [06:02<00:00, 72.04chunk/s] \n",
      "Processing chunks in UOX_-512.01_-512.01.stream: 100%|██████████| 26138/26138 [06:03<00:00, 71.95chunk/s] \n",
      "Processing chunks in UOX_-512.0_-512.01.stream: 100%|██████████| 26138/26138 [06:04<00:00, 71.62chunk/s]] \n",
      "Processing chunks in UOX_-512.01_-511.99.stream: 100%|██████████| 26138/26138 [06:05<00:00, 71.46chunk/s] \n",
      "Processing chunks in UOX_-511.99_-512.0.stream: 100%|██████████| 26138/26138 [06:05<00:00, 71.42chunk/s] \n",
      "Processing chunks in UOX_-512.01_-512.0.stream: 100%|██████████| 26138/26138 [06:09<00:00, 70.82chunk/s] \n"
     ]
    },
    {
     "name": "stdout",
     "output_type": "stream",
     "text": [
      "Combined metrics CSV written to /home/buster/UOX123/3x3_retry/combined_metrics_IQM_3_7_4_-2_2_-1_1_3_-3.csv\n",
      "Best results stream file written to /home/buster/UOX123/3x3_retry/best_results_IQM_3_7_4_-2_2_-1_1_3_-3.stream\n",
      "Writing .sol file from stream: /home/buster/UOX123/3x3_retry/best_results_IQM_3_7_4_-2_2_-1_1_3_-3.stream\n",
      "Bash script generated: /home/buster/UOX123/3x3_retry/IQM_3_7_4_-2_2_-1_1_3_-3.sh\n",
      "Running fast integration...\n"
     ]
    },
    {
     "name": "stderr",
     "output_type": "stream",
     "text": [
      "Writing integration output stream: 100%|██████████| 23914/23914 [05:55<00:00, 67.34lines/s]\n"
     ]
    },
    {
     "name": "stdout",
     "output_type": "stream",
     "text": [
      "Integration executed successfully\n",
      "Merging fast integration results...\n",
      "Running partialator for stream file: /home/buster/UOX123/3x3_retry/IQM_3_7_4_-2_2_-1_1_3_-3/int_rings_3-4-7.stream\n"
     ]
    },
    {
     "name": "stderr",
     "output_type": "stream",
     "text": [
      "Partialator Progress: 100%|██████████| 5/5 [10:33<00:00, 126.67s/Residuals]\n"
     ]
    },
    {
     "name": "stdout",
     "output_type": "stream",
     "text": [
      "Partialator completed for stream file: /home/buster/UOX123/3x3_retry/IQM_3_7_4_-2_2_-1_1_3_-3/int_rings_3-4-7.stream\n",
      "Converting crystfel.hkl to output.mtz in directory: /home/buster/UOX123/3x3_retry/IQM_3_7_4_-2_2_-1_1_3_-3/merge_3_iter_int_rings_3-4-7\n",
      "Conversion to output.mtz completed for directory: /home/buster/UOX123/3x3_retry/IQM_3_7_4_-2_2_-1_1_3_-3/merge_3_iter_int_rings_3-4-7\n",
      "Merging Complete for int_rings_3-4-7\n",
      "Refining fast integration results...\n",
      "Processing folder: /home/buster/UOX123/3x3_retry/IQM_3_7_4_-2_2_-1_1_3_-3/merge_3_iter_int_rings_3-4-7\n"
     ]
    },
    {
     "name": "stderr",
     "output_type": "stream",
     "text": [
      "Refmac5 CGMAT cycles: 100%|██████████| 30/30 [01:13<00:00,  2.46s/cycle]"
     ]
    },
    {
     "name": "stdout",
     "output_type": "stream",
     "text": [
      "Automation process completed successfully for exponents: [3, 7, 4, -2, 2, -1, 1, 3, -3]\n",
      "Evaluating multiple stream files with exponents: [3, 3, 3, -1, 3, -2, 5, 2, -1]\n"
     ]
    },
    {
     "name": "stderr",
     "output_type": "stream",
     "text": [
      "\n",
      "Processing chunks in UOX_-512.0_-511.99.stream:   0%|          | 0/26138 [00:00<?, ?chunk/s]/root/anaconda3/envs/diffractem_env/lib/python3.10/site-packages/numpy/core/fromnumeric.py:3504: RuntimeWarning: Mean of empty slice.\n",
      "  return _methods._mean(a, axis=axis, dtype=dtype,\n",
      "/root/anaconda3/envs/diffractem_env/lib/python3.10/site-packages/numpy/core/_methods.py:129: RuntimeWarning: invalid value encountered in scalar divide\n",
      "  ret = ret.dtype.type(ret / rcount)\n",
      "/root/anaconda3/envs/diffractem_env/lib/python3.10/site-packages/numpy/core/_methods.py:206: RuntimeWarning: Degrees of freedom <= 0 for slice\n",
      "  ret = _var(a, axis=axis, dtype=dtype, out=out, ddof=ddof,\n",
      "/root/anaconda3/envs/diffractem_env/lib/python3.10/site-packages/numpy/core/_methods.py:163: RuntimeWarning: invalid value encountered in divide\n",
      "  arrmean = um.true_divide(arrmean, div, out=arrmean,\n",
      "/root/anaconda3/envs/diffractem_env/lib/python3.10/site-packages/numpy/core/_methods.py:198: RuntimeWarning: invalid value encountered in scalar divide\n",
      "  ret = ret.dtype.type(ret / rcount)\n",
      "Processing chunks in UOX_-512.01_-512.01.stream:   0%|          | 0/26138 [00:00<?, ?chunk/s]/root/anaconda3/envs/diffractem_env/lib/python3.10/site-packages/numpy/core/fromnumeric.py:3504: RuntimeWarning: Mean of empty slice.\n",
      "  return _methods._mean(a, axis=axis, dtype=dtype,\n",
      "/root/anaconda3/envs/diffractem_env/lib/python3.10/site-packages/numpy/core/_methods.py:129: RuntimeWarning: invalid value encountered in scalar divide\n",
      "  ret = ret.dtype.type(ret / rcount)\n",
      "/root/anaconda3/envs/diffractem_env/lib/python3.10/site-packages/numpy/core/_methods.py:206: RuntimeWarning: Degrees of freedom <= 0 for slice\n",
      "  ret = _var(a, axis=axis, dtype=dtype, out=out, ddof=ddof,\n",
      "/root/anaconda3/envs/diffractem_env/lib/python3.10/site-packages/numpy/core/_methods.py:163: RuntimeWarning: invalid value encountered in divide\n",
      "  arrmean = um.true_divide(arrmean, div, out=arrmean,\n",
      "/root/anaconda3/envs/diffractem_env/lib/python3.10/site-packages/numpy/core/_methods.py:198: RuntimeWarning: invalid value encountered in scalar divide\n",
      "  ret = ret.dtype.type(ret / rcount)\n",
      "Processing chunks in UOX_-511.99_-512.0.stream:   0%|          | 0/26138 [00:00<?, ?chunk/s]chunk/s]/root/anaconda3/envs/diffractem_env/lib/python3.10/site-packages/numpy/core/fromnumeric.py:3504: RuntimeWarning: Mean of empty slice.\n",
      "  return _methods._mean(a, axis=axis, dtype=dtype,\n",
      "/root/anaconda3/envs/diffractem_env/lib/python3.10/site-packages/numpy/core/_methods.py:129: RuntimeWarning: invalid value encountered in scalar divide\n",
      "  ret = ret.dtype.type(ret / rcount)\n",
      "/root/anaconda3/envs/diffractem_env/lib/python3.10/site-packages/numpy/core/_methods.py:206: RuntimeWarning: Degrees of freedom <= 0 for slice\n",
      "  ret = _var(a, axis=axis, dtype=dtype, out=out, ddof=ddof,\n",
      "/root/anaconda3/envs/diffractem_env/lib/python3.10/site-packages/numpy/core/_methods.py:163: RuntimeWarning: invalid value encountered in divide\n",
      "  arrmean = um.true_divide(arrmean, div, out=arrmean,\n",
      "/root/anaconda3/envs/diffractem_env/lib/python3.10/site-packages/numpy/core/_methods.py:198: RuntimeWarning: invalid value encountered in scalar divide\n",
      "  ret = ret.dtype.type(ret / rcount)\n",
      "Processing chunks in UOX_-512.01_-511.99.stream:   0%|          | 0/26138 [00:00<?, ?chunk/s]/root/anaconda3/envs/diffractem_env/lib/python3.10/site-packages/numpy/core/fromnumeric.py:3504: RuntimeWarning: Mean of empty slice.\n",
      "  return _methods._mean(a, axis=axis, dtype=dtype,\n",
      "Processing chunks in UOX_-511.99_-511.99.stream:   0%|          | 0/26138 [00:00<?, ?chunk/s]/root/anaconda3/envs/diffractem_env/lib/python3.10/site-packages/numpy/core/_methods.py:129: RuntimeWarning: invalid value encountered in scalar divide\n",
      "  ret = ret.dtype.type(ret / rcount)\n",
      "/root/anaconda3/envs/diffractem_env/lib/python3.10/site-packages/numpy/core/_methods.py:206: RuntimeWarning: Degrees of freedom <= 0 for slice\n",
      "  ret = _var(a, axis=axis, dtype=dtype, out=out, ddof=ddof,\n",
      "/root/anaconda3/envs/diffractem_env/lib/python3.10/site-packages/numpy/core/_methods.py:163: RuntimeWarning: invalid value encountered in divide\n",
      "  arrmean = um.true_divide(arrmean, div, out=arrmean,\n",
      "/root/anaconda3/envs/diffractem_env/lib/python3.10/site-packages/numpy/core/fromnumeric.py:3504: RuntimeWarning: Mean of empty slice.\n",
      "  return _methods._mean(a, axis=axis, dtype=dtype,\n",
      "/root/anaconda3/envs/diffractem_env/lib/python3.10/site-packages/numpy/core/_methods.py:198: RuntimeWarning: invalid value encountered in scalar divide\n",
      "  ret = ret.dtype.type(ret / rcount)\n",
      "Processing chunks in UOX_-512.0_-512.01.stream:   0%|          | 0/26138 [00:00<?, ?chunk/s]/root/anaconda3/envs/diffractem_env/lib/python3.10/site-packages/numpy/core/_methods.py:129: RuntimeWarning: invalid value encountered in scalar divide\n",
      "  ret = ret.dtype.type(ret / rcount)\n",
      "/root/anaconda3/envs/diffractem_env/lib/python3.10/site-packages/numpy/core/_methods.py:206: RuntimeWarning: Degrees of freedom <= 0 for slice\n",
      "  ret = _var(a, axis=axis, dtype=dtype, out=out, ddof=ddof,\n",
      "/root/anaconda3/envs/diffractem_env/lib/python3.10/site-packages/numpy/core/_methods.py:163: RuntimeWarning: invalid value encountered in divide\n",
      "  arrmean = um.true_divide(arrmean, div, out=arrmean,\n",
      "/root/anaconda3/envs/diffractem_env/lib/python3.10/site-packages/numpy/core/_methods.py:198: RuntimeWarning: invalid value encountered in scalar divide\n",
      "  ret = ret.dtype.type(ret / rcount)\n",
      "/root/anaconda3/envs/diffractem_env/lib/python3.10/site-packages/numpy/core/fromnumeric.py:3504: RuntimeWarning: Mean of empty slice.\n",
      "  return _methods._mean(a, axis=axis, dtype=dtype,\n",
      "/root/anaconda3/envs/diffractem_env/lib/python3.10/site-packages/numpy/core/_methods.py:129: RuntimeWarning: invalid value encountered in scalar divide\n",
      "  ret = ret.dtype.type(ret / rcount)\n",
      "/root/anaconda3/envs/diffractem_env/lib/python3.10/site-packages/numpy/core/_methods.py:206: RuntimeWarning: Degrees of freedom <= 0 for slice\n",
      "  ret = _var(a, axis=axis, dtype=dtype, out=out, ddof=ddof,\n",
      "/root/anaconda3/envs/diffractem_env/lib/python3.10/site-packages/numpy/core/_methods.py:163: RuntimeWarning: invalid value encountered in divide\n",
      "  arrmean = um.true_divide(arrmean, div, out=arrmean,\n",
      "/root/anaconda3/envs/diffractem_env/lib/python3.10/site-packages/numpy/core/_methods.py:198: RuntimeWarning: invalid value encountered in scalar divide\n",
      "  ret = ret.dtype.type(ret / rcount)\n",
      "Processing chunks in UOX_-512_-512.stream:   0%|          | 0/26138 [00:00<?, ?chunk/s]/root/anaconda3/envs/diffractem_env/lib/python3.10/site-packages/numpy/core/fromnumeric.py:3504: RuntimeWarning: Mean of empty slice.\n",
      "  return _methods._mean(a, axis=axis, dtype=dtype,\n",
      "/root/anaconda3/envs/diffractem_env/lib/python3.10/site-packages/numpy/core/_methods.py:129: RuntimeWarning: invalid value encountered in scalar divide\n",
      "  ret = ret.dtype.type(ret / rcount)\n",
      "/root/anaconda3/envs/diffractem_env/lib/python3.10/site-packages/numpy/core/_methods.py:206: RuntimeWarning: Degrees of freedom <= 0 for slice\n",
      "  ret = _var(a, axis=axis, dtype=dtype, out=out, ddof=ddof,\n",
      "Processing chunks in UOX_-512.01_-512.01.stream:   0%|          | 9/26138 [00:00<05:44, 75.83chunk/s]/root/anaconda3/envs/diffractem_env/lib/python3.10/site-packages/numpy/core/_methods.py:163: RuntimeWarning: invalid value encountered in divide\n",
      "  arrmean = um.true_divide(arrmean, div, out=arrmean,\n",
      "/root/anaconda3/envs/diffractem_env/lib/python3.10/site-packages/numpy/core/_methods.py:198: RuntimeWarning: invalid value encountered in scalar divide\n",
      "  ret = ret.dtype.type(ret / rcount)\n",
      "Processing chunks in UOX_-511.99_-512.01.stream:   0%|          | 0/26138 [00:00<?, ?chunk/s]/root/anaconda3/envs/diffractem_env/lib/python3.10/site-packages/numpy/core/fromnumeric.py:3504: RuntimeWarning: Mean of empty slice.\n",
      "  return _methods._mean(a, axis=axis, dtype=dtype,\n",
      "/root/anaconda3/envs/diffractem_env/lib/python3.10/site-packages/numpy/core/_methods.py:129: RuntimeWarning: invalid value encountered in scalar divide\n",
      "  ret = ret.dtype.type(ret / rcount)\n",
      "/root/anaconda3/envs/diffractem_env/lib/python3.10/site-packages/numpy/core/_methods.py:206: RuntimeWarning: Degrees of freedom <= 0 for slice\n",
      "  ret = _var(a, axis=axis, dtype=dtype, out=out, ddof=ddof,\n",
      "/root/anaconda3/envs/diffractem_env/lib/python3.10/site-packages/numpy/core/_methods.py:163: RuntimeWarning: invalid value encountered in divide\n",
      "  arrmean = um.true_divide(arrmean, div, out=arrmean,\n",
      "/root/anaconda3/envs/diffractem_env/lib/python3.10/site-packages/numpy/core/_methods.py:198: RuntimeWarning: invalid value encountered in scalar divide\n",
      "  ret = ret.dtype.type(ret / rcount)\n",
      "Processing chunks in UOX_-512.01_-512.01.stream:   0%|          | 17/26138 [00:00<06:25, 67.79chunk/s]]/root/anaconda3/envs/diffractem_env/lib/python3.10/site-packages/numpy/core/fromnumeric.py:3504: RuntimeWarning: Mean of empty slice.\n",
      "  return _methods._mean(a, axis=axis, dtype=dtype,\n",
      "/root/anaconda3/envs/diffractem_env/lib/python3.10/site-packages/numpy/core/_methods.py:129: RuntimeWarning: invalid value encountered in scalar divide\n",
      "  ret = ret.dtype.type(ret / rcount)\n",
      "/root/anaconda3/envs/diffractem_env/lib/python3.10/site-packages/numpy/core/_methods.py:206: RuntimeWarning: Degrees of freedom <= 0 for slice\n",
      "  ret = _var(a, axis=axis, dtype=dtype, out=out, ddof=ddof,\n",
      "/root/anaconda3/envs/diffractem_env/lib/python3.10/site-packages/numpy/core/_methods.py:163: RuntimeWarning: invalid value encountered in divide\n",
      "  arrmean = um.true_divide(arrmean, div, out=arrmean,\n",
      "/root/anaconda3/envs/diffractem_env/lib/python3.10/site-packages/numpy/core/_methods.py:198: RuntimeWarning: invalid value encountered in scalar divide\n",
      "  ret = ret.dtype.type(ret / rcount)\n",
      "Processing chunks in UOX_-512.0_-511.99.stream: 100%|██████████| 26138/26138 [06:10<00:00, 70.58chunk/s]] \n",
      "Processing chunks in UOX_-512_-512.stream: 100%|██████████| 26138/26138 [06:15<00:00, 69.64chunk/s] k/s]] \n",
      "Processing chunks in UOX_-512.01_-512.01.stream: 100%|██████████| 26138/26138 [06:16<00:00, 69.38chunk/s] \n",
      "Processing chunks in UOX_-511.99_-512.01.stream: 100%|██████████| 26138/26138 [06:17<00:00, 69.32chunk/s] \n",
      "Processing chunks in UOX_-511.99_-511.99.stream: 100%|██████████| 26138/26138 [06:17<00:00, 69.15chunk/s] \n",
      "Processing chunks in UOX_-511.99_-512.0.stream: 100%|██████████| 26138/26138 [06:18<00:00, 69.04chunk/s]  \n",
      "Processing chunks in UOX_-512.0_-512.01.stream: 100%|██████████| 26138/26138 [06:18<00:00, 68.98chunk/s]]\n",
      "Processing chunks in UOX_-512.01_-511.99.stream: 100%|██████████| 26138/26138 [06:19<00:00, 68.92chunk/s] \n",
      "Processing chunks in UOX_-512.01_-512.0.stream: 100%|██████████| 26138/26138 [06:22<00:00, 68.36chunk/s] \n"
     ]
    },
    {
     "name": "stdout",
     "output_type": "stream",
     "text": [
      "Combined metrics CSV written to /home/buster/UOX123/3x3_retry/combined_metrics_IQM_3_3_3_-1_3_-2_5_2_-1.csv\n",
      "Best results stream file written to /home/buster/UOX123/3x3_retry/best_results_IQM_3_3_3_-1_3_-2_5_2_-1.stream\n",
      "Writing .sol file from stream: /home/buster/UOX123/3x3_retry/best_results_IQM_3_3_3_-1_3_-2_5_2_-1.stream\n",
      "Bash script generated: /home/buster/UOX123/3x3_retry/IQM_3_3_3_-1_3_-2_5_2_-1.sh\n",
      "Running fast integration...\n"
     ]
    },
    {
     "name": "stderr",
     "output_type": "stream",
     "text": [
      "Writing integration output stream: 100%|██████████| 23914/23914 [06:25<00:00, 62.08lines/s]\n"
     ]
    },
    {
     "name": "stdout",
     "output_type": "stream",
     "text": [
      "Integration executed successfully\n",
      "Merging fast integration results...\n",
      "Running partialator for stream file: /home/buster/UOX123/3x3_retry/IQM_3_3_3_-1_3_-2_5_2_-1/int_rings_3-4-7.stream\n"
     ]
    },
    {
     "name": "stderr",
     "output_type": "stream",
     "text": [
      "Partialator Progress: 100%|██████████| 5/5 [09:46<00:00, 117.24s/Residuals]\n"
     ]
    },
    {
     "name": "stdout",
     "output_type": "stream",
     "text": [
      "Partialator completed for stream file: /home/buster/UOX123/3x3_retry/IQM_3_3_3_-1_3_-2_5_2_-1/int_rings_3-4-7.stream\n",
      "Converting crystfel.hkl to output.mtz in directory: /home/buster/UOX123/3x3_retry/IQM_3_3_3_-1_3_-2_5_2_-1/merge_3_iter_int_rings_3-4-7\n",
      "Conversion to output.mtz completed for directory: /home/buster/UOX123/3x3_retry/IQM_3_3_3_-1_3_-2_5_2_-1/merge_3_iter_int_rings_3-4-7\n",
      "Merging Complete for int_rings_3-4-7\n",
      "Refining fast integration results...\n",
      "Processing folder: /home/buster/UOX123/3x3_retry/IQM_3_3_3_-1_3_-2_5_2_-1/merge_3_iter_int_rings_3-4-7\n"
     ]
    },
    {
     "name": "stderr",
     "output_type": "stream",
     "text": [
      "Refmac5 CGMAT cycles: 100%|██████████| 30/30 [01:10<00:00,  2.36s/cycle]"
     ]
    },
    {
     "name": "stdout",
     "output_type": "stream",
     "text": [
      "Automation process completed successfully for exponents: [3, 3, 3, -1, 3, -2, 5, 2, -1]\n"
     ]
    },
    {
     "name": "stderr",
     "output_type": "stream",
     "text": [
      "\n"
     ]
    }
   ],
   "source": [
    "from find_first_file import find_first_file\n",
    "from automate_evaluation_and_integration import automate_evaluation_and_integration\n",
    "\n",
    "stream_file_folder = \"/home/buster/UOX123/3x3_retry\"\n",
    "cellfile_path = find_first_file(stream_file_folder, \".cell\")\n",
    "pdb_file = find_first_file(stream_file_folder, \".pdb\")\n",
    "\n",
    "weights_list = [\n",
    "    [3, 5, 4, -1, 2, -3, 2, 1, -3],  # R = 0.2017\n",
    "    [4, 3, 3, -2, 1, -2, 5, 3, -1],  # R = 0.2017\n",
    "    [2, 4, 4, -1, 2, -3, 3, 1, -1],  # R = 0.2018\n",
    "    [1, 2, 3, -1, 1, -2, 1, 1, -1],  # R = 0.2019\n",
    "    [3, 7, 4, -2, 2, -1, 1, 3, -3],  # R = 0.2019\n",
    "    [3, 3, 3, -1, 3, -2, 5, 2, -1],  # R = 0.2019\n",
    "]\n",
    "lattice = \"oI\"  # Pearson Symbol read from .cell file first letter for lattice type and second for centering\n",
    "ring_size = [(3, 4, 7)]\n",
    "pointgroup = \"mmm\"\n",
    "num_threads = 23\n",
    "bins = 20\n",
    "min_res = 1.5\n",
    "iterations = 3\n",
    "\n",
    "automate_evaluation_and_integration(stream_file_folder, weights_list, lattice, ring_size, cellfile_path, pointgroup, num_threads, bins, pdb_file, min_res, iterations)\n"
   ]
  }
 ],
 "metadata": {
  "kernelspec": {
   "display_name": "diffractem_env",
   "language": "python",
   "name": "python3"
  },
  "language_info": {
   "codemirror_mode": {
    "name": "ipython",
    "version": 3
   },
   "file_extension": ".py",
   "mimetype": "text/x-python",
   "name": "python",
   "nbconvert_exporter": "python",
   "pygments_lexer": "ipython3",
   "version": "3.10.14"
  }
 },
 "nbformat": 4,
 "nbformat_minor": 2
}
