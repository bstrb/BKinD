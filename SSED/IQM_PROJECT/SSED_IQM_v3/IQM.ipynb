{
 "cells": [
  {
   "cell_type": "code",
   "execution_count": 1,
   "metadata": {},
   "outputs": [
    {
     "name": "stdout",
     "output_type": "stream",
     "text": [
      "Evaluating multiple stream files with weights: (12, 12, 10, -12, 12, -15, 10, 13, -13)\n"
     ]
    },
    {
     "name": "stderr",
     "output_type": "stream",
     "text": [
      "Processing chunks in UOX1_-512.5_-513.0.stream:  50%|█████     | 3438/6813 [02:41<01:55, 29.10chunk/s] "
     ]
    },
    {
     "name": "stdout",
     "output_type": "stream",
     "text": [
      "No diffraction resolution found in chunk.\n"
     ]
    },
    {
     "name": "stderr",
     "output_type": "stream",
     "text": [
      "Processing chunks in UOX1_-513.0_-513.0.stream: 100%|██████████| 6813/6813 [03:59<00:00, 28.46chunk/s]\n",
      "Processing chunks in UOX1_-513.0_-511.0.stream: 100%|██████████| 6813/6813 [04:07<00:00, 27.51chunk/s]\n",
      "Processing chunks in UOX1_-511.0_-511.0.stream: 100%|██████████| 6813/6813 [04:08<00:00, 27.46chunk/s]\n",
      "Processing chunks in UOX1_-511.5_-511.0.stream:  74%|███████▍  | 5069/6813 [04:09<02:26, 11.88chunk/s]\n",
      "Processing chunks in UOX1_-511.0_-512.5.stream: 100%|██████████| 6813/6813 [04:59<00:00, 22.74chunk/s]\n",
      "Processing chunks in UOX1_-511.0_-511.5.stream: 100%|██████████| 6813/6813 [05:05<00:00, 22.31chunk/s]\n",
      "Processing chunks in UOX1_-512.5_-513.0.stream: 100%|██████████| 6813/6813 [05:14<00:00, 21.64chunk/s]\n",
      "Processing chunks in UOX1_-511.5_-513.0.stream: 100%|██████████| 6813/6813 [05:18<00:00, 21.39chunk/s]\n",
      "Processing chunks in UOX1_-513.0_-512.5.stream: 100%|██████████| 6813/6813 [05:18<00:00, 21.37chunk/s]\n",
      "Processing chunks in UOX1_-511.5_-511.0.stream: 100%|██████████| 6813/6813 [05:20<00:00, 21.28chunk/s]\n",
      "Processing chunks in UOX1_-512.0_-511.5.stream:  63%|██████▎   | 4289/6813 [05:22<01:23, 30.09chunk/s]\n",
      "Processing chunks in UOX1_-512.0_-513.0.stream: 100%|██████████| 6813/6813 [05:30<00:00, 20.60chunk/s]\n",
      "Processing chunks in UOX1_-512.5_-511.0.stream: 100%|██████████| 6813/6813 [05:31<00:00, 20.55chunk/s]\n",
      "Processing chunks in UOX1_-512.0_-511.0.stream: 100%|██████████| 6813/6813 [05:43<00:00, 19.81chunk/s]\n",
      "Processing chunks in UOX1_-513.0_-512.0.stream: 100%|██████████| 6813/6813 [05:46<00:00, 19.66chunk/s]\n",
      "Processing chunks in UOX1_-511.5_-511.5.stream: 100%|██████████| 6813/6813 [06:38<00:00, 17.08chunk/s]\n",
      "Processing chunks in UOX1_-512.5_-512.5.stream: 100%|██████████| 6813/6813 [06:46<00:00, 16.75chunk/s] \n",
      "Processing chunks in UOX1_-511.5_-512.5.stream: 100%|██████████| 6813/6813 [06:47<00:00, 16.70chunk/s]\n",
      "Processing chunks in UOX1_-512.5_-511.5.stream: 100%|██████████| 6813/6813 [06:52<00:00, 16.54chunk/s]\n",
      "Processing chunks in UOX1_-512.0_-512.5.stream: 100%|██████████| 6813/6813 [07:09<00:00, 15.88chunk/s] \n",
      "Processing chunks in UOX1_-512.5_-512.0.stream: 100%|██████████| 6813/6813 [07:10<00:00, 15.83chunk/s]\n",
      "Processing chunks in UOX1_-512.0_-511.5.stream: 100%|██████████| 6813/6813 [07:11<00:00, 15.81chunk/s]\n",
      "Processing chunks in UOX1_-511.5_-512.0.stream: 100%|██████████| 6813/6813 [07:11<00:00, 15.78chunk/s]\n",
      "Processing chunks in UOX1_-512_-512.stream: 100%|██████████| 6813/6813 [07:24<00:00, 15.33chunk/s]k/s]\n",
      "Processing chunks in UOX1_-511.0_-512.0.stream: 100%|██████████| 6813/6813 [03:44<00:00, 30.40chunk/s]\n"
     ]
    },
    {
     "name": "stdout",
     "output_type": "stream",
     "text": [
      "Combined metrics CSV written to /home/buster/UOX1/UOX1_original/UOX1_original_backup/combined_metrics_IQM_SUM_12_12_10_-12_12_-15_10_13_-13.csv\n",
      "Best results stream file written to /home/buster/UOX1/UOX1_original/UOX1_original_backup/best_results_IQM_SUM_12_12_10_-12_12_-15_10_13_-13.stream\n",
      "Writing .sol file from stream: /home/buster/UOX1/UOX1_original/UOX1_original_backup/best_results_IQM_SUM_12_12_10_-12_12_-15_10_13_-13.stream\n",
      "Bash script generated: /home/buster/UOX1/UOX1_original/UOX1_original_backup/IQM_SUM_12_12_10_-12_12_-15_10_13_-13.sh\n",
      "Running fast integration...\n"
     ]
    },
    {
     "name": "stderr",
     "output_type": "stream",
     "text": [
      "Writing integration output stream:  94%|█████████▍| 5710/6077 [01:48<00:06, 52.84lines/s]\n"
     ]
    },
    {
     "name": "stdout",
     "output_type": "stream",
     "text": [
      "Integration executed successfully\n",
      "Merging fast integration results...\n",
      "Running partialator for stream file: /home/buster/UOX1/UOX1_original/UOX1_original_backup/IQM_SUM_12_12_10_-12_12_-15_10_13_-13/int_rings_2-5-10.stream\n"
     ]
    },
    {
     "name": "stderr",
     "output_type": "stream",
     "text": [
      "Partialator Progress: 100%|██████████| 5/5 [02:49<00:00, 33.88s/Residuals]\n"
     ]
    },
    {
     "name": "stdout",
     "output_type": "stream",
     "text": [
      "Partialator completed for stream file: /home/buster/UOX1/UOX1_original/UOX1_original_backup/IQM_SUM_12_12_10_-12_12_-15_10_13_-13/int_rings_2-5-10.stream\n",
      "Converting crystfel.hkl to output.mtz in directory: /home/buster/UOX1/UOX1_original/UOX1_original_backup/IQM_SUM_12_12_10_-12_12_-15_10_13_-13/merge_3_iter_int_rings_2-5-10\n",
      "Conversion to output.mtz completed for directory: /home/buster/UOX1/UOX1_original/UOX1_original_backup/IQM_SUM_12_12_10_-12_12_-15_10_13_-13/merge_3_iter_int_rings_2-5-10\n",
      "Merging Complete for int_rings_2-5-10\n",
      "Refining fast integration results...\n",
      "Processing folder: /home/buster/UOX1/UOX1_original/UOX1_original_backup/IQM_SUM_12_12_10_-12_12_-15_10_13_-13/merge_3_iter_int_rings_2-5-10\n"
     ]
    },
    {
     "name": "stderr",
     "output_type": "stream",
     "text": [
      "Refmac5 CGMAT cycles: 100%|██████████| 30/30 [01:16<00:00,  2.56s/cycle]"
     ]
    },
    {
     "name": "stdout",
     "output_type": "stream",
     "text": [
      "Automation process completed successfully for weights: (12, 12, 10, -12, 12, -15, 10, 13, -13) with a final R factor of 0.2187\n"
     ]
    },
    {
     "name": "stderr",
     "output_type": "stream",
     "text": [
      "\n"
     ]
    }
   ],
   "source": [
    "from find_first_file import find_first_file\n",
    "from automate_evaluation_and_integration import automate_evaluation_and_integration\n",
    "\n",
    "stream_file_folder = '/home/buster/UOX1/UOX1_original/UOX1_original_backup'\n",
    "cellfile_path = find_first_file(stream_file_folder, \".cell\")\n",
    "pdb_file = find_first_file(stream_file_folder, \".pdb\")\n",
    "\n",
    "weights_list = [\n",
    "    (12, 12, 10, -12, 12, -15, 10, 13, -13)  \n",
    "]\n",
    "\n",
    "lattice = \"oI\"  # Pearson Symbol read from .cell file first letter for lattice type and second for centering\n",
    "ring_size = [(2, 5, 10)]\n",
    "pointgroup = \"mmm\"\n",
    "num_threads = 23\n",
    "iterations = 3 # iterations during mergin\n",
    "bins = 20 # resolution bins during refinement\n",
    "min_res = 1.5 # min resolution for refinement\n",
    "\n",
    "automate_evaluation_and_integration(stream_file_folder, weights_list, lattice, ring_size, cellfile_path, pointgroup, num_threads, bins, pdb_file, min_res, iterations)\n"
   ]
  }
 ],
 "metadata": {
  "kernelspec": {
   "display_name": "diffractem_env",
   "language": "python",
   "name": "python3"
  },
  "language_info": {
   "codemirror_mode": {
    "name": "ipython",
    "version": 3
   },
   "file_extension": ".py",
   "mimetype": "text/x-python",
   "name": "python",
   "nbconvert_exporter": "python",
   "pygments_lexer": "ipython3",
   "version": "3.10.14"
  }
 },
 "nbformat": 4,
 "nbformat_minor": 2
}
