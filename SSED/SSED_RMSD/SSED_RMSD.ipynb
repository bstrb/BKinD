{
 "cells": [
  {
   "cell_type": "code",
   "execution_count": null,
   "metadata": {},
   "outputs": [],
   "source": [
    "from remove_high_rmsd_in_steps_v2 import remove_high_rmsd_in_steps\n",
    "\n",
    "\n",
    "# Example usage:\n",
    "stream_file_path = \"/home/buster/UOXm/5x5_0-01/fast_int_3-4-7/fast_int_rings_3-4-7.stream\"\n",
    "step_fraction = 0.01\n",
    "num_steps = 10\n",
    "\n",
    "remove_high_rmsd_in_steps(stream_file_path, step_fraction, num_steps)\n"
   ]
  },
  {
   "cell_type": "code",
   "execution_count": 4,
   "metadata": {},
   "outputs": [],
   "source": [
    "# Merge remaining data Function Definition\n",
    "\n",
    "from rmsd_merge_def import rmsd_merge_and_write_mtz"
   ]
  },
  {
   "cell_type": "code",
   "execution_count": null,
   "metadata": {},
   "outputs": [],
   "source": [
    "# Merge remaining data\n",
    "\n",
    "input_folder_path = \"/home/buster/UOXm/5x5_0-01/fast_int_3-4-7/high_rmsd_removed_10_x_1.0_percentage_units\"\n",
    "cellfile_path = \"/home/buster/UOXm/UOX.cell\"\n",
    "pointgroup = \"mmm\"\n",
    "num_threads = 23\n",
    "\n",
    "# Call the function\n",
    "rmsd_merge_and_write_mtz(input_folder_path, cellfile_path, pointgroup, num_threads)\n"
   ]
  },
  {
   "cell_type": "code",
   "execution_count": 6,
   "metadata": {},
   "outputs": [],
   "source": [
    "# RMSD Refine Function Definition\n",
    "\n",
    "from rmsd_ref_def import process_run_rmsd_folders"
   ]
  },
  {
   "cell_type": "code",
   "execution_count": null,
   "metadata": {},
   "outputs": [],
   "source": [
    "# RMSD Refine\n",
    "\n",
    "bins = 20\n",
    "\n",
    "# Global variables for filenames\n",
    "base_path = \"/home/buster/UOXm/5x5_0-01/fast_int_3-4-7/high_rmsd_removed_10_x_1.0_percentage_units\"\n",
    "pdb_filename = \"UOX.pdb\" # make sure it is found in the same file as integration output streams\n",
    "\n",
    "process_run_rmsd_folders(base_path, pdb_filename, bins)"
   ]
  },
  {
   "cell_type": "code",
   "execution_count": 8,
   "metadata": {},
   "outputs": [],
   "source": [
    "# Plot high RMSD removal Merge Function Definition\n",
    "\n",
    "from plot_rmsd_merge_def import plot_rmsd_merge"
   ]
  },
  {
   "cell_type": "code",
   "execution_count": null,
   "metadata": {},
   "outputs": [],
   "source": [
    "# Plot high RMSD removal Merge\n",
    "\n",
    "base_path = \"/home/buster/UOXm/5x5_0-01/fast_int_3-4-7/high_rmsd_removed_10_x_1.0_percentage_units\"\n",
    "\n",
    "plot_rmsd_merge(base_path)"
   ]
  }
 ],
 "metadata": {
  "kernelspec": {
   "display_name": "diffractem_env",
   "language": "python",
   "name": "python3"
  },
  "language_info": {
   "codemirror_mode": {
    "name": "ipython",
    "version": 3
   },
   "file_extension": ".py",
   "mimetype": "text/x-python",
   "name": "python",
   "nbconvert_exporter": "python",
   "pygments_lexer": "ipython3",
   "version": "3.10.14"
  }
 },
 "nbformat": 4,
 "nbformat_minor": 2
}
