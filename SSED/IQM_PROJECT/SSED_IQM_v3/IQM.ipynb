{
 "cells": [
  {
   "cell_type": "code",
   "execution_count": 1,
   "metadata": {},
   "outputs": [
    {
     "name": "stdout",
     "output_type": "stream",
     "text": [
      "Evaluating multiple stream files with weights: (12, 12, 10, -12, 12, -15, 10, 13, -12)\n"
     ]
    },
    {
     "name": "stderr",
     "output_type": "stream",
     "text": [
      "Processing chunks in 20241111_hMTH1_TH287_-512.0_-512.01.stream: 100%|██████████| 26974/26974 [04:45<00:00, 94.49chunk/s] ] \n",
      "Processing chunks in 20241111_hMTH1_TH287_-512.02_-511.99.stream: 100%|██████████| 26974/26974 [04:50<00:00, 92.82chunk/s] \n",
      "Processing chunks in 20241111_hMTH1_TH287_-511.99_-511.98.stream:  94%|█████████▍| 25444/26974 [04:55<00:38, 39.28chunk/s]]\n",
      "Processing chunks in 20241111_hMTH1_TH287_-511.98_-512.0.stream: 100%|██████████| 26974/26974 [04:58<00:00, 90.42chunk/s] ]\n",
      "Processing chunks in 20241111_hMTH1_TH287_-512.02_-512.02.stream: 100%|██████████| 26974/26974 [04:58<00:00, 90.47chunk/s] \n",
      "Processing chunks in 20241111_hMTH1_TH287_-512_-512.stream: 100%|██████████| 26974/26974 [04:58<00:00, 90.35chunk/s] unk/s]\n",
      "Processing chunks in 20241111_hMTH1_TH287_-511.98_-512.01.stream:  99%|█████████▉| 26820/26974 [04:58<00:00, 276.61chunk/s]\n",
      "Processing chunks in 20241111_hMTH1_TH287_-512.01_-512.02.stream: 100%|██████████| 26974/26974 [04:59<00:00, 90.18chunk/s] \n",
      "Processing chunks in 20241111_hMTH1_TH287_-511.98_-512.01.stream: 100%|██████████| 26974/26974 [04:59<00:00, 90.12chunk/s] \n",
      "Processing chunks in 20241111_hMTH1_TH287_-511.99_-512.0.stream: 100%|██████████| 26974/26974 [05:00<00:00, 89.89chunk/s] ]\n",
      "Processing chunks in 20241111_hMTH1_TH287_-512.02_-512.01.stream: 100%|██████████| 26974/26974 [05:00<00:00, 89.86chunk/s] \n",
      "Processing chunks in 20241111_hMTH1_TH287_-512.02_-511.98.stream: 100%|██████████| 26974/26974 [05:00<00:00, 89.86chunk/s] \n",
      "Processing chunks in 20241111_hMTH1_TH287_-511.99_-511.99.stream: 100%|██████████| 26974/26974 [05:00<00:00, 89.90chunk/s] \n",
      "Processing chunks in 20241111_hMTH1_TH287_-512.01_-511.98.stream: 100%|██████████| 26974/26974 [05:01<00:00, 89.33chunk/s] \n",
      "Processing chunks in 20241111_hMTH1_TH287_-512.01_-512.01.stream: 100%|██████████| 26974/26974 [05:01<00:00, 89.33chunk/s] \n",
      "Processing chunks in 20241111_hMTH1_TH287_-512.0_-511.98.stream: 100%|██████████| 26974/26974 [05:02<00:00, 89.27chunk/s] ]\n",
      "Processing chunks in 20241111_hMTH1_TH287_-511.98_-512.02.stream: 100%|██████████| 26974/26974 [05:02<00:00, 89.17chunk/s] \n",
      "Processing chunks in 20241111_hMTH1_TH287_-512.0_-512.02.stream: 100%|██████████| 26974/26974 [05:03<00:00, 88.90chunk/s] ]\n",
      "Processing chunks in 20241111_hMTH1_TH287_-512.0_-511.99.stream: 100%|██████████| 26974/26974 [05:03<00:00, 88.80chunk/s] ]\n",
      "Processing chunks in 20241111_hMTH1_TH287_-511.99_-511.98.stream: 100%|██████████| 26974/26974 [05:03<00:00, 89.01chunk/s] \n",
      "Processing chunks in 20241111_hMTH1_TH287_-512.01_-511.99.stream: 100%|██████████| 26974/26974 [05:04<00:00, 88.46chunk/s] \n",
      "Processing chunks in 20241111_hMTH1_TH287_-511.98_-511.98.stream: 100%|██████████| 26974/26974 [05:04<00:00, 88.48chunk/s] \n",
      "Processing chunks in 20241111_hMTH1_TH287_-512.01_-512.0.stream: 100%|██████████| 26974/26974 [05:05<00:00, 88.32chunk/s] ]\n",
      "Processing chunks in 20241111_hMTH1_TH287_-511.98_-511.99.stream: 100%|██████████| 26974/26974 [05:04<00:00, 88.47chunk/s] \n",
      "Processing chunks in 20241111_hMTH1_TH287_-511.99_-512.02.stream: 100%|██████████| 26974/26974 [02:19<00:00, 193.94chunk/s] \n"
     ]
    },
    {
     "name": "stdout",
     "output_type": "stream",
     "text": [
      "Combined metrics CSV written to /home/buster/hMTH1_TH287/combined_metrics_IQM_SUM_12_12_10_-12_12_-15_10_13_-12.csv\n",
      "Best results stream file written to /home/buster/hMTH1_TH287/best_results_IQM_SUM_12_12_10_-12_12_-15_10_13_-12.stream\n",
      "Writing .sol file from stream: /home/buster/hMTH1_TH287/best_results_IQM_SUM_12_12_10_-12_12_-15_10_13_-12.stream\n",
      "An error occurred during processing of weights (12, 12, 10, -12, 12, -15, 10, 13, -12): No .lst file found in the directory.\n"
     ]
    },
    {
     "name": "stderr",
     "output_type": "stream",
     "text": [
      "Traceback (most recent call last):\n",
      "  File \"/mnt/c/Users/bubl3932/Desktop/BKinD/SSED/IQM_PROJECT/SSED_IQM_v3/automate_evaluation_and_integration.py\", line 40, in automate_evaluation_and_integration\n",
      "    generate_bash_script(bash_file_name, stream_file_folder, num_threads, best_results_sol)\n",
      "  File \"/mnt/c/Users/bubl3932/Desktop/BKinD/SSED/IQM_PROJECT/SSED_IQM_v3/generate_bash_script.py\", line 28, in generate_bash_script\n",
      "    raise FileNotFoundError(\"No .lst file found in the directory.\")\n",
      "FileNotFoundError: No .lst file found in the directory.\n"
     ]
    }
   ],
   "source": [
    "from find_first_file import find_first_file\n",
    "from automate_evaluation_and_integration import automate_evaluation_and_integration\n",
    "\n",
    "stream_file_folder = \"/home/buster/hMTH1_TH287\"\n",
    "cellfile_path = find_first_file(stream_file_folder, \".cell\")\n",
    "pdb_file = find_first_file(stream_file_folder, \".pdb\")\n",
    "\n",
    "weights_list = [\n",
    "    (12, 12, 10, -12, 12, -15, 10, 13, -12)  # Increase both pairs 4,5 and 6,7 (+20)\n",
    "]\n",
    "\n",
    "\n",
    "\n",
    "lattice = \"oP\"  # Pearson Symbol read from .cell file first letter for lattice type and second for centering\n",
    "ring_size = [(3, 4, 7)]\n",
    "pointgroup = \"mmm\"\n",
    "num_threads = 23\n",
    "bins = 20\n",
    "min_res = 1.5\n",
    "iterations = 3\n",
    "\n",
    "automate_evaluation_and_integration(stream_file_folder, weights_list, lattice, ring_size, cellfile_path, pointgroup, num_threads, bins, pdb_file, min_res, iterations)\n"
   ]
  }
 ],
 "metadata": {
  "kernelspec": {
   "display_name": "diffractem_env",
   "language": "python",
   "name": "python3"
  },
  "language_info": {
   "codemirror_mode": {
    "name": "ipython",
    "version": 3
   },
   "file_extension": ".py",
   "mimetype": "text/x-python",
   "name": "python",
   "nbconvert_exporter": "python",
   "pygments_lexer": "ipython3",
   "version": "3.10.14"
  }
 },
 "nbformat": 4,
 "nbformat_minor": 2
}
