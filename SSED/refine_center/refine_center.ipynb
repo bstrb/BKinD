{
 "cells": [
  {
   "cell_type": "code",
   "execution_count": null,
   "metadata": {},
   "outputs": [
    {
     "name": "stdout",
     "output_type": "stream",
     "text": [
      "usage: refine_center_v3.py [-h] [--h5_file H5_FILE] [--framesize FRAMESIZE]\n",
      "                           [--tolerance TOLERANCE] [--output_csv OUTPUT_CSV]\n",
      "                           [--output_plot_x OUTPUT_PLOT_X]\n",
      "                           [--output_plot_y OUTPUT_PLOT_Y]\n",
      "                           stream_file\n",
      "refine_center_v3.py: error: The specified .stream file does not exist: /home/bubl3932/files/UOX1/UOX1_0-02_2nd_index_run/UOX1_2nd_index_run.stream#\n"
     ]
    }
   ],
   "source": [
    "stream_path = '/home/bubl3932/files/UOX1/UOX1_0-02_2nd_index_run/UOX1_2nd_index_run.stream'\n",
    "h5_file = \"/home/bubl3932/files/UOX1/UOX_His_MUA_450nm_spot4_ON_20240311_0928.h5\"\n",
    "!python refine_center_v3.py {stream_path} # --h5_file {h5_file}\n",
    "# !python refine_center.py {stream_path} #--h5_file {h5_file}\n"
   ]
  }
 ],
 "metadata": {
  "kernelspec": {
   "display_name": "diffractem_env",
   "language": "python",
   "name": "python3"
  },
  "language_info": {
   "codemirror_mode": {
    "name": "ipython",
    "version": 3
   },
   "file_extension": ".py",
   "mimetype": "text/x-python",
   "name": "python",
   "nbconvert_exporter": "python",
   "pygments_lexer": "ipython3",
   "version": "3.9.21"
  }
 },
 "nbformat": 4,
 "nbformat_minor": 2
}
