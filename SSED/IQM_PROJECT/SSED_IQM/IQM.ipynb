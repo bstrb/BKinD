{
 "cells": [
  {
   "cell_type": "code",
   "execution_count": 1,
   "metadata": {},
   "outputs": [
    {
     "name": "stdout",
     "output_type": "stream",
     "text": [
      "Evaluating multiple stream files with exponents: (1, 2, 3, -1, 1, -1, -1, 1)\n"
     ]
    },
    {
     "name": "stderr",
     "output_type": "stream",
     "text": [
      "Processing chunks in UOX_-512.0_-511.99.stream: 100%|██████████| 26138/26138 [09:21<00:00, 46.55chunk/s]] \n",
      "Processing chunks in UOX_-512_-512.stream: 100%|██████████| 26138/26138 [09:24<00:00, 46.28chunk/s]unk/s]\n",
      "Processing chunks in UOX_-511.99_-512.01.stream: 100%|██████████| 26138/26138 [09:27<00:00, 46.02chunk/s]\n",
      "Processing chunks in UOX_-511.99_-511.99.stream: 100%|██████████| 26138/26138 [09:30<00:00, 45.84chunk/s]\n",
      "Processing chunks in UOX_-512.0_-512.01.stream: 100%|██████████| 26138/26138 [09:30<00:00, 45.82chunk/s]]\n",
      "Processing chunks in UOX_-512.01_-512.01.stream: 100%|██████████| 26138/26138 [09:30<00:00, 45.78chunk/s]\n",
      "Processing chunks in UOX_-512.01_-511.99.stream: 100%|██████████| 26138/26138 [09:31<00:00, 45.71chunk/s]\n",
      "Processing chunks in UOX_-511.99_-512.0.stream: 100%|██████████| 26138/26138 [09:33<00:00, 45.58chunk/s]\n",
      "Processing chunks in UOX_-512.01_-512.0.stream: 100%|██████████| 26138/26138 [09:37<00:00, 45.28chunk/s] \n"
     ]
    },
    {
     "name": "stdout",
     "output_type": "stream",
     "text": [
      "Combined metrics CSV written to /home/buster/UOX123/3x3_retry/combined_metrics_IQM_1_2_3_-1_1_-1_-1_1.csv\n",
      "Best results stream file written to /home/buster/UOX123/3x3_retry/best_results_IQM_1_2_3_-1_1_-1_-1_1.stream\n",
      "Writing .sol file from stream: /home/buster/UOX123/3x3_retry/best_results_IQM_1_2_3_-1_1_-1_-1_1.stream\n",
      "Bash script generated: /home/buster/UOX123/3x3_retry/IQM_1_2_3_-1_1_-1_-1_1.sh\n",
      "Running fast integration...\n"
     ]
    },
    {
     "name": "stderr",
     "output_type": "stream",
     "text": [
      "Writing integration output stream: 100%|██████████| 23914/23914 [05:41<00:00, 70.00lines/s]\n"
     ]
    },
    {
     "name": "stdout",
     "output_type": "stream",
     "text": [
      "Integration executed successfully\n",
      "Merging fast integration results...\n",
      "Running partialator for stream file: /home/buster/UOX123/3x3_retry/IQM_1_2_3_-1_1_-1_-1_1/int_rings_3-4-7.stream\n"
     ]
    },
    {
     "name": "stderr",
     "output_type": "stream",
     "text": [
      "Partialator Progress: 100%|██████████| 5/5 [08:53<00:00, 106.62s/Residuals]\n"
     ]
    },
    {
     "name": "stdout",
     "output_type": "stream",
     "text": [
      "Partialator completed for stream file: /home/buster/UOX123/3x3_retry/IQM_1_2_3_-1_1_-1_-1_1/int_rings_3-4-7.stream\n",
      "Converting crystfel.hkl to output.mtz in directory: /home/buster/UOX123/3x3_retry/IQM_1_2_3_-1_1_-1_-1_1/merge_3_iter_int_rings_3-4-7\n",
      "Conversion to output.mtz completed for directory: /home/buster/UOX123/3x3_retry/IQM_1_2_3_-1_1_-1_-1_1/merge_3_iter_int_rings_3-4-7\n",
      "Merging Complete for int_rings_3-4-7\n",
      "Refining fast integration results...\n",
      "Processing folder: /home/buster/UOX123/3x3_retry/IQM_1_2_3_-1_1_-1_-1_1/merge_3_iter_int_rings_3-4-7\n"
     ]
    },
    {
     "name": "stderr",
     "output_type": "stream",
     "text": [
      "Refmac5 CGMAT cycles: 100%|██████████| 30/30 [01:15<00:00,  2.52s/cycle]"
     ]
    },
    {
     "name": "stdout",
     "output_type": "stream",
     "text": [
      "Automation process completed successfully for exponents: (1, 2, 3, -1, 1, -1, -1, 1)\n",
      "Evaluating multiple stream files with exponents: (1, 2, 3, -1, 1, -1, 0, 1)\n"
     ]
    },
    {
     "name": "stderr",
     "output_type": "stream",
     "text": [
      "\n",
      "Processing chunks in UOX_-512.0_-511.99.stream: 100%|██████████| 26138/26138 [09:20<00:00, 46.66chunk/s]] \n",
      "Processing chunks in UOX_-511.99_-512.01.stream: 100%|██████████| 26138/26138 [09:25<00:00, 46.26chunk/s]\n",
      "Processing chunks in UOX_-512_-512.stream: 100%|██████████| 26138/26138 [09:27<00:00, 46.09chunk/s]nk/s]]\n",
      "Processing chunks in UOX_-512.01_-512.01.stream: 100%|██████████| 26138/26138 [09:28<00:00, 45.96chunk/s]\n",
      "Processing chunks in UOX_-512.0_-512.01.stream: 100%|██████████| 26138/26138 [09:30<00:00, 45.83chunk/s]]\n",
      "Processing chunks in UOX_-511.99_-511.99.stream: 100%|██████████| 26138/26138 [09:30<00:00, 45.82chunk/s]\n",
      "Processing chunks in UOX_-511.99_-512.0.stream: 100%|██████████| 26138/26138 [09:32<00:00, 45.64chunk/s]]\n",
      "Processing chunks in UOX_-512.01_-511.99.stream: 100%|██████████| 26138/26138 [09:32<00:00, 45.65chunk/s]\n",
      "Processing chunks in UOX_-512.01_-512.0.stream: 100%|██████████| 26138/26138 [09:36<00:00, 45.36chunk/s]\n"
     ]
    },
    {
     "name": "stdout",
     "output_type": "stream",
     "text": [
      "Combined metrics CSV written to /home/buster/UOX123/3x3_retry/combined_metrics_IQM_1_2_3_-1_1_-1_0_1.csv\n",
      "Best results stream file written to /home/buster/UOX123/3x3_retry/best_results_IQM_1_2_3_-1_1_-1_0_1.stream\n",
      "Writing .sol file from stream: /home/buster/UOX123/3x3_retry/best_results_IQM_1_2_3_-1_1_-1_0_1.stream\n",
      "Bash script generated: /home/buster/UOX123/3x3_retry/IQM_1_2_3_-1_1_-1_0_1.sh\n",
      "Running fast integration...\n"
     ]
    },
    {
     "name": "stderr",
     "output_type": "stream",
     "text": [
      "Writing integration output stream: 100%|██████████| 23914/23914 [06:36<00:00, 60.30lines/s]  \n"
     ]
    },
    {
     "name": "stdout",
     "output_type": "stream",
     "text": [
      "Integration executed successfully\n",
      "Merging fast integration results...\n",
      "Running partialator for stream file: /home/buster/UOX123/3x3_retry/IQM_1_2_3_-1_1_-1_0_1/int_rings_3-4-7.stream\n"
     ]
    },
    {
     "name": "stderr",
     "output_type": "stream",
     "text": [
      "Partialator Progress: 100%|██████████| 5/5 [09:49<00:00, 117.84s/Residuals]\n"
     ]
    },
    {
     "name": "stdout",
     "output_type": "stream",
     "text": [
      "Partialator completed for stream file: /home/buster/UOX123/3x3_retry/IQM_1_2_3_-1_1_-1_0_1/int_rings_3-4-7.stream\n",
      "Converting crystfel.hkl to output.mtz in directory: /home/buster/UOX123/3x3_retry/IQM_1_2_3_-1_1_-1_0_1/merge_3_iter_int_rings_3-4-7\n",
      "Conversion to output.mtz completed for directory: /home/buster/UOX123/3x3_retry/IQM_1_2_3_-1_1_-1_0_1/merge_3_iter_int_rings_3-4-7\n",
      "Merging Complete for int_rings_3-4-7\n",
      "Refining fast integration results...\n",
      "Processing folder: /home/buster/UOX123/3x3_retry/IQM_1_2_3_-1_1_-1_0_1/merge_3_iter_int_rings_3-4-7\n"
     ]
    },
    {
     "name": "stderr",
     "output_type": "stream",
     "text": [
      "Refmac5 CGMAT cycles: 100%|██████████| 30/30 [01:13<00:00,  2.44s/cycle]"
     ]
    },
    {
     "name": "stdout",
     "output_type": "stream",
     "text": [
      "Automation process completed successfully for exponents: (1, 2, 3, -1, 1, -1, 0, 1)\n",
      "Evaluating multiple stream files with exponents: (1, 2, 3, -1, 1, -1, 1, 1)\n"
     ]
    },
    {
     "name": "stderr",
     "output_type": "stream",
     "text": [
      "\n",
      "Processing chunks in UOX_-512.0_-511.99.stream: 100%|██████████| 26138/26138 [09:11<00:00, 47.41chunk/s]] \n",
      "Processing chunks in UOX_-512_-512.stream: 100%|██████████| 26138/26138 [09:17<00:00, 46.86chunk/s]nk/s]]\n",
      "Processing chunks in UOX_-511.99_-512.01.stream: 100%|██████████| 26138/26138 [09:21<00:00, 46.58chunk/s]\n",
      "Processing chunks in UOX_-511.99_-511.99.stream: 100%|██████████| 26138/26138 [09:21<00:00, 46.56chunk/s]\n",
      "Processing chunks in UOX_-512.0_-512.01.stream: 100%|██████████| 26138/26138 [09:22<00:00, 46.47chunk/s]]\n",
      "Processing chunks in UOX_-511.99_-512.0.stream: 100%|██████████| 26138/26138 [09:22<00:00, 46.43chunk/s]]\n",
      "Processing chunks in UOX_-512.01_-512.01.stream: 100%|██████████| 26138/26138 [09:23<00:00, 46.42chunk/s]\n",
      "Processing chunks in UOX_-512.01_-511.99.stream: 100%|██████████| 26138/26138 [09:24<00:00, 46.33chunk/s]\n",
      "Processing chunks in UOX_-512.01_-512.0.stream: 100%|██████████| 26138/26138 [09:28<00:00, 45.97chunk/s] \n"
     ]
    },
    {
     "name": "stdout",
     "output_type": "stream",
     "text": [
      "Combined metrics CSV written to /home/buster/UOX123/3x3_retry/combined_metrics_IQM_1_2_3_-1_1_-1_1_1.csv\n",
      "Best results stream file written to /home/buster/UOX123/3x3_retry/best_results_IQM_1_2_3_-1_1_-1_1_1.stream\n",
      "Writing .sol file from stream: /home/buster/UOX123/3x3_retry/best_results_IQM_1_2_3_-1_1_-1_1_1.stream\n",
      "Bash script generated: /home/buster/UOX123/3x3_retry/IQM_1_2_3_-1_1_-1_1_1.sh\n",
      "Running fast integration...\n"
     ]
    },
    {
     "name": "stderr",
     "output_type": "stream",
     "text": [
      "Writing integration output stream: 100%|██████████| 23914/23914 [06:11<00:00, 64.35lines/s]\n"
     ]
    },
    {
     "name": "stdout",
     "output_type": "stream",
     "text": [
      "Integration executed successfully\n",
      "Merging fast integration results...\n",
      "Running partialator for stream file: /home/buster/UOX123/3x3_retry/IQM_1_2_3_-1_1_-1_1_1/int_rings_3-4-7.stream\n"
     ]
    },
    {
     "name": "stderr",
     "output_type": "stream",
     "text": [
      "Partialator Progress: 100%|██████████| 5/5 [09:04<00:00, 108.83s/Residuals]\n"
     ]
    },
    {
     "name": "stdout",
     "output_type": "stream",
     "text": [
      "Partialator completed for stream file: /home/buster/UOX123/3x3_retry/IQM_1_2_3_-1_1_-1_1_1/int_rings_3-4-7.stream\n",
      "Converting crystfel.hkl to output.mtz in directory: /home/buster/UOX123/3x3_retry/IQM_1_2_3_-1_1_-1_1_1/merge_3_iter_int_rings_3-4-7\n",
      "Conversion to output.mtz completed for directory: /home/buster/UOX123/3x3_retry/IQM_1_2_3_-1_1_-1_1_1/merge_3_iter_int_rings_3-4-7\n",
      "Merging Complete for int_rings_3-4-7\n",
      "Refining fast integration results...\n",
      "Processing folder: /home/buster/UOX123/3x3_retry/IQM_1_2_3_-1_1_-1_1_1/merge_3_iter_int_rings_3-4-7\n"
     ]
    },
    {
     "name": "stderr",
     "output_type": "stream",
     "text": [
      "Refmac5 CGMAT cycles: 100%|██████████| 30/30 [01:13<00:00,  2.45s/cycle]"
     ]
    },
    {
     "name": "stdout",
     "output_type": "stream",
     "text": [
      "Automation process completed successfully for exponents: (1, 2, 3, -1, 1, -1, 1, 1)\n",
      "Evaluating multiple stream files with exponents: (1, 2, 3, -1, 1, 0, -1, 1)\n"
     ]
    },
    {
     "name": "stderr",
     "output_type": "stream",
     "text": [
      "\n",
      "Processing chunks in UOX_-512.0_-511.99.stream: 100%|██████████| 26138/26138 [09:16<00:00, 46.96chunk/s]] \n",
      "Processing chunks in UOX_-512_-512.stream: 100%|██████████| 26138/26138 [09:22<00:00, 46.50chunk/s]nk/s]]\n",
      "Processing chunks in UOX_-511.99_-512.01.stream: 100%|██████████| 26138/26138 [09:22<00:00, 46.47chunk/s]\n",
      "Processing chunks in UOX_-512.01_-512.01.stream: 100%|██████████| 26138/26138 [09:26<00:00, 46.15chunk/s]\n",
      "Processing chunks in UOX_-511.99_-511.99.stream: 100%|██████████| 26138/26138 [09:26<00:00, 46.11chunk/s]\n",
      "Processing chunks in UOX_-511.99_-512.0.stream: 100%|██████████| 26138/26138 [09:26<00:00, 46.12chunk/s]\n",
      "Processing chunks in UOX_-512.0_-512.01.stream: 100%|██████████| 26138/26138 [09:27<00:00, 46.08chunk/s]]\n",
      "Processing chunks in UOX_-512.01_-511.99.stream: 100%|██████████| 26138/26138 [09:30<00:00, 45.83chunk/s]\n",
      "Processing chunks in UOX_-512.01_-512.0.stream: 100%|██████████| 26138/26138 [09:34<00:00, 45.52chunk/s] \n"
     ]
    },
    {
     "name": "stdout",
     "output_type": "stream",
     "text": [
      "Combined metrics CSV written to /home/buster/UOX123/3x3_retry/combined_metrics_IQM_1_2_3_-1_1_0_-1_1.csv\n",
      "Best results stream file written to /home/buster/UOX123/3x3_retry/best_results_IQM_1_2_3_-1_1_0_-1_1.stream\n",
      "Writing .sol file from stream: /home/buster/UOX123/3x3_retry/best_results_IQM_1_2_3_-1_1_0_-1_1.stream\n",
      "Bash script generated: /home/buster/UOX123/3x3_retry/IQM_1_2_3_-1_1_0_-1_1.sh\n",
      "Running fast integration...\n"
     ]
    },
    {
     "name": "stderr",
     "output_type": "stream",
     "text": [
      "Writing integration output stream: 100%|██████████| 23914/23914 [05:34<00:00, 71.47lines/s]\n"
     ]
    },
    {
     "name": "stdout",
     "output_type": "stream",
     "text": [
      "Integration executed successfully\n",
      "Merging fast integration results...\n",
      "Running partialator for stream file: /home/buster/UOX123/3x3_retry/IQM_1_2_3_-1_1_0_-1_1/int_rings_3-4-7.stream\n"
     ]
    },
    {
     "name": "stderr",
     "output_type": "stream",
     "text": [
      "Partialator Progress: 100%|██████████| 5/5 [09:44<00:00, 116.85s/Residuals]\n"
     ]
    },
    {
     "name": "stdout",
     "output_type": "stream",
     "text": [
      "Partialator completed for stream file: /home/buster/UOX123/3x3_retry/IQM_1_2_3_-1_1_0_-1_1/int_rings_3-4-7.stream\n",
      "Converting crystfel.hkl to output.mtz in directory: /home/buster/UOX123/3x3_retry/IQM_1_2_3_-1_1_0_-1_1/merge_3_iter_int_rings_3-4-7\n",
      "Conversion to output.mtz completed for directory: /home/buster/UOX123/3x3_retry/IQM_1_2_3_-1_1_0_-1_1/merge_3_iter_int_rings_3-4-7\n",
      "Merging Complete for int_rings_3-4-7\n",
      "Refining fast integration results...\n",
      "Processing folder: /home/buster/UOX123/3x3_retry/IQM_1_2_3_-1_1_0_-1_1/merge_3_iter_int_rings_3-4-7\n"
     ]
    },
    {
     "name": "stderr",
     "output_type": "stream",
     "text": [
      "Refmac5 CGMAT cycles: 100%|██████████| 30/30 [01:13<00:00,  2.45s/cycle]"
     ]
    },
    {
     "name": "stdout",
     "output_type": "stream",
     "text": [
      "Automation process completed successfully for exponents: (1, 2, 3, -1, 1, 0, -1, 1)\n",
      "Evaluating multiple stream files with exponents: (1, 2, 3, -1, 1, 0, 0, 1)\n"
     ]
    },
    {
     "name": "stderr",
     "output_type": "stream",
     "text": [
      "\n",
      "Processing chunks in UOX_-512.0_-511.99.stream: 100%|██████████| 26138/26138 [09:23<00:00, 46.35chunk/s]] \n",
      "Processing chunks in UOX_-512_-512.stream: 100%|██████████| 26138/26138 [09:27<00:00, 46.02chunk/s]unk/s]\n",
      "Processing chunks in UOX_-511.99_-512.01.stream: 100%|██████████| 26138/26138 [09:30<00:00, 45.83chunk/s]\n",
      "Processing chunks in UOX_-511.99_-511.99.stream: 100%|██████████| 26138/26138 [09:31<00:00, 45.75chunk/s]\n",
      "Processing chunks in UOX_-512.01_-512.01.stream: 100%|██████████| 26138/26138 [09:31<00:00, 45.70chunk/s]\n",
      "Processing chunks in UOX_-512.0_-512.01.stream: 100%|██████████| 26138/26138 [09:33<00:00, 45.54chunk/s]]\n",
      "Processing chunks in UOX_-511.99_-512.0.stream: 100%|██████████| 26138/26138 [09:34<00:00, 45.53chunk/s]]\n",
      "Processing chunks in UOX_-512.01_-511.99.stream: 100%|██████████| 26138/26138 [09:36<00:00, 45.38chunk/s]\n",
      "Processing chunks in UOX_-512.01_-512.0.stream: 100%|██████████| 26138/26138 [09:39<00:00, 45.07chunk/s]\n"
     ]
    },
    {
     "name": "stdout",
     "output_type": "stream",
     "text": [
      "Combined metrics CSV written to /home/buster/UOX123/3x3_retry/combined_metrics_IQM_1_2_3_-1_1_0_0_1.csv\n",
      "Best results stream file written to /home/buster/UOX123/3x3_retry/best_results_IQM_1_2_3_-1_1_0_0_1.stream\n",
      "Writing .sol file from stream: /home/buster/UOX123/3x3_retry/best_results_IQM_1_2_3_-1_1_0_0_1.stream\n",
      "Bash script generated: /home/buster/UOX123/3x3_retry/IQM_1_2_3_-1_1_0_0_1.sh\n",
      "Running fast integration...\n"
     ]
    },
    {
     "name": "stderr",
     "output_type": "stream",
     "text": [
      "Writing integration output stream: 100%|██████████| 23914/23914 [07:39<00:00, 52.02lines/s]\n"
     ]
    },
    {
     "name": "stdout",
     "output_type": "stream",
     "text": [
      "Integration executed successfully\n",
      "Merging fast integration results...\n",
      "Running partialator for stream file: /home/buster/UOX123/3x3_retry/IQM_1_2_3_-1_1_0_0_1/int_rings_3-4-7.stream\n"
     ]
    },
    {
     "name": "stderr",
     "output_type": "stream",
     "text": [
      "Partialator Progress: 100%|██████████| 5/5 [09:45<00:00, 117.06s/Residuals]\n"
     ]
    },
    {
     "name": "stdout",
     "output_type": "stream",
     "text": [
      "Partialator completed for stream file: /home/buster/UOX123/3x3_retry/IQM_1_2_3_-1_1_0_0_1/int_rings_3-4-7.stream\n",
      "Converting crystfel.hkl to output.mtz in directory: /home/buster/UOX123/3x3_retry/IQM_1_2_3_-1_1_0_0_1/merge_3_iter_int_rings_3-4-7\n",
      "Conversion to output.mtz completed for directory: /home/buster/UOX123/3x3_retry/IQM_1_2_3_-1_1_0_0_1/merge_3_iter_int_rings_3-4-7\n",
      "Merging Complete for int_rings_3-4-7\n",
      "Refining fast integration results...\n",
      "Processing folder: /home/buster/UOX123/3x3_retry/IQM_1_2_3_-1_1_0_0_1/merge_3_iter_int_rings_3-4-7\n"
     ]
    },
    {
     "name": "stderr",
     "output_type": "stream",
     "text": [
      "Refmac5 CGMAT cycles: 100%|██████████| 30/30 [01:14<00:00,  2.49s/cycle]"
     ]
    },
    {
     "name": "stdout",
     "output_type": "stream",
     "text": [
      "Automation process completed successfully for exponents: (1, 2, 3, -1, 1, 0, 0, 1)\n",
      "Evaluating multiple stream files with exponents: (1, 2, 3, -1, 1, 0, 1, 1)\n"
     ]
    },
    {
     "name": "stderr",
     "output_type": "stream",
     "text": [
      "\n",
      "Processing chunks in UOX_-512.0_-511.99.stream: 100%|██████████| 26138/26138 [09:18<00:00, 46.76chunk/s]] \n",
      "Processing chunks in UOX_-512_-512.stream: 100%|██████████| 26138/26138 [09:22<00:00, 46.48chunk/s]unk/s]\n",
      "Processing chunks in UOX_-511.99_-512.01.stream: 100%|██████████| 26138/26138 [09:23<00:00, 46.36chunk/s]\n",
      "Processing chunks in UOX_-511.99_-511.99.stream: 100%|██████████| 26138/26138 [09:25<00:00, 46.22chunk/s]\n",
      "Processing chunks in UOX_-512.0_-512.01.stream: 100%|██████████| 26138/26138 [09:26<00:00, 46.18chunk/s]]\n",
      "Processing chunks in UOX_-512.01_-512.01.stream: 100%|██████████| 26138/26138 [09:26<00:00, 46.14chunk/s]\n",
      "Processing chunks in UOX_-512.01_-511.99.stream: 100%|██████████| 26138/26138 [09:28<00:00, 45.97chunk/s]\n",
      "Processing chunks in UOX_-511.99_-512.0.stream: 100%|██████████| 26138/26138 [09:28<00:00, 45.96chunk/s]\n",
      "Processing chunks in UOX_-512.01_-512.0.stream: 100%|██████████| 26138/26138 [09:34<00:00, 45.48chunk/s]\n"
     ]
    },
    {
     "name": "stdout",
     "output_type": "stream",
     "text": [
      "Combined metrics CSV written to /home/buster/UOX123/3x3_retry/combined_metrics_IQM_1_2_3_-1_1_0_1_1.csv\n",
      "Best results stream file written to /home/buster/UOX123/3x3_retry/best_results_IQM_1_2_3_-1_1_0_1_1.stream\n",
      "Writing .sol file from stream: /home/buster/UOX123/3x3_retry/best_results_IQM_1_2_3_-1_1_0_1_1.stream\n",
      "Bash script generated: /home/buster/UOX123/3x3_retry/IQM_1_2_3_-1_1_0_1_1.sh\n",
      "Running fast integration...\n"
     ]
    },
    {
     "name": "stderr",
     "output_type": "stream",
     "text": [
      "Writing integration output stream: 100%|██████████| 23914/23914 [05:41<00:00, 69.96lines/s]\n"
     ]
    },
    {
     "name": "stdout",
     "output_type": "stream",
     "text": [
      "Integration executed successfully\n",
      "Merging fast integration results...\n",
      "Running partialator for stream file: /home/buster/UOX123/3x3_retry/IQM_1_2_3_-1_1_0_1_1/int_rings_3-4-7.stream\n"
     ]
    },
    {
     "name": "stderr",
     "output_type": "stream",
     "text": [
      "Partialator Progress: 100%|██████████| 5/5 [09:25<00:00, 113.04s/Residuals]\n"
     ]
    },
    {
     "name": "stdout",
     "output_type": "stream",
     "text": [
      "Partialator completed for stream file: /home/buster/UOX123/3x3_retry/IQM_1_2_3_-1_1_0_1_1/int_rings_3-4-7.stream\n",
      "Converting crystfel.hkl to output.mtz in directory: /home/buster/UOX123/3x3_retry/IQM_1_2_3_-1_1_0_1_1/merge_3_iter_int_rings_3-4-7\n",
      "Conversion to output.mtz completed for directory: /home/buster/UOX123/3x3_retry/IQM_1_2_3_-1_1_0_1_1/merge_3_iter_int_rings_3-4-7\n",
      "Merging Complete for int_rings_3-4-7\n",
      "Refining fast integration results...\n",
      "Processing folder: /home/buster/UOX123/3x3_retry/IQM_1_2_3_-1_1_0_1_1/merge_3_iter_int_rings_3-4-7\n"
     ]
    },
    {
     "name": "stderr",
     "output_type": "stream",
     "text": [
      "Refmac5 CGMAT cycles: 100%|██████████| 30/30 [01:11<00:00,  2.38s/cycle]"
     ]
    },
    {
     "name": "stdout",
     "output_type": "stream",
     "text": [
      "Automation process completed successfully for exponents: (1, 2, 3, -1, 1, 0, 1, 1)\n",
      "Evaluating multiple stream files with exponents: (1, 2, 3, -1, 1, 1, -1, 1)\n"
     ]
    },
    {
     "name": "stderr",
     "output_type": "stream",
     "text": [
      "\n",
      "Processing chunks in UOX_-512.01_-512.01.stream: 100%|██████████| 26138/26138 [10:05<00:00, 43.18chunk/s] \n",
      "Processing chunks in UOX_-512.0_-512.01.stream: 100%|██████████| 26138/26138 [10:05<00:00, 43.18chunk/s]]\n",
      "Processing chunks in UOX_-511.99_-512.0.stream: 100%|██████████| 26138/26138 [10:06<00:00, 43.07chunk/s]]\n",
      "Processing chunks in UOX_-511.99_-511.99.stream: 100%|██████████| 26138/26138 [10:06<00:00, 43.07chunk/s]\n",
      "Processing chunks in UOX_-512.0_-511.99.stream: 100%|██████████| 26138/26138 [09:17<00:00, 46.88chunk/s]]\n",
      "Processing chunks in UOX_-512_-512.stream: 100%|██████████| 26138/26138 [09:21<00:00, 46.52chunk/s]unk/s]\n",
      "Processing chunks in UOX_-511.99_-512.01.stream: 100%|██████████| 26138/26138 [09:23<00:00, 46.43chunk/s]\n",
      "Processing chunks in UOX_-512.01_-511.99.stream: 100%|██████████| 26138/26138 [09:27<00:00, 46.10chunk/s]\n",
      "Processing chunks in UOX_-512.01_-512.0.stream: 100%|██████████| 26138/26138 [09:31<00:00, 45.76chunk/s] \n"
     ]
    },
    {
     "name": "stdout",
     "output_type": "stream",
     "text": [
      "Combined metrics CSV written to /home/buster/UOX123/3x3_retry/combined_metrics_IQM_1_2_3_-1_1_1_-1_1.csv\n",
      "Best results stream file written to /home/buster/UOX123/3x3_retry/best_results_IQM_1_2_3_-1_1_1_-1_1.stream\n",
      "Writing .sol file from stream: /home/buster/UOX123/3x3_retry/best_results_IQM_1_2_3_-1_1_1_-1_1.stream\n",
      "Bash script generated: /home/buster/UOX123/3x3_retry/IQM_1_2_3_-1_1_1_-1_1.sh\n",
      "Running fast integration...\n"
     ]
    },
    {
     "name": "stderr",
     "output_type": "stream",
     "text": [
      "Writing integration output stream: 100%|██████████| 23914/23914 [05:41<00:00, 70.01lines/s]\n"
     ]
    },
    {
     "name": "stdout",
     "output_type": "stream",
     "text": [
      "Integration executed successfully\n",
      "Merging fast integration results...\n",
      "Running partialator for stream file: /home/buster/UOX123/3x3_retry/IQM_1_2_3_-1_1_1_-1_1/int_rings_3-4-7.stream\n"
     ]
    },
    {
     "name": "stderr",
     "output_type": "stream",
     "text": [
      "Partialator Progress: 100%|██████████| 5/5 [10:13<00:00, 122.66s/Residuals]\n"
     ]
    },
    {
     "name": "stdout",
     "output_type": "stream",
     "text": [
      "Partialator completed for stream file: /home/buster/UOX123/3x3_retry/IQM_1_2_3_-1_1_1_-1_1/int_rings_3-4-7.stream\n",
      "Converting crystfel.hkl to output.mtz in directory: /home/buster/UOX123/3x3_retry/IQM_1_2_3_-1_1_1_-1_1/merge_3_iter_int_rings_3-4-7\n",
      "Conversion to output.mtz completed for directory: /home/buster/UOX123/3x3_retry/IQM_1_2_3_-1_1_1_-1_1/merge_3_iter_int_rings_3-4-7\n",
      "Merging Complete for int_rings_3-4-7\n",
      "Refining fast integration results...\n",
      "Processing folder: /home/buster/UOX123/3x3_retry/IQM_1_2_3_-1_1_1_-1_1/merge_3_iter_int_rings_3-4-7\n"
     ]
    },
    {
     "name": "stderr",
     "output_type": "stream",
     "text": [
      "Refmac5 CGMAT cycles: 100%|██████████| 30/30 [01:13<00:00,  2.46s/cycle]"
     ]
    },
    {
     "name": "stdout",
     "output_type": "stream",
     "text": [
      "Automation process completed successfully for exponents: (1, 2, 3, -1, 1, 1, -1, 1)\n",
      "Evaluating multiple stream files with exponents: (1, 2, 3, -1, 1, 1, 0, 1)\n"
     ]
    },
    {
     "name": "stderr",
     "output_type": "stream",
     "text": [
      "\n",
      "Processing chunks in UOX_-512.0_-511.99.stream: 100%|██████████| 26138/26138 [09:18<00:00, 46.78chunk/s]] \n",
      "Processing chunks in UOX_-512_-512.stream: 100%|██████████| 26138/26138 [09:23<00:00, 46.42chunk/s]nk/s]]\n",
      "Processing chunks in UOX_-511.99_-512.01.stream: 100%|██████████| 26138/26138 [09:25<00:00, 46.18chunk/s]\n",
      "Processing chunks in UOX_-512.01_-512.01.stream: 100%|██████████| 26138/26138 [09:26<00:00, 46.15chunk/s]\n",
      "Processing chunks in UOX_-511.99_-511.99.stream: 100%|██████████| 26138/26138 [09:27<00:00, 46.07chunk/s]\n",
      "Processing chunks in UOX_-512.0_-512.01.stream: 100%|██████████| 26138/26138 [09:27<00:00, 46.05chunk/s]]\n",
      "Processing chunks in UOX_-511.99_-512.0.stream: 100%|██████████| 26138/26138 [09:30<00:00, 45.85chunk/s]]\n",
      "Processing chunks in UOX_-512.01_-512.0.stream: 100%|██████████| 26138/26138 [09:35<00:00, 45.45chunk/s]]\n",
      "Processing chunks in UOX_-512.01_-511.99.stream: 100%|██████████| 26138/26138 [09:52<00:00, 44.14chunk/s]\n"
     ]
    },
    {
     "name": "stdout",
     "output_type": "stream",
     "text": [
      "Combined metrics CSV written to /home/buster/UOX123/3x3_retry/combined_metrics_IQM_1_2_3_-1_1_1_0_1.csv\n",
      "Best results stream file written to /home/buster/UOX123/3x3_retry/best_results_IQM_1_2_3_-1_1_1_0_1.stream\n",
      "Writing .sol file from stream: /home/buster/UOX123/3x3_retry/best_results_IQM_1_2_3_-1_1_1_0_1.stream\n",
      "Bash script generated: /home/buster/UOX123/3x3_retry/IQM_1_2_3_-1_1_1_0_1.sh\n",
      "Running fast integration...\n"
     ]
    },
    {
     "name": "stderr",
     "output_type": "stream",
     "text": [
      "Writing integration output stream: 100%|██████████| 23914/23914 [05:37<00:00, 70.93lines/s]\n"
     ]
    },
    {
     "name": "stdout",
     "output_type": "stream",
     "text": [
      "Integration executed successfully\n",
      "Merging fast integration results...\n",
      "Running partialator for stream file: /home/buster/UOX123/3x3_retry/IQM_1_2_3_-1_1_1_0_1/int_rings_3-4-7.stream\n"
     ]
    },
    {
     "name": "stderr",
     "output_type": "stream",
     "text": [
      "Partialator Progress: 100%|██████████| 5/5 [09:12<00:00, 110.44s/Residuals]\n"
     ]
    },
    {
     "name": "stdout",
     "output_type": "stream",
     "text": [
      "Partialator completed for stream file: /home/buster/UOX123/3x3_retry/IQM_1_2_3_-1_1_1_0_1/int_rings_3-4-7.stream\n",
      "Converting crystfel.hkl to output.mtz in directory: /home/buster/UOX123/3x3_retry/IQM_1_2_3_-1_1_1_0_1/merge_3_iter_int_rings_3-4-7\n",
      "Conversion to output.mtz completed for directory: /home/buster/UOX123/3x3_retry/IQM_1_2_3_-1_1_1_0_1/merge_3_iter_int_rings_3-4-7\n",
      "Merging Complete for int_rings_3-4-7\n",
      "Refining fast integration results...\n",
      "Processing folder: /home/buster/UOX123/3x3_retry/IQM_1_2_3_-1_1_1_0_1/merge_3_iter_int_rings_3-4-7\n"
     ]
    },
    {
     "name": "stderr",
     "output_type": "stream",
     "text": [
      "Refmac5 CGMAT cycles: 100%|██████████| 30/30 [01:15<00:00,  2.52s/cycle]"
     ]
    },
    {
     "name": "stdout",
     "output_type": "stream",
     "text": [
      "Automation process completed successfully for exponents: (1, 2, 3, -1, 1, 1, 0, 1)\n",
      "Evaluating multiple stream files with exponents: (1, 2, 3, -1, 1, 1, 1, 1)\n"
     ]
    },
    {
     "name": "stderr",
     "output_type": "stream",
     "text": [
      "\n",
      "Processing chunks in UOX_-512.0_-511.99.stream: 100%|██████████| 26138/26138 [09:19<00:00, 46.71chunk/s]] \n",
      "Processing chunks in UOX_-512_-512.stream: 100%|██████████| 26138/26138 [09:24<00:00, 46.33chunk/s]unk/s]\n",
      "Processing chunks in UOX_-511.99_-512.01.stream: 100%|██████████| 26138/26138 [09:24<00:00, 46.29chunk/s]\n",
      "Processing chunks in UOX_-512.0_-512.01.stream: 100%|██████████| 26138/26138 [09:26<00:00, 46.15chunk/s]]\n",
      "Processing chunks in UOX_-511.99_-511.99.stream: 100%|██████████| 26138/26138 [09:27<00:00, 46.08chunk/s]\n",
      "Processing chunks in UOX_-512.01_-512.01.stream: 100%|██████████| 26138/26138 [09:27<00:00, 46.07chunk/s]\n",
      "Processing chunks in UOX_-512.01_-511.99.stream: 100%|██████████| 26138/26138 [09:29<00:00, 45.93chunk/s]\n",
      "Processing chunks in UOX_-511.99_-512.0.stream: 100%|██████████| 26138/26138 [09:29<00:00, 45.86chunk/s]\n",
      "Processing chunks in UOX_-512.01_-512.0.stream: 100%|██████████| 26138/26138 [09:35<00:00, 45.44chunk/s] \n"
     ]
    },
    {
     "name": "stdout",
     "output_type": "stream",
     "text": [
      "Combined metrics CSV written to /home/buster/UOX123/3x3_retry/combined_metrics_IQM_1_2_3_-1_1_1_1_1.csv\n",
      "Best results stream file written to /home/buster/UOX123/3x3_retry/best_results_IQM_1_2_3_-1_1_1_1_1.stream\n",
      "Writing .sol file from stream: /home/buster/UOX123/3x3_retry/best_results_IQM_1_2_3_-1_1_1_1_1.stream\n",
      "Bash script generated: /home/buster/UOX123/3x3_retry/IQM_1_2_3_-1_1_1_1_1.sh\n",
      "Running fast integration...\n"
     ]
    },
    {
     "name": "stderr",
     "output_type": "stream",
     "text": [
      "Writing integration output stream: 100%|██████████| 23914/23914 [05:38<00:00, 70.64lines/s]\n"
     ]
    },
    {
     "name": "stdout",
     "output_type": "stream",
     "text": [
      "Integration executed successfully\n",
      "Merging fast integration results...\n",
      "Running partialator for stream file: /home/buster/UOX123/3x3_retry/IQM_1_2_3_-1_1_1_1_1/int_rings_3-4-7.stream\n"
     ]
    },
    {
     "name": "stderr",
     "output_type": "stream",
     "text": [
      "Partialator Progress: 100%|██████████| 5/5 [09:19<00:00, 111.86s/Residuals]\n"
     ]
    },
    {
     "name": "stdout",
     "output_type": "stream",
     "text": [
      "Partialator completed for stream file: /home/buster/UOX123/3x3_retry/IQM_1_2_3_-1_1_1_1_1/int_rings_3-4-7.stream\n",
      "Converting crystfel.hkl to output.mtz in directory: /home/buster/UOX123/3x3_retry/IQM_1_2_3_-1_1_1_1_1/merge_3_iter_int_rings_3-4-7\n",
      "Conversion to output.mtz completed for directory: /home/buster/UOX123/3x3_retry/IQM_1_2_3_-1_1_1_1_1/merge_3_iter_int_rings_3-4-7\n",
      "Merging Complete for int_rings_3-4-7\n",
      "Refining fast integration results...\n",
      "Processing folder: /home/buster/UOX123/3x3_retry/IQM_1_2_3_-1_1_1_1_1/merge_3_iter_int_rings_3-4-7\n"
     ]
    },
    {
     "name": "stderr",
     "output_type": "stream",
     "text": [
      "Refmac5 CGMAT cycles: 100%|██████████| 30/30 [01:12<00:00,  2.42s/cycle]"
     ]
    },
    {
     "name": "stdout",
     "output_type": "stream",
     "text": [
      "Automation process completed successfully for exponents: (1, 2, 3, -1, 1, 1, 1, 1)\n"
     ]
    },
    {
     "name": "stderr",
     "output_type": "stream",
     "text": [
      "\n"
     ]
    }
   ],
   "source": [
    "from find_first_file import find_first_file\n",
    "from automate_evaluation_and_integration import automate_evaluation_and_integration\n",
    "\n",
    "stream_file_folder = \"/home/buster/UOX123/3x3_retry\"\n",
    "cellfile_path = find_first_file(stream_file_folder, \".cell\")\n",
    "pdb_file = find_first_file(stream_file_folder, \".pdb\")\n",
    "weights_list = [(1, 2, 3, -1, 1, -1, -1, 1),\n",
    "                (1, 2, 3, -1, 1, -1, 0, 1),\n",
    "                (1, 2, 3, -1, 1, -1, 1, 1),\n",
    "                (1, 2, 3, -1, 1, 0, -1, 1),\n",
    "                (1, 2, 3, -1, 1, 0, 0, 1),\n",
    "                (1, 2, 3, -1, 1, 0, 1, 1),\n",
    "                (1, 2, 3, -1, 1, 1, -1, 1),\n",
    "                (1, 2, 3, -1, 1, 1, 0, 1),\n",
    "                (1, 2, 3, -1, 1, 1, 1, 1),\n",
    "                ] # wrmsd,cld,cad,np,nr,pres,dres,pr\n",
    "lattice = \"oI\"  # Pearson Symbol read from .cell file first letter for lattice type and second for centering\n",
    "ring_size = [(3, 4, 7)]\n",
    "pointgroup = \"mmm\"\n",
    "num_threads = 23\n",
    "bins = 20\n",
    "min_res = 1.5\n",
    "iterations = 3\n",
    "\n",
    "automate_evaluation_and_integration(stream_file_folder, weights_list, lattice, ring_size, cellfile_path, pointgroup, num_threads, bins, pdb_file, min_res, iterations)\n"
   ]
  }
 ],
 "metadata": {
  "kernelspec": {
   "display_name": "diffractem_env",
   "language": "python",
   "name": "python3"
  },
  "language_info": {
   "codemirror_mode": {
    "name": "ipython",
    "version": 3
   },
   "file_extension": ".py",
   "mimetype": "text/x-python",
   "name": "python",
   "nbconvert_exporter": "python",
   "pygments_lexer": "ipython3",
   "version": "3.10.14"
  }
 },
 "nbformat": 4,
 "nbformat_minor": 2
}
