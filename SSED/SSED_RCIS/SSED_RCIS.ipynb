{
 "cells": [
  {
   "cell_type": "markdown",
   "metadata": {},
   "source": [
    "Evaluate indexing results based on intensity weighted RMSD, cell parameter comparison and number of indexed reflections"
   ]
  },
  {
   "cell_type": "code",
   "execution_count": 1,
   "metadata": {},
   "outputs": [],
   "source": [
    "# Evaluate indexing Function Definitions\n",
    "\n",
    "from evaluate_indexing import evaluate_indexing"
   ]
  },
  {
   "cell_type": "code",
   "execution_count": null,
   "metadata": {},
   "outputs": [],
   "source": [
    "# Evaluate indexing for one stream file giving a list of RCIS (RMSD-Cell Index Score) values\n",
    "\n",
    "index_stream = \"/home/buster/UOX1/9x9/UOX1_-512.01_-512.0.stream\"\n",
    "\n",
    "evaluate_indexing(index_stream)"
   ]
  },
  {
   "cell_type": "code",
   "execution_count": null,
   "metadata": {},
   "outputs": [],
   "source": [
    "# Evaluate indexing over multiple stream files using RCIS metric and combine into a best indexing results stream file\n",
    "\n",
    "from evaluate_multiple_streams import evaluate_multiple_streams\n",
    "\n",
    "stream_file_folder = \"/home/buster/UOX1/3x3\"\n",
    "wrmsd_weight = 0.5\n",
    "cd_weight = 0.3\n",
    "rpr_weight = 0.2\n",
    "\n",
    "evaluate_multiple_streams(stream_file_folder, wrmsd_weight, cd_weight, rpr_weight)\n"
   ]
  },
  {
   "cell_type": "code",
   "execution_count": 2,
   "metadata": {},
   "outputs": [],
   "source": [
    "# Write stream file to .sol file \n",
    "\n",
    "from read_stream_write_sol import read_stream_write_sol\n",
    "\n",
    "input_stream_folder = f\"/home/buster/UOX1/3x3/best_results_RCIS_{wrmsd_weight}_{cd_weight}_{rpr_weight}.stream\"\n",
    "lattice = \"oI\" # Pearson Symbol read from .cell file first letter for lattice type and second for centering\n",
    "\n",
    "read_stream_write_sol(input_stream_folder, lattice)\n"
   ]
  }
 ],
 "metadata": {
  "kernelspec": {
   "display_name": "diffractem_env",
   "language": "python",
   "name": "python3"
  },
  "language_info": {
   "codemirror_mode": {
    "name": "ipython",
    "version": 3
   },
   "file_extension": ".py",
   "mimetype": "text/x-python",
   "name": "python",
   "nbconvert_exporter": "python",
   "pygments_lexer": "ipython3",
   "version": "3.10.14"
  }
 },
 "nbformat": 4,
 "nbformat_minor": 2
}
