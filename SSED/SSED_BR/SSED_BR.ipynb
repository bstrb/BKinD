{
 "cells": [
  {
   "cell_type": "markdown",
   "metadata": {},
   "source": [
    "Based on RMSD between found peaks and indexed reflections combine the best indexings from xGandalf for each frame to one .stream file and then write a .sol from combined .stream file."
   ]
  },
  {
   "cell_type": "code",
   "execution_count": 1,
   "metadata": {},
   "outputs": [],
   "source": [
    "# Find Best Results Function Definitions\n",
    "\n",
    "from best_results_def import find_best_results\n",
    "from read_stream_write_sol import read_stream_write_sol"
   ]
  },
  {
   "cell_type": "code",
   "execution_count": null,
   "metadata": {},
   "outputs": [],
   "source": [
    "# Find Best Results\n",
    "\n",
    "inputfolder_path = \"/home/buster/UOX1/3x3\"\n",
    "output_path = \"/home/buster/UOX1/3x3/best_results.stream\"\n",
    "lattice = \"oI\" # Pearson Symbol read from .cell file first letter for lattice type and second for centering\n",
    "\n",
    "find_best_results(inputfolder_path, output_path)\n",
    "read_stream_write_sol(output_path, lattice)"
   ]
  },
  {
   "cell_type": "code",
   "execution_count": null,
   "metadata": {},
   "outputs": [],
   "source": [
    "# RMSD heatmap for specific frame\n",
    "from rmsd_heatmap import  rmsd_heatmap\n",
    "\n",
    "inputfolder_path = \"/home/buster/UOX1/3x3\"\n",
    "target_serial_number = 6186\n",
    "rmsd_heatmap(inputfolder_path, target_serial_number)"
   ]
  },
  {
   "cell_type": "code",
   "execution_count": null,
   "metadata": {},
   "outputs": [],
   "source": [
    "# Extract RMSD for each frame from each stream to .csv\n",
    "from extract_rmsd_to_csv import extract_rmsd_to_csv\n",
    "\n",
    "inputfolder_path = \"/home/buster/UOX1/5x5\"\n",
    "extract_rmsd_to_csv(inputfolder_path, n=10)"
   ]
  },
  {
   "cell_type": "code",
   "execution_count": 5,
   "metadata": {},
   "outputs": [
    {
     "name": "stderr",
     "output_type": "stream",
     "text": [
      "Generating heatmaps: 100%|██████████| 4789/4789 [04:38<00:00, 17.18it/s]\n"
     ]
    }
   ],
   "source": [
    "# Plot and save RMSD heatmaps\n",
    "from plot_and_save_rmsd_heatmaps_v2 import plot_and_save_rmsd_heatmaps\n",
    "\n",
    "csv_path = \"/home/buster/UOX1/5x5/rmsd_data.csv\"\n",
    "# csv_path = \"/home/buster/UOX1/5x5/rmsd_data.csv\"\n",
    "plot_and_save_rmsd_heatmaps(csv_path)"
   ]
  },
  {
   "cell_type": "code",
   "execution_count": 8,
   "metadata": {},
   "outputs": [
    {
     "name": "stdout",
     "output_type": "stream",
     "text": [
      "GIF created successfully: /home/buster/UOX1/5x5/heatmap5x5fast.gif\n"
     ]
    }
   ],
   "source": [
    "# Create .gif from pngs\n",
    "from create_gif_from_pngs import create_gif_from_pngs\n",
    "\n",
    "# Provide the folder path containing your .png files\n",
    "png_folder_path = '/home/buster/UOX1/5x5/rmsd_heatmaps'\n",
    "output_gif = '/home/buster/UOX1/5x5/heatmap5x5fast.gif'\n",
    "create_gif_from_pngs(png_folder_path, output_filename=output_gif, duration=50, resize_factor=0.5, reduce_colors=True, colors=32)\n"
   ]
  }
 ],
 "metadata": {
  "kernelspec": {
   "display_name": "diffractem_env",
   "language": "python",
   "name": "python3"
  },
  "language_info": {
   "codemirror_mode": {
    "name": "ipython",
    "version": 3
   },
   "file_extension": ".py",
   "mimetype": "text/x-python",
   "name": "python",
   "nbconvert_exporter": "python",
   "pygments_lexer": "ipython3",
   "version": "3.10.14"
  }
 },
 "nbformat": 4,
 "nbformat_minor": 2
}
