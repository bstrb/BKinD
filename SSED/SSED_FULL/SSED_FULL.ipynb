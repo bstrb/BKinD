{
 "cells": [
  {
   "cell_type": "markdown",
   "metadata": {},
   "source": [
    "Conversion from .emd to .h5 format."
   ]
  },
  {
   "cell_type": "code",
   "execution_count": null,
   "metadata": {},
   "outputs": [],
   "source": [
    "# Conversion Function Definitions\n",
    "\n",
    "from conversion_def import find_and_process_velox_files"
   ]
  },
  {
   "cell_type": "code",
   "execution_count": null,
   "metadata": {},
   "outputs": [],
   "source": [
    "# Convert to HDF5\n",
    "inputfolder_path= \"/home/buster/UOX1/unprocessed/UOX_His_MUA_450nm_spot4_ON_20240311_0928.h5\"\n",
    "\n",
    "find_and_process_velox_files(inputfolder_path)"
   ]
  },
  {
   "cell_type": "markdown",
   "metadata": {},
   "source": [
    "Peakfinding using peakfinder8 from diffractem package. First open .h5 file in crystfel using .geom file that refers to correct mask file and find good peakfinding settings. Make sure there are enough friedel pairs for center beam finding and fitting. Don't put the mask in the same folder as the .h5 file since it is also .h5 format. If peakfinding has been run old data will be deleted."
   ]
  },
  {
   "cell_type": "code",
   "execution_count": null,
   "metadata": {},
   "outputs": [],
   "source": [
    "# Peak Finder Function Definitions\n",
    "\n",
    "from peakfinder_def import find_files_and_run_peakfinding"
   ]
  },
  {
   "cell_type": "code",
   "execution_count": null,
   "metadata": {},
   "outputs": [],
   "source": [
    "# Peak Finder\n",
    "inputfolder_path = '/home/bubl3932/files/UOX_sim'\n",
    "\n",
    "# Peakfinder settings:\n",
    "threshold = 45      \n",
    "min_snr = 10\n",
    "min_pix_count = 3\n",
    "max_pix_count = 200\n",
    "local_bg_radius = 10\n",
    "min_res = 50\n",
    "max_res = 300\n",
    "x0 = 512\n",
    "y0 = 512  \n",
    "\n",
    "##### Enter parameters above #####\n",
    "\n",
    "find_files_and_run_peakfinding(inputfolder_path, x0, y0, threshold, min_snr, min_pix_count, max_pix_count, local_bg_radius, min_res, max_res)"
   ]
  },
  {
   "cell_type": "markdown",
   "metadata": {},
   "source": [
    "Find the center beam spot center on all frames using friedel pairs and  interpolation."
   ]
  },
  {
   "cell_type": "code",
   "execution_count": 1,
   "metadata": {},
   "outputs": [],
   "source": [
    "# Find Center Beam Spot Center Function Definitions\n",
    "\n",
    "from centerfinding_def import find_files_and_run_centerfinding"
   ]
  },
  {
   "cell_type": "code",
   "execution_count": null,
   "metadata": {},
   "outputs": [],
   "source": [
    "# Find Center Beam Spot Center\n",
    "tolerance = 8 # If you know that your beam center is close to the center of the detector you can reduce the tolerance to reduce the processing time\n",
    "min_peaks = 10 # Minimum number of peaks in a frame to be considered\n",
    "resolution_limit = 150 # Maximum resultuion of peaks to be considered\n",
    "min_samples_fraction = 0.01  # Fraction of datapoints in the largest cluster to be accepted\n",
    "x0 = 512\n",
    "y0 = 512\n",
    "\n",
    "inputfolder_path= \"/home/bubl3932/files/UOX_sim\"\n",
    "\n",
    "##### Enter parameters above #####\n",
    "\n",
    "find_files_and_run_centerfinding(inputfolder_path, x0, y0, tolerance, min_peaks, resolution_limit, min_samples_fraction)"
   ]
  },
  {
   "cell_type": "markdown",
   "metadata": {},
   "source": [
    "Improve the center beam center with a LOWESS fit"
   ]
  },
  {
   "cell_type": "code",
   "execution_count": null,
   "metadata": {},
   "outputs": [],
   "source": [
    "# Center Beam Drift Refinement Function Definitions\n",
    "\n",
    "from centerrefinement_def import find_files_and_run_centerrefinement\n"
   ]
  },
  {
   "cell_type": "code",
   "execution_count": null,
   "metadata": {},
   "outputs": [],
   "source": [
    "# Center Beam Drift Refinement\n",
    "tolerance = 3 # If you know that your beam center is close to the center of the detector you can reduce the tolerance to reduce the processing time\n",
    "min_peaks = 10 # Minimum number of peaks in frame to be used for refinement\n",
    "resolution_limit = 400 # Maximum resolution (pixels) of peaks to be considered for refinement\n",
    "max_iterations = 20 # Maximum number of iterations for refinement\n",
    "convergence_threshold = 0.05 # Refinement is stopped when the deviation of the LOWESS fit does not exceed the threshold (given in pixels)\n",
    "\n",
    "inputfolder_path= \"/home/buster/UOX1\"\n",
    "\n",
    "##### Enter your parameters above #####\n",
    "\n",
    "find_files_and_run_centerrefinement(inputfolder_path, tolerance, min_peaks, resolution_limit, max_iterations, convergence_threshold)"
   ]
  },
  {
   "cell_type": "markdown",
   "metadata": {},
   "source": [
    "And now to find the indexing using xGandalf (layers = layers of step size )"
   ]
  },
  {
   "cell_type": "code",
   "execution_count": 1,
   "metadata": {},
   "outputs": [],
   "source": [
    "# Indexing Function Definitions\n",
    "\n",
    "from gandalf_iterator import gandalf_iterator"
   ]
  },
  {
   "cell_type": "code",
   "execution_count": 2,
   "metadata": {},
   "outputs": [
    {
     "name": "stderr",
     "output_type": "stream",
     "text": [
      "Processing XY pairs:   0%|          | 0/1 [00:00<?, ?it/s]WARNING: You did not specify --int-radius.\n",
      "WARNING: I will use the default values, which are probably not appropriate for your patterns.\n",
      "This is what I understood your unit cell to be:\n",
      "triclinic P, right handed.\n",
      "a      b      c            alpha   beta  gamma\n",
      " 26.42  30.72  33.01 A     88.32 109.09 112.08 deg\n",
      "List of indexing methods:\n",
      "   0: xgandalf-nolatt-cell      (xgandalf using cell parameters as prior information)\n",
      "Indexing parameters:\n",
      "                  Check unit cell parameters: on\n",
      "                        Check peak alignment: on\n",
      "                   Refine indexing solutions: off\n",
      " Multi-lattice indexing (\"delete and retry\"): off\n",
      "                              Retry indexing: on\n"
     ]
    },
    {
     "name": "stdout",
     "output_type": "stream",
     "text": [
      "Running for x=-512, y=-512\n"
     ]
    },
    {
     "name": "stderr",
     "output_type": "stream",
     "text": [
      "17 images processed, 17 hits (100.0%), 16 indexable (94.1% of hits, 94.1% overall), 16 crystals, 3.4 images/sec.\n",
      "44 images processed, 44 hits (100.0%), 26 indexable (59.1% of hits, 59.1% overall), 26 crystals, 5.3 images/sec.\n",
      "69 images processed, 69 hits (100.0%), 37 indexable (53.6% of hits, 53.6% overall), 37 crystals, 4.8 images/sec.\n",
      "91 images processed, 91 hits (100.0%), 41 indexable (45.1% of hits, 45.1% overall), 41 crystals, 4.4 images/sec.\n",
      "112 images processed, 112 hits (100.0%), 47 indexable (42.0% of hits, 42.0% overall), 47 crystals, 4.1 images/sec.\n",
      "140 images processed, 140 hits (100.0%), 61 indexable (43.6% of hits, 43.6% overall), 61 crystals, 5.5 images/sec.\n",
      "164 images processed, 164 hits (100.0%), 73 indexable (44.5% of hits, 44.5% overall), 73 crystals, 4.7 images/sec.\n",
      "188 images processed, 188 hits (100.0%), 85 indexable (45.2% of hits, 45.2% overall), 85 crystals, 4.7 images/sec.\n",
      "208 images processed, 208 hits (100.0%), 92 indexable (44.2% of hits, 44.2% overall), 92 crystals, 3.9 images/sec.\n",
      "234 images processed, 234 hits (100.0%), 101 indexable (43.2% of hits, 43.2% overall), 101 crystals, 5.2 images/sec.\n",
      "WARNING: Radius determination failed\n",
      "256 images processed, 256 hits (100.0%), 109 indexable (42.6% of hits, 42.6% overall), 109 crystals, 4.3 images/sec.\n",
      "279 images processed, 279 hits (100.0%), 117 indexable (41.9% of hits, 41.9% overall), 117 crystals, 4.4 images/sec.\n",
      "304 images processed, 304 hits (100.0%), 124 indexable (40.8% of hits, 40.8% overall), 124 crystals, 4.6 images/sec.\n",
      "327 images processed, 327 hits (100.0%), 129 indexable (39.4% of hits, 39.4% overall), 129 crystals, 4.4 images/sec.\n",
      "348 images processed, 348 hits (100.0%), 138 indexable (39.7% of hits, 39.7% overall), 138 crystals, 4.2 images/sec.\n",
      "372 images processed, 372 hits (100.0%), 147 indexable (39.5% of hits, 39.5% overall), 147 crystals, 4.8 images/sec.\n",
      "394 images processed, 394 hits (100.0%), 157 indexable (39.8% of hits, 39.8% overall), 157 crystals, 4.3 images/sec.\n",
      "WARNING: Radius determination failed\n",
      "420 images processed, 420 hits (100.0%), 167 indexable (39.8% of hits, 39.8% overall), 167 crystals, 5.1 images/sec.\n",
      "444 images processed, 444 hits (100.0%), 171 indexable (38.5% of hits, 38.5% overall), 171 crystals, 4.6 images/sec.\n",
      "468 images processed, 468 hits (100.0%), 177 indexable (37.8% of hits, 37.8% overall), 177 crystals, 4.7 images/sec.\n",
      "484 images processed, 484 hits (100.0%), 181 indexable (37.4% of hits, 37.4% overall), 181 crystals, 3.2 images/sec.\n",
      "509 images processed, 509 hits (100.0%), 187 indexable (36.7% of hits, 36.7% overall), 187 crystals, 4.9 images/sec.\n",
      "535 images processed, 535 hits (100.0%), 194 indexable (36.3% of hits, 36.3% overall), 194 crystals, 5.1 images/sec.\n",
      "558 images processed, 558 hits (100.0%), 203 indexable (36.4% of hits, 36.4% overall), 203 crystals, 4.6 images/sec.\n",
      "579 images processed, 579 hits (100.0%), 208 indexable (35.9% of hits, 35.9% overall), 208 crystals, 4.0 images/sec.\n",
      "604 images processed, 604 hits (100.0%), 220 indexable (36.4% of hits, 36.4% overall), 220 crystals, 4.8 images/sec.\n",
      "627 images processed, 627 hits (100.0%), 231 indexable (36.8% of hits, 36.8% overall), 231 crystals, 4.6 images/sec.\n",
      "WARNING: Radius determination failed\n",
      "653 images processed, 653 hits (100.0%), 244 indexable (37.4% of hits, 37.4% overall), 244 crystals, 5.1 images/sec.\n",
      "WARNING: Radius determination failed\n",
      "675 images processed, 675 hits (100.0%), 254 indexable (37.6% of hits, 37.6% overall), 254 crystals, 4.3 images/sec.\n",
      "695 images processed, 695 hits (100.0%), 259 indexable (37.3% of hits, 37.3% overall), 259 crystals, 4.0 images/sec.\n",
      "719 images processed, 719 hits (100.0%), 268 indexable (37.3% of hits, 37.3% overall), 268 crystals, 4.6 images/sec.\n",
      "745 images processed, 745 hits (100.0%), 276 indexable (37.0% of hits, 37.0% overall), 276 crystals, 4.9 images/sec.\n",
      "769 images processed, 769 hits (100.0%), 289 indexable (37.6% of hits, 37.6% overall), 289 crystals, 4.7 images/sec.\n",
      "795 images processed, 795 hits (100.0%), 297 indexable (37.4% of hits, 37.4% overall), 297 crystals, 4.8 images/sec.\n",
      "819 images processed, 819 hits (100.0%), 306 indexable (37.4% of hits, 37.4% overall), 306 crystals, 4.6 images/sec.\n",
      "845 images processed, 845 hits (100.0%), 315 indexable (37.3% of hits, 37.3% overall), 315 crystals, 5.1 images/sec.\n",
      "873 images processed, 873 hits (100.0%), 330 indexable (37.8% of hits, 37.8% overall), 330 crystals, 5.4 images/sec.\n",
      "900 images processed, 900 hits (100.0%), 340 indexable (37.8% of hits, 37.8% overall), 340 crystals, 5.1 images/sec.\n",
      "922 images processed, 922 hits (100.0%), 345 indexable (37.4% of hits, 37.4% overall), 345 crystals, 4.4 images/sec.\n",
      "948 images processed, 948 hits (100.0%), 357 indexable (37.7% of hits, 37.7% overall), 357 crystals, 5.0 images/sec.\n",
      "974 images processed, 974 hits (100.0%), 364 indexable (37.4% of hits, 37.4% overall), 364 crystals, 4.9 images/sec.\n",
      "995 images processed, 995 hits (100.0%), 370 indexable (37.2% of hits, 37.2% overall), 370 crystals, 4.1 images/sec.\n",
      "1022 images processed, 1022 hits (100.0%), 382 indexable (37.4% of hits, 37.4% overall), 382 crystals, 5.2 images/sec.\n",
      "1045 images processed, 1045 hits (100.0%), 385 indexable (36.8% of hits, 36.8% overall), 385 crystals, 4.4 images/sec.\n",
      "Processing XY pairs:   0%|          | 0/1 [03:49<?, ?it/s]"
     ]
    },
    {
     "name": "stdout",
     "output_type": "stream",
     "text": [
      "Process interrupted by user.\n"
     ]
    },
    {
     "name": "stderr",
     "output_type": "stream",
     "text": [
      "\n"
     ]
    },
    {
     "name": "stderr",
     "output_type": "stream",
     "text": [
      "1070 images processed, 1070 hits (100.0%), 388 indexable (36.3% of hits, 36.3% overall), 388 crystals, 4.9 images/sec.\n"
     ]
    }
   ],
   "source": [
    "# Indexing (To speed up process make sure output stream is in wsl folder)\n",
    "geomfile_path = \"/home/bubl3932/files/UOX_sim/UOX.geom\"\n",
    "cellfile_path = \"/home/bubl3932/files/UOX_sim/UOX.cell\"\n",
    "input_path =  \"/home/bubl3932/files/UOX_sim\"\n",
    "output_dir = input_path\n",
    "output_file_base = \"UOX_sim\"\n",
    "\n",
    "num_threads = 23\n",
    "indexing_method = \"xgandalf\"\n",
    "resolution_push = 0\n",
    "integration_method = \"rings\"\n",
    "int_radius = \"4,5,8\"\n",
    "min_peaks = 0\n",
    "xgandalf_tolerance = 0.02\n",
    "xgandalf_sampling_pitch = 5\n",
    "xgandalf_iterations = 1\n",
    "tolerance = \"5,5,5,5\"\n",
    "step_size = 0.5\n",
    "layers = 0\n",
    "##### Enter your parameters above #####\n",
    "\n",
    "gandalf_iterator(geomfile_path, cellfile_path, input_path, output_file_base, output_dir, num_threads, indexing_method, resolution_push, integration_method, int_radius, min_peaks, xgandalf_tolerance, xgandalf_sampling_pitch, xgandalf_iterations, tolerance, step_size, layers)\n"
   ]
  },
  {
   "cell_type": "markdown",
   "metadata": {},
   "source": [
    "Then based on RMSD between found peaks and indexed reflections combine the best indexings from xGandalf for each frame to one .stream file and then write a .sol from combinded .stream file."
   ]
  },
  {
   "cell_type": "code",
   "execution_count": null,
   "metadata": {},
   "outputs": [],
   "source": [
    "# Find Best Results Function Definitions\n",
    "\n",
    "from best_results_def import find_best_results, read_stream_write_sol"
   ]
  },
  {
   "cell_type": "code",
   "execution_count": null,
   "metadata": {},
   "outputs": [],
   "source": [
    "# Find Best Results\n",
    "inputfolder_path = '/home/buster/hMTH1_TH287'\n",
    "lattice = \"oP\" # Pearson Symbol read from .cell file first letter for lattice type and second for centering\n",
    "\n",
    "##### Enter your parameters above #####\n",
    "\n",
    "find_best_results(inputfolder_path)\n",
    "\n",
    "import os\n",
    "\n",
    "output_file_path = os.path.join(inputfolder_path, \"best_results.stream\")\n",
    "\n",
    "read_stream_write_sol(output_file_path, lattice)"
   ]
  },
  {
   "cell_type": "markdown",
   "metadata": {},
   "source": [
    "Integrate with best found ring for integration (From Fast Integration)"
   ]
  },
  {
   "cell_type": "code",
   "execution_count": null,
   "metadata": {},
   "outputs": [],
   "source": [
    "# Full Integration Function Definitions\n",
    "\n",
    "from full_int_def import run_indexamajig_with_frames"
   ]
  },
  {
   "cell_type": "code",
   "execution_count": null,
   "metadata": {},
   "outputs": [],
   "source": [
    "# Full Integration\n",
    "geomfile_path = \".geom\"\n",
    "cellfile_path = \".cell\"\n",
    "input_path = \"\"\n",
    "\n",
    "x = -512\n",
    "y = -512\n",
    "num_threads = 23\n",
    "indexing_method = \"file\"\n",
    "resolution_push = 5\n",
    "integration_method = \"rings\"\n",
    "int_radius = \"4,5,9\"\n",
    "min_peaks = 5\n",
    "xgandalf_tolerance = 0.02\n",
    "xgandalf_sampling_pitch = 5\n",
    "xgandalf_min_vector_length = 40\n",
    "xgandalf_max_vector_length = 110\n",
    "xgandalf_iterations = 1\n",
    "tolerance = \"5,5,5,5\"\n",
    "overpredict = True\n",
    "\n",
    "##### Enter your parameters above #####\n",
    "\n",
    "run_indexamajig_with_frames(x, y, geomfile_path, cellfile_path, input_path, num_threads, indexing_method, resolution_push, integration_method, int_radius, min_peaks, xgandalf_tolerance, xgandalf_sampling_pitch, xgandalf_iterations, tolerance)"
   ]
  },
  {
   "cell_type": "markdown",
   "metadata": {},
   "source": [
    "Merge integration results"
   ]
  },
  {
   "cell_type": "code",
   "execution_count": null,
   "metadata": {},
   "outputs": [],
   "source": [
    "# Full Merge Function Definitions\n",
    "\n",
    "from full_merge_def import merge_and_write_mtz"
   ]
  },
  {
   "cell_type": "code",
   "execution_count": null,
   "metadata": {},
   "outputs": [],
   "source": [
    "# Merge\n",
    "input_folder_path = \"\"\n",
    "cellfile_path = \"\"\n",
    "pointgroup = \"\"\n",
    "\n",
    "##### Enter your parameters above #####\n",
    "\n",
    "merge_and_write_mtz(input_folder_path, cellfile_path, pointgroup)"
   ]
  },
  {
   "cell_type": "markdown",
   "metadata": {},
   "source": [
    "Refinement using REFMAC5"
   ]
  },
  {
   "cell_type": "code",
   "execution_count": null,
   "metadata": {},
   "outputs": [],
   "source": [
    "# Full Refine Function Definitions\n",
    "\n",
    "from full_ref_def import process_run_folders"
   ]
  },
  {
   "cell_type": "code",
   "execution_count": null,
   "metadata": {},
   "outputs": [],
   "source": [
    "# Full Refine\n",
    "\n",
    "run_number = 1\n",
    "bins = 30\n",
    "\n",
    "# Global variables for filenames\n",
    "base_path = \"\"\n",
    "pdb_filename = \".pdb\"\n",
    "mtz_orig_filename = \"output.mtz\"\n",
    "output_filename = f\"output_bins_{bins}.txt\"\n",
    "\n",
    "process_run_folders(base_path, run_number)"
   ]
  }
 ],
 "metadata": {
  "kernelspec": {
   "display_name": "diffractem_env",
   "language": "python",
   "name": "python3"
  },
  "language_info": {
   "codemirror_mode": {
    "name": "ipython",
    "version": 3
   },
   "file_extension": ".py",
   "mimetype": "text/x-python",
   "name": "python",
   "nbconvert_exporter": "python",
   "pygments_lexer": "ipython3",
   "version": "3.9.21"
  }
 },
 "nbformat": 4,
 "nbformat_minor": 2
}
