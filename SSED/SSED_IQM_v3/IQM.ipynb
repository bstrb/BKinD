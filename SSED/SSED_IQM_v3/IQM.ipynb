{
 "cells": [
  {
   "cell_type": "code",
   "execution_count": null,
   "metadata": {},
   "outputs": [
    {
     "name": "stdout",
     "output_type": "stream",
     "text": [
      "Evaluating multiple stream files with weights: (12, 12, 10, -12, 10, -15, 10, 12, -12)\n"
     ]
    },
    {
     "name": "stderr",
     "output_type": "stream",
     "text": [
      "Processing chunks in UOX_-512.0_-511.99.stream: 100%|██████████| 26138/26138 [05:54<00:00, 73.70chunk/s]] \n",
      "Processing chunks in UOX_-511.99_-512.01.stream: 100%|██████████| 26138/26138 [05:57<00:00, 73.10chunk/s] \n",
      "Processing chunks in UOX_-512_-512.stream: 100%|██████████| 26138/26138 [05:59<00:00, 72.80chunk/s] unk/s]\n",
      "Processing chunks in UOX_-512.01_-512.01.stream: 100%|██████████| 26138/26138 [05:59<00:00, 72.74chunk/s] \n",
      "Processing chunks in UOX_-512.0_-512.01.stream: 100%|██████████| 26138/26138 [05:59<00:00, 72.61chunk/s]] \n",
      "Processing chunks in UOX_-511.99_-512.0.stream: 100%|██████████| 26138/26138 [06:00<00:00, 72.45chunk/s]s]\n",
      "Processing chunks in UOX_-511.99_-511.99.stream: 100%|██████████| 26138/26138 [06:01<00:00, 72.33chunk/s] \n",
      "Processing chunks in UOX_-512.01_-511.99.stream: 100%|██████████| 26138/26138 [06:01<00:00, 72.31chunk/s] \n",
      "Processing chunks in UOX_-512.01_-512.0.stream: 100%|██████████| 26138/26138 [06:02<00:00, 72.05chunk/s] \n"
     ]
    },
    {
     "name": "stdout",
     "output_type": "stream",
     "text": [
      "Combined metrics CSV written to /home/buster/UOX123/3x3_retry/combined_metrics_IQM_SUM_12_12_10_-12_10_-15_10_12_-12.csv\n",
      "Best results stream file written to /home/buster/UOX123/3x3_retry/best_results_IQM_SUM_12_12_10_-12_10_-15_10_12_-12.stream\n",
      "Writing .sol file from stream: /home/buster/UOX123/3x3_retry/best_results_IQM_SUM_12_12_10_-12_10_-15_10_12_-12.stream\n",
      "Bash script generated: /home/buster/UOX123/3x3_retry/IQM_SUM_12_12_10_-12_10_-15_10_12_-12.sh\n",
      "Running fast integration...\n"
     ]
    },
    {
     "name": "stderr",
     "output_type": "stream",
     "text": [
      "Writing integration output stream: 100%|██████████| 23914/23914 [05:44<00:00, 69.47lines/s]\n"
     ]
    },
    {
     "name": "stdout",
     "output_type": "stream",
     "text": [
      "Integration executed successfully\n",
      "Merging fast integration results...\n",
      "Running partialator for stream file: /home/buster/UOX123/3x3_retry/IQM_SUM_12_12_10_-12_10_-15_10_12_-12/int_rings_3-4-7.stream\n"
     ]
    },
    {
     "name": "stderr",
     "output_type": "stream",
     "text": [
      "Partialator Progress: 100%|██████████| 5/5 [09:17<00:00, 111.44s/Residuals]\n"
     ]
    },
    {
     "name": "stdout",
     "output_type": "stream",
     "text": [
      "Partialator completed for stream file: /home/buster/UOX123/3x3_retry/IQM_SUM_12_12_10_-12_10_-15_10_12_-12/int_rings_3-4-7.stream\n",
      "Converting crystfel.hkl to output.mtz in directory: /home/buster/UOX123/3x3_retry/IQM_SUM_12_12_10_-12_10_-15_10_12_-12/merge_3_iter_int_rings_3-4-7\n",
      "Conversion to output.mtz completed for directory: /home/buster/UOX123/3x3_retry/IQM_SUM_12_12_10_-12_10_-15_10_12_-12/merge_3_iter_int_rings_3-4-7\n",
      "Merging Complete for int_rings_3-4-7\n",
      "Refining fast integration results...\n",
      "Processing folder: /home/buster/UOX123/3x3_retry/IQM_SUM_12_12_10_-12_10_-15_10_12_-12/merge_3_iter_int_rings_3-4-7\n"
     ]
    },
    {
     "name": "stderr",
     "output_type": "stream",
     "text": [
      "Refmac5 CGMAT cycles: 100%|██████████| 30/30 [01:11<00:00,  2.39s/cycle]"
     ]
    },
    {
     "name": "stdout",
     "output_type": "stream",
     "text": [
      "Automation process completed successfully for weights: (12, 12, 10, -12, 10, -15, 10, 12, -12) with a final R factor of 0.1701\n"
     ]
    },
    {
     "name": "stderr",
     "output_type": "stream",
     "text": [
      "\n"
     ]
    }
   ],
   "source": [
    "from find_first_file import find_first_file\n",
    "from automate_evaluation_and_integration import automate_evaluation_and_integration\n",
    "\n",
    "stream_file_folder = \"/home/buster/UOX123/3x3_retry\"\n",
    "cellfile_path = find_first_file(stream_file_folder, \".cell\")\n",
    "pdb_file = find_first_file(stream_file_folder, \".pdb\")\n",
    "\n",
    "weights_list = [\n",
    "    # Top combinations\n",
    "    (12, 12, 10, -12, 10, -17, 10, 12, -12),\n",
    "    (12, 12, 10, -12, 10, -15, 10, 13, -12),\n",
    "    (13, 12, 10, -12, 10, -15, 10, 12, -12),\n",
    "    (12, 12, 10, -15, 10, -15, 10, 12, -12),\n",
    "    (12, 12, 10, -12, 10, -15, 10, 12, -15),\n",
    "    (10, 10, 10, -10, 10, -15, 10, 10, -10),\n",
    "    (10, 10, 10, -10, 10, -17, 10, 10, -10),\n",
    "    (10, 10, 10, -10, 10, -15, 10, 12, -10),\n",
    "    (10, 10, 10, -10, 10, -15, 12, 10, -10),\n",
    "    (10, 10, 10, -10, 10, -15, 10, 10, -12),\n",
    "    (10, 12, 13, -10, 10, -10, 10, 10, -10),\n",
    "    (10, 12, 13, -10, 10, -15, 10, 10, -10),\n",
    "    (10, 12, 13, -10, 10, -10, 12, 10, -10),\n",
    "    (10, 12, 13, -10, 10, -10, 10, 12, -10),\n",
    "    (10, 12, 13, -10, 10, -10, 10, 10, -12),\n",
    "\n",
    "    # Fine-tuned variations\n",
    "    (13, 12, 10, -12, 10, -15, 12, 12, -12),\n",
    "    (12, 13, 13, -12, 10, -15, 10, 12, -12),\n",
    "    (10, 12, 15, -10, 10, -15, 10, 12, -12),\n",
    "    (12, 12, 15, -12, 10, -15, 10, 10, -12),\n",
    "    (12, 12, 10, -17, 10, -15, 10, 12, -12),\n",
    "    (12, 12, 10, -12, 10, -17, 10, 12, -15),\n",
    "    (10, 10, 10, -15, 10, -15, 10, 12, -10),\n",
    "    (10, 12, 13, -15, 10, -15, 10, 10, -12),\n",
    "    (11, 12, 12, -12, 10, -15, 10, 12, -12),\n",
    "    (10, 13, 13, -12, 10, -15, 10, 12, -12),\n",
    "    (10, 10, 12, -10, 12, -15, 12, 10, -12),\n",
    "    (12, 12, 10, -12, 12, -15, 10, 13, -12),\n",
    "    (14, 12, 10, -12, 10, -15, 10, 12, -12),\n",
    "    (12, 14, 13, -12, 10, -15, 10, 12, -12),\n",
    "    (10, 12, 15, -10, 10, -15, 12, 12, -12),\n",
    "    (12, 12, 15, -12, 10, -17, 10, 10, -12),\n",
    "    (12, 12, 10, -17, 10, -15, 10, 12, -17),\n",
    "    (12, 12, 10, -12, 10, -17, 10, 12, -15),\n",
    "    (10, 10, 10, -15, 10, -15, 10, 12, -17),\n",
    "    (10, 12, 13, -15, 10, -15, 10, 10, -15),\n",
    "\n",
    "    # Exploratory variations\n",
    "    (10, 10, 10, -10, 15, -15, 10, 12, -12),\n",
    "    (12, 12, 10, -12, 12, -15, 10, 12, -17),\n",
    "    (10, 10, 12, -15, 10, -10, 12, 12, -15),\n",
    "    (12, 13, 12, -12, 10, -10, 10, 10, -10),\n",
    "    (15, 12, 10, -10, 10, -12, 10, 12, -10),\n",
    "    (12, 12, 10, -12, 10, -20, 10, 12, -15),\n",
    "    (10, 10, 10, -15, 10, -10, 10, 12, -12),\n",
    "    (10, 13, 15, -12, 10, -15, 10, 10, -10),\n",
    "    (12, 12, 10, -15, 15, -15, 10, 12, -12),\n",
    "    (10, 15, 10, -10, 10, -10, 10, 12, -12),\n",
    "    (12, 12, 10, -15, 10, -15, 10, 12, -10),\n",
    "    (10, 12, 10, -12, 10, -15, 10, 12, -15),\n",
    "    (15, 10, 10, -12, 10, -15, 10, 12, -15),\n",
    "    (12, 12, 10, -12, 10, -12, 12, 10, -12),\n",
    "    (10, 10, 10, -15, 10, -10, 10, 10, -12),\n",
    "    (10, 10, 12, -12, 12, -15, 10, 10, -12),\n",
    "    (12, 12, 10, -10, 10, -15, 10, 12, -10),\n",
    "    (10, 12, 12, -12, 10, -12, 10, 12, -12),\n",
    "    (10, 10, 12, -10, 10, -15, 10, 10, -15),\n",
    "    (10, 10, 12, -12, 10, -12, 10, 10, -15),\n",
    "]\n",
    "\n",
    "\n",
    "lattice = \"oI\"  # Pearson Symbol read from .cell file first letter for lattice type and second for centering\n",
    "ring_size = [(3, 4, 7)]\n",
    "pointgroup = \"mmm\"\n",
    "num_threads = 23\n",
    "bins = 20\n",
    "min_res = 1.5\n",
    "iterations = 3\n",
    "\n",
    "automate_evaluation_and_integration(stream_file_folder, weights_list, lattice, ring_size, cellfile_path, pointgroup, num_threads, bins, pdb_file, min_res, iterations)\n"
   ]
  }
 ],
 "metadata": {
  "kernelspec": {
   "display_name": "diffractem_env",
   "language": "python",
   "name": "python3"
  },
  "language_info": {
   "codemirror_mode": {
    "name": "ipython",
    "version": 3
   },
   "file_extension": ".py",
   "mimetype": "text/x-python",
   "name": "python",
   "nbconvert_exporter": "python",
   "pygments_lexer": "ipython3",
   "version": "3.10.14"
  }
 },
 "nbformat": 4,
 "nbformat_minor": 2
}
