{
 "cells": [
  {
   "cell_type": "markdown",
   "metadata": {},
   "source": [
    "Conversion from .emd to .h5 format."
   ]
  },
  {
   "cell_type": "code",
   "execution_count": null,
   "metadata": {},
   "outputs": [],
   "source": [
    "# Conversion Function Definitions\n",
    "\n",
    "from conversion_def import find_and_process_velox_files"
   ]
  },
  {
   "cell_type": "code",
   "execution_count": null,
   "metadata": {},
   "outputs": [],
   "source": [
    "# Convert to HDF5\n",
    "inputfolder_path= \"/home/buster/leidata/hMTH1_TH287_Serial/45deg\"\n",
    "\n",
    "find_and_process_velox_files(inputfolder_path)"
   ]
  },
  {
   "cell_type": "markdown",
   "metadata": {},
   "source": [
    "Peakfinding using peakfinder8 from diffractem package. First open .h5 file in crystfel using .geom file that refers to correct mask file and find good peakfinding settings. Make sure there are enough friedel pairs for center beam finding and fitting. Don't put the mask in the same folder as the .h5 file since it is also .h5 format. If peakfinding has been run old data will be deleted."
   ]
  },
  {
   "cell_type": "code",
   "execution_count": null,
   "metadata": {},
   "outputs": [],
   "source": [
    "# Peak Finder Function Definitions\n",
    "\n",
    "from peakfinder_def import find_files_and_run_peakfinding"
   ]
  },
  {
   "cell_type": "code",
   "execution_count": null,
   "metadata": {},
   "outputs": [],
   "source": [
    "# Peak Finder\n",
    "inputfolder_path = \"/home/buster/leidata/hMTH1_TH287_Serial/45deg\"\n",
    "\n",
    "# Peakfinder settings:\n",
    "threshold = 80\n",
    "min_snr = 4\n",
    "min_pix_count = 2\n",
    "max_pix_count = 200 \n",
    "local_bg_radius = 10\n",
    "min_res = 30\n",
    "max_res = 1200\n",
    "x0 = 525\n",
    "y0 = 500  \n",
    "\n",
    "##### Enter parameters above #####\n",
    "\n",
    "find_files_and_run_peakfinding(inputfolder_path, x0, y0, threshold, min_snr, min_pix_count, max_pix_count, local_bg_radius, min_res, max_res)"
   ]
  },
  {
   "cell_type": "markdown",
   "metadata": {},
   "source": [
    "Find the center beam spot center on all frames using friedel pairs and  interpolation."
   ]
  },
  {
   "cell_type": "code",
   "execution_count": null,
   "metadata": {},
   "outputs": [],
   "source": [
    "# Find Center Beam Spot Center Function Definitions\n",
    "\n",
    "from centerfinding_def import find_files_and_run_centerfinding"
   ]
  },
  {
   "cell_type": "code",
   "execution_count": null,
   "metadata": {},
   "outputs": [],
   "source": [
    "# Find Center Beam Spot Center\n",
    "tolerance = 30 # If you know that your beam center is close to the center of the detector you can reduce the tolerance to reduce the processing time\n",
    "min_peaks = 30 # Minimum number of peaks in a frame to be considered\n",
    "resolution_limit = 200 # Maximum resultuion of peaks to be considered\n",
    "min_samples_fraction = 0.05  # Fraction of datapoints in the largest cluster to be accepted\n",
    "x0 = 512\n",
    "y0 = 512\n",
    "\n",
    "inputfolder_path= \"/home/buster/leidata/hMTH1_TH287_Serial/45deg\"\n",
    "\n",
    "##### Enter parameters above #####\n",
    "\n",
    "find_files_and_run_centerfinding(inputfolder_path, x0, y0, tolerance, min_peaks, resolution_limit, min_samples_fraction)"
   ]
  },
  {
   "cell_type": "markdown",
   "metadata": {},
   "source": [
    "Improve the center beam center with a LOWESS fit"
   ]
  },
  {
   "cell_type": "code",
   "execution_count": null,
   "metadata": {},
   "outputs": [],
   "source": [
    "# Center Beam Drift Refinement Function Definitions\n",
    "\n",
    "from centerrefinement_def import find_files_and_run_centerrefinement\n"
   ]
  },
  {
   "cell_type": "code",
   "execution_count": null,
   "metadata": {},
   "outputs": [],
   "source": [
    "# Center Beam Drift Refinement\n",
    "tolerance = 10 # If you know that your beam center is close to the center of the detector you can reduce the tolerance to reduce the processing time\n",
    "min_peaks = 5 # Minimum number of peaks in frame to be used for refinement\n",
    "resolution_limit = 150 # Maximum resolution (pixels) of peaks to be considered for refinement\n",
    "max_iterations = 5 # Maximum number of iterations for refinement\n",
    "convergence_threshold = 0.05 # Refinement is stopped when the deviation of the LOWESS fit does not exceed the threshold (given in pixels)\n",
    "\n",
    "inputfolder_path= \"/home/buster/leidata/hMTH1_TH287_Serial/45deg\"\n",
    "\n",
    "##### Enter your parameters above #####\n",
    "\n",
    "find_files_and_run_centerrefinement(inputfolder_path, tolerance, min_peaks, resolution_limit, max_iterations, convergence_threshold)"
   ]
  },
  {
   "cell_type": "markdown",
   "metadata": {},
   "source": [
    "And now to find the indexing using xGandalf (5x5=25 output streams as default)"
   ]
  },
  {
   "cell_type": "code",
   "execution_count": null,
   "metadata": {},
   "outputs": [],
   "source": [
    "# Indexing Function Definitions\n",
    "\n",
    "from gandalf_iterator import gandalf_iterator"
   ]
  },
  {
   "cell_type": "code",
   "execution_count": null,
   "metadata": {},
   "outputs": [],
   "source": [
    "# Indexing (To speed up process make sure output stream is in wsl folder)\n",
    "geomfile_path = \"/home/buster/UOX123/UOX.geom\"\n",
    "cellfile_path = \"/home/buster/UOX123/UOX.cell\"\n",
    "input_path = \"/home/buster/UOX123\"\n",
    "output_dir = \"/home/buster/UOX123\"\n",
    "output_file_base = \"UOX\"\n",
    "\n",
    "num_threads = 23\n",
    "indexing_method = \"xgandalf\"\n",
    "resolution_push = 0\n",
    "integration_method = \"rings\"\n",
    "int_radius = \"4,5,8\"\n",
    "min_peaks = 15\n",
    "xgandalf_tolerance = 0.02\n",
    "xgandalf_sampling_pitch = 5\n",
    "# xgandalf_min_vector_length = 40\n",
    "# xgandalf_max_vector_length = 110\n",
    "xgandalf_iterations = 1\n",
    "tolerance = \"5,5,5,5\"\n",
    "step = 0.01\n",
    "layers = 1\n",
    "##### Enter your parameters above #####\n",
    "\n",
    "# gandalf_iterator(geomfile_path, cellfile_path, input_path, output_file_base, output_dir, num_threads, indexing_method, resolution_push, integration_method, int_radius, min_peaks, xgandalf_tolerance, xgandalf_sampling_pitch, xgandalf_min_vector_length, xgandalf_max_vector_length, xgandalf_iterations, tolerance, step, layers)\n",
    "gandalf_iterator(geomfile_path, cellfile_path, input_path, output_file_base, output_dir, num_threads, indexing_method, resolution_push, integration_method, int_radius, min_peaks, xgandalf_tolerance, xgandalf_sampling_pitch, xgandalf_iterations, tolerance, step, layers)\n"
   ]
  },
  {
   "cell_type": "markdown",
   "metadata": {},
   "source": [
    "Then based on RMSD between found peaks and indexed reflections combine the best indexings from xGandalf for each frame to one .stream file and then write a .sol from combinded .stream file."
   ]
  },
  {
   "cell_type": "code",
   "execution_count": 1,
   "metadata": {},
   "outputs": [],
   "source": [
    "# Find Best Results Function Definitions\n",
    "\n",
    "from best_results_def import find_best_results, read_stream_write_sol"
   ]
  },
  {
   "cell_type": "code",
   "execution_count": 2,
   "metadata": {},
   "outputs": [
    {
     "name": "stdout",
     "output_type": "stream",
     "text": [
      "['/home/buster/hMTH1_TH287/20241111_hMTH1_TH287_-512.01_-511.98.stream', '/home/buster/hMTH1_TH287/20241111_hMTH1_TH287_-511.98_-512.0.stream', '/home/buster/hMTH1_TH287/20241111_hMTH1_TH287_-512.02_-512.0.stream', '/home/buster/hMTH1_TH287/20241111_hMTH1_TH287_-512.0_-511.98.stream', '/home/buster/hMTH1_TH287/20241111_hMTH1_TH287_-512.01_-512.0.stream', '/home/buster/hMTH1_TH287/20241111_hMTH1_TH287_-511.98_-511.99.stream', '/home/buster/hMTH1_TH287/20241111_hMTH1_TH287_-511.99_-511.98.stream', '/home/buster/hMTH1_TH287/20241111_hMTH1_TH287_-512.0_-511.99.stream', '/home/buster/hMTH1_TH287/20241111_hMTH1_TH287_-512.0_-512.02.stream', '/home/buster/hMTH1_TH287/20241111_hMTH1_TH287_-512.02_-512.01.stream', '/home/buster/hMTH1_TH287/20241111_hMTH1_TH287_-512.01_-511.99.stream', '/home/buster/hMTH1_TH287/20241111_hMTH1_TH287_-512_-512.stream', '/home/buster/hMTH1_TH287/20241111_hMTH1_TH287_-511.98_-511.98.stream', '/home/buster/hMTH1_TH287/20241111_hMTH1_TH287_-511.98_-512.02.stream', '/home/buster/hMTH1_TH287/20241111_hMTH1_TH287_-512.02_-512.02.stream', '/home/buster/hMTH1_TH287/20241111_hMTH1_TH287_-511.99_-512.0.stream', '/home/buster/hMTH1_TH287/20241111_hMTH1_TH287_-512.02_-511.99.stream', '/home/buster/hMTH1_TH287/20241111_hMTH1_TH287_-511.98_-512.01.stream', '/home/buster/hMTH1_TH287/20241111_hMTH1_TH287_-512.0_-512.01.stream', '/home/buster/hMTH1_TH287/20241111_hMTH1_TH287_-511.99_-512.01.stream', '/home/buster/hMTH1_TH287/20241111_hMTH1_TH287_-512.02_-511.98.stream', '/home/buster/hMTH1_TH287/20241111_hMTH1_TH287_-512.01_-512.02.stream', '/home/buster/hMTH1_TH287/20241111_hMTH1_TH287_-512.01_-512.01.stream', '/home/buster/hMTH1_TH287/20241111_hMTH1_TH287_-511.99_-511.99.stream', '/home/buster/hMTH1_TH287/20241111_hMTH1_TH287_-511.99_-512.02.stream']\n",
      "File: /home/buster/hMTH1_TH287/20241111_hMTH1_TH287_-512.01_-511.98.stream, Average RMSD: 5.1607293713068865, Chunk Count: 26974, Indexed Patterns: 5922\n",
      "File: /home/buster/hMTH1_TH287/20241111_hMTH1_TH287_-511.98_-512.0.stream, Average RMSD: 5.151263944424709, Chunk Count: 26974, Indexed Patterns: 5876\n",
      "File: /home/buster/hMTH1_TH287/20241111_hMTH1_TH287_-512.02_-512.0.stream, Average RMSD: 5.16324314646921, Chunk Count: 26974, Indexed Patterns: 5937\n",
      "File: /home/buster/hMTH1_TH287/20241111_hMTH1_TH287_-512.0_-511.98.stream, Average RMSD: 5.25478135723221, Chunk Count: 26974, Indexed Patterns: 5981\n",
      "File: /home/buster/hMTH1_TH287/20241111_hMTH1_TH287_-512.01_-512.0.stream, Average RMSD: 5.215926236990388, Chunk Count: 26974, Indexed Patterns: 5944\n",
      "File: /home/buster/hMTH1_TH287/20241111_hMTH1_TH287_-511.98_-511.99.stream, Average RMSD: 5.153966940020451, Chunk Count: 26974, Indexed Patterns: 5960\n",
      "File: /home/buster/hMTH1_TH287/20241111_hMTH1_TH287_-511.99_-511.98.stream, Average RMSD: 5.193495510606577, Chunk Count: 26974, Indexed Patterns: 5946\n",
      "File: /home/buster/hMTH1_TH287/20241111_hMTH1_TH287_-512.0_-511.99.stream, Average RMSD: 5.0811713861661145, Chunk Count: 26974, Indexed Patterns: 5987\n",
      "File: /home/buster/hMTH1_TH287/20241111_hMTH1_TH287_-512.0_-512.02.stream, Average RMSD: 5.171475104505279, Chunk Count: 26974, Indexed Patterns: 5927\n",
      "File: /home/buster/hMTH1_TH287/20241111_hMTH1_TH287_-512.02_-512.01.stream, Average RMSD: 5.287543458757452, Chunk Count: 26974, Indexed Patterns: 5959\n",
      "File: /home/buster/hMTH1_TH287/20241111_hMTH1_TH287_-512.01_-511.99.stream, Average RMSD: 5.098767206892361, Chunk Count: 26974, Indexed Patterns: 6013\n",
      "File: /home/buster/hMTH1_TH287/20241111_hMTH1_TH287_-512_-512.stream, Average RMSD: 5.174856029521072, Chunk Count: 26974, Indexed Patterns: 5958\n",
      "File: /home/buster/hMTH1_TH287/20241111_hMTH1_TH287_-511.98_-511.98.stream, Average RMSD: 5.321784237141842, Chunk Count: 26974, Indexed Patterns: 5947\n",
      "File: /home/buster/hMTH1_TH287/20241111_hMTH1_TH287_-511.98_-512.02.stream, Average RMSD: 5.08782132430694, Chunk Count: 26974, Indexed Patterns: 5924\n",
      "File: /home/buster/hMTH1_TH287/20241111_hMTH1_TH287_-512.02_-512.02.stream, Average RMSD: 5.076175088889874, Chunk Count: 26974, Indexed Patterns: 5893\n",
      "File: /home/buster/hMTH1_TH287/20241111_hMTH1_TH287_-511.99_-512.0.stream, Average RMSD: 5.073840707398521, Chunk Count: 26974, Indexed Patterns: 5925\n",
      "File: /home/buster/hMTH1_TH287/20241111_hMTH1_TH287_-512.02_-511.99.stream, Average RMSD: 5.325181226231204, Chunk Count: 26974, Indexed Patterns: 5942\n",
      "File: /home/buster/hMTH1_TH287/20241111_hMTH1_TH287_-511.98_-512.01.stream, Average RMSD: 5.231758289790728, Chunk Count: 26974, Indexed Patterns: 5940\n",
      "File: /home/buster/hMTH1_TH287/20241111_hMTH1_TH287_-512.0_-512.01.stream, Average RMSD: 5.249853168643796, Chunk Count: 26974, Indexed Patterns: 5847\n",
      "File: /home/buster/hMTH1_TH287/20241111_hMTH1_TH287_-511.99_-512.01.stream, Average RMSD: 5.217836001950618, Chunk Count: 26974, Indexed Patterns: 5855\n",
      "File: /home/buster/hMTH1_TH287/20241111_hMTH1_TH287_-512.02_-511.98.stream, Average RMSD: 5.479795022857329, Chunk Count: 26974, Indexed Patterns: 5987\n",
      "File: /home/buster/hMTH1_TH287/20241111_hMTH1_TH287_-512.01_-512.02.stream, Average RMSD: 5.21512751089998, Chunk Count: 26974, Indexed Patterns: 5908\n",
      "File: /home/buster/hMTH1_TH287/20241111_hMTH1_TH287_-512.01_-512.01.stream, Average RMSD: 5.209436377529586, Chunk Count: 26974, Indexed Patterns: 5976\n",
      "File: /home/buster/hMTH1_TH287/20241111_hMTH1_TH287_-511.99_-511.99.stream, Average RMSD: 4.970898518790129, Chunk Count: 26974, Indexed Patterns: 5871\n",
      "File: /home/buster/hMTH1_TH287/20241111_hMTH1_TH287_-511.99_-512.02.stream, Average RMSD: 5.174104301625607, Chunk Count: 26974, Indexed Patterns: 5912\n",
      "File: /home/buster/hMTH1_TH287/best_results.stream, Average RMSD: 4.665, Chunk Count: 9185, Indexed Patterns: 9185\n",
      "Adding header to /home/buster/hMTH1_TH287/best_results.stream...\n",
      "/home/buster/hMTH1_TH287/20241111_hMTH1_TH287_-512.01_-511.98.stream\n",
      "Header copied and added to /home/buster/hMTH1_TH287/best_results.stream\n"
     ]
    }
   ],
   "source": [
    "# Find Best Results\n",
    "inputfolder_path = '/home/buster/hMTH1_TH287'\n",
    "lattice = \"oP\" # Pearson Symbol read from .cell file first letter for lattice type and second for centering\n",
    "\n",
    "##### Enter your parameters above #####\n",
    "\n",
    "find_best_results(inputfolder_path)\n",
    "\n",
    "import os\n",
    "\n",
    "output_file_path = os.path.join(inputfolder_path, \"best_results.stream\")\n",
    "\n",
    "read_stream_write_sol(output_file_path, lattice)"
   ]
  },
  {
   "cell_type": "markdown",
   "metadata": {},
   "source": [
    "Integrate with best found ring for integration (From Fast Integration)"
   ]
  },
  {
   "cell_type": "code",
   "execution_count": null,
   "metadata": {},
   "outputs": [],
   "source": [
    "# Full Integration Function Definitions\n",
    "\n",
    "from full_int_def import run_indexamajig_with_frames"
   ]
  },
  {
   "cell_type": "code",
   "execution_count": null,
   "metadata": {},
   "outputs": [],
   "source": [
    "# Full Integration\n",
    "geomfile_path = \".geom\"\n",
    "cellfile_path = \".cell\"\n",
    "input_path = \"\"\n",
    "\n",
    "x = -512\n",
    "y = -512\n",
    "num_threads = 23\n",
    "indexing_method = \"file\"\n",
    "resolution_push = 5\n",
    "integration_method = \"rings\"\n",
    "int_radius = \"4,5,9\"\n",
    "min_peaks = 5\n",
    "xgandalf_tolerance = 0.02\n",
    "xgandalf_sampling_pitch = 5\n",
    "xgandalf_min_vector_length = 40\n",
    "xgandalf_max_vector_length = 110\n",
    "xgandalf_iterations = 1\n",
    "tolerance = \"5,5,5,5\"\n",
    "overpredict = True\n",
    "\n",
    "##### Enter your parameters above #####\n",
    "\n",
    "run_indexamajig_with_frames(x, y, geomfile_path, cellfile_path, input_path, num_threads, indexing_method, resolution_push, integration_method, int_radius, min_peaks, xgandalf_tolerance, xgandalf_sampling_pitch, xgandalf_iterations, tolerance)"
   ]
  },
  {
   "cell_type": "markdown",
   "metadata": {},
   "source": [
    "Merge integration results"
   ]
  },
  {
   "cell_type": "code",
   "execution_count": null,
   "metadata": {},
   "outputs": [],
   "source": [
    "# Full Merge Function Definitions\n",
    "\n",
    "from full_merge_def import merge_and_write_mtz"
   ]
  },
  {
   "cell_type": "code",
   "execution_count": null,
   "metadata": {},
   "outputs": [],
   "source": [
    "# Merge\n",
    "input_folder_path = \"\"\n",
    "cellfile_path = \"\"\n",
    "pointgroup = \"\"\n",
    "\n",
    "##### Enter your parameters above #####\n",
    "\n",
    "merge_and_write_mtz(input_folder_path, cellfile_path, pointgroup)"
   ]
  },
  {
   "cell_type": "markdown",
   "metadata": {},
   "source": [
    "Refinement using REFMAC5"
   ]
  },
  {
   "cell_type": "code",
   "execution_count": null,
   "metadata": {},
   "outputs": [],
   "source": [
    "# Full Refine Function Definitions\n",
    "\n",
    "from full_ref_def import process_run_folders"
   ]
  },
  {
   "cell_type": "code",
   "execution_count": null,
   "metadata": {},
   "outputs": [],
   "source": [
    "# Full Refine\n",
    "\n",
    "run_number = 1\n",
    "bins = 30\n",
    "\n",
    "# Global variables for filenames\n",
    "base_path = \"\"\n",
    "pdb_filename = \".pdb\"\n",
    "mtz_orig_filename = \"output.mtz\"\n",
    "output_filename = f\"output_bins_{bins}.txt\"\n",
    "\n",
    "process_run_folders(base_path, run_number)"
   ]
  }
 ],
 "metadata": {
  "kernelspec": {
   "display_name": "diffractem_env",
   "language": "python",
   "name": "python3"
  },
  "language_info": {
   "codemirror_mode": {
    "name": "ipython",
    "version": 3
   },
   "file_extension": ".py",
   "mimetype": "text/x-python",
   "name": "python",
   "nbconvert_exporter": "python",
   "pygments_lexer": "ipython3",
   "version": "3.10.14"
  }
 },
 "nbformat": 4,
 "nbformat_minor": 2
}
