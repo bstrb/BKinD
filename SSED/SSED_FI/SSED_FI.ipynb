{
 "cells": [
  {
   "cell_type": "markdown",
   "metadata": {},
   "source": [
    "Fast integration with different ring integrations to find optimal."
   ]
  },
  {
   "cell_type": "code",
   "execution_count": 2,
   "metadata": {},
   "outputs": [],
   "source": [
    "# Fast Integration Function Definitions\n",
    "\n",
    "from fast_int_def import fast_integration"
   ]
  },
  {
   "cell_type": "code",
   "execution_count": 5,
   "metadata": {},
   "outputs": [
    {
     "name": "stdout",
     "output_type": "stream",
     "text": [
      "Bash script content:\n",
      "indexamajig -i list.lst -g UOX.geom -p UOX.cell -j 23 -o /home/buster/UOX1/3x3/fast_int_RCIS/fast_int_rings_3-4-7.stream --indexing=file --fromfile-input-file=best_results_RCIS.sol --no-revalidate --no-retry --integration=rings --no-refine --no-half-pixel-shift --no-check-cell --peaks=cxi --min-peaks=15 --int-radius=3,4,7\n",
      "Script executed successfully\n",
      "Output: \n"
     ]
    }
   ],
   "source": [
    "# Fast integration\n",
    "# ring_sizes = [(3,4,5), (1,5,11), ...]\n",
    "ring_sizes = [(3,4,7)]\n",
    "\n",
    "bash_file_path = \"/home/buster/UOX1/3x3/fast_int_RCIS.sh\" # Create a bash file using create_bash_lst script\n",
    "output_stream_format = \"/home/buster/UOX1/3x3/fast_int_RCIS/fast_int.stream\"\n",
    "\n",
    "fast_integration(bash_file_path, output_stream_format, integration=\"rings\", ring_sizes=ring_sizes)"
   ]
  },
  {
   "cell_type": "markdown",
   "metadata": {},
   "source": [
    "Merge, Refine and Plot Fast Integration Results for Analysis"
   ]
  },
  {
   "cell_type": "code",
   "execution_count": 6,
   "metadata": {},
   "outputs": [],
   "source": [
    "# Merge Fast Integration Results Function Definition\n",
    "\n",
    "from fast_merge_def import merge_and_write_mtz"
   ]
  },
  {
   "cell_type": "code",
   "execution_count": null,
   "metadata": {},
   "outputs": [
    {
     "name": "stdout",
     "output_type": "stream",
     "text": [
      "[1/1] Running merging for ring sizes: 3-4-7\n",
      "Running partialator for stream file: /home/buster/UOX1/3x3/fast_int_RMSD/fast_int_rings_3-4-7.stream\n"
     ]
    }
   ],
   "source": [
    "# Merge Fast Integration Results\n",
    "input_folder_path = \"/home/buster/UOX1/3x3/fast_int_RMSD\"\n",
    "cellfile_path = \"/home/buster/UOX1/UOX.cell\"\n",
    "pointgroup = \"mmm\"\n",
    "num_threads = 23\n",
    "\n",
    "##### Enter your parameters above #####\n",
    "\n",
    "merge_and_write_mtz(input_folder_path, cellfile_path, pointgroup, num_threads)\n"
   ]
  },
  {
   "cell_type": "code",
   "execution_count": 20,
   "metadata": {},
   "outputs": [],
   "source": [
    "# Refine Fast Integration Results Function Definitions\n",
    "\n",
    "from fast_ref_def import process_run_folders"
   ]
  },
  {
   "cell_type": "code",
   "execution_count": null,
   "metadata": {},
   "outputs": [],
   "source": [
    "# Refine Fast Integration Results\n",
    "\n",
    "run_number = 1\n",
    "bins = 20\n",
    "\n",
    "# Global variables for filenames\n",
    "base_path =  \"/home/buster/UOX1/3x3/fast_int_RCIS\"\n",
    "pdb_filename = \"UOX.pdb\" # make sure it is found in the same file as integration output streams\n",
    "mtz_orig_filename = \"output.mtz\"\n",
    "output_filename = f\"output_bins_{bins}.txt\"\n",
    "\n",
    "\n",
    "process_run_folders(base_path, run_number, pdb_filename, mtz_orig_filename, output_filename, bins)\n"
   ]
  },
  {
   "cell_type": "code",
   "execution_count": 5,
   "metadata": {},
   "outputs": [],
   "source": [
    "# Plot fast refinement results functions definitions\n",
    "\n",
    "from plot_fast_int_def import process_and_plot_all_files"
   ]
  },
  {
   "cell_type": "code",
   "execution_count": null,
   "metadata": {},
   "outputs": [],
   "source": [
    "# Plot Fast Integration Refinement Results\n",
    "\n",
    "bins = 20\n",
    "base_path = \"/home/buster/UOX1/5x5_0-05_indexing/fast_int\"\n",
    "output_filename = f\"output_bins_{bins}.txt\"\n",
    "\n",
    "process_and_plot_all_files(base_path, output_filename)\n"
   ]
  }
 ],
 "metadata": {
  "kernelspec": {
   "display_name": "diffractem_env",
   "language": "python",
   "name": "python3"
  },
  "language_info": {
   "codemirror_mode": {
    "name": "ipython",
    "version": 3
   },
   "file_extension": ".py",
   "mimetype": "text/x-python",
   "name": "python",
   "nbconvert_exporter": "python",
   "pygments_lexer": "ipython3",
   "version": "3.10.14"
  }
 },
 "nbformat": 4,
 "nbformat_minor": 2
}
