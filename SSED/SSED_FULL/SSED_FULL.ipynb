{
 "cells": [
  {
   "cell_type": "markdown",
   "metadata": {},
   "source": [
    "Conversion from .emd to .h5 format."
   ]
  },
  {
   "cell_type": "code",
   "execution_count": null,
   "metadata": {},
   "outputs": [],
   "source": [
    "# Conversion Function Definitions\n",
    "\n",
    "from conversion_def import find_and_process_velox_files"
   ]
  },
  {
   "cell_type": "code",
   "execution_count": null,
   "metadata": {},
   "outputs": [],
   "source": [
    "# Convert to HDF5\n",
    "inputfolder_path= \"/home/buster/UOX1/unprocessed/UOX_His_MUA_450nm_spot4_ON_20240311_0928.h5\"\n",
    "\n",
    "find_and_process_velox_files(inputfolder_path)"
   ]
  },
  {
   "cell_type": "markdown",
   "metadata": {},
   "source": [
    "Peakfinding using peakfinder8 from diffractem package. First open .h5 file in crystfel using .geom file that refers to correct mask file and find good peakfinding settings. Make sure there are enough friedel pairs for center beam finding and fitting. Don't put the mask in the same folder as the .h5 file since it is also .h5 format. If peakfinding has been run old data will be deleted."
   ]
  },
  {
   "cell_type": "code",
   "execution_count": null,
   "metadata": {},
   "outputs": [],
   "source": [
    "# Peak Finder Function Definitions\n",
    "\n",
    "from peakfinder_def import find_files_and_run_peakfinding"
   ]
  },
  {
   "cell_type": "code",
   "execution_count": null,
   "metadata": {},
   "outputs": [],
   "source": [
    "# Peak Finder\n",
    "inputfolder_path = '/home/bubl3932/files/UOX_sim'\n",
    "\n",
    "# Peakfinder settings:\n",
    "threshold = 45      \n",
    "min_snr = 10\n",
    "min_pix_count = 3\n",
    "max_pix_count = 200\n",
    "local_bg_radius = 10\n",
    "min_res = 50\n",
    "max_res = 300\n",
    "x0 = 512\n",
    "y0 = 512  \n",
    "\n",
    "##### Enter parameters above #####\n",
    "\n",
    "find_files_and_run_peakfinding(inputfolder_path, x0, y0, threshold, min_snr, min_pix_count, max_pix_count, local_bg_radius, min_res, max_res)"
   ]
  },
  {
   "cell_type": "markdown",
   "metadata": {},
   "source": [
    "Find the center beam spot center on all frames using friedel pairs and  interpolation."
   ]
  },
  {
   "cell_type": "code",
   "execution_count": 1,
   "metadata": {},
   "outputs": [],
   "source": [
    "# Find Center Beam Spot Center Function Definitions\n",
    "\n",
    "from centerfinding_def import find_files_and_run_centerfinding"
   ]
  },
  {
   "cell_type": "code",
   "execution_count": null,
   "metadata": {},
   "outputs": [],
   "source": [
    "# Find Center Beam Spot Center\n",
    "tolerance = 8 # If you know that your beam center is close to the center of the detector you can reduce the tolerance to reduce the processing time\n",
    "min_peaks = 10 # Minimum number of peaks in a frame to be considered\n",
    "resolution_limit = 150 # Maximum resultuion of peaks to be considered\n",
    "min_samples_fraction = 0.01  # Fraction of datapoints in the largest cluster to be accepted\n",
    "x0 = 512\n",
    "y0 = 512\n",
    "\n",
    "inputfolder_path= \"/home/bubl3932/files/UOX_sim\"\n",
    "\n",
    "##### Enter parameters above #####\n",
    "\n",
    "find_files_and_run_centerfinding(inputfolder_path, x0, y0, tolerance, min_peaks, resolution_limit, min_samples_fraction)"
   ]
  },
  {
   "cell_type": "markdown",
   "metadata": {},
   "source": [
    "Improve the center beam center with a LOWESS fit"
   ]
  },
  {
   "cell_type": "code",
   "execution_count": null,
   "metadata": {},
   "outputs": [],
   "source": [
    "# Center Beam Drift Refinement Function Definitions\n",
    "\n",
    "from centerrefinement_def import find_files_and_run_centerrefinement\n"
   ]
  },
  {
   "cell_type": "code",
   "execution_count": null,
   "metadata": {},
   "outputs": [],
   "source": [
    "# Center Beam Drift Refinement\n",
    "tolerance = 3 # If you know that your beam center is close to the center of the detector you can reduce the tolerance to reduce the processing time\n",
    "min_peaks = 10 # Minimum number of peaks in frame to be used for refinement\n",
    "resolution_limit = 400 # Maximum resolution (pixels) of peaks to be considered for refinement\n",
    "max_iterations = 20 # Maximum number of iterations for refinement\n",
    "convergence_threshold = 0.05 # Refinement is stopped when the deviation of the LOWESS fit does not exceed the threshold (given in pixels)\n",
    "\n",
    "inputfolder_path= \"/home/buster/UOX1\"\n",
    "\n",
    "##### Enter your parameters above #####\n",
    "\n",
    "find_files_and_run_centerrefinement(inputfolder_path, tolerance, min_peaks, resolution_limit, max_iterations, convergence_threshold)"
   ]
  },
  {
   "cell_type": "markdown",
   "metadata": {},
   "source": [
    "And now to find the indexing using xGandalf (layers = layers of step size )"
   ]
  },
  {
   "cell_type": "code",
   "execution_count": 2,
   "metadata": {},
   "outputs": [],
   "source": [
    "# Indexing Function Definitions\n",
    "\n",
    "from gandalf_iterator import gandalf_iterator"
   ]
  },
  {
   "cell_type": "code",
   "execution_count": 3,
   "metadata": {},
   "outputs": [
    {
     "name": "stderr",
     "output_type": "stream",
     "text": [
      "Processing XY pairs:   0%|          | 0/441 [00:00<?, ?it/s]WARNING: You did not specify --int-radius.\n",
      "WARNING: I will use the default values, which are probably not appropriate for your patterns.\n",
      "This is what I understood your unit cell to be:\n",
      "orthorhombic I, right handed.\n",
      "a      b      c            alpha   beta  gamma\n",
      " 80.58  94.49 103.89 A     90.00  90.00  90.00 deg\n",
      "List of indexing methods:\n",
      "   0: xgandalf-nolatt-cell      (xgandalf using cell parameters as prior information)\n",
      "Indexing parameters:\n",
      "                  Check unit cell parameters: on\n",
      "                        Check peak alignment: on\n",
      "                   Refine indexing solutions: off\n",
      " Multi-lattice indexing (\"delete and retry\"): off\n",
      "                              Retry indexing: on\n"
     ]
    },
    {
     "name": "stdout",
     "output_type": "stream",
     "text": [
      "Running for x=-512, y=-512\n"
     ]
    },
    {
     "name": "stderr",
     "output_type": "stream",
     "text": [
      "WARNING: Radius determination failed\n",
      "Waiting for the last patterns to be processed...\n",
      "86 images processed, 86 hits (100.0%), 61 indexable (70.9% of hits, 70.9% overall), 61 crystals, 17.2 images/sec.\n",
      "Final: 100 images processed, 100 hits (100.0%), 67 indexable (67.0% of hits, 67.0% overall), 67 crystals.\n",
      "Processing XY pairs:   0%|          | 1/441 [00:07<54:02,  7.37s/it]WARNING: You did not specify --int-radius.\n",
      "WARNING: I will use the default values, which are probably not appropriate for your patterns.\n",
      "This is what I understood your unit cell to be:\n",
      "orthorhombic I, right handed.\n",
      "a      b      c            alpha   beta  gamma\n",
      " 80.58  94.49 103.89 A     90.00  90.00  90.00 deg\n",
      "List of indexing methods:\n",
      "   0: xgandalf-nolatt-cell      (xgandalf using cell parameters as prior information)\n",
      "Indexing parameters:\n",
      "                  Check unit cell parameters: on\n",
      "                        Check peak alignment: on\n",
      "                   Refine indexing solutions: off\n",
      " Multi-lattice indexing (\"delete and retry\"): off\n",
      "                              Retry indexing: on\n"
     ]
    },
    {
     "name": "stdout",
     "output_type": "stream",
     "text": [
      "Running for x=-512.1, y=-512.1\n"
     ]
    },
    {
     "name": "stderr",
     "output_type": "stream",
     "text": [
      "Waiting for the last patterns to be processed...\n",
      "83 images processed, 83 hits (100.0%), 60 indexable (72.3% of hits, 72.3% overall), 60 crystals, 16.5 images/sec.\n",
      "Final: 100 images processed, 100 hits (100.0%), 69 indexable (69.0% of hits, 69.0% overall), 69 crystals.\n",
      "Processing XY pairs:   0%|          | 2/441 [00:13<48:39,  6.65s/it]WARNING: You did not specify --int-radius.\n",
      "WARNING: I will use the default values, which are probably not appropriate for your patterns.\n",
      "This is what I understood your unit cell to be:\n",
      "orthorhombic I, right handed.\n",
      "a      b      c            alpha   beta  gamma\n",
      " 80.58  94.49 103.89 A     90.00  90.00  90.00 deg\n",
      "List of indexing methods:\n",
      "   0: xgandalf-nolatt-cell      (xgandalf using cell parameters as prior information)\n",
      "Indexing parameters:\n",
      "                  Check unit cell parameters: on\n",
      "                        Check peak alignment: on\n",
      "                   Refine indexing solutions: off\n",
      " Multi-lattice indexing (\"delete and retry\"): off\n",
      "                              Retry indexing: on\n",
      "WARNING: Radius determination failed\n"
     ]
    },
    {
     "name": "stdout",
     "output_type": "stream",
     "text": [
      "Running for x=-512.1, y=-512.0\n"
     ]
    },
    {
     "name": "stderr",
     "output_type": "stream",
     "text": [
      "Waiting for the last patterns to be processed...\n",
      "85 images processed, 85 hits (100.0%), 60 indexable (70.6% of hits, 70.6% overall), 60 crystals, 16.7 images/sec.\n",
      "Final: 100 images processed, 100 hits (100.0%), 69 indexable (69.0% of hits, 69.0% overall), 69 crystals.\n",
      "Processing XY pairs:   1%|          | 3/441 [00:19<47:55,  6.57s/it]WARNING: You did not specify --int-radius.\n",
      "WARNING: I will use the default values, which are probably not appropriate for your patterns.\n",
      "This is what I understood your unit cell to be:\n",
      "orthorhombic I, right handed.\n",
      "a      b      c            alpha   beta  gamma\n",
      " 80.58  94.49 103.89 A     90.00  90.00  90.00 deg\n",
      "List of indexing methods:\n",
      "   0: xgandalf-nolatt-cell      (xgandalf using cell parameters as prior information)\n",
      "Indexing parameters:\n",
      "                  Check unit cell parameters: on\n",
      "                        Check peak alignment: on\n",
      "                   Refine indexing solutions: off\n",
      " Multi-lattice indexing (\"delete and retry\"): off\n",
      "                              Retry indexing: on\n"
     ]
    },
    {
     "name": "stdout",
     "output_type": "stream",
     "text": [
      "Running for x=-512.1, y=-511.9\n"
     ]
    },
    {
     "name": "stderr",
     "output_type": "stream",
     "text": [
      "73 images processed, 73 hits (100.0%), 47 indexable (64.4% of hits, 64.4% overall), 47 crystals, 14.3 images/sec.\n",
      "Waiting for the last patterns to be processed...\n",
      "Final: 100 images processed, 100 hits (100.0%), 69 indexable (69.0% of hits, 69.0% overall), 69 crystals.\n",
      "Processing XY pairs:   1%|          | 4/441 [00:26<48:38,  6.68s/it]WARNING: You did not specify --int-radius.\n",
      "WARNING: I will use the default values, which are probably not appropriate for your patterns.\n",
      "This is what I understood your unit cell to be:\n",
      "orthorhombic I, right handed.\n",
      "a      b      c            alpha   beta  gamma\n",
      " 80.58  94.49 103.89 A     90.00  90.00  90.00 deg\n",
      "List of indexing methods:\n",
      "   0: xgandalf-nolatt-cell      (xgandalf using cell parameters as prior information)\n",
      "Indexing parameters:\n",
      "                  Check unit cell parameters: on\n",
      "                        Check peak alignment: on\n",
      "                   Refine indexing solutions: off\n",
      " Multi-lattice indexing (\"delete and retry\"): off\n",
      "                              Retry indexing: on\n"
     ]
    },
    {
     "name": "stdout",
     "output_type": "stream",
     "text": [
      "Running for x=-512.0, y=-512.1\n"
     ]
    },
    {
     "name": "stderr",
     "output_type": "stream",
     "text": [
      "WARNING: Radius determination failed\n",
      "Waiting for the last patterns to be processed...\n",
      "79 images processed, 79 hits (100.0%), 58 indexable (73.4% of hits, 73.4% overall), 58 crystals, 15.7 images/sec.\n",
      "Final: 100 images processed, 100 hits (100.0%), 70 indexable (70.0% of hits, 70.0% overall), 70 crystals.\n",
      "Processing XY pairs:   1%|          | 5/441 [00:34<50:33,  6.96s/it]WARNING: You did not specify --int-radius.\n",
      "WARNING: I will use the default values, which are probably not appropriate for your patterns.\n",
      "This is what I understood your unit cell to be:\n",
      "orthorhombic I, right handed.\n",
      "a      b      c            alpha   beta  gamma\n",
      " 80.58  94.49 103.89 A     90.00  90.00  90.00 deg\n",
      "List of indexing methods:\n",
      "   0: xgandalf-nolatt-cell      (xgandalf using cell parameters as prior information)\n",
      "Indexing parameters:\n",
      "                  Check unit cell parameters: on\n",
      "                        Check peak alignment: on\n",
      "                   Refine indexing solutions: off\n",
      " Multi-lattice indexing (\"delete and retry\"): off\n",
      "                              Retry indexing: on\n"
     ]
    },
    {
     "name": "stdout",
     "output_type": "stream",
     "text": [
      "Running for x=-512.0, y=-511.9\n"
     ]
    },
    {
     "name": "stderr",
     "output_type": "stream",
     "text": [
      "75 images processed, 75 hits (100.0%), 50 indexable (66.7% of hits, 66.7% overall), 50 crystals, 15.0 images/sec.\n",
      "Waiting for the last patterns to be processed...\n",
      "Final: 100 images processed, 100 hits (100.0%), 64 indexable (64.0% of hits, 64.0% overall), 64 crystals.\n",
      "Processing XY pairs:   1%|▏         | 6/441 [00:42<52:23,  7.23s/it]WARNING: You did not specify --int-radius.\n",
      "WARNING: I will use the default values, which are probably not appropriate for your patterns.\n",
      "This is what I understood your unit cell to be:\n",
      "orthorhombic I, right handed.\n",
      "a      b      c            alpha   beta  gamma\n",
      " 80.58  94.49 103.89 A     90.00  90.00  90.00 deg\n",
      "List of indexing methods:\n",
      "   0: xgandalf-nolatt-cell      (xgandalf using cell parameters as prior information)\n",
      "Indexing parameters:\n",
      "                  Check unit cell parameters: on\n",
      "                        Check peak alignment: on\n",
      "                   Refine indexing solutions: off\n",
      " Multi-lattice indexing (\"delete and retry\"): off\n",
      "                              Retry indexing: on\n"
     ]
    },
    {
     "name": "stdout",
     "output_type": "stream",
     "text": [
      "Running for x=-511.9, y=-512.1\n"
     ]
    },
    {
     "name": "stderr",
     "output_type": "stream",
     "text": [
      "Waiting for the last patterns to be processed...\n",
      "80 images processed, 80 hits (100.0%), 53 indexable (66.2% of hits, 66.2% overall), 53 crystals, 16.0 images/sec.\n",
      "Final: 100 images processed, 100 hits (100.0%), 67 indexable (67.0% of hits, 67.0% overall), 67 crystals.\n",
      "Processing XY pairs:   2%|▏         | 7/441 [00:49<53:04,  7.34s/it]WARNING: You did not specify --int-radius.\n",
      "WARNING: I will use the default values, which are probably not appropriate for your patterns.\n",
      "This is what I understood your unit cell to be:\n",
      "orthorhombic I, right handed.\n",
      "a      b      c            alpha   beta  gamma\n",
      " 80.58  94.49 103.89 A     90.00  90.00  90.00 deg\n",
      "List of indexing methods:\n",
      "   0: xgandalf-nolatt-cell      (xgandalf using cell parameters as prior information)\n",
      "Indexing parameters:\n",
      "                  Check unit cell parameters: on\n",
      "                        Check peak alignment: on\n",
      "                   Refine indexing solutions: off\n",
      " Multi-lattice indexing (\"delete and retry\"): off\n",
      "                              Retry indexing: on\n"
     ]
    },
    {
     "name": "stdout",
     "output_type": "stream",
     "text": [
      "Running for x=-511.9, y=-512.0\n"
     ]
    },
    {
     "name": "stderr",
     "output_type": "stream",
     "text": [
      "Waiting for the last patterns to be processed...\n",
      "82 images processed, 82 hits (100.0%), 56 indexable (68.3% of hits, 68.3% overall), 56 crystals, 16.3 images/sec.\n",
      "Final: 100 images processed, 100 hits (100.0%), 65 indexable (65.0% of hits, 65.0% overall), 65 crystals.\n",
      "Processing XY pairs:   2%|▏         | 8/441 [00:57<53:20,  7.39s/it]WARNING: You did not specify --int-radius.\n",
      "WARNING: I will use the default values, which are probably not appropriate for your patterns.\n",
      "This is what I understood your unit cell to be:\n",
      "orthorhombic I, right handed.\n",
      "a      b      c            alpha   beta  gamma\n",
      " 80.58  94.49 103.89 A     90.00  90.00  90.00 deg\n",
      "List of indexing methods:\n",
      "   0: xgandalf-nolatt-cell      (xgandalf using cell parameters as prior information)\n",
      "Indexing parameters:\n",
      "                  Check unit cell parameters: on\n",
      "                        Check peak alignment: on\n",
      "                   Refine indexing solutions: off\n",
      " Multi-lattice indexing (\"delete and retry\"): off\n",
      "                              Retry indexing: on\n"
     ]
    },
    {
     "name": "stdout",
     "output_type": "stream",
     "text": [
      "Running for x=-511.9, y=-511.9\n"
     ]
    },
    {
     "name": "stderr",
     "output_type": "stream",
     "text": [
      "Waiting for the last patterns to be processed...\n",
      "82 images processed, 82 hits (100.0%), 51 indexable (62.2% of hits, 62.2% overall), 51 crystals, 16.2 images/sec.\n",
      "Final: 100 images processed, 100 hits (100.0%), 60 indexable (60.0% of hits, 60.0% overall), 60 crystals.\n",
      "Processing XY pairs:   2%|▏         | 9/441 [01:04<53:43,  7.46s/it]WARNING: You did not specify --int-radius.\n",
      "WARNING: I will use the default values, which are probably not appropriate for your patterns.\n",
      "This is what I understood your unit cell to be:\n",
      "orthorhombic I, right handed.\n",
      "a      b      c            alpha   beta  gamma\n",
      " 80.58  94.49 103.89 A     90.00  90.00  90.00 deg\n",
      "List of indexing methods:\n",
      "   0: xgandalf-nolatt-cell      (xgandalf using cell parameters as prior information)\n",
      "Indexing parameters:\n",
      "                  Check unit cell parameters: on\n",
      "                        Check peak alignment: on\n",
      "                   Refine indexing solutions: off\n",
      " Multi-lattice indexing (\"delete and retry\"): off\n",
      "                              Retry indexing: on\n"
     ]
    },
    {
     "name": "stdout",
     "output_type": "stream",
     "text": [
      "Running for x=-512.2, y=-512.2\n"
     ]
    },
    {
     "name": "stderr",
     "output_type": "stream",
     "text": [
      "72 images processed, 72 hits (100.0%), 50 indexable (69.4% of hits, 69.4% overall), 50 crystals, 14.2 images/sec.\n",
      "Waiting for the last patterns to be processed...\n",
      "Final: 100 images processed, 100 hits (100.0%), 68 indexable (68.0% of hits, 68.0% overall), 68 crystals.\n",
      "Processing XY pairs:   2%|▏         | 10/441 [01:12<54:55,  7.65s/it]WARNING: You did not specify --int-radius.\n",
      "WARNING: I will use the default values, which are probably not appropriate for your patterns.\n",
      "This is what I understood your unit cell to be:\n",
      "orthorhombic I, right handed.\n",
      "a      b      c            alpha   beta  gamma\n",
      " 80.58  94.49 103.89 A     90.00  90.00  90.00 deg\n",
      "List of indexing methods:\n",
      "   0: xgandalf-nolatt-cell      (xgandalf using cell parameters as prior information)\n",
      "Indexing parameters:\n",
      "                  Check unit cell parameters: on\n",
      "                        Check peak alignment: on\n",
      "                   Refine indexing solutions: off\n",
      " Multi-lattice indexing (\"delete and retry\"): off\n",
      "                              Retry indexing: on\n"
     ]
    },
    {
     "name": "stdout",
     "output_type": "stream",
     "text": [
      "Running for x=-512.2, y=-512.1\n"
     ]
    },
    {
     "name": "stderr",
     "output_type": "stream",
     "text": [
      "70 images processed, 70 hits (100.0%), 50 indexable (71.4% of hits, 71.4% overall), 50 crystals, 14.0 images/sec.\n",
      "Waiting for the last patterns to be processed...\n",
      "Final: 100 images processed, 100 hits (100.0%), 70 indexable (70.0% of hits, 70.0% overall), 70 crystals.\n",
      "Processing XY pairs:   2%|▏         | 11/441 [01:21<56:11,  7.84s/it]WARNING: You did not specify --int-radius.\n",
      "WARNING: I will use the default values, which are probably not appropriate for your patterns.\n",
      "This is what I understood your unit cell to be:\n",
      "orthorhombic I, right handed.\n",
      "a      b      c            alpha   beta  gamma\n",
      " 80.58  94.49 103.89 A     90.00  90.00  90.00 deg\n",
      "List of indexing methods:\n",
      "   0: xgandalf-nolatt-cell      (xgandalf using cell parameters as prior information)\n",
      "Indexing parameters:\n",
      "                  Check unit cell parameters: on\n",
      "                        Check peak alignment: on\n",
      "                   Refine indexing solutions: off\n",
      " Multi-lattice indexing (\"delete and retry\"): off\n",
      "                              Retry indexing: on\n"
     ]
    },
    {
     "name": "stdout",
     "output_type": "stream",
     "text": [
      "Running for x=-512.2, y=-512.0\n"
     ]
    },
    {
     "name": "stderr",
     "output_type": "stream",
     "text": [
      "WARNING: Radius determination failed\n",
      "68 images processed, 68 hits (100.0%), 46 indexable (67.6% of hits, 67.6% overall), 46 crystals, 13.6 images/sec.\n",
      "Waiting for the last patterns to be processed...\n",
      "Final: 100 images processed, 100 hits (100.0%), 64 indexable (64.0% of hits, 64.0% overall), 64 crystals.\n",
      "Processing XY pairs:   3%|▎         | 12/441 [01:29<57:12,  8.00s/it]WARNING: You did not specify --int-radius.\n",
      "WARNING: I will use the default values, which are probably not appropriate for your patterns.\n",
      "This is what I understood your unit cell to be:\n",
      "orthorhombic I, right handed.\n",
      "a      b      c            alpha   beta  gamma\n",
      " 80.58  94.49 103.89 A     90.00  90.00  90.00 deg\n",
      "List of indexing methods:\n",
      "   0: xgandalf-nolatt-cell      (xgandalf using cell parameters as prior information)\n",
      "Indexing parameters:\n",
      "                  Check unit cell parameters: on\n",
      "                        Check peak alignment: on\n",
      "                   Refine indexing solutions: off\n",
      " Multi-lattice indexing (\"delete and retry\"): off\n",
      "                              Retry indexing: on\n"
     ]
    },
    {
     "name": "stdout",
     "output_type": "stream",
     "text": [
      "Running for x=-512.2, y=-511.9\n"
     ]
    },
    {
     "name": "stderr",
     "output_type": "stream",
     "text": [
      "71 images processed, 71 hits (100.0%), 48 indexable (67.6% of hits, 67.6% overall), 48 crystals, 14.2 images/sec.\n",
      "Waiting for the last patterns to be processed...\n",
      "Final: 100 images processed, 100 hits (100.0%), 66 indexable (66.0% of hits, 66.0% overall), 66 crystals.\n",
      "Processing XY pairs:   3%|▎         | 13/441 [01:37<56:48,  7.96s/it]WARNING: You did not specify --int-radius.\n",
      "WARNING: I will use the default values, which are probably not appropriate for your patterns.\n",
      "This is what I understood your unit cell to be:\n",
      "orthorhombic I, right handed.\n",
      "a      b      c            alpha   beta  gamma\n",
      " 80.58  94.49 103.89 A     90.00  90.00  90.00 deg\n",
      "List of indexing methods:\n",
      "   0: xgandalf-nolatt-cell      (xgandalf using cell parameters as prior information)\n",
      "Indexing parameters:\n",
      "                  Check unit cell parameters: on\n",
      "                        Check peak alignment: on\n",
      "                   Refine indexing solutions: off\n",
      " Multi-lattice indexing (\"delete and retry\"): off\n",
      "                              Retry indexing: on\n",
      "WARNING: Radius determination failed\n"
     ]
    },
    {
     "name": "stdout",
     "output_type": "stream",
     "text": [
      "Running for x=-512.2, y=-511.8\n"
     ]
    },
    {
     "name": "stderr",
     "output_type": "stream",
     "text": [
      "71 images processed, 71 hits (100.0%), 50 indexable (70.4% of hits, 70.4% overall), 50 crystals, 14.2 images/sec.\n",
      "Waiting for the last patterns to be processed...\n",
      "Final: 100 images processed, 100 hits (100.0%), 71 indexable (71.0% of hits, 71.0% overall), 71 crystals.\n",
      "Processing XY pairs:   3%|▎         | 14/441 [01:44<54:45,  7.69s/it]WARNING: You did not specify --int-radius.\n",
      "WARNING: I will use the default values, which are probably not appropriate for your patterns.\n",
      "This is what I understood your unit cell to be:\n",
      "orthorhombic I, right handed.\n",
      "a      b      c            alpha   beta  gamma\n",
      " 80.58  94.49 103.89 A     90.00  90.00  90.00 deg\n",
      "List of indexing methods:\n",
      "   0: xgandalf-nolatt-cell      (xgandalf using cell parameters as prior information)\n",
      "Indexing parameters:\n",
      "                  Check unit cell parameters: on\n",
      "                        Check peak alignment: on\n",
      "                   Refine indexing solutions: off\n",
      " Multi-lattice indexing (\"delete and retry\"): off\n",
      "                              Retry indexing: on\n"
     ]
    },
    {
     "name": "stdout",
     "output_type": "stream",
     "text": [
      "Running for x=-512.1, y=-512.2\n"
     ]
    },
    {
     "name": "stderr",
     "output_type": "stream",
     "text": [
      "WARNING: Radius determination failed\n",
      "69 images processed, 69 hits (100.0%), 50 indexable (72.5% of hits, 72.5% overall), 50 crystals, 13.8 images/sec.\n",
      "Waiting for the last patterns to be processed...\n",
      "Final: 100 images processed, 100 hits (100.0%), 71 indexable (71.0% of hits, 71.0% overall), 71 crystals.\n",
      "Processing XY pairs:   3%|▎         | 15/441 [01:52<55:19,  7.79s/it]WARNING: You did not specify --int-radius.\n",
      "WARNING: I will use the default values, which are probably not appropriate for your patterns.\n",
      "This is what I understood your unit cell to be:\n",
      "orthorhombic I, right handed.\n",
      "a      b      c            alpha   beta  gamma\n",
      " 80.58  94.49 103.89 A     90.00  90.00  90.00 deg\n",
      "List of indexing methods:\n",
      "   0: xgandalf-nolatt-cell      (xgandalf using cell parameters as prior information)\n",
      "Indexing parameters:\n",
      "                  Check unit cell parameters: on\n",
      "                        Check peak alignment: on\n",
      "                   Refine indexing solutions: off\n",
      " Multi-lattice indexing (\"delete and retry\"): off\n",
      "                              Retry indexing: on\n"
     ]
    },
    {
     "name": "stdout",
     "output_type": "stream",
     "text": [
      "Running for x=-512.1, y=-511.8\n"
     ]
    },
    {
     "name": "stderr",
     "output_type": "stream",
     "text": [
      "74 images processed, 74 hits (100.0%), 54 indexable (73.0% of hits, 73.0% overall), 54 crystals, 14.8 images/sec.\n",
      "Waiting for the last patterns to be processed...\n",
      "Final: 100 images processed, 100 hits (100.0%), 71 indexable (71.0% of hits, 71.0% overall), 71 crystals.\n",
      "Processing XY pairs:   4%|▎         | 16/441 [02:00<55:34,  7.85s/it]WARNING: You did not specify --int-radius.\n",
      "WARNING: I will use the default values, which are probably not appropriate for your patterns.\n",
      "This is what I understood your unit cell to be:\n",
      "orthorhombic I, right handed.\n",
      "a      b      c            alpha   beta  gamma\n",
      " 80.58  94.49 103.89 A     90.00  90.00  90.00 deg\n",
      "List of indexing methods:\n",
      "   0: xgandalf-nolatt-cell      (xgandalf using cell parameters as prior information)\n",
      "Indexing parameters:\n",
      "                  Check unit cell parameters: on\n",
      "                        Check peak alignment: on\n",
      "                   Refine indexing solutions: off\n",
      " Multi-lattice indexing (\"delete and retry\"): off\n",
      "                              Retry indexing: on\n"
     ]
    },
    {
     "name": "stdout",
     "output_type": "stream",
     "text": [
      "Running for x=-512.0, y=-512.2\n"
     ]
    },
    {
     "name": "stderr",
     "output_type": "stream",
     "text": [
      "WARNING: Radius determination failed\n",
      "68 images processed, 68 hits (100.0%), 50 indexable (73.5% of hits, 73.5% overall), 50 crystals, 13.3 images/sec.\n",
      "Waiting for the last patterns to be processed...\n",
      "Final: 100 images processed, 100 hits (100.0%), 73 indexable (73.0% of hits, 73.0% overall), 73 crystals.\n",
      "Processing XY pairs:   4%|▍         | 17/441 [02:08<56:00,  7.93s/it]WARNING: You did not specify --int-radius.\n",
      "WARNING: I will use the default values, which are probably not appropriate for your patterns.\n",
      "This is what I understood your unit cell to be:\n",
      "orthorhombic I, right handed.\n",
      "a      b      c            alpha   beta  gamma\n",
      " 80.58  94.49 103.89 A     90.00  90.00  90.00 deg\n",
      "List of indexing methods:\n",
      "   0: xgandalf-nolatt-cell      (xgandalf using cell parameters as prior information)\n",
      "Indexing parameters:\n",
      "                  Check unit cell parameters: on\n",
      "                        Check peak alignment: on\n",
      "                   Refine indexing solutions: off\n",
      " Multi-lattice indexing (\"delete and retry\"): off\n",
      "                              Retry indexing: on\n"
     ]
    },
    {
     "name": "stdout",
     "output_type": "stream",
     "text": [
      "Running for x=-512.0, y=-511.8\n"
     ]
    },
    {
     "name": "stderr",
     "output_type": "stream",
     "text": [
      "72 images processed, 72 hits (100.0%), 50 indexable (69.4% of hits, 69.4% overall), 50 crystals, 14.3 images/sec.\n",
      "Waiting for the last patterns to be processed...\n",
      "Final: 100 images processed, 100 hits (100.0%), 66 indexable (66.0% of hits, 66.0% overall), 66 crystals.\n",
      "Processing XY pairs:   4%|▍         | 18/441 [02:16<56:18,  7.99s/it]WARNING: You did not specify --int-radius.\n",
      "WARNING: I will use the default values, which are probably not appropriate for your patterns.\n",
      "This is what I understood your unit cell to be:\n",
      "orthorhombic I, right handed.\n",
      "a      b      c            alpha   beta  gamma\n",
      " 80.58  94.49 103.89 A     90.00  90.00  90.00 deg\n",
      "List of indexing methods:\n",
      "   0: xgandalf-nolatt-cell      (xgandalf using cell parameters as prior information)\n",
      "Indexing parameters:\n",
      "                  Check unit cell parameters: on\n",
      "                        Check peak alignment: on\n",
      "                   Refine indexing solutions: off\n",
      " Multi-lattice indexing (\"delete and retry\"): off\n",
      "                              Retry indexing: on\n"
     ]
    },
    {
     "name": "stdout",
     "output_type": "stream",
     "text": [
      "Running for x=-511.9, y=-512.2\n"
     ]
    },
    {
     "name": "stderr",
     "output_type": "stream",
     "text": [
      "WARNING: Radius determination failed\n",
      "77 images processed, 77 hits (100.0%), 54 indexable (70.1% of hits, 70.1% overall), 54 crystals, 15.1 images/sec.\n",
      "Waiting for the last patterns to be processed...\n",
      "Final: 100 images processed, 100 hits (100.0%), 65 indexable (65.0% of hits, 65.0% overall), 65 crystals.\n",
      "Processing XY pairs:   4%|▍         | 19/441 [02:24<55:47,  7.93s/it]WARNING: You did not specify --int-radius.\n",
      "WARNING: I will use the default values, which are probably not appropriate for your patterns.\n",
      "This is what I understood your unit cell to be:\n",
      "orthorhombic I, right handed.\n",
      "a      b      c            alpha   beta  gamma\n",
      " 80.58  94.49 103.89 A     90.00  90.00  90.00 deg\n",
      "List of indexing methods:\n",
      "   0: xgandalf-nolatt-cell      (xgandalf using cell parameters as prior information)\n",
      "Indexing parameters:\n",
      "                  Check unit cell parameters: on\n",
      "                        Check peak alignment: on\n",
      "                   Refine indexing solutions: off\n",
      " Multi-lattice indexing (\"delete and retry\"): off\n",
      "                              Retry indexing: on\n"
     ]
    },
    {
     "name": "stdout",
     "output_type": "stream",
     "text": [
      "Running for x=-511.9, y=-511.8\n"
     ]
    },
    {
     "name": "stderr",
     "output_type": "stream",
     "text": [
      "63 images processed, 63 hits (100.0%), 43 indexable (68.3% of hits, 68.3% overall), 43 crystals, 12.6 images/sec.\n",
      "Waiting for the last patterns to be processed...\n",
      "Final: 100 images processed, 100 hits (100.0%), 65 indexable (65.0% of hits, 65.0% overall), 65 crystals.\n",
      "Processing XY pairs:   5%|▍         | 20/441 [02:32<56:23,  8.04s/it]WARNING: You did not specify --int-radius.\n",
      "WARNING: I will use the default values, which are probably not appropriate for your patterns.\n",
      "This is what I understood your unit cell to be:\n",
      "orthorhombic I, right handed.\n",
      "a      b      c            alpha   beta  gamma\n",
      " 80.58  94.49 103.89 A     90.00  90.00  90.00 deg\n",
      "List of indexing methods:\n",
      "   0: xgandalf-nolatt-cell      (xgandalf using cell parameters as prior information)\n",
      "Indexing parameters:\n",
      "                  Check unit cell parameters: on\n",
      "                        Check peak alignment: on\n",
      "                   Refine indexing solutions: off\n",
      " Multi-lattice indexing (\"delete and retry\"): off\n",
      "                              Retry indexing: on\n"
     ]
    },
    {
     "name": "stdout",
     "output_type": "stream",
     "text": [
      "Running for x=-511.8, y=-512.2\n"
     ]
    },
    {
     "name": "stderr",
     "output_type": "stream",
     "text": [
      "64 images processed, 64 hits (100.0%), 41 indexable (64.1% of hits, 64.1% overall), 41 crystals, 12.7 images/sec.\n",
      "Waiting for the last patterns to be processed...\n",
      "Final: 100 images processed, 100 hits (100.0%), 66 indexable (66.0% of hits, 66.0% overall), 66 crystals.\n",
      "Processing XY pairs:   5%|▍         | 21/441 [02:40<54:44,  7.82s/it]WARNING: You did not specify --int-radius.\n",
      "WARNING: I will use the default values, which are probably not appropriate for your patterns.\n",
      "This is what I understood your unit cell to be:\n",
      "orthorhombic I, right handed.\n",
      "a      b      c            alpha   beta  gamma\n",
      " 80.58  94.49 103.89 A     90.00  90.00  90.00 deg\n",
      "List of indexing methods:\n",
      "   0: xgandalf-nolatt-cell      (xgandalf using cell parameters as prior information)\n",
      "Indexing parameters:\n",
      "                  Check unit cell parameters: on\n",
      "                        Check peak alignment: on\n",
      "                   Refine indexing solutions: off\n",
      " Multi-lattice indexing (\"delete and retry\"): off\n",
      "                              Retry indexing: on\n"
     ]
    },
    {
     "name": "stdout",
     "output_type": "stream",
     "text": [
      "Running for x=-511.8, y=-512.1\n"
     ]
    },
    {
     "name": "stderr",
     "output_type": "stream",
     "text": [
      "WARNING: Radius determination failed\n",
      "64 images processed, 64 hits (100.0%), 41 indexable (64.1% of hits, 64.1% overall), 41 crystals, 12.7 images/sec.\n",
      "Waiting for the last patterns to be processed...\n",
      "Final: 100 images processed, 100 hits (100.0%), 66 indexable (66.0% of hits, 66.0% overall), 66 crystals.\n",
      "Processing XY pairs:   5%|▍         | 22/441 [02:48<55:35,  7.96s/it]WARNING: You did not specify --int-radius.\n",
      "WARNING: I will use the default values, which are probably not appropriate for your patterns.\n",
      "This is what I understood your unit cell to be:\n",
      "orthorhombic I, right handed.\n",
      "a      b      c            alpha   beta  gamma\n",
      " 80.58  94.49 103.89 A     90.00  90.00  90.00 deg\n",
      "List of indexing methods:\n",
      "   0: xgandalf-nolatt-cell      (xgandalf using cell parameters as prior information)\n",
      "Indexing parameters:\n",
      "                  Check unit cell parameters: on\n",
      "                        Check peak alignment: on\n",
      "                   Refine indexing solutions: off\n",
      " Multi-lattice indexing (\"delete and retry\"): off\n",
      "                              Retry indexing: on\n"
     ]
    },
    {
     "name": "stdout",
     "output_type": "stream",
     "text": [
      "Running for x=-511.8, y=-512.0\n"
     ]
    },
    {
     "name": "stderr",
     "output_type": "stream",
     "text": [
      "69 images processed, 69 hits (100.0%), 50 indexable (72.5% of hits, 72.5% overall), 50 crystals, 13.1 images/sec.\n",
      "Waiting for the last patterns to be processed...\n",
      "Final: 100 images processed, 100 hits (100.0%), 66 indexable (66.0% of hits, 66.0% overall), 66 crystals.\n",
      "Processing XY pairs:   5%|▌         | 23/441 [02:56<55:57,  8.03s/it]WARNING: You did not specify --int-radius.\n",
      "WARNING: I will use the default values, which are probably not appropriate for your patterns.\n",
      "This is what I understood your unit cell to be:\n",
      "orthorhombic I, right handed.\n",
      "a      b      c            alpha   beta  gamma\n",
      " 80.58  94.49 103.89 A     90.00  90.00  90.00 deg\n",
      "List of indexing methods:\n",
      "   0: xgandalf-nolatt-cell      (xgandalf using cell parameters as prior information)\n",
      "Indexing parameters:\n",
      "                  Check unit cell parameters: on\n",
      "                        Check peak alignment: on\n",
      "                   Refine indexing solutions: off\n",
      " Multi-lattice indexing (\"delete and retry\"): off\n",
      "                              Retry indexing: on\n"
     ]
    },
    {
     "name": "stdout",
     "output_type": "stream",
     "text": [
      "Running for x=-511.8, y=-511.9\n"
     ]
    },
    {
     "name": "stderr",
     "output_type": "stream",
     "text": [
      "69 images processed, 69 hits (100.0%), 48 indexable (69.6% of hits, 69.6% overall), 48 crystals, 13.7 images/sec.\n",
      "Waiting for the last patterns to be processed...\n",
      "Final: 100 images processed, 100 hits (100.0%), 69 indexable (69.0% of hits, 69.0% overall), 69 crystals.\n",
      "Processing XY pairs:   5%|▌         | 24/441 [03:04<56:42,  8.16s/it]WARNING: You did not specify --int-radius.\n",
      "WARNING: I will use the default values, which are probably not appropriate for your patterns.\n",
      "This is what I understood your unit cell to be:\n",
      "orthorhombic I, right handed.\n",
      "a      b      c            alpha   beta  gamma\n",
      " 80.58  94.49 103.89 A     90.00  90.00  90.00 deg\n",
      "List of indexing methods:\n",
      "   0: xgandalf-nolatt-cell      (xgandalf using cell parameters as prior information)\n",
      "Indexing parameters:\n",
      "                  Check unit cell parameters: on\n",
      "                        Check peak alignment: on\n",
      "                   Refine indexing solutions: off\n",
      " Multi-lattice indexing (\"delete and retry\"): off\n",
      "                              Retry indexing: on\n"
     ]
    },
    {
     "name": "stdout",
     "output_type": "stream",
     "text": [
      "Running for x=-511.8, y=-511.8\n"
     ]
    },
    {
     "name": "stderr",
     "output_type": "stream",
     "text": [
      "68 images processed, 68 hits (100.0%), 47 indexable (69.1% of hits, 69.1% overall), 47 crystals, 13.6 images/sec.\n",
      "Waiting for the last patterns to be processed...\n",
      "Final: 100 images processed, 100 hits (100.0%), 67 indexable (67.0% of hits, 67.0% overall), 67 crystals.\n",
      "Processing XY pairs:   6%|▌         | 25/441 [03:13<56:30,  8.15s/it]WARNING: You did not specify --int-radius.\n",
      "WARNING: I will use the default values, which are probably not appropriate for your patterns.\n",
      "This is what I understood your unit cell to be:\n",
      "orthorhombic I, right handed.\n",
      "a      b      c            alpha   beta  gamma\n",
      " 80.58  94.49 103.89 A     90.00  90.00  90.00 deg\n",
      "List of indexing methods:\n",
      "   0: xgandalf-nolatt-cell      (xgandalf using cell parameters as prior information)\n",
      "Indexing parameters:\n",
      "                  Check unit cell parameters: on\n",
      "                        Check peak alignment: on\n",
      "                   Refine indexing solutions: off\n",
      " Multi-lattice indexing (\"delete and retry\"): off\n",
      "                              Retry indexing: on\n"
     ]
    },
    {
     "name": "stdout",
     "output_type": "stream",
     "text": [
      "Running for x=-512.3, y=-512.3\n"
     ]
    },
    {
     "name": "stderr",
     "output_type": "stream",
     "text": [
      "67 images processed, 67 hits (100.0%), 44 indexable (65.7% of hits, 65.7% overall), 44 crystals, 13.3 images/sec.\n",
      "Waiting for the last patterns to be processed...\n",
      "Final: 100 images processed, 100 hits (100.0%), 64 indexable (64.0% of hits, 64.0% overall), 64 crystals.\n",
      "Processing XY pairs:   6%|▌         | 26/441 [03:20<55:08,  7.97s/it]WARNING: You did not specify --int-radius.\n",
      "WARNING: I will use the default values, which are probably not appropriate for your patterns.\n",
      "This is what I understood your unit cell to be:\n",
      "orthorhombic I, right handed.\n",
      "a      b      c            alpha   beta  gamma\n",
      " 80.58  94.49 103.89 A     90.00  90.00  90.00 deg\n",
      "List of indexing methods:\n",
      "   0: xgandalf-nolatt-cell      (xgandalf using cell parameters as prior information)\n",
      "Indexing parameters:\n",
      "                  Check unit cell parameters: on\n",
      "                        Check peak alignment: on\n",
      "                   Refine indexing solutions: off\n",
      " Multi-lattice indexing (\"delete and retry\"): off\n",
      "                              Retry indexing: on\n"
     ]
    },
    {
     "name": "stdout",
     "output_type": "stream",
     "text": [
      "Running for x=-512.3, y=-512.2\n"
     ]
    },
    {
     "name": "stderr",
     "output_type": "stream",
     "text": [
      "67 images processed, 67 hits (100.0%), 44 indexable (65.7% of hits, 65.7% overall), 44 crystals, 13.2 images/sec.\n",
      "Waiting for the last patterns to be processed...\n",
      "Final: 100 images processed, 100 hits (100.0%), 66 indexable (66.0% of hits, 66.0% overall), 66 crystals.\n",
      "Processing XY pairs:   6%|▌         | 27/441 [03:29<56:20,  8.17s/it]WARNING: You did not specify --int-radius.\n",
      "WARNING: I will use the default values, which are probably not appropriate for your patterns.\n",
      "This is what I understood your unit cell to be:\n",
      "orthorhombic I, right handed.\n",
      "a      b      c            alpha   beta  gamma\n",
      " 80.58  94.49 103.89 A     90.00  90.00  90.00 deg\n",
      "List of indexing methods:\n",
      "   0: xgandalf-nolatt-cell      (xgandalf using cell parameters as prior information)\n",
      "Indexing parameters:\n",
      "                  Check unit cell parameters: on\n",
      "                        Check peak alignment: on\n",
      "                   Refine indexing solutions: off\n",
      " Multi-lattice indexing (\"delete and retry\"): off\n",
      "                              Retry indexing: on\n"
     ]
    },
    {
     "name": "stdout",
     "output_type": "stream",
     "text": [
      "Running for x=-512.3, y=-512.1\n"
     ]
    },
    {
     "name": "stderr",
     "output_type": "stream",
     "text": [
      "74 images processed, 74 hits (100.0%), 52 indexable (70.3% of hits, 70.3% overall), 52 crystals, 14.6 images/sec.\n",
      "Waiting for the last patterns to be processed...\n",
      "Final: 100 images processed, 100 hits (100.0%), 70 indexable (70.0% of hits, 70.0% overall), 70 crystals.\n",
      "Processing XY pairs:   6%|▋         | 28/441 [03:37<55:55,  8.12s/it]WARNING: You did not specify --int-radius.\n",
      "WARNING: I will use the default values, which are probably not appropriate for your patterns.\n",
      "This is what I understood your unit cell to be:\n",
      "orthorhombic I, right handed.\n",
      "a      b      c            alpha   beta  gamma\n",
      " 80.58  94.49 103.89 A     90.00  90.00  90.00 deg\n",
      "List of indexing methods:\n",
      "   0: xgandalf-nolatt-cell      (xgandalf using cell parameters as prior information)\n",
      "Indexing parameters:\n",
      "                  Check unit cell parameters: on\n",
      "                        Check peak alignment: on\n",
      "                   Refine indexing solutions: off\n",
      " Multi-lattice indexing (\"delete and retry\"): off\n",
      "                              Retry indexing: on\n"
     ]
    },
    {
     "name": "stdout",
     "output_type": "stream",
     "text": [
      "Running for x=-512.3, y=-512.0\n"
     ]
    },
    {
     "name": "stderr",
     "output_type": "stream",
     "text": [
      "71 images processed, 71 hits (100.0%), 45 indexable (63.4% of hits, 63.4% overall), 45 crystals, 14.0 images/sec.\n",
      "Waiting for the last patterns to be processed...\n",
      "Final: 100 images processed, 100 hits (100.0%), 64 indexable (64.0% of hits, 64.0% overall), 64 crystals.\n",
      "Processing XY pairs:   7%|▋         | 29/441 [03:44<53:50,  7.84s/it]WARNING: You did not specify --int-radius.\n",
      "WARNING: I will use the default values, which are probably not appropriate for your patterns.\n",
      "This is what I understood your unit cell to be:\n",
      "orthorhombic I, right handed.\n",
      "a      b      c            alpha   beta  gamma\n",
      " 80.58  94.49 103.89 A     90.00  90.00  90.00 deg\n",
      "List of indexing methods:\n",
      "   0: xgandalf-nolatt-cell      (xgandalf using cell parameters as prior information)\n",
      "Indexing parameters:\n",
      "                  Check unit cell parameters: on\n",
      "                        Check peak alignment: on\n",
      "                   Refine indexing solutions: off\n",
      " Multi-lattice indexing (\"delete and retry\"): off\n",
      "                              Retry indexing: on\n"
     ]
    },
    {
     "name": "stdout",
     "output_type": "stream",
     "text": [
      "Running for x=-512.3, y=-511.9\n"
     ]
    },
    {
     "name": "stderr",
     "output_type": "stream",
     "text": [
      "WARNING: Radius determination failed\n",
      "63 images processed, 63 hits (100.0%), 39 indexable (61.9% of hits, 61.9% overall), 39 crystals, 12.4 images/sec.\n",
      "Waiting for the last patterns to be processed...\n",
      "Final: 100 images processed, 100 hits (100.0%), 67 indexable (67.0% of hits, 67.0% overall), 67 crystals.\n",
      "Processing XY pairs:   7%|▋         | 30/441 [03:52<53:11,  7.77s/it]WARNING: You did not specify --int-radius.\n",
      "WARNING: I will use the default values, which are probably not appropriate for your patterns.\n",
      "This is what I understood your unit cell to be:\n",
      "orthorhombic I, right handed.\n",
      "a      b      c            alpha   beta  gamma\n",
      " 80.58  94.49 103.89 A     90.00  90.00  90.00 deg\n",
      "List of indexing methods:\n",
      "   0: xgandalf-nolatt-cell      (xgandalf using cell parameters as prior information)\n",
      "Indexing parameters:\n",
      "                  Check unit cell parameters: on\n",
      "                        Check peak alignment: on\n",
      "                   Refine indexing solutions: off\n",
      " Multi-lattice indexing (\"delete and retry\"): off\n",
      "                              Retry indexing: on\n",
      "WARNING: Radius determination failed\n"
     ]
    },
    {
     "name": "stdout",
     "output_type": "stream",
     "text": [
      "Running for x=-512.3, y=-511.8\n"
     ]
    },
    {
     "name": "stderr",
     "output_type": "stream",
     "text": [
      "WARNING: Radius determination failed\n",
      "71 images processed, 71 hits (100.0%), 47 indexable (66.2% of hits, 66.2% overall), 47 crystals, 14.0 images/sec.\n",
      "Waiting for the last patterns to be processed...\n",
      "Final: 100 images processed, 100 hits (100.0%), 61 indexable (61.0% of hits, 61.0% overall), 61 crystals.\n",
      "Processing XY pairs:   7%|▋         | 31/441 [04:00<54:16,  7.94s/it]WARNING: You did not specify --int-radius.\n",
      "WARNING: I will use the default values, which are probably not appropriate for your patterns.\n",
      "This is what I understood your unit cell to be:\n",
      "orthorhombic I, right handed.\n",
      "a      b      c            alpha   beta  gamma\n",
      " 80.58  94.49 103.89 A     90.00  90.00  90.00 deg\n",
      "List of indexing methods:\n",
      "   0: xgandalf-nolatt-cell      (xgandalf using cell parameters as prior information)\n",
      "Indexing parameters:\n",
      "                  Check unit cell parameters: on\n",
      "                        Check peak alignment: on\n",
      "                   Refine indexing solutions: off\n",
      " Multi-lattice indexing (\"delete and retry\"): off\n",
      "                              Retry indexing: on\n"
     ]
    },
    {
     "name": "stdout",
     "output_type": "stream",
     "text": [
      "Running for x=-512.3, y=-511.7\n"
     ]
    },
    {
     "name": "stderr",
     "output_type": "stream",
     "text": [
      "75 images processed, 75 hits (100.0%), 57 indexable (76.0% of hits, 76.0% overall), 57 crystals, 15.0 images/sec.\n",
      "Waiting for the last patterns to be processed...\n",
      "Final: 100 images processed, 100 hits (100.0%), 74 indexable (74.0% of hits, 74.0% overall), 74 crystals.\n",
      "Processing XY pairs:   7%|▋         | 32/441 [04:08<54:02,  7.93s/it]WARNING: You did not specify --int-radius.\n",
      "WARNING: I will use the default values, which are probably not appropriate for your patterns.\n",
      "This is what I understood your unit cell to be:\n",
      "orthorhombic I, right handed.\n",
      "a      b      c            alpha   beta  gamma\n",
      " 80.58  94.49 103.89 A     90.00  90.00  90.00 deg\n",
      "List of indexing methods:\n",
      "   0: xgandalf-nolatt-cell      (xgandalf using cell parameters as prior information)\n",
      "Indexing parameters:\n",
      "                  Check unit cell parameters: on\n",
      "                        Check peak alignment: on\n",
      "                   Refine indexing solutions: off\n",
      " Multi-lattice indexing (\"delete and retry\"): off\n",
      "                              Retry indexing: on\n"
     ]
    },
    {
     "name": "stdout",
     "output_type": "stream",
     "text": [
      "Running for x=-512.2, y=-512.3\n"
     ]
    },
    {
     "name": "stderr",
     "output_type": "stream",
     "text": [
      "65 images processed, 65 hits (100.0%), 42 indexable (64.6% of hits, 64.6% overall), 42 crystals, 12.8 images/sec.\n",
      "Waiting for the last patterns to be processed...\n",
      "Final: 100 images processed, 100 hits (100.0%), 63 indexable (63.0% of hits, 63.0% overall), 63 crystals.\n",
      "Processing XY pairs:   7%|▋         | 33/441 [04:16<55:05,  8.10s/it]WARNING: You did not specify --int-radius.\n",
      "WARNING: I will use the default values, which are probably not appropriate for your patterns.\n",
      "This is what I understood your unit cell to be:\n",
      "orthorhombic I, right handed.\n",
      "a      b      c            alpha   beta  gamma\n",
      " 80.58  94.49 103.89 A     90.00  90.00  90.00 deg\n",
      "List of indexing methods:\n",
      "   0: xgandalf-nolatt-cell      (xgandalf using cell parameters as prior information)\n",
      "Indexing parameters:\n",
      "                  Check unit cell parameters: on\n",
      "                        Check peak alignment: on\n",
      "                   Refine indexing solutions: off\n",
      " Multi-lattice indexing (\"delete and retry\"): off\n",
      "                              Retry indexing: on\n"
     ]
    },
    {
     "name": "stdout",
     "output_type": "stream",
     "text": [
      "Running for x=-512.2, y=-511.7\n"
     ]
    },
    {
     "name": "stderr",
     "output_type": "stream",
     "text": [
      "67 images processed, 67 hits (100.0%), 45 indexable (67.2% of hits, 67.2% overall), 45 crystals, 13.3 images/sec.\n",
      "Waiting for the last patterns to be processed...\n",
      "Final: 100 images processed, 100 hits (100.0%), 63 indexable (63.0% of hits, 63.0% overall), 63 crystals.\n",
      "Processing XY pairs:   8%|▊         | 34/441 [04:23<52:37,  7.76s/it]WARNING: You did not specify --int-radius.\n",
      "WARNING: I will use the default values, which are probably not appropriate for your patterns.\n",
      "This is what I understood your unit cell to be:\n",
      "orthorhombic I, right handed.\n",
      "a      b      c            alpha   beta  gamma\n",
      " 80.58  94.49 103.89 A     90.00  90.00  90.00 deg\n",
      "List of indexing methods:\n",
      "   0: xgandalf-nolatt-cell      (xgandalf using cell parameters as prior information)\n",
      "Indexing parameters:\n",
      "                  Check unit cell parameters: on\n",
      "                        Check peak alignment: on\n",
      "                   Refine indexing solutions: off\n",
      " Multi-lattice indexing (\"delete and retry\"): off\n",
      "                              Retry indexing: on\n",
      "WARNING: Radius determination failed\n"
     ]
    },
    {
     "name": "stdout",
     "output_type": "stream",
     "text": [
      "Running for x=-512.1, y=-512.3\n"
     ]
    },
    {
     "name": "stderr",
     "output_type": "stream",
     "text": [
      "63 images processed, 63 hits (100.0%), 35 indexable (55.6% of hits, 55.6% overall), 35 crystals, 12.2 images/sec.\n",
      "Waiting for the last patterns to be processed...\n",
      "Final: 100 images processed, 100 hits (100.0%), 57 indexable (57.0% of hits, 57.0% overall), 57 crystals.\n",
      "Processing XY pairs:   8%|▊         | 35/441 [04:32<54:34,  8.06s/it]WARNING: You did not specify --int-radius.\n",
      "WARNING: I will use the default values, which are probably not appropriate for your patterns.\n",
      "This is what I understood your unit cell to be:\n",
      "orthorhombic I, right handed.\n",
      "a      b      c            alpha   beta  gamma\n",
      " 80.58  94.49 103.89 A     90.00  90.00  90.00 deg\n",
      "List of indexing methods:\n",
      "   0: xgandalf-nolatt-cell      (xgandalf using cell parameters as prior information)\n",
      "Indexing parameters:\n",
      "                  Check unit cell parameters: on\n",
      "                        Check peak alignment: on\n",
      "                   Refine indexing solutions: off\n",
      " Multi-lattice indexing (\"delete and retry\"): off\n",
      "                              Retry indexing: on\n"
     ]
    },
    {
     "name": "stdout",
     "output_type": "stream",
     "text": [
      "Running for x=-512.1, y=-511.7\n"
     ]
    },
    {
     "name": "stderr",
     "output_type": "stream",
     "text": [
      "70 images processed, 70 hits (100.0%), 47 indexable (67.1% of hits, 67.1% overall), 47 crystals, 13.9 images/sec.\n",
      "Waiting for the last patterns to be processed...\n",
      "Final: 100 images processed, 100 hits (100.0%), 64 indexable (64.0% of hits, 64.0% overall), 64 crystals.\n",
      "Processing XY pairs:   8%|▊         | 36/441 [04:40<54:48,  8.12s/it]WARNING: You did not specify --int-radius.\n",
      "WARNING: I will use the default values, which are probably not appropriate for your patterns.\n",
      "This is what I understood your unit cell to be:\n",
      "orthorhombic I, right handed.\n",
      "a      b      c            alpha   beta  gamma\n",
      " 80.58  94.49 103.89 A     90.00  90.00  90.00 deg\n",
      "List of indexing methods:\n",
      "   0: xgandalf-nolatt-cell      (xgandalf using cell parameters as prior information)\n",
      "Indexing parameters:\n",
      "                  Check unit cell parameters: on\n",
      "                        Check peak alignment: on\n",
      "                   Refine indexing solutions: off\n",
      " Multi-lattice indexing (\"delete and retry\"): off\n",
      "                              Retry indexing: on\n"
     ]
    },
    {
     "name": "stdout",
     "output_type": "stream",
     "text": [
      "Running for x=-512.0, y=-512.3\n"
     ]
    },
    {
     "name": "stderr",
     "output_type": "stream",
     "text": [
      "73 images processed, 73 hits (100.0%), 57 indexable (78.1% of hits, 78.1% overall), 57 crystals, 14.5 images/sec.\n",
      "Waiting for the last patterns to be processed...\n",
      "Final: 100 images processed, 100 hits (100.0%), 75 indexable (75.0% of hits, 75.0% overall), 75 crystals.\n",
      "Processing XY pairs:   8%|▊         | 37/441 [04:48<54:15,  8.06s/it]WARNING: You did not specify --int-radius.\n",
      "WARNING: I will use the default values, which are probably not appropriate for your patterns.\n",
      "This is what I understood your unit cell to be:\n",
      "orthorhombic I, right handed.\n",
      "a      b      c            alpha   beta  gamma\n",
      " 80.58  94.49 103.89 A     90.00  90.00  90.00 deg\n",
      "List of indexing methods:\n",
      "   0: xgandalf-nolatt-cell      (xgandalf using cell parameters as prior information)\n",
      "Indexing parameters:\n",
      "                  Check unit cell parameters: on\n",
      "                        Check peak alignment: on\n",
      "                   Refine indexing solutions: off\n",
      " Multi-lattice indexing (\"delete and retry\"): off\n",
      "                              Retry indexing: on\n"
     ]
    },
    {
     "name": "stdout",
     "output_type": "stream",
     "text": [
      "Running for x=-512.0, y=-511.7\n"
     ]
    },
    {
     "name": "stderr",
     "output_type": "stream",
     "text": [
      "70 images processed, 70 hits (100.0%), 47 indexable (67.1% of hits, 67.1% overall), 47 crystals, 13.9 images/sec.\n",
      "Waiting for the last patterns to be processed...\n",
      "Final: 100 images processed, 100 hits (100.0%), 63 indexable (63.0% of hits, 63.0% overall), 63 crystals.\n",
      "Processing XY pairs:   9%|▊         | 38/441 [04:57<54:42,  8.14s/it]WARNING: You did not specify --int-radius.\n",
      "WARNING: I will use the default values, which are probably not appropriate for your patterns.\n",
      "This is what I understood your unit cell to be:\n",
      "orthorhombic I, right handed.\n",
      "a      b      c            alpha   beta  gamma\n",
      " 80.58  94.49 103.89 A     90.00  90.00  90.00 deg\n",
      "List of indexing methods:\n",
      "   0: xgandalf-nolatt-cell      (xgandalf using cell parameters as prior information)\n",
      "Indexing parameters:\n",
      "                  Check unit cell parameters: on\n",
      "                        Check peak alignment: on\n",
      "                   Refine indexing solutions: off\n",
      " Multi-lattice indexing (\"delete and retry\"): off\n",
      "                              Retry indexing: on\n"
     ]
    },
    {
     "name": "stdout",
     "output_type": "stream",
     "text": [
      "Running for x=-511.9, y=-512.3\n"
     ]
    },
    {
     "name": "stderr",
     "output_type": "stream",
     "text": [
      "65 images processed, 65 hits (100.0%), 48 indexable (73.8% of hits, 73.8% overall), 48 crystals, 12.9 images/sec.\n",
      "Waiting for the last patterns to be processed...\n",
      "Final: 100 images processed, 100 hits (100.0%), 72 indexable (72.0% of hits, 72.0% overall), 72 crystals.\n",
      "Processing XY pairs:   9%|▉         | 39/441 [05:05<55:00,  8.21s/it]WARNING: You did not specify --int-radius.\n",
      "WARNING: I will use the default values, which are probably not appropriate for your patterns.\n",
      "This is what I understood your unit cell to be:\n",
      "orthorhombic I, right handed.\n",
      "a      b      c            alpha   beta  gamma\n",
      " 80.58  94.49 103.89 A     90.00  90.00  90.00 deg\n",
      "List of indexing methods:\n",
      "   0: xgandalf-nolatt-cell      (xgandalf using cell parameters as prior information)\n",
      "Indexing parameters:\n",
      "                  Check unit cell parameters: on\n",
      "                        Check peak alignment: on\n",
      "                   Refine indexing solutions: off\n",
      " Multi-lattice indexing (\"delete and retry\"): off\n",
      "                              Retry indexing: on\n"
     ]
    },
    {
     "name": "stdout",
     "output_type": "stream",
     "text": [
      "Running for x=-511.9, y=-511.7\n"
     ]
    },
    {
     "name": "stderr",
     "output_type": "stream",
     "text": [
      "72 images processed, 72 hits (100.0%), 52 indexable (72.2% of hits, 72.2% overall), 52 crystals, 14.3 images/sec.\n",
      "Waiting for the last patterns to be processed...\n",
      "Final: 100 images processed, 100 hits (100.0%), 66 indexable (66.0% of hits, 66.0% overall), 66 crystals.\n",
      "Processing XY pairs:   9%|▉         | 40/441 [05:13<54:58,  8.23s/it]WARNING: You did not specify --int-radius.\n",
      "WARNING: I will use the default values, which are probably not appropriate for your patterns.\n",
      "This is what I understood your unit cell to be:\n",
      "orthorhombic I, right handed.\n",
      "a      b      c            alpha   beta  gamma\n",
      " 80.58  94.49 103.89 A     90.00  90.00  90.00 deg\n",
      "List of indexing methods:\n",
      "   0: xgandalf-nolatt-cell      (xgandalf using cell parameters as prior information)\n",
      "Indexing parameters:\n",
      "                  Check unit cell parameters: on\n",
      "                        Check peak alignment: on\n",
      "                   Refine indexing solutions: off\n",
      " Multi-lattice indexing (\"delete and retry\"): off\n",
      "                              Retry indexing: on\n"
     ]
    },
    {
     "name": "stdout",
     "output_type": "stream",
     "text": [
      "Running for x=-511.8, y=-512.3\n"
     ]
    },
    {
     "name": "stderr",
     "output_type": "stream",
     "text": [
      "66 images processed, 66 hits (100.0%), 43 indexable (65.2% of hits, 65.2% overall), 43 crystals, 12.9 images/sec.\n",
      "Waiting for the last patterns to be processed...\n",
      "Final: 100 images processed, 100 hits (100.0%), 61 indexable (61.0% of hits, 61.0% overall), 61 crystals.\n",
      "Processing XY pairs:   9%|▉         | 41/441 [05:22<55:24,  8.31s/it]WARNING: You did not specify --int-radius.\n",
      "WARNING: I will use the default values, which are probably not appropriate for your patterns.\n",
      "This is what I understood your unit cell to be:\n",
      "orthorhombic I, right handed.\n",
      "a      b      c            alpha   beta  gamma\n",
      " 80.58  94.49 103.89 A     90.00  90.00  90.00 deg\n",
      "List of indexing methods:\n",
      "   0: xgandalf-nolatt-cell      (xgandalf using cell parameters as prior information)\n",
      "Indexing parameters:\n",
      "                  Check unit cell parameters: on\n",
      "                        Check peak alignment: on\n",
      "                   Refine indexing solutions: off\n",
      " Multi-lattice indexing (\"delete and retry\"): off\n",
      "                              Retry indexing: on\n"
     ]
    },
    {
     "name": "stdout",
     "output_type": "stream",
     "text": [
      "Running for x=-511.8, y=-511.7\n"
     ]
    },
    {
     "name": "stderr",
     "output_type": "stream",
     "text": [
      "66 images processed, 66 hits (100.0%), 37 indexable (56.1% of hits, 56.1% overall), 37 crystals, 13.1 images/sec.\n",
      "Waiting for the last patterns to be processed...\n",
      "Final: 100 images processed, 100 hits (100.0%), 56 indexable (56.0% of hits, 56.0% overall), 56 crystals.\n",
      "Processing XY pairs:  10%|▉         | 42/441 [05:30<55:48,  8.39s/it]WARNING: You did not specify --int-radius.\n",
      "WARNING: I will use the default values, which are probably not appropriate for your patterns.\n",
      "This is what I understood your unit cell to be:\n",
      "orthorhombic I, right handed.\n",
      "a      b      c            alpha   beta  gamma\n",
      " 80.58  94.49 103.89 A     90.00  90.00  90.00 deg\n",
      "List of indexing methods:\n",
      "   0: xgandalf-nolatt-cell      (xgandalf using cell parameters as prior information)\n",
      "Indexing parameters:\n",
      "                  Check unit cell parameters: on\n",
      "                        Check peak alignment: on\n",
      "                   Refine indexing solutions: off\n",
      " Multi-lattice indexing (\"delete and retry\"): off\n",
      "                              Retry indexing: on\n"
     ]
    },
    {
     "name": "stdout",
     "output_type": "stream",
     "text": [
      "Running for x=-511.7, y=-512.3\n"
     ]
    },
    {
     "name": "stderr",
     "output_type": "stream",
     "text": [
      "66 images processed, 66 hits (100.0%), 39 indexable (59.1% of hits, 59.1% overall), 39 crystals, 12.9 images/sec.\n",
      "Waiting for the last patterns to be processed...\n",
      "Final: 100 images processed, 100 hits (100.0%), 55 indexable (55.0% of hits, 55.0% overall), 55 crystals.\n",
      "Processing XY pairs:  10%|▉         | 43/441 [05:38<54:33,  8.22s/it]WARNING: You did not specify --int-radius.\n",
      "WARNING: I will use the default values, which are probably not appropriate for your patterns.\n",
      "This is what I understood your unit cell to be:\n",
      "orthorhombic I, right handed.\n",
      "a      b      c            alpha   beta  gamma\n",
      " 80.58  94.49 103.89 A     90.00  90.00  90.00 deg\n",
      "List of indexing methods:\n",
      "   0: xgandalf-nolatt-cell      (xgandalf using cell parameters as prior information)\n",
      "Indexing parameters:\n",
      "                  Check unit cell parameters: on\n",
      "                        Check peak alignment: on\n",
      "                   Refine indexing solutions: off\n",
      " Multi-lattice indexing (\"delete and retry\"): off\n",
      "                              Retry indexing: on\n"
     ]
    },
    {
     "name": "stdout",
     "output_type": "stream",
     "text": [
      "Running for x=-511.7, y=-512.2\n"
     ]
    },
    {
     "name": "stderr",
     "output_type": "stream",
     "text": [
      "64 images processed, 64 hits (100.0%), 41 indexable (64.1% of hits, 64.1% overall), 41 crystals, 12.7 images/sec.\n",
      "Waiting for the last patterns to be processed...\n",
      "Final: 100 images processed, 100 hits (100.0%), 61 indexable (61.0% of hits, 61.0% overall), 61 crystals.\n",
      "Processing XY pairs:  10%|▉         | 44/441 [05:46<54:00,  8.16s/it]WARNING: You did not specify --int-radius.\n",
      "WARNING: I will use the default values, which are probably not appropriate for your patterns.\n",
      "This is what I understood your unit cell to be:\n",
      "orthorhombic I, right handed.\n",
      "a      b      c            alpha   beta  gamma\n",
      " 80.58  94.49 103.89 A     90.00  90.00  90.00 deg\n",
      "List of indexing methods:\n",
      "   0: xgandalf-nolatt-cell      (xgandalf using cell parameters as prior information)\n",
      "Indexing parameters:\n",
      "                  Check unit cell parameters: on\n",
      "                        Check peak alignment: on\n",
      "                   Refine indexing solutions: off\n",
      " Multi-lattice indexing (\"delete and retry\"): off\n",
      "                              Retry indexing: on\n",
      "WARNING: Radius determination failed\n"
     ]
    },
    {
     "name": "stdout",
     "output_type": "stream",
     "text": [
      "Running for x=-511.7, y=-512.1\n"
     ]
    },
    {
     "name": "stderr",
     "output_type": "stream",
     "text": [
      "62 images processed, 62 hits (100.0%), 37 indexable (59.7% of hits, 59.7% overall), 37 crystals, 12.2 images/sec.\n",
      "Waiting for the last patterns to be processed...\n",
      "Final: 100 images processed, 100 hits (100.0%), 60 indexable (60.0% of hits, 60.0% overall), 60 crystals.\n",
      "Processing XY pairs:  10%|█         | 45/441 [05:53<51:47,  7.85s/it]WARNING: You did not specify --int-radius.\n",
      "WARNING: I will use the default values, which are probably not appropriate for your patterns.\n",
      "This is what I understood your unit cell to be:\n",
      "orthorhombic I, right handed.\n",
      "a      b      c            alpha   beta  gamma\n",
      " 80.58  94.49 103.89 A     90.00  90.00  90.00 deg\n",
      "List of indexing methods:\n",
      "   0: xgandalf-nolatt-cell      (xgandalf using cell parameters as prior information)\n",
      "Indexing parameters:\n",
      "                  Check unit cell parameters: on\n",
      "                        Check peak alignment: on\n",
      "                   Refine indexing solutions: off\n",
      " Multi-lattice indexing (\"delete and retry\"): off\n",
      "                              Retry indexing: on\n"
     ]
    },
    {
     "name": "stdout",
     "output_type": "stream",
     "text": [
      "Running for x=-511.7, y=-512.0\n"
     ]
    },
    {
     "name": "stderr",
     "output_type": "stream",
     "text": [
      "WARNING: Radius determination failed\n",
      "67 images processed, 67 hits (100.0%), 41 indexable (61.2% of hits, 61.2% overall), 41 crystals, 13.4 images/sec.\n",
      "Waiting for the last patterns to be processed...\n",
      "Final: 100 images processed, 100 hits (100.0%), 64 indexable (64.0% of hits, 64.0% overall), 64 crystals.\n",
      "Processing XY pairs:  10%|█         | 46/441 [06:00<50:02,  7.60s/it]WARNING: You did not specify --int-radius.\n",
      "WARNING: I will use the default values, which are probably not appropriate for your patterns.\n",
      "This is what I understood your unit cell to be:\n",
      "orthorhombic I, right handed.\n",
      "a      b      c            alpha   beta  gamma\n",
      " 80.58  94.49 103.89 A     90.00  90.00  90.00 deg\n",
      "List of indexing methods:\n",
      "   0: xgandalf-nolatt-cell      (xgandalf using cell parameters as prior information)\n",
      "Indexing parameters:\n",
      "                  Check unit cell parameters: on\n",
      "                        Check peak alignment: on\n",
      "                   Refine indexing solutions: off\n",
      " Multi-lattice indexing (\"delete and retry\"): off\n",
      "                              Retry indexing: on\n"
     ]
    },
    {
     "name": "stdout",
     "output_type": "stream",
     "text": [
      "Running for x=-511.7, y=-511.9\n"
     ]
    },
    {
     "name": "stderr",
     "output_type": "stream",
     "text": [
      "65 images processed, 65 hits (100.0%), 37 indexable (56.9% of hits, 56.9% overall), 37 crystals, 13.0 images/sec.\n",
      "Waiting for the last patterns to be processed...\n",
      "Final: 100 images processed, 100 hits (100.0%), 53 indexable (53.0% of hits, 53.0% overall), 53 crystals.\n",
      "Processing XY pairs:  11%|█         | 47/441 [06:09<52:24,  7.98s/it]WARNING: You did not specify --int-radius.\n",
      "WARNING: I will use the default values, which are probably not appropriate for your patterns.\n",
      "This is what I understood your unit cell to be:\n",
      "orthorhombic I, right handed.\n",
      "a      b      c            alpha   beta  gamma\n",
      " 80.58  94.49 103.89 A     90.00  90.00  90.00 deg\n",
      "List of indexing methods:\n",
      "   0: xgandalf-nolatt-cell      (xgandalf using cell parameters as prior information)\n",
      "Indexing parameters:\n",
      "                  Check unit cell parameters: on\n",
      "                        Check peak alignment: on\n",
      "                   Refine indexing solutions: off\n",
      " Multi-lattice indexing (\"delete and retry\"): off\n",
      "                              Retry indexing: on\n"
     ]
    },
    {
     "name": "stdout",
     "output_type": "stream",
     "text": [
      "Running for x=-511.7, y=-511.8\n"
     ]
    },
    {
     "name": "stderr",
     "output_type": "stream",
     "text": [
      "64 images processed, 64 hits (100.0%), 43 indexable (67.2% of hits, 67.2% overall), 43 crystals, 12.5 images/sec.\n",
      "Waiting for the last patterns to be processed...\n",
      "Final: 100 images processed, 100 hits (100.0%), 64 indexable (64.0% of hits, 64.0% overall), 64 crystals.\n",
      "Processing XY pairs:  11%|█         | 48/441 [06:16<50:51,  7.77s/it]WARNING: You did not specify --int-radius.\n",
      "WARNING: I will use the default values, which are probably not appropriate for your patterns.\n",
      "This is what I understood your unit cell to be:\n",
      "orthorhombic I, right handed.\n",
      "a      b      c            alpha   beta  gamma\n",
      " 80.58  94.49 103.89 A     90.00  90.00  90.00 deg\n",
      "List of indexing methods:\n",
      "   0: xgandalf-nolatt-cell      (xgandalf using cell parameters as prior information)\n",
      "Indexing parameters:\n",
      "                  Check unit cell parameters: on\n",
      "                        Check peak alignment: on\n",
      "                   Refine indexing solutions: off\n",
      " Multi-lattice indexing (\"delete and retry\"): off\n",
      "                              Retry indexing: on\n"
     ]
    },
    {
     "name": "stdout",
     "output_type": "stream",
     "text": [
      "Running for x=-511.7, y=-511.7\n"
     ]
    },
    {
     "name": "stderr",
     "output_type": "stream",
     "text": [
      "63 images processed, 63 hits (100.0%), 40 indexable (63.5% of hits, 63.5% overall), 40 crystals, 12.6 images/sec.\n",
      "Waiting for the last patterns to be processed...\n",
      "Final: 100 images processed, 100 hits (100.0%), 62 indexable (62.0% of hits, 62.0% overall), 62 crystals.\n",
      "Processing XY pairs:  11%|█         | 49/441 [06:23<49:08,  7.52s/it]WARNING: You did not specify --int-radius.\n",
      "WARNING: I will use the default values, which are probably not appropriate for your patterns.\n",
      "This is what I understood your unit cell to be:\n",
      "orthorhombic I, right handed.\n",
      "a      b      c            alpha   beta  gamma\n",
      " 80.58  94.49 103.89 A     90.00  90.00  90.00 deg\n",
      "List of indexing methods:\n",
      "   0: xgandalf-nolatt-cell      (xgandalf using cell parameters as prior information)\n",
      "Indexing parameters:\n",
      "                  Check unit cell parameters: on\n",
      "                        Check peak alignment: on\n",
      "                   Refine indexing solutions: off\n",
      " Multi-lattice indexing (\"delete and retry\"): off\n",
      "                              Retry indexing: on\n"
     ]
    },
    {
     "name": "stdout",
     "output_type": "stream",
     "text": [
      "Running for x=-512.4, y=-512.4\n"
     ]
    },
    {
     "name": "stderr",
     "output_type": "stream",
     "text": [
      "59 images processed, 59 hits (100.0%), 35 indexable (59.3% of hits, 59.3% overall), 35 crystals, 11.7 images/sec.\n",
      "Waiting for the last patterns to be processed...\n",
      "Final: 100 images processed, 100 hits (100.0%), 63 indexable (63.0% of hits, 63.0% overall), 63 crystals.\n",
      "Processing XY pairs:  11%|█▏        | 50/441 [06:32<51:23,  7.89s/it]WARNING: You did not specify --int-radius.\n",
      "WARNING: I will use the default values, which are probably not appropriate for your patterns.\n",
      "This is what I understood your unit cell to be:\n",
      "orthorhombic I, right handed.\n",
      "a      b      c            alpha   beta  gamma\n",
      " 80.58  94.49 103.89 A     90.00  90.00  90.00 deg\n",
      "List of indexing methods:\n",
      "   0: xgandalf-nolatt-cell      (xgandalf using cell parameters as prior information)\n",
      "Indexing parameters:\n",
      "                  Check unit cell parameters: on\n",
      "                        Check peak alignment: on\n",
      "                   Refine indexing solutions: off\n",
      " Multi-lattice indexing (\"delete and retry\"): off\n",
      "                              Retry indexing: on\n"
     ]
    },
    {
     "name": "stdout",
     "output_type": "stream",
     "text": [
      "Running for x=-512.4, y=-512.3\n"
     ]
    },
    {
     "name": "stderr",
     "output_type": "stream",
     "text": [
      "65 images processed, 65 hits (100.0%), 35 indexable (53.8% of hits, 53.8% overall), 35 crystals, 12.8 images/sec.\n",
      "Waiting for the last patterns to be processed...\n",
      "Final: 100 images processed, 100 hits (100.0%), 52 indexable (52.0% of hits, 52.0% overall), 52 crystals.\n",
      "Processing XY pairs:  12%|█▏        | 51/441 [06:41<52:36,  8.09s/it]WARNING: You did not specify --int-radius.\n",
      "WARNING: I will use the default values, which are probably not appropriate for your patterns.\n",
      "This is what I understood your unit cell to be:\n",
      "orthorhombic I, right handed.\n",
      "a      b      c            alpha   beta  gamma\n",
      " 80.58  94.49 103.89 A     90.00  90.00  90.00 deg\n",
      "List of indexing methods:\n",
      "   0: xgandalf-nolatt-cell      (xgandalf using cell parameters as prior information)\n",
      "Indexing parameters:\n",
      "                  Check unit cell parameters: on\n",
      "                        Check peak alignment: on\n",
      "                   Refine indexing solutions: off\n",
      " Multi-lattice indexing (\"delete and retry\"): off\n",
      "                              Retry indexing: on\n",
      "WARNING: Radius determination failed\n"
     ]
    },
    {
     "name": "stdout",
     "output_type": "stream",
     "text": [
      "Running for x=-512.4, y=-512.2\n"
     ]
    },
    {
     "name": "stderr",
     "output_type": "stream",
     "text": [
      "WARNING: Radius determination failed\n",
      "66 images processed, 66 hits (100.0%), 37 indexable (56.1% of hits, 56.1% overall), 37 crystals, 13.0 images/sec.\n",
      "Waiting for the last patterns to be processed...\n",
      "Final: 100 images processed, 100 hits (100.0%), 61 indexable (61.0% of hits, 61.0% overall), 61 crystals.\n",
      "Processing XY pairs:  12%|█▏        | 52/441 [06:49<52:27,  8.09s/it]WARNING: You did not specify --int-radius.\n",
      "WARNING: I will use the default values, which are probably not appropriate for your patterns.\n",
      "This is what I understood your unit cell to be:\n",
      "orthorhombic I, right handed.\n",
      "a      b      c            alpha   beta  gamma\n",
      " 80.58  94.49 103.89 A     90.00  90.00  90.00 deg\n",
      "List of indexing methods:\n",
      "   0: xgandalf-nolatt-cell      (xgandalf using cell parameters as prior information)\n",
      "Indexing parameters:\n",
      "                  Check unit cell parameters: on\n",
      "                        Check peak alignment: on\n",
      "                   Refine indexing solutions: off\n",
      " Multi-lattice indexing (\"delete and retry\"): off\n",
      "                              Retry indexing: on\n"
     ]
    },
    {
     "name": "stdout",
     "output_type": "stream",
     "text": [
      "Running for x=-512.4, y=-512.1\n"
     ]
    },
    {
     "name": "stderr",
     "output_type": "stream",
     "text": [
      "73 images processed, 73 hits (100.0%), 51 indexable (69.9% of hits, 69.9% overall), 51 crystals, 14.4 images/sec.\n",
      "Waiting for the last patterns to be processed...\n",
      "Final: 100 images processed, 100 hits (100.0%), 62 indexable (62.0% of hits, 62.0% overall), 62 crystals.\n",
      "Processing XY pairs:  12%|█▏        | 53/441 [06:57<52:12,  8.07s/it]WARNING: You did not specify --int-radius.\n",
      "WARNING: I will use the default values, which are probably not appropriate for your patterns.\n",
      "This is what I understood your unit cell to be:\n",
      "orthorhombic I, right handed.\n",
      "a      b      c            alpha   beta  gamma\n",
      " 80.58  94.49 103.89 A     90.00  90.00  90.00 deg\n",
      "List of indexing methods:\n",
      "   0: xgandalf-nolatt-cell      (xgandalf using cell parameters as prior information)\n",
      "Indexing parameters:\n",
      "                  Check unit cell parameters: on\n",
      "                        Check peak alignment: on\n",
      "                   Refine indexing solutions: off\n",
      " Multi-lattice indexing (\"delete and retry\"): off\n",
      "                              Retry indexing: on\n"
     ]
    },
    {
     "name": "stdout",
     "output_type": "stream",
     "text": [
      "Running for x=-512.4, y=-512.0\n"
     ]
    },
    {
     "name": "stderr",
     "output_type": "stream",
     "text": [
      "69 images processed, 69 hits (100.0%), 44 indexable (63.8% of hits, 63.8% overall), 44 crystals, 13.7 images/sec.\n",
      "Waiting for the last patterns to be processed...\n",
      "Final: 100 images processed, 100 hits (100.0%), 60 indexable (60.0% of hits, 60.0% overall), 60 crystals.\n",
      "Processing XY pairs:  12%|█▏        | 54/441 [07:04<50:37,  7.85s/it]WARNING: You did not specify --int-radius.\n",
      "WARNING: I will use the default values, which are probably not appropriate for your patterns.\n",
      "This is what I understood your unit cell to be:\n",
      "orthorhombic I, right handed.\n",
      "a      b      c            alpha   beta  gamma\n",
      " 80.58  94.49 103.89 A     90.00  90.00  90.00 deg\n",
      "List of indexing methods:\n",
      "   0: xgandalf-nolatt-cell      (xgandalf using cell parameters as prior information)\n",
      "Indexing parameters:\n",
      "                  Check unit cell parameters: on\n",
      "                        Check peak alignment: on\n",
      "                   Refine indexing solutions: off\n",
      " Multi-lattice indexing (\"delete and retry\"): off\n",
      "                              Retry indexing: on\n",
      "WARNING: Radius determination failed\n"
     ]
    },
    {
     "name": "stdout",
     "output_type": "stream",
     "text": [
      "Running for x=-512.4, y=-511.9\n"
     ]
    },
    {
     "name": "stderr",
     "output_type": "stream",
     "text": [
      "66 images processed, 66 hits (100.0%), 42 indexable (63.6% of hits, 63.6% overall), 42 crystals, 13.2 images/sec.\n",
      "Waiting for the last patterns to be processed...\n",
      "Final: 100 images processed, 100 hits (100.0%), 55 indexable (55.0% of hits, 55.0% overall), 55 crystals.\n",
      "Processing XY pairs:  12%|█▏        | 55/441 [07:12<49:59,  7.77s/it]WARNING: You did not specify --int-radius.\n",
      "WARNING: I will use the default values, which are probably not appropriate for your patterns.\n",
      "This is what I understood your unit cell to be:\n",
      "orthorhombic I, right handed.\n",
      "a      b      c            alpha   beta  gamma\n",
      " 80.58  94.49 103.89 A     90.00  90.00  90.00 deg\n",
      "List of indexing methods:\n",
      "   0: xgandalf-nolatt-cell      (xgandalf using cell parameters as prior information)\n",
      "Indexing parameters:\n",
      "                  Check unit cell parameters: on\n",
      "                        Check peak alignment: on\n",
      "                   Refine indexing solutions: off\n",
      " Multi-lattice indexing (\"delete and retry\"): off\n",
      "                              Retry indexing: on\n",
      "WARNING: Radius determination failed\n"
     ]
    },
    {
     "name": "stdout",
     "output_type": "stream",
     "text": [
      "Running for x=-512.4, y=-511.8\n"
     ]
    },
    {
     "name": "stderr",
     "output_type": "stream",
     "text": [
      "64 images processed, 64 hits (100.0%), 42 indexable (65.6% of hits, 65.6% overall), 42 crystals, 12.8 images/sec.\n",
      "Waiting for the last patterns to be processed...\n",
      "Final: 100 images processed, 100 hits (100.0%), 62 indexable (62.0% of hits, 62.0% overall), 62 crystals.\n",
      "Processing XY pairs:  13%|█▎        | 56/441 [07:21<51:54,  8.09s/it]WARNING: You did not specify --int-radius.\n",
      "WARNING: I will use the default values, which are probably not appropriate for your patterns.\n",
      "This is what I understood your unit cell to be:\n",
      "orthorhombic I, right handed.\n",
      "a      b      c            alpha   beta  gamma\n",
      " 80.58  94.49 103.89 A     90.00  90.00  90.00 deg\n",
      "List of indexing methods:\n",
      "   0: xgandalf-nolatt-cell      (xgandalf using cell parameters as prior information)\n",
      "Indexing parameters:\n",
      "                  Check unit cell parameters: on\n",
      "                        Check peak alignment: on\n",
      "                   Refine indexing solutions: off\n",
      " Multi-lattice indexing (\"delete and retry\"): off\n",
      "                              Retry indexing: on\n"
     ]
    },
    {
     "name": "stdout",
     "output_type": "stream",
     "text": [
      "Running for x=-512.4, y=-511.7\n"
     ]
    },
    {
     "name": "stderr",
     "output_type": "stream",
     "text": [
      "68 images processed, 68 hits (100.0%), 42 indexable (61.8% of hits, 61.8% overall), 42 crystals, 13.4 images/sec.\n",
      "Waiting for the last patterns to be processed...\n",
      "Final: 100 images processed, 100 hits (100.0%), 58 indexable (58.0% of hits, 58.0% overall), 58 crystals.\n",
      "Processing XY pairs:  13%|█▎        | 57/441 [07:29<51:33,  8.06s/it]WARNING: You did not specify --int-radius.\n",
      "WARNING: I will use the default values, which are probably not appropriate for your patterns.\n",
      "This is what I understood your unit cell to be:\n",
      "orthorhombic I, right handed.\n",
      "a      b      c            alpha   beta  gamma\n",
      " 80.58  94.49 103.89 A     90.00  90.00  90.00 deg\n",
      "List of indexing methods:\n",
      "   0: xgandalf-nolatt-cell      (xgandalf using cell parameters as prior information)\n",
      "Indexing parameters:\n",
      "                  Check unit cell parameters: on\n",
      "                        Check peak alignment: on\n",
      "                   Refine indexing solutions: off\n",
      " Multi-lattice indexing (\"delete and retry\"): off\n",
      "                              Retry indexing: on\n"
     ]
    },
    {
     "name": "stdout",
     "output_type": "stream",
     "text": [
      "Running for x=-512.4, y=-511.6\n"
     ]
    },
    {
     "name": "stderr",
     "output_type": "stream",
     "text": [
      "66 images processed, 66 hits (100.0%), 38 indexable (57.6% of hits, 57.6% overall), 38 crystals, 13.1 images/sec.\n",
      "Waiting for the last patterns to be processed...\n",
      "Final: 100 images processed, 100 hits (100.0%), 55 indexable (55.0% of hits, 55.0% overall), 55 crystals.\n",
      "Processing XY pairs:  13%|█▎        | 58/441 [07:37<52:00,  8.15s/it]WARNING: You did not specify --int-radius.\n",
      "WARNING: I will use the default values, which are probably not appropriate for your patterns.\n",
      "This is what I understood your unit cell to be:\n",
      "orthorhombic I, right handed.\n",
      "a      b      c            alpha   beta  gamma\n",
      " 80.58  94.49 103.89 A     90.00  90.00  90.00 deg\n",
      "List of indexing methods:\n",
      "   0: xgandalf-nolatt-cell      (xgandalf using cell parameters as prior information)\n",
      "Indexing parameters:\n",
      "                  Check unit cell parameters: on\n",
      "                        Check peak alignment: on\n",
      "                   Refine indexing solutions: off\n",
      " Multi-lattice indexing (\"delete and retry\"): off\n",
      "                              Retry indexing: on\n"
     ]
    },
    {
     "name": "stdout",
     "output_type": "stream",
     "text": [
      "Running for x=-512.3, y=-512.4\n"
     ]
    },
    {
     "name": "stderr",
     "output_type": "stream",
     "text": [
      "66 images processed, 66 hits (100.0%), 37 indexable (56.1% of hits, 56.1% overall), 37 crystals, 13.1 images/sec.\n",
      "Waiting for the last patterns to be processed...\n",
      "Final: 100 images processed, 100 hits (100.0%), 52 indexable (52.0% of hits, 52.0% overall), 52 crystals.\n",
      "Processing XY pairs:  13%|█▎        | 59/441 [07:46<53:04,  8.34s/it]WARNING: You did not specify --int-radius.\n",
      "WARNING: I will use the default values, which are probably not appropriate for your patterns.\n",
      "This is what I understood your unit cell to be:\n",
      "orthorhombic I, right handed.\n",
      "a      b      c            alpha   beta  gamma\n",
      " 80.58  94.49 103.89 A     90.00  90.00  90.00 deg\n",
      "List of indexing methods:\n",
      "   0: xgandalf-nolatt-cell      (xgandalf using cell parameters as prior information)\n",
      "Indexing parameters:\n",
      "                  Check unit cell parameters: on\n",
      "                        Check peak alignment: on\n",
      "                   Refine indexing solutions: off\n",
      " Multi-lattice indexing (\"delete and retry\"): off\n",
      "                              Retry indexing: on\n"
     ]
    },
    {
     "name": "stdout",
     "output_type": "stream",
     "text": [
      "Running for x=-512.3, y=-511.6\n"
     ]
    },
    {
     "name": "stderr",
     "output_type": "stream",
     "text": [
      "71 images processed, 71 hits (100.0%), 43 indexable (60.6% of hits, 60.6% overall), 43 crystals, 14.1 images/sec.\n",
      "Waiting for the last patterns to be processed...\n",
      "Final: 100 images processed, 100 hits (100.0%), 59 indexable (59.0% of hits, 59.0% overall), 59 crystals.\n",
      "Processing XY pairs:  14%|█▎        | 60/441 [07:54<52:31,  8.27s/it]WARNING: You did not specify --int-radius.\n",
      "WARNING: I will use the default values, which are probably not appropriate for your patterns.\n",
      "This is what I understood your unit cell to be:\n",
      "orthorhombic I, right handed.\n",
      "a      b      c            alpha   beta  gamma\n",
      " 80.58  94.49 103.89 A     90.00  90.00  90.00 deg\n",
      "List of indexing methods:\n",
      "   0: xgandalf-nolatt-cell      (xgandalf using cell parameters as prior information)\n",
      "Indexing parameters:\n",
      "                  Check unit cell parameters: on\n",
      "                        Check peak alignment: on\n",
      "                   Refine indexing solutions: off\n",
      " Multi-lattice indexing (\"delete and retry\"): off\n",
      "                              Retry indexing: on\n"
     ]
    },
    {
     "name": "stdout",
     "output_type": "stream",
     "text": [
      "Running for x=-512.2, y=-512.4\n"
     ]
    },
    {
     "name": "stderr",
     "output_type": "stream",
     "text": [
      "65 images processed, 65 hits (100.0%), 41 indexable (63.1% of hits, 63.1% overall), 41 crystals, 13.0 images/sec.\n",
      "Waiting for the last patterns to be processed...\n",
      "Final: 100 images processed, 100 hits (100.0%), 59 indexable (59.0% of hits, 59.0% overall), 59 crystals.\n",
      "Processing XY pairs:  14%|█▍        | 61/441 [08:01<50:53,  8.03s/it]WARNING: You did not specify --int-radius.\n",
      "WARNING: I will use the default values, which are probably not appropriate for your patterns.\n",
      "This is what I understood your unit cell to be:\n",
      "orthorhombic I, right handed.\n",
      "a      b      c            alpha   beta  gamma\n",
      " 80.58  94.49 103.89 A     90.00  90.00  90.00 deg\n",
      "List of indexing methods:\n",
      "   0: xgandalf-nolatt-cell      (xgandalf using cell parameters as prior information)\n",
      "Indexing parameters:\n",
      "                  Check unit cell parameters: on\n",
      "                        Check peak alignment: on\n",
      "                   Refine indexing solutions: off\n",
      " Multi-lattice indexing (\"delete and retry\"): off\n",
      "                              Retry indexing: on\n"
     ]
    },
    {
     "name": "stdout",
     "output_type": "stream",
     "text": [
      "Running for x=-512.2, y=-511.6\n"
     ]
    },
    {
     "name": "stderr",
     "output_type": "stream",
     "text": [
      "67 images processed, 67 hits (100.0%), 42 indexable (62.7% of hits, 62.7% overall), 42 crystals, 13.4 images/sec.\n",
      "Waiting for the last patterns to be processed...\n",
      "Final: 100 images processed, 100 hits (100.0%), 60 indexable (60.0% of hits, 60.0% overall), 60 crystals.\n",
      "Processing XY pairs:  14%|█▍        | 62/441 [08:10<51:40,  8.18s/it]WARNING: You did not specify --int-radius.\n",
      "WARNING: I will use the default values, which are probably not appropriate for your patterns.\n",
      "This is what I understood your unit cell to be:\n",
      "orthorhombic I, right handed.\n",
      "a      b      c            alpha   beta  gamma\n",
      " 80.58  94.49 103.89 A     90.00  90.00  90.00 deg\n",
      "List of indexing methods:\n",
      "   0: xgandalf-nolatt-cell      (xgandalf using cell parameters as prior information)\n",
      "Indexing parameters:\n",
      "                  Check unit cell parameters: on\n",
      "                        Check peak alignment: on\n",
      "                   Refine indexing solutions: off\n",
      " Multi-lattice indexing (\"delete and retry\"): off\n",
      "                              Retry indexing: on\n"
     ]
    },
    {
     "name": "stdout",
     "output_type": "stream",
     "text": [
      "Running for x=-512.1, y=-512.4\n"
     ]
    },
    {
     "name": "stderr",
     "output_type": "stream",
     "text": [
      "67 images processed, 67 hits (100.0%), 36 indexable (53.7% of hits, 53.7% overall), 36 crystals, 13.3 images/sec.\n",
      "Waiting for the last patterns to be processed...\n",
      "Final: 100 images processed, 100 hits (100.0%), 57 indexable (57.0% of hits, 57.0% overall), 57 crystals.\n",
      "Processing XY pairs:  14%|█▍        | 63/441 [08:19<52:51,  8.39s/it]WARNING: You did not specify --int-radius.\n",
      "WARNING: I will use the default values, which are probably not appropriate for your patterns.\n",
      "This is what I understood your unit cell to be:\n",
      "orthorhombic I, right handed.\n",
      "a      b      c            alpha   beta  gamma\n",
      " 80.58  94.49 103.89 A     90.00  90.00  90.00 deg\n",
      "List of indexing methods:\n",
      "   0: xgandalf-nolatt-cell      (xgandalf using cell parameters as prior information)\n",
      "Indexing parameters:\n",
      "                  Check unit cell parameters: on\n",
      "                        Check peak alignment: on\n",
      "                   Refine indexing solutions: off\n",
      " Multi-lattice indexing (\"delete and retry\"): off\n",
      "                              Retry indexing: on\n"
     ]
    },
    {
     "name": "stdout",
     "output_type": "stream",
     "text": [
      "Running for x=-512.1, y=-511.6\n"
     ]
    },
    {
     "name": "stderr",
     "output_type": "stream",
     "text": [
      "WARNING: Radius determination failed\n",
      "67 images processed, 67 hits (100.0%), 42 indexable (62.7% of hits, 62.7% overall), 42 crystals, 13.3 images/sec.\n",
      "Waiting for the last patterns to be processed...\n",
      "Final: 100 images processed, 100 hits (100.0%), 61 indexable (61.0% of hits, 61.0% overall), 61 crystals.\n",
      "Processing XY pairs:  15%|█▍        | 64/441 [08:27<52:53,  8.42s/it]WARNING: You did not specify --int-radius.\n",
      "WARNING: I will use the default values, which are probably not appropriate for your patterns.\n",
      "This is what I understood your unit cell to be:\n",
      "orthorhombic I, right handed.\n",
      "a      b      c            alpha   beta  gamma\n",
      " 80.58  94.49 103.89 A     90.00  90.00  90.00 deg\n",
      "List of indexing methods:\n",
      "   0: xgandalf-nolatt-cell      (xgandalf using cell parameters as prior information)\n",
      "Indexing parameters:\n",
      "                  Check unit cell parameters: on\n",
      "                        Check peak alignment: on\n",
      "                   Refine indexing solutions: off\n",
      " Multi-lattice indexing (\"delete and retry\"): off\n",
      "                              Retry indexing: on\n"
     ]
    },
    {
     "name": "stdout",
     "output_type": "stream",
     "text": [
      "Running for x=-512.0, y=-512.4\n"
     ]
    },
    {
     "name": "stderr",
     "output_type": "stream",
     "text": [
      "64 images processed, 64 hits (100.0%), 40 indexable (62.5% of hits, 62.5% overall), 40 crystals, 12.6 images/sec.\n",
      "Waiting for the last patterns to be processed...\n",
      "Final: 100 images processed, 100 hits (100.0%), 58 indexable (58.0% of hits, 58.0% overall), 58 crystals.\n",
      "Processing XY pairs:  15%|█▍        | 65/441 [08:35<51:07,  8.16s/it]WARNING: You did not specify --int-radius.\n",
      "WARNING: I will use the default values, which are probably not appropriate for your patterns.\n",
      "This is what I understood your unit cell to be:\n",
      "orthorhombic I, right handed.\n",
      "a      b      c            alpha   beta  gamma\n",
      " 80.58  94.49 103.89 A     90.00  90.00  90.00 deg\n",
      "List of indexing methods:\n",
      "   0: xgandalf-nolatt-cell      (xgandalf using cell parameters as prior information)\n",
      "Indexing parameters:\n",
      "                  Check unit cell parameters: on\n",
      "                        Check peak alignment: on\n",
      "                   Refine indexing solutions: off\n",
      " Multi-lattice indexing (\"delete and retry\"): off\n",
      "                              Retry indexing: on\n"
     ]
    },
    {
     "name": "stdout",
     "output_type": "stream",
     "text": [
      "Running for x=-512.0, y=-511.6\n"
     ]
    },
    {
     "name": "stderr",
     "output_type": "stream",
     "text": [
      "64 images processed, 64 hits (100.0%), 43 indexable (67.2% of hits, 67.2% overall), 43 crystals, 12.5 images/sec.\n",
      "Waiting for the last patterns to be processed...\n",
      "Final: 100 images processed, 100 hits (100.0%), 58 indexable (58.0% of hits, 58.0% overall), 58 crystals.\n",
      "Processing XY pairs:  15%|█▍        | 66/441 [08:42<50:03,  8.01s/it]WARNING: You did not specify --int-radius.\n",
      "WARNING: I will use the default values, which are probably not appropriate for your patterns.\n",
      "This is what I understood your unit cell to be:\n",
      "orthorhombic I, right handed.\n",
      "a      b      c            alpha   beta  gamma\n",
      " 80.58  94.49 103.89 A     90.00  90.00  90.00 deg\n",
      "List of indexing methods:\n",
      "   0: xgandalf-nolatt-cell      (xgandalf using cell parameters as prior information)\n",
      "Indexing parameters:\n",
      "                  Check unit cell parameters: on\n",
      "                        Check peak alignment: on\n",
      "                   Refine indexing solutions: off\n",
      " Multi-lattice indexing (\"delete and retry\"): off\n",
      "                              Retry indexing: on\n"
     ]
    },
    {
     "name": "stdout",
     "output_type": "stream",
     "text": [
      "Running for x=-511.9, y=-512.4\n"
     ]
    },
    {
     "name": "stderr",
     "output_type": "stream",
     "text": [
      "65 images processed, 65 hits (100.0%), 34 indexable (52.3% of hits, 52.3% overall), 34 crystals, 12.7 images/sec.\n",
      "Waiting for the last patterns to be processed...\n",
      "Final: 100 images processed, 100 hits (100.0%), 55 indexable (55.0% of hits, 55.0% overall), 55 crystals.\n",
      "Processing XY pairs:  15%|█▌        | 67/441 [08:51<51:10,  8.21s/it]WARNING: You did not specify --int-radius.\n",
      "WARNING: I will use the default values, which are probably not appropriate for your patterns.\n",
      "This is what I understood your unit cell to be:\n",
      "orthorhombic I, right handed.\n",
      "a      b      c            alpha   beta  gamma\n",
      " 80.58  94.49 103.89 A     90.00  90.00  90.00 deg\n",
      "List of indexing methods:\n",
      "   0: xgandalf-nolatt-cell      (xgandalf using cell parameters as prior information)\n",
      "Indexing parameters:\n",
      "                  Check unit cell parameters: on\n",
      "                        Check peak alignment: on\n",
      "                   Refine indexing solutions: off\n",
      " Multi-lattice indexing (\"delete and retry\"): off\n",
      "                              Retry indexing: on\n"
     ]
    },
    {
     "name": "stdout",
     "output_type": "stream",
     "text": [
      "Running for x=-511.9, y=-511.6\n"
     ]
    },
    {
     "name": "stderr",
     "output_type": "stream",
     "text": [
      "62 images processed, 62 hits (100.0%), 32 indexable (51.6% of hits, 51.6% overall), 32 crystals, 12.3 images/sec.\n",
      "Waiting for the last patterns to be processed...\n",
      "Final: 100 images processed, 100 hits (100.0%), 50 indexable (50.0% of hits, 50.0% overall), 50 crystals.\n",
      "Processing XY pairs:  15%|█▌        | 68/441 [09:00<52:08,  8.39s/it]WARNING: You did not specify --int-radius.\n",
      "WARNING: I will use the default values, which are probably not appropriate for your patterns.\n",
      "This is what I understood your unit cell to be:\n",
      "orthorhombic I, right handed.\n",
      "a      b      c            alpha   beta  gamma\n",
      " 80.58  94.49 103.89 A     90.00  90.00  90.00 deg\n",
      "List of indexing methods:\n",
      "   0: xgandalf-nolatt-cell      (xgandalf using cell parameters as prior information)\n",
      "Indexing parameters:\n",
      "                  Check unit cell parameters: on\n",
      "                        Check peak alignment: on\n",
      "                   Refine indexing solutions: off\n",
      " Multi-lattice indexing (\"delete and retry\"): off\n",
      "                              Retry indexing: on\n"
     ]
    },
    {
     "name": "stdout",
     "output_type": "stream",
     "text": [
      "Running for x=-511.8, y=-512.4\n"
     ]
    },
    {
     "name": "stderr",
     "output_type": "stream",
     "text": [
      "70 images processed, 70 hits (100.0%), 44 indexable (62.9% of hits, 62.9% overall), 44 crystals, 13.9 images/sec.\n",
      "Waiting for the last patterns to be processed...\n",
      "Final: 100 images processed, 100 hits (100.0%), 59 indexable (59.0% of hits, 59.0% overall), 59 crystals.\n",
      "Processing XY pairs:  16%|█▌        | 69/441 [09:07<50:08,  8.09s/it]WARNING: You did not specify --int-radius.\n",
      "WARNING: I will use the default values, which are probably not appropriate for your patterns.\n",
      "This is what I understood your unit cell to be:\n",
      "orthorhombic I, right handed.\n",
      "a      b      c            alpha   beta  gamma\n",
      " 80.58  94.49 103.89 A     90.00  90.00  90.00 deg\n",
      "List of indexing methods:\n",
      "   0: xgandalf-nolatt-cell      (xgandalf using cell parameters as prior information)\n",
      "Indexing parameters:\n",
      "                  Check unit cell parameters: on\n",
      "                        Check peak alignment: on\n",
      "                   Refine indexing solutions: off\n",
      " Multi-lattice indexing (\"delete and retry\"): off\n",
      "                              Retry indexing: on\n"
     ]
    },
    {
     "name": "stdout",
     "output_type": "stream",
     "text": [
      "Running for x=-511.8, y=-511.6\n"
     ]
    },
    {
     "name": "stderr",
     "output_type": "stream",
     "text": [
      "67 images processed, 67 hits (100.0%), 42 indexable (62.7% of hits, 62.7% overall), 42 crystals, 13.2 images/sec.\n",
      "Waiting for the last patterns to be processed...\n",
      "Final: 100 images processed, 100 hits (100.0%), 60 indexable (60.0% of hits, 60.0% overall), 60 crystals.\n",
      "Processing XY pairs:  16%|█▌        | 70/441 [09:15<49:29,  8.00s/it]WARNING: You did not specify --int-radius.\n",
      "WARNING: I will use the default values, which are probably not appropriate for your patterns.\n",
      "This is what I understood your unit cell to be:\n",
      "orthorhombic I, right handed.\n",
      "a      b      c            alpha   beta  gamma\n",
      " 80.58  94.49 103.89 A     90.00  90.00  90.00 deg\n",
      "List of indexing methods:\n",
      "   0: xgandalf-nolatt-cell      (xgandalf using cell parameters as prior information)\n",
      "Indexing parameters:\n",
      "                  Check unit cell parameters: on\n",
      "                        Check peak alignment: on\n",
      "                   Refine indexing solutions: off\n",
      " Multi-lattice indexing (\"delete and retry\"): off\n",
      "                              Retry indexing: on\n"
     ]
    },
    {
     "name": "stdout",
     "output_type": "stream",
     "text": [
      "Running for x=-511.7, y=-512.4\n"
     ]
    },
    {
     "name": "stderr",
     "output_type": "stream",
     "text": [
      "60 images processed, 60 hits (100.0%), 31 indexable (51.7% of hits, 51.7% overall), 31 crystals, 11.9 images/sec.\n",
      "Waiting for the last patterns to be processed...\n",
      "Final: 100 images processed, 100 hits (100.0%), 50 indexable (50.0% of hits, 50.0% overall), 50 crystals.\n",
      "Processing XY pairs:  16%|█▌        | 71/441 [09:24<50:40,  8.22s/it]WARNING: You did not specify --int-radius.\n",
      "WARNING: I will use the default values, which are probably not appropriate for your patterns.\n",
      "This is what I understood your unit cell to be:\n",
      "orthorhombic I, right handed.\n",
      "a      b      c            alpha   beta  gamma\n",
      " 80.58  94.49 103.89 A     90.00  90.00  90.00 deg\n",
      "List of indexing methods:\n",
      "   0: xgandalf-nolatt-cell      (xgandalf using cell parameters as prior information)\n",
      "Indexing parameters:\n",
      "                  Check unit cell parameters: on\n",
      "                        Check peak alignment: on\n",
      "                   Refine indexing solutions: off\n",
      " Multi-lattice indexing (\"delete and retry\"): off\n",
      "                              Retry indexing: on\n"
     ]
    },
    {
     "name": "stdout",
     "output_type": "stream",
     "text": [
      "Running for x=-511.7, y=-511.6\n"
     ]
    },
    {
     "name": "stderr",
     "output_type": "stream",
     "text": [
      "63 images processed, 63 hits (100.0%), 36 indexable (57.1% of hits, 57.1% overall), 36 crystals, 12.4 images/sec.\n",
      "Waiting for the last patterns to be processed...\n",
      "Final: 100 images processed, 100 hits (100.0%), 49 indexable (49.0% of hits, 49.0% overall), 49 crystals.\n",
      "Processing XY pairs:  16%|█▋        | 72/441 [09:33<51:56,  8.45s/it]WARNING: You did not specify --int-radius.\n",
      "WARNING: I will use the default values, which are probably not appropriate for your patterns.\n",
      "This is what I understood your unit cell to be:\n",
      "orthorhombic I, right handed.\n",
      "a      b      c            alpha   beta  gamma\n",
      " 80.58  94.49 103.89 A     90.00  90.00  90.00 deg\n",
      "List of indexing methods:\n",
      "   0: xgandalf-nolatt-cell      (xgandalf using cell parameters as prior information)\n",
      "Indexing parameters:\n",
      "                  Check unit cell parameters: on\n",
      "                        Check peak alignment: on\n",
      "                   Refine indexing solutions: off\n",
      " Multi-lattice indexing (\"delete and retry\"): off\n",
      "                              Retry indexing: on\n"
     ]
    },
    {
     "name": "stdout",
     "output_type": "stream",
     "text": [
      "Running for x=-511.6, y=-512.4\n"
     ]
    },
    {
     "name": "stderr",
     "output_type": "stream",
     "text": [
      "63 images processed, 63 hits (100.0%), 35 indexable (55.6% of hits, 55.6% overall), 35 crystals, 12.5 images/sec.\n",
      "Waiting for the last patterns to be processed...\n",
      "Final: 100 images processed, 100 hits (100.0%), 50 indexable (50.0% of hits, 50.0% overall), 50 crystals.\n",
      "Processing XY pairs:  17%|█▋        | 73/441 [09:41<52:12,  8.51s/it]WARNING: You did not specify --int-radius.\n",
      "WARNING: I will use the default values, which are probably not appropriate for your patterns.\n",
      "This is what I understood your unit cell to be:\n",
      "orthorhombic I, right handed.\n",
      "a      b      c            alpha   beta  gamma\n",
      " 80.58  94.49 103.89 A     90.00  90.00  90.00 deg\n",
      "List of indexing methods:\n",
      "   0: xgandalf-nolatt-cell      (xgandalf using cell parameters as prior information)\n",
      "Indexing parameters:\n",
      "                  Check unit cell parameters: on\n",
      "                        Check peak alignment: on\n",
      "                   Refine indexing solutions: off\n",
      " Multi-lattice indexing (\"delete and retry\"): off\n",
      "                              Retry indexing: on\n"
     ]
    },
    {
     "name": "stdout",
     "output_type": "stream",
     "text": [
      "Running for x=-511.6, y=-512.3\n"
     ]
    },
    {
     "name": "stderr",
     "output_type": "stream",
     "text": [
      "61 images processed, 61 hits (100.0%), 28 indexable (45.9% of hits, 45.9% overall), 28 crystals, 11.7 images/sec.\n",
      "Waiting for the last patterns to be processed...\n",
      "Final: 100 images processed, 100 hits (100.0%), 46 indexable (46.0% of hits, 46.0% overall), 46 crystals.\n",
      "Processing XY pairs:  17%|█▋        | 74/441 [09:50<52:17,  8.55s/it]WARNING: You did not specify --int-radius.\n",
      "WARNING: I will use the default values, which are probably not appropriate for your patterns.\n",
      "This is what I understood your unit cell to be:\n",
      "orthorhombic I, right handed.\n",
      "a      b      c            alpha   beta  gamma\n",
      " 80.58  94.49 103.89 A     90.00  90.00  90.00 deg\n",
      "List of indexing methods:\n",
      "   0: xgandalf-nolatt-cell      (xgandalf using cell parameters as prior information)\n",
      "Indexing parameters:\n",
      "                  Check unit cell parameters: on\n",
      "                        Check peak alignment: on\n",
      "                   Refine indexing solutions: off\n",
      " Multi-lattice indexing (\"delete and retry\"): off\n",
      "                              Retry indexing: on\n"
     ]
    },
    {
     "name": "stdout",
     "output_type": "stream",
     "text": [
      "Running for x=-511.6, y=-512.2\n"
     ]
    },
    {
     "name": "stderr",
     "output_type": "stream",
     "text": [
      "64 images processed, 64 hits (100.0%), 37 indexable (57.8% of hits, 57.8% overall), 37 crystals, 12.7 images/sec.\n",
      "Waiting for the last patterns to be processed...\n",
      "Final: 100 images processed, 100 hits (100.0%), 50 indexable (50.0% of hits, 50.0% overall), 50 crystals.\n",
      "Processing XY pairs:  17%|█▋        | 75/441 [09:59<52:46,  8.65s/it]WARNING: You did not specify --int-radius.\n",
      "WARNING: I will use the default values, which are probably not appropriate for your patterns.\n",
      "This is what I understood your unit cell to be:\n",
      "orthorhombic I, right handed.\n",
      "a      b      c            alpha   beta  gamma\n",
      " 80.58  94.49 103.89 A     90.00  90.00  90.00 deg\n",
      "List of indexing methods:\n",
      "   0: xgandalf-nolatt-cell      (xgandalf using cell parameters as prior information)\n",
      "Indexing parameters:\n",
      "                  Check unit cell parameters: on\n",
      "                        Check peak alignment: on\n",
      "                   Refine indexing solutions: off\n",
      " Multi-lattice indexing (\"delete and retry\"): off\n",
      "                              Retry indexing: on\n"
     ]
    },
    {
     "name": "stdout",
     "output_type": "stream",
     "text": [
      "Running for x=-511.6, y=-512.1\n"
     ]
    },
    {
     "name": "stderr",
     "output_type": "stream",
     "text": [
      "71 images processed, 71 hits (100.0%), 44 indexable (62.0% of hits, 62.0% overall), 44 crystals, 14.1 images/sec.\n",
      "Waiting for the last patterns to be processed...\n",
      "Final: 100 images processed, 100 hits (100.0%), 63 indexable (63.0% of hits, 63.0% overall), 63 crystals.\n",
      "Processing XY pairs:  17%|█▋        | 76/441 [10:06<50:09,  8.24s/it]WARNING: You did not specify --int-radius.\n",
      "WARNING: I will use the default values, which are probably not appropriate for your patterns.\n",
      "This is what I understood your unit cell to be:\n",
      "orthorhombic I, right handed.\n",
      "a      b      c            alpha   beta  gamma\n",
      " 80.58  94.49 103.89 A     90.00  90.00  90.00 deg\n",
      "List of indexing methods:\n",
      "   0: xgandalf-nolatt-cell      (xgandalf using cell parameters as prior information)\n",
      "Indexing parameters:\n",
      "                  Check unit cell parameters: on\n",
      "                        Check peak alignment: on\n",
      "                   Refine indexing solutions: off\n",
      " Multi-lattice indexing (\"delete and retry\"): off\n",
      "                              Retry indexing: on\n"
     ]
    },
    {
     "name": "stdout",
     "output_type": "stream",
     "text": [
      "Running for x=-511.6, y=-512.0\n"
     ]
    },
    {
     "name": "stderr",
     "output_type": "stream",
     "text": [
      "WARNING: Radius determination failed\n",
      "65 images processed, 65 hits (100.0%), 43 indexable (66.2% of hits, 66.2% overall), 43 crystals, 12.9 images/sec.\n",
      "Waiting for the last patterns to be processed...\n",
      "Final: 100 images processed, 100 hits (100.0%), 56 indexable (56.0% of hits, 56.0% overall), 56 crystals.\n",
      "Processing XY pairs:  17%|█▋        | 77/441 [10:15<50:32,  8.33s/it]WARNING: You did not specify --int-radius.\n",
      "WARNING: I will use the default values, which are probably not appropriate for your patterns.\n",
      "This is what I understood your unit cell to be:\n",
      "orthorhombic I, right handed.\n",
      "a      b      c            alpha   beta  gamma\n",
      " 80.58  94.49 103.89 A     90.00  90.00  90.00 deg\n",
      "List of indexing methods:\n",
      "   0: xgandalf-nolatt-cell      (xgandalf using cell parameters as prior information)\n",
      "Indexing parameters:\n",
      "                  Check unit cell parameters: on\n",
      "                        Check peak alignment: on\n",
      "                   Refine indexing solutions: off\n",
      " Multi-lattice indexing (\"delete and retry\"): off\n",
      "                              Retry indexing: on\n"
     ]
    },
    {
     "name": "stdout",
     "output_type": "stream",
     "text": [
      "Running for x=-511.6, y=-511.9\n"
     ]
    },
    {
     "name": "stderr",
     "output_type": "stream",
     "text": [
      "68 images processed, 68 hits (100.0%), 34 indexable (50.0% of hits, 50.0% overall), 34 crystals, 13.4 images/sec.\n",
      "Waiting for the last patterns to be processed...\n",
      "Final: 100 images processed, 100 hits (100.0%), 51 indexable (51.0% of hits, 51.0% overall), 51 crystals.\n",
      "Processing XY pairs:  18%|█▊        | 78/441 [10:22<47:56,  7.92s/it]WARNING: You did not specify --int-radius.\n",
      "WARNING: I will use the default values, which are probably not appropriate for your patterns.\n",
      "This is what I understood your unit cell to be:\n",
      "orthorhombic I, right handed.\n",
      "a      b      c            alpha   beta  gamma\n",
      " 80.58  94.49 103.89 A     90.00  90.00  90.00 deg\n",
      "List of indexing methods:\n",
      "   0: xgandalf-nolatt-cell      (xgandalf using cell parameters as prior information)\n",
      "Indexing parameters:\n",
      "                  Check unit cell parameters: on\n",
      "                        Check peak alignment: on\n",
      "                   Refine indexing solutions: off\n",
      " Multi-lattice indexing (\"delete and retry\"): off\n",
      "                              Retry indexing: on\n"
     ]
    },
    {
     "name": "stdout",
     "output_type": "stream",
     "text": [
      "Running for x=-511.6, y=-511.8\n"
     ]
    },
    {
     "name": "stderr",
     "output_type": "stream",
     "text": [
      "WARNING: Radius determination failed\n",
      "55 images processed, 55 hits (100.0%), 27 indexable (49.1% of hits, 49.1% overall), 27 crystals, 10.9 images/sec.\n",
      "Waiting for the last patterns to be processed...\n",
      "93 images processed, 93 hits (100.0%), 43 indexable (46.2% of hits, 46.2% overall), 43 crystals, 7.4 images/sec.\n",
      "Final: 100 images processed, 100 hits (100.0%), 45 indexable (45.0% of hits, 45.0% overall), 45 crystals.\n",
      "Processing XY pairs:  18%|█▊        | 79/441 [10:36<58:35,  9.71s/it]WARNING: You did not specify --int-radius.\n",
      "WARNING: I will use the default values, which are probably not appropriate for your patterns.\n",
      "This is what I understood your unit cell to be:\n",
      "orthorhombic I, right handed.\n",
      "a      b      c            alpha   beta  gamma\n",
      " 80.58  94.49 103.89 A     90.00  90.00  90.00 deg\n",
      "List of indexing methods:\n",
      "   0: xgandalf-nolatt-cell      (xgandalf using cell parameters as prior information)\n",
      "Indexing parameters:\n",
      "                  Check unit cell parameters: on\n",
      "                        Check peak alignment: on\n",
      "                   Refine indexing solutions: off\n",
      " Multi-lattice indexing (\"delete and retry\"): off\n",
      "                              Retry indexing: on\n"
     ]
    },
    {
     "name": "stdout",
     "output_type": "stream",
     "text": [
      "Running for x=-511.6, y=-511.7\n"
     ]
    },
    {
     "name": "stderr",
     "output_type": "stream",
     "text": [
      "24 images processed, 24 hits (100.0%), 16 indexable (66.7% of hits, 66.7% overall), 16 crystals, 4.8 images/sec.\n",
      "68 images processed, 68 hits (100.0%), 39 indexable (57.4% of hits, 57.4% overall), 39 crystals, 8.7 images/sec.\n",
      "Waiting for the last patterns to be processed...\n",
      "99 images processed, 99 hits (100.0%), 55 indexable (55.6% of hits, 55.6% overall), 55 crystals, 6.1 images/sec.\n",
      "Final: 100 images processed, 100 hits (100.0%), 56 indexable (56.0% of hits, 56.0% overall), 56 crystals.\n",
      "Processing XY pairs:  18%|█▊        | 80/441 [10:53<1:12:10, 12.00s/it]WARNING: You did not specify --int-radius.\n",
      "WARNING: I will use the default values, which are probably not appropriate for your patterns.\n",
      "This is what I understood your unit cell to be:\n",
      "orthorhombic I, right handed.\n",
      "a      b      c            alpha   beta  gamma\n",
      " 80.58  94.49 103.89 A     90.00  90.00  90.00 deg\n",
      "List of indexing methods:\n",
      "   0: xgandalf-nolatt-cell      (xgandalf using cell parameters as prior information)\n",
      "Indexing parameters:\n",
      "                  Check unit cell parameters: on\n",
      "                        Check peak alignment: on\n",
      "                   Refine indexing solutions: off\n",
      " Multi-lattice indexing (\"delete and retry\"): off\n",
      "                              Retry indexing: on\n"
     ]
    },
    {
     "name": "stdout",
     "output_type": "stream",
     "text": [
      "Running for x=-511.6, y=-511.6\n"
     ]
    },
    {
     "name": "stderr",
     "output_type": "stream",
     "text": [
      "21 images processed, 21 hits (100.0%), 14 indexable (66.7% of hits, 66.7% overall), 14 crystals, 4.2 images/sec.\n",
      "63 images processed, 63 hits (100.0%), 34 indexable (54.0% of hits, 54.0% overall), 34 crystals, 8.0 images/sec.\n",
      "Waiting for the last patterns to be processed...\n",
      "Final: 100 images processed, 100 hits (100.0%), 49 indexable (49.0% of hits, 49.0% overall), 49 crystals.\n",
      "Processing XY pairs:  18%|█▊        | 81/441 [11:08<1:17:56, 12.99s/it]WARNING: You did not specify --int-radius.\n",
      "WARNING: I will use the default values, which are probably not appropriate for your patterns.\n",
      "This is what I understood your unit cell to be:\n",
      "orthorhombic I, right handed.\n",
      "a      b      c            alpha   beta  gamma\n",
      " 80.58  94.49 103.89 A     90.00  90.00  90.00 deg\n",
      "List of indexing methods:\n",
      "   0: xgandalf-nolatt-cell      (xgandalf using cell parameters as prior information)\n",
      "Indexing parameters:\n",
      "                  Check unit cell parameters: on\n",
      "                        Check peak alignment: on\n",
      "                   Refine indexing solutions: off\n",
      " Multi-lattice indexing (\"delete and retry\"): off\n",
      "                              Retry indexing: on\n"
     ]
    },
    {
     "name": "stdout",
     "output_type": "stream",
     "text": [
      "Running for x=-512.5, y=-512.5\n"
     ]
    },
    {
     "name": "stderr",
     "output_type": "stream",
     "text": [
      "19 images processed, 19 hits (100.0%), 13 indexable (68.4% of hits, 68.4% overall), 13 crystals, 3.8 images/sec.\n",
      "61 images processed, 61 hits (100.0%), 30 indexable (49.2% of hits, 49.2% overall), 30 crystals, 8.4 images/sec.\n",
      "Waiting for the last patterns to be processed...\n",
      "96 images processed, 96 hits (100.0%), 41 indexable (42.7% of hits, 42.7% overall), 41 crystals, 6.5 images/sec.\n",
      "Final: 100 images processed, 100 hits (100.0%), 41 indexable (41.0% of hits, 41.0% overall), 41 crystals.\n",
      "Processing XY pairs:  19%|█▊        | 82/441 [11:27<1:27:36, 14.64s/it]WARNING: You did not specify --int-radius.\n",
      "WARNING: I will use the default values, which are probably not appropriate for your patterns.\n",
      "This is what I understood your unit cell to be:\n",
      "orthorhombic I, right handed.\n",
      "a      b      c            alpha   beta  gamma\n",
      " 80.58  94.49 103.89 A     90.00  90.00  90.00 deg\n",
      "List of indexing methods:\n",
      "   0: xgandalf-nolatt-cell      (xgandalf using cell parameters as prior information)\n",
      "Indexing parameters:\n",
      "                  Check unit cell parameters: on\n",
      "                        Check peak alignment: on\n",
      "                   Refine indexing solutions: off\n",
      " Multi-lattice indexing (\"delete and retry\"): off\n",
      "                              Retry indexing: on\n"
     ]
    },
    {
     "name": "stdout",
     "output_type": "stream",
     "text": [
      "Running for x=-512.5, y=-512.4\n"
     ]
    },
    {
     "name": "stderr",
     "output_type": "stream",
     "text": [
      "WARNING: Radius determination failed\n",
      "33 images processed, 33 hits (100.0%), 17 indexable (51.5% of hits, 51.5% overall), 17 crystals, 6.3 images/sec.\n",
      "Waiting for the last patterns to be processed...\n",
      "97 images processed, 97 hits (100.0%), 47 indexable (48.5% of hits, 48.5% overall), 47 crystals, 12.6 images/sec.\n",
      "Final: 100 images processed, 100 hits (100.0%), 48 indexable (48.0% of hits, 48.0% overall), 48 crystals.\n",
      "Processing XY pairs:  19%|█▉        | 83/441 [11:39<1:22:43, 13.87s/it]WARNING: You did not specify --int-radius.\n",
      "WARNING: I will use the default values, which are probably not appropriate for your patterns.\n",
      "This is what I understood your unit cell to be:\n",
      "orthorhombic I, right handed.\n",
      "a      b      c            alpha   beta  gamma\n",
      " 80.58  94.49 103.89 A     90.00  90.00  90.00 deg\n",
      "List of indexing methods:\n",
      "   0: xgandalf-nolatt-cell      (xgandalf using cell parameters as prior information)\n",
      "Indexing parameters:\n",
      "                  Check unit cell parameters: on\n",
      "                        Check peak alignment: on\n",
      "                   Refine indexing solutions: off\n",
      " Multi-lattice indexing (\"delete and retry\"): off\n",
      "                              Retry indexing: on\n"
     ]
    },
    {
     "name": "stdout",
     "output_type": "stream",
     "text": [
      "Running for x=-512.5, y=-512.3\n"
     ]
    },
    {
     "name": "stderr",
     "output_type": "stream",
     "text": [
      "59 images processed, 59 hits (100.0%), 26 indexable (44.1% of hits, 44.1% overall), 26 crystals, 11.5 images/sec.\n",
      "Waiting for the last patterns to be processed...\n",
      "Final: 100 images processed, 100 hits (100.0%), 49 indexable (49.0% of hits, 49.0% overall), 49 crystals.\n",
      "Processing XY pairs:  19%|█▉        | 84/441 [11:48<1:13:45, 12.40s/it]WARNING: You did not specify --int-radius.\n",
      "WARNING: I will use the default values, which are probably not appropriate for your patterns.\n",
      "This is what I understood your unit cell to be:\n",
      "orthorhombic I, right handed.\n",
      "a      b      c            alpha   beta  gamma\n",
      " 80.58  94.49 103.89 A     90.00  90.00  90.00 deg\n",
      "List of indexing methods:\n",
      "   0: xgandalf-nolatt-cell      (xgandalf using cell parameters as prior information)\n",
      "Indexing parameters:\n",
      "                  Check unit cell parameters: on\n",
      "                        Check peak alignment: on\n",
      "                   Refine indexing solutions: off\n",
      " Multi-lattice indexing (\"delete and retry\"): off\n",
      "                              Retry indexing: on\n"
     ]
    },
    {
     "name": "stdout",
     "output_type": "stream",
     "text": [
      "Running for x=-512.5, y=-512.2\n"
     ]
    },
    {
     "name": "stderr",
     "output_type": "stream",
     "text": [
      "67 images processed, 67 hits (100.0%), 38 indexable (56.7% of hits, 56.7% overall), 38 crystals, 13.3 images/sec.\n",
      "Waiting for the last patterns to be processed...\n",
      "Final: 100 images processed, 100 hits (100.0%), 53 indexable (53.0% of hits, 53.0% overall), 53 crystals.\n",
      "Processing XY pairs:  19%|█▉        | 85/441 [11:56<1:06:26, 11.20s/it]WARNING: You did not specify --int-radius.\n",
      "WARNING: I will use the default values, which are probably not appropriate for your patterns.\n",
      "This is what I understood your unit cell to be:\n",
      "orthorhombic I, right handed.\n",
      "a      b      c            alpha   beta  gamma\n",
      " 80.58  94.49 103.89 A     90.00  90.00  90.00 deg\n",
      "List of indexing methods:\n",
      "   0: xgandalf-nolatt-cell      (xgandalf using cell parameters as prior information)\n",
      "Indexing parameters:\n",
      "                  Check unit cell parameters: on\n",
      "                        Check peak alignment: on\n",
      "                   Refine indexing solutions: off\n",
      " Multi-lattice indexing (\"delete and retry\"): off\n",
      "                              Retry indexing: on\n"
     ]
    },
    {
     "name": "stdout",
     "output_type": "stream",
     "text": [
      "Running for x=-512.5, y=-512.1\n"
     ]
    },
    {
     "name": "stderr",
     "output_type": "stream",
     "text": [
      "69 images processed, 69 hits (100.0%), 36 indexable (52.2% of hits, 52.2% overall), 36 crystals, 13.3 images/sec.\n",
      "Waiting for the last patterns to be processed...\n",
      "Final: 100 images processed, 100 hits (100.0%), 56 indexable (56.0% of hits, 56.0% overall), 56 crystals.\n",
      "Processing XY pairs:  20%|█▉        | 86/441 [12:05<1:01:37, 10.42s/it]WARNING: You did not specify --int-radius.\n",
      "WARNING: I will use the default values, which are probably not appropriate for your patterns.\n",
      "This is what I understood your unit cell to be:\n",
      "orthorhombic I, right handed.\n",
      "a      b      c            alpha   beta  gamma\n",
      " 80.58  94.49 103.89 A     90.00  90.00  90.00 deg\n",
      "List of indexing methods:\n",
      "   0: xgandalf-nolatt-cell      (xgandalf using cell parameters as prior information)\n",
      "Indexing parameters:\n",
      "                  Check unit cell parameters: on\n",
      "                        Check peak alignment: on\n",
      "                   Refine indexing solutions: off\n",
      " Multi-lattice indexing (\"delete and retry\"): off\n",
      "                              Retry indexing: on\n"
     ]
    },
    {
     "name": "stdout",
     "output_type": "stream",
     "text": [
      "Running for x=-512.5, y=-512.0\n"
     ]
    },
    {
     "name": "stderr",
     "output_type": "stream",
     "text": [
      "70 images processed, 70 hits (100.0%), 41 indexable (58.6% of hits, 58.6% overall), 41 crystals, 14.0 images/sec.\n",
      "Waiting for the last patterns to be processed...\n",
      "Final: 100 images processed, 100 hits (100.0%), 61 indexable (61.0% of hits, 61.0% overall), 61 crystals.\n",
      "Processing XY pairs:  20%|█▉        | 87/441 [12:12<55:42,  9.44s/it]  WARNING: You did not specify --int-radius.\n",
      "WARNING: I will use the default values, which are probably not appropriate for your patterns.\n",
      "This is what I understood your unit cell to be:\n",
      "orthorhombic I, right handed.\n",
      "a      b      c            alpha   beta  gamma\n",
      " 80.58  94.49 103.89 A     90.00  90.00  90.00 deg\n",
      "List of indexing methods:\n",
      "   0: xgandalf-nolatt-cell      (xgandalf using cell parameters as prior information)\n",
      "Indexing parameters:\n",
      "                  Check unit cell parameters: on\n",
      "                        Check peak alignment: on\n",
      "                   Refine indexing solutions: off\n",
      " Multi-lattice indexing (\"delete and retry\"): off\n",
      "                              Retry indexing: on\n"
     ]
    },
    {
     "name": "stdout",
     "output_type": "stream",
     "text": [
      "Running for x=-512.5, y=-511.9\n"
     ]
    },
    {
     "name": "stderr",
     "output_type": "stream",
     "text": [
      "63 images processed, 63 hits (100.0%), 37 indexable (58.7% of hits, 58.7% overall), 37 crystals, 12.4 images/sec.\n",
      "Waiting for the last patterns to be processed...\n",
      "Final: 100 images processed, 100 hits (100.0%), 62 indexable (62.0% of hits, 62.0% overall), 62 crystals.\n",
      "Processing XY pairs:  20%|█▉        | 88/441 [12:20<54:00,  9.18s/it]WARNING: You did not specify --int-radius.\n",
      "WARNING: I will use the default values, which are probably not appropriate for your patterns.\n",
      "This is what I understood your unit cell to be:\n",
      "orthorhombic I, right handed.\n",
      "a      b      c            alpha   beta  gamma\n",
      " 80.58  94.49 103.89 A     90.00  90.00  90.00 deg\n",
      "List of indexing methods:\n",
      "   0: xgandalf-nolatt-cell      (xgandalf using cell parameters as prior information)\n",
      "Indexing parameters:\n",
      "                  Check unit cell parameters: on\n",
      "                        Check peak alignment: on\n",
      "                   Refine indexing solutions: off\n",
      " Multi-lattice indexing (\"delete and retry\"): off\n",
      "                              Retry indexing: on\n"
     ]
    },
    {
     "name": "stdout",
     "output_type": "stream",
     "text": [
      "Running for x=-512.5, y=-511.8\n"
     ]
    },
    {
     "name": "stderr",
     "output_type": "stream",
     "text": [
      "68 images processed, 68 hits (100.0%), 38 indexable (55.9% of hits, 55.9% overall), 38 crystals, 13.2 images/sec.\n",
      "Waiting for the last patterns to be processed...\n",
      "Final: 100 images processed, 100 hits (100.0%), 57 indexable (57.0% of hits, 57.0% overall), 57 crystals.\n",
      "Processing XY pairs:  20%|██        | 89/441 [12:28<50:24,  8.59s/it]WARNING: You did not specify --int-radius.\n",
      "WARNING: I will use the default values, which are probably not appropriate for your patterns.\n",
      "This is what I understood your unit cell to be:\n",
      "orthorhombic I, right handed.\n",
      "a      b      c            alpha   beta  gamma\n",
      " 80.58  94.49 103.89 A     90.00  90.00  90.00 deg\n",
      "List of indexing methods:\n",
      "   0: xgandalf-nolatt-cell      (xgandalf using cell parameters as prior information)\n",
      "Indexing parameters:\n",
      "                  Check unit cell parameters: on\n",
      "                        Check peak alignment: on\n",
      "                   Refine indexing solutions: off\n",
      " Multi-lattice indexing (\"delete and retry\"): off\n",
      "                              Retry indexing: on\n"
     ]
    },
    {
     "name": "stdout",
     "output_type": "stream",
     "text": [
      "Running for x=-512.5, y=-511.7\n"
     ]
    },
    {
     "name": "stderr",
     "output_type": "stream",
     "text": [
      "WARNING: Radius determination failed\n",
      "62 images processed, 62 hits (100.0%), 35 indexable (56.5% of hits, 56.5% overall), 35 crystals, 12.3 images/sec.\n",
      "Waiting for the last patterns to be processed...\n",
      "Final: 100 images processed, 100 hits (100.0%), 53 indexable (53.0% of hits, 53.0% overall), 53 crystals.\n",
      "Processing XY pairs:  20%|██        | 90/441 [12:37<50:43,  8.67s/it]WARNING: You did not specify --int-radius.\n",
      "WARNING: I will use the default values, which are probably not appropriate for your patterns.\n",
      "This is what I understood your unit cell to be:\n",
      "orthorhombic I, right handed.\n",
      "a      b      c            alpha   beta  gamma\n",
      " 80.58  94.49 103.89 A     90.00  90.00  90.00 deg\n",
      "List of indexing methods:\n",
      "   0: xgandalf-nolatt-cell      (xgandalf using cell parameters as prior information)\n",
      "Indexing parameters:\n",
      "                  Check unit cell parameters: on\n",
      "                        Check peak alignment: on\n",
      "                   Refine indexing solutions: off\n",
      " Multi-lattice indexing (\"delete and retry\"): off\n",
      "                              Retry indexing: on\n"
     ]
    },
    {
     "name": "stdout",
     "output_type": "stream",
     "text": [
      "Running for x=-512.5, y=-511.6\n"
     ]
    },
    {
     "name": "stderr",
     "output_type": "stream",
     "text": [
      "60 images processed, 60 hits (100.0%), 27 indexable (45.0% of hits, 45.0% overall), 27 crystals, 12.0 images/sec.\n",
      "Waiting for the last patterns to be processed...\n",
      "Final: 100 images processed, 100 hits (100.0%), 50 indexable (50.0% of hits, 50.0% overall), 50 crystals.\n",
      "Processing XY pairs:  21%|██        | 91/441 [12:44<49:17,  8.45s/it]WARNING: You did not specify --int-radius.\n",
      "WARNING: I will use the default values, which are probably not appropriate for your patterns.\n",
      "This is what I understood your unit cell to be:\n",
      "orthorhombic I, right handed.\n",
      "a      b      c            alpha   beta  gamma\n",
      " 80.58  94.49 103.89 A     90.00  90.00  90.00 deg\n",
      "List of indexing methods:\n",
      "   0: xgandalf-nolatt-cell      (xgandalf using cell parameters as prior information)\n",
      "Indexing parameters:\n",
      "                  Check unit cell parameters: on\n",
      "                        Check peak alignment: on\n",
      "                   Refine indexing solutions: off\n",
      " Multi-lattice indexing (\"delete and retry\"): off\n",
      "                              Retry indexing: on\n"
     ]
    },
    {
     "name": "stdout",
     "output_type": "stream",
     "text": [
      "Running for x=-512.5, y=-511.5\n"
     ]
    },
    {
     "name": "stderr",
     "output_type": "stream",
     "text": [
      "WARNING: Radius determination failed\n",
      "58 images processed, 58 hits (100.0%), 22 indexable (37.9% of hits, 37.9% overall), 22 crystals, 11.4 images/sec.\n",
      "Waiting for the last patterns to be processed...\n",
      "Final: 100 images processed, 100 hits (100.0%), 45 indexable (45.0% of hits, 45.0% overall), 45 crystals.\n",
      "Processing XY pairs:  21%|██        | 92/441 [12:54<50:26,  8.67s/it]WARNING: You did not specify --int-radius.\n",
      "WARNING: I will use the default values, which are probably not appropriate for your patterns.\n",
      "This is what I understood your unit cell to be:\n",
      "orthorhombic I, right handed.\n",
      "a      b      c            alpha   beta  gamma\n",
      " 80.58  94.49 103.89 A     90.00  90.00  90.00 deg\n",
      "List of indexing methods:\n",
      "   0: xgandalf-nolatt-cell      (xgandalf using cell parameters as prior information)\n",
      "Indexing parameters:\n",
      "                  Check unit cell parameters: on\n",
      "                        Check peak alignment: on\n",
      "                   Refine indexing solutions: off\n",
      " Multi-lattice indexing (\"delete and retry\"): off\n",
      "                              Retry indexing: on\n"
     ]
    },
    {
     "name": "stdout",
     "output_type": "stream",
     "text": [
      "Running for x=-512.4, y=-512.5\n"
     ]
    },
    {
     "name": "stderr",
     "output_type": "stream",
     "text": [
      "62 images processed, 62 hits (100.0%), 30 indexable (48.4% of hits, 48.4% overall), 30 crystals, 12.2 images/sec.\n",
      "Waiting for the last patterns to be processed...\n",
      "Final: 100 images processed, 100 hits (100.0%), 50 indexable (50.0% of hits, 50.0% overall), 50 crystals.\n",
      "Processing XY pairs:  21%|██        | 93/441 [13:02<50:23,  8.69s/it]WARNING: You did not specify --int-radius.\n",
      "WARNING: I will use the default values, which are probably not appropriate for your patterns.\n",
      "This is what I understood your unit cell to be:\n",
      "orthorhombic I, right handed.\n",
      "a      b      c            alpha   beta  gamma\n",
      " 80.58  94.49 103.89 A     90.00  90.00  90.00 deg\n",
      "List of indexing methods:\n",
      "   0: xgandalf-nolatt-cell      (xgandalf using cell parameters as prior information)\n",
      "Indexing parameters:\n",
      "                  Check unit cell parameters: on\n",
      "                        Check peak alignment: on\n",
      "                   Refine indexing solutions: off\n",
      " Multi-lattice indexing (\"delete and retry\"): off\n",
      "                              Retry indexing: on\n"
     ]
    },
    {
     "name": "stdout",
     "output_type": "stream",
     "text": [
      "Running for x=-512.4, y=-511.5\n"
     ]
    },
    {
     "name": "stderr",
     "output_type": "stream",
     "text": [
      "64 images processed, 64 hits (100.0%), 31 indexable (48.4% of hits, 48.4% overall), 31 crystals, 12.8 images/sec.\n",
      "Waiting for the last patterns to be processed...\n",
      "Final: 100 images processed, 100 hits (100.0%), 45 indexable (45.0% of hits, 45.0% overall), 45 crystals.\n",
      "Processing XY pairs:  21%|██▏       | 94/441 [13:11<50:40,  8.76s/it]WARNING: You did not specify --int-radius.\n",
      "WARNING: I will use the default values, which are probably not appropriate for your patterns.\n",
      "This is what I understood your unit cell to be:\n",
      "orthorhombic I, right handed.\n",
      "a      b      c            alpha   beta  gamma\n",
      " 80.58  94.49 103.89 A     90.00  90.00  90.00 deg\n",
      "List of indexing methods:\n",
      "   0: xgandalf-nolatt-cell      (xgandalf using cell parameters as prior information)\n",
      "Indexing parameters:\n",
      "                  Check unit cell parameters: on\n",
      "                        Check peak alignment: on\n",
      "                   Refine indexing solutions: off\n",
      " Multi-lattice indexing (\"delete and retry\"): off\n",
      "                              Retry indexing: on\n"
     ]
    },
    {
     "name": "stdout",
     "output_type": "stream",
     "text": [
      "Running for x=-512.3, y=-512.5\n"
     ]
    },
    {
     "name": "stderr",
     "output_type": "stream",
     "text": [
      "66 images processed, 66 hits (100.0%), 36 indexable (54.5% of hits, 54.5% overall), 36 crystals, 13.0 images/sec.\n",
      "Waiting for the last patterns to be processed...\n",
      "Final: 100 images processed, 100 hits (100.0%), 52 indexable (52.0% of hits, 52.0% overall), 52 crystals.\n",
      "Processing XY pairs:  22%|██▏       | 95/441 [13:20<50:23,  8.74s/it]WARNING: You did not specify --int-radius.\n",
      "WARNING: I will use the default values, which are probably not appropriate for your patterns.\n",
      "This is what I understood your unit cell to be:\n",
      "orthorhombic I, right handed.\n",
      "a      b      c            alpha   beta  gamma\n",
      " 80.58  94.49 103.89 A     90.00  90.00  90.00 deg\n",
      "List of indexing methods:\n",
      "   0: xgandalf-nolatt-cell      (xgandalf using cell parameters as prior information)\n",
      "Indexing parameters:\n",
      "                  Check unit cell parameters: on\n",
      "                        Check peak alignment: on\n",
      "                   Refine indexing solutions: off\n",
      " Multi-lattice indexing (\"delete and retry\"): off\n",
      "                              Retry indexing: on\n"
     ]
    },
    {
     "name": "stdout",
     "output_type": "stream",
     "text": [
      "Running for x=-512.3, y=-511.5\n"
     ]
    },
    {
     "name": "stderr",
     "output_type": "stream",
     "text": [
      "63 images processed, 63 hits (100.0%), 28 indexable (44.4% of hits, 44.4% overall), 28 crystals, 12.5 images/sec.\n",
      "Waiting for the last patterns to be processed...\n",
      "Final: 100 images processed, 100 hits (100.0%), 50 indexable (50.0% of hits, 50.0% overall), 50 crystals.\n",
      "Processing XY pairs:  22%|██▏       | 96/441 [13:28<49:21,  8.58s/it]WARNING: You did not specify --int-radius.\n",
      "WARNING: I will use the default values, which are probably not appropriate for your patterns.\n",
      "This is what I understood your unit cell to be:\n",
      "orthorhombic I, right handed.\n",
      "a      b      c            alpha   beta  gamma\n",
      " 80.58  94.49 103.89 A     90.00  90.00  90.00 deg\n",
      "List of indexing methods:\n",
      "   0: xgandalf-nolatt-cell      (xgandalf using cell parameters as prior information)\n",
      "Indexing parameters:\n",
      "                  Check unit cell parameters: on\n",
      "                        Check peak alignment: on\n",
      "                   Refine indexing solutions: off\n",
      " Multi-lattice indexing (\"delete and retry\"): off\n",
      "                              Retry indexing: on\n"
     ]
    },
    {
     "name": "stdout",
     "output_type": "stream",
     "text": [
      "Running for x=-512.2, y=-512.5\n"
     ]
    },
    {
     "name": "stderr",
     "output_type": "stream",
     "text": [
      "62 images processed, 62 hits (100.0%), 34 indexable (54.8% of hits, 54.8% overall), 34 crystals, 12.1 images/sec.\n",
      "Waiting for the last patterns to be processed...\n",
      "Final: 100 images processed, 100 hits (100.0%), 52 indexable (52.0% of hits, 52.0% overall), 52 crystals.\n",
      "Processing XY pairs:  22%|██▏       | 97/441 [13:37<49:34,  8.65s/it]WARNING: You did not specify --int-radius.\n",
      "WARNING: I will use the default values, which are probably not appropriate for your patterns.\n",
      "This is what I understood your unit cell to be:\n",
      "orthorhombic I, right handed.\n",
      "a      b      c            alpha   beta  gamma\n",
      " 80.58  94.49 103.89 A     90.00  90.00  90.00 deg\n",
      "List of indexing methods:\n",
      "   0: xgandalf-nolatt-cell      (xgandalf using cell parameters as prior information)\n",
      "Indexing parameters:\n",
      "                  Check unit cell parameters: on\n",
      "                        Check peak alignment: on\n",
      "                   Refine indexing solutions: off\n",
      " Multi-lattice indexing (\"delete and retry\"): off\n",
      "                              Retry indexing: on\n"
     ]
    },
    {
     "name": "stdout",
     "output_type": "stream",
     "text": [
      "Running for x=-512.2, y=-511.5\n"
     ]
    },
    {
     "name": "stderr",
     "output_type": "stream",
     "text": [
      "63 images processed, 63 hits (100.0%), 39 indexable (61.9% of hits, 61.9% overall), 39 crystals, 12.6 images/sec.\n",
      "Waiting for the last patterns to be processed...\n",
      "Final: 100 images processed, 100 hits (100.0%), 61 indexable (61.0% of hits, 61.0% overall), 61 crystals.\n",
      "Processing XY pairs:  22%|██▏       | 98/441 [13:46<49:34,  8.67s/it]WARNING: You did not specify --int-radius.\n",
      "WARNING: I will use the default values, which are probably not appropriate for your patterns.\n",
      "This is what I understood your unit cell to be:\n",
      "orthorhombic I, right handed.\n",
      "a      b      c            alpha   beta  gamma\n",
      " 80.58  94.49 103.89 A     90.00  90.00  90.00 deg\n",
      "List of indexing methods:\n",
      "   0: xgandalf-nolatt-cell      (xgandalf using cell parameters as prior information)\n",
      "Indexing parameters:\n",
      "                  Check unit cell parameters: on\n",
      "                        Check peak alignment: on\n",
      "                   Refine indexing solutions: off\n",
      " Multi-lattice indexing (\"delete and retry\"): off\n",
      "                              Retry indexing: on\n"
     ]
    },
    {
     "name": "stdout",
     "output_type": "stream",
     "text": [
      "Running for x=-512.1, y=-512.5\n"
     ]
    },
    {
     "name": "stderr",
     "output_type": "stream",
     "text": [
      "61 images processed, 61 hits (100.0%), 34 indexable (55.7% of hits, 55.7% overall), 34 crystals, 12.1 images/sec.\n",
      "Waiting for the last patterns to be processed...\n",
      "Final: 100 images processed, 100 hits (100.0%), 52 indexable (52.0% of hits, 52.0% overall), 52 crystals.\n",
      "Processing XY pairs:  22%|██▏       | 99/441 [13:54<48:10,  8.45s/it]WARNING: You did not specify --int-radius.\n",
      "WARNING: I will use the default values, which are probably not appropriate for your patterns.\n",
      "This is what I understood your unit cell to be:\n",
      "orthorhombic I, right handed.\n",
      "a      b      c            alpha   beta  gamma\n",
      " 80.58  94.49 103.89 A     90.00  90.00  90.00 deg\n",
      "List of indexing methods:\n",
      "   0: xgandalf-nolatt-cell      (xgandalf using cell parameters as prior information)\n",
      "Indexing parameters:\n",
      "                  Check unit cell parameters: on\n",
      "                        Check peak alignment: on\n",
      "                   Refine indexing solutions: off\n",
      " Multi-lattice indexing (\"delete and retry\"): off\n",
      "                              Retry indexing: on\n"
     ]
    },
    {
     "name": "stdout",
     "output_type": "stream",
     "text": [
      "Running for x=-512.1, y=-511.5\n"
     ]
    },
    {
     "name": "stderr",
     "output_type": "stream",
     "text": [
      "WARNING: Radius determination failed\n",
      "54 images processed, 54 hits (100.0%), 32 indexable (59.3% of hits, 59.3% overall), 32 crystals, 10.4 images/sec.\n",
      "Waiting for the last patterns to be processed...\n",
      "99 images processed, 99 hits (100.0%), 56 indexable (56.6% of hits, 56.6% overall), 56 crystals, 8.4 images/sec.\n",
      "Final: 100 images processed, 100 hits (100.0%), 56 indexable (56.0% of hits, 56.0% overall), 56 crystals.\n",
      "Processing XY pairs:  23%|██▎       | 100/441 [14:05<52:25,  9.23s/it]WARNING: You did not specify --int-radius.\n",
      "WARNING: I will use the default values, which are probably not appropriate for your patterns.\n",
      "This is what I understood your unit cell to be:\n",
      "orthorhombic I, right handed.\n",
      "a      b      c            alpha   beta  gamma\n",
      " 80.58  94.49 103.89 A     90.00  90.00  90.00 deg\n",
      "List of indexing methods:\n",
      "   0: xgandalf-nolatt-cell      (xgandalf using cell parameters as prior information)\n",
      "Indexing parameters:\n",
      "                  Check unit cell parameters: on\n",
      "                        Check peak alignment: on\n",
      "                   Refine indexing solutions: off\n",
      " Multi-lattice indexing (\"delete and retry\"): off\n",
      "                              Retry indexing: on\n"
     ]
    },
    {
     "name": "stdout",
     "output_type": "stream",
     "text": [
      "Running for x=-512.0, y=-512.5\n"
     ]
    },
    {
     "name": "stderr",
     "output_type": "stream",
     "text": [
      "WARNING: Radius determination failed\n",
      "64 images processed, 64 hits (100.0%), 33 indexable (51.6% of hits, 51.6% overall), 33 crystals, 12.4 images/sec.\n",
      "Waiting for the last patterns to be processed...\n",
      "Final: 100 images processed, 100 hits (100.0%), 50 indexable (50.0% of hits, 50.0% overall), 50 crystals.\n",
      "Processing XY pairs:  23%|██▎       | 101/441 [14:13<50:41,  8.94s/it]WARNING: You did not specify --int-radius.\n",
      "WARNING: I will use the default values, which are probably not appropriate for your patterns.\n",
      "This is what I understood your unit cell to be:\n",
      "orthorhombic I, right handed.\n",
      "a      b      c            alpha   beta  gamma\n",
      " 80.58  94.49 103.89 A     90.00  90.00  90.00 deg\n",
      "List of indexing methods:\n",
      "   0: xgandalf-nolatt-cell      (xgandalf using cell parameters as prior information)\n",
      "Indexing parameters:\n",
      "                  Check unit cell parameters: on\n",
      "                        Check peak alignment: on\n",
      "                   Refine indexing solutions: off\n",
      " Multi-lattice indexing (\"delete and retry\"): off\n",
      "                              Retry indexing: on\n"
     ]
    },
    {
     "name": "stdout",
     "output_type": "stream",
     "text": [
      "Running for x=-512.0, y=-511.5\n"
     ]
    },
    {
     "name": "stderr",
     "output_type": "stream",
     "text": [
      "WARNING: Radius determination failed\n",
      "59 images processed, 59 hits (100.0%), 32 indexable (54.2% of hits, 54.2% overall), 32 crystals, 11.5 images/sec.\n",
      "Waiting for the last patterns to be processed...\n",
      "Final: 100 images processed, 100 hits (100.0%), 53 indexable (53.0% of hits, 53.0% overall), 53 crystals.\n",
      "Processing XY pairs:  23%|██▎       | 102/441 [14:21<48:49,  8.64s/it]WARNING: You did not specify --int-radius.\n",
      "WARNING: I will use the default values, which are probably not appropriate for your patterns.\n",
      "This is what I understood your unit cell to be:\n",
      "orthorhombic I, right handed.\n",
      "a      b      c            alpha   beta  gamma\n",
      " 80.58  94.49 103.89 A     90.00  90.00  90.00 deg\n",
      "List of indexing methods:\n",
      "   0: xgandalf-nolatt-cell      (xgandalf using cell parameters as prior information)\n",
      "Indexing parameters:\n",
      "                  Check unit cell parameters: on\n",
      "                        Check peak alignment: on\n",
      "                   Refine indexing solutions: off\n",
      " Multi-lattice indexing (\"delete and retry\"): off\n",
      "                              Retry indexing: on\n"
     ]
    },
    {
     "name": "stdout",
     "output_type": "stream",
     "text": [
      "Running for x=-511.9, y=-512.5\n"
     ]
    },
    {
     "name": "stderr",
     "output_type": "stream",
     "text": [
      "61 images processed, 61 hits (100.0%), 34 indexable (55.7% of hits, 55.7% overall), 34 crystals, 12.2 images/sec.\n",
      "Waiting for the last patterns to be processed...\n",
      "Final: 100 images processed, 100 hits (100.0%), 53 indexable (53.0% of hits, 53.0% overall), 53 crystals.\n",
      "Processing XY pairs:  23%|██▎       | 103/441 [14:30<48:49,  8.67s/it]WARNING: You did not specify --int-radius.\n",
      "WARNING: I will use the default values, which are probably not appropriate for your patterns.\n",
      "This is what I understood your unit cell to be:\n",
      "orthorhombic I, right handed.\n",
      "a      b      c            alpha   beta  gamma\n",
      " 80.58  94.49 103.89 A     90.00  90.00  90.00 deg\n",
      "List of indexing methods:\n",
      "   0: xgandalf-nolatt-cell      (xgandalf using cell parameters as prior information)\n",
      "Indexing parameters:\n",
      "                  Check unit cell parameters: on\n",
      "                        Check peak alignment: on\n",
      "                   Refine indexing solutions: off\n",
      " Multi-lattice indexing (\"delete and retry\"): off\n",
      "                              Retry indexing: on\n"
     ]
    },
    {
     "name": "stdout",
     "output_type": "stream",
     "text": [
      "Running for x=-511.9, y=-511.5\n"
     ]
    },
    {
     "name": "stderr",
     "output_type": "stream",
     "text": [
      "67 images processed, 67 hits (100.0%), 37 indexable (55.2% of hits, 55.2% overall), 37 crystals, 13.2 images/sec.\n",
      "Waiting for the last patterns to be processed...\n",
      "Final: 100 images processed, 100 hits (100.0%), 58 indexable (58.0% of hits, 58.0% overall), 58 crystals.\n",
      "Processing XY pairs:  24%|██▎       | 104/441 [14:38<48:34,  8.65s/it]WARNING: You did not specify --int-radius.\n",
      "WARNING: I will use the default values, which are probably not appropriate for your patterns.\n",
      "This is what I understood your unit cell to be:\n",
      "orthorhombic I, right handed.\n",
      "a      b      c            alpha   beta  gamma\n",
      " 80.58  94.49 103.89 A     90.00  90.00  90.00 deg\n",
      "List of indexing methods:\n",
      "   0: xgandalf-nolatt-cell      (xgandalf using cell parameters as prior information)\n",
      "Indexing parameters:\n",
      "                  Check unit cell parameters: on\n",
      "                        Check peak alignment: on\n",
      "                   Refine indexing solutions: off\n",
      " Multi-lattice indexing (\"delete and retry\"): off\n",
      "                              Retry indexing: on\n"
     ]
    },
    {
     "name": "stdout",
     "output_type": "stream",
     "text": [
      "Running for x=-511.8, y=-512.5\n"
     ]
    },
    {
     "name": "stderr",
     "output_type": "stream",
     "text": [
      "62 images processed, 62 hits (100.0%), 34 indexable (54.8% of hits, 54.8% overall), 34 crystals, 12.3 images/sec.\n",
      "Waiting for the last patterns to be processed...\n",
      "Final: 100 images processed, 100 hits (100.0%), 53 indexable (53.0% of hits, 53.0% overall), 53 crystals.\n",
      "Processing XY pairs:  24%|██▍       | 105/441 [14:47<48:37,  8.68s/it]WARNING: You did not specify --int-radius.\n",
      "WARNING: I will use the default values, which are probably not appropriate for your patterns.\n",
      "This is what I understood your unit cell to be:\n",
      "orthorhombic I, right handed.\n",
      "a      b      c            alpha   beta  gamma\n",
      " 80.58  94.49 103.89 A     90.00  90.00  90.00 deg\n",
      "List of indexing methods:\n",
      "   0: xgandalf-nolatt-cell      (xgandalf using cell parameters as prior information)\n",
      "Indexing parameters:\n",
      "                  Check unit cell parameters: on\n",
      "                        Check peak alignment: on\n",
      "                   Refine indexing solutions: off\n",
      " Multi-lattice indexing (\"delete and retry\"): off\n",
      "                              Retry indexing: on\n"
     ]
    },
    {
     "name": "stdout",
     "output_type": "stream",
     "text": [
      "Running for x=-511.8, y=-511.5\n"
     ]
    },
    {
     "name": "stderr",
     "output_type": "stream",
     "text": [
      "69 images processed, 69 hits (100.0%), 38 indexable (55.1% of hits, 55.1% overall), 38 crystals, 13.8 images/sec.\n",
      "Waiting for the last patterns to be processed...\n",
      "Final: 100 images processed, 100 hits (100.0%), 53 indexable (53.0% of hits, 53.0% overall), 53 crystals.\n",
      "Processing XY pairs:  24%|██▍       | 106/441 [14:56<48:07,  8.62s/it]WARNING: You did not specify --int-radius.\n",
      "WARNING: I will use the default values, which are probably not appropriate for your patterns.\n",
      "This is what I understood your unit cell to be:\n",
      "orthorhombic I, right handed.\n",
      "a      b      c            alpha   beta  gamma\n",
      " 80.58  94.49 103.89 A     90.00  90.00  90.00 deg\n",
      "List of indexing methods:\n",
      "   0: xgandalf-nolatt-cell      (xgandalf using cell parameters as prior information)\n",
      "Indexing parameters:\n",
      "                  Check unit cell parameters: on\n",
      "                        Check peak alignment: on\n",
      "                   Refine indexing solutions: off\n",
      " Multi-lattice indexing (\"delete and retry\"): off\n",
      "                              Retry indexing: on\n"
     ]
    },
    {
     "name": "stdout",
     "output_type": "stream",
     "text": [
      "Running for x=-511.7, y=-512.5\n"
     ]
    },
    {
     "name": "stderr",
     "output_type": "stream",
     "text": [
      "61 images processed, 61 hits (100.0%), 27 indexable (44.3% of hits, 44.3% overall), 27 crystals, 11.8 images/sec.\n",
      "WARNING: Radius determination failed\n",
      "Waiting for the last patterns to be processed...\n",
      "Final: 100 images processed, 100 hits (100.0%), 43 indexable (43.0% of hits, 43.0% overall), 43 crystals.\n",
      "Processing XY pairs:  24%|██▍       | 107/441 [15:03<46:45,  8.40s/it]WARNING: You did not specify --int-radius.\n",
      "WARNING: I will use the default values, which are probably not appropriate for your patterns.\n",
      "This is what I understood your unit cell to be:\n",
      "orthorhombic I, right handed.\n",
      "a      b      c            alpha   beta  gamma\n",
      " 80.58  94.49 103.89 A     90.00  90.00  90.00 deg\n",
      "List of indexing methods:\n",
      "   0: xgandalf-nolatt-cell      (xgandalf using cell parameters as prior information)\n",
      "Indexing parameters:\n",
      "                  Check unit cell parameters: on\n",
      "                        Check peak alignment: on\n",
      "                   Refine indexing solutions: off\n",
      " Multi-lattice indexing (\"delete and retry\"): off\n",
      "                              Retry indexing: on\n"
     ]
    },
    {
     "name": "stdout",
     "output_type": "stream",
     "text": [
      "Running for x=-511.7, y=-511.5\n"
     ]
    },
    {
     "name": "stderr",
     "output_type": "stream",
     "text": [
      "63 images processed, 63 hits (100.0%), 33 indexable (52.4% of hits, 52.4% overall), 33 crystals, 12.6 images/sec.\n",
      "Waiting for the last patterns to be processed...\n",
      "Final: 100 images processed, 100 hits (100.0%), 47 indexable (47.0% of hits, 47.0% overall), 47 crystals.\n",
      "Processing XY pairs:  24%|██▍       | 108/441 [15:12<47:03,  8.48s/it]WARNING: You did not specify --int-radius.\n",
      "WARNING: I will use the default values, which are probably not appropriate for your patterns.\n",
      "This is what I understood your unit cell to be:\n",
      "orthorhombic I, right handed.\n",
      "a      b      c            alpha   beta  gamma\n",
      " 80.58  94.49 103.89 A     90.00  90.00  90.00 deg\n",
      "List of indexing methods:\n",
      "   0: xgandalf-nolatt-cell      (xgandalf using cell parameters as prior information)\n",
      "Indexing parameters:\n",
      "                  Check unit cell parameters: on\n",
      "                        Check peak alignment: on\n",
      "                   Refine indexing solutions: off\n",
      " Multi-lattice indexing (\"delete and retry\"): off\n",
      "                              Retry indexing: on\n"
     ]
    },
    {
     "name": "stdout",
     "output_type": "stream",
     "text": [
      "Running for x=-511.6, y=-512.5\n"
     ]
    },
    {
     "name": "stderr",
     "output_type": "stream",
     "text": [
      "63 images processed, 63 hits (100.0%), 30 indexable (47.6% of hits, 47.6% overall), 30 crystals, 12.5 images/sec.\n",
      "Waiting for the last patterns to be processed...\n",
      "Final: 100 images processed, 100 hits (100.0%), 46 indexable (46.0% of hits, 46.0% overall), 46 crystals.\n",
      "Processing XY pairs:  25%|██▍       | 109/441 [15:21<46:55,  8.48s/it]WARNING: You did not specify --int-radius.\n",
      "WARNING: I will use the default values, which are probably not appropriate for your patterns.\n",
      "This is what I understood your unit cell to be:\n",
      "orthorhombic I, right handed.\n",
      "a      b      c            alpha   beta  gamma\n",
      " 80.58  94.49 103.89 A     90.00  90.00  90.00 deg\n",
      "List of indexing methods:\n",
      "   0: xgandalf-nolatt-cell      (xgandalf using cell parameters as prior information)\n",
      "Indexing parameters:\n",
      "                  Check unit cell parameters: on\n",
      "                        Check peak alignment: on\n",
      "                   Refine indexing solutions: off\n",
      " Multi-lattice indexing (\"delete and retry\"): off\n",
      "                              Retry indexing: on\n"
     ]
    },
    {
     "name": "stdout",
     "output_type": "stream",
     "text": [
      "Running for x=-511.6, y=-511.5\n"
     ]
    },
    {
     "name": "stderr",
     "output_type": "stream",
     "text": [
      "65 images processed, 65 hits (100.0%), 29 indexable (44.6% of hits, 44.6% overall), 29 crystals, 12.2 images/sec.\n",
      "Waiting for the last patterns to be processed...\n",
      "Final: 100 images processed, 100 hits (100.0%), 43 indexable (43.0% of hits, 43.0% overall), 43 crystals.\n",
      "Processing XY pairs:  25%|██▍       | 110/441 [15:28<45:51,  8.31s/it]WARNING: You did not specify --int-radius.\n",
      "WARNING: I will use the default values, which are probably not appropriate for your patterns.\n",
      "This is what I understood your unit cell to be:\n",
      "orthorhombic I, right handed.\n",
      "a      b      c            alpha   beta  gamma\n",
      " 80.58  94.49 103.89 A     90.00  90.00  90.00 deg\n",
      "List of indexing methods:\n",
      "   0: xgandalf-nolatt-cell      (xgandalf using cell parameters as prior information)\n",
      "Indexing parameters:\n",
      "                  Check unit cell parameters: on\n",
      "                        Check peak alignment: on\n",
      "                   Refine indexing solutions: off\n",
      " Multi-lattice indexing (\"delete and retry\"): off\n",
      "                              Retry indexing: on\n"
     ]
    },
    {
     "name": "stdout",
     "output_type": "stream",
     "text": [
      "Running for x=-511.5, y=-512.5\n"
     ]
    },
    {
     "name": "stderr",
     "output_type": "stream",
     "text": [
      "59 images processed, 59 hits (100.0%), 27 indexable (45.8% of hits, 45.8% overall), 27 crystals, 11.7 images/sec.\n",
      "Waiting for the last patterns to be processed...\n",
      "Final: 100 images processed, 100 hits (100.0%), 43 indexable (43.0% of hits, 43.0% overall), 43 crystals.\n",
      "Processing XY pairs:  25%|██▌       | 111/441 [15:36<45:11,  8.22s/it]WARNING: You did not specify --int-radius.\n",
      "WARNING: I will use the default values, which are probably not appropriate for your patterns.\n",
      "This is what I understood your unit cell to be:\n",
      "orthorhombic I, right handed.\n",
      "a      b      c            alpha   beta  gamma\n",
      " 80.58  94.49 103.89 A     90.00  90.00  90.00 deg\n",
      "List of indexing methods:\n",
      "   0: xgandalf-nolatt-cell      (xgandalf using cell parameters as prior information)\n",
      "Indexing parameters:\n",
      "                  Check unit cell parameters: on\n",
      "                        Check peak alignment: on\n",
      "                   Refine indexing solutions: off\n",
      " Multi-lattice indexing (\"delete and retry\"): off\n",
      "                              Retry indexing: on\n"
     ]
    },
    {
     "name": "stdout",
     "output_type": "stream",
     "text": [
      "Running for x=-511.5, y=-512.4\n"
     ]
    },
    {
     "name": "stderr",
     "output_type": "stream",
     "text": [
      "59 images processed, 59 hits (100.0%), 27 indexable (45.8% of hits, 45.8% overall), 27 crystals, 11.5 images/sec.\n",
      "Waiting for the last patterns to be processed...\n",
      "Final: 100 images processed, 100 hits (100.0%), 47 indexable (47.0% of hits, 47.0% overall), 47 crystals.\n",
      "Processing XY pairs:  25%|██▌       | 112/441 [15:45<45:39,  8.33s/it]WARNING: You did not specify --int-radius.\n",
      "WARNING: I will use the default values, which are probably not appropriate for your patterns.\n",
      "This is what I understood your unit cell to be:\n",
      "orthorhombic I, right handed.\n",
      "a      b      c            alpha   beta  gamma\n",
      " 80.58  94.49 103.89 A     90.00  90.00  90.00 deg\n",
      "List of indexing methods:\n",
      "   0: xgandalf-nolatt-cell      (xgandalf using cell parameters as prior information)\n",
      "Indexing parameters:\n",
      "                  Check unit cell parameters: on\n",
      "                        Check peak alignment: on\n",
      "                   Refine indexing solutions: off\n",
      " Multi-lattice indexing (\"delete and retry\"): off\n",
      "                              Retry indexing: on\n"
     ]
    },
    {
     "name": "stdout",
     "output_type": "stream",
     "text": [
      "Running for x=-511.5, y=-512.3\n"
     ]
    },
    {
     "name": "stderr",
     "output_type": "stream",
     "text": [
      "58 images processed, 58 hits (100.0%), 29 indexable (50.0% of hits, 50.0% overall), 29 crystals, 11.5 images/sec.\n",
      "Waiting for the last patterns to be processed...\n",
      "Final: 100 images processed, 100 hits (100.0%), 43 indexable (43.0% of hits, 43.0% overall), 43 crystals.\n",
      "Processing XY pairs:  26%|██▌       | 113/441 [15:54<47:11,  8.63s/it]WARNING: You did not specify --int-radius.\n",
      "WARNING: I will use the default values, which are probably not appropriate for your patterns.\n",
      "This is what I understood your unit cell to be:\n",
      "orthorhombic I, right handed.\n",
      "a      b      c            alpha   beta  gamma\n",
      " 80.58  94.49 103.89 A     90.00  90.00  90.00 deg\n",
      "List of indexing methods:\n",
      "   0: xgandalf-nolatt-cell      (xgandalf using cell parameters as prior information)\n",
      "Indexing parameters:\n",
      "                  Check unit cell parameters: on\n",
      "                        Check peak alignment: on\n",
      "                   Refine indexing solutions: off\n",
      " Multi-lattice indexing (\"delete and retry\"): off\n",
      "                              Retry indexing: on\n"
     ]
    },
    {
     "name": "stdout",
     "output_type": "stream",
     "text": [
      "Running for x=-511.5, y=-512.2\n"
     ]
    },
    {
     "name": "stderr",
     "output_type": "stream",
     "text": [
      "WARNING: Radius determination failed\n",
      "60 images processed, 60 hits (100.0%), 30 indexable (50.0% of hits, 50.0% overall), 30 crystals, 11.6 images/sec.\n",
      "Waiting for the last patterns to be processed...\n",
      "Final: 100 images processed, 100 hits (100.0%), 50 indexable (50.0% of hits, 50.0% overall), 50 crystals.\n",
      "Processing XY pairs:  26%|██▌       | 114/441 [16:03<47:45,  8.76s/it]WARNING: You did not specify --int-radius.\n",
      "WARNING: I will use the default values, which are probably not appropriate for your patterns.\n",
      "This is what I understood your unit cell to be:\n",
      "orthorhombic I, right handed.\n",
      "a      b      c            alpha   beta  gamma\n",
      " 80.58  94.49 103.89 A     90.00  90.00  90.00 deg\n",
      "List of indexing methods:\n",
      "   0: xgandalf-nolatt-cell      (xgandalf using cell parameters as prior information)\n",
      "Indexing parameters:\n",
      "                  Check unit cell parameters: on\n",
      "                        Check peak alignment: on\n",
      "                   Refine indexing solutions: off\n",
      " Multi-lattice indexing (\"delete and retry\"): off\n",
      "                              Retry indexing: on\n"
     ]
    },
    {
     "name": "stdout",
     "output_type": "stream",
     "text": [
      "Running for x=-511.5, y=-512.1\n"
     ]
    },
    {
     "name": "stderr",
     "output_type": "stream",
     "text": [
      "66 images processed, 66 hits (100.0%), 37 indexable (56.1% of hits, 56.1% overall), 37 crystals, 13.1 images/sec.\n",
      "Waiting for the last patterns to be processed...\n",
      "Final: 100 images processed, 100 hits (100.0%), 51 indexable (51.0% of hits, 51.0% overall), 51 crystals.\n",
      "Processing XY pairs:  26%|██▌       | 115/441 [16:12<46:28,  8.55s/it]WARNING: You did not specify --int-radius.\n",
      "WARNING: I will use the default values, which are probably not appropriate for your patterns.\n",
      "This is what I understood your unit cell to be:\n",
      "orthorhombic I, right handed.\n",
      "a      b      c            alpha   beta  gamma\n",
      " 80.58  94.49 103.89 A     90.00  90.00  90.00 deg\n",
      "List of indexing methods:\n",
      "   0: xgandalf-nolatt-cell      (xgandalf using cell parameters as prior information)\n",
      "Indexing parameters:\n",
      "                  Check unit cell parameters: on\n",
      "                        Check peak alignment: on\n",
      "                   Refine indexing solutions: off\n",
      " Multi-lattice indexing (\"delete and retry\"): off\n",
      "                              Retry indexing: on\n"
     ]
    },
    {
     "name": "stdout",
     "output_type": "stream",
     "text": [
      "Running for x=-511.5, y=-512.0\n"
     ]
    },
    {
     "name": "stderr",
     "output_type": "stream",
     "text": [
      "WARNING: Radius determination failed\n",
      "60 images processed, 60 hits (100.0%), 29 indexable (48.3% of hits, 48.3% overall), 29 crystals, 12.0 images/sec.\n",
      "Waiting for the last patterns to be processed...\n",
      "Final: 100 images processed, 100 hits (100.0%), 51 indexable (51.0% of hits, 51.0% overall), 51 crystals.\n",
      "Processing XY pairs:  26%|██▋       | 116/441 [16:20<45:33,  8.41s/it]WARNING: You did not specify --int-radius.\n",
      "WARNING: I will use the default values, which are probably not appropriate for your patterns.\n",
      "This is what I understood your unit cell to be:\n",
      "orthorhombic I, right handed.\n",
      "a      b      c            alpha   beta  gamma\n",
      " 80.58  94.49 103.89 A     90.00  90.00  90.00 deg\n",
      "List of indexing methods:\n",
      "   0: xgandalf-nolatt-cell      (xgandalf using cell parameters as prior information)\n",
      "Indexing parameters:\n",
      "                  Check unit cell parameters: on\n",
      "                        Check peak alignment: on\n",
      "                   Refine indexing solutions: off\n",
      " Multi-lattice indexing (\"delete and retry\"): off\n",
      "                              Retry indexing: on\n"
     ]
    },
    {
     "name": "stdout",
     "output_type": "stream",
     "text": [
      "Running for x=-511.5, y=-511.9\n"
     ]
    },
    {
     "name": "stderr",
     "output_type": "stream",
     "text": [
      "63 images processed, 63 hits (100.0%), 32 indexable (50.8% of hits, 50.8% overall), 32 crystals, 12.5 images/sec.\n",
      "Waiting for the last patterns to be processed...\n",
      "Final: 100 images processed, 100 hits (100.0%), 52 indexable (52.0% of hits, 52.0% overall), 52 crystals.\n",
      "Processing XY pairs:  27%|██▋       | 117/441 [16:28<45:48,  8.48s/it]WARNING: You did not specify --int-radius.\n",
      "WARNING: I will use the default values, which are probably not appropriate for your patterns.\n",
      "This is what I understood your unit cell to be:\n",
      "orthorhombic I, right handed.\n",
      "a      b      c            alpha   beta  gamma\n",
      " 80.58  94.49 103.89 A     90.00  90.00  90.00 deg\n",
      "List of indexing methods:\n",
      "   0: xgandalf-nolatt-cell      (xgandalf using cell parameters as prior information)\n",
      "Indexing parameters:\n",
      "                  Check unit cell parameters: on\n",
      "                        Check peak alignment: on\n",
      "                   Refine indexing solutions: off\n",
      " Multi-lattice indexing (\"delete and retry\"): off\n",
      "                              Retry indexing: on\n"
     ]
    },
    {
     "name": "stdout",
     "output_type": "stream",
     "text": [
      "Running for x=-511.5, y=-511.8\n"
     ]
    },
    {
     "name": "stderr",
     "output_type": "stream",
     "text": [
      "64 images processed, 64 hits (100.0%), 33 indexable (51.6% of hits, 51.6% overall), 33 crystals, 12.5 images/sec.\n",
      "Waiting for the last patterns to be processed...\n",
      "Final: 100 images processed, 100 hits (100.0%), 45 indexable (45.0% of hits, 45.0% overall), 45 crystals.\n",
      "Processing XY pairs:  27%|██▋       | 118/441 [16:37<46:42,  8.68s/it]WARNING: You did not specify --int-radius.\n",
      "WARNING: I will use the default values, which are probably not appropriate for your patterns.\n",
      "This is what I understood your unit cell to be:\n",
      "orthorhombic I, right handed.\n",
      "a      b      c            alpha   beta  gamma\n",
      " 80.58  94.49 103.89 A     90.00  90.00  90.00 deg\n",
      "List of indexing methods:\n",
      "   0: xgandalf-nolatt-cell      (xgandalf using cell parameters as prior information)\n",
      "Indexing parameters:\n",
      "                  Check unit cell parameters: on\n",
      "                        Check peak alignment: on\n",
      "                   Refine indexing solutions: off\n",
      " Multi-lattice indexing (\"delete and retry\"): off\n",
      "                              Retry indexing: on\n"
     ]
    },
    {
     "name": "stdout",
     "output_type": "stream",
     "text": [
      "Running for x=-511.5, y=-511.7\n"
     ]
    },
    {
     "name": "stderr",
     "output_type": "stream",
     "text": [
      "61 images processed, 61 hits (100.0%), 30 indexable (49.2% of hits, 49.2% overall), 30 crystals, 12.1 images/sec.\n",
      "WARNING: Radius determination failed\n",
      "Waiting for the last patterns to be processed...\n",
      "Final: 100 images processed, 100 hits (100.0%), 53 indexable (53.0% of hits, 53.0% overall), 53 crystals.\n",
      "Processing XY pairs:  27%|██▋       | 119/441 [16:45<45:19,  8.45s/it]WARNING: You did not specify --int-radius.\n",
      "WARNING: I will use the default values, which are probably not appropriate for your patterns.\n",
      "This is what I understood your unit cell to be:\n",
      "orthorhombic I, right handed.\n",
      "a      b      c            alpha   beta  gamma\n",
      " 80.58  94.49 103.89 A     90.00  90.00  90.00 deg\n",
      "List of indexing methods:\n",
      "   0: xgandalf-nolatt-cell      (xgandalf using cell parameters as prior information)\n",
      "Indexing parameters:\n",
      "                  Check unit cell parameters: on\n",
      "                        Check peak alignment: on\n",
      "                   Refine indexing solutions: off\n",
      " Multi-lattice indexing (\"delete and retry\"): off\n",
      "                              Retry indexing: on\n"
     ]
    },
    {
     "name": "stdout",
     "output_type": "stream",
     "text": [
      "Running for x=-511.5, y=-511.6\n"
     ]
    },
    {
     "name": "stderr",
     "output_type": "stream",
     "text": [
      "62 images processed, 62 hits (100.0%), 27 indexable (43.5% of hits, 43.5% overall), 27 crystals, 12.3 images/sec.\n",
      "Waiting for the last patterns to be processed...\n",
      "Final: 100 images processed, 100 hits (100.0%), 45 indexable (45.0% of hits, 45.0% overall), 45 crystals.\n",
      "Processing XY pairs:  27%|██▋       | 120/441 [16:54<45:59,  8.60s/it]WARNING: You did not specify --int-radius.\n",
      "WARNING: I will use the default values, which are probably not appropriate for your patterns.\n",
      "This is what I understood your unit cell to be:\n",
      "orthorhombic I, right handed.\n",
      "a      b      c            alpha   beta  gamma\n",
      " 80.58  94.49 103.89 A     90.00  90.00  90.00 deg\n",
      "List of indexing methods:\n",
      "   0: xgandalf-nolatt-cell      (xgandalf using cell parameters as prior information)\n",
      "Indexing parameters:\n",
      "                  Check unit cell parameters: on\n",
      "                        Check peak alignment: on\n",
      "                   Refine indexing solutions: off\n",
      " Multi-lattice indexing (\"delete and retry\"): off\n",
      "                              Retry indexing: on\n"
     ]
    },
    {
     "name": "stdout",
     "output_type": "stream",
     "text": [
      "Running for x=-511.5, y=-511.5\n"
     ]
    },
    {
     "name": "stderr",
     "output_type": "stream",
     "text": [
      "62 images processed, 62 hits (100.0%), 22 indexable (35.5% of hits, 35.5% overall), 22 crystals, 12.3 images/sec.\n",
      "Waiting for the last patterns to be processed...\n",
      "Final: 100 images processed, 100 hits (100.0%), 33 indexable (33.0% of hits, 33.0% overall), 33 crystals.\n",
      "Processing XY pairs:  27%|██▋       | 121/441 [17:03<46:36,  8.74s/it]WARNING: You did not specify --int-radius.\n",
      "WARNING: I will use the default values, which are probably not appropriate for your patterns.\n",
      "This is what I understood your unit cell to be:\n",
      "orthorhombic I, right handed.\n",
      "a      b      c            alpha   beta  gamma\n",
      " 80.58  94.49 103.89 A     90.00  90.00  90.00 deg\n",
      "List of indexing methods:\n",
      "   0: xgandalf-nolatt-cell      (xgandalf using cell parameters as prior information)\n",
      "Indexing parameters:\n",
      "                  Check unit cell parameters: on\n",
      "                        Check peak alignment: on\n",
      "                   Refine indexing solutions: off\n",
      " Multi-lattice indexing (\"delete and retry\"): off\n",
      "                              Retry indexing: on\n"
     ]
    },
    {
     "name": "stdout",
     "output_type": "stream",
     "text": [
      "Running for x=-512.6, y=-512.6\n"
     ]
    },
    {
     "name": "stderr",
     "output_type": "stream",
     "text": [
      "59 images processed, 59 hits (100.0%), 26 indexable (44.1% of hits, 44.1% overall), 26 crystals, 11.7 images/sec.\n",
      "Waiting for the last patterns to be processed...\n",
      "Final: 100 images processed, 100 hits (100.0%), 43 indexable (43.0% of hits, 43.0% overall), 43 crystals.\n",
      "Processing XY pairs:  28%|██▊       | 122/441 [17:12<47:03,  8.85s/it]WARNING: You did not specify --int-radius.\n",
      "WARNING: I will use the default values, which are probably not appropriate for your patterns.\n",
      "This is what I understood your unit cell to be:\n",
      "orthorhombic I, right handed.\n",
      "a      b      c            alpha   beta  gamma\n",
      " 80.58  94.49 103.89 A     90.00  90.00  90.00 deg\n",
      "List of indexing methods:\n",
      "   0: xgandalf-nolatt-cell      (xgandalf using cell parameters as prior information)\n",
      "Indexing parameters:\n",
      "                  Check unit cell parameters: on\n",
      "                        Check peak alignment: on\n",
      "                   Refine indexing solutions: off\n",
      " Multi-lattice indexing (\"delete and retry\"): off\n",
      "                              Retry indexing: on\n"
     ]
    },
    {
     "name": "stdout",
     "output_type": "stream",
     "text": [
      "Running for x=-512.6, y=-512.5\n"
     ]
    },
    {
     "name": "stderr",
     "output_type": "stream",
     "text": [
      "66 images processed, 66 hits (100.0%), 25 indexable (37.9% of hits, 37.9% overall), 25 crystals, 13.1 images/sec.\n",
      "Waiting for the last patterns to be processed...\n",
      "Final: 100 images processed, 100 hits (100.0%), 33 indexable (33.0% of hits, 33.0% overall), 33 crystals.\n",
      "Processing XY pairs:  28%|██▊       | 123/441 [17:21<47:12,  8.91s/it]WARNING: You did not specify --int-radius.\n",
      "WARNING: I will use the default values, which are probably not appropriate for your patterns.\n",
      "This is what I understood your unit cell to be:\n",
      "orthorhombic I, right handed.\n",
      "a      b      c            alpha   beta  gamma\n",
      " 80.58  94.49 103.89 A     90.00  90.00  90.00 deg\n",
      "List of indexing methods:\n",
      "   0: xgandalf-nolatt-cell      (xgandalf using cell parameters as prior information)\n",
      "Indexing parameters:\n",
      "                  Check unit cell parameters: on\n",
      "                        Check peak alignment: on\n",
      "                   Refine indexing solutions: off\n",
      " Multi-lattice indexing (\"delete and retry\"): off\n",
      "                              Retry indexing: on\n"
     ]
    },
    {
     "name": "stdout",
     "output_type": "stream",
     "text": [
      "Running for x=-512.6, y=-512.4\n"
     ]
    },
    {
     "name": "stderr",
     "output_type": "stream",
     "text": [
      "60 images processed, 60 hits (100.0%), 29 indexable (48.3% of hits, 48.3% overall), 29 crystals, 11.8 images/sec.\n",
      "Waiting for the last patterns to be processed...\n",
      "Final: 100 images processed, 100 hits (100.0%), 42 indexable (42.0% of hits, 42.0% overall), 42 crystals.\n",
      "Processing XY pairs:  28%|██▊       | 124/441 [17:31<47:15,  8.94s/it]WARNING: You did not specify --int-radius.\n",
      "WARNING: I will use the default values, which are probably not appropriate for your patterns.\n",
      "This is what I understood your unit cell to be:\n",
      "orthorhombic I, right handed.\n",
      "a      b      c            alpha   beta  gamma\n",
      " 80.58  94.49 103.89 A     90.00  90.00  90.00 deg\n",
      "List of indexing methods:\n",
      "   0: xgandalf-nolatt-cell      (xgandalf using cell parameters as prior information)\n",
      "Indexing parameters:\n",
      "                  Check unit cell parameters: on\n",
      "                        Check peak alignment: on\n",
      "                   Refine indexing solutions: off\n",
      " Multi-lattice indexing (\"delete and retry\"): off\n",
      "                              Retry indexing: on\n"
     ]
    },
    {
     "name": "stdout",
     "output_type": "stream",
     "text": [
      "Running for x=-512.6, y=-512.3\n"
     ]
    },
    {
     "name": "stderr",
     "output_type": "stream",
     "text": [
      "WARNING: Radius determination failed\n",
      "66 images processed, 66 hits (100.0%), 36 indexable (54.5% of hits, 54.5% overall), 36 crystals, 13.2 images/sec.\n",
      "Waiting for the last patterns to be processed...\n",
      "Final: 100 images processed, 100 hits (100.0%), 48 indexable (48.0% of hits, 48.0% overall), 48 crystals.\n",
      "Processing XY pairs:  28%|██▊       | 125/441 [17:38<44:48,  8.51s/it]WARNING: You did not specify --int-radius.\n",
      "WARNING: I will use the default values, which are probably not appropriate for your patterns.\n",
      "This is what I understood your unit cell to be:\n",
      "orthorhombic I, right handed.\n",
      "a      b      c            alpha   beta  gamma\n",
      " 80.58  94.49 103.89 A     90.00  90.00  90.00 deg\n",
      "List of indexing methods:\n",
      "   0: xgandalf-nolatt-cell      (xgandalf using cell parameters as prior information)\n",
      "Indexing parameters:\n",
      "                  Check unit cell parameters: on\n",
      "                        Check peak alignment: on\n",
      "                   Refine indexing solutions: off\n",
      " Multi-lattice indexing (\"delete and retry\"): off\n",
      "                              Retry indexing: on\n"
     ]
    },
    {
     "name": "stdout",
     "output_type": "stream",
     "text": [
      "Running for x=-512.6, y=-512.2\n"
     ]
    },
    {
     "name": "stderr",
     "output_type": "stream",
     "text": [
      "60 images processed, 60 hits (100.0%), 24 indexable (40.0% of hits, 40.0% overall), 24 crystals, 11.9 images/sec.\n",
      "Waiting for the last patterns to be processed...\n",
      "Final: 100 images processed, 100 hits (100.0%), 51 indexable (51.0% of hits, 51.0% overall), 51 crystals.\n",
      "Processing XY pairs:  29%|██▊       | 126/441 [17:47<45:16,  8.62s/it]WARNING: You did not specify --int-radius.\n",
      "WARNING: I will use the default values, which are probably not appropriate for your patterns.\n",
      "This is what I understood your unit cell to be:\n",
      "orthorhombic I, right handed.\n",
      "a      b      c            alpha   beta  gamma\n",
      " 80.58  94.49 103.89 A     90.00  90.00  90.00 deg\n",
      "List of indexing methods:\n",
      "   0: xgandalf-nolatt-cell      (xgandalf using cell parameters as prior information)\n",
      "Indexing parameters:\n",
      "                  Check unit cell parameters: on\n",
      "                        Check peak alignment: on\n",
      "                   Refine indexing solutions: off\n",
      " Multi-lattice indexing (\"delete and retry\"): off\n",
      "                              Retry indexing: on\n"
     ]
    },
    {
     "name": "stdout",
     "output_type": "stream",
     "text": [
      "Running for x=-512.6, y=-512.1\n"
     ]
    },
    {
     "name": "stderr",
     "output_type": "stream",
     "text": [
      "71 images processed, 71 hits (100.0%), 41 indexable (57.7% of hits, 57.7% overall), 41 crystals, 14.1 images/sec.\n",
      "Waiting for the last patterns to be processed...\n",
      "Final: 100 images processed, 100 hits (100.0%), 51 indexable (51.0% of hits, 51.0% overall), 51 crystals.\n",
      "Processing XY pairs:  29%|██▉       | 127/441 [17:55<44:31,  8.51s/it]WARNING: You did not specify --int-radius.\n",
      "WARNING: I will use the default values, which are probably not appropriate for your patterns.\n",
      "This is what I understood your unit cell to be:\n",
      "orthorhombic I, right handed.\n",
      "a      b      c            alpha   beta  gamma\n",
      " 80.58  94.49 103.89 A     90.00  90.00  90.00 deg\n",
      "List of indexing methods:\n",
      "   0: xgandalf-nolatt-cell      (xgandalf using cell parameters as prior information)\n",
      "Indexing parameters:\n",
      "                  Check unit cell parameters: on\n",
      "                        Check peak alignment: on\n",
      "                   Refine indexing solutions: off\n",
      " Multi-lattice indexing (\"delete and retry\"): off\n",
      "                              Retry indexing: on\n"
     ]
    },
    {
     "name": "stdout",
     "output_type": "stream",
     "text": [
      "Running for x=-512.6, y=-512.0\n"
     ]
    },
    {
     "name": "stderr",
     "output_type": "stream",
     "text": [
      "67 images processed, 67 hits (100.0%), 40 indexable (59.7% of hits, 59.7% overall), 40 crystals, 13.4 images/sec.\n",
      "Waiting for the last patterns to be processed...\n",
      "Final: 100 images processed, 100 hits (100.0%), 53 indexable (53.0% of hits, 53.0% overall), 53 crystals.\n",
      "Processing XY pairs:  29%|██▉       | 128/441 [18:04<44:16,  8.49s/it]WARNING: You did not specify --int-radius.\n",
      "WARNING: I will use the default values, which are probably not appropriate for your patterns.\n",
      "This is what I understood your unit cell to be:\n",
      "orthorhombic I, right handed.\n",
      "a      b      c            alpha   beta  gamma\n",
      " 80.58  94.49 103.89 A     90.00  90.00  90.00 deg\n",
      "List of indexing methods:\n",
      "   0: xgandalf-nolatt-cell      (xgandalf using cell parameters as prior information)\n",
      "Indexing parameters:\n",
      "                  Check unit cell parameters: on\n",
      "                        Check peak alignment: on\n",
      "                   Refine indexing solutions: off\n",
      " Multi-lattice indexing (\"delete and retry\"): off\n",
      "                              Retry indexing: on\n"
     ]
    },
    {
     "name": "stdout",
     "output_type": "stream",
     "text": [
      "Running for x=-512.6, y=-511.9\n"
     ]
    },
    {
     "name": "stderr",
     "output_type": "stream",
     "text": [
      "62 images processed, 62 hits (100.0%), 37 indexable (59.7% of hits, 59.7% overall), 37 crystals, 12.3 images/sec.\n",
      "Waiting for the last patterns to be processed...\n",
      "Final: 100 images processed, 100 hits (100.0%), 54 indexable (54.0% of hits, 54.0% overall), 54 crystals.\n",
      "Processing XY pairs:  29%|██▉       | 129/441 [18:12<44:28,  8.55s/it]WARNING: You did not specify --int-radius.\n",
      "WARNING: I will use the default values, which are probably not appropriate for your patterns.\n",
      "This is what I understood your unit cell to be:\n",
      "orthorhombic I, right handed.\n",
      "a      b      c            alpha   beta  gamma\n",
      " 80.58  94.49 103.89 A     90.00  90.00  90.00 deg\n",
      "List of indexing methods:\n",
      "   0: xgandalf-nolatt-cell      (xgandalf using cell parameters as prior information)\n",
      "Indexing parameters:\n",
      "                  Check unit cell parameters: on\n",
      "                        Check peak alignment: on\n",
      "                   Refine indexing solutions: off\n",
      " Multi-lattice indexing (\"delete and retry\"): off\n",
      "                              Retry indexing: on\n"
     ]
    },
    {
     "name": "stdout",
     "output_type": "stream",
     "text": [
      "Running for x=-512.6, y=-511.8\n"
     ]
    },
    {
     "name": "stderr",
     "output_type": "stream",
     "text": [
      "64 images processed, 64 hits (100.0%), 36 indexable (56.2% of hits, 56.2% overall), 36 crystals, 12.7 images/sec.\n",
      "Waiting for the last patterns to be processed...\n",
      "Final: 100 images processed, 100 hits (100.0%), 51 indexable (51.0% of hits, 51.0% overall), 51 crystals.\n",
      "Processing XY pairs:  29%|██▉       | 130/441 [18:21<44:27,  8.58s/it]WARNING: You did not specify --int-radius.\n",
      "WARNING: I will use the default values, which are probably not appropriate for your patterns.\n",
      "This is what I understood your unit cell to be:\n",
      "orthorhombic I, right handed.\n",
      "a      b      c            alpha   beta  gamma\n",
      " 80.58  94.49 103.89 A     90.00  90.00  90.00 deg\n",
      "List of indexing methods:\n",
      "   0: xgandalf-nolatt-cell      (xgandalf using cell parameters as prior information)\n",
      "Indexing parameters:\n",
      "                  Check unit cell parameters: on\n",
      "                        Check peak alignment: on\n",
      "                   Refine indexing solutions: off\n",
      " Multi-lattice indexing (\"delete and retry\"): off\n",
      "                              Retry indexing: on\n"
     ]
    },
    {
     "name": "stdout",
     "output_type": "stream",
     "text": [
      "Running for x=-512.6, y=-511.7\n"
     ]
    },
    {
     "name": "stderr",
     "output_type": "stream",
     "text": [
      "WARNING: Radius determination failed\n",
      "66 images processed, 66 hits (100.0%), 34 indexable (51.5% of hits, 51.5% overall), 34 crystals, 13.1 images/sec.\n",
      "Waiting for the last patterns to be processed...\n",
      "Final: 100 images processed, 100 hits (100.0%), 48 indexable (48.0% of hits, 48.0% overall), 48 crystals.\n",
      "Processing XY pairs:  30%|██▉       | 131/441 [18:29<44:15,  8.57s/it]WARNING: You did not specify --int-radius.\n",
      "WARNING: I will use the default values, which are probably not appropriate for your patterns.\n",
      "This is what I understood your unit cell to be:\n",
      "orthorhombic I, right handed.\n",
      "a      b      c            alpha   beta  gamma\n",
      " 80.58  94.49 103.89 A     90.00  90.00  90.00 deg\n",
      "List of indexing methods:\n",
      "   0: xgandalf-nolatt-cell      (xgandalf using cell parameters as prior information)\n",
      "Indexing parameters:\n",
      "                  Check unit cell parameters: on\n",
      "                        Check peak alignment: on\n",
      "                   Refine indexing solutions: off\n",
      " Multi-lattice indexing (\"delete and retry\"): off\n",
      "                              Retry indexing: on\n"
     ]
    },
    {
     "name": "stdout",
     "output_type": "stream",
     "text": [
      "Running for x=-512.6, y=-511.6\n"
     ]
    },
    {
     "name": "stderr",
     "output_type": "stream",
     "text": [
      "60 images processed, 60 hits (100.0%), 26 indexable (43.3% of hits, 43.3% overall), 26 crystals, 11.8 images/sec.\n",
      "Waiting for the last patterns to be processed...\n",
      "Final: 100 images processed, 100 hits (100.0%), 44 indexable (44.0% of hits, 44.0% overall), 44 crystals.\n",
      "Processing XY pairs:  30%|██▉       | 132/441 [18:38<44:44,  8.69s/it]WARNING: You did not specify --int-radius.\n",
      "WARNING: I will use the default values, which are probably not appropriate for your patterns.\n",
      "This is what I understood your unit cell to be:\n",
      "orthorhombic I, right handed.\n",
      "a      b      c            alpha   beta  gamma\n",
      " 80.58  94.49 103.89 A     90.00  90.00  90.00 deg\n",
      "List of indexing methods:\n",
      "   0: xgandalf-nolatt-cell      (xgandalf using cell parameters as prior information)\n",
      "Indexing parameters:\n",
      "                  Check unit cell parameters: on\n",
      "                        Check peak alignment: on\n",
      "                   Refine indexing solutions: off\n",
      " Multi-lattice indexing (\"delete and retry\"): off\n",
      "                              Retry indexing: on\n"
     ]
    },
    {
     "name": "stdout",
     "output_type": "stream",
     "text": [
      "Running for x=-512.6, y=-511.5\n"
     ]
    },
    {
     "name": "stderr",
     "output_type": "stream",
     "text": [
      "66 images processed, 66 hits (100.0%), 35 indexable (53.0% of hits, 53.0% overall), 35 crystals, 12.8 images/sec.\n",
      "Waiting for the last patterns to be processed...\n",
      "Final: 100 images processed, 100 hits (100.0%), 49 indexable (49.0% of hits, 49.0% overall), 49 crystals.\n",
      "Processing XY pairs:  30%|███       | 133/441 [18:47<43:58,  8.57s/it]WARNING: You did not specify --int-radius.\n",
      "WARNING: I will use the default values, which are probably not appropriate for your patterns.\n",
      "This is what I understood your unit cell to be:\n",
      "orthorhombic I, right handed.\n",
      "a      b      c            alpha   beta  gamma\n",
      " 80.58  94.49 103.89 A     90.00  90.00  90.00 deg\n",
      "List of indexing methods:\n",
      "   0: xgandalf-nolatt-cell      (xgandalf using cell parameters as prior information)\n",
      "Indexing parameters:\n",
      "                  Check unit cell parameters: on\n",
      "                        Check peak alignment: on\n",
      "                   Refine indexing solutions: off\n",
      " Multi-lattice indexing (\"delete and retry\"): off\n",
      "                              Retry indexing: on\n"
     ]
    },
    {
     "name": "stdout",
     "output_type": "stream",
     "text": [
      "Running for x=-512.6, y=-511.4\n"
     ]
    },
    {
     "name": "stderr",
     "output_type": "stream",
     "text": [
      "56 images processed, 56 hits (100.0%), 22 indexable (39.3% of hits, 39.3% overall), 22 crystals, 11.1 images/sec.\n",
      "Waiting for the last patterns to be processed...\n",
      "Final: 100 images processed, 100 hits (100.0%), 45 indexable (45.0% of hits, 45.0% overall), 45 crystals.\n",
      "Processing XY pairs:  30%|███       | 134/441 [18:55<43:06,  8.42s/it]WARNING: You did not specify --int-radius.\n",
      "WARNING: I will use the default values, which are probably not appropriate for your patterns.\n",
      "This is what I understood your unit cell to be:\n",
      "orthorhombic I, right handed.\n",
      "a      b      c            alpha   beta  gamma\n",
      " 80.58  94.49 103.89 A     90.00  90.00  90.00 deg\n",
      "List of indexing methods:\n",
      "   0: xgandalf-nolatt-cell      (xgandalf using cell parameters as prior information)\n",
      "Indexing parameters:\n",
      "                  Check unit cell parameters: on\n",
      "                        Check peak alignment: on\n",
      "                   Refine indexing solutions: off\n",
      " Multi-lattice indexing (\"delete and retry\"): off\n",
      "                              Retry indexing: on\n"
     ]
    },
    {
     "name": "stdout",
     "output_type": "stream",
     "text": [
      "Running for x=-512.5, y=-512.6\n"
     ]
    },
    {
     "name": "stderr",
     "output_type": "stream",
     "text": [
      "55 images processed, 55 hits (100.0%), 23 indexable (41.8% of hits, 41.8% overall), 23 crystals, 10.8 images/sec.\n",
      "Waiting for the last patterns to be processed...\n",
      "Final: 100 images processed, 100 hits (100.0%), 41 indexable (41.0% of hits, 41.0% overall), 41 crystals.\n",
      "Processing XY pairs:  31%|███       | 135/441 [19:05<44:57,  8.82s/it]WARNING: You did not specify --int-radius.\n",
      "WARNING: I will use the default values, which are probably not appropriate for your patterns.\n",
      "This is what I understood your unit cell to be:\n",
      "orthorhombic I, right handed.\n",
      "a      b      c            alpha   beta  gamma\n",
      " 80.58  94.49 103.89 A     90.00  90.00  90.00 deg\n",
      "List of indexing methods:\n",
      "   0: xgandalf-nolatt-cell      (xgandalf using cell parameters as prior information)\n",
      "Indexing parameters:\n",
      "                  Check unit cell parameters: on\n",
      "                        Check peak alignment: on\n",
      "                   Refine indexing solutions: off\n",
      " Multi-lattice indexing (\"delete and retry\"): off\n",
      "                              Retry indexing: on\n"
     ]
    },
    {
     "name": "stdout",
     "output_type": "stream",
     "text": [
      "Running for x=-512.5, y=-511.4\n"
     ]
    },
    {
     "name": "stderr",
     "output_type": "stream",
     "text": [
      "62 images processed, 62 hits (100.0%), 21 indexable (33.9% of hits, 33.9% overall), 21 crystals, 12.2 images/sec.\n",
      "Waiting for the last patterns to be processed...\n",
      "Final: 100 images processed, 100 hits (100.0%), 33 indexable (33.0% of hits, 33.0% overall), 33 crystals.\n",
      "Processing XY pairs:  31%|███       | 136/441 [19:13<44:51,  8.83s/it]WARNING: You did not specify --int-radius.\n",
      "WARNING: I will use the default values, which are probably not appropriate for your patterns.\n",
      "This is what I understood your unit cell to be:\n",
      "orthorhombic I, right handed.\n",
      "a      b      c            alpha   beta  gamma\n",
      " 80.58  94.49 103.89 A     90.00  90.00  90.00 deg\n",
      "List of indexing methods:\n",
      "   0: xgandalf-nolatt-cell      (xgandalf using cell parameters as prior information)\n",
      "Indexing parameters:\n",
      "                  Check unit cell parameters: on\n",
      "                        Check peak alignment: on\n",
      "                   Refine indexing solutions: off\n",
      " Multi-lattice indexing (\"delete and retry\"): off\n",
      "                              Retry indexing: on\n"
     ]
    },
    {
     "name": "stdout",
     "output_type": "stream",
     "text": [
      "Running for x=-512.4, y=-512.6\n"
     ]
    },
    {
     "name": "stderr",
     "output_type": "stream",
     "text": [
      "WARNING: Radius determination failed\n",
      "63 images processed, 63 hits (100.0%), 29 indexable (46.0% of hits, 46.0% overall), 29 crystals, 12.5 images/sec.\n",
      "Waiting for the last patterns to be processed...\n",
      "Final: 100 images processed, 100 hits (100.0%), 39 indexable (39.0% of hits, 39.0% overall), 39 crystals.\n",
      "Processing XY pairs:  31%|███       | 137/441 [19:22<44:49,  8.85s/it]WARNING: You did not specify --int-radius.\n",
      "WARNING: I will use the default values, which are probably not appropriate for your patterns.\n",
      "This is what I understood your unit cell to be:\n",
      "orthorhombic I, right handed.\n",
      "a      b      c            alpha   beta  gamma\n",
      " 80.58  94.49 103.89 A     90.00  90.00  90.00 deg\n",
      "List of indexing methods:\n",
      "   0: xgandalf-nolatt-cell      (xgandalf using cell parameters as prior information)\n",
      "Indexing parameters:\n",
      "                  Check unit cell parameters: on\n",
      "                        Check peak alignment: on\n",
      "                   Refine indexing solutions: off\n",
      " Multi-lattice indexing (\"delete and retry\"): off\n",
      "                              Retry indexing: on\n"
     ]
    },
    {
     "name": "stdout",
     "output_type": "stream",
     "text": [
      "Running for x=-512.4, y=-511.4\n"
     ]
    },
    {
     "name": "stderr",
     "output_type": "stream",
     "text": [
      "WARNING: Radius determination failed\n",
      "WARNING: Radius determination failed\n",
      "61 images processed, 61 hits (100.0%), 32 indexable (52.5% of hits, 52.5% overall), 32 crystals, 12.1 images/sec.\n",
      "Waiting for the last patterns to be processed...\n",
      "Final: 100 images processed, 100 hits (100.0%), 49 indexable (49.0% of hits, 49.0% overall), 49 crystals.\n",
      "Processing XY pairs:  31%|███▏      | 138/441 [19:32<45:18,  8.97s/it]WARNING: You did not specify --int-radius.\n",
      "WARNING: I will use the default values, which are probably not appropriate for your patterns.\n",
      "This is what I understood your unit cell to be:\n",
      "orthorhombic I, right handed.\n",
      "a      b      c            alpha   beta  gamma\n",
      " 80.58  94.49 103.89 A     90.00  90.00  90.00 deg\n",
      "List of indexing methods:\n",
      "   0: xgandalf-nolatt-cell      (xgandalf using cell parameters as prior information)\n",
      "Indexing parameters:\n",
      "                  Check unit cell parameters: on\n",
      "                        Check peak alignment: on\n",
      "                   Refine indexing solutions: off\n",
      " Multi-lattice indexing (\"delete and retry\"): off\n",
      "                              Retry indexing: on\n"
     ]
    },
    {
     "name": "stdout",
     "output_type": "stream",
     "text": [
      "Running for x=-512.3, y=-512.6\n"
     ]
    },
    {
     "name": "stderr",
     "output_type": "stream",
     "text": [
      "WARNING: Radius determination failed\n",
      "61 images processed, 61 hits (100.0%), 24 indexable (39.3% of hits, 39.3% overall), 24 crystals, 11.9 images/sec.\n",
      "Waiting for the last patterns to be processed...\n",
      "Final: 100 images processed, 100 hits (100.0%), 38 indexable (38.0% of hits, 38.0% overall), 38 crystals.\n",
      "Processing XY pairs:  32%|███▏      | 139/441 [19:40<45:07,  8.96s/it]WARNING: You did not specify --int-radius.\n",
      "WARNING: I will use the default values, which are probably not appropriate for your patterns.\n",
      "This is what I understood your unit cell to be:\n",
      "orthorhombic I, right handed.\n",
      "a      b      c            alpha   beta  gamma\n",
      " 80.58  94.49 103.89 A     90.00  90.00  90.00 deg\n",
      "List of indexing methods:\n",
      "   0: xgandalf-nolatt-cell      (xgandalf using cell parameters as prior information)\n",
      "Indexing parameters:\n",
      "                  Check unit cell parameters: on\n",
      "                        Check peak alignment: on\n",
      "                   Refine indexing solutions: off\n",
      " Multi-lattice indexing (\"delete and retry\"): off\n",
      "                              Retry indexing: on\n"
     ]
    },
    {
     "name": "stdout",
     "output_type": "stream",
     "text": [
      "Running for x=-512.3, y=-511.4\n"
     ]
    },
    {
     "name": "stderr",
     "output_type": "stream",
     "text": [
      "63 images processed, 63 hits (100.0%), 28 indexable (44.4% of hits, 44.4% overall), 28 crystals, 12.5 images/sec.\n",
      "Waiting for the last patterns to be processed...\n",
      "Final: 100 images processed, 100 hits (100.0%), 46 indexable (46.0% of hits, 46.0% overall), 46 crystals.\n",
      "Processing XY pairs:  32%|███▏      | 140/441 [19:49<44:57,  8.96s/it]WARNING: You did not specify --int-radius.\n",
      "WARNING: I will use the default values, which are probably not appropriate for your patterns.\n",
      "This is what I understood your unit cell to be:\n",
      "orthorhombic I, right handed.\n",
      "a      b      c            alpha   beta  gamma\n",
      " 80.58  94.49 103.89 A     90.00  90.00  90.00 deg\n",
      "List of indexing methods:\n",
      "   0: xgandalf-nolatt-cell      (xgandalf using cell parameters as prior information)\n",
      "Indexing parameters:\n",
      "                  Check unit cell parameters: on\n",
      "                        Check peak alignment: on\n",
      "                   Refine indexing solutions: off\n",
      " Multi-lattice indexing (\"delete and retry\"): off\n",
      "                              Retry indexing: on\n"
     ]
    },
    {
     "name": "stdout",
     "output_type": "stream",
     "text": [
      "Running for x=-512.2, y=-512.6\n"
     ]
    },
    {
     "name": "stderr",
     "output_type": "stream",
     "text": [
      "WARNING: Radius determination failed\n",
      "63 images processed, 63 hits (100.0%), 30 indexable (47.6% of hits, 47.6% overall), 30 crystals, 12.3 images/sec.\n",
      "Waiting for the last patterns to be processed...\n",
      "Final: 100 images processed, 100 hits (100.0%), 44 indexable (44.0% of hits, 44.0% overall), 44 crystals.\n",
      "Processing XY pairs:  32%|███▏      | 141/441 [19:58<44:51,  8.97s/it]WARNING: You did not specify --int-radius.\n",
      "WARNING: I will use the default values, which are probably not appropriate for your patterns.\n",
      "This is what I understood your unit cell to be:\n",
      "orthorhombic I, right handed.\n",
      "a      b      c            alpha   beta  gamma\n",
      " 80.58  94.49 103.89 A     90.00  90.00  90.00 deg\n",
      "List of indexing methods:\n",
      "   0: xgandalf-nolatt-cell      (xgandalf using cell parameters as prior information)\n",
      "Indexing parameters:\n",
      "                  Check unit cell parameters: on\n",
      "                        Check peak alignment: on\n",
      "                   Refine indexing solutions: off\n",
      " Multi-lattice indexing (\"delete and retry\"): off\n",
      "                              Retry indexing: on\n"
     ]
    },
    {
     "name": "stdout",
     "output_type": "stream",
     "text": [
      "Running for x=-512.2, y=-511.4\n"
     ]
    },
    {
     "name": "stderr",
     "output_type": "stream",
     "text": [
      "62 images processed, 62 hits (100.0%), 30 indexable (48.4% of hits, 48.4% overall), 30 crystals, 11.8 images/sec.\n",
      "Waiting for the last patterns to be processed...\n",
      "Final: 100 images processed, 100 hits (100.0%), 47 indexable (47.0% of hits, 47.0% overall), 47 crystals.\n",
      "Processing XY pairs:  32%|███▏      | 142/441 [20:07<44:45,  8.98s/it]WARNING: You did not specify --int-radius.\n",
      "WARNING: I will use the default values, which are probably not appropriate for your patterns.\n",
      "This is what I understood your unit cell to be:\n",
      "orthorhombic I, right handed.\n",
      "a      b      c            alpha   beta  gamma\n",
      " 80.58  94.49 103.89 A     90.00  90.00  90.00 deg\n",
      "List of indexing methods:\n",
      "   0: xgandalf-nolatt-cell      (xgandalf using cell parameters as prior information)\n",
      "Indexing parameters:\n",
      "                  Check unit cell parameters: on\n",
      "                        Check peak alignment: on\n",
      "                   Refine indexing solutions: off\n",
      " Multi-lattice indexing (\"delete and retry\"): off\n",
      "                              Retry indexing: on\n"
     ]
    },
    {
     "name": "stdout",
     "output_type": "stream",
     "text": [
      "Running for x=-512.1, y=-512.6\n"
     ]
    },
    {
     "name": "stderr",
     "output_type": "stream",
     "text": [
      "61 images processed, 61 hits (100.0%), 29 indexable (47.5% of hits, 47.5% overall), 29 crystals, 12.0 images/sec.\n",
      "Waiting for the last patterns to be processed...\n",
      "Final: 100 images processed, 100 hits (100.0%), 46 indexable (46.0% of hits, 46.0% overall), 46 crystals.\n",
      "Processing XY pairs:  32%|███▏      | 143/441 [20:16<44:21,  8.93s/it]WARNING: You did not specify --int-radius.\n",
      "WARNING: I will use the default values, which are probably not appropriate for your patterns.\n",
      "This is what I understood your unit cell to be:\n",
      "orthorhombic I, right handed.\n",
      "a      b      c            alpha   beta  gamma\n",
      " 80.58  94.49 103.89 A     90.00  90.00  90.00 deg\n",
      "List of indexing methods:\n",
      "   0: xgandalf-nolatt-cell      (xgandalf using cell parameters as prior information)\n",
      "Indexing parameters:\n",
      "                  Check unit cell parameters: on\n",
      "                        Check peak alignment: on\n",
      "                   Refine indexing solutions: off\n",
      " Multi-lattice indexing (\"delete and retry\"): off\n",
      "                              Retry indexing: on\n"
     ]
    },
    {
     "name": "stdout",
     "output_type": "stream",
     "text": [
      "Running for x=-512.1, y=-511.4\n"
     ]
    },
    {
     "name": "stderr",
     "output_type": "stream",
     "text": [
      "WARNING: Radius determination failed\n",
      "64 images processed, 64 hits (100.0%), 33 indexable (51.6% of hits, 51.6% overall), 33 crystals, 12.6 images/sec.\n",
      "Waiting for the last patterns to be processed...\n",
      "Final: 100 images processed, 100 hits (100.0%), 50 indexable (50.0% of hits, 50.0% overall), 50 crystals.\n",
      "Processing XY pairs:  33%|███▎      | 144/441 [20:25<43:53,  8.87s/it]WARNING: You did not specify --int-radius.\n",
      "WARNING: I will use the default values, which are probably not appropriate for your patterns.\n",
      "This is what I understood your unit cell to be:\n",
      "orthorhombic I, right handed.\n",
      "a      b      c            alpha   beta  gamma\n",
      " 80.58  94.49 103.89 A     90.00  90.00  90.00 deg\n",
      "List of indexing methods:\n",
      "   0: xgandalf-nolatt-cell      (xgandalf using cell parameters as prior information)\n",
      "Indexing parameters:\n",
      "                  Check unit cell parameters: on\n",
      "                        Check peak alignment: on\n",
      "                   Refine indexing solutions: off\n",
      " Multi-lattice indexing (\"delete and retry\"): off\n",
      "                              Retry indexing: on\n"
     ]
    },
    {
     "name": "stdout",
     "output_type": "stream",
     "text": [
      "Running for x=-512.0, y=-512.6\n"
     ]
    },
    {
     "name": "stderr",
     "output_type": "stream",
     "text": [
      "61 images processed, 61 hits (100.0%), 33 indexable (54.1% of hits, 54.1% overall), 33 crystals, 12.2 images/sec.\n",
      "Waiting for the last patterns to be processed...\n",
      "Final: 100 images processed, 100 hits (100.0%), 49 indexable (49.0% of hits, 49.0% overall), 49 crystals.\n",
      "Processing XY pairs:  33%|███▎      | 145/441 [20:34<44:03,  8.93s/it]WARNING: You did not specify --int-radius.\n",
      "WARNING: I will use the default values, which are probably not appropriate for your patterns.\n",
      "This is what I understood your unit cell to be:\n",
      "orthorhombic I, right handed.\n",
      "a      b      c            alpha   beta  gamma\n",
      " 80.58  94.49 103.89 A     90.00  90.00  90.00 deg\n",
      "List of indexing methods:\n",
      "   0: xgandalf-nolatt-cell      (xgandalf using cell parameters as prior information)\n",
      "Indexing parameters:\n",
      "                  Check unit cell parameters: on\n",
      "                        Check peak alignment: on\n",
      "                   Refine indexing solutions: off\n",
      " Multi-lattice indexing (\"delete and retry\"): off\n",
      "                              Retry indexing: on\n",
      "WARNING: Radius determination failed\n"
     ]
    },
    {
     "name": "stdout",
     "output_type": "stream",
     "text": [
      "Running for x=-512.0, y=-511.4\n"
     ]
    },
    {
     "name": "stderr",
     "output_type": "stream",
     "text": [
      "63 images processed, 63 hits (100.0%), 33 indexable (52.4% of hits, 52.4% overall), 33 crystals, 12.1 images/sec.\n",
      "Waiting for the last patterns to be processed...\n",
      "Final: 100 images processed, 100 hits (100.0%), 53 indexable (53.0% of hits, 53.0% overall), 53 crystals.\n",
      "Processing XY pairs:  33%|███▎      | 146/441 [20:43<43:47,  8.91s/it]WARNING: You did not specify --int-radius.\n",
      "WARNING: I will use the default values, which are probably not appropriate for your patterns.\n",
      "This is what I understood your unit cell to be:\n",
      "orthorhombic I, right handed.\n",
      "a      b      c            alpha   beta  gamma\n",
      " 80.58  94.49 103.89 A     90.00  90.00  90.00 deg\n",
      "List of indexing methods:\n",
      "   0: xgandalf-nolatt-cell      (xgandalf using cell parameters as prior information)\n",
      "Indexing parameters:\n",
      "                  Check unit cell parameters: on\n",
      "                        Check peak alignment: on\n",
      "                   Refine indexing solutions: off\n",
      " Multi-lattice indexing (\"delete and retry\"): off\n",
      "                              Retry indexing: on\n"
     ]
    },
    {
     "name": "stdout",
     "output_type": "stream",
     "text": [
      "Running for x=-511.9, y=-512.6\n"
     ]
    },
    {
     "name": "stderr",
     "output_type": "stream",
     "text": [
      "64 images processed, 64 hits (100.0%), 35 indexable (54.7% of hits, 54.7% overall), 35 crystals, 12.6 images/sec.\n",
      "Waiting for the last patterns to be processed...\n",
      "Final: 100 images processed, 100 hits (100.0%), 52 indexable (52.0% of hits, 52.0% overall), 52 crystals.\n",
      "Processing XY pairs:  33%|███▎      | 147/441 [20:51<41:56,  8.56s/it]WARNING: You did not specify --int-radius.\n",
      "WARNING: I will use the default values, which are probably not appropriate for your patterns.\n",
      "This is what I understood your unit cell to be:\n",
      "orthorhombic I, right handed.\n",
      "a      b      c            alpha   beta  gamma\n",
      " 80.58  94.49 103.89 A     90.00  90.00  90.00 deg\n",
      "List of indexing methods:\n",
      "   0: xgandalf-nolatt-cell      (xgandalf using cell parameters as prior information)\n",
      "Indexing parameters:\n",
      "                  Check unit cell parameters: on\n",
      "                        Check peak alignment: on\n",
      "                   Refine indexing solutions: off\n",
      " Multi-lattice indexing (\"delete and retry\"): off\n",
      "                              Retry indexing: on\n"
     ]
    },
    {
     "name": "stdout",
     "output_type": "stream",
     "text": [
      "Running for x=-511.9, y=-511.4\n"
     ]
    },
    {
     "name": "stderr",
     "output_type": "stream",
     "text": [
      "WARNING: Radius determination failed\n",
      "61 images processed, 61 hits (100.0%), 28 indexable (45.9% of hits, 45.9% overall), 28 crystals, 12.1 images/sec.\n",
      "Waiting for the last patterns to be processed...\n",
      "Final: 100 images processed, 100 hits (100.0%), 45 indexable (45.0% of hits, 45.0% overall), 45 crystals.\n",
      "Processing XY pairs:  34%|███▎      | 148/441 [20:59<40:46,  8.35s/it]WARNING: You did not specify --int-radius.\n",
      "WARNING: I will use the default values, which are probably not appropriate for your patterns.\n",
      "This is what I understood your unit cell to be:\n",
      "orthorhombic I, right handed.\n",
      "a      b      c            alpha   beta  gamma\n",
      " 80.58  94.49 103.89 A     90.00  90.00  90.00 deg\n",
      "List of indexing methods:\n",
      "   0: xgandalf-nolatt-cell      (xgandalf using cell parameters as prior information)\n",
      "Indexing parameters:\n",
      "                  Check unit cell parameters: on\n",
      "                        Check peak alignment: on\n",
      "                   Refine indexing solutions: off\n",
      " Multi-lattice indexing (\"delete and retry\"): off\n",
      "                              Retry indexing: on\n"
     ]
    },
    {
     "name": "stdout",
     "output_type": "stream",
     "text": [
      "Running for x=-511.8, y=-512.6\n"
     ]
    },
    {
     "name": "stderr",
     "output_type": "stream",
     "text": [
      "60 images processed, 60 hits (100.0%), 25 indexable (41.7% of hits, 41.7% overall), 25 crystals, 12.0 images/sec.\n",
      "Waiting for the last patterns to be processed...\n",
      "Final: 100 images processed, 100 hits (100.0%), 43 indexable (43.0% of hits, 43.0% overall), 43 crystals.\n",
      "Processing XY pairs:  34%|███▍      | 149/441 [21:08<41:41,  8.57s/it]WARNING: You did not specify --int-radius.\n",
      "WARNING: I will use the default values, which are probably not appropriate for your patterns.\n",
      "This is what I understood your unit cell to be:\n",
      "orthorhombic I, right handed.\n",
      "a      b      c            alpha   beta  gamma\n",
      " 80.58  94.49 103.89 A     90.00  90.00  90.00 deg\n",
      "List of indexing methods:\n",
      "   0: xgandalf-nolatt-cell      (xgandalf using cell parameters as prior information)\n",
      "Indexing parameters:\n",
      "                  Check unit cell parameters: on\n",
      "                        Check peak alignment: on\n",
      "                   Refine indexing solutions: off\n",
      " Multi-lattice indexing (\"delete and retry\"): off\n",
      "                              Retry indexing: on\n"
     ]
    },
    {
     "name": "stdout",
     "output_type": "stream",
     "text": [
      "Running for x=-511.8, y=-511.4\n"
     ]
    },
    {
     "name": "stderr",
     "output_type": "stream",
     "text": [
      "63 images processed, 63 hits (100.0%), 27 indexable (42.9% of hits, 42.9% overall), 27 crystals, 12.4 images/sec.\n",
      "Waiting for the last patterns to be processed...\n",
      "Final: 100 images processed, 100 hits (100.0%), 39 indexable (39.0% of hits, 39.0% overall), 39 crystals.\n",
      "Processing XY pairs:  34%|███▍      | 150/441 [21:17<42:14,  8.71s/it]WARNING: You did not specify --int-radius.\n",
      "WARNING: I will use the default values, which are probably not appropriate for your patterns.\n",
      "This is what I understood your unit cell to be:\n",
      "orthorhombic I, right handed.\n",
      "a      b      c            alpha   beta  gamma\n",
      " 80.58  94.49 103.89 A     90.00  90.00  90.00 deg\n",
      "List of indexing methods:\n",
      "   0: xgandalf-nolatt-cell      (xgandalf using cell parameters as prior information)\n",
      "Indexing parameters:\n",
      "                  Check unit cell parameters: on\n",
      "                        Check peak alignment: on\n",
      "                   Refine indexing solutions: off\n",
      " Multi-lattice indexing (\"delete and retry\"): off\n",
      "                              Retry indexing: on\n"
     ]
    },
    {
     "name": "stdout",
     "output_type": "stream",
     "text": [
      "Running for x=-511.7, y=-512.6\n"
     ]
    },
    {
     "name": "stderr",
     "output_type": "stream",
     "text": [
      "WARNING: Radius determination failed\n",
      "60 images processed, 60 hits (100.0%), 26 indexable (43.3% of hits, 43.3% overall), 26 crystals, 11.8 images/sec.\n",
      "Waiting for the last patterns to be processed...\n",
      "Final: 100 images processed, 100 hits (100.0%), 39 indexable (39.0% of hits, 39.0% overall), 39 crystals.\n",
      "Processing XY pairs:  34%|███▍      | 151/441 [21:26<42:51,  8.87s/it]WARNING: You did not specify --int-radius.\n",
      "WARNING: I will use the default values, which are probably not appropriate for your patterns.\n",
      "This is what I understood your unit cell to be:\n",
      "orthorhombic I, right handed.\n",
      "a      b      c            alpha   beta  gamma\n",
      " 80.58  94.49 103.89 A     90.00  90.00  90.00 deg\n",
      "List of indexing methods:\n",
      "   0: xgandalf-nolatt-cell      (xgandalf using cell parameters as prior information)\n",
      "Indexing parameters:\n",
      "                  Check unit cell parameters: on\n",
      "                        Check peak alignment: on\n",
      "                   Refine indexing solutions: off\n",
      " Multi-lattice indexing (\"delete and retry\"): off\n",
      "                              Retry indexing: on\n"
     ]
    },
    {
     "name": "stdout",
     "output_type": "stream",
     "text": [
      "Running for x=-511.7, y=-511.4\n"
     ]
    },
    {
     "name": "stderr",
     "output_type": "stream",
     "text": [
      "56 images processed, 56 hits (100.0%), 23 indexable (41.1% of hits, 41.1% overall), 23 crystals, 11.2 images/sec.\n",
      "Waiting for the last patterns to be processed...\n",
      "Final: 100 images processed, 100 hits (100.0%), 42 indexable (42.0% of hits, 42.0% overall), 42 crystals.\n",
      "Processing XY pairs:  34%|███▍      | 152/441 [21:35<42:24,  8.80s/it]WARNING: You did not specify --int-radius.\n",
      "WARNING: I will use the default values, which are probably not appropriate for your patterns.\n",
      "This is what I understood your unit cell to be:\n",
      "orthorhombic I, right handed.\n",
      "a      b      c            alpha   beta  gamma\n",
      " 80.58  94.49 103.89 A     90.00  90.00  90.00 deg\n",
      "List of indexing methods:\n",
      "   0: xgandalf-nolatt-cell      (xgandalf using cell parameters as prior information)\n",
      "Indexing parameters:\n",
      "                  Check unit cell parameters: on\n",
      "                        Check peak alignment: on\n",
      "                   Refine indexing solutions: off\n",
      " Multi-lattice indexing (\"delete and retry\"): off\n",
      "                              Retry indexing: on\n"
     ]
    },
    {
     "name": "stdout",
     "output_type": "stream",
     "text": [
      "Running for x=-511.6, y=-512.6\n"
     ]
    },
    {
     "name": "stderr",
     "output_type": "stream",
     "text": [
      "WARNING: Radius determination failed\n",
      "61 images processed, 61 hits (100.0%), 27 indexable (44.3% of hits, 44.3% overall), 27 crystals, 12.1 images/sec.\n",
      "Waiting for the last patterns to be processed...\n",
      "Final: 100 images processed, 100 hits (100.0%), 38 indexable (38.0% of hits, 38.0% overall), 38 crystals.\n",
      "Processing XY pairs:  35%|███▍      | 153/441 [21:44<42:43,  8.90s/it]WARNING: You did not specify --int-radius.\n",
      "WARNING: I will use the default values, which are probably not appropriate for your patterns.\n",
      "This is what I understood your unit cell to be:\n",
      "orthorhombic I, right handed.\n",
      "a      b      c            alpha   beta  gamma\n",
      " 80.58  94.49 103.89 A     90.00  90.00  90.00 deg\n",
      "List of indexing methods:\n",
      "   0: xgandalf-nolatt-cell      (xgandalf using cell parameters as prior information)\n",
      "Indexing parameters:\n",
      "                  Check unit cell parameters: on\n",
      "                        Check peak alignment: on\n",
      "                   Refine indexing solutions: off\n",
      " Multi-lattice indexing (\"delete and retry\"): off\n",
      "                              Retry indexing: on\n"
     ]
    },
    {
     "name": "stdout",
     "output_type": "stream",
     "text": [
      "Running for x=-511.6, y=-511.4\n"
     ]
    },
    {
     "name": "stderr",
     "output_type": "stream",
     "text": [
      "WARNING: Radius determination failed\n",
      "60 images processed, 60 hits (100.0%), 25 indexable (41.7% of hits, 41.7% overall), 25 crystals, 12.0 images/sec.\n",
      "Waiting for the last patterns to be processed...\n",
      "Final: 100 images processed, 100 hits (100.0%), 41 indexable (41.0% of hits, 41.0% overall), 41 crystals.\n",
      "Processing XY pairs:  35%|███▍      | 154/441 [21:52<42:27,  8.88s/it]WARNING: You did not specify --int-radius.\n",
      "WARNING: I will use the default values, which are probably not appropriate for your patterns.\n",
      "This is what I understood your unit cell to be:\n",
      "orthorhombic I, right handed.\n",
      "a      b      c            alpha   beta  gamma\n",
      " 80.58  94.49 103.89 A     90.00  90.00  90.00 deg\n",
      "List of indexing methods:\n",
      "   0: xgandalf-nolatt-cell      (xgandalf using cell parameters as prior information)\n",
      "Indexing parameters:\n",
      "                  Check unit cell parameters: on\n",
      "                        Check peak alignment: on\n",
      "                   Refine indexing solutions: off\n",
      " Multi-lattice indexing (\"delete and retry\"): off\n",
      "                              Retry indexing: on\n"
     ]
    },
    {
     "name": "stdout",
     "output_type": "stream",
     "text": [
      "Running for x=-511.5, y=-512.6\n"
     ]
    },
    {
     "name": "stderr",
     "output_type": "stream",
     "text": [
      "63 images processed, 63 hits (100.0%), 26 indexable (41.3% of hits, 41.3% overall), 26 crystals, 12.6 images/sec.\n",
      "Waiting for the last patterns to be processed...\n",
      "Final: 100 images processed, 100 hits (100.0%), 36 indexable (36.0% of hits, 36.0% overall), 36 crystals.\n",
      "Processing XY pairs:  35%|███▌      | 155/441 [22:02<42:49,  8.98s/it]WARNING: You did not specify --int-radius.\n",
      "WARNING: I will use the default values, which are probably not appropriate for your patterns.\n",
      "This is what I understood your unit cell to be:\n",
      "orthorhombic I, right handed.\n",
      "a      b      c            alpha   beta  gamma\n",
      " 80.58  94.49 103.89 A     90.00  90.00  90.00 deg\n",
      "List of indexing methods:\n",
      "   0: xgandalf-nolatt-cell      (xgandalf using cell parameters as prior information)\n",
      "Indexing parameters:\n",
      "                  Check unit cell parameters: on\n",
      "                        Check peak alignment: on\n",
      "                   Refine indexing solutions: off\n",
      " Multi-lattice indexing (\"delete and retry\"): off\n",
      "                              Retry indexing: on\n"
     ]
    },
    {
     "name": "stdout",
     "output_type": "stream",
     "text": [
      "Running for x=-511.5, y=-511.4\n"
     ]
    },
    {
     "name": "stderr",
     "output_type": "stream",
     "text": [
      "WARNING: Radius determination failed\n",
      "59 images processed, 59 hits (100.0%), 24 indexable (40.7% of hits, 40.7% overall), 24 crystals, 11.8 images/sec.\n",
      "WARNING: Radius determination failed\n",
      "Waiting for the last patterns to be processed...\n",
      "Final: 100 images processed, 100 hits (100.0%), 38 indexable (38.0% of hits, 38.0% overall), 38 crystals.\n",
      "Processing XY pairs:  35%|███▌      | 156/441 [22:11<43:19,  9.12s/it]WARNING: You did not specify --int-radius.\n",
      "WARNING: I will use the default values, which are probably not appropriate for your patterns.\n",
      "This is what I understood your unit cell to be:\n",
      "orthorhombic I, right handed.\n",
      "a      b      c            alpha   beta  gamma\n",
      " 80.58  94.49 103.89 A     90.00  90.00  90.00 deg\n",
      "List of indexing methods:\n",
      "   0: xgandalf-nolatt-cell      (xgandalf using cell parameters as prior information)\n",
      "Indexing parameters:\n",
      "                  Check unit cell parameters: on\n",
      "                        Check peak alignment: on\n",
      "                   Refine indexing solutions: off\n",
      " Multi-lattice indexing (\"delete and retry\"): off\n",
      "                              Retry indexing: on\n"
     ]
    },
    {
     "name": "stdout",
     "output_type": "stream",
     "text": [
      "Running for x=-511.4, y=-512.6\n"
     ]
    },
    {
     "name": "stderr",
     "output_type": "stream",
     "text": [
      "59 images processed, 59 hits (100.0%), 18 indexable (30.5% of hits, 30.5% overall), 18 crystals, 11.3 images/sec.\n",
      "Waiting for the last patterns to be processed...\n",
      "Final: 100 images processed, 100 hits (100.0%), 29 indexable (29.0% of hits, 29.0% overall), 29 crystals.\n",
      "Processing XY pairs:  36%|███▌      | 157/441 [22:20<43:19,  9.15s/it]WARNING: You did not specify --int-radius.\n",
      "WARNING: I will use the default values, which are probably not appropriate for your patterns.\n",
      "This is what I understood your unit cell to be:\n",
      "orthorhombic I, right handed.\n",
      "a      b      c            alpha   beta  gamma\n",
      " 80.58  94.49 103.89 A     90.00  90.00  90.00 deg\n",
      "List of indexing methods:\n",
      "   0: xgandalf-nolatt-cell      (xgandalf using cell parameters as prior information)\n",
      "Indexing parameters:\n",
      "                  Check unit cell parameters: on\n",
      "                        Check peak alignment: on\n",
      "                   Refine indexing solutions: off\n",
      " Multi-lattice indexing (\"delete and retry\"): off\n",
      "                              Retry indexing: on\n"
     ]
    },
    {
     "name": "stdout",
     "output_type": "stream",
     "text": [
      "Running for x=-511.4, y=-512.5\n"
     ]
    },
    {
     "name": "stderr",
     "output_type": "stream",
     "text": [
      "WARNING: Radius determination failed\n",
      "61 images processed, 61 hits (100.0%), 19 indexable (31.1% of hits, 31.1% overall), 19 crystals, 11.7 images/sec.\n",
      "Waiting for the last patterns to be processed...\n",
      "Final: 100 images processed, 100 hits (100.0%), 32 indexable (32.0% of hits, 32.0% overall), 32 crystals.\n",
      "Processing XY pairs:  36%|███▌      | 158/441 [22:29<41:44,  8.85s/it]WARNING: You did not specify --int-radius.\n",
      "WARNING: I will use the default values, which are probably not appropriate for your patterns.\n",
      "This is what I understood your unit cell to be:\n",
      "orthorhombic I, right handed.\n",
      "a      b      c            alpha   beta  gamma\n",
      " 80.58  94.49 103.89 A     90.00  90.00  90.00 deg\n",
      "List of indexing methods:\n",
      "   0: xgandalf-nolatt-cell      (xgandalf using cell parameters as prior information)\n",
      "Indexing parameters:\n",
      "                  Check unit cell parameters: on\n",
      "                        Check peak alignment: on\n",
      "                   Refine indexing solutions: off\n",
      " Multi-lattice indexing (\"delete and retry\"): off\n",
      "                              Retry indexing: on\n",
      "WARNING: Radius determination failed\n"
     ]
    },
    {
     "name": "stdout",
     "output_type": "stream",
     "text": [
      "Running for x=-511.4, y=-512.4\n"
     ]
    },
    {
     "name": "stderr",
     "output_type": "stream",
     "text": [
      "WARNING: Radius determination failed\n",
      "57 images processed, 57 hits (100.0%), 23 indexable (40.4% of hits, 40.4% overall), 23 crystals, 11.3 images/sec.\n",
      "Waiting for the last patterns to be processed...\n",
      "Final: 100 images processed, 100 hits (100.0%), 38 indexable (38.0% of hits, 38.0% overall), 38 crystals.\n",
      "Processing XY pairs:  36%|███▌      | 159/441 [22:38<41:56,  8.92s/it]WARNING: You did not specify --int-radius.\n",
      "WARNING: I will use the default values, which are probably not appropriate for your patterns.\n",
      "This is what I understood your unit cell to be:\n",
      "orthorhombic I, right handed.\n",
      "a      b      c            alpha   beta  gamma\n",
      " 80.58  94.49 103.89 A     90.00  90.00  90.00 deg\n",
      "List of indexing methods:\n",
      "   0: xgandalf-nolatt-cell      (xgandalf using cell parameters as prior information)\n",
      "Indexing parameters:\n",
      "                  Check unit cell parameters: on\n",
      "                        Check peak alignment: on\n",
      "                   Refine indexing solutions: off\n",
      " Multi-lattice indexing (\"delete and retry\"): off\n",
      "                              Retry indexing: on\n"
     ]
    },
    {
     "name": "stdout",
     "output_type": "stream",
     "text": [
      "Running for x=-511.4, y=-512.3\n"
     ]
    },
    {
     "name": "stderr",
     "output_type": "stream",
     "text": [
      "61 images processed, 61 hits (100.0%), 30 indexable (49.2% of hits, 49.2% overall), 30 crystals, 12.1 images/sec.\n",
      "Waiting for the last patterns to be processed...\n",
      "Final: 100 images processed, 100 hits (100.0%), 46 indexable (46.0% of hits, 46.0% overall), 46 crystals.\n",
      "Processing XY pairs:  36%|███▋      | 160/441 [22:45<39:47,  8.50s/it]WARNING: You did not specify --int-radius.\n",
      "WARNING: I will use the default values, which are probably not appropriate for your patterns.\n",
      "This is what I understood your unit cell to be:\n",
      "orthorhombic I, right handed.\n",
      "a      b      c            alpha   beta  gamma\n",
      " 80.58  94.49 103.89 A     90.00  90.00  90.00 deg\n",
      "List of indexing methods:\n",
      "   0: xgandalf-nolatt-cell      (xgandalf using cell parameters as prior information)\n",
      "Indexing parameters:\n",
      "                  Check unit cell parameters: on\n",
      "                        Check peak alignment: on\n",
      "                   Refine indexing solutions: off\n",
      " Multi-lattice indexing (\"delete and retry\"): off\n",
      "                              Retry indexing: on\n"
     ]
    },
    {
     "name": "stdout",
     "output_type": "stream",
     "text": [
      "Running for x=-511.4, y=-512.2\n"
     ]
    },
    {
     "name": "stderr",
     "output_type": "stream",
     "text": [
      "61 images processed, 61 hits (100.0%), 24 indexable (39.3% of hits, 39.3% overall), 24 crystals, 12.1 images/sec.\n",
      "Waiting for the last patterns to be processed...\n",
      "Final: 100 images processed, 100 hits (100.0%), 36 indexable (36.0% of hits, 36.0% overall), 36 crystals.\n",
      "Processing XY pairs:  37%|███▋      | 161/441 [22:54<40:30,  8.68s/it]WARNING: You did not specify --int-radius.\n",
      "WARNING: I will use the default values, which are probably not appropriate for your patterns.\n",
      "This is what I understood your unit cell to be:\n",
      "orthorhombic I, right handed.\n",
      "a      b      c            alpha   beta  gamma\n",
      " 80.58  94.49 103.89 A     90.00  90.00  90.00 deg\n",
      "List of indexing methods:\n",
      "   0: xgandalf-nolatt-cell      (xgandalf using cell parameters as prior information)\n",
      "Indexing parameters:\n",
      "                  Check unit cell parameters: on\n",
      "                        Check peak alignment: on\n",
      "                   Refine indexing solutions: off\n",
      " Multi-lattice indexing (\"delete and retry\"): off\n",
      "                              Retry indexing: on\n"
     ]
    },
    {
     "name": "stdout",
     "output_type": "stream",
     "text": [
      "Running for x=-511.4, y=-512.1\n"
     ]
    },
    {
     "name": "stderr",
     "output_type": "stream",
     "text": [
      "65 images processed, 65 hits (100.0%), 28 indexable (43.1% of hits, 43.1% overall), 28 crystals, 12.7 images/sec.\n",
      "Waiting for the last patterns to be processed...\n",
      "Final: 100 images processed, 100 hits (100.0%), 41 indexable (41.0% of hits, 41.0% overall), 41 crystals.\n",
      "Processing XY pairs:  37%|███▋      | 162/441 [23:02<39:01,  8.39s/it]WARNING: You did not specify --int-radius.\n",
      "WARNING: I will use the default values, which are probably not appropriate for your patterns.\n",
      "This is what I understood your unit cell to be:\n",
      "orthorhombic I, right handed.\n",
      "a      b      c            alpha   beta  gamma\n",
      " 80.58  94.49 103.89 A     90.00  90.00  90.00 deg\n",
      "List of indexing methods:\n",
      "   0: xgandalf-nolatt-cell      (xgandalf using cell parameters as prior information)\n",
      "Indexing parameters:\n",
      "                  Check unit cell parameters: on\n",
      "                        Check peak alignment: on\n",
      "                   Refine indexing solutions: off\n",
      " Multi-lattice indexing (\"delete and retry\"): off\n",
      "                              Retry indexing: on\n"
     ]
    },
    {
     "name": "stdout",
     "output_type": "stream",
     "text": [
      "Running for x=-511.4, y=-512.0\n"
     ]
    },
    {
     "name": "stderr",
     "output_type": "stream",
     "text": [
      "60 images processed, 60 hits (100.0%), 26 indexable (43.3% of hits, 43.3% overall), 26 crystals, 11.6 images/sec.\n",
      "Waiting for the last patterns to be processed...\n",
      "Final: 100 images processed, 100 hits (100.0%), 40 indexable (40.0% of hits, 40.0% overall), 40 crystals.\n",
      "Processing XY pairs:  37%|███▋      | 163/441 [23:11<39:57,  8.62s/it]WARNING: You did not specify --int-radius.\n",
      "WARNING: I will use the default values, which are probably not appropriate for your patterns.\n",
      "This is what I understood your unit cell to be:\n",
      "orthorhombic I, right handed.\n",
      "a      b      c            alpha   beta  gamma\n",
      " 80.58  94.49 103.89 A     90.00  90.00  90.00 deg\n",
      "List of indexing methods:\n",
      "   0: xgandalf-nolatt-cell      (xgandalf using cell parameters as prior information)\n",
      "Indexing parameters:\n",
      "                  Check unit cell parameters: on\n",
      "                        Check peak alignment: on\n",
      "                   Refine indexing solutions: off\n",
      " Multi-lattice indexing (\"delete and retry\"): off\n",
      "                              Retry indexing: on\n"
     ]
    },
    {
     "name": "stdout",
     "output_type": "stream",
     "text": [
      "Running for x=-511.4, y=-511.9\n"
     ]
    },
    {
     "name": "stderr",
     "output_type": "stream",
     "text": [
      "61 images processed, 61 hits (100.0%), 26 indexable (42.6% of hits, 42.6% overall), 26 crystals, 12.0 images/sec.\n",
      "Waiting for the last patterns to be processed...\n",
      "Final: 100 images processed, 100 hits (100.0%), 44 indexable (44.0% of hits, 44.0% overall), 44 crystals.\n",
      "Processing XY pairs:  37%|███▋      | 164/441 [23:20<39:58,  8.66s/it]WARNING: You did not specify --int-radius.\n",
      "WARNING: I will use the default values, which are probably not appropriate for your patterns.\n",
      "This is what I understood your unit cell to be:\n",
      "orthorhombic I, right handed.\n",
      "a      b      c            alpha   beta  gamma\n",
      " 80.58  94.49 103.89 A     90.00  90.00  90.00 deg\n",
      "List of indexing methods:\n",
      "   0: xgandalf-nolatt-cell      (xgandalf using cell parameters as prior information)\n",
      "Indexing parameters:\n",
      "                  Check unit cell parameters: on\n",
      "                        Check peak alignment: on\n",
      "                   Refine indexing solutions: off\n",
      " Multi-lattice indexing (\"delete and retry\"): off\n",
      "                              Retry indexing: on\n"
     ]
    },
    {
     "name": "stdout",
     "output_type": "stream",
     "text": [
      "Running for x=-511.4, y=-511.8\n"
     ]
    },
    {
     "name": "stderr",
     "output_type": "stream",
     "text": [
      "61 images processed, 61 hits (100.0%), 24 indexable (39.3% of hits, 39.3% overall), 24 crystals, 11.8 images/sec.\n",
      "Waiting for the last patterns to be processed...\n",
      "Final: 100 images processed, 100 hits (100.0%), 38 indexable (38.0% of hits, 38.0% overall), 38 crystals.\n",
      "Processing XY pairs:  37%|███▋      | 165/441 [23:28<39:29,  8.58s/it]WARNING: You did not specify --int-radius.\n",
      "WARNING: I will use the default values, which are probably not appropriate for your patterns.\n",
      "This is what I understood your unit cell to be:\n",
      "orthorhombic I, right handed.\n",
      "a      b      c            alpha   beta  gamma\n",
      " 80.58  94.49 103.89 A     90.00  90.00  90.00 deg\n",
      "List of indexing methods:\n",
      "   0: xgandalf-nolatt-cell      (xgandalf using cell parameters as prior information)\n",
      "Indexing parameters:\n",
      "                  Check unit cell parameters: on\n",
      "                        Check peak alignment: on\n",
      "                   Refine indexing solutions: off\n",
      " Multi-lattice indexing (\"delete and retry\"): off\n",
      "                              Retry indexing: on\n"
     ]
    },
    {
     "name": "stdout",
     "output_type": "stream",
     "text": [
      "Running for x=-511.4, y=-511.7\n"
     ]
    },
    {
     "name": "stderr",
     "output_type": "stream",
     "text": [
      "61 images processed, 61 hits (100.0%), 28 indexable (45.9% of hits, 45.9% overall), 28 crystals, 11.7 images/sec.\n",
      "Waiting for the last patterns to be processed...\n",
      "Final: 100 images processed, 100 hits (100.0%), 44 indexable (44.0% of hits, 44.0% overall), 44 crystals.\n",
      "Processing XY pairs:  38%|███▊      | 166/441 [23:38<40:18,  8.79s/it]WARNING: You did not specify --int-radius.\n",
      "WARNING: I will use the default values, which are probably not appropriate for your patterns.\n",
      "This is what I understood your unit cell to be:\n",
      "orthorhombic I, right handed.\n",
      "a      b      c            alpha   beta  gamma\n",
      " 80.58  94.49 103.89 A     90.00  90.00  90.00 deg\n",
      "List of indexing methods:\n",
      "   0: xgandalf-nolatt-cell      (xgandalf using cell parameters as prior information)\n",
      "Indexing parameters:\n",
      "                  Check unit cell parameters: on\n",
      "                        Check peak alignment: on\n",
      "                   Refine indexing solutions: off\n",
      " Multi-lattice indexing (\"delete and retry\"): off\n",
      "                              Retry indexing: on\n"
     ]
    },
    {
     "name": "stdout",
     "output_type": "stream",
     "text": [
      "Running for x=-511.4, y=-511.6\n"
     ]
    },
    {
     "name": "stderr",
     "output_type": "stream",
     "text": [
      "59 images processed, 59 hits (100.0%), 23 indexable (39.0% of hits, 39.0% overall), 23 crystals, 11.7 images/sec.\n",
      "Waiting for the last patterns to be processed...\n",
      "Final: 100 images processed, 100 hits (100.0%), 42 indexable (42.0% of hits, 42.0% overall), 42 crystals.\n",
      "Processing XY pairs:  38%|███▊      | 167/441 [23:46<39:07,  8.57s/it]WARNING: You did not specify --int-radius.\n",
      "WARNING: I will use the default values, which are probably not appropriate for your patterns.\n",
      "This is what I understood your unit cell to be:\n",
      "orthorhombic I, right handed.\n",
      "a      b      c            alpha   beta  gamma\n",
      " 80.58  94.49 103.89 A     90.00  90.00  90.00 deg\n",
      "List of indexing methods:\n",
      "   0: xgandalf-nolatt-cell      (xgandalf using cell parameters as prior information)\n",
      "Indexing parameters:\n",
      "                  Check unit cell parameters: on\n",
      "                        Check peak alignment: on\n",
      "                   Refine indexing solutions: off\n",
      " Multi-lattice indexing (\"delete and retry\"): off\n",
      "                              Retry indexing: on\n"
     ]
    },
    {
     "name": "stdout",
     "output_type": "stream",
     "text": [
      "Running for x=-511.4, y=-511.5\n"
     ]
    },
    {
     "name": "stderr",
     "output_type": "stream",
     "text": [
      "60 images processed, 60 hits (100.0%), 23 indexable (38.3% of hits, 38.3% overall), 23 crystals, 11.8 images/sec.\n",
      "Waiting for the last patterns to be processed...\n",
      "Final: 100 images processed, 100 hits (100.0%), 35 indexable (35.0% of hits, 35.0% overall), 35 crystals.\n",
      "Processing XY pairs:  38%|███▊      | 168/441 [23:55<39:46,  8.74s/it]WARNING: You did not specify --int-radius.\n",
      "WARNING: I will use the default values, which are probably not appropriate for your patterns.\n",
      "This is what I understood your unit cell to be:\n",
      "orthorhombic I, right handed.\n",
      "a      b      c            alpha   beta  gamma\n",
      " 80.58  94.49 103.89 A     90.00  90.00  90.00 deg\n",
      "List of indexing methods:\n",
      "   0: xgandalf-nolatt-cell      (xgandalf using cell parameters as prior information)\n",
      "Indexing parameters:\n",
      "                  Check unit cell parameters: on\n",
      "                        Check peak alignment: on\n",
      "                   Refine indexing solutions: off\n",
      " Multi-lattice indexing (\"delete and retry\"): off\n",
      "                              Retry indexing: on\n"
     ]
    },
    {
     "name": "stdout",
     "output_type": "stream",
     "text": [
      "Running for x=-511.4, y=-511.4\n"
     ]
    },
    {
     "name": "stderr",
     "output_type": "stream",
     "text": [
      "59 images processed, 59 hits (100.0%), 19 indexable (32.2% of hits, 32.2% overall), 19 crystals, 11.8 images/sec.\n",
      "Waiting for the last patterns to be processed...\n",
      "Final: 100 images processed, 100 hits (100.0%), 26 indexable (26.0% of hits, 26.0% overall), 26 crystals.\n",
      "Processing XY pairs:  38%|███▊      | 169/441 [24:04<40:27,  8.92s/it]WARNING: You did not specify --int-radius.\n",
      "WARNING: I will use the default values, which are probably not appropriate for your patterns.\n",
      "This is what I understood your unit cell to be:\n",
      "orthorhombic I, right handed.\n",
      "a      b      c            alpha   beta  gamma\n",
      " 80.58  94.49 103.89 A     90.00  90.00  90.00 deg\n",
      "List of indexing methods:\n",
      "   0: xgandalf-nolatt-cell      (xgandalf using cell parameters as prior information)\n",
      "Indexing parameters:\n",
      "                  Check unit cell parameters: on\n",
      "                        Check peak alignment: on\n",
      "                   Refine indexing solutions: off\n",
      " Multi-lattice indexing (\"delete and retry\"): off\n",
      "                              Retry indexing: on\n"
     ]
    },
    {
     "name": "stdout",
     "output_type": "stream",
     "text": [
      "Running for x=-512.7, y=-512.7\n"
     ]
    },
    {
     "name": "stderr",
     "output_type": "stream",
     "text": [
      "56 images processed, 56 hits (100.0%), 17 indexable (30.4% of hits, 30.4% overall), 17 crystals, 11.2 images/sec.\n",
      "Waiting for the last patterns to be processed...\n",
      "Final: 100 images processed, 100 hits (100.0%), 27 indexable (27.0% of hits, 27.0% overall), 27 crystals.\n",
      "Processing XY pairs:  39%|███▊      | 170/441 [24:14<41:02,  9.09s/it]WARNING: You did not specify --int-radius.\n",
      "WARNING: I will use the default values, which are probably not appropriate for your patterns.\n",
      "This is what I understood your unit cell to be:\n",
      "orthorhombic I, right handed.\n",
      "a      b      c            alpha   beta  gamma\n",
      " 80.58  94.49 103.89 A     90.00  90.00  90.00 deg\n",
      "List of indexing methods:\n",
      "   0: xgandalf-nolatt-cell      (xgandalf using cell parameters as prior information)\n",
      "Indexing parameters:\n",
      "                  Check unit cell parameters: on\n",
      "                        Check peak alignment: on\n",
      "                   Refine indexing solutions: off\n",
      " Multi-lattice indexing (\"delete and retry\"): off\n",
      "                              Retry indexing: on\n"
     ]
    },
    {
     "name": "stdout",
     "output_type": "stream",
     "text": [
      "Running for x=-512.7, y=-512.6\n"
     ]
    },
    {
     "name": "stderr",
     "output_type": "stream",
     "text": [
      "56 images processed, 56 hits (100.0%), 13 indexable (23.2% of hits, 23.2% overall), 13 crystals, 11.1 images/sec.\n",
      "Waiting for the last patterns to be processed...\n",
      "Final: 100 images processed, 100 hits (100.0%), 26 indexable (26.0% of hits, 26.0% overall), 26 crystals.\n",
      "Processing XY pairs:  39%|███▉      | 171/441 [24:23<41:12,  9.16s/it]WARNING: You did not specify --int-radius.\n",
      "WARNING: I will use the default values, which are probably not appropriate for your patterns.\n",
      "This is what I understood your unit cell to be:\n",
      "orthorhombic I, right handed.\n",
      "a      b      c            alpha   beta  gamma\n",
      " 80.58  94.49 103.89 A     90.00  90.00  90.00 deg\n",
      "List of indexing methods:\n",
      "   0: xgandalf-nolatt-cell      (xgandalf using cell parameters as prior information)\n",
      "Indexing parameters:\n",
      "                  Check unit cell parameters: on\n",
      "                        Check peak alignment: on\n",
      "                   Refine indexing solutions: off\n",
      " Multi-lattice indexing (\"delete and retry\"): off\n",
      "                              Retry indexing: on\n"
     ]
    },
    {
     "name": "stdout",
     "output_type": "stream",
     "text": [
      "Running for x=-512.7, y=-512.5\n"
     ]
    },
    {
     "name": "stderr",
     "output_type": "stream",
     "text": [
      "59 images processed, 59 hits (100.0%), 16 indexable (27.1% of hits, 27.1% overall), 16 crystals, 11.7 images/sec.\n",
      "Waiting for the last patterns to be processed...\n",
      "Final: 100 images processed, 100 hits (100.0%), 27 indexable (27.0% of hits, 27.0% overall), 27 crystals.\n",
      "Processing XY pairs:  39%|███▉      | 172/441 [24:32<41:10,  9.18s/it]WARNING: You did not specify --int-radius.\n",
      "WARNING: I will use the default values, which are probably not appropriate for your patterns.\n",
      "This is what I understood your unit cell to be:\n",
      "orthorhombic I, right handed.\n",
      "a      b      c            alpha   beta  gamma\n",
      " 80.58  94.49 103.89 A     90.00  90.00  90.00 deg\n",
      "List of indexing methods:\n",
      "   0: xgandalf-nolatt-cell      (xgandalf using cell parameters as prior information)\n",
      "Indexing parameters:\n",
      "                  Check unit cell parameters: on\n",
      "                        Check peak alignment: on\n",
      "                   Refine indexing solutions: off\n",
      " Multi-lattice indexing (\"delete and retry\"): off\n",
      "                              Retry indexing: on\n"
     ]
    },
    {
     "name": "stdout",
     "output_type": "stream",
     "text": [
      "Running for x=-512.7, y=-512.4\n"
     ]
    },
    {
     "name": "stderr",
     "output_type": "stream",
     "text": [
      "60 images processed, 60 hits (100.0%), 22 indexable (36.7% of hits, 36.7% overall), 22 crystals, 11.7 images/sec.\n",
      "Waiting for the last patterns to be processed...\n",
      "Final: 100 images processed, 100 hits (100.0%), 37 indexable (37.0% of hits, 37.0% overall), 37 crystals.\n",
      "Processing XY pairs:  39%|███▉      | 173/441 [24:41<40:50,  9.14s/it]WARNING: You did not specify --int-radius.\n",
      "WARNING: I will use the default values, which are probably not appropriate for your patterns.\n",
      "This is what I understood your unit cell to be:\n",
      "orthorhombic I, right handed.\n",
      "a      b      c            alpha   beta  gamma\n",
      " 80.58  94.49 103.89 A     90.00  90.00  90.00 deg\n",
      "List of indexing methods:\n",
      "   0: xgandalf-nolatt-cell      (xgandalf using cell parameters as prior information)\n",
      "Indexing parameters:\n",
      "                  Check unit cell parameters: on\n",
      "                        Check peak alignment: on\n",
      "                   Refine indexing solutions: off\n",
      " Multi-lattice indexing (\"delete and retry\"): off\n",
      "                              Retry indexing: on\n"
     ]
    },
    {
     "name": "stdout",
     "output_type": "stream",
     "text": [
      "Running for x=-512.7, y=-512.3\n"
     ]
    },
    {
     "name": "stderr",
     "output_type": "stream",
     "text": [
      "WARNING: Radius determination failed\n",
      "60 images processed, 60 hits (100.0%), 29 indexable (48.3% of hits, 48.3% overall), 29 crystals, 11.9 images/sec.\n",
      "Waiting for the last patterns to be processed...\n",
      "Final: 100 images processed, 100 hits (100.0%), 45 indexable (45.0% of hits, 45.0% overall), 45 crystals.\n",
      "Processing XY pairs:  39%|███▉      | 174/441 [24:50<40:50,  9.18s/it]WARNING: You did not specify --int-radius.\n",
      "WARNING: I will use the default values, which are probably not appropriate for your patterns.\n",
      "This is what I understood your unit cell to be:\n",
      "orthorhombic I, right handed.\n",
      "a      b      c            alpha   beta  gamma\n",
      " 80.58  94.49 103.89 A     90.00  90.00  90.00 deg\n",
      "List of indexing methods:\n",
      "   0: xgandalf-nolatt-cell      (xgandalf using cell parameters as prior information)\n",
      "Indexing parameters:\n",
      "                  Check unit cell parameters: on\n",
      "                        Check peak alignment: on\n",
      "                   Refine indexing solutions: off\n",
      " Multi-lattice indexing (\"delete and retry\"): off\n",
      "                              Retry indexing: on\n"
     ]
    },
    {
     "name": "stdout",
     "output_type": "stream",
     "text": [
      "Running for x=-512.7, y=-512.2\n"
     ]
    },
    {
     "name": "stderr",
     "output_type": "stream",
     "text": [
      "59 images processed, 59 hits (100.0%), 29 indexable (49.2% of hits, 49.2% overall), 29 crystals, 11.5 images/sec.\n",
      "Waiting for the last patterns to be processed...\n",
      "Final: 100 images processed, 100 hits (100.0%), 44 indexable (44.0% of hits, 44.0% overall), 44 crystals.\n",
      "Processing XY pairs:  40%|███▉      | 175/441 [25:00<40:45,  9.19s/it]WARNING: You did not specify --int-radius.\n",
      "WARNING: I will use the default values, which are probably not appropriate for your patterns.\n",
      "This is what I understood your unit cell to be:\n",
      "orthorhombic I, right handed.\n",
      "a      b      c            alpha   beta  gamma\n",
      " 80.58  94.49 103.89 A     90.00  90.00  90.00 deg\n",
      "List of indexing methods:\n",
      "   0: xgandalf-nolatt-cell      (xgandalf using cell parameters as prior information)\n",
      "Indexing parameters:\n",
      "                  Check unit cell parameters: on\n",
      "                        Check peak alignment: on\n",
      "                   Refine indexing solutions: off\n",
      " Multi-lattice indexing (\"delete and retry\"): off\n",
      "                              Retry indexing: on\n"
     ]
    },
    {
     "name": "stdout",
     "output_type": "stream",
     "text": [
      "Running for x=-512.7, y=-512.1\n"
     ]
    },
    {
     "name": "stderr",
     "output_type": "stream",
     "text": [
      "62 images processed, 62 hits (100.0%), 27 indexable (43.5% of hits, 43.5% overall), 27 crystals, 12.4 images/sec.\n",
      "Waiting for the last patterns to be processed...\n",
      "Final: 100 images processed, 100 hits (100.0%), 42 indexable (42.0% of hits, 42.0% overall), 42 crystals.\n",
      "Processing XY pairs:  40%|███▉      | 176/441 [25:08<40:07,  9.08s/it]WARNING: You did not specify --int-radius.\n",
      "WARNING: I will use the default values, which are probably not appropriate for your patterns.\n",
      "This is what I understood your unit cell to be:\n",
      "orthorhombic I, right handed.\n",
      "a      b      c            alpha   beta  gamma\n",
      " 80.58  94.49 103.89 A     90.00  90.00  90.00 deg\n",
      "List of indexing methods:\n",
      "   0: xgandalf-nolatt-cell      (xgandalf using cell parameters as prior information)\n",
      "Indexing parameters:\n",
      "                  Check unit cell parameters: on\n",
      "                        Check peak alignment: on\n",
      "                   Refine indexing solutions: off\n",
      " Multi-lattice indexing (\"delete and retry\"): off\n",
      "                              Retry indexing: on\n"
     ]
    },
    {
     "name": "stdout",
     "output_type": "stream",
     "text": [
      "Running for x=-512.7, y=-512.0\n"
     ]
    },
    {
     "name": "stderr",
     "output_type": "stream",
     "text": [
      "61 images processed, 61 hits (100.0%), 33 indexable (54.1% of hits, 54.1% overall), 33 crystals, 12.1 images/sec.\n",
      "Waiting for the last patterns to be processed...\n",
      "Final: 100 images processed, 100 hits (100.0%), 51 indexable (51.0% of hits, 51.0% overall), 51 crystals.\n",
      "Processing XY pairs:  40%|████      | 177/441 [25:17<38:41,  8.79s/it]WARNING: You did not specify --int-radius.\n",
      "WARNING: I will use the default values, which are probably not appropriate for your patterns.\n",
      "This is what I understood your unit cell to be:\n",
      "orthorhombic I, right handed.\n",
      "a      b      c            alpha   beta  gamma\n",
      " 80.58  94.49 103.89 A     90.00  90.00  90.00 deg\n",
      "List of indexing methods:\n",
      "   0: xgandalf-nolatt-cell      (xgandalf using cell parameters as prior information)\n",
      "Indexing parameters:\n",
      "                  Check unit cell parameters: on\n",
      "                        Check peak alignment: on\n",
      "                   Refine indexing solutions: off\n",
      " Multi-lattice indexing (\"delete and retry\"): off\n",
      "                              Retry indexing: on\n"
     ]
    },
    {
     "name": "stdout",
     "output_type": "stream",
     "text": [
      "Running for x=-512.7, y=-511.9\n"
     ]
    },
    {
     "name": "stderr",
     "output_type": "stream",
     "text": [
      "63 images processed, 63 hits (100.0%), 33 indexable (52.4% of hits, 52.4% overall), 33 crystals, 12.4 images/sec.\n",
      "Waiting for the last patterns to be processed...\n",
      "Final: 100 images processed, 100 hits (100.0%), 49 indexable (49.0% of hits, 49.0% overall), 49 crystals.\n",
      "Processing XY pairs:  40%|████      | 178/441 [25:25<38:32,  8.79s/it]WARNING: You did not specify --int-radius.\n",
      "WARNING: I will use the default values, which are probably not appropriate for your patterns.\n",
      "This is what I understood your unit cell to be:\n",
      "orthorhombic I, right handed.\n",
      "a      b      c            alpha   beta  gamma\n",
      " 80.58  94.49 103.89 A     90.00  90.00  90.00 deg\n",
      "List of indexing methods:\n",
      "   0: xgandalf-nolatt-cell      (xgandalf using cell parameters as prior information)\n",
      "Indexing parameters:\n",
      "                  Check unit cell parameters: on\n",
      "                        Check peak alignment: on\n",
      "                   Refine indexing solutions: off\n",
      " Multi-lattice indexing (\"delete and retry\"): off\n",
      "                              Retry indexing: on\n"
     ]
    },
    {
     "name": "stdout",
     "output_type": "stream",
     "text": [
      "Running for x=-512.7, y=-511.8\n"
     ]
    },
    {
     "name": "stderr",
     "output_type": "stream",
     "text": [
      "64 images processed, 64 hits (100.0%), 27 indexable (42.2% of hits, 42.2% overall), 27 crystals, 12.2 images/sec.\n",
      "Waiting for the last patterns to be processed...\n",
      "Final: 100 images processed, 100 hits (100.0%), 42 indexable (42.0% of hits, 42.0% overall), 42 crystals.\n",
      "Processing XY pairs:  41%|████      | 179/441 [25:33<37:14,  8.53s/it]WARNING: You did not specify --int-radius.\n",
      "WARNING: I will use the default values, which are probably not appropriate for your patterns.\n",
      "This is what I understood your unit cell to be:\n",
      "orthorhombic I, right handed.\n",
      "a      b      c            alpha   beta  gamma\n",
      " 80.58  94.49 103.89 A     90.00  90.00  90.00 deg\n",
      "List of indexing methods:\n",
      "   0: xgandalf-nolatt-cell      (xgandalf using cell parameters as prior information)\n",
      "Indexing parameters:\n",
      "                  Check unit cell parameters: on\n",
      "                        Check peak alignment: on\n",
      "                   Refine indexing solutions: off\n",
      " Multi-lattice indexing (\"delete and retry\"): off\n",
      "                              Retry indexing: on\n"
     ]
    },
    {
     "name": "stdout",
     "output_type": "stream",
     "text": [
      "Running for x=-512.7, y=-511.7\n"
     ]
    },
    {
     "name": "stderr",
     "output_type": "stream",
     "text": [
      "64 images processed, 64 hits (100.0%), 27 indexable (42.2% of hits, 42.2% overall), 27 crystals, 12.8 images/sec.\n",
      "Waiting for the last patterns to be processed...\n",
      "Final: 100 images processed, 100 hits (100.0%), 44 indexable (44.0% of hits, 44.0% overall), 44 crystals.\n",
      "Processing XY pairs:  41%|████      | 180/441 [25:41<35:45,  8.22s/it]WARNING: You did not specify --int-radius.\n",
      "WARNING: I will use the default values, which are probably not appropriate for your patterns.\n",
      "This is what I understood your unit cell to be:\n",
      "orthorhombic I, right handed.\n",
      "a      b      c            alpha   beta  gamma\n",
      " 80.58  94.49 103.89 A     90.00  90.00  90.00 deg\n",
      "List of indexing methods:\n",
      "   0: xgandalf-nolatt-cell      (xgandalf using cell parameters as prior information)\n",
      "Indexing parameters:\n",
      "                  Check unit cell parameters: on\n",
      "                        Check peak alignment: on\n",
      "                   Refine indexing solutions: off\n",
      " Multi-lattice indexing (\"delete and retry\"): off\n",
      "                              Retry indexing: on\n",
      "WARNING: Radius determination failed\n"
     ]
    },
    {
     "name": "stdout",
     "output_type": "stream",
     "text": [
      "Running for x=-512.7, y=-511.6\n"
     ]
    },
    {
     "name": "stderr",
     "output_type": "stream",
     "text": [
      "63 images processed, 63 hits (100.0%), 33 indexable (52.4% of hits, 52.4% overall), 33 crystals, 12.4 images/sec.\n",
      "Waiting for the last patterns to be processed...\n",
      "Final: 100 images processed, 100 hits (100.0%), 50 indexable (50.0% of hits, 50.0% overall), 50 crystals.\n",
      "Processing XY pairs:  41%|████      | 181/441 [25:50<36:30,  8.43s/it]WARNING: You did not specify --int-radius.\n",
      "WARNING: I will use the default values, which are probably not appropriate for your patterns.\n",
      "This is what I understood your unit cell to be:\n",
      "orthorhombic I, right handed.\n",
      "a      b      c            alpha   beta  gamma\n",
      " 80.58  94.49 103.89 A     90.00  90.00  90.00 deg\n",
      "List of indexing methods:\n",
      "   0: xgandalf-nolatt-cell      (xgandalf using cell parameters as prior information)\n",
      "Indexing parameters:\n",
      "                  Check unit cell parameters: on\n",
      "                        Check peak alignment: on\n",
      "                   Refine indexing solutions: off\n",
      " Multi-lattice indexing (\"delete and retry\"): off\n",
      "                              Retry indexing: on\n"
     ]
    },
    {
     "name": "stdout",
     "output_type": "stream",
     "text": [
      "Running for x=-512.7, y=-511.5\n"
     ]
    },
    {
     "name": "stderr",
     "output_type": "stream",
     "text": [
      "60 images processed, 60 hits (100.0%), 25 indexable (41.7% of hits, 41.7% overall), 25 crystals, 12.0 images/sec.\n",
      "Waiting for the last patterns to be processed...\n",
      "Final: 100 images processed, 100 hits (100.0%), 38 indexable (38.0% of hits, 38.0% overall), 38 crystals.\n",
      "Processing XY pairs:  41%|████▏     | 182/441 [25:59<37:04,  8.59s/it]WARNING: You did not specify --int-radius.\n",
      "WARNING: I will use the default values, which are probably not appropriate for your patterns.\n",
      "This is what I understood your unit cell to be:\n",
      "orthorhombic I, right handed.\n",
      "a      b      c            alpha   beta  gamma\n",
      " 80.58  94.49 103.89 A     90.00  90.00  90.00 deg\n",
      "List of indexing methods:\n",
      "   0: xgandalf-nolatt-cell      (xgandalf using cell parameters as prior information)\n",
      "Indexing parameters:\n",
      "                  Check unit cell parameters: on\n",
      "                        Check peak alignment: on\n",
      "                   Refine indexing solutions: off\n",
      " Multi-lattice indexing (\"delete and retry\"): off\n",
      "                              Retry indexing: on\n"
     ]
    },
    {
     "name": "stdout",
     "output_type": "stream",
     "text": [
      "Running for x=-512.7, y=-511.4\n"
     ]
    },
    {
     "name": "stderr",
     "output_type": "stream",
     "text": [
      "63 images processed, 63 hits (100.0%), 32 indexable (50.8% of hits, 50.8% overall), 32 crystals, 12.5 images/sec.\n",
      "Waiting for the last patterns to be processed...\n",
      "Final: 100 images processed, 100 hits (100.0%), 45 indexable (45.0% of hits, 45.0% overall), 45 crystals.\n",
      "Processing XY pairs:  41%|████▏     | 183/441 [26:08<37:27,  8.71s/it]WARNING: You did not specify --int-radius.\n",
      "WARNING: I will use the default values, which are probably not appropriate for your patterns.\n",
      "This is what I understood your unit cell to be:\n",
      "orthorhombic I, right handed.\n",
      "a      b      c            alpha   beta  gamma\n",
      " 80.58  94.49 103.89 A     90.00  90.00  90.00 deg\n",
      "List of indexing methods:\n",
      "   0: xgandalf-nolatt-cell      (xgandalf using cell parameters as prior information)\n",
      "Indexing parameters:\n",
      "                  Check unit cell parameters: on\n",
      "                        Check peak alignment: on\n",
      "                   Refine indexing solutions: off\n",
      " Multi-lattice indexing (\"delete and retry\"): off\n",
      "                              Retry indexing: on\n"
     ]
    },
    {
     "name": "stdout",
     "output_type": "stream",
     "text": [
      "Running for x=-512.7, y=-511.3\n"
     ]
    },
    {
     "name": "stderr",
     "output_type": "stream",
     "text": [
      "60 images processed, 60 hits (100.0%), 25 indexable (41.7% of hits, 41.7% overall), 25 crystals, 12.0 images/sec.\n",
      "Waiting for the last patterns to be processed...\n",
      "Final: 100 images processed, 100 hits (100.0%), 36 indexable (36.0% of hits, 36.0% overall), 36 crystals.\n",
      "Processing XY pairs:  42%|████▏     | 184/441 [26:17<37:58,  8.86s/it]WARNING: You did not specify --int-radius.\n",
      "WARNING: I will use the default values, which are probably not appropriate for your patterns.\n",
      "This is what I understood your unit cell to be:\n",
      "orthorhombic I, right handed.\n",
      "a      b      c            alpha   beta  gamma\n",
      " 80.58  94.49 103.89 A     90.00  90.00  90.00 deg\n",
      "List of indexing methods:\n",
      "   0: xgandalf-nolatt-cell      (xgandalf using cell parameters as prior information)\n",
      "Indexing parameters:\n",
      "                  Check unit cell parameters: on\n",
      "                        Check peak alignment: on\n",
      "                   Refine indexing solutions: off\n",
      " Multi-lattice indexing (\"delete and retry\"): off\n",
      "                              Retry indexing: on\n"
     ]
    },
    {
     "name": "stdout",
     "output_type": "stream",
     "text": [
      "Running for x=-512.6, y=-512.7\n"
     ]
    },
    {
     "name": "stderr",
     "output_type": "stream",
     "text": [
      "53 images processed, 53 hits (100.0%), 10 indexable (18.9% of hits, 18.9% overall), 10 crystals, 10.5 images/sec.\n",
      "Waiting for the last patterns to be processed...\n",
      "Final: 100 images processed, 100 hits (100.0%), 20 indexable (20.0% of hits, 20.0% overall), 20 crystals.\n",
      "Processing XY pairs:  42%|████▏     | 185/441 [26:27<38:53,  9.11s/it]WARNING: You did not specify --int-radius.\n",
      "WARNING: I will use the default values, which are probably not appropriate for your patterns.\n",
      "This is what I understood your unit cell to be:\n",
      "orthorhombic I, right handed.\n",
      "a      b      c            alpha   beta  gamma\n",
      " 80.58  94.49 103.89 A     90.00  90.00  90.00 deg\n",
      "List of indexing methods:\n",
      "   0: xgandalf-nolatt-cell      (xgandalf using cell parameters as prior information)\n",
      "Indexing parameters:\n",
      "                  Check unit cell parameters: on\n",
      "                        Check peak alignment: on\n",
      "                   Refine indexing solutions: off\n",
      " Multi-lattice indexing (\"delete and retry\"): off\n",
      "                              Retry indexing: on\n"
     ]
    },
    {
     "name": "stdout",
     "output_type": "stream",
     "text": [
      "Running for x=-512.6, y=-511.3\n"
     ]
    },
    {
     "name": "stderr",
     "output_type": "stream",
     "text": [
      "55 images processed, 55 hits (100.0%), 20 indexable (36.4% of hits, 36.4% overall), 20 crystals, 11.0 images/sec.\n",
      "Waiting for the last patterns to be processed...\n",
      "Final: 100 images processed, 100 hits (100.0%), 35 indexable (35.0% of hits, 35.0% overall), 35 crystals.\n",
      "Processing XY pairs:  42%|████▏     | 186/441 [26:36<39:10,  9.22s/it]WARNING: You did not specify --int-radius.\n",
      "WARNING: I will use the default values, which are probably not appropriate for your patterns.\n",
      "This is what I understood your unit cell to be:\n",
      "orthorhombic I, right handed.\n",
      "a      b      c            alpha   beta  gamma\n",
      " 80.58  94.49 103.89 A     90.00  90.00  90.00 deg\n",
      "List of indexing methods:\n",
      "   0: xgandalf-nolatt-cell      (xgandalf using cell parameters as prior information)\n",
      "Indexing parameters:\n",
      "                  Check unit cell parameters: on\n",
      "                        Check peak alignment: on\n",
      "                   Refine indexing solutions: off\n",
      " Multi-lattice indexing (\"delete and retry\"): off\n",
      "                              Retry indexing: on\n"
     ]
    },
    {
     "name": "stdout",
     "output_type": "stream",
     "text": [
      "Running for x=-512.5, y=-512.7\n"
     ]
    },
    {
     "name": "stderr",
     "output_type": "stream",
     "text": [
      "WARNING: Radius determination failed\n",
      "60 images processed, 60 hits (100.0%), 17 indexable (28.3% of hits, 28.3% overall), 17 crystals, 11.6 images/sec.\n",
      "Waiting for the last patterns to be processed...\n",
      "Final: 100 images processed, 100 hits (100.0%), 31 indexable (31.0% of hits, 31.0% overall), 31 crystals.\n",
      "Processing XY pairs:  42%|████▏     | 187/441 [26:45<39:07,  9.24s/it]WARNING: You did not specify --int-radius.\n",
      "WARNING: I will use the default values, which are probably not appropriate for your patterns.\n",
      "This is what I understood your unit cell to be:\n",
      "orthorhombic I, right handed.\n",
      "a      b      c            alpha   beta  gamma\n",
      " 80.58  94.49 103.89 A     90.00  90.00  90.00 deg\n",
      "List of indexing methods:\n",
      "   0: xgandalf-nolatt-cell      (xgandalf using cell parameters as prior information)\n",
      "Indexing parameters:\n",
      "                  Check unit cell parameters: on\n",
      "                        Check peak alignment: on\n",
      "                   Refine indexing solutions: off\n",
      " Multi-lattice indexing (\"delete and retry\"): off\n",
      "                              Retry indexing: on\n"
     ]
    },
    {
     "name": "stdout",
     "output_type": "stream",
     "text": [
      "Running for x=-512.5, y=-511.3\n"
     ]
    },
    {
     "name": "stderr",
     "output_type": "stream",
     "text": [
      "67 images processed, 67 hits (100.0%), 30 indexable (44.8% of hits, 44.8% overall), 30 crystals, 13.4 images/sec.\n",
      "Waiting for the last patterns to be processed...\n",
      "Final: 100 images processed, 100 hits (100.0%), 40 indexable (40.0% of hits, 40.0% overall), 40 crystals.\n",
      "Processing XY pairs:  43%|████▎     | 188/441 [26:54<38:03,  9.03s/it]WARNING: You did not specify --int-radius.\n",
      "WARNING: I will use the default values, which are probably not appropriate for your patterns.\n",
      "This is what I understood your unit cell to be:\n",
      "orthorhombic I, right handed.\n",
      "a      b      c            alpha   beta  gamma\n",
      " 80.58  94.49 103.89 A     90.00  90.00  90.00 deg\n",
      "List of indexing methods:\n",
      "   0: xgandalf-nolatt-cell      (xgandalf using cell parameters as prior information)\n",
      "Indexing parameters:\n",
      "                  Check unit cell parameters: on\n",
      "                        Check peak alignment: on\n",
      "                   Refine indexing solutions: off\n",
      " Multi-lattice indexing (\"delete and retry\"): off\n",
      "                              Retry indexing: on\n"
     ]
    },
    {
     "name": "stdout",
     "output_type": "stream",
     "text": [
      "Running for x=-512.4, y=-512.7\n"
     ]
    },
    {
     "name": "stderr",
     "output_type": "stream",
     "text": [
      "60 images processed, 60 hits (100.0%), 23 indexable (38.3% of hits, 38.3% overall), 23 crystals, 11.4 images/sec.\n",
      "Waiting for the last patterns to be processed...\n",
      "Final: 100 images processed, 100 hits (100.0%), 36 indexable (36.0% of hits, 36.0% overall), 36 crystals.\n",
      "Processing XY pairs:  43%|████▎     | 189/441 [27:03<37:58,  9.04s/it]WARNING: You did not specify --int-radius.\n",
      "WARNING: I will use the default values, which are probably not appropriate for your patterns.\n",
      "This is what I understood your unit cell to be:\n",
      "orthorhombic I, right handed.\n",
      "a      b      c            alpha   beta  gamma\n",
      " 80.58  94.49 103.89 A     90.00  90.00  90.00 deg\n",
      "List of indexing methods:\n",
      "   0: xgandalf-nolatt-cell      (xgandalf using cell parameters as prior information)\n",
      "Indexing parameters:\n",
      "                  Check unit cell parameters: on\n",
      "                        Check peak alignment: on\n",
      "                   Refine indexing solutions: off\n",
      " Multi-lattice indexing (\"delete and retry\"): off\n",
      "                              Retry indexing: on\n"
     ]
    },
    {
     "name": "stdout",
     "output_type": "stream",
     "text": [
      "Running for x=-512.4, y=-511.3\n"
     ]
    },
    {
     "name": "stderr",
     "output_type": "stream",
     "text": [
      "64 images processed, 64 hits (100.0%), 30 indexable (46.9% of hits, 46.9% overall), 30 crystals, 12.2 images/sec.\n",
      "Waiting for the last patterns to be processed...\n",
      "Final: 100 images processed, 100 hits (100.0%), 41 indexable (41.0% of hits, 41.0% overall), 41 crystals.\n",
      "Processing XY pairs:  43%|████▎     | 190/441 [27:12<37:31,  8.97s/it]WARNING: You did not specify --int-radius.\n",
      "WARNING: I will use the default values, which are probably not appropriate for your patterns.\n",
      "This is what I understood your unit cell to be:\n",
      "orthorhombic I, right handed.\n",
      "a      b      c            alpha   beta  gamma\n",
      " 80.58  94.49 103.89 A     90.00  90.00  90.00 deg\n",
      "List of indexing methods:\n",
      "   0: xgandalf-nolatt-cell      (xgandalf using cell parameters as prior information)\n",
      "Indexing parameters:\n",
      "                  Check unit cell parameters: on\n",
      "                        Check peak alignment: on\n",
      "                   Refine indexing solutions: off\n",
      " Multi-lattice indexing (\"delete and retry\"): off\n",
      "                              Retry indexing: on\n"
     ]
    },
    {
     "name": "stdout",
     "output_type": "stream",
     "text": [
      "Running for x=-512.3, y=-512.7\n"
     ]
    },
    {
     "name": "stderr",
     "output_type": "stream",
     "text": [
      "WARNING: Radius determination failed\n",
      "63 images processed, 63 hits (100.0%), 30 indexable (47.6% of hits, 47.6% overall), 30 crystals, 12.2 images/sec.\n",
      "Waiting for the last patterns to be processed...\n",
      "Final: 100 images processed, 100 hits (100.0%), 44 indexable (44.0% of hits, 44.0% overall), 44 crystals.\n",
      "Processing XY pairs:  43%|████▎     | 191/441 [27:21<37:25,  8.98s/it]WARNING: You did not specify --int-radius.\n",
      "WARNING: I will use the default values, which are probably not appropriate for your patterns.\n",
      "This is what I understood your unit cell to be:\n",
      "orthorhombic I, right handed.\n",
      "a      b      c            alpha   beta  gamma\n",
      " 80.58  94.49 103.89 A     90.00  90.00  90.00 deg\n",
      "List of indexing methods:\n",
      "   0: xgandalf-nolatt-cell      (xgandalf using cell parameters as prior information)\n",
      "Indexing parameters:\n",
      "                  Check unit cell parameters: on\n",
      "                        Check peak alignment: on\n",
      "                   Refine indexing solutions: off\n",
      " Multi-lattice indexing (\"delete and retry\"): off\n",
      "                              Retry indexing: on\n"
     ]
    },
    {
     "name": "stdout",
     "output_type": "stream",
     "text": [
      "Running for x=-512.3, y=-511.3\n"
     ]
    },
    {
     "name": "stderr",
     "output_type": "stream",
     "text": [
      "61 images processed, 61 hits (100.0%), 24 indexable (39.3% of hits, 39.3% overall), 24 crystals, 11.8 images/sec.\n",
      "Waiting for the last patterns to be processed...\n",
      "Final: 100 images processed, 100 hits (100.0%), 42 indexable (42.0% of hits, 42.0% overall), 42 crystals.\n",
      "Processing XY pairs:  44%|████▎     | 192/441 [27:30<37:18,  8.99s/it]WARNING: You did not specify --int-radius.\n",
      "WARNING: I will use the default values, which are probably not appropriate for your patterns.\n",
      "This is what I understood your unit cell to be:\n",
      "orthorhombic I, right handed.\n",
      "a      b      c            alpha   beta  gamma\n",
      " 80.58  94.49 103.89 A     90.00  90.00  90.00 deg\n",
      "List of indexing methods:\n",
      "   0: xgandalf-nolatt-cell      (xgandalf using cell parameters as prior information)\n",
      "Indexing parameters:\n",
      "                  Check unit cell parameters: on\n",
      "                        Check peak alignment: on\n",
      "                   Refine indexing solutions: off\n",
      " Multi-lattice indexing (\"delete and retry\"): off\n",
      "                              Retry indexing: on\n"
     ]
    },
    {
     "name": "stdout",
     "output_type": "stream",
     "text": [
      "Running for x=-512.2, y=-512.7\n"
     ]
    },
    {
     "name": "stderr",
     "output_type": "stream",
     "text": [
      "WARNING: Radius determination failed\n",
      "60 images processed, 60 hits (100.0%), 24 indexable (40.0% of hits, 40.0% overall), 24 crystals, 12.0 images/sec.\n",
      "Waiting for the last patterns to be processed...\n",
      "Final: 100 images processed, 100 hits (100.0%), 36 indexable (36.0% of hits, 36.0% overall), 36 crystals.\n",
      "Processing XY pairs:  44%|████▍     | 193/441 [27:39<37:19,  9.03s/it]WARNING: You did not specify --int-radius.\n",
      "WARNING: I will use the default values, which are probably not appropriate for your patterns.\n",
      "This is what I understood your unit cell to be:\n",
      "orthorhombic I, right handed.\n",
      "a      b      c            alpha   beta  gamma\n",
      " 80.58  94.49 103.89 A     90.00  90.00  90.00 deg\n",
      "List of indexing methods:\n",
      "   0: xgandalf-nolatt-cell      (xgandalf using cell parameters as prior information)\n",
      "Indexing parameters:\n",
      "                  Check unit cell parameters: on\n",
      "                        Check peak alignment: on\n",
      "                   Refine indexing solutions: off\n",
      " Multi-lattice indexing (\"delete and retry\"): off\n",
      "                              Retry indexing: on\n"
     ]
    },
    {
     "name": "stdout",
     "output_type": "stream",
     "text": [
      "Running for x=-512.2, y=-511.3\n"
     ]
    },
    {
     "name": "stderr",
     "output_type": "stream",
     "text": [
      "WARNING: Radius determination failed\n",
      "65 images processed, 65 hits (100.0%), 34 indexable (52.3% of hits, 52.3% overall), 34 crystals, 12.8 images/sec.\n",
      "Waiting for the last patterns to be processed...\n",
      "Final: 100 images processed, 100 hits (100.0%), 52 indexable (52.0% of hits, 52.0% overall), 52 crystals.\n",
      "Processing XY pairs:  44%|████▍     | 194/441 [27:46<35:02,  8.51s/it]WARNING: You did not specify --int-radius.\n",
      "WARNING: I will use the default values, which are probably not appropriate for your patterns.\n",
      "This is what I understood your unit cell to be:\n",
      "orthorhombic I, right handed.\n",
      "a      b      c            alpha   beta  gamma\n",
      " 80.58  94.49 103.89 A     90.00  90.00  90.00 deg\n",
      "List of indexing methods:\n",
      "   0: xgandalf-nolatt-cell      (xgandalf using cell parameters as prior information)\n",
      "Indexing parameters:\n",
      "                  Check unit cell parameters: on\n",
      "                        Check peak alignment: on\n",
      "                   Refine indexing solutions: off\n",
      " Multi-lattice indexing (\"delete and retry\"): off\n",
      "                              Retry indexing: on\n"
     ]
    },
    {
     "name": "stdout",
     "output_type": "stream",
     "text": [
      "Running for x=-512.1, y=-512.7\n"
     ]
    },
    {
     "name": "stderr",
     "output_type": "stream",
     "text": [
      "WARNING: Radius determination failed\n",
      "56 images processed, 56 hits (100.0%), 23 indexable (41.1% of hits, 41.1% overall), 23 crystals, 11.2 images/sec.\n",
      "Waiting for the last patterns to be processed...\n",
      "Final: 100 images processed, 100 hits (100.0%), 41 indexable (41.0% of hits, 41.0% overall), 41 crystals.\n",
      "Processing XY pairs:  44%|████▍     | 195/441 [27:56<35:58,  8.77s/it]WARNING: You did not specify --int-radius.\n",
      "WARNING: I will use the default values, which are probably not appropriate for your patterns.\n",
      "This is what I understood your unit cell to be:\n",
      "orthorhombic I, right handed.\n",
      "a      b      c            alpha   beta  gamma\n",
      " 80.58  94.49 103.89 A     90.00  90.00  90.00 deg\n",
      "List of indexing methods:\n",
      "   0: xgandalf-nolatt-cell      (xgandalf using cell parameters as prior information)\n",
      "Indexing parameters:\n",
      "                  Check unit cell parameters: on\n",
      "                        Check peak alignment: on\n",
      "                   Refine indexing solutions: off\n",
      " Multi-lattice indexing (\"delete and retry\"): off\n",
      "                              Retry indexing: on\n"
     ]
    },
    {
     "name": "stdout",
     "output_type": "stream",
     "text": [
      "Running for x=-512.1, y=-511.3\n"
     ]
    },
    {
     "name": "stderr",
     "output_type": "stream",
     "text": [
      "65 images processed, 65 hits (100.0%), 29 indexable (44.6% of hits, 44.6% overall), 29 crystals, 12.9 images/sec.\n",
      "Waiting for the last patterns to be processed...\n",
      "Final: 100 images processed, 100 hits (100.0%), 46 indexable (46.0% of hits, 46.0% overall), 46 crystals.\n",
      "Processing XY pairs:  44%|████▍     | 196/441 [28:03<33:54,  8.30s/it]WARNING: You did not specify --int-radius.\n",
      "WARNING: I will use the default values, which are probably not appropriate for your patterns.\n",
      "This is what I understood your unit cell to be:\n",
      "orthorhombic I, right handed.\n",
      "a      b      c            alpha   beta  gamma\n",
      " 80.58  94.49 103.89 A     90.00  90.00  90.00 deg\n",
      "List of indexing methods:\n",
      "   0: xgandalf-nolatt-cell      (xgandalf using cell parameters as prior information)\n",
      "Indexing parameters:\n",
      "                  Check unit cell parameters: on\n",
      "                        Check peak alignment: on\n",
      "                   Refine indexing solutions: off\n",
      " Multi-lattice indexing (\"delete and retry\"): off\n",
      "                              Retry indexing: on\n"
     ]
    },
    {
     "name": "stdout",
     "output_type": "stream",
     "text": [
      "Running for x=-512.0, y=-512.7\n"
     ]
    },
    {
     "name": "stderr",
     "output_type": "stream",
     "text": [
      "58 images processed, 58 hits (100.0%), 25 indexable (43.1% of hits, 43.1% overall), 25 crystals, 11.4 images/sec.\n",
      "Waiting for the last patterns to be processed...\n",
      "Final: 100 images processed, 100 hits (100.0%), 36 indexable (36.0% of hits, 36.0% overall), 36 crystals.\n",
      "Processing XY pairs:  45%|████▍     | 197/441 [28:12<35:11,  8.65s/it]WARNING: You did not specify --int-radius.\n",
      "WARNING: I will use the default values, which are probably not appropriate for your patterns.\n",
      "This is what I understood your unit cell to be:\n",
      "orthorhombic I, right handed.\n",
      "a      b      c            alpha   beta  gamma\n",
      " 80.58  94.49 103.89 A     90.00  90.00  90.00 deg\n",
      "List of indexing methods:\n",
      "   0: xgandalf-nolatt-cell      (xgandalf using cell parameters as prior information)\n",
      "Indexing parameters:\n",
      "                  Check unit cell parameters: on\n",
      "                        Check peak alignment: on\n",
      "                   Refine indexing solutions: off\n",
      " Multi-lattice indexing (\"delete and retry\"): off\n",
      "                              Retry indexing: on\n"
     ]
    },
    {
     "name": "stdout",
     "output_type": "stream",
     "text": [
      "Running for x=-512.0, y=-511.3\n"
     ]
    },
    {
     "name": "stderr",
     "output_type": "stream",
     "text": [
      "62 images processed, 62 hits (100.0%), 26 indexable (41.9% of hits, 41.9% overall), 26 crystals, 12.2 images/sec.\n",
      "Waiting for the last patterns to be processed...\n",
      "Final: 100 images processed, 100 hits (100.0%), 43 indexable (43.0% of hits, 43.0% overall), 43 crystals.\n",
      "Processing XY pairs:  45%|████▍     | 198/441 [28:21<35:15,  8.71s/it]WARNING: You did not specify --int-radius.\n",
      "WARNING: I will use the default values, which are probably not appropriate for your patterns.\n",
      "This is what I understood your unit cell to be:\n",
      "orthorhombic I, right handed.\n",
      "a      b      c            alpha   beta  gamma\n",
      " 80.58  94.49 103.89 A     90.00  90.00  90.00 deg\n",
      "List of indexing methods:\n",
      "   0: xgandalf-nolatt-cell      (xgandalf using cell parameters as prior information)\n",
      "Indexing parameters:\n",
      "                  Check unit cell parameters: on\n",
      "                        Check peak alignment: on\n",
      "                   Refine indexing solutions: off\n",
      " Multi-lattice indexing (\"delete and retry\"): off\n",
      "                              Retry indexing: on\n"
     ]
    },
    {
     "name": "stdout",
     "output_type": "stream",
     "text": [
      "Running for x=-511.9, y=-512.7\n"
     ]
    },
    {
     "name": "stderr",
     "output_type": "stream",
     "text": [
      "WARNING: Radius determination failed\n",
      "62 images processed, 62 hits (100.0%), 34 indexable (54.8% of hits, 54.8% overall), 34 crystals, 12.4 images/sec.\n",
      "Waiting for the last patterns to be processed...\n",
      "Final: 100 images processed, 100 hits (100.0%), 46 indexable (46.0% of hits, 46.0% overall), 46 crystals.\n",
      "Processing XY pairs:  45%|████▌     | 199/441 [28:30<35:11,  8.73s/it]WARNING: You did not specify --int-radius.\n",
      "WARNING: I will use the default values, which are probably not appropriate for your patterns.\n",
      "This is what I understood your unit cell to be:\n",
      "orthorhombic I, right handed.\n",
      "a      b      c            alpha   beta  gamma\n",
      " 80.58  94.49 103.89 A     90.00  90.00  90.00 deg\n",
      "List of indexing methods:\n",
      "   0: xgandalf-nolatt-cell      (xgandalf using cell parameters as prior information)\n",
      "Indexing parameters:\n",
      "                  Check unit cell parameters: on\n",
      "                        Check peak alignment: on\n",
      "                   Refine indexing solutions: off\n",
      " Multi-lattice indexing (\"delete and retry\"): off\n",
      "                              Retry indexing: on\n"
     ]
    },
    {
     "name": "stdout",
     "output_type": "stream",
     "text": [
      "Running for x=-511.9, y=-511.3\n"
     ]
    },
    {
     "name": "stderr",
     "output_type": "stream",
     "text": [
      "61 images processed, 61 hits (100.0%), 24 indexable (39.3% of hits, 39.3% overall), 24 crystals, 12.1 images/sec.\n",
      "Waiting for the last patterns to be processed...\n",
      "Final: 100 images processed, 100 hits (100.0%), 39 indexable (39.0% of hits, 39.0% overall), 39 crystals.\n",
      "Processing XY pairs:  45%|████▌     | 200/441 [28:39<35:29,  8.83s/it]WARNING: You did not specify --int-radius.\n",
      "WARNING: I will use the default values, which are probably not appropriate for your patterns.\n",
      "This is what I understood your unit cell to be:\n",
      "orthorhombic I, right handed.\n",
      "a      b      c            alpha   beta  gamma\n",
      " 80.58  94.49 103.89 A     90.00  90.00  90.00 deg\n",
      "List of indexing methods:\n",
      "   0: xgandalf-nolatt-cell      (xgandalf using cell parameters as prior information)\n",
      "Indexing parameters:\n",
      "                  Check unit cell parameters: on\n",
      "                        Check peak alignment: on\n",
      "                   Refine indexing solutions: off\n",
      " Multi-lattice indexing (\"delete and retry\"): off\n",
      "                              Retry indexing: on\n"
     ]
    },
    {
     "name": "stdout",
     "output_type": "stream",
     "text": [
      "Running for x=-511.8, y=-512.7\n"
     ]
    },
    {
     "name": "stderr",
     "output_type": "stream",
     "text": [
      "60 images processed, 60 hits (100.0%), 29 indexable (48.3% of hits, 48.3% overall), 29 crystals, 11.5 images/sec.\n",
      "Waiting for the last patterns to be processed...\n",
      "Final: 100 images processed, 100 hits (100.0%), 41 indexable (41.0% of hits, 41.0% overall), 41 crystals.\n",
      "Processing XY pairs:  46%|████▌     | 201/441 [28:47<34:09,  8.54s/it]WARNING: You did not specify --int-radius.\n",
      "WARNING: I will use the default values, which are probably not appropriate for your patterns.\n",
      "This is what I understood your unit cell to be:\n",
      "orthorhombic I, right handed.\n",
      "a      b      c            alpha   beta  gamma\n",
      " 80.58  94.49 103.89 A     90.00  90.00  90.00 deg\n",
      "List of indexing methods:\n",
      "   0: xgandalf-nolatt-cell      (xgandalf using cell parameters as prior information)\n",
      "Indexing parameters:\n",
      "                  Check unit cell parameters: on\n",
      "                        Check peak alignment: on\n",
      "                   Refine indexing solutions: off\n",
      " Multi-lattice indexing (\"delete and retry\"): off\n",
      "                              Retry indexing: on\n"
     ]
    },
    {
     "name": "stdout",
     "output_type": "stream",
     "text": [
      "Running for x=-511.8, y=-511.3\n"
     ]
    },
    {
     "name": "stderr",
     "output_type": "stream",
     "text": [
      "56 images processed, 56 hits (100.0%), 24 indexable (42.9% of hits, 42.9% overall), 24 crystals, 11.2 images/sec.\n",
      "Waiting for the last patterns to be processed...\n",
      "Final: 100 images processed, 100 hits (100.0%), 43 indexable (43.0% of hits, 43.0% overall), 43 crystals.\n",
      "Processing XY pairs:  46%|████▌     | 202/441 [28:56<34:57,  8.77s/it]WARNING: You did not specify --int-radius.\n",
      "WARNING: I will use the default values, which are probably not appropriate for your patterns.\n",
      "This is what I understood your unit cell to be:\n",
      "orthorhombic I, right handed.\n",
      "a      b      c            alpha   beta  gamma\n",
      " 80.58  94.49 103.89 A     90.00  90.00  90.00 deg\n",
      "List of indexing methods:\n",
      "   0: xgandalf-nolatt-cell      (xgandalf using cell parameters as prior information)\n",
      "Indexing parameters:\n",
      "                  Check unit cell parameters: on\n",
      "                        Check peak alignment: on\n",
      "                   Refine indexing solutions: off\n",
      " Multi-lattice indexing (\"delete and retry\"): off\n",
      "                              Retry indexing: on\n"
     ]
    },
    {
     "name": "stdout",
     "output_type": "stream",
     "text": [
      "Running for x=-511.7, y=-512.7\n"
     ]
    },
    {
     "name": "stderr",
     "output_type": "stream",
     "text": [
      "61 images processed, 61 hits (100.0%), 29 indexable (47.5% of hits, 47.5% overall), 29 crystals, 11.4 images/sec.\n",
      "Waiting for the last patterns to be processed...\n",
      "Final: 100 images processed, 100 hits (100.0%), 43 indexable (43.0% of hits, 43.0% overall), 43 crystals.\n",
      "Processing XY pairs:  46%|████▌     | 203/441 [29:05<35:16,  8.89s/it]WARNING: You did not specify --int-radius.\n",
      "WARNING: I will use the default values, which are probably not appropriate for your patterns.\n",
      "This is what I understood your unit cell to be:\n",
      "orthorhombic I, right handed.\n",
      "a      b      c            alpha   beta  gamma\n",
      " 80.58  94.49 103.89 A     90.00  90.00  90.00 deg\n",
      "List of indexing methods:\n",
      "   0: xgandalf-nolatt-cell      (xgandalf using cell parameters as prior information)\n",
      "Indexing parameters:\n",
      "                  Check unit cell parameters: on\n",
      "                        Check peak alignment: on\n",
      "                   Refine indexing solutions: off\n",
      " Multi-lattice indexing (\"delete and retry\"): off\n",
      "                              Retry indexing: on\n"
     ]
    },
    {
     "name": "stdout",
     "output_type": "stream",
     "text": [
      "Running for x=-511.7, y=-511.3\n"
     ]
    },
    {
     "name": "stderr",
     "output_type": "stream",
     "text": [
      "62 images processed, 62 hits (100.0%), 24 indexable (38.7% of hits, 38.7% overall), 24 crystals, 12.1 images/sec.\n",
      "Waiting for the last patterns to be processed...\n",
      "Final: 100 images processed, 100 hits (100.0%), 41 indexable (41.0% of hits, 41.0% overall), 41 crystals.\n",
      "Processing XY pairs:  46%|████▋     | 204/441 [29:13<33:44,  8.54s/it]WARNING: You did not specify --int-radius.\n",
      "WARNING: I will use the default values, which are probably not appropriate for your patterns.\n",
      "This is what I understood your unit cell to be:\n",
      "orthorhombic I, right handed.\n",
      "a      b      c            alpha   beta  gamma\n",
      " 80.58  94.49 103.89 A     90.00  90.00  90.00 deg\n",
      "List of indexing methods:\n",
      "   0: xgandalf-nolatt-cell      (xgandalf using cell parameters as prior information)\n",
      "Indexing parameters:\n",
      "                  Check unit cell parameters: on\n",
      "                        Check peak alignment: on\n",
      "                   Refine indexing solutions: off\n",
      " Multi-lattice indexing (\"delete and retry\"): off\n",
      "                              Retry indexing: on\n"
     ]
    },
    {
     "name": "stdout",
     "output_type": "stream",
     "text": [
      "Running for x=-511.6, y=-512.7\n"
     ]
    },
    {
     "name": "stderr",
     "output_type": "stream",
     "text": [
      "59 images processed, 59 hits (100.0%), 23 indexable (39.0% of hits, 39.0% overall), 23 crystals, 11.7 images/sec.\n",
      "Waiting for the last patterns to be processed...\n",
      "Final: 100 images processed, 100 hits (100.0%), 43 indexable (43.0% of hits, 43.0% overall), 43 crystals.\n",
      "Processing XY pairs:  46%|████▋     | 205/441 [29:22<34:07,  8.68s/it]WARNING: You did not specify --int-radius.\n",
      "WARNING: I will use the default values, which are probably not appropriate for your patterns.\n",
      "This is what I understood your unit cell to be:\n",
      "orthorhombic I, right handed.\n",
      "a      b      c            alpha   beta  gamma\n",
      " 80.58  94.49 103.89 A     90.00  90.00  90.00 deg\n",
      "List of indexing methods:\n",
      "   0: xgandalf-nolatt-cell      (xgandalf using cell parameters as prior information)\n",
      "Indexing parameters:\n",
      "                  Check unit cell parameters: on\n",
      "                        Check peak alignment: on\n",
      "                   Refine indexing solutions: off\n",
      " Multi-lattice indexing (\"delete and retry\"): off\n",
      "                              Retry indexing: on\n"
     ]
    },
    {
     "name": "stdout",
     "output_type": "stream",
     "text": [
      "Running for x=-511.6, y=-511.3\n"
     ]
    },
    {
     "name": "stderr",
     "output_type": "stream",
     "text": [
      "62 images processed, 62 hits (100.0%), 21 indexable (33.9% of hits, 33.9% overall), 21 crystals, 12.2 images/sec.\n",
      "Waiting for the last patterns to be processed...\n",
      "Final: 100 images processed, 100 hits (100.0%), 28 indexable (28.0% of hits, 28.0% overall), 28 crystals.\n",
      "Processing XY pairs:  47%|████▋     | 206/441 [29:31<34:19,  8.76s/it]WARNING: You did not specify --int-radius.\n",
      "WARNING: I will use the default values, which are probably not appropriate for your patterns.\n",
      "This is what I understood your unit cell to be:\n",
      "orthorhombic I, right handed.\n",
      "a      b      c            alpha   beta  gamma\n",
      " 80.58  94.49 103.89 A     90.00  90.00  90.00 deg\n",
      "List of indexing methods:\n",
      "   0: xgandalf-nolatt-cell      (xgandalf using cell parameters as prior information)\n",
      "Indexing parameters:\n",
      "                  Check unit cell parameters: on\n",
      "                        Check peak alignment: on\n",
      "                   Refine indexing solutions: off\n",
      " Multi-lattice indexing (\"delete and retry\"): off\n",
      "                              Retry indexing: on\n"
     ]
    },
    {
     "name": "stdout",
     "output_type": "stream",
     "text": [
      "Running for x=-511.5, y=-512.7\n"
     ]
    },
    {
     "name": "stderr",
     "output_type": "stream",
     "text": [
      "58 images processed, 58 hits (100.0%), 23 indexable (39.7% of hits, 39.7% overall), 23 crystals, 11.4 images/sec.\n",
      "Waiting for the last patterns to be processed...\n",
      "Final: 100 images processed, 100 hits (100.0%), 33 indexable (33.0% of hits, 33.0% overall), 33 crystals.\n",
      "Processing XY pairs:  47%|████▋     | 207/441 [29:40<34:40,  8.89s/it]WARNING: You did not specify --int-radius.\n",
      "WARNING: I will use the default values, which are probably not appropriate for your patterns.\n",
      "This is what I understood your unit cell to be:\n",
      "orthorhombic I, right handed.\n",
      "a      b      c            alpha   beta  gamma\n",
      " 80.58  94.49 103.89 A     90.00  90.00  90.00 deg\n",
      "List of indexing methods:\n",
      "   0: xgandalf-nolatt-cell      (xgandalf using cell parameters as prior information)\n",
      "Indexing parameters:\n",
      "                  Check unit cell parameters: on\n",
      "                        Check peak alignment: on\n",
      "                   Refine indexing solutions: off\n",
      " Multi-lattice indexing (\"delete and retry\"): off\n",
      "                              Retry indexing: on\n"
     ]
    },
    {
     "name": "stdout",
     "output_type": "stream",
     "text": [
      "Running for x=-511.5, y=-511.3\n"
     ]
    },
    {
     "name": "stderr",
     "output_type": "stream",
     "text": [
      "WARNING: Radius determination failed\n",
      "62 images processed, 62 hits (100.0%), 23 indexable (37.1% of hits, 37.1% overall), 23 crystals, 12.3 images/sec.\n",
      "Waiting for the last patterns to be processed...\n",
      "Final: 100 images processed, 100 hits (100.0%), 31 indexable (31.0% of hits, 31.0% overall), 31 crystals.\n",
      "Processing XY pairs:  47%|████▋     | 208/441 [29:49<34:08,  8.79s/it]WARNING: You did not specify --int-radius.\n",
      "WARNING: I will use the default values, which are probably not appropriate for your patterns.\n",
      "This is what I understood your unit cell to be:\n",
      "orthorhombic I, right handed.\n",
      "a      b      c            alpha   beta  gamma\n",
      " 80.58  94.49 103.89 A     90.00  90.00  90.00 deg\n",
      "List of indexing methods:\n",
      "   0: xgandalf-nolatt-cell      (xgandalf using cell parameters as prior information)\n",
      "Indexing parameters:\n",
      "                  Check unit cell parameters: on\n",
      "                        Check peak alignment: on\n",
      "                   Refine indexing solutions: off\n",
      " Multi-lattice indexing (\"delete and retry\"): off\n",
      "                              Retry indexing: on\n"
     ]
    },
    {
     "name": "stdout",
     "output_type": "stream",
     "text": [
      "Running for x=-511.4, y=-512.7\n"
     ]
    },
    {
     "name": "stderr",
     "output_type": "stream",
     "text": [
      "57 images processed, 57 hits (100.0%), 12 indexable (21.1% of hits, 21.1% overall), 12 crystals, 11.3 images/sec.\n",
      "Waiting for the last patterns to be processed...\n",
      "Final: 100 images processed, 100 hits (100.0%), 24 indexable (24.0% of hits, 24.0% overall), 24 crystals.\n",
      "Processing XY pairs:  47%|████▋     | 209/441 [29:57<33:47,  8.74s/it]WARNING: You did not specify --int-radius.\n",
      "WARNING: I will use the default values, which are probably not appropriate for your patterns.\n",
      "This is what I understood your unit cell to be:\n",
      "orthorhombic I, right handed.\n",
      "a      b      c            alpha   beta  gamma\n",
      " 80.58  94.49 103.89 A     90.00  90.00  90.00 deg\n",
      "List of indexing methods:\n",
      "   0: xgandalf-nolatt-cell      (xgandalf using cell parameters as prior information)\n",
      "Indexing parameters:\n",
      "                  Check unit cell parameters: on\n",
      "                        Check peak alignment: on\n",
      "                   Refine indexing solutions: off\n",
      " Multi-lattice indexing (\"delete and retry\"): off\n",
      "                              Retry indexing: on\n"
     ]
    },
    {
     "name": "stdout",
     "output_type": "stream",
     "text": [
      "Running for x=-511.4, y=-511.3\n"
     ]
    },
    {
     "name": "stderr",
     "output_type": "stream",
     "text": [
      "62 images processed, 62 hits (100.0%), 22 indexable (35.5% of hits, 35.5% overall), 22 crystals, 11.9 images/sec.\n",
      "Waiting for the last patterns to be processed...\n",
      "Final: 100 images processed, 100 hits (100.0%), 27 indexable (27.0% of hits, 27.0% overall), 27 crystals.\n",
      "Processing XY pairs:  48%|████▊     | 210/441 [30:06<34:04,  8.85s/it]WARNING: You did not specify --int-radius.\n",
      "WARNING: I will use the default values, which are probably not appropriate for your patterns.\n",
      "This is what I understood your unit cell to be:\n",
      "orthorhombic I, right handed.\n",
      "a      b      c            alpha   beta  gamma\n",
      " 80.58  94.49 103.89 A     90.00  90.00  90.00 deg\n",
      "List of indexing methods:\n",
      "   0: xgandalf-nolatt-cell      (xgandalf using cell parameters as prior information)\n",
      "Indexing parameters:\n",
      "                  Check unit cell parameters: on\n",
      "                        Check peak alignment: on\n",
      "                   Refine indexing solutions: off\n",
      " Multi-lattice indexing (\"delete and retry\"): off\n",
      "                              Retry indexing: on\n"
     ]
    },
    {
     "name": "stdout",
     "output_type": "stream",
     "text": [
      "Running for x=-511.3, y=-512.7\n"
     ]
    },
    {
     "name": "stderr",
     "output_type": "stream",
     "text": [
      "57 images processed, 57 hits (100.0%), 18 indexable (31.6% of hits, 31.6% overall), 18 crystals, 11.4 images/sec.\n",
      "Waiting for the last patterns to be processed...\n",
      "Final: 100 images processed, 100 hits (100.0%), 28 indexable (28.0% of hits, 28.0% overall), 28 crystals.\n",
      "Processing XY pairs:  48%|████▊     | 211/441 [30:16<34:35,  9.03s/it]WARNING: You did not specify --int-radius.\n",
      "WARNING: I will use the default values, which are probably not appropriate for your patterns.\n",
      "This is what I understood your unit cell to be:\n",
      "orthorhombic I, right handed.\n",
      "a      b      c            alpha   beta  gamma\n",
      " 80.58  94.49 103.89 A     90.00  90.00  90.00 deg\n",
      "List of indexing methods:\n",
      "   0: xgandalf-nolatt-cell      (xgandalf using cell parameters as prior information)\n",
      "Indexing parameters:\n",
      "                  Check unit cell parameters: on\n",
      "                        Check peak alignment: on\n",
      "                   Refine indexing solutions: off\n",
      " Multi-lattice indexing (\"delete and retry\"): off\n",
      "                              Retry indexing: on\n"
     ]
    },
    {
     "name": "stdout",
     "output_type": "stream",
     "text": [
      "Running for x=-511.3, y=-512.6\n"
     ]
    },
    {
     "name": "stderr",
     "output_type": "stream",
     "text": [
      "WARNING: Radius determination failed\n",
      "58 images processed, 58 hits (100.0%), 17 indexable (29.3% of hits, 29.3% overall), 17 crystals, 11.5 images/sec.\n",
      "Waiting for the last patterns to be processed...\n",
      "Final: 100 images processed, 100 hits (100.0%), 30 indexable (30.0% of hits, 30.0% overall), 30 crystals.\n",
      "Processing XY pairs:  48%|████▊     | 212/441 [30:24<33:46,  8.85s/it]WARNING: You did not specify --int-radius.\n",
      "WARNING: I will use the default values, which are probably not appropriate for your patterns.\n",
      "This is what I understood your unit cell to be:\n",
      "orthorhombic I, right handed.\n",
      "a      b      c            alpha   beta  gamma\n",
      " 80.58  94.49 103.89 A     90.00  90.00  90.00 deg\n",
      "List of indexing methods:\n",
      "   0: xgandalf-nolatt-cell      (xgandalf using cell parameters as prior information)\n",
      "Indexing parameters:\n",
      "                  Check unit cell parameters: on\n",
      "                        Check peak alignment: on\n",
      "                   Refine indexing solutions: off\n",
      " Multi-lattice indexing (\"delete and retry\"): off\n",
      "                              Retry indexing: on\n"
     ]
    },
    {
     "name": "stdout",
     "output_type": "stream",
     "text": [
      "Running for x=-511.3, y=-512.5\n"
     ]
    },
    {
     "name": "stderr",
     "output_type": "stream",
     "text": [
      "57 images processed, 57 hits (100.0%), 17 indexable (29.8% of hits, 29.8% overall), 17 crystals, 11.1 images/sec.\n",
      "Waiting for the last patterns to be processed...\n",
      "Final: 100 images processed, 100 hits (100.0%), 33 indexable (33.0% of hits, 33.0% overall), 33 crystals.\n",
      "Processing XY pairs:  48%|████▊     | 213/441 [30:34<34:41,  9.13s/it]WARNING: You did not specify --int-radius.\n",
      "WARNING: I will use the default values, which are probably not appropriate for your patterns.\n",
      "This is what I understood your unit cell to be:\n",
      "orthorhombic I, right handed.\n",
      "a      b      c            alpha   beta  gamma\n",
      " 80.58  94.49 103.89 A     90.00  90.00  90.00 deg\n",
      "List of indexing methods:\n",
      "   0: xgandalf-nolatt-cell      (xgandalf using cell parameters as prior information)\n",
      "Indexing parameters:\n",
      "                  Check unit cell parameters: on\n",
      "                        Check peak alignment: on\n",
      "                   Refine indexing solutions: off\n",
      " Multi-lattice indexing (\"delete and retry\"): off\n",
      "                              Retry indexing: on\n"
     ]
    },
    {
     "name": "stdout",
     "output_type": "stream",
     "text": [
      "Running for x=-511.3, y=-512.4\n"
     ]
    },
    {
     "name": "stderr",
     "output_type": "stream",
     "text": [
      "59 images processed, 59 hits (100.0%), 25 indexable (42.4% of hits, 42.4% overall), 25 crystals, 11.7 images/sec.\n",
      "Waiting for the last patterns to be processed...\n",
      "Final: 100 images processed, 100 hits (100.0%), 39 indexable (39.0% of hits, 39.0% overall), 39 crystals.\n",
      "Processing XY pairs:  49%|████▊     | 214/441 [30:43<34:27,  9.11s/it]WARNING: You did not specify --int-radius.\n",
      "WARNING: I will use the default values, which are probably not appropriate for your patterns.\n",
      "This is what I understood your unit cell to be:\n",
      "orthorhombic I, right handed.\n",
      "a      b      c            alpha   beta  gamma\n",
      " 80.58  94.49 103.89 A     90.00  90.00  90.00 deg\n",
      "List of indexing methods:\n",
      "   0: xgandalf-nolatt-cell      (xgandalf using cell parameters as prior information)\n",
      "Indexing parameters:\n",
      "                  Check unit cell parameters: on\n",
      "                        Check peak alignment: on\n",
      "                   Refine indexing solutions: off\n",
      " Multi-lattice indexing (\"delete and retry\"): off\n",
      "                              Retry indexing: on\n"
     ]
    },
    {
     "name": "stdout",
     "output_type": "stream",
     "text": [
      "Running for x=-511.3, y=-512.3\n"
     ]
    },
    {
     "name": "stderr",
     "output_type": "stream",
     "text": [
      "59 images processed, 59 hits (100.0%), 25 indexable (42.4% of hits, 42.4% overall), 25 crystals, 11.5 images/sec.\n",
      "Waiting for the last patterns to be processed...\n",
      "Final: 100 images processed, 100 hits (100.0%), 38 indexable (38.0% of hits, 38.0% overall), 38 crystals.\n",
      "Processing XY pairs:  49%|████▉     | 215/441 [30:52<34:13,  9.09s/it]WARNING: You did not specify --int-radius.\n",
      "WARNING: I will use the default values, which are probably not appropriate for your patterns.\n",
      "This is what I understood your unit cell to be:\n",
      "orthorhombic I, right handed.\n",
      "a      b      c            alpha   beta  gamma\n",
      " 80.58  94.49 103.89 A     90.00  90.00  90.00 deg\n",
      "List of indexing methods:\n",
      "   0: xgandalf-nolatt-cell      (xgandalf using cell parameters as prior information)\n",
      "Indexing parameters:\n",
      "                  Check unit cell parameters: on\n",
      "                        Check peak alignment: on\n",
      "                   Refine indexing solutions: off\n",
      " Multi-lattice indexing (\"delete and retry\"): off\n",
      "                              Retry indexing: on\n"
     ]
    },
    {
     "name": "stdout",
     "output_type": "stream",
     "text": [
      "Running for x=-511.3, y=-512.2\n"
     ]
    },
    {
     "name": "stderr",
     "output_type": "stream",
     "text": [
      "66 images processed, 66 hits (100.0%), 29 indexable (43.9% of hits, 43.9% overall), 29 crystals, 13.2 images/sec.\n",
      "Waiting for the last patterns to be processed...\n",
      "Final: 100 images processed, 100 hits (100.0%), 40 indexable (40.0% of hits, 40.0% overall), 40 crystals.\n",
      "Processing XY pairs:  49%|████▉     | 216/441 [31:01<33:35,  8.96s/it]WARNING: You did not specify --int-radius.\n",
      "WARNING: I will use the default values, which are probably not appropriate for your patterns.\n",
      "This is what I understood your unit cell to be:\n",
      "orthorhombic I, right handed.\n",
      "a      b      c            alpha   beta  gamma\n",
      " 80.58  94.49 103.89 A     90.00  90.00  90.00 deg\n",
      "List of indexing methods:\n",
      "   0: xgandalf-nolatt-cell      (xgandalf using cell parameters as prior information)\n",
      "Indexing parameters:\n",
      "                  Check unit cell parameters: on\n",
      "                        Check peak alignment: on\n",
      "                   Refine indexing solutions: off\n",
      " Multi-lattice indexing (\"delete and retry\"): off\n",
      "                              Retry indexing: on\n"
     ]
    },
    {
     "name": "stdout",
     "output_type": "stream",
     "text": [
      "Running for x=-511.3, y=-512.1\n"
     ]
    },
    {
     "name": "stderr",
     "output_type": "stream",
     "text": [
      "62 images processed, 62 hits (100.0%), 30 indexable (48.4% of hits, 48.4% overall), 30 crystals, 12.3 images/sec.\n",
      "Waiting for the last patterns to be processed...\n",
      "Final: 100 images processed, 100 hits (100.0%), 42 indexable (42.0% of hits, 42.0% overall), 42 crystals.\n",
      "Processing XY pairs:  49%|████▉     | 217/441 [31:09<32:30,  8.71s/it]WARNING: You did not specify --int-radius.\n",
      "WARNING: I will use the default values, which are probably not appropriate for your patterns.\n",
      "This is what I understood your unit cell to be:\n",
      "orthorhombic I, right handed.\n",
      "a      b      c            alpha   beta  gamma\n",
      " 80.58  94.49 103.89 A     90.00  90.00  90.00 deg\n",
      "List of indexing methods:\n",
      "   0: xgandalf-nolatt-cell      (xgandalf using cell parameters as prior information)\n",
      "Indexing parameters:\n",
      "                  Check unit cell parameters: on\n",
      "                        Check peak alignment: on\n",
      "                   Refine indexing solutions: off\n",
      " Multi-lattice indexing (\"delete and retry\"): off\n",
      "                              Retry indexing: on\n"
     ]
    },
    {
     "name": "stdout",
     "output_type": "stream",
     "text": [
      "Running for x=-511.3, y=-512.0\n"
     ]
    },
    {
     "name": "stderr",
     "output_type": "stream",
     "text": [
      "63 images processed, 63 hits (100.0%), 34 indexable (54.0% of hits, 54.0% overall), 34 crystals, 12.0 images/sec.\n",
      "Waiting for the last patterns to be processed...\n",
      "Final: 100 images processed, 100 hits (100.0%), 47 indexable (47.0% of hits, 47.0% overall), 47 crystals.\n",
      "Processing XY pairs:  49%|████▉     | 218/441 [31:18<32:41,  8.80s/it]WARNING: You did not specify --int-radius.\n",
      "WARNING: I will use the default values, which are probably not appropriate for your patterns.\n",
      "This is what I understood your unit cell to be:\n",
      "orthorhombic I, right handed.\n",
      "a      b      c            alpha   beta  gamma\n",
      " 80.58  94.49 103.89 A     90.00  90.00  90.00 deg\n",
      "List of indexing methods:\n",
      "   0: xgandalf-nolatt-cell      (xgandalf using cell parameters as prior information)\n",
      "Indexing parameters:\n",
      "                  Check unit cell parameters: on\n",
      "                        Check peak alignment: on\n",
      "                   Refine indexing solutions: off\n",
      " Multi-lattice indexing (\"delete and retry\"): off\n",
      "                              Retry indexing: on\n"
     ]
    },
    {
     "name": "stdout",
     "output_type": "stream",
     "text": [
      "Running for x=-511.3, y=-511.9\n"
     ]
    },
    {
     "name": "stderr",
     "output_type": "stream",
     "text": [
      "61 images processed, 61 hits (100.0%), 22 indexable (36.1% of hits, 36.1% overall), 22 crystals, 11.9 images/sec.\n",
      "Waiting for the last patterns to be processed...\n",
      "Final: 100 images processed, 100 hits (100.0%), 32 indexable (32.0% of hits, 32.0% overall), 32 crystals.\n",
      "Processing XY pairs:  50%|████▉     | 219/441 [31:27<32:49,  8.87s/it]WARNING: You did not specify --int-radius.\n",
      "WARNING: I will use the default values, which are probably not appropriate for your patterns.\n",
      "This is what I understood your unit cell to be:\n",
      "orthorhombic I, right handed.\n",
      "a      b      c            alpha   beta  gamma\n",
      " 80.58  94.49 103.89 A     90.00  90.00  90.00 deg\n",
      "List of indexing methods:\n",
      "   0: xgandalf-nolatt-cell      (xgandalf using cell parameters as prior information)\n",
      "Indexing parameters:\n",
      "                  Check unit cell parameters: on\n",
      "                        Check peak alignment: on\n",
      "                   Refine indexing solutions: off\n",
      " Multi-lattice indexing (\"delete and retry\"): off\n",
      "                              Retry indexing: on\n"
     ]
    },
    {
     "name": "stdout",
     "output_type": "stream",
     "text": [
      "Running for x=-511.3, y=-511.8\n"
     ]
    },
    {
     "name": "stderr",
     "output_type": "stream",
     "text": [
      "WARNING: Radius determination failed\n",
      "61 images processed, 61 hits (100.0%), 21 indexable (34.4% of hits, 34.4% overall), 21 crystals, 11.8 images/sec.\n",
      "Waiting for the last patterns to be processed...\n",
      "Final: 100 images processed, 100 hits (100.0%), 31 indexable (31.0% of hits, 31.0% overall), 31 crystals.\n",
      "Processing XY pairs:  50%|████▉     | 220/441 [31:36<33:04,  8.98s/it]WARNING: You did not specify --int-radius.\n",
      "WARNING: I will use the default values, which are probably not appropriate for your patterns.\n",
      "This is what I understood your unit cell to be:\n",
      "orthorhombic I, right handed.\n",
      "a      b      c            alpha   beta  gamma\n",
      " 80.58  94.49 103.89 A     90.00  90.00  90.00 deg\n",
      "List of indexing methods:\n",
      "   0: xgandalf-nolatt-cell      (xgandalf using cell parameters as prior information)\n",
      "Indexing parameters:\n",
      "                  Check unit cell parameters: on\n",
      "                        Check peak alignment: on\n",
      "                   Refine indexing solutions: off\n",
      " Multi-lattice indexing (\"delete and retry\"): off\n",
      "                              Retry indexing: on\n"
     ]
    },
    {
     "name": "stdout",
     "output_type": "stream",
     "text": [
      "Running for x=-511.3, y=-511.7\n"
     ]
    },
    {
     "name": "stderr",
     "output_type": "stream",
     "text": [
      "58 images processed, 58 hits (100.0%), 19 indexable (32.8% of hits, 32.8% overall), 19 crystals, 11.5 images/sec.\n",
      "Waiting for the last patterns to be processed...\n",
      "Final: 100 images processed, 100 hits (100.0%), 33 indexable (33.0% of hits, 33.0% overall), 33 crystals.\n",
      "Processing XY pairs:  50%|█████     | 221/441 [31:45<32:44,  8.93s/it]WARNING: You did not specify --int-radius.\n",
      "WARNING: I will use the default values, which are probably not appropriate for your patterns.\n",
      "This is what I understood your unit cell to be:\n",
      "orthorhombic I, right handed.\n",
      "a      b      c            alpha   beta  gamma\n",
      " 80.58  94.49 103.89 A     90.00  90.00  90.00 deg\n",
      "List of indexing methods:\n",
      "   0: xgandalf-nolatt-cell      (xgandalf using cell parameters as prior information)\n",
      "Indexing parameters:\n",
      "                  Check unit cell parameters: on\n",
      "                        Check peak alignment: on\n",
      "                   Refine indexing solutions: off\n",
      " Multi-lattice indexing (\"delete and retry\"): off\n",
      "                              Retry indexing: on\n"
     ]
    },
    {
     "name": "stdout",
     "output_type": "stream",
     "text": [
      "Running for x=-511.3, y=-511.6\n"
     ]
    },
    {
     "name": "stderr",
     "output_type": "stream",
     "text": [
      "59 images processed, 59 hits (100.0%), 19 indexable (32.2% of hits, 32.2% overall), 19 crystals, 11.3 images/sec.\n",
      "Waiting for the last patterns to be processed...\n",
      "Final: 100 images processed, 100 hits (100.0%), 33 indexable (33.0% of hits, 33.0% overall), 33 crystals.\n",
      "Processing XY pairs:  50%|█████     | 222/441 [31:54<32:58,  9.04s/it]WARNING: You did not specify --int-radius.\n",
      "WARNING: I will use the default values, which are probably not appropriate for your patterns.\n",
      "This is what I understood your unit cell to be:\n",
      "orthorhombic I, right handed.\n",
      "a      b      c            alpha   beta  gamma\n",
      " 80.58  94.49 103.89 A     90.00  90.00  90.00 deg\n",
      "List of indexing methods:\n",
      "   0: xgandalf-nolatt-cell      (xgandalf using cell parameters as prior information)\n",
      "Indexing parameters:\n",
      "                  Check unit cell parameters: on\n",
      "                        Check peak alignment: on\n",
      "                   Refine indexing solutions: off\n",
      " Multi-lattice indexing (\"delete and retry\"): off\n",
      "                              Retry indexing: on\n"
     ]
    },
    {
     "name": "stdout",
     "output_type": "stream",
     "text": [
      "Running for x=-511.3, y=-511.5\n"
     ]
    },
    {
     "name": "stderr",
     "output_type": "stream",
     "text": [
      "60 images processed, 60 hits (100.0%), 19 indexable (31.7% of hits, 31.7% overall), 19 crystals, 11.4 images/sec.\n",
      "Waiting for the last patterns to be processed...\n",
      "Final: 100 images processed, 100 hits (100.0%), 29 indexable (29.0% of hits, 29.0% overall), 29 crystals.\n",
      "Processing XY pairs:  51%|█████     | 223/441 [32:03<32:47,  9.02s/it]WARNING: You did not specify --int-radius.\n",
      "WARNING: I will use the default values, which are probably not appropriate for your patterns.\n",
      "This is what I understood your unit cell to be:\n",
      "orthorhombic I, right handed.\n",
      "a      b      c            alpha   beta  gamma\n",
      " 80.58  94.49 103.89 A     90.00  90.00  90.00 deg\n",
      "List of indexing methods:\n",
      "   0: xgandalf-nolatt-cell      (xgandalf using cell parameters as prior information)\n",
      "Indexing parameters:\n",
      "                  Check unit cell parameters: on\n",
      "                        Check peak alignment: on\n",
      "                   Refine indexing solutions: off\n",
      " Multi-lattice indexing (\"delete and retry\"): off\n",
      "                              Retry indexing: on\n"
     ]
    },
    {
     "name": "stdout",
     "output_type": "stream",
     "text": [
      "Running for x=-511.3, y=-511.4\n"
     ]
    },
    {
     "name": "stderr",
     "output_type": "stream",
     "text": [
      "57 images processed, 57 hits (100.0%), 19 indexable (33.3% of hits, 33.3% overall), 19 crystals, 11.3 images/sec.\n",
      "Waiting for the last patterns to be processed...\n",
      "Final: 100 images processed, 100 hits (100.0%), 29 indexable (29.0% of hits, 29.0% overall), 29 crystals.\n",
      "Processing XY pairs:  51%|█████     | 224/441 [32:13<33:07,  9.16s/it]WARNING: You did not specify --int-radius.\n",
      "WARNING: I will use the default values, which are probably not appropriate for your patterns.\n",
      "This is what I understood your unit cell to be:\n",
      "orthorhombic I, right handed.\n",
      "a      b      c            alpha   beta  gamma\n",
      " 80.58  94.49 103.89 A     90.00  90.00  90.00 deg\n",
      "List of indexing methods:\n",
      "   0: xgandalf-nolatt-cell      (xgandalf using cell parameters as prior information)\n",
      "Indexing parameters:\n",
      "                  Check unit cell parameters: on\n",
      "                        Check peak alignment: on\n",
      "                   Refine indexing solutions: off\n",
      " Multi-lattice indexing (\"delete and retry\"): off\n",
      "                              Retry indexing: on\n"
     ]
    },
    {
     "name": "stdout",
     "output_type": "stream",
     "text": [
      "Running for x=-511.3, y=-511.3\n"
     ]
    },
    {
     "name": "stderr",
     "output_type": "stream",
     "text": [
      "57 images processed, 57 hits (100.0%), 19 indexable (33.3% of hits, 33.3% overall), 19 crystals, 11.1 images/sec.\n",
      "Waiting for the last patterns to be processed...\n",
      "Final: 100 images processed, 100 hits (100.0%), 31 indexable (31.0% of hits, 31.0% overall), 31 crystals.\n",
      "Processing XY pairs:  51%|█████     | 225/441 [32:22<33:24,  9.28s/it]WARNING: You did not specify --int-radius.\n",
      "WARNING: I will use the default values, which are probably not appropriate for your patterns.\n",
      "This is what I understood your unit cell to be:\n",
      "orthorhombic I, right handed.\n",
      "a      b      c            alpha   beta  gamma\n",
      " 80.58  94.49 103.89 A     90.00  90.00  90.00 deg\n",
      "List of indexing methods:\n",
      "   0: xgandalf-nolatt-cell      (xgandalf using cell parameters as prior information)\n",
      "Indexing parameters:\n",
      "                  Check unit cell parameters: on\n",
      "                        Check peak alignment: on\n",
      "                   Refine indexing solutions: off\n",
      " Multi-lattice indexing (\"delete and retry\"): off\n",
      "                              Retry indexing: on\n"
     ]
    },
    {
     "name": "stdout",
     "output_type": "stream",
     "text": [
      "Running for x=-512.8, y=-512.8\n"
     ]
    },
    {
     "name": "stderr",
     "output_type": "stream",
     "text": [
      "58 images processed, 58 hits (100.0%), 13 indexable (22.4% of hits, 22.4% overall), 13 crystals, 11.1 images/sec.\n",
      "Waiting for the last patterns to be processed...\n",
      "Final: 100 images processed, 100 hits (100.0%), 25 indexable (25.0% of hits, 25.0% overall), 25 crystals.\n",
      "Processing XY pairs:  51%|█████     | 226/441 [32:32<33:19,  9.30s/it]WARNING: You did not specify --int-radius.\n",
      "WARNING: I will use the default values, which are probably not appropriate for your patterns.\n",
      "This is what I understood your unit cell to be:\n",
      "orthorhombic I, right handed.\n",
      "a      b      c            alpha   beta  gamma\n",
      " 80.58  94.49 103.89 A     90.00  90.00  90.00 deg\n",
      "List of indexing methods:\n",
      "   0: xgandalf-nolatt-cell      (xgandalf using cell parameters as prior information)\n",
      "Indexing parameters:\n",
      "                  Check unit cell parameters: on\n",
      "                        Check peak alignment: on\n",
      "                   Refine indexing solutions: off\n",
      " Multi-lattice indexing (\"delete and retry\"): off\n",
      "                              Retry indexing: on\n"
     ]
    },
    {
     "name": "stdout",
     "output_type": "stream",
     "text": [
      "Running for x=-512.8, y=-512.7\n"
     ]
    },
    {
     "name": "stderr",
     "output_type": "stream",
     "text": [
      "WARNING: Radius determination failed\n",
      "56 images processed, 56 hits (100.0%), 23 indexable (41.1% of hits, 41.1% overall), 23 crystals, 11.0 images/sec.\n",
      "Waiting for the last patterns to be processed...\n",
      "Final: 100 images processed, 100 hits (100.0%), 29 indexable (29.0% of hits, 29.0% overall), 29 crystals.\n",
      "Processing XY pairs:  51%|█████▏    | 227/441 [32:41<33:14,  9.32s/it]WARNING: You did not specify --int-radius.\n",
      "WARNING: I will use the default values, which are probably not appropriate for your patterns.\n",
      "This is what I understood your unit cell to be:\n",
      "orthorhombic I, right handed.\n",
      "a      b      c            alpha   beta  gamma\n",
      " 80.58  94.49 103.89 A     90.00  90.00  90.00 deg\n",
      "List of indexing methods:\n",
      "   0: xgandalf-nolatt-cell      (xgandalf using cell parameters as prior information)\n",
      "Indexing parameters:\n",
      "                  Check unit cell parameters: on\n",
      "                        Check peak alignment: on\n",
      "                   Refine indexing solutions: off\n",
      " Multi-lattice indexing (\"delete and retry\"): off\n",
      "                              Retry indexing: on\n"
     ]
    },
    {
     "name": "stdout",
     "output_type": "stream",
     "text": [
      "Running for x=-512.8, y=-512.6\n"
     ]
    },
    {
     "name": "stderr",
     "output_type": "stream",
     "text": [
      "55 images processed, 55 hits (100.0%), 16 indexable (29.1% of hits, 29.1% overall), 16 crystals, 11.0 images/sec.\n",
      "Waiting for the last patterns to be processed...\n",
      "Final: 100 images processed, 100 hits (100.0%), 28 indexable (28.0% of hits, 28.0% overall), 28 crystals.\n",
      "Processing XY pairs:  52%|█████▏    | 228/441 [32:51<33:13,  9.36s/it]WARNING: You did not specify --int-radius.\n",
      "WARNING: I will use the default values, which are probably not appropriate for your patterns.\n",
      "This is what I understood your unit cell to be:\n",
      "orthorhombic I, right handed.\n",
      "a      b      c            alpha   beta  gamma\n",
      " 80.58  94.49 103.89 A     90.00  90.00  90.00 deg\n",
      "List of indexing methods:\n",
      "   0: xgandalf-nolatt-cell      (xgandalf using cell parameters as prior information)\n",
      "Indexing parameters:\n",
      "                  Check unit cell parameters: on\n",
      "                        Check peak alignment: on\n",
      "                   Refine indexing solutions: off\n",
      " Multi-lattice indexing (\"delete and retry\"): off\n",
      "                              Retry indexing: on\n"
     ]
    },
    {
     "name": "stdout",
     "output_type": "stream",
     "text": [
      "Running for x=-512.8, y=-512.5\n"
     ]
    },
    {
     "name": "stderr",
     "output_type": "stream",
     "text": [
      "WARNING: Radius determination failed\n",
      "62 images processed, 62 hits (100.0%), 22 indexable (35.5% of hits, 35.5% overall), 22 crystals, 12.3 images/sec.\n",
      "Waiting for the last patterns to be processed...\n",
      "Final: 100 images processed, 100 hits (100.0%), 35 indexable (35.0% of hits, 35.0% overall), 35 crystals.\n",
      "Processing XY pairs:  52%|█████▏    | 229/441 [32:59<32:35,  9.22s/it]WARNING: You did not specify --int-radius.\n",
      "WARNING: I will use the default values, which are probably not appropriate for your patterns.\n",
      "This is what I understood your unit cell to be:\n",
      "orthorhombic I, right handed.\n",
      "a      b      c            alpha   beta  gamma\n",
      " 80.58  94.49 103.89 A     90.00  90.00  90.00 deg\n",
      "List of indexing methods:\n",
      "   0: xgandalf-nolatt-cell      (xgandalf using cell parameters as prior information)\n",
      "Indexing parameters:\n",
      "                  Check unit cell parameters: on\n",
      "                        Check peak alignment: on\n",
      "                   Refine indexing solutions: off\n",
      " Multi-lattice indexing (\"delete and retry\"): off\n",
      "                              Retry indexing: on\n"
     ]
    },
    {
     "name": "stdout",
     "output_type": "stream",
     "text": [
      "Running for x=-512.8, y=-512.4\n"
     ]
    },
    {
     "name": "stderr",
     "output_type": "stream",
     "text": [
      "61 images processed, 61 hits (100.0%), 22 indexable (36.1% of hits, 36.1% overall), 22 crystals, 12.1 images/sec.\n",
      "Waiting for the last patterns to be processed...\n",
      "Final: 100 images processed, 100 hits (100.0%), 35 indexable (35.0% of hits, 35.0% overall), 35 crystals.\n",
      "Processing XY pairs:  52%|█████▏    | 230/441 [33:08<32:13,  9.17s/it]WARNING: You did not specify --int-radius.\n",
      "WARNING: I will use the default values, which are probably not appropriate for your patterns.\n",
      "This is what I understood your unit cell to be:\n",
      "orthorhombic I, right handed.\n",
      "a      b      c            alpha   beta  gamma\n",
      " 80.58  94.49 103.89 A     90.00  90.00  90.00 deg\n",
      "List of indexing methods:\n",
      "   0: xgandalf-nolatt-cell      (xgandalf using cell parameters as prior information)\n",
      "Indexing parameters:\n",
      "                  Check unit cell parameters: on\n",
      "                        Check peak alignment: on\n",
      "                   Refine indexing solutions: off\n",
      " Multi-lattice indexing (\"delete and retry\"): off\n",
      "                              Retry indexing: on\n"
     ]
    },
    {
     "name": "stdout",
     "output_type": "stream",
     "text": [
      "Running for x=-512.8, y=-512.3\n"
     ]
    },
    {
     "name": "stderr",
     "output_type": "stream",
     "text": [
      "58 images processed, 58 hits (100.0%), 20 indexable (34.5% of hits, 34.5% overall), 20 crystals, 11.4 images/sec.\n",
      "Waiting for the last patterns to be processed...\n",
      "Final: 100 images processed, 100 hits (100.0%), 40 indexable (40.0% of hits, 40.0% overall), 40 crystals.\n",
      "Processing XY pairs:  52%|█████▏    | 231/441 [33:18<32:01,  9.15s/it]WARNING: You did not specify --int-radius.\n",
      "WARNING: I will use the default values, which are probably not appropriate for your patterns.\n",
      "This is what I understood your unit cell to be:\n",
      "orthorhombic I, right handed.\n",
      "a      b      c            alpha   beta  gamma\n",
      " 80.58  94.49 103.89 A     90.00  90.00  90.00 deg\n",
      "List of indexing methods:\n",
      "   0: xgandalf-nolatt-cell      (xgandalf using cell parameters as prior information)\n",
      "Indexing parameters:\n",
      "                  Check unit cell parameters: on\n",
      "                        Check peak alignment: on\n",
      "                   Refine indexing solutions: off\n",
      " Multi-lattice indexing (\"delete and retry\"): off\n",
      "                              Retry indexing: on\n"
     ]
    },
    {
     "name": "stdout",
     "output_type": "stream",
     "text": [
      "Running for x=-512.8, y=-512.2\n"
     ]
    },
    {
     "name": "stderr",
     "output_type": "stream",
     "text": [
      "WARNING: Radius determination failed\n",
      "63 images processed, 63 hits (100.0%), 30 indexable (47.6% of hits, 47.6% overall), 30 crystals, 12.2 images/sec.\n",
      "Waiting for the last patterns to be processed...\n",
      "Final: 100 images processed, 100 hits (100.0%), 44 indexable (44.0% of hits, 44.0% overall), 44 crystals.\n",
      "Processing XY pairs:  53%|█████▎    | 232/441 [33:27<31:38,  9.08s/it]WARNING: You did not specify --int-radius.\n",
      "WARNING: I will use the default values, which are probably not appropriate for your patterns.\n",
      "This is what I understood your unit cell to be:\n",
      "orthorhombic I, right handed.\n",
      "a      b      c            alpha   beta  gamma\n",
      " 80.58  94.49 103.89 A     90.00  90.00  90.00 deg\n",
      "List of indexing methods:\n",
      "   0: xgandalf-nolatt-cell      (xgandalf using cell parameters as prior information)\n",
      "Indexing parameters:\n",
      "                  Check unit cell parameters: on\n",
      "                        Check peak alignment: on\n",
      "                   Refine indexing solutions: off\n",
      " Multi-lattice indexing (\"delete and retry\"): off\n",
      "                              Retry indexing: on\n"
     ]
    },
    {
     "name": "stdout",
     "output_type": "stream",
     "text": [
      "Running for x=-512.8, y=-512.1\n"
     ]
    },
    {
     "name": "stderr",
     "output_type": "stream",
     "text": [
      "61 images processed, 61 hits (100.0%), 27 indexable (44.3% of hits, 44.3% overall), 27 crystals, 12.1 images/sec.\n",
      "Waiting for the last patterns to be processed...\n",
      "Final: 100 images processed, 100 hits (100.0%), 40 indexable (40.0% of hits, 40.0% overall), 40 crystals.\n",
      "Processing XY pairs:  53%|█████▎    | 233/441 [33:35<31:08,  8.99s/it]WARNING: You did not specify --int-radius.\n",
      "WARNING: I will use the default values, which are probably not appropriate for your patterns.\n",
      "This is what I understood your unit cell to be:\n",
      "orthorhombic I, right handed.\n",
      "a      b      c            alpha   beta  gamma\n",
      " 80.58  94.49 103.89 A     90.00  90.00  90.00 deg\n",
      "List of indexing methods:\n",
      "   0: xgandalf-nolatt-cell      (xgandalf using cell parameters as prior information)\n",
      "Indexing parameters:\n",
      "                  Check unit cell parameters: on\n",
      "                        Check peak alignment: on\n",
      "                   Refine indexing solutions: off\n",
      " Multi-lattice indexing (\"delete and retry\"): off\n",
      "                              Retry indexing: on\n"
     ]
    },
    {
     "name": "stdout",
     "output_type": "stream",
     "text": [
      "Running for x=-512.8, y=-512.0\n"
     ]
    },
    {
     "name": "stderr",
     "output_type": "stream",
     "text": [
      "64 images processed, 64 hits (100.0%), 28 indexable (43.8% of hits, 43.8% overall), 28 crystals, 12.7 images/sec.\n",
      "Waiting for the last patterns to be processed...\n",
      "Final: 100 images processed, 100 hits (100.0%), 38 indexable (38.0% of hits, 38.0% overall), 38 crystals.\n",
      "Processing XY pairs:  53%|█████▎    | 234/441 [33:44<30:34,  8.86s/it]WARNING: You did not specify --int-radius.\n",
      "WARNING: I will use the default values, which are probably not appropriate for your patterns.\n",
      "This is what I understood your unit cell to be:\n",
      "orthorhombic I, right handed.\n",
      "a      b      c            alpha   beta  gamma\n",
      " 80.58  94.49 103.89 A     90.00  90.00  90.00 deg\n",
      "List of indexing methods:\n",
      "   0: xgandalf-nolatt-cell      (xgandalf using cell parameters as prior information)\n",
      "Indexing parameters:\n",
      "                  Check unit cell parameters: on\n",
      "                        Check peak alignment: on\n",
      "                   Refine indexing solutions: off\n",
      " Multi-lattice indexing (\"delete and retry\"): off\n",
      "                              Retry indexing: on\n"
     ]
    },
    {
     "name": "stdout",
     "output_type": "stream",
     "text": [
      "Running for x=-512.8, y=-511.9\n"
     ]
    },
    {
     "name": "stderr",
     "output_type": "stream",
     "text": [
      "62 images processed, 62 hits (100.0%), 33 indexable (53.2% of hits, 53.2% overall), 33 crystals, 12.3 images/sec.\n",
      "Waiting for the last patterns to be processed...\n",
      "Final: 100 images processed, 100 hits (100.0%), 46 indexable (46.0% of hits, 46.0% overall), 46 crystals.\n",
      "Processing XY pairs:  53%|█████▎    | 235/441 [33:53<30:30,  8.89s/it]WARNING: You did not specify --int-radius.\n",
      "WARNING: I will use the default values, which are probably not appropriate for your patterns.\n",
      "This is what I understood your unit cell to be:\n",
      "orthorhombic I, right handed.\n",
      "a      b      c            alpha   beta  gamma\n",
      " 80.58  94.49 103.89 A     90.00  90.00  90.00 deg\n",
      "List of indexing methods:\n",
      "   0: xgandalf-nolatt-cell      (xgandalf using cell parameters as prior information)\n",
      "Indexing parameters:\n",
      "                  Check unit cell parameters: on\n",
      "                        Check peak alignment: on\n",
      "                   Refine indexing solutions: off\n",
      " Multi-lattice indexing (\"delete and retry\"): off\n",
      "                              Retry indexing: on\n"
     ]
    },
    {
     "name": "stdout",
     "output_type": "stream",
     "text": [
      "Running for x=-512.8, y=-511.8\n"
     ]
    },
    {
     "name": "stderr",
     "output_type": "stream",
     "text": [
      "62 images processed, 62 hits (100.0%), 31 indexable (50.0% of hits, 50.0% overall), 31 crystals, 12.3 images/sec.\n",
      "Waiting for the last patterns to be processed...\n",
      "Final: 100 images processed, 100 hits (100.0%), 44 indexable (44.0% of hits, 44.0% overall), 44 crystals.\n",
      "Processing XY pairs:  54%|█████▎    | 236/441 [34:02<30:30,  8.93s/it]WARNING: You did not specify --int-radius.\n",
      "WARNING: I will use the default values, which are probably not appropriate for your patterns.\n",
      "This is what I understood your unit cell to be:\n",
      "orthorhombic I, right handed.\n",
      "a      b      c            alpha   beta  gamma\n",
      " 80.58  94.49 103.89 A     90.00  90.00  90.00 deg\n",
      "List of indexing methods:\n",
      "   0: xgandalf-nolatt-cell      (xgandalf using cell parameters as prior information)\n",
      "Indexing parameters:\n",
      "                  Check unit cell parameters: on\n",
      "                        Check peak alignment: on\n",
      "                   Refine indexing solutions: off\n",
      " Multi-lattice indexing (\"delete and retry\"): off\n",
      "                              Retry indexing: on\n"
     ]
    },
    {
     "name": "stdout",
     "output_type": "stream",
     "text": [
      "Running for x=-512.8, y=-511.7\n"
     ]
    },
    {
     "name": "stderr",
     "output_type": "stream",
     "text": [
      "61 images processed, 61 hits (100.0%), 25 indexable (41.0% of hits, 41.0% overall), 25 crystals, 12.2 images/sec.\n",
      "Waiting for the last patterns to be processed...\n",
      "Final: 100 images processed, 100 hits (100.0%), 43 indexable (43.0% of hits, 43.0% overall), 43 crystals.\n",
      "Processing XY pairs:  54%|█████▎    | 237/441 [34:11<30:19,  8.92s/it]WARNING: You did not specify --int-radius.\n",
      "WARNING: I will use the default values, which are probably not appropriate for your patterns.\n",
      "This is what I understood your unit cell to be:\n",
      "orthorhombic I, right handed.\n",
      "a      b      c            alpha   beta  gamma\n",
      " 80.58  94.49 103.89 A     90.00  90.00  90.00 deg\n",
      "List of indexing methods:\n",
      "   0: xgandalf-nolatt-cell      (xgandalf using cell parameters as prior information)\n",
      "Indexing parameters:\n",
      "                  Check unit cell parameters: on\n",
      "                        Check peak alignment: on\n",
      "                   Refine indexing solutions: off\n",
      " Multi-lattice indexing (\"delete and retry\"): off\n",
      "                              Retry indexing: on\n"
     ]
    },
    {
     "name": "stdout",
     "output_type": "stream",
     "text": [
      "Running for x=-512.8, y=-511.6\n"
     ]
    },
    {
     "name": "stderr",
     "output_type": "stream",
     "text": [
      "63 images processed, 63 hits (100.0%), 24 indexable (38.1% of hits, 38.1% overall), 24 crystals, 12.4 images/sec.\n",
      "Waiting for the last patterns to be processed...\n",
      "Final: 100 images processed, 100 hits (100.0%), 34 indexable (34.0% of hits, 34.0% overall), 34 crystals.\n",
      "Processing XY pairs:  54%|█████▍    | 238/441 [34:20<30:21,  8.97s/it]WARNING: You did not specify --int-radius.\n",
      "WARNING: I will use the default values, which are probably not appropriate for your patterns.\n",
      "This is what I understood your unit cell to be:\n",
      "orthorhombic I, right handed.\n",
      "a      b      c            alpha   beta  gamma\n",
      " 80.58  94.49 103.89 A     90.00  90.00  90.00 deg\n",
      "List of indexing methods:\n",
      "   0: xgandalf-nolatt-cell      (xgandalf using cell parameters as prior information)\n",
      "Indexing parameters:\n",
      "                  Check unit cell parameters: on\n",
      "                        Check peak alignment: on\n",
      "                   Refine indexing solutions: off\n",
      " Multi-lattice indexing (\"delete and retry\"): off\n",
      "                              Retry indexing: on\n"
     ]
    },
    {
     "name": "stdout",
     "output_type": "stream",
     "text": [
      "Running for x=-512.8, y=-511.5\n"
     ]
    },
    {
     "name": "stderr",
     "output_type": "stream",
     "text": [
      "62 images processed, 62 hits (100.0%), 25 indexable (40.3% of hits, 40.3% overall), 25 crystals, 12.3 images/sec.\n",
      "Waiting for the last patterns to be processed...\n",
      "Final: 100 images processed, 100 hits (100.0%), 43 indexable (43.0% of hits, 43.0% overall), 43 crystals.\n",
      "Processing XY pairs:  54%|█████▍    | 239/441 [34:28<29:17,  8.70s/it]WARNING: You did not specify --int-radius.\n",
      "WARNING: I will use the default values, which are probably not appropriate for your patterns.\n",
      "This is what I understood your unit cell to be:\n",
      "orthorhombic I, right handed.\n",
      "a      b      c            alpha   beta  gamma\n",
      " 80.58  94.49 103.89 A     90.00  90.00  90.00 deg\n",
      "List of indexing methods:\n",
      "   0: xgandalf-nolatt-cell      (xgandalf using cell parameters as prior information)\n",
      "Indexing parameters:\n",
      "                  Check unit cell parameters: on\n",
      "                        Check peak alignment: on\n",
      "                   Refine indexing solutions: off\n",
      " Multi-lattice indexing (\"delete and retry\"): off\n",
      "                              Retry indexing: on\n"
     ]
    },
    {
     "name": "stdout",
     "output_type": "stream",
     "text": [
      "Running for x=-512.8, y=-511.4\n"
     ]
    },
    {
     "name": "stderr",
     "output_type": "stream",
     "text": [
      "60 images processed, 60 hits (100.0%), 21 indexable (35.0% of hits, 35.0% overall), 21 crystals, 11.8 images/sec.\n",
      "Waiting for the last patterns to be processed...\n",
      "Final: 100 images processed, 100 hits (100.0%), 38 indexable (38.0% of hits, 38.0% overall), 38 crystals.\n",
      "Processing XY pairs:  54%|█████▍    | 240/441 [34:37<29:23,  8.77s/it]WARNING: You did not specify --int-radius.\n",
      "WARNING: I will use the default values, which are probably not appropriate for your patterns.\n",
      "This is what I understood your unit cell to be:\n",
      "orthorhombic I, right handed.\n",
      "a      b      c            alpha   beta  gamma\n",
      " 80.58  94.49 103.89 A     90.00  90.00  90.00 deg\n",
      "List of indexing methods:\n",
      "   0: xgandalf-nolatt-cell      (xgandalf using cell parameters as prior information)\n",
      "Indexing parameters:\n",
      "                  Check unit cell parameters: on\n",
      "                        Check peak alignment: on\n",
      "                   Refine indexing solutions: off\n",
      " Multi-lattice indexing (\"delete and retry\"): off\n",
      "                              Retry indexing: on\n"
     ]
    },
    {
     "name": "stdout",
     "output_type": "stream",
     "text": [
      "Running for x=-512.8, y=-511.3\n"
     ]
    },
    {
     "name": "stderr",
     "output_type": "stream",
     "text": [
      "59 images processed, 59 hits (100.0%), 18 indexable (30.5% of hits, 30.5% overall), 18 crystals, 11.5 images/sec.\n",
      "Waiting for the last patterns to be processed...\n",
      "Final: 100 images processed, 100 hits (100.0%), 34 indexable (34.0% of hits, 34.0% overall), 34 crystals.\n",
      "Processing XY pairs:  55%|█████▍    | 241/441 [34:46<29:50,  8.95s/it]WARNING: You did not specify --int-radius.\n",
      "WARNING: I will use the default values, which are probably not appropriate for your patterns.\n",
      "This is what I understood your unit cell to be:\n",
      "orthorhombic I, right handed.\n",
      "a      b      c            alpha   beta  gamma\n",
      " 80.58  94.49 103.89 A     90.00  90.00  90.00 deg\n",
      "List of indexing methods:\n",
      "   0: xgandalf-nolatt-cell      (xgandalf using cell parameters as prior information)\n",
      "Indexing parameters:\n",
      "                  Check unit cell parameters: on\n",
      "                        Check peak alignment: on\n",
      "                   Refine indexing solutions: off\n",
      " Multi-lattice indexing (\"delete and retry\"): off\n",
      "                              Retry indexing: on\n"
     ]
    },
    {
     "name": "stdout",
     "output_type": "stream",
     "text": [
      "Running for x=-512.8, y=-511.2\n"
     ]
    },
    {
     "name": "stderr",
     "output_type": "stream",
     "text": [
      "63 images processed, 63 hits (100.0%), 27 indexable (42.9% of hits, 42.9% overall), 27 crystals, 12.4 images/sec.\n",
      "Waiting for the last patterns to be processed...\n",
      "Final: 100 images processed, 100 hits (100.0%), 34 indexable (34.0% of hits, 34.0% overall), 34 crystals.\n",
      "Processing XY pairs:  55%|█████▍    | 242/441 [34:55<29:54,  9.02s/it]WARNING: You did not specify --int-radius.\n",
      "WARNING: I will use the default values, which are probably not appropriate for your patterns.\n",
      "This is what I understood your unit cell to be:\n",
      "orthorhombic I, right handed.\n",
      "a      b      c            alpha   beta  gamma\n",
      " 80.58  94.49 103.89 A     90.00  90.00  90.00 deg\n",
      "List of indexing methods:\n",
      "   0: xgandalf-nolatt-cell      (xgandalf using cell parameters as prior information)\n",
      "Indexing parameters:\n",
      "                  Check unit cell parameters: on\n",
      "                        Check peak alignment: on\n",
      "                   Refine indexing solutions: off\n",
      " Multi-lattice indexing (\"delete and retry\"): off\n",
      "                              Retry indexing: on\n"
     ]
    },
    {
     "name": "stdout",
     "output_type": "stream",
     "text": [
      "Running for x=-512.7, y=-512.8\n"
     ]
    },
    {
     "name": "stderr",
     "output_type": "stream",
     "text": [
      "WARNING: Radius determination failed\n",
      "55 images processed, 55 hits (100.0%), 11 indexable (20.0% of hits, 20.0% overall), 11 crystals, 10.9 images/sec.\n",
      "Waiting for the last patterns to be processed...\n",
      "Final: 100 images processed, 100 hits (100.0%), 22 indexable (22.0% of hits, 22.0% overall), 22 crystals.\n",
      "Processing XY pairs:  55%|█████▌    | 243/441 [35:05<30:10,  9.14s/it]WARNING: You did not specify --int-radius.\n",
      "WARNING: I will use the default values, which are probably not appropriate for your patterns.\n",
      "This is what I understood your unit cell to be:\n",
      "orthorhombic I, right handed.\n",
      "a      b      c            alpha   beta  gamma\n",
      " 80.58  94.49 103.89 A     90.00  90.00  90.00 deg\n",
      "List of indexing methods:\n",
      "   0: xgandalf-nolatt-cell      (xgandalf using cell parameters as prior information)\n",
      "Indexing parameters:\n",
      "                  Check unit cell parameters: on\n",
      "                        Check peak alignment: on\n",
      "                   Refine indexing solutions: off\n",
      " Multi-lattice indexing (\"delete and retry\"): off\n",
      "                              Retry indexing: on\n"
     ]
    },
    {
     "name": "stdout",
     "output_type": "stream",
     "text": [
      "Running for x=-512.7, y=-511.2\n"
     ]
    },
    {
     "name": "stderr",
     "output_type": "stream",
     "text": [
      "WARNING: Radius determination failed\n",
      "60 images processed, 60 hits (100.0%), 21 indexable (35.0% of hits, 35.0% overall), 21 crystals, 11.7 images/sec.\n",
      "Waiting for the last patterns to be processed...\n",
      "Final: 100 images processed, 100 hits (100.0%), 36 indexable (36.0% of hits, 36.0% overall), 36 crystals.\n",
      "Processing XY pairs:  55%|█████▌    | 244/441 [35:14<30:01,  9.14s/it]WARNING: You did not specify --int-radius.\n",
      "WARNING: I will use the default values, which are probably not appropriate for your patterns.\n",
      "This is what I understood your unit cell to be:\n",
      "orthorhombic I, right handed.\n",
      "a      b      c            alpha   beta  gamma\n",
      " 80.58  94.49 103.89 A     90.00  90.00  90.00 deg\n",
      "List of indexing methods:\n",
      "   0: xgandalf-nolatt-cell      (xgandalf using cell parameters as prior information)\n",
      "Indexing parameters:\n",
      "                  Check unit cell parameters: on\n",
      "                        Check peak alignment: on\n",
      "                   Refine indexing solutions: off\n",
      " Multi-lattice indexing (\"delete and retry\"): off\n",
      "                              Retry indexing: on\n"
     ]
    },
    {
     "name": "stdout",
     "output_type": "stream",
     "text": [
      "Running for x=-512.6, y=-512.8\n"
     ]
    },
    {
     "name": "stderr",
     "output_type": "stream",
     "text": [
      "57 images processed, 57 hits (100.0%), 17 indexable (29.8% of hits, 29.8% overall), 17 crystals, 11.4 images/sec.\n",
      "Waiting for the last patterns to be processed...\n",
      "Final: 100 images processed, 100 hits (100.0%), 25 indexable (25.0% of hits, 25.0% overall), 25 crystals.\n",
      "Processing XY pairs:  56%|█████▌    | 245/441 [35:23<30:03,  9.20s/it]WARNING: You did not specify --int-radius.\n",
      "WARNING: I will use the default values, which are probably not appropriate for your patterns.\n",
      "This is what I understood your unit cell to be:\n",
      "orthorhombic I, right handed.\n",
      "a      b      c            alpha   beta  gamma\n",
      " 80.58  94.49 103.89 A     90.00  90.00  90.00 deg\n",
      "List of indexing methods:\n",
      "   0: xgandalf-nolatt-cell      (xgandalf using cell parameters as prior information)\n",
      "Indexing parameters:\n",
      "                  Check unit cell parameters: on\n",
      "                        Check peak alignment: on\n",
      "                   Refine indexing solutions: off\n",
      " Multi-lattice indexing (\"delete and retry\"): off\n",
      "                              Retry indexing: on\n"
     ]
    },
    {
     "name": "stdout",
     "output_type": "stream",
     "text": [
      "Running for x=-512.6, y=-511.2\n"
     ]
    },
    {
     "name": "stderr",
     "output_type": "stream",
     "text": [
      "60 images processed, 60 hits (100.0%), 28 indexable (46.7% of hits, 46.7% overall), 28 crystals, 11.7 images/sec.\n",
      "Waiting for the last patterns to be processed...\n",
      "Final: 100 images processed, 100 hits (100.0%), 46 indexable (46.0% of hits, 46.0% overall), 46 crystals.\n",
      "Processing XY pairs:  56%|█████▌    | 246/441 [35:33<29:54,  9.20s/it]WARNING: You did not specify --int-radius.\n",
      "WARNING: I will use the default values, which are probably not appropriate for your patterns.\n",
      "This is what I understood your unit cell to be:\n",
      "orthorhombic I, right handed.\n",
      "a      b      c            alpha   beta  gamma\n",
      " 80.58  94.49 103.89 A     90.00  90.00  90.00 deg\n",
      "List of indexing methods:\n",
      "   0: xgandalf-nolatt-cell      (xgandalf using cell parameters as prior information)\n",
      "Indexing parameters:\n",
      "                  Check unit cell parameters: on\n",
      "                        Check peak alignment: on\n",
      "                   Refine indexing solutions: off\n",
      " Multi-lattice indexing (\"delete and retry\"): off\n",
      "                              Retry indexing: on\n"
     ]
    },
    {
     "name": "stdout",
     "output_type": "stream",
     "text": [
      "Running for x=-512.5, y=-512.8\n"
     ]
    },
    {
     "name": "stderr",
     "output_type": "stream",
     "text": [
      "WARNING: Radius determination failed\n",
      "60 images processed, 60 hits (100.0%), 23 indexable (38.3% of hits, 38.3% overall), 23 crystals, 11.9 images/sec.\n",
      "Waiting for the last patterns to be processed...\n",
      "Final: 100 images processed, 100 hits (100.0%), 39 indexable (39.0% of hits, 39.0% overall), 39 crystals.\n",
      "Processing XY pairs:  56%|█████▌    | 247/441 [35:41<29:24,  9.10s/it]WARNING: You did not specify --int-radius.\n",
      "WARNING: I will use the default values, which are probably not appropriate for your patterns.\n",
      "This is what I understood your unit cell to be:\n",
      "orthorhombic I, right handed.\n",
      "a      b      c            alpha   beta  gamma\n",
      " 80.58  94.49 103.89 A     90.00  90.00  90.00 deg\n",
      "List of indexing methods:\n",
      "   0: xgandalf-nolatt-cell      (xgandalf using cell parameters as prior information)\n",
      "Indexing parameters:\n",
      "                  Check unit cell parameters: on\n",
      "                        Check peak alignment: on\n",
      "                   Refine indexing solutions: off\n",
      " Multi-lattice indexing (\"delete and retry\"): off\n",
      "                              Retry indexing: on\n"
     ]
    },
    {
     "name": "stdout",
     "output_type": "stream",
     "text": [
      "Running for x=-512.5, y=-511.2\n"
     ]
    },
    {
     "name": "stderr",
     "output_type": "stream",
     "text": [
      "WARNING: Radius determination failed\n",
      "60 images processed, 60 hits (100.0%), 21 indexable (35.0% of hits, 35.0% overall), 21 crystals, 11.6 images/sec.\n",
      "Waiting for the last patterns to be processed...\n",
      "Final: 100 images processed, 100 hits (100.0%), 32 indexable (32.0% of hits, 32.0% overall), 32 crystals.\n",
      "Processing XY pairs:  56%|█████▌    | 248/441 [35:51<29:20,  9.12s/it]WARNING: You did not specify --int-radius.\n",
      "WARNING: I will use the default values, which are probably not appropriate for your patterns.\n",
      "This is what I understood your unit cell to be:\n",
      "orthorhombic I, right handed.\n",
      "a      b      c            alpha   beta  gamma\n",
      " 80.58  94.49 103.89 A     90.00  90.00  90.00 deg\n",
      "List of indexing methods:\n",
      "   0: xgandalf-nolatt-cell      (xgandalf using cell parameters as prior information)\n",
      "Indexing parameters:\n",
      "                  Check unit cell parameters: on\n",
      "                        Check peak alignment: on\n",
      "                   Refine indexing solutions: off\n",
      " Multi-lattice indexing (\"delete and retry\"): off\n",
      "                              Retry indexing: on\n"
     ]
    },
    {
     "name": "stdout",
     "output_type": "stream",
     "text": [
      "Running for x=-512.4, y=-512.8\n"
     ]
    },
    {
     "name": "stderr",
     "output_type": "stream",
     "text": [
      "55 images processed, 55 hits (100.0%), 13 indexable (23.6% of hits, 23.6% overall), 13 crystals, 11.0 images/sec.\n",
      "Waiting for the last patterns to be processed...\n",
      "Final: 100 images processed, 100 hits (100.0%), 24 indexable (24.0% of hits, 24.0% overall), 24 crystals.\n",
      "Processing XY pairs:  56%|█████▋    | 249/441 [36:00<29:30,  9.22s/it]WARNING: You did not specify --int-radius.\n",
      "WARNING: I will use the default values, which are probably not appropriate for your patterns.\n",
      "This is what I understood your unit cell to be:\n",
      "orthorhombic I, right handed.\n",
      "a      b      c            alpha   beta  gamma\n",
      " 80.58  94.49 103.89 A     90.00  90.00  90.00 deg\n",
      "List of indexing methods:\n",
      "   0: xgandalf-nolatt-cell      (xgandalf using cell parameters as prior information)\n",
      "Indexing parameters:\n",
      "                  Check unit cell parameters: on\n",
      "                        Check peak alignment: on\n",
      "                   Refine indexing solutions: off\n",
      " Multi-lattice indexing (\"delete and retry\"): off\n",
      "                              Retry indexing: on\n"
     ]
    },
    {
     "name": "stdout",
     "output_type": "stream",
     "text": [
      "Running for x=-512.4, y=-511.2\n"
     ]
    },
    {
     "name": "stderr",
     "output_type": "stream",
     "text": [
      "WARNING: Radius determination failed\n",
      "64 images processed, 64 hits (100.0%), 29 indexable (45.3% of hits, 45.3% overall), 29 crystals, 12.3 images/sec.\n",
      "Waiting for the last patterns to be processed...\n",
      "Final: 100 images processed, 100 hits (100.0%), 43 indexable (43.0% of hits, 43.0% overall), 43 crystals.\n",
      "Processing XY pairs:  57%|█████▋    | 250/441 [36:09<29:07,  9.15s/it]WARNING: You did not specify --int-radius.\n",
      "WARNING: I will use the default values, which are probably not appropriate for your patterns.\n",
      "This is what I understood your unit cell to be:\n",
      "orthorhombic I, right handed.\n",
      "a      b      c            alpha   beta  gamma\n",
      " 80.58  94.49 103.89 A     90.00  90.00  90.00 deg\n",
      "List of indexing methods:\n",
      "   0: xgandalf-nolatt-cell      (xgandalf using cell parameters as prior information)\n",
      "Indexing parameters:\n",
      "                  Check unit cell parameters: on\n",
      "                        Check peak alignment: on\n",
      "                   Refine indexing solutions: off\n",
      " Multi-lattice indexing (\"delete and retry\"): off\n",
      "                              Retry indexing: on\n"
     ]
    },
    {
     "name": "stdout",
     "output_type": "stream",
     "text": [
      "Running for x=-512.3, y=-512.8\n"
     ]
    },
    {
     "name": "stderr",
     "output_type": "stream",
     "text": [
      "59 images processed, 59 hits (100.0%), 18 indexable (30.5% of hits, 30.5% overall), 18 crystals, 11.5 images/sec.\n",
      "Waiting for the last patterns to be processed...\n",
      "Final: 100 images processed, 100 hits (100.0%), 26 indexable (26.0% of hits, 26.0% overall), 26 crystals.\n",
      "Processing XY pairs:  57%|█████▋    | 251/441 [36:18<29:13,  9.23s/it]WARNING: You did not specify --int-radius.\n",
      "WARNING: I will use the default values, which are probably not appropriate for your patterns.\n",
      "This is what I understood your unit cell to be:\n",
      "orthorhombic I, right handed.\n",
      "a      b      c            alpha   beta  gamma\n",
      " 80.58  94.49 103.89 A     90.00  90.00  90.00 deg\n",
      "List of indexing methods:\n",
      "   0: xgandalf-nolatt-cell      (xgandalf using cell parameters as prior information)\n",
      "Indexing parameters:\n",
      "                  Check unit cell parameters: on\n",
      "                        Check peak alignment: on\n",
      "                   Refine indexing solutions: off\n",
      " Multi-lattice indexing (\"delete and retry\"): off\n",
      "                              Retry indexing: on\n"
     ]
    },
    {
     "name": "stdout",
     "output_type": "stream",
     "text": [
      "Running for x=-512.3, y=-511.2\n"
     ]
    },
    {
     "name": "stderr",
     "output_type": "stream",
     "text": [
      "WARNING: Radius determination failed\n",
      "42 images processed, 42 hits (100.0%), 18 indexable (42.9% of hits, 42.9% overall), 18 crystals, 8.4 images/sec.\n",
      "Waiting for the last patterns to be processed...\n",
      "80 images processed, 80 hits (100.0%), 32 indexable (40.0% of hits, 40.0% overall), 32 crystals, 7.6 images/sec.\n",
      "Final: 100 images processed, 100 hits (100.0%), 39 indexable (39.0% of hits, 39.0% overall), 39 crystals.\n",
      "Processing XY pairs:  57%|█████▋    | 252/441 [36:32<33:25, 10.61s/it]WARNING: You did not specify --int-radius.\n",
      "WARNING: I will use the default values, which are probably not appropriate for your patterns.\n",
      "This is what I understood your unit cell to be:\n",
      "orthorhombic I, right handed.\n",
      "a      b      c            alpha   beta  gamma\n",
      " 80.58  94.49 103.89 A     90.00  90.00  90.00 deg\n",
      "List of indexing methods:\n",
      "   0: xgandalf-nolatt-cell      (xgandalf using cell parameters as prior information)\n",
      "Indexing parameters:\n",
      "                  Check unit cell parameters: on\n",
      "                        Check peak alignment: on\n",
      "                   Refine indexing solutions: off\n",
      " Multi-lattice indexing (\"delete and retry\"): off\n",
      "                              Retry indexing: on\n"
     ]
    },
    {
     "name": "stdout",
     "output_type": "stream",
     "text": [
      "Running for x=-512.2, y=-512.8\n"
     ]
    },
    {
     "name": "stderr",
     "output_type": "stream",
     "text": [
      "WARNING: Radius determination failed\n",
      "21 images processed, 21 hits (100.0%), 11 indexable (52.4% of hits, 52.4% overall), 11 crystals, 4.0 images/sec.\n",
      "62 images processed, 62 hits (100.0%), 28 indexable (45.2% of hits, 45.2% overall), 28 crystals, 8.2 images/sec.\n",
      "Waiting for the last patterns to be processed...\n",
      "98 images processed, 98 hits (100.0%), 41 indexable (41.8% of hits, 41.8% overall), 41 crystals, 6.8 images/sec.\n",
      "Final: 100 images processed, 100 hits (100.0%), 41 indexable (41.0% of hits, 41.0% overall), 41 crystals.\n",
      "Processing XY pairs:  57%|█████▋    | 253/441 [36:50<40:13, 12.84s/it]WARNING: You did not specify --int-radius.\n",
      "WARNING: I will use the default values, which are probably not appropriate for your patterns.\n",
      "This is what I understood your unit cell to be:\n",
      "orthorhombic I, right handed.\n",
      "a      b      c            alpha   beta  gamma\n",
      " 80.58  94.49 103.89 A     90.00  90.00  90.00 deg\n",
      "List of indexing methods:\n",
      "   0: xgandalf-nolatt-cell      (xgandalf using cell parameters as prior information)\n",
      "Indexing parameters:\n",
      "                  Check unit cell parameters: on\n",
      "                        Check peak alignment: on\n",
      "                   Refine indexing solutions: off\n",
      " Multi-lattice indexing (\"delete and retry\"): off\n",
      "                              Retry indexing: on\n"
     ]
    },
    {
     "name": "stdout",
     "output_type": "stream",
     "text": [
      "Running for x=-512.2, y=-511.2\n"
     ]
    },
    {
     "name": "stderr",
     "output_type": "stream",
     "text": [
      "20 images processed, 20 hits (100.0%), 11 indexable (55.0% of hits, 55.0% overall), 11 crystals, 3.9 images/sec.\n",
      "62 images processed, 62 hits (100.0%), 26 indexable (41.9% of hits, 41.9% overall), 26 crystals, 8.3 images/sec.\n",
      "Waiting for the last patterns to be processed...\n",
      "96 images processed, 96 hits (100.0%), 42 indexable (43.8% of hits, 43.8% overall), 42 crystals, 6.6 images/sec.\n",
      "Final: 100 images processed, 100 hits (100.0%), 44 indexable (44.0% of hits, 44.0% overall), 44 crystals.\n",
      "Processing XY pairs:  58%|█████▊    | 254/441 [37:09<45:04, 14.46s/it]WARNING: You did not specify --int-radius.\n",
      "WARNING: I will use the default values, which are probably not appropriate for your patterns.\n",
      "This is what I understood your unit cell to be:\n",
      "orthorhombic I, right handed.\n",
      "a      b      c            alpha   beta  gamma\n",
      " 80.58  94.49 103.89 A     90.00  90.00  90.00 deg\n",
      "List of indexing methods:\n",
      "   0: xgandalf-nolatt-cell      (xgandalf using cell parameters as prior information)\n",
      "Indexing parameters:\n",
      "                  Check unit cell parameters: on\n",
      "                        Check peak alignment: on\n",
      "                   Refine indexing solutions: off\n",
      " Multi-lattice indexing (\"delete and retry\"): off\n",
      "                              Retry indexing: on\n"
     ]
    },
    {
     "name": "stdout",
     "output_type": "stream",
     "text": [
      "Running for x=-512.1, y=-512.8\n"
     ]
    },
    {
     "name": "stderr",
     "output_type": "stream",
     "text": [
      "17 images processed, 17 hits (100.0%), 6 indexable (35.3% of hits, 35.3% overall), 6 crystals, 3.3 images/sec.\n",
      "54 images processed, 54 hits (100.0%), 17 indexable (31.5% of hits, 31.5% overall), 17 crystals, 7.1 images/sec.\n",
      "Waiting for the last patterns to be processed...\n",
      "89 images processed, 89 hits (100.0%), 25 indexable (28.1% of hits, 28.1% overall), 25 crystals, 7.0 images/sec.\n",
      "Final: 100 images processed, 100 hits (100.0%), 27 indexable (27.0% of hits, 27.0% overall), 27 crystals.\n",
      "Processing XY pairs:  58%|█████▊    | 255/441 [37:28<49:41, 16.03s/it]WARNING: You did not specify --int-radius.\n",
      "WARNING: I will use the default values, which are probably not appropriate for your patterns.\n",
      "This is what I understood your unit cell to be:\n",
      "orthorhombic I, right handed.\n",
      "a      b      c            alpha   beta  gamma\n",
      " 80.58  94.49 103.89 A     90.00  90.00  90.00 deg\n",
      "List of indexing methods:\n",
      "   0: xgandalf-nolatt-cell      (xgandalf using cell parameters as prior information)\n",
      "Indexing parameters:\n",
      "                  Check unit cell parameters: on\n",
      "                        Check peak alignment: on\n",
      "                   Refine indexing solutions: off\n",
      " Multi-lattice indexing (\"delete and retry\"): off\n",
      "                              Retry indexing: on\n"
     ]
    },
    {
     "name": "stdout",
     "output_type": "stream",
     "text": [
      "Running for x=-512.1, y=-511.2\n"
     ]
    },
    {
     "name": "stderr",
     "output_type": "stream",
     "text": [
      "21 images processed, 21 hits (100.0%), 13 indexable (61.9% of hits, 61.9% overall), 13 crystals, 4.2 images/sec.\n",
      "56 images processed, 56 hits (100.0%), 24 indexable (42.9% of hits, 42.9% overall), 24 crystals, 7.0 images/sec.\n",
      "Waiting for the last patterns to be processed...\n",
      "97 images processed, 97 hits (100.0%), 42 indexable (43.3% of hits, 43.3% overall), 42 crystals, 7.9 images/sec.\n",
      "Final: 100 images processed, 100 hits (100.0%), 42 indexable (42.0% of hits, 42.0% overall), 42 crystals.\n",
      "Processing XY pairs:  58%|█████▊    | 256/441 [37:46<51:22, 16.66s/it]WARNING: You did not specify --int-radius.\n",
      "WARNING: I will use the default values, which are probably not appropriate for your patterns.\n",
      "This is what I understood your unit cell to be:\n",
      "orthorhombic I, right handed.\n",
      "a      b      c            alpha   beta  gamma\n",
      " 80.58  94.49 103.89 A     90.00  90.00  90.00 deg\n",
      "List of indexing methods:\n",
      "   0: xgandalf-nolatt-cell      (xgandalf using cell parameters as prior information)\n",
      "Indexing parameters:\n",
      "                  Check unit cell parameters: on\n",
      "                        Check peak alignment: on\n",
      "                   Refine indexing solutions: off\n",
      " Multi-lattice indexing (\"delete and retry\"): off\n",
      "                              Retry indexing: on\n"
     ]
    },
    {
     "name": "stdout",
     "output_type": "stream",
     "text": [
      "Running for x=-512.0, y=-512.8\n"
     ]
    },
    {
     "name": "stderr",
     "output_type": "stream",
     "text": [
      "19 images processed, 19 hits (100.0%), 10 indexable (52.6% of hits, 52.6% overall), 10 crystals, 3.7 images/sec.\n",
      "59 images processed, 59 hits (100.0%), 20 indexable (33.9% of hits, 33.9% overall), 20 crystals, 8.0 images/sec.\n",
      "Waiting for the last patterns to be processed...\n",
      "95 images processed, 95 hits (100.0%), 27 indexable (28.4% of hits, 28.4% overall), 27 crystals, 6.9 images/sec.\n",
      "Final: 100 images processed, 100 hits (100.0%), 28 indexable (28.0% of hits, 28.0% overall), 28 crystals.\n",
      "Processing XY pairs:  58%|█████▊    | 257/441 [38:05<52:47, 17.22s/it]WARNING: You did not specify --int-radius.\n",
      "WARNING: I will use the default values, which are probably not appropriate for your patterns.\n",
      "This is what I understood your unit cell to be:\n",
      "orthorhombic I, right handed.\n",
      "a      b      c            alpha   beta  gamma\n",
      " 80.58  94.49 103.89 A     90.00  90.00  90.00 deg\n",
      "List of indexing methods:\n",
      "   0: xgandalf-nolatt-cell      (xgandalf using cell parameters as prior information)\n",
      "Indexing parameters:\n",
      "                  Check unit cell parameters: on\n",
      "                        Check peak alignment: on\n",
      "                   Refine indexing solutions: off\n",
      " Multi-lattice indexing (\"delete and retry\"): off\n",
      "                              Retry indexing: on\n"
     ]
    },
    {
     "name": "stdout",
     "output_type": "stream",
     "text": [
      "Running for x=-512.0, y=-511.2\n"
     ]
    },
    {
     "name": "stderr",
     "output_type": "stream",
     "text": [
      "25 images processed, 25 hits (100.0%), 15 indexable (60.0% of hits, 60.0% overall), 15 crystals, 4.9 images/sec.\n",
      "63 images processed, 63 hits (100.0%), 28 indexable (44.4% of hits, 44.4% overall), 28 crystals, 7.5 images/sec.\n",
      "Waiting for the last patterns to be processed...\n",
      "99 images processed, 99 hits (100.0%), 41 indexable (41.4% of hits, 41.4% overall), 41 crystals, 6.9 images/sec.\n",
      "Final: 100 images processed, 100 hits (100.0%), 41 indexable (41.0% of hits, 41.0% overall), 41 crystals.\n",
      "Processing XY pairs:  59%|█████▊    | 258/441 [38:23<53:05, 17.41s/it]WARNING: You did not specify --int-radius.\n",
      "WARNING: I will use the default values, which are probably not appropriate for your patterns.\n",
      "This is what I understood your unit cell to be:\n",
      "orthorhombic I, right handed.\n",
      "a      b      c            alpha   beta  gamma\n",
      " 80.58  94.49 103.89 A     90.00  90.00  90.00 deg\n",
      "List of indexing methods:\n",
      "   0: xgandalf-nolatt-cell      (xgandalf using cell parameters as prior information)\n",
      "Indexing parameters:\n",
      "                  Check unit cell parameters: on\n",
      "                        Check peak alignment: on\n",
      "                   Refine indexing solutions: off\n",
      " Multi-lattice indexing (\"delete and retry\"): off\n",
      "                              Retry indexing: on\n"
     ]
    },
    {
     "name": "stdout",
     "output_type": "stream",
     "text": [
      "Running for x=-511.9, y=-512.8\n"
     ]
    },
    {
     "name": "stderr",
     "output_type": "stream",
     "text": [
      "WARNING: Radius determination failed\n",
      "25 images processed, 25 hits (100.0%), 13 indexable (52.0% of hits, 52.0% overall), 13 crystals, 4.8 images/sec.\n",
      "65 images processed, 65 hits (100.0%), 31 indexable (47.7% of hits, 47.7% overall), 31 crystals, 7.3 images/sec.\n",
      "Waiting for the last patterns to be processed...\n",
      "99 images processed, 99 hits (100.0%), 40 indexable (40.4% of hits, 40.4% overall), 40 crystals, 6.4 images/sec.\n",
      "Final: 100 images processed, 100 hits (100.0%), 40 indexable (40.0% of hits, 40.0% overall), 40 crystals.\n",
      "Processing XY pairs:  59%|█████▊    | 259/441 [38:40<53:04, 17.49s/it]WARNING: You did not specify --int-radius.\n",
      "WARNING: I will use the default values, which are probably not appropriate for your patterns.\n",
      "This is what I understood your unit cell to be:\n",
      "orthorhombic I, right handed.\n",
      "a      b      c            alpha   beta  gamma\n",
      " 80.58  94.49 103.89 A     90.00  90.00  90.00 deg\n",
      "List of indexing methods:\n",
      "   0: xgandalf-nolatt-cell      (xgandalf using cell parameters as prior information)\n",
      "Indexing parameters:\n",
      "                  Check unit cell parameters: on\n",
      "                        Check peak alignment: on\n",
      "                   Refine indexing solutions: off\n",
      " Multi-lattice indexing (\"delete and retry\"): off\n",
      "                              Retry indexing: on\n"
     ]
    },
    {
     "name": "stdout",
     "output_type": "stream",
     "text": [
      "Running for x=-511.9, y=-511.2\n"
     ]
    },
    {
     "name": "stderr",
     "output_type": "stream",
     "text": [
      "23 images processed, 23 hits (100.0%), 12 indexable (52.2% of hits, 52.2% overall), 12 crystals, 4.6 images/sec.\n",
      "66 images processed, 66 hits (100.0%), 31 indexable (47.0% of hits, 47.0% overall), 31 crystals, 8.6 images/sec.\n",
      "Waiting for the last patterns to be processed...\n",
      "97 images processed, 97 hits (100.0%), 40 indexable (41.2% of hits, 41.2% overall), 40 crystals, 6.0 images/sec.\n",
      "Final: 100 images processed, 100 hits (100.0%), 41 indexable (41.0% of hits, 41.0% overall), 41 crystals.\n",
      "Processing XY pairs:  59%|█████▉    | 260/441 [38:58<52:59, 17.57s/it]WARNING: You did not specify --int-radius.\n",
      "WARNING: I will use the default values, which are probably not appropriate for your patterns.\n",
      "This is what I understood your unit cell to be:\n",
      "orthorhombic I, right handed.\n",
      "a      b      c            alpha   beta  gamma\n",
      " 80.58  94.49 103.89 A     90.00  90.00  90.00 deg\n",
      "List of indexing methods:\n",
      "   0: xgandalf-nolatt-cell      (xgandalf using cell parameters as prior information)\n",
      "Indexing parameters:\n",
      "                  Check unit cell parameters: on\n",
      "                        Check peak alignment: on\n",
      "                   Refine indexing solutions: off\n",
      " Multi-lattice indexing (\"delete and retry\"): off\n",
      "                              Retry indexing: on\n"
     ]
    },
    {
     "name": "stdout",
     "output_type": "stream",
     "text": [
      "Running for x=-511.8, y=-512.8\n"
     ]
    },
    {
     "name": "stderr",
     "output_type": "stream",
     "text": [
      "23 images processed, 23 hits (100.0%), 11 indexable (47.8% of hits, 47.8% overall), 11 crystals, 4.5 images/sec.\n",
      "62 images processed, 62 hits (100.0%), 26 indexable (41.9% of hits, 41.9% overall), 26 crystals, 7.3 images/sec.\n",
      "Waiting for the last patterns to be processed...\n",
      "96 images processed, 96 hits (100.0%), 33 indexable (34.4% of hits, 34.4% overall), 33 crystals, 6.8 images/sec.\n",
      "Final: 100 images processed, 100 hits (100.0%), 33 indexable (33.0% of hits, 33.0% overall), 33 crystals.\n",
      "Processing XY pairs:  59%|█████▉    | 261/441 [39:16<53:24, 17.80s/it]WARNING: You did not specify --int-radius.\n",
      "WARNING: I will use the default values, which are probably not appropriate for your patterns.\n",
      "This is what I understood your unit cell to be:\n",
      "orthorhombic I, right handed.\n",
      "a      b      c            alpha   beta  gamma\n",
      " 80.58  94.49 103.89 A     90.00  90.00  90.00 deg\n",
      "List of indexing methods:\n",
      "   0: xgandalf-nolatt-cell      (xgandalf using cell parameters as prior information)\n",
      "Indexing parameters:\n",
      "                  Check unit cell parameters: on\n",
      "                        Check peak alignment: on\n",
      "                   Refine indexing solutions: off\n",
      " Multi-lattice indexing (\"delete and retry\"): off\n",
      "                              Retry indexing: on\n"
     ]
    },
    {
     "name": "stdout",
     "output_type": "stream",
     "text": [
      "Running for x=-511.8, y=-511.2\n"
     ]
    },
    {
     "name": "stderr",
     "output_type": "stream",
     "text": [
      "24 images processed, 24 hits (100.0%), 7 indexable (29.2% of hits, 29.2% overall), 7 crystals, 4.8 images/sec.\n",
      "73 images processed, 73 hits (100.0%), 23 indexable (31.5% of hits, 31.5% overall), 23 crystals, 9.7 images/sec.\n",
      "Waiting for the last patterns to be processed...\n",
      "Final: 100 images processed, 100 hits (100.0%), 30 indexable (30.0% of hits, 30.0% overall), 30 crystals.\n",
      "Processing XY pairs:  59%|█████▉    | 262/441 [39:30<49:26, 16.57s/it]WARNING: You did not specify --int-radius.\n",
      "WARNING: I will use the default values, which are probably not appropriate for your patterns.\n",
      "This is what I understood your unit cell to be:\n",
      "orthorhombic I, right handed.\n",
      "a      b      c            alpha   beta  gamma\n",
      " 80.58  94.49 103.89 A     90.00  90.00  90.00 deg\n",
      "List of indexing methods:\n",
      "   0: xgandalf-nolatt-cell      (xgandalf using cell parameters as prior information)\n",
      "Indexing parameters:\n",
      "                  Check unit cell parameters: on\n",
      "                        Check peak alignment: on\n",
      "                   Refine indexing solutions: off\n",
      " Multi-lattice indexing (\"delete and retry\"): off\n",
      "                              Retry indexing: on\n"
     ]
    },
    {
     "name": "stdout",
     "output_type": "stream",
     "text": [
      "Running for x=-511.7, y=-512.8\n"
     ]
    },
    {
     "name": "stderr",
     "output_type": "stream",
     "text": [
      "57 images processed, 57 hits (100.0%), 19 indexable (33.3% of hits, 33.3% overall), 19 crystals, 11.3 images/sec.\n",
      "Waiting for the last patterns to be processed...\n",
      "Final: 100 images processed, 100 hits (100.0%), 29 indexable (29.0% of hits, 29.0% overall), 29 crystals.\n",
      "Processing XY pairs:  60%|█████▉    | 263/441 [39:40<42:59, 14.49s/it]WARNING: You did not specify --int-radius.\n",
      "WARNING: I will use the default values, which are probably not appropriate for your patterns.\n",
      "This is what I understood your unit cell to be:\n",
      "orthorhombic I, right handed.\n",
      "a      b      c            alpha   beta  gamma\n",
      " 80.58  94.49 103.89 A     90.00  90.00  90.00 deg\n",
      "List of indexing methods:\n",
      "   0: xgandalf-nolatt-cell      (xgandalf using cell parameters as prior information)\n",
      "Indexing parameters:\n",
      "                  Check unit cell parameters: on\n",
      "                        Check peak alignment: on\n",
      "                   Refine indexing solutions: off\n",
      " Multi-lattice indexing (\"delete and retry\"): off\n",
      "                              Retry indexing: on\n"
     ]
    },
    {
     "name": "stdout",
     "output_type": "stream",
     "text": [
      "Running for x=-511.7, y=-511.2\n"
     ]
    },
    {
     "name": "stderr",
     "output_type": "stream",
     "text": [
      "59 images processed, 59 hits (100.0%), 20 indexable (33.9% of hits, 33.9% overall), 20 crystals, 11.6 images/sec.\n",
      "Waiting for the last patterns to be processed...\n",
      "Final: 100 images processed, 100 hits (100.0%), 33 indexable (33.0% of hits, 33.0% overall), 33 crystals.\n",
      "Processing XY pairs:  60%|█████▉    | 264/441 [39:48<37:21, 12.67s/it]WARNING: You did not specify --int-radius.\n",
      "WARNING: I will use the default values, which are probably not appropriate for your patterns.\n",
      "This is what I understood your unit cell to be:\n",
      "orthorhombic I, right handed.\n",
      "a      b      c            alpha   beta  gamma\n",
      " 80.58  94.49 103.89 A     90.00  90.00  90.00 deg\n",
      "List of indexing methods:\n",
      "   0: xgandalf-nolatt-cell      (xgandalf using cell parameters as prior information)\n",
      "Indexing parameters:\n",
      "                  Check unit cell parameters: on\n",
      "                        Check peak alignment: on\n",
      "                   Refine indexing solutions: off\n",
      " Multi-lattice indexing (\"delete and retry\"): off\n",
      "                              Retry indexing: on\n"
     ]
    },
    {
     "name": "stdout",
     "output_type": "stream",
     "text": [
      "Running for x=-511.6, y=-512.8\n"
     ]
    },
    {
     "name": "stderr",
     "output_type": "stream",
     "text": [
      "58 images processed, 58 hits (100.0%), 18 indexable (31.0% of hits, 31.0% overall), 18 crystals, 11.5 images/sec.\n",
      "Waiting for the last patterns to be processed...\n",
      "Final: 100 images processed, 100 hits (100.0%), 27 indexable (27.0% of hits, 27.0% overall), 27 crystals.\n",
      "Processing XY pairs:  60%|██████    | 265/441 [39:58<34:15, 11.68s/it]WARNING: You did not specify --int-radius.\n",
      "WARNING: I will use the default values, which are probably not appropriate for your patterns.\n",
      "This is what I understood your unit cell to be:\n",
      "orthorhombic I, right handed.\n",
      "a      b      c            alpha   beta  gamma\n",
      " 80.58  94.49 103.89 A     90.00  90.00  90.00 deg\n",
      "List of indexing methods:\n",
      "   0: xgandalf-nolatt-cell      (xgandalf using cell parameters as prior information)\n",
      "Indexing parameters:\n",
      "                  Check unit cell parameters: on\n",
      "                        Check peak alignment: on\n",
      "                   Refine indexing solutions: off\n",
      " Multi-lattice indexing (\"delete and retry\"): off\n",
      "                              Retry indexing: on\n"
     ]
    },
    {
     "name": "stdout",
     "output_type": "stream",
     "text": [
      "Running for x=-511.6, y=-511.2\n"
     ]
    },
    {
     "name": "stderr",
     "output_type": "stream",
     "text": [
      "58 images processed, 58 hits (100.0%), 17 indexable (29.3% of hits, 29.3% overall), 17 crystals, 11.6 images/sec.\n",
      "Waiting for the last patterns to be processed...\n",
      "Final: 100 images processed, 100 hits (100.0%), 30 indexable (30.0% of hits, 30.0% overall), 30 crystals.\n",
      "Processing XY pairs:  60%|██████    | 266/441 [40:06<31:13, 10.71s/it]WARNING: You did not specify --int-radius.\n",
      "WARNING: I will use the default values, which are probably not appropriate for your patterns.\n",
      "This is what I understood your unit cell to be:\n",
      "orthorhombic I, right handed.\n",
      "a      b      c            alpha   beta  gamma\n",
      " 80.58  94.49 103.89 A     90.00  90.00  90.00 deg\n",
      "List of indexing methods:\n",
      "   0: xgandalf-nolatt-cell      (xgandalf using cell parameters as prior information)\n",
      "Indexing parameters:\n",
      "                  Check unit cell parameters: on\n",
      "                        Check peak alignment: on\n",
      "                   Refine indexing solutions: off\n",
      " Multi-lattice indexing (\"delete and retry\"): off\n",
      "                              Retry indexing: on\n"
     ]
    },
    {
     "name": "stdout",
     "output_type": "stream",
     "text": [
      "Running for x=-511.5, y=-512.8\n"
     ]
    },
    {
     "name": "stderr",
     "output_type": "stream",
     "text": [
      "57 images processed, 57 hits (100.0%), 16 indexable (28.1% of hits, 28.1% overall), 16 crystals, 11.1 images/sec.\n",
      "Waiting for the last patterns to be processed...\n",
      "Final: 100 images processed, 100 hits (100.0%), 30 indexable (30.0% of hits, 30.0% overall), 30 crystals.\n",
      "Processing XY pairs:  61%|██████    | 267/441 [40:16<29:57, 10.33s/it]WARNING: You did not specify --int-radius.\n",
      "WARNING: I will use the default values, which are probably not appropriate for your patterns.\n",
      "This is what I understood your unit cell to be:\n",
      "orthorhombic I, right handed.\n",
      "a      b      c            alpha   beta  gamma\n",
      " 80.58  94.49 103.89 A     90.00  90.00  90.00 deg\n",
      "List of indexing methods:\n",
      "   0: xgandalf-nolatt-cell      (xgandalf using cell parameters as prior information)\n",
      "Indexing parameters:\n",
      "                  Check unit cell parameters: on\n",
      "                        Check peak alignment: on\n",
      "                   Refine indexing solutions: off\n",
      " Multi-lattice indexing (\"delete and retry\"): off\n",
      "                              Retry indexing: on\n"
     ]
    },
    {
     "name": "stdout",
     "output_type": "stream",
     "text": [
      "Running for x=-511.5, y=-511.2\n"
     ]
    },
    {
     "name": "stderr",
     "output_type": "stream",
     "text": [
      "57 images processed, 57 hits (100.0%), 21 indexable (36.8% of hits, 36.8% overall), 21 crystals, 11.4 images/sec.\n",
      "Waiting for the last patterns to be processed...\n",
      "Final: 100 images processed, 100 hits (100.0%), 32 indexable (32.0% of hits, 32.0% overall), 32 crystals.\n",
      "Processing XY pairs:  61%|██████    | 268/441 [40:24<28:11,  9.78s/it]WARNING: You did not specify --int-radius.\n",
      "WARNING: I will use the default values, which are probably not appropriate for your patterns.\n",
      "This is what I understood your unit cell to be:\n",
      "orthorhombic I, right handed.\n",
      "a      b      c            alpha   beta  gamma\n",
      " 80.58  94.49 103.89 A     90.00  90.00  90.00 deg\n",
      "List of indexing methods:\n",
      "   0: xgandalf-nolatt-cell      (xgandalf using cell parameters as prior information)\n",
      "Indexing parameters:\n",
      "                  Check unit cell parameters: on\n",
      "                        Check peak alignment: on\n",
      "                   Refine indexing solutions: off\n",
      " Multi-lattice indexing (\"delete and retry\"): off\n",
      "                              Retry indexing: on\n"
     ]
    },
    {
     "name": "stdout",
     "output_type": "stream",
     "text": [
      "Running for x=-511.4, y=-512.8\n"
     ]
    },
    {
     "name": "stderr",
     "output_type": "stream",
     "text": [
      "WARNING: Radius determination failed\n",
      "58 images processed, 58 hits (100.0%), 14 indexable (24.1% of hits, 24.1% overall), 14 crystals, 11.4 images/sec.\n",
      "Waiting for the last patterns to be processed...\n",
      "Final: 100 images processed, 100 hits (100.0%), 22 indexable (22.0% of hits, 22.0% overall), 22 crystals.\n",
      "Processing XY pairs:  61%|██████    | 269/441 [40:33<27:47,  9.69s/it]WARNING: You did not specify --int-radius.\n",
      "WARNING: I will use the default values, which are probably not appropriate for your patterns.\n",
      "This is what I understood your unit cell to be:\n",
      "orthorhombic I, right handed.\n",
      "a      b      c            alpha   beta  gamma\n",
      " 80.58  94.49 103.89 A     90.00  90.00  90.00 deg\n",
      "List of indexing methods:\n",
      "   0: xgandalf-nolatt-cell      (xgandalf using cell parameters as prior information)\n",
      "Indexing parameters:\n",
      "                  Check unit cell parameters: on\n",
      "                        Check peak alignment: on\n",
      "                   Refine indexing solutions: off\n",
      " Multi-lattice indexing (\"delete and retry\"): off\n",
      "                              Retry indexing: on\n"
     ]
    },
    {
     "name": "stdout",
     "output_type": "stream",
     "text": [
      "Running for x=-511.4, y=-511.2\n"
     ]
    },
    {
     "name": "stderr",
     "output_type": "stream",
     "text": [
      "55 images processed, 55 hits (100.0%), 12 indexable (21.8% of hits, 21.8% overall), 12 crystals, 10.8 images/sec.\n",
      "Waiting for the last patterns to be processed...\n",
      "Final: 100 images processed, 100 hits (100.0%), 25 indexable (25.0% of hits, 25.0% overall), 25 crystals.\n",
      "Processing XY pairs:  61%|██████    | 270/441 [40:42<26:50,  9.42s/it]WARNING: You did not specify --int-radius.\n",
      "WARNING: I will use the default values, which are probably not appropriate for your patterns.\n",
      "This is what I understood your unit cell to be:\n",
      "orthorhombic I, right handed.\n",
      "a      b      c            alpha   beta  gamma\n",
      " 80.58  94.49 103.89 A     90.00  90.00  90.00 deg\n",
      "List of indexing methods:\n",
      "   0: xgandalf-nolatt-cell      (xgandalf using cell parameters as prior information)\n",
      "Indexing parameters:\n",
      "                  Check unit cell parameters: on\n",
      "                        Check peak alignment: on\n",
      "                   Refine indexing solutions: off\n",
      " Multi-lattice indexing (\"delete and retry\"): off\n",
      "                              Retry indexing: on\n"
     ]
    },
    {
     "name": "stdout",
     "output_type": "stream",
     "text": [
      "Running for x=-511.3, y=-512.8\n"
     ]
    },
    {
     "name": "stderr",
     "output_type": "stream",
     "text": [
      "47 images processed, 47 hits (100.0%), 15 indexable (31.9% of hits, 31.9% overall), 15 crystals, 9.2 images/sec.\n",
      "Waiting for the last patterns to be processed...\n",
      "Final: 100 images processed, 100 hits (100.0%), 28 indexable (28.0% of hits, 28.0% overall), 28 crystals.\n",
      "Processing XY pairs:  61%|██████▏   | 271/441 [40:52<26:40,  9.42s/it]WARNING: You did not specify --int-radius.\n",
      "WARNING: I will use the default values, which are probably not appropriate for your patterns.\n",
      "This is what I understood your unit cell to be:\n",
      "orthorhombic I, right handed.\n",
      "a      b      c            alpha   beta  gamma\n",
      " 80.58  94.49 103.89 A     90.00  90.00  90.00 deg\n",
      "List of indexing methods:\n",
      "   0: xgandalf-nolatt-cell      (xgandalf using cell parameters as prior information)\n",
      "Indexing parameters:\n",
      "                  Check unit cell parameters: on\n",
      "                        Check peak alignment: on\n",
      "                   Refine indexing solutions: off\n",
      " Multi-lattice indexing (\"delete and retry\"): off\n",
      "                              Retry indexing: on\n"
     ]
    },
    {
     "name": "stdout",
     "output_type": "stream",
     "text": [
      "Running for x=-511.3, y=-511.2\n"
     ]
    },
    {
     "name": "stderr",
     "output_type": "stream",
     "text": [
      "59 images processed, 59 hits (100.0%), 16 indexable (27.1% of hits, 27.1% overall), 16 crystals, 11.5 images/sec.\n",
      "Waiting for the last patterns to be processed...\n",
      "Final: 100 images processed, 100 hits (100.0%), 24 indexable (24.0% of hits, 24.0% overall), 24 crystals.\n",
      "Processing XY pairs:  62%|██████▏   | 272/441 [41:01<26:32,  9.42s/it]WARNING: You did not specify --int-radius.\n",
      "WARNING: I will use the default values, which are probably not appropriate for your patterns.\n",
      "This is what I understood your unit cell to be:\n",
      "orthorhombic I, right handed.\n",
      "a      b      c            alpha   beta  gamma\n",
      " 80.58  94.49 103.89 A     90.00  90.00  90.00 deg\n",
      "List of indexing methods:\n",
      "   0: xgandalf-nolatt-cell      (xgandalf using cell parameters as prior information)\n",
      "Indexing parameters:\n",
      "                  Check unit cell parameters: on\n",
      "                        Check peak alignment: on\n",
      "                   Refine indexing solutions: off\n",
      " Multi-lattice indexing (\"delete and retry\"): off\n",
      "                              Retry indexing: on\n"
     ]
    },
    {
     "name": "stdout",
     "output_type": "stream",
     "text": [
      "Running for x=-511.2, y=-512.8\n"
     ]
    },
    {
     "name": "stderr",
     "output_type": "stream",
     "text": [
      "55 images processed, 55 hits (100.0%), 14 indexable (25.5% of hits, 25.5% overall), 14 crystals, 10.9 images/sec.\n",
      "Waiting for the last patterns to be processed...\n",
      "Final: 100 images processed, 100 hits (100.0%), 25 indexable (25.0% of hits, 25.0% overall), 25 crystals.\n",
      "Processing XY pairs:  62%|██████▏   | 273/441 [41:11<26:34,  9.49s/it]WARNING: You did not specify --int-radius.\n",
      "WARNING: I will use the default values, which are probably not appropriate for your patterns.\n",
      "This is what I understood your unit cell to be:\n",
      "orthorhombic I, right handed.\n",
      "a      b      c            alpha   beta  gamma\n",
      " 80.58  94.49 103.89 A     90.00  90.00  90.00 deg\n",
      "List of indexing methods:\n",
      "   0: xgandalf-nolatt-cell      (xgandalf using cell parameters as prior information)\n",
      "Indexing parameters:\n",
      "                  Check unit cell parameters: on\n",
      "                        Check peak alignment: on\n",
      "                   Refine indexing solutions: off\n",
      " Multi-lattice indexing (\"delete and retry\"): off\n",
      "                              Retry indexing: on\n"
     ]
    },
    {
     "name": "stdout",
     "output_type": "stream",
     "text": [
      "Running for x=-511.2, y=-512.7\n"
     ]
    },
    {
     "name": "stderr",
     "output_type": "stream",
     "text": [
      "57 images processed, 57 hits (100.0%), 18 indexable (31.6% of hits, 31.6% overall), 18 crystals, 11.1 images/sec.\n",
      "Waiting for the last patterns to be processed...\n",
      "Final: 100 images processed, 100 hits (100.0%), 26 indexable (26.0% of hits, 26.0% overall), 26 crystals.\n",
      "Processing XY pairs:  62%|██████▏   | 274/441 [41:21<26:42,  9.60s/it]WARNING: You did not specify --int-radius.\n",
      "WARNING: I will use the default values, which are probably not appropriate for your patterns.\n",
      "This is what I understood your unit cell to be:\n",
      "orthorhombic I, right handed.\n",
      "a      b      c            alpha   beta  gamma\n",
      " 80.58  94.49 103.89 A     90.00  90.00  90.00 deg\n",
      "List of indexing methods:\n",
      "   0: xgandalf-nolatt-cell      (xgandalf using cell parameters as prior information)\n",
      "Indexing parameters:\n",
      "                  Check unit cell parameters: on\n",
      "                        Check peak alignment: on\n",
      "                   Refine indexing solutions: off\n",
      " Multi-lattice indexing (\"delete and retry\"): off\n",
      "                              Retry indexing: on\n"
     ]
    },
    {
     "name": "stdout",
     "output_type": "stream",
     "text": [
      "Running for x=-511.2, y=-512.6\n"
     ]
    },
    {
     "name": "stderr",
     "output_type": "stream",
     "text": [
      "59 images processed, 59 hits (100.0%), 22 indexable (37.3% of hits, 37.3% overall), 22 crystals, 11.6 images/sec.\n",
      "Waiting for the last patterns to be processed...\n",
      "Final: 100 images processed, 100 hits (100.0%), 32 indexable (32.0% of hits, 32.0% overall), 32 crystals.\n",
      "Processing XY pairs:  62%|██████▏   | 275/441 [41:29<25:26,  9.20s/it]WARNING: You did not specify --int-radius.\n",
      "WARNING: I will use the default values, which are probably not appropriate for your patterns.\n",
      "This is what I understood your unit cell to be:\n",
      "orthorhombic I, right handed.\n",
      "a      b      c            alpha   beta  gamma\n",
      " 80.58  94.49 103.89 A     90.00  90.00  90.00 deg\n",
      "List of indexing methods:\n",
      "   0: xgandalf-nolatt-cell      (xgandalf using cell parameters as prior information)\n",
      "Indexing parameters:\n",
      "                  Check unit cell parameters: on\n",
      "                        Check peak alignment: on\n",
      "                   Refine indexing solutions: off\n",
      " Multi-lattice indexing (\"delete and retry\"): off\n",
      "                              Retry indexing: on\n"
     ]
    },
    {
     "name": "stdout",
     "output_type": "stream",
     "text": [
      "Running for x=-511.2, y=-512.5\n"
     ]
    },
    {
     "name": "stderr",
     "output_type": "stream",
     "text": [
      "60 images processed, 60 hits (100.0%), 18 indexable (30.0% of hits, 30.0% overall), 18 crystals, 11.8 images/sec.\n",
      "Waiting for the last patterns to be processed...\n",
      "Final: 100 images processed, 100 hits (100.0%), 24 indexable (24.0% of hits, 24.0% overall), 24 crystals.\n",
      "Processing XY pairs:  63%|██████▎   | 276/441 [41:38<25:16,  9.19s/it]WARNING: You did not specify --int-radius.\n",
      "WARNING: I will use the default values, which are probably not appropriate for your patterns.\n",
      "This is what I understood your unit cell to be:\n",
      "orthorhombic I, right handed.\n",
      "a      b      c            alpha   beta  gamma\n",
      " 80.58  94.49 103.89 A     90.00  90.00  90.00 deg\n",
      "List of indexing methods:\n",
      "   0: xgandalf-nolatt-cell      (xgandalf using cell parameters as prior information)\n",
      "Indexing parameters:\n",
      "                  Check unit cell parameters: on\n",
      "                        Check peak alignment: on\n",
      "                   Refine indexing solutions: off\n",
      " Multi-lattice indexing (\"delete and retry\"): off\n",
      "                              Retry indexing: on\n"
     ]
    },
    {
     "name": "stdout",
     "output_type": "stream",
     "text": [
      "Running for x=-511.2, y=-512.4\n"
     ]
    },
    {
     "name": "stderr",
     "output_type": "stream",
     "text": [
      "63 images processed, 63 hits (100.0%), 20 indexable (31.7% of hits, 31.7% overall), 20 crystals, 12.4 images/sec.\n",
      "Waiting for the last patterns to be processed...\n",
      "Final: 100 images processed, 100 hits (100.0%), 29 indexable (29.0% of hits, 29.0% overall), 29 crystals.\n",
      "Processing XY pairs:  63%|██████▎   | 277/441 [41:46<23:56,  8.76s/it]WARNING: You did not specify --int-radius.\n",
      "WARNING: I will use the default values, which are probably not appropriate for your patterns.\n",
      "This is what I understood your unit cell to be:\n",
      "orthorhombic I, right handed.\n",
      "a      b      c            alpha   beta  gamma\n",
      " 80.58  94.49 103.89 A     90.00  90.00  90.00 deg\n",
      "List of indexing methods:\n",
      "   0: xgandalf-nolatt-cell      (xgandalf using cell parameters as prior information)\n",
      "Indexing parameters:\n",
      "                  Check unit cell parameters: on\n",
      "                        Check peak alignment: on\n",
      "                   Refine indexing solutions: off\n",
      " Multi-lattice indexing (\"delete and retry\"): off\n",
      "                              Retry indexing: on\n"
     ]
    },
    {
     "name": "stdout",
     "output_type": "stream",
     "text": [
      "Running for x=-511.2, y=-512.3\n"
     ]
    },
    {
     "name": "stderr",
     "output_type": "stream",
     "text": [
      "58 images processed, 58 hits (100.0%), 20 indexable (34.5% of hits, 34.5% overall), 20 crystals, 11.5 images/sec.\n",
      "Waiting for the last patterns to be processed...\n",
      "Final: 100 images processed, 100 hits (100.0%), 37 indexable (37.0% of hits, 37.0% overall), 37 crystals.\n",
      "Processing XY pairs:  63%|██████▎   | 278/441 [41:54<23:34,  8.68s/it]WARNING: You did not specify --int-radius.\n",
      "WARNING: I will use the default values, which are probably not appropriate for your patterns.\n",
      "This is what I understood your unit cell to be:\n",
      "orthorhombic I, right handed.\n",
      "a      b      c            alpha   beta  gamma\n",
      " 80.58  94.49 103.89 A     90.00  90.00  90.00 deg\n",
      "List of indexing methods:\n",
      "   0: xgandalf-nolatt-cell      (xgandalf using cell parameters as prior information)\n",
      "Indexing parameters:\n",
      "                  Check unit cell parameters: on\n",
      "                        Check peak alignment: on\n",
      "                   Refine indexing solutions: off\n",
      " Multi-lattice indexing (\"delete and retry\"): off\n",
      "                              Retry indexing: on\n"
     ]
    },
    {
     "name": "stdout",
     "output_type": "stream",
     "text": [
      "Running for x=-511.2, y=-512.2\n"
     ]
    },
    {
     "name": "stderr",
     "output_type": "stream",
     "text": [
      "62 images processed, 62 hits (100.0%), 25 indexable (40.3% of hits, 40.3% overall), 25 crystals, 11.6 images/sec.\n",
      "Waiting for the last patterns to be processed...\n",
      "Final: 100 images processed, 100 hits (100.0%), 33 indexable (33.0% of hits, 33.0% overall), 33 crystals.\n",
      "Processing XY pairs:  63%|██████▎   | 279/441 [42:03<23:49,  8.82s/it]WARNING: You did not specify --int-radius.\n",
      "WARNING: I will use the default values, which are probably not appropriate for your patterns.\n",
      "This is what I understood your unit cell to be:\n",
      "orthorhombic I, right handed.\n",
      "a      b      c            alpha   beta  gamma\n",
      " 80.58  94.49 103.89 A     90.00  90.00  90.00 deg\n",
      "List of indexing methods:\n",
      "   0: xgandalf-nolatt-cell      (xgandalf using cell parameters as prior information)\n",
      "Indexing parameters:\n",
      "                  Check unit cell parameters: on\n",
      "                        Check peak alignment: on\n",
      "                   Refine indexing solutions: off\n",
      " Multi-lattice indexing (\"delete and retry\"): off\n",
      "                              Retry indexing: on\n"
     ]
    },
    {
     "name": "stdout",
     "output_type": "stream",
     "text": [
      "Running for x=-511.2, y=-512.1\n"
     ]
    },
    {
     "name": "stderr",
     "output_type": "stream",
     "text": [
      "59 images processed, 59 hits (100.0%), 20 indexable (33.9% of hits, 33.9% overall), 20 crystals, 11.4 images/sec.\n",
      "Waiting for the last patterns to be processed...\n",
      "Final: 100 images processed, 100 hits (100.0%), 34 indexable (34.0% of hits, 34.0% overall), 34 crystals.\n",
      "Processing XY pairs:  63%|██████▎   | 280/441 [42:13<24:23,  9.09s/it]WARNING: You did not specify --int-radius.\n",
      "WARNING: I will use the default values, which are probably not appropriate for your patterns.\n",
      "This is what I understood your unit cell to be:\n",
      "orthorhombic I, right handed.\n",
      "a      b      c            alpha   beta  gamma\n",
      " 80.58  94.49 103.89 A     90.00  90.00  90.00 deg\n",
      "List of indexing methods:\n",
      "   0: xgandalf-nolatt-cell      (xgandalf using cell parameters as prior information)\n",
      "Indexing parameters:\n",
      "                  Check unit cell parameters: on\n",
      "                        Check peak alignment: on\n",
      "                   Refine indexing solutions: off\n",
      " Multi-lattice indexing (\"delete and retry\"): off\n",
      "                              Retry indexing: on\n",
      "WARNING: Radius determination failed\n"
     ]
    },
    {
     "name": "stdout",
     "output_type": "stream",
     "text": [
      "Running for x=-511.2, y=-512.0\n"
     ]
    },
    {
     "name": "stderr",
     "output_type": "stream",
     "text": [
      "60 images processed, 60 hits (100.0%), 20 indexable (33.3% of hits, 33.3% overall), 20 crystals, 11.8 images/sec.\n",
      "Waiting for the last patterns to be processed...\n",
      "Final: 100 images processed, 100 hits (100.0%), 31 indexable (31.0% of hits, 31.0% overall), 31 crystals.\n",
      "Processing XY pairs:  64%|██████▎   | 281/441 [42:21<23:28,  8.80s/it]WARNING: You did not specify --int-radius.\n",
      "WARNING: I will use the default values, which are probably not appropriate for your patterns.\n",
      "This is what I understood your unit cell to be:\n",
      "orthorhombic I, right handed.\n",
      "a      b      c            alpha   beta  gamma\n",
      " 80.58  94.49 103.89 A     90.00  90.00  90.00 deg\n",
      "List of indexing methods:\n",
      "   0: xgandalf-nolatt-cell      (xgandalf using cell parameters as prior information)\n",
      "Indexing parameters:\n",
      "                  Check unit cell parameters: on\n",
      "                        Check peak alignment: on\n",
      "                   Refine indexing solutions: off\n",
      " Multi-lattice indexing (\"delete and retry\"): off\n",
      "                              Retry indexing: on\n",
      "WARNING: Radius determination failed\n"
     ]
    },
    {
     "name": "stdout",
     "output_type": "stream",
     "text": [
      "Running for x=-511.2, y=-511.9\n"
     ]
    },
    {
     "name": "stderr",
     "output_type": "stream",
     "text": [
      "61 images processed, 61 hits (100.0%), 22 indexable (36.1% of hits, 36.1% overall), 22 crystals, 11.5 images/sec.\n",
      "Waiting for the last patterns to be processed...\n",
      "Final: 100 images processed, 100 hits (100.0%), 31 indexable (31.0% of hits, 31.0% overall), 31 crystals.\n",
      "Processing XY pairs:  64%|██████▍   | 282/441 [42:29<22:50,  8.62s/it]WARNING: You did not specify --int-radius.\n",
      "WARNING: I will use the default values, which are probably not appropriate for your patterns.\n",
      "This is what I understood your unit cell to be:\n",
      "orthorhombic I, right handed.\n",
      "a      b      c            alpha   beta  gamma\n",
      " 80.58  94.49 103.89 A     90.00  90.00  90.00 deg\n",
      "List of indexing methods:\n",
      "   0: xgandalf-nolatt-cell      (xgandalf using cell parameters as prior information)\n",
      "Indexing parameters:\n",
      "                  Check unit cell parameters: on\n",
      "                        Check peak alignment: on\n",
      "                   Refine indexing solutions: off\n",
      " Multi-lattice indexing (\"delete and retry\"): off\n",
      "                              Retry indexing: on\n"
     ]
    },
    {
     "name": "stdout",
     "output_type": "stream",
     "text": [
      "Running for x=-511.2, y=-511.8\n"
     ]
    },
    {
     "name": "stderr",
     "output_type": "stream",
     "text": [
      "59 images processed, 59 hits (100.0%), 17 indexable (28.8% of hits, 28.8% overall), 17 crystals, 11.7 images/sec.\n",
      "Waiting for the last patterns to be processed...\n",
      "Final: 100 images processed, 100 hits (100.0%), 29 indexable (29.0% of hits, 29.0% overall), 29 crystals.\n",
      "Processing XY pairs:  64%|██████▍   | 283/441 [42:39<23:19,  8.86s/it]WARNING: You did not specify --int-radius.\n",
      "WARNING: I will use the default values, which are probably not appropriate for your patterns.\n",
      "This is what I understood your unit cell to be:\n",
      "orthorhombic I, right handed.\n",
      "a      b      c            alpha   beta  gamma\n",
      " 80.58  94.49 103.89 A     90.00  90.00  90.00 deg\n",
      "List of indexing methods:\n",
      "   0: xgandalf-nolatt-cell      (xgandalf using cell parameters as prior information)\n",
      "Indexing parameters:\n",
      "                  Check unit cell parameters: on\n",
      "                        Check peak alignment: on\n",
      "                   Refine indexing solutions: off\n",
      " Multi-lattice indexing (\"delete and retry\"): off\n",
      "                              Retry indexing: on\n"
     ]
    },
    {
     "name": "stdout",
     "output_type": "stream",
     "text": [
      "Running for x=-511.2, y=-511.7\n"
     ]
    },
    {
     "name": "stderr",
     "output_type": "stream",
     "text": [
      "WARNING: Radius determination failed\n",
      "64 images processed, 64 hits (100.0%), 27 indexable (42.2% of hits, 42.2% overall), 27 crystals, 12.3 images/sec.\n",
      "Waiting for the last patterns to be processed...\n",
      "Final: 100 images processed, 100 hits (100.0%), 36 indexable (36.0% of hits, 36.0% overall), 36 crystals.\n",
      "Processing XY pairs:  64%|██████▍   | 284/441 [42:48<23:14,  8.88s/it]WARNING: You did not specify --int-radius.\n",
      "WARNING: I will use the default values, which are probably not appropriate for your patterns.\n",
      "This is what I understood your unit cell to be:\n",
      "orthorhombic I, right handed.\n",
      "a      b      c            alpha   beta  gamma\n",
      " 80.58  94.49 103.89 A     90.00  90.00  90.00 deg\n",
      "List of indexing methods:\n",
      "   0: xgandalf-nolatt-cell      (xgandalf using cell parameters as prior information)\n",
      "Indexing parameters:\n",
      "                  Check unit cell parameters: on\n",
      "                        Check peak alignment: on\n",
      "                   Refine indexing solutions: off\n",
      " Multi-lattice indexing (\"delete and retry\"): off\n",
      "                              Retry indexing: on\n"
     ]
    },
    {
     "name": "stdout",
     "output_type": "stream",
     "text": [
      "Running for x=-511.2, y=-511.6\n"
     ]
    },
    {
     "name": "stderr",
     "output_type": "stream",
     "text": [
      "62 images processed, 62 hits (100.0%), 19 indexable (30.6% of hits, 30.6% overall), 19 crystals, 12.0 images/sec.\n",
      "Waiting for the last patterns to be processed...\n",
      "Final: 100 images processed, 100 hits (100.0%), 26 indexable (26.0% of hits, 26.0% overall), 26 crystals.\n",
      "Processing XY pairs:  65%|██████▍   | 285/441 [42:57<23:21,  8.99s/it]WARNING: You did not specify --int-radius.\n",
      "WARNING: I will use the default values, which are probably not appropriate for your patterns.\n",
      "This is what I understood your unit cell to be:\n",
      "orthorhombic I, right handed.\n",
      "a      b      c            alpha   beta  gamma\n",
      " 80.58  94.49 103.89 A     90.00  90.00  90.00 deg\n",
      "List of indexing methods:\n",
      "   0: xgandalf-nolatt-cell      (xgandalf using cell parameters as prior information)\n",
      "Indexing parameters:\n",
      "                  Check unit cell parameters: on\n",
      "                        Check peak alignment: on\n",
      "                   Refine indexing solutions: off\n",
      " Multi-lattice indexing (\"delete and retry\"): off\n",
      "                              Retry indexing: on\n"
     ]
    },
    {
     "name": "stdout",
     "output_type": "stream",
     "text": [
      "Running for x=-511.2, y=-511.5\n"
     ]
    },
    {
     "name": "stderr",
     "output_type": "stream",
     "text": [
      "WARNING: Radius determination failed\n",
      "57 images processed, 57 hits (100.0%), 12 indexable (21.1% of hits, 21.1% overall), 12 crystals, 11.4 images/sec.\n",
      "Waiting for the last patterns to be processed...\n",
      "Final: 100 images processed, 100 hits (100.0%), 24 indexable (24.0% of hits, 24.0% overall), 24 crystals.\n",
      "Processing XY pairs:  65%|██████▍   | 286/441 [43:06<23:31,  9.11s/it]WARNING: You did not specify --int-radius.\n",
      "WARNING: I will use the default values, which are probably not appropriate for your patterns.\n",
      "This is what I understood your unit cell to be:\n",
      "orthorhombic I, right handed.\n",
      "a      b      c            alpha   beta  gamma\n",
      " 80.58  94.49 103.89 A     90.00  90.00  90.00 deg\n",
      "List of indexing methods:\n",
      "   0: xgandalf-nolatt-cell      (xgandalf using cell parameters as prior information)\n",
      "Indexing parameters:\n",
      "                  Check unit cell parameters: on\n",
      "                        Check peak alignment: on\n",
      "                   Refine indexing solutions: off\n",
      " Multi-lattice indexing (\"delete and retry\"): off\n",
      "                              Retry indexing: on\n"
     ]
    },
    {
     "name": "stdout",
     "output_type": "stream",
     "text": [
      "Running for x=-511.2, y=-511.4\n"
     ]
    },
    {
     "name": "stderr",
     "output_type": "stream",
     "text": [
      "61 images processed, 61 hits (100.0%), 12 indexable (19.7% of hits, 19.7% overall), 12 crystals, 12.2 images/sec.\n",
      "Waiting for the last patterns to be processed...\n",
      "WARNING: Radius determination failed\n",
      "Final: 100 images processed, 100 hits (100.0%), 24 indexable (24.0% of hits, 24.0% overall), 24 crystals.\n",
      "Processing XY pairs:  65%|██████▌   | 287/441 [43:16<23:22,  9.11s/it]WARNING: You did not specify --int-radius.\n",
      "WARNING: I will use the default values, which are probably not appropriate for your patterns.\n",
      "This is what I understood your unit cell to be:\n",
      "orthorhombic I, right handed.\n",
      "a      b      c            alpha   beta  gamma\n",
      " 80.58  94.49 103.89 A     90.00  90.00  90.00 deg\n",
      "List of indexing methods:\n",
      "   0: xgandalf-nolatt-cell      (xgandalf using cell parameters as prior information)\n",
      "Indexing parameters:\n",
      "                  Check unit cell parameters: on\n",
      "                        Check peak alignment: on\n",
      "                   Refine indexing solutions: off\n",
      " Multi-lattice indexing (\"delete and retry\"): off\n",
      "                              Retry indexing: on\n"
     ]
    },
    {
     "name": "stdout",
     "output_type": "stream",
     "text": [
      "Running for x=-511.2, y=-511.3\n"
     ]
    },
    {
     "name": "stderr",
     "output_type": "stream",
     "text": [
      "60 images processed, 60 hits (100.0%), 14 indexable (23.3% of hits, 23.3% overall), 14 crystals, 11.8 images/sec.\n",
      "Waiting for the last patterns to be processed...\n",
      "Final: 100 images processed, 100 hits (100.0%), 22 indexable (22.0% of hits, 22.0% overall), 22 crystals.\n",
      "Processing XY pairs:  65%|██████▌   | 288/441 [43:25<23:21,  9.16s/it]WARNING: You did not specify --int-radius.\n",
      "WARNING: I will use the default values, which are probably not appropriate for your patterns.\n",
      "This is what I understood your unit cell to be:\n",
      "orthorhombic I, right handed.\n",
      "a      b      c            alpha   beta  gamma\n",
      " 80.58  94.49 103.89 A     90.00  90.00  90.00 deg\n",
      "List of indexing methods:\n",
      "   0: xgandalf-nolatt-cell      (xgandalf using cell parameters as prior information)\n",
      "Indexing parameters:\n",
      "                  Check unit cell parameters: on\n",
      "                        Check peak alignment: on\n",
      "                   Refine indexing solutions: off\n",
      " Multi-lattice indexing (\"delete and retry\"): off\n",
      "                              Retry indexing: on\n"
     ]
    },
    {
     "name": "stdout",
     "output_type": "stream",
     "text": [
      "Running for x=-511.2, y=-511.2\n"
     ]
    },
    {
     "name": "stderr",
     "output_type": "stream",
     "text": [
      "60 images processed, 60 hits (100.0%), 13 indexable (21.7% of hits, 21.7% overall), 13 crystals, 11.7 images/sec.\n",
      "Waiting for the last patterns to be processed...\n",
      "Final: 100 images processed, 100 hits (100.0%), 24 indexable (24.0% of hits, 24.0% overall), 24 crystals.\n",
      "Processing XY pairs:  66%|██████▌   | 289/441 [43:33<22:23,  8.84s/it]WARNING: You did not specify --int-radius.\n",
      "WARNING: I will use the default values, which are probably not appropriate for your patterns.\n",
      "This is what I understood your unit cell to be:\n",
      "orthorhombic I, right handed.\n",
      "a      b      c            alpha   beta  gamma\n",
      " 80.58  94.49 103.89 A     90.00  90.00  90.00 deg\n",
      "List of indexing methods:\n",
      "   0: xgandalf-nolatt-cell      (xgandalf using cell parameters as prior information)\n",
      "Indexing parameters:\n",
      "                  Check unit cell parameters: on\n",
      "                        Check peak alignment: on\n",
      "                   Refine indexing solutions: off\n",
      " Multi-lattice indexing (\"delete and retry\"): off\n",
      "                              Retry indexing: on\n"
     ]
    },
    {
     "name": "stdout",
     "output_type": "stream",
     "text": [
      "Running for x=-512.9, y=-512.9\n"
     ]
    },
    {
     "name": "stderr",
     "output_type": "stream",
     "text": [
      "56 images processed, 56 hits (100.0%), 14 indexable (25.0% of hits, 25.0% overall), 14 crystals, 11.2 images/sec.\n",
      "Waiting for the last patterns to be processed...\n",
      "Final: 100 images processed, 100 hits (100.0%), 22 indexable (22.0% of hits, 22.0% overall), 22 crystals.\n",
      "Processing XY pairs:  66%|██████▌   | 290/441 [43:42<22:41,  9.02s/it]WARNING: You did not specify --int-radius.\n",
      "WARNING: I will use the default values, which are probably not appropriate for your patterns.\n",
      "This is what I understood your unit cell to be:\n",
      "orthorhombic I, right handed.\n",
      "a      b      c            alpha   beta  gamma\n",
      " 80.58  94.49 103.89 A     90.00  90.00  90.00 deg\n",
      "List of indexing methods:\n",
      "   0: xgandalf-nolatt-cell      (xgandalf using cell parameters as prior information)\n",
      "Indexing parameters:\n",
      "                  Check unit cell parameters: on\n",
      "                        Check peak alignment: on\n",
      "                   Refine indexing solutions: off\n",
      " Multi-lattice indexing (\"delete and retry\"): off\n",
      "                              Retry indexing: on\n"
     ]
    },
    {
     "name": "stdout",
     "output_type": "stream",
     "text": [
      "Running for x=-512.9, y=-512.8\n"
     ]
    },
    {
     "name": "stderr",
     "output_type": "stream",
     "text": [
      "WARNING: Radius determination failed\n",
      "WARNING: Radius determination failed\n",
      "58 images processed, 58 hits (100.0%), 18 indexable (31.0% of hits, 31.0% overall), 18 crystals, 11.5 images/sec.\n",
      "Waiting for the last patterns to be processed...\n",
      "Final: 100 images processed, 100 hits (100.0%), 29 indexable (29.0% of hits, 29.0% overall), 29 crystals.\n",
      "Processing XY pairs:  66%|██████▌   | 291/441 [43:51<21:55,  8.77s/it]WARNING: You did not specify --int-radius.\n",
      "WARNING: I will use the default values, which are probably not appropriate for your patterns.\n",
      "This is what I understood your unit cell to be:\n",
      "orthorhombic I, right handed.\n",
      "a      b      c            alpha   beta  gamma\n",
      " 80.58  94.49 103.89 A     90.00  90.00  90.00 deg\n",
      "List of indexing methods:\n",
      "   0: xgandalf-nolatt-cell      (xgandalf using cell parameters as prior information)\n",
      "Indexing parameters:\n",
      "                  Check unit cell parameters: on\n",
      "                        Check peak alignment: on\n",
      "                   Refine indexing solutions: off\n",
      " Multi-lattice indexing (\"delete and retry\"): off\n",
      "                              Retry indexing: on\n"
     ]
    },
    {
     "name": "stdout",
     "output_type": "stream",
     "text": [
      "Running for x=-512.9, y=-512.7\n"
     ]
    },
    {
     "name": "stderr",
     "output_type": "stream",
     "text": [
      "56 images processed, 56 hits (100.0%), 8 indexable (14.3% of hits, 14.3% overall), 8 crystals, 10.7 images/sec.\n",
      "Waiting for the last patterns to be processed...\n",
      "Final: 100 images processed, 100 hits (100.0%), 18 indexable (18.0% of hits, 18.0% overall), 18 crystals.\n",
      "Processing XY pairs:  66%|██████▌   | 292/441 [44:00<22:21,  9.01s/it]WARNING: You did not specify --int-radius.\n",
      "WARNING: I will use the default values, which are probably not appropriate for your patterns.\n",
      "This is what I understood your unit cell to be:\n",
      "orthorhombic I, right handed.\n",
      "a      b      c            alpha   beta  gamma\n",
      " 80.58  94.49 103.89 A     90.00  90.00  90.00 deg\n",
      "List of indexing methods:\n",
      "   0: xgandalf-nolatt-cell      (xgandalf using cell parameters as prior information)\n",
      "Indexing parameters:\n",
      "                  Check unit cell parameters: on\n",
      "                        Check peak alignment: on\n",
      "                   Refine indexing solutions: off\n",
      " Multi-lattice indexing (\"delete and retry\"): off\n",
      "                              Retry indexing: on\n"
     ]
    },
    {
     "name": "stdout",
     "output_type": "stream",
     "text": [
      "Running for x=-512.9, y=-512.6\n"
     ]
    },
    {
     "name": "stderr",
     "output_type": "stream",
     "text": [
      "58 images processed, 58 hits (100.0%), 14 indexable (24.1% of hits, 24.1% overall), 14 crystals, 11.6 images/sec.\n",
      "Waiting for the last patterns to be processed...\n",
      "Final: 100 images processed, 100 hits (100.0%), 25 indexable (25.0% of hits, 25.0% overall), 25 crystals.\n",
      "Processing XY pairs:  66%|██████▋   | 293/441 [44:09<22:29,  9.12s/it]WARNING: You did not specify --int-radius.\n",
      "WARNING: I will use the default values, which are probably not appropriate for your patterns.\n",
      "This is what I understood your unit cell to be:\n",
      "orthorhombic I, right handed.\n",
      "a      b      c            alpha   beta  gamma\n",
      " 80.58  94.49 103.89 A     90.00  90.00  90.00 deg\n",
      "List of indexing methods:\n",
      "   0: xgandalf-nolatt-cell      (xgandalf using cell parameters as prior information)\n",
      "Indexing parameters:\n",
      "                  Check unit cell parameters: on\n",
      "                        Check peak alignment: on\n",
      "                   Refine indexing solutions: off\n",
      " Multi-lattice indexing (\"delete and retry\"): off\n",
      "                              Retry indexing: on\n"
     ]
    },
    {
     "name": "stdout",
     "output_type": "stream",
     "text": [
      "Running for x=-512.9, y=-512.5\n"
     ]
    },
    {
     "name": "stderr",
     "output_type": "stream",
     "text": [
      "57 images processed, 57 hits (100.0%), 16 indexable (28.1% of hits, 28.1% overall), 16 crystals, 11.4 images/sec.\n",
      "Waiting for the last patterns to be processed...\n",
      "Final: 100 images processed, 100 hits (100.0%), 28 indexable (28.0% of hits, 28.0% overall), 28 crystals.\n",
      "Processing XY pairs:  67%|██████▋   | 294/441 [44:19<22:24,  9.15s/it]WARNING: You did not specify --int-radius.\n",
      "WARNING: I will use the default values, which are probably not appropriate for your patterns.\n",
      "This is what I understood your unit cell to be:\n",
      "orthorhombic I, right handed.\n",
      "a      b      c            alpha   beta  gamma\n",
      " 80.58  94.49 103.89 A     90.00  90.00  90.00 deg\n",
      "List of indexing methods:\n",
      "   0: xgandalf-nolatt-cell      (xgandalf using cell parameters as prior information)\n",
      "Indexing parameters:\n",
      "                  Check unit cell parameters: on\n",
      "                        Check peak alignment: on\n",
      "                   Refine indexing solutions: off\n",
      " Multi-lattice indexing (\"delete and retry\"): off\n",
      "                              Retry indexing: on\n"
     ]
    },
    {
     "name": "stdout",
     "output_type": "stream",
     "text": [
      "Running for x=-512.9, y=-512.4\n"
     ]
    },
    {
     "name": "stderr",
     "output_type": "stream",
     "text": [
      "59 images processed, 59 hits (100.0%), 17 indexable (28.8% of hits, 28.8% overall), 17 crystals, 11.8 images/sec.\n",
      "Waiting for the last patterns to be processed...\n",
      "Final: 100 images processed, 100 hits (100.0%), 29 indexable (29.0% of hits, 29.0% overall), 29 crystals.\n",
      "Processing XY pairs:  67%|██████▋   | 295/441 [44:28<22:17,  9.16s/it]WARNING: You did not specify --int-radius.\n",
      "WARNING: I will use the default values, which are probably not appropriate for your patterns.\n",
      "This is what I understood your unit cell to be:\n",
      "orthorhombic I, right handed.\n",
      "a      b      c            alpha   beta  gamma\n",
      " 80.58  94.49 103.89 A     90.00  90.00  90.00 deg\n",
      "List of indexing methods:\n",
      "   0: xgandalf-nolatt-cell      (xgandalf using cell parameters as prior information)\n",
      "Indexing parameters:\n",
      "                  Check unit cell parameters: on\n",
      "                        Check peak alignment: on\n",
      "                   Refine indexing solutions: off\n",
      " Multi-lattice indexing (\"delete and retry\"): off\n",
      "                              Retry indexing: on\n"
     ]
    },
    {
     "name": "stdout",
     "output_type": "stream",
     "text": [
      "Running for x=-512.9, y=-512.3\n"
     ]
    },
    {
     "name": "stderr",
     "output_type": "stream",
     "text": [
      "63 images processed, 63 hits (100.0%), 21 indexable (33.3% of hits, 33.3% overall), 21 crystals, 11.9 images/sec.\n",
      "Waiting for the last patterns to be processed...\n",
      "Final: 100 images processed, 100 hits (100.0%), 32 indexable (32.0% of hits, 32.0% overall), 32 crystals.\n",
      "Processing XY pairs:  67%|██████▋   | 296/441 [44:37<22:07,  9.16s/it]WARNING: You did not specify --int-radius.\n",
      "WARNING: I will use the default values, which are probably not appropriate for your patterns.\n",
      "This is what I understood your unit cell to be:\n",
      "orthorhombic I, right handed.\n",
      "a      b      c            alpha   beta  gamma\n",
      " 80.58  94.49 103.89 A     90.00  90.00  90.00 deg\n",
      "List of indexing methods:\n",
      "   0: xgandalf-nolatt-cell      (xgandalf using cell parameters as prior information)\n",
      "Indexing parameters:\n",
      "                  Check unit cell parameters: on\n",
      "                        Check peak alignment: on\n",
      "                   Refine indexing solutions: off\n",
      " Multi-lattice indexing (\"delete and retry\"): off\n",
      "                              Retry indexing: on\n"
     ]
    },
    {
     "name": "stdout",
     "output_type": "stream",
     "text": [
      "Running for x=-512.9, y=-512.2\n"
     ]
    },
    {
     "name": "stderr",
     "output_type": "stream",
     "text": [
      "59 images processed, 59 hits (100.0%), 26 indexable (44.1% of hits, 44.1% overall), 26 crystals, 11.7 images/sec.\n",
      "Waiting for the last patterns to be processed...\n",
      "Final: 100 images processed, 100 hits (100.0%), 37 indexable (37.0% of hits, 37.0% overall), 37 crystals.\n",
      "Processing XY pairs:  67%|██████▋   | 297/441 [44:46<22:07,  9.22s/it]WARNING: You did not specify --int-radius.\n",
      "WARNING: I will use the default values, which are probably not appropriate for your patterns.\n",
      "This is what I understood your unit cell to be:\n",
      "orthorhombic I, right handed.\n",
      "a      b      c            alpha   beta  gamma\n",
      " 80.58  94.49 103.89 A     90.00  90.00  90.00 deg\n",
      "List of indexing methods:\n",
      "   0: xgandalf-nolatt-cell      (xgandalf using cell parameters as prior information)\n",
      "Indexing parameters:\n",
      "                  Check unit cell parameters: on\n",
      "                        Check peak alignment: on\n",
      "                   Refine indexing solutions: off\n",
      " Multi-lattice indexing (\"delete and retry\"): off\n",
      "                              Retry indexing: on\n"
     ]
    },
    {
     "name": "stdout",
     "output_type": "stream",
     "text": [
      "Running for x=-512.9, y=-512.1\n"
     ]
    },
    {
     "name": "stderr",
     "output_type": "stream",
     "text": [
      "WARNING: Radius determination failed\n",
      "56 images processed, 56 hits (100.0%), 20 indexable (35.7% of hits, 35.7% overall), 20 crystals, 11.2 images/sec.\n",
      "Waiting for the last patterns to be processed...\n",
      "Final: 100 images processed, 100 hits (100.0%), 34 indexable (34.0% of hits, 34.0% overall), 34 crystals.\n",
      "Processing XY pairs:  68%|██████▊   | 298/441 [44:56<22:14,  9.33s/it]WARNING: You did not specify --int-radius.\n",
      "WARNING: I will use the default values, which are probably not appropriate for your patterns.\n",
      "This is what I understood your unit cell to be:\n",
      "orthorhombic I, right handed.\n",
      "a      b      c            alpha   beta  gamma\n",
      " 80.58  94.49 103.89 A     90.00  90.00  90.00 deg\n",
      "List of indexing methods:\n",
      "   0: xgandalf-nolatt-cell      (xgandalf using cell parameters as prior information)\n",
      "Indexing parameters:\n",
      "                  Check unit cell parameters: on\n",
      "                        Check peak alignment: on\n",
      "                   Refine indexing solutions: off\n",
      " Multi-lattice indexing (\"delete and retry\"): off\n",
      "                              Retry indexing: on\n"
     ]
    },
    {
     "name": "stdout",
     "output_type": "stream",
     "text": [
      "Running for x=-512.9, y=-512.0\n"
     ]
    },
    {
     "name": "stderr",
     "output_type": "stream",
     "text": [
      "WARNING: Radius determination failed\n",
      "61 images processed, 61 hits (100.0%), 30 indexable (49.2% of hits, 49.2% overall), 30 crystals, 12.2 images/sec.\n",
      "Waiting for the last patterns to be processed...\n",
      "Final: 100 images processed, 100 hits (100.0%), 45 indexable (45.0% of hits, 45.0% overall), 45 crystals.\n",
      "Processing XY pairs:  68%|██████▊   | 299/441 [45:05<21:59,  9.29s/it]WARNING: You did not specify --int-radius.\n",
      "WARNING: I will use the default values, which are probably not appropriate for your patterns.\n",
      "This is what I understood your unit cell to be:\n",
      "orthorhombic I, right handed.\n",
      "a      b      c            alpha   beta  gamma\n",
      " 80.58  94.49 103.89 A     90.00  90.00  90.00 deg\n",
      "List of indexing methods:\n",
      "   0: xgandalf-nolatt-cell      (xgandalf using cell parameters as prior information)\n",
      "Indexing parameters:\n",
      "                  Check unit cell parameters: on\n",
      "                        Check peak alignment: on\n",
      "                   Refine indexing solutions: off\n",
      " Multi-lattice indexing (\"delete and retry\"): off\n",
      "                              Retry indexing: on\n"
     ]
    },
    {
     "name": "stdout",
     "output_type": "stream",
     "text": [
      "Running for x=-512.9, y=-511.9\n"
     ]
    },
    {
     "name": "stderr",
     "output_type": "stream",
     "text": [
      "59 images processed, 59 hits (100.0%), 31 indexable (52.5% of hits, 52.5% overall), 31 crystals, 11.5 images/sec.\n",
      "Waiting for the last patterns to be processed...\n",
      "Final: 100 images processed, 100 hits (100.0%), 43 indexable (43.0% of hits, 43.0% overall), 43 crystals.\n",
      "Processing XY pairs:  68%|██████▊   | 300/441 [45:15<21:52,  9.31s/it]WARNING: You did not specify --int-radius.\n",
      "WARNING: I will use the default values, which are probably not appropriate for your patterns.\n",
      "This is what I understood your unit cell to be:\n",
      "orthorhombic I, right handed.\n",
      "a      b      c            alpha   beta  gamma\n",
      " 80.58  94.49 103.89 A     90.00  90.00  90.00 deg\n",
      "List of indexing methods:\n",
      "   0: xgandalf-nolatt-cell      (xgandalf using cell parameters as prior information)\n",
      "Indexing parameters:\n",
      "                  Check unit cell parameters: on\n",
      "                        Check peak alignment: on\n",
      "                   Refine indexing solutions: off\n",
      " Multi-lattice indexing (\"delete and retry\"): off\n",
      "                              Retry indexing: on\n"
     ]
    },
    {
     "name": "stdout",
     "output_type": "stream",
     "text": [
      "Running for x=-512.9, y=-511.8\n"
     ]
    },
    {
     "name": "stderr",
     "output_type": "stream",
     "text": [
      "62 images processed, 62 hits (100.0%), 25 indexable (40.3% of hits, 40.3% overall), 25 crystals, 12.0 images/sec.\n",
      "Waiting for the last patterns to be processed...\n",
      "Final: 100 images processed, 100 hits (100.0%), 40 indexable (40.0% of hits, 40.0% overall), 40 crystals.\n",
      "Processing XY pairs:  68%|██████▊   | 301/441 [45:23<21:23,  9.17s/it]WARNING: You did not specify --int-radius.\n",
      "WARNING: I will use the default values, which are probably not appropriate for your patterns.\n",
      "This is what I understood your unit cell to be:\n",
      "orthorhombic I, right handed.\n",
      "a      b      c            alpha   beta  gamma\n",
      " 80.58  94.49 103.89 A     90.00  90.00  90.00 deg\n",
      "List of indexing methods:\n",
      "   0: xgandalf-nolatt-cell      (xgandalf using cell parameters as prior information)\n",
      "Indexing parameters:\n",
      "                  Check unit cell parameters: on\n",
      "                        Check peak alignment: on\n",
      "                   Refine indexing solutions: off\n",
      " Multi-lattice indexing (\"delete and retry\"): off\n",
      "                              Retry indexing: on\n"
     ]
    },
    {
     "name": "stdout",
     "output_type": "stream",
     "text": [
      "Running for x=-512.9, y=-511.7\n"
     ]
    },
    {
     "name": "stderr",
     "output_type": "stream",
     "text": [
      "60 images processed, 60 hits (100.0%), 23 indexable (38.3% of hits, 38.3% overall), 23 crystals, 11.9 images/sec.\n",
      "Waiting for the last patterns to be processed...\n",
      "Final: 100 images processed, 100 hits (100.0%), 35 indexable (35.0% of hits, 35.0% overall), 35 crystals.\n",
      "Processing XY pairs:  68%|██████▊   | 302/441 [45:32<21:05,  9.10s/it]WARNING: You did not specify --int-radius.\n",
      "WARNING: I will use the default values, which are probably not appropriate for your patterns.\n",
      "This is what I understood your unit cell to be:\n",
      "orthorhombic I, right handed.\n",
      "a      b      c            alpha   beta  gamma\n",
      " 80.58  94.49 103.89 A     90.00  90.00  90.00 deg\n",
      "List of indexing methods:\n",
      "   0: xgandalf-nolatt-cell      (xgandalf using cell parameters as prior information)\n",
      "Indexing parameters:\n",
      "                  Check unit cell parameters: on\n",
      "                        Check peak alignment: on\n",
      "                   Refine indexing solutions: off\n",
      " Multi-lattice indexing (\"delete and retry\"): off\n",
      "                              Retry indexing: on\n",
      "WARNING: Radius determination failed\n"
     ]
    },
    {
     "name": "stdout",
     "output_type": "stream",
     "text": [
      "Running for x=-512.9, y=-511.6\n"
     ]
    },
    {
     "name": "stderr",
     "output_type": "stream",
     "text": [
      "61 images processed, 61 hits (100.0%), 27 indexable (44.3% of hits, 44.3% overall), 27 crystals, 12.0 images/sec.\n",
      "Waiting for the last patterns to be processed...\n",
      "Final: 100 images processed, 100 hits (100.0%), 41 indexable (41.0% of hits, 41.0% overall), 41 crystals.\n",
      "Processing XY pairs:  69%|██████▊   | 303/441 [45:42<21:04,  9.16s/it]WARNING: You did not specify --int-radius.\n",
      "WARNING: I will use the default values, which are probably not appropriate for your patterns.\n",
      "This is what I understood your unit cell to be:\n",
      "orthorhombic I, right handed.\n",
      "a      b      c            alpha   beta  gamma\n",
      " 80.58  94.49 103.89 A     90.00  90.00  90.00 deg\n",
      "List of indexing methods:\n",
      "   0: xgandalf-nolatt-cell      (xgandalf using cell parameters as prior information)\n",
      "Indexing parameters:\n",
      "                  Check unit cell parameters: on\n",
      "                        Check peak alignment: on\n",
      "                   Refine indexing solutions: off\n",
      " Multi-lattice indexing (\"delete and retry\"): off\n",
      "                              Retry indexing: on\n"
     ]
    },
    {
     "name": "stdout",
     "output_type": "stream",
     "text": [
      "Running for x=-512.9, y=-511.5\n"
     ]
    },
    {
     "name": "stderr",
     "output_type": "stream",
     "text": [
      "WARNING: Radius determination failed\n",
      "58 images processed, 58 hits (100.0%), 18 indexable (31.0% of hits, 31.0% overall), 18 crystals, 11.4 images/sec.\n",
      "Waiting for the last patterns to be processed...\n",
      "Final: 100 images processed, 100 hits (100.0%), 33 indexable (33.0% of hits, 33.0% overall), 33 crystals.\n",
      "Processing XY pairs:  69%|██████▉   | 304/441 [45:51<20:57,  9.18s/it]WARNING: You did not specify --int-radius.\n",
      "WARNING: I will use the default values, which are probably not appropriate for your patterns.\n",
      "This is what I understood your unit cell to be:\n",
      "orthorhombic I, right handed.\n",
      "a      b      c            alpha   beta  gamma\n",
      " 80.58  94.49 103.89 A     90.00  90.00  90.00 deg\n",
      "List of indexing methods:\n",
      "   0: xgandalf-nolatt-cell      (xgandalf using cell parameters as prior information)\n",
      "Indexing parameters:\n",
      "                  Check unit cell parameters: on\n",
      "                        Check peak alignment: on\n",
      "                   Refine indexing solutions: off\n",
      " Multi-lattice indexing (\"delete and retry\"): off\n",
      "                              Retry indexing: on\n"
     ]
    },
    {
     "name": "stdout",
     "output_type": "stream",
     "text": [
      "Running for x=-512.9, y=-511.4\n"
     ]
    },
    {
     "name": "stderr",
     "output_type": "stream",
     "text": [
      "60 images processed, 60 hits (100.0%), 20 indexable (33.3% of hits, 33.3% overall), 20 crystals, 11.8 images/sec.\n",
      "Waiting for the last patterns to be processed...\n",
      "Final: 100 images processed, 100 hits (100.0%), 34 indexable (34.0% of hits, 34.0% overall), 34 crystals.\n",
      "Processing XY pairs:  69%|██████▉   | 305/441 [46:00<20:52,  9.21s/it]WARNING: You did not specify --int-radius.\n",
      "WARNING: I will use the default values, which are probably not appropriate for your patterns.\n",
      "This is what I understood your unit cell to be:\n",
      "orthorhombic I, right handed.\n",
      "a      b      c            alpha   beta  gamma\n",
      " 80.58  94.49 103.89 A     90.00  90.00  90.00 deg\n",
      "List of indexing methods:\n",
      "   0: xgandalf-nolatt-cell      (xgandalf using cell parameters as prior information)\n",
      "Indexing parameters:\n",
      "                  Check unit cell parameters: on\n",
      "                        Check peak alignment: on\n",
      "                   Refine indexing solutions: off\n",
      " Multi-lattice indexing (\"delete and retry\"): off\n",
      "                              Retry indexing: on\n"
     ]
    },
    {
     "name": "stdout",
     "output_type": "stream",
     "text": [
      "Running for x=-512.9, y=-511.3\n"
     ]
    },
    {
     "name": "stderr",
     "output_type": "stream",
     "text": [
      "59 images processed, 59 hits (100.0%), 20 indexable (33.9% of hits, 33.9% overall), 20 crystals, 11.5 images/sec.\n",
      "Waiting for the last patterns to be processed...\n",
      "Final: 100 images processed, 100 hits (100.0%), 29 indexable (29.0% of hits, 29.0% overall), 29 crystals.\n",
      "Processing XY pairs:  69%|██████▉   | 306/441 [46:10<20:56,  9.31s/it]WARNING: You did not specify --int-radius.\n",
      "WARNING: I will use the default values, which are probably not appropriate for your patterns.\n",
      "This is what I understood your unit cell to be:\n",
      "orthorhombic I, right handed.\n",
      "a      b      c            alpha   beta  gamma\n",
      " 80.58  94.49 103.89 A     90.00  90.00  90.00 deg\n",
      "List of indexing methods:\n",
      "   0: xgandalf-nolatt-cell      (xgandalf using cell parameters as prior information)\n",
      "Indexing parameters:\n",
      "                  Check unit cell parameters: on\n",
      "                        Check peak alignment: on\n",
      "                   Refine indexing solutions: off\n",
      " Multi-lattice indexing (\"delete and retry\"): off\n",
      "                              Retry indexing: on\n"
     ]
    },
    {
     "name": "stdout",
     "output_type": "stream",
     "text": [
      "Running for x=-512.9, y=-511.2\n"
     ]
    },
    {
     "name": "stderr",
     "output_type": "stream",
     "text": [
      "61 images processed, 61 hits (100.0%), 20 indexable (32.8% of hits, 32.8% overall), 20 crystals, 11.7 images/sec.\n",
      "Waiting for the last patterns to be processed...\n",
      "Final: 100 images processed, 100 hits (100.0%), 28 indexable (28.0% of hits, 28.0% overall), 28 crystals.\n",
      "Processing XY pairs:  70%|██████▉   | 307/441 [46:19<20:42,  9.27s/it]WARNING: You did not specify --int-radius.\n",
      "WARNING: I will use the default values, which are probably not appropriate for your patterns.\n",
      "This is what I understood your unit cell to be:\n",
      "orthorhombic I, right handed.\n",
      "a      b      c            alpha   beta  gamma\n",
      " 80.58  94.49 103.89 A     90.00  90.00  90.00 deg\n",
      "List of indexing methods:\n",
      "   0: xgandalf-nolatt-cell      (xgandalf using cell parameters as prior information)\n",
      "Indexing parameters:\n",
      "                  Check unit cell parameters: on\n",
      "                        Check peak alignment: on\n",
      "                   Refine indexing solutions: off\n",
      " Multi-lattice indexing (\"delete and retry\"): off\n",
      "                              Retry indexing: on\n"
     ]
    },
    {
     "name": "stdout",
     "output_type": "stream",
     "text": [
      "Running for x=-512.9, y=-511.1\n"
     ]
    },
    {
     "name": "stderr",
     "output_type": "stream",
     "text": [
      "61 images processed, 61 hits (100.0%), 18 indexable (29.5% of hits, 29.5% overall), 18 crystals, 12.2 images/sec.\n",
      "Waiting for the last patterns to be processed...\n",
      "Final: 100 images processed, 100 hits (100.0%), 30 indexable (30.0% of hits, 30.0% overall), 30 crystals.\n",
      "Processing XY pairs:  70%|██████▉   | 308/441 [46:28<20:35,  9.29s/it]WARNING: You did not specify --int-radius.\n",
      "WARNING: I will use the default values, which are probably not appropriate for your patterns.\n",
      "This is what I understood your unit cell to be:\n",
      "orthorhombic I, right handed.\n",
      "a      b      c            alpha   beta  gamma\n",
      " 80.58  94.49 103.89 A     90.00  90.00  90.00 deg\n",
      "List of indexing methods:\n",
      "   0: xgandalf-nolatt-cell      (xgandalf using cell parameters as prior information)\n",
      "Indexing parameters:\n",
      "                  Check unit cell parameters: on\n",
      "                        Check peak alignment: on\n",
      "                   Refine indexing solutions: off\n",
      " Multi-lattice indexing (\"delete and retry\"): off\n",
      "                              Retry indexing: on\n"
     ]
    },
    {
     "name": "stdout",
     "output_type": "stream",
     "text": [
      "Running for x=-512.8, y=-512.9\n"
     ]
    },
    {
     "name": "stderr",
     "output_type": "stream",
     "text": [
      "56 images processed, 56 hits (100.0%), 12 indexable (21.4% of hits, 21.4% overall), 12 crystals, 11.2 images/sec.\n",
      "Waiting for the last patterns to be processed...\n",
      "Final: 100 images processed, 100 hits (100.0%), 23 indexable (23.0% of hits, 23.0% overall), 23 crystals.\n",
      "Processing XY pairs:  70%|███████   | 309/441 [46:38<20:32,  9.34s/it]WARNING: You did not specify --int-radius.\n",
      "WARNING: I will use the default values, which are probably not appropriate for your patterns.\n",
      "This is what I understood your unit cell to be:\n",
      "orthorhombic I, right handed.\n",
      "a      b      c            alpha   beta  gamma\n",
      " 80.58  94.49 103.89 A     90.00  90.00  90.00 deg\n",
      "List of indexing methods:\n",
      "   0: xgandalf-nolatt-cell      (xgandalf using cell parameters as prior information)\n",
      "Indexing parameters:\n",
      "                  Check unit cell parameters: on\n",
      "                        Check peak alignment: on\n",
      "                   Refine indexing solutions: off\n",
      " Multi-lattice indexing (\"delete and retry\"): off\n",
      "                              Retry indexing: on\n"
     ]
    },
    {
     "name": "stdout",
     "output_type": "stream",
     "text": [
      "Running for x=-512.8, y=-511.1\n"
     ]
    },
    {
     "name": "stderr",
     "output_type": "stream",
     "text": [
      "55 images processed, 55 hits (100.0%), 16 indexable (29.1% of hits, 29.1% overall), 16 crystals, 10.8 images/sec.\n",
      "Waiting for the last patterns to be processed...\n",
      "Final: 100 images processed, 100 hits (100.0%), 33 indexable (33.0% of hits, 33.0% overall), 33 crystals.\n",
      "Processing XY pairs:  70%|███████   | 310/441 [46:47<20:33,  9.41s/it]WARNING: You did not specify --int-radius.\n",
      "WARNING: I will use the default values, which are probably not appropriate for your patterns.\n",
      "This is what I understood your unit cell to be:\n",
      "orthorhombic I, right handed.\n",
      "a      b      c            alpha   beta  gamma\n",
      " 80.58  94.49 103.89 A     90.00  90.00  90.00 deg\n",
      "List of indexing methods:\n",
      "   0: xgandalf-nolatt-cell      (xgandalf using cell parameters as prior information)\n",
      "Indexing parameters:\n",
      "                  Check unit cell parameters: on\n",
      "                        Check peak alignment: on\n",
      "                   Refine indexing solutions: off\n",
      " Multi-lattice indexing (\"delete and retry\"): off\n",
      "                              Retry indexing: on\n"
     ]
    },
    {
     "name": "stdout",
     "output_type": "stream",
     "text": [
      "Running for x=-512.7, y=-512.9\n"
     ]
    },
    {
     "name": "stderr",
     "output_type": "stream",
     "text": [
      "WARNING: Radius determination failed\n",
      "57 images processed, 57 hits (100.0%), 17 indexable (29.8% of hits, 29.8% overall), 17 crystals, 11.3 images/sec.\n",
      "Waiting for the last patterns to be processed...\n",
      "Final: 100 images processed, 100 hits (100.0%), 30 indexable (30.0% of hits, 30.0% overall), 30 crystals.\n",
      "Processing XY pairs:  71%|███████   | 311/441 [46:57<20:24,  9.42s/it]WARNING: You did not specify --int-radius.\n",
      "WARNING: I will use the default values, which are probably not appropriate for your patterns.\n",
      "This is what I understood your unit cell to be:\n",
      "orthorhombic I, right handed.\n",
      "a      b      c            alpha   beta  gamma\n",
      " 80.58  94.49 103.89 A     90.00  90.00  90.00 deg\n",
      "List of indexing methods:\n",
      "   0: xgandalf-nolatt-cell      (xgandalf using cell parameters as prior information)\n",
      "Indexing parameters:\n",
      "                  Check unit cell parameters: on\n",
      "                        Check peak alignment: on\n",
      "                   Refine indexing solutions: off\n",
      " Multi-lattice indexing (\"delete and retry\"): off\n",
      "                              Retry indexing: on\n"
     ]
    },
    {
     "name": "stdout",
     "output_type": "stream",
     "text": [
      "Running for x=-512.7, y=-511.1\n"
     ]
    },
    {
     "name": "stderr",
     "output_type": "stream",
     "text": [
      "WARNING: Radius determination failed\n",
      "WARNING: Radius determination failed\n",
      "58 images processed, 58 hits (100.0%), 18 indexable (31.0% of hits, 31.0% overall), 18 crystals, 11.4 images/sec.\n",
      "Waiting for the last patterns to be processed...\n",
      "Final: 100 images processed, 100 hits (100.0%), 35 indexable (35.0% of hits, 35.0% overall), 35 crystals.\n",
      "Processing XY pairs:  71%|███████   | 312/441 [47:06<20:11,  9.39s/it]WARNING: You did not specify --int-radius.\n",
      "WARNING: I will use the default values, which are probably not appropriate for your patterns.\n",
      "This is what I understood your unit cell to be:\n",
      "orthorhombic I, right handed.\n",
      "a      b      c            alpha   beta  gamma\n",
      " 80.58  94.49 103.89 A     90.00  90.00  90.00 deg\n",
      "List of indexing methods:\n",
      "   0: xgandalf-nolatt-cell      (xgandalf using cell parameters as prior information)\n",
      "Indexing parameters:\n",
      "                  Check unit cell parameters: on\n",
      "                        Check peak alignment: on\n",
      "                   Refine indexing solutions: off\n",
      " Multi-lattice indexing (\"delete and retry\"): off\n",
      "                              Retry indexing: on\n"
     ]
    },
    {
     "name": "stdout",
     "output_type": "stream",
     "text": [
      "Running for x=-512.6, y=-512.9\n"
     ]
    },
    {
     "name": "stderr",
     "output_type": "stream",
     "text": [
      "WARNING: Radius determination failed\n",
      "WARNING: Radius determination failed\n",
      "59 images processed, 59 hits (100.0%), 18 indexable (30.5% of hits, 30.5% overall), 18 crystals, 11.4 images/sec.\n",
      "Waiting for the last patterns to be processed...\n",
      "Final: 100 images processed, 100 hits (100.0%), 24 indexable (24.0% of hits, 24.0% overall), 24 crystals.\n",
      "Processing XY pairs:  71%|███████   | 313/441 [47:16<20:12,  9.48s/it]WARNING: You did not specify --int-radius.\n",
      "WARNING: I will use the default values, which are probably not appropriate for your patterns.\n",
      "This is what I understood your unit cell to be:\n",
      "orthorhombic I, right handed.\n",
      "a      b      c            alpha   beta  gamma\n",
      " 80.58  94.49 103.89 A     90.00  90.00  90.00 deg\n",
      "List of indexing methods:\n",
      "   0: xgandalf-nolatt-cell      (xgandalf using cell parameters as prior information)\n",
      "Indexing parameters:\n",
      "                  Check unit cell parameters: on\n",
      "                        Check peak alignment: on\n",
      "                   Refine indexing solutions: off\n",
      " Multi-lattice indexing (\"delete and retry\"): off\n",
      "                              Retry indexing: on\n"
     ]
    },
    {
     "name": "stdout",
     "output_type": "stream",
     "text": [
      "Running for x=-512.6, y=-511.1\n"
     ]
    },
    {
     "name": "stderr",
     "output_type": "stream",
     "text": [
      "61 images processed, 61 hits (100.0%), 20 indexable (32.8% of hits, 32.8% overall), 20 crystals, 11.9 images/sec.\n",
      "Waiting for the last patterns to be processed...\n",
      "Final: 100 images processed, 100 hits (100.0%), 34 indexable (34.0% of hits, 34.0% overall), 34 crystals.\n",
      "Processing XY pairs:  71%|███████   | 314/441 [47:25<19:56,  9.42s/it]WARNING: You did not specify --int-radius.\n",
      "WARNING: I will use the default values, which are probably not appropriate for your patterns.\n",
      "This is what I understood your unit cell to be:\n",
      "orthorhombic I, right handed.\n",
      "a      b      c            alpha   beta  gamma\n",
      " 80.58  94.49 103.89 A     90.00  90.00  90.00 deg\n",
      "List of indexing methods:\n",
      "   0: xgandalf-nolatt-cell      (xgandalf using cell parameters as prior information)\n",
      "Indexing parameters:\n",
      "                  Check unit cell parameters: on\n",
      "                        Check peak alignment: on\n",
      "                   Refine indexing solutions: off\n",
      " Multi-lattice indexing (\"delete and retry\"): off\n",
      "                              Retry indexing: on\n"
     ]
    },
    {
     "name": "stdout",
     "output_type": "stream",
     "text": [
      "Running for x=-512.5, y=-512.9\n"
     ]
    },
    {
     "name": "stderr",
     "output_type": "stream",
     "text": [
      "WARNING: Radius determination failed\n",
      "56 images processed, 56 hits (100.0%), 17 indexable (30.4% of hits, 30.4% overall), 17 crystals, 11.2 images/sec.\n",
      "Waiting for the last patterns to be processed...\n",
      "Final: 100 images processed, 100 hits (100.0%), 30 indexable (30.0% of hits, 30.0% overall), 30 crystals.\n",
      "Processing XY pairs:  71%|███████▏  | 315/441 [47:34<19:51,  9.45s/it]WARNING: You did not specify --int-radius.\n",
      "WARNING: I will use the default values, which are probably not appropriate for your patterns.\n",
      "This is what I understood your unit cell to be:\n",
      "orthorhombic I, right handed.\n",
      "a      b      c            alpha   beta  gamma\n",
      " 80.58  94.49 103.89 A     90.00  90.00  90.00 deg\n",
      "List of indexing methods:\n",
      "   0: xgandalf-nolatt-cell      (xgandalf using cell parameters as prior information)\n",
      "Indexing parameters:\n",
      "                  Check unit cell parameters: on\n",
      "                        Check peak alignment: on\n",
      "                   Refine indexing solutions: off\n",
      " Multi-lattice indexing (\"delete and retry\"): off\n",
      "                              Retry indexing: on\n"
     ]
    },
    {
     "name": "stdout",
     "output_type": "stream",
     "text": [
      "Running for x=-512.5, y=-511.1\n"
     ]
    },
    {
     "name": "stderr",
     "output_type": "stream",
     "text": [
      "58 images processed, 58 hits (100.0%), 20 indexable (34.5% of hits, 34.5% overall), 20 crystals, 11.5 images/sec.\n",
      "Waiting for the last patterns to be processed...\n",
      "Final: 100 images processed, 100 hits (100.0%), 37 indexable (37.0% of hits, 37.0% overall), 37 crystals.\n",
      "Processing XY pairs:  72%|███████▏  | 316/441 [47:44<19:40,  9.44s/it]WARNING: You did not specify --int-radius.\n",
      "WARNING: I will use the default values, which are probably not appropriate for your patterns.\n",
      "This is what I understood your unit cell to be:\n",
      "orthorhombic I, right handed.\n",
      "a      b      c            alpha   beta  gamma\n",
      " 80.58  94.49 103.89 A     90.00  90.00  90.00 deg\n",
      "List of indexing methods:\n",
      "   0: xgandalf-nolatt-cell      (xgandalf using cell parameters as prior information)\n",
      "Indexing parameters:\n",
      "                  Check unit cell parameters: on\n",
      "                        Check peak alignment: on\n",
      "                   Refine indexing solutions: off\n",
      " Multi-lattice indexing (\"delete and retry\"): off\n",
      "                              Retry indexing: on\n"
     ]
    },
    {
     "name": "stdout",
     "output_type": "stream",
     "text": [
      "Running for x=-512.4, y=-512.9\n"
     ]
    },
    {
     "name": "stderr",
     "output_type": "stream",
     "text": [
      "51 images processed, 51 hits (100.0%), 11 indexable (21.6% of hits, 21.6% overall), 11 crystals, 10.1 images/sec.\n",
      "Waiting for the last patterns to be processed...\n",
      "99 images processed, 99 hits (100.0%), 24 indexable (24.2% of hits, 24.2% overall), 24 crystals, 9.6 images/sec.\n",
      "Final: 100 images processed, 100 hits (100.0%), 24 indexable (24.0% of hits, 24.0% overall), 24 crystals.\n",
      "Processing XY pairs:  72%|███████▏  | 317/441 [47:54<19:55,  9.64s/it]WARNING: You did not specify --int-radius.\n",
      "WARNING: I will use the default values, which are probably not appropriate for your patterns.\n",
      "This is what I understood your unit cell to be:\n",
      "orthorhombic I, right handed.\n",
      "a      b      c            alpha   beta  gamma\n",
      " 80.58  94.49 103.89 A     90.00  90.00  90.00 deg\n",
      "List of indexing methods:\n",
      "   0: xgandalf-nolatt-cell      (xgandalf using cell parameters as prior information)\n",
      "Indexing parameters:\n",
      "                  Check unit cell parameters: on\n",
      "                        Check peak alignment: on\n",
      "                   Refine indexing solutions: off\n",
      " Multi-lattice indexing (\"delete and retry\"): off\n",
      "                              Retry indexing: on\n"
     ]
    },
    {
     "name": "stdout",
     "output_type": "stream",
     "text": [
      "Running for x=-512.4, y=-511.1\n"
     ]
    },
    {
     "name": "stderr",
     "output_type": "stream",
     "text": [
      "56 images processed, 56 hits (100.0%), 16 indexable (28.6% of hits, 28.6% overall), 16 crystals, 11.2 images/sec.\n",
      "Waiting for the last patterns to be processed...\n",
      "Final: 100 images processed, 100 hits (100.0%), 32 indexable (32.0% of hits, 32.0% overall), 32 crystals.\n",
      "Processing XY pairs:  72%|███████▏  | 318/441 [48:04<19:46,  9.64s/it]WARNING: You did not specify --int-radius.\n",
      "WARNING: I will use the default values, which are probably not appropriate for your patterns.\n",
      "This is what I understood your unit cell to be:\n",
      "orthorhombic I, right handed.\n",
      "a      b      c            alpha   beta  gamma\n",
      " 80.58  94.49 103.89 A     90.00  90.00  90.00 deg\n",
      "List of indexing methods:\n",
      "   0: xgandalf-nolatt-cell      (xgandalf using cell parameters as prior information)\n",
      "Indexing parameters:\n",
      "                  Check unit cell parameters: on\n",
      "                        Check peak alignment: on\n",
      "                   Refine indexing solutions: off\n",
      " Multi-lattice indexing (\"delete and retry\"): off\n",
      "                              Retry indexing: on\n"
     ]
    },
    {
     "name": "stdout",
     "output_type": "stream",
     "text": [
      "Running for x=-512.3, y=-512.9\n"
     ]
    },
    {
     "name": "stderr",
     "output_type": "stream",
     "text": [
      "57 images processed, 57 hits (100.0%), 18 indexable (31.6% of hits, 31.6% overall), 18 crystals, 11.2 images/sec.\n",
      "Waiting for the last patterns to be processed...\n",
      "Final: 100 images processed, 100 hits (100.0%), 30 indexable (30.0% of hits, 30.0% overall), 30 crystals.\n",
      "Processing XY pairs:  72%|███████▏  | 319/441 [48:13<19:34,  9.63s/it]WARNING: You did not specify --int-radius.\n",
      "WARNING: I will use the default values, which are probably not appropriate for your patterns.\n",
      "This is what I understood your unit cell to be:\n",
      "orthorhombic I, right handed.\n",
      "a      b      c            alpha   beta  gamma\n",
      " 80.58  94.49 103.89 A     90.00  90.00  90.00 deg\n",
      "List of indexing methods:\n",
      "   0: xgandalf-nolatt-cell      (xgandalf using cell parameters as prior information)\n",
      "Indexing parameters:\n",
      "                  Check unit cell parameters: on\n",
      "                        Check peak alignment: on\n",
      "                   Refine indexing solutions: off\n",
      " Multi-lattice indexing (\"delete and retry\"): off\n",
      "                              Retry indexing: on\n"
     ]
    },
    {
     "name": "stdout",
     "output_type": "stream",
     "text": [
      "Running for x=-512.3, y=-511.1\n"
     ]
    },
    {
     "name": "stderr",
     "output_type": "stream",
     "text": [
      "58 images processed, 58 hits (100.0%), 17 indexable (29.3% of hits, 29.3% overall), 17 crystals, 11.6 images/sec.\n",
      "Waiting for the last patterns to be processed...\n",
      "Final: 100 images processed, 100 hits (100.0%), 32 indexable (32.0% of hits, 32.0% overall), 32 crystals.\n",
      "Processing XY pairs:  73%|███████▎  | 320/441 [48:22<19:03,  9.45s/it]WARNING: You did not specify --int-radius.\n",
      "WARNING: I will use the default values, which are probably not appropriate for your patterns.\n",
      "This is what I understood your unit cell to be:\n",
      "orthorhombic I, right handed.\n",
      "a      b      c            alpha   beta  gamma\n",
      " 80.58  94.49 103.89 A     90.00  90.00  90.00 deg\n",
      "List of indexing methods:\n",
      "   0: xgandalf-nolatt-cell      (xgandalf using cell parameters as prior information)\n",
      "Indexing parameters:\n",
      "                  Check unit cell parameters: on\n",
      "                        Check peak alignment: on\n",
      "                   Refine indexing solutions: off\n",
      " Multi-lattice indexing (\"delete and retry\"): off\n",
      "                              Retry indexing: on\n"
     ]
    },
    {
     "name": "stdout",
     "output_type": "stream",
     "text": [
      "Running for x=-512.2, y=-512.9\n"
     ]
    },
    {
     "name": "stderr",
     "output_type": "stream",
     "text": [
      "WARNING: Radius determination failed\n",
      "56 images processed, 56 hits (100.0%), 13 indexable (23.2% of hits, 23.2% overall), 13 crystals, 11.1 images/sec.\n",
      "Waiting for the last patterns to be processed...\n",
      "Final: 100 images processed, 100 hits (100.0%), 28 indexable (28.0% of hits, 28.0% overall), 28 crystals.\n",
      "Processing XY pairs:  73%|███████▎  | 321/441 [48:32<18:57,  9.48s/it]WARNING: You did not specify --int-radius.\n",
      "WARNING: I will use the default values, which are probably not appropriate for your patterns.\n",
      "This is what I understood your unit cell to be:\n",
      "orthorhombic I, right handed.\n",
      "a      b      c            alpha   beta  gamma\n",
      " 80.58  94.49 103.89 A     90.00  90.00  90.00 deg\n",
      "List of indexing methods:\n",
      "   0: xgandalf-nolatt-cell      (xgandalf using cell parameters as prior information)\n",
      "Indexing parameters:\n",
      "                  Check unit cell parameters: on\n",
      "                        Check peak alignment: on\n",
      "                   Refine indexing solutions: off\n",
      " Multi-lattice indexing (\"delete and retry\"): off\n",
      "                              Retry indexing: on\n"
     ]
    },
    {
     "name": "stdout",
     "output_type": "stream",
     "text": [
      "Running for x=-512.2, y=-511.1\n"
     ]
    },
    {
     "name": "stderr",
     "output_type": "stream",
     "text": [
      "58 images processed, 58 hits (100.0%), 17 indexable (29.3% of hits, 29.3% overall), 17 crystals, 11.6 images/sec.\n",
      "Waiting for the last patterns to be processed...\n",
      "Final: 100 images processed, 100 hits (100.0%), 30 indexable (30.0% of hits, 30.0% overall), 30 crystals.\n",
      "Processing XY pairs:  73%|███████▎  | 322/441 [48:40<18:07,  9.13s/it]WARNING: You did not specify --int-radius.\n",
      "WARNING: I will use the default values, which are probably not appropriate for your patterns.\n",
      "This is what I understood your unit cell to be:\n",
      "orthorhombic I, right handed.\n",
      "a      b      c            alpha   beta  gamma\n",
      " 80.58  94.49 103.89 A     90.00  90.00  90.00 deg\n",
      "List of indexing methods:\n",
      "   0: xgandalf-nolatt-cell      (xgandalf using cell parameters as prior information)\n",
      "Indexing parameters:\n",
      "                  Check unit cell parameters: on\n",
      "                        Check peak alignment: on\n",
      "                   Refine indexing solutions: off\n",
      " Multi-lattice indexing (\"delete and retry\"): off\n",
      "                              Retry indexing: on\n"
     ]
    },
    {
     "name": "stdout",
     "output_type": "stream",
     "text": [
      "Running for x=-512.1, y=-512.9\n"
     ]
    },
    {
     "name": "stderr",
     "output_type": "stream",
     "text": [
      "WARNING: Radius determination failed\n",
      "56 images processed, 56 hits (100.0%), 17 indexable (30.4% of hits, 30.4% overall), 17 crystals, 11.0 images/sec.\n",
      "Waiting for the last patterns to be processed...\n",
      "Final: 100 images processed, 100 hits (100.0%), 31 indexable (31.0% of hits, 31.0% overall), 31 crystals.\n",
      "Processing XY pairs:  73%|███████▎  | 323/441 [48:49<17:30,  8.90s/it]WARNING: You did not specify --int-radius.\n",
      "WARNING: I will use the default values, which are probably not appropriate for your patterns.\n",
      "This is what I understood your unit cell to be:\n",
      "orthorhombic I, right handed.\n",
      "a      b      c            alpha   beta  gamma\n",
      " 80.58  94.49 103.89 A     90.00  90.00  90.00 deg\n",
      "List of indexing methods:\n",
      "   0: xgandalf-nolatt-cell      (xgandalf using cell parameters as prior information)\n",
      "Indexing parameters:\n",
      "                  Check unit cell parameters: on\n",
      "                        Check peak alignment: on\n",
      "                   Refine indexing solutions: off\n",
      " Multi-lattice indexing (\"delete and retry\"): off\n",
      "                              Retry indexing: on\n"
     ]
    },
    {
     "name": "stdout",
     "output_type": "stream",
     "text": [
      "Running for x=-512.1, y=-511.1\n"
     ]
    },
    {
     "name": "stderr",
     "output_type": "stream",
     "text": [
      "53 images processed, 53 hits (100.0%), 15 indexable (28.3% of hits, 28.3% overall), 15 crystals, 10.4 images/sec.\n",
      "Waiting for the last patterns to be processed...\n",
      "Final: 100 images processed, 100 hits (100.0%), 34 indexable (34.0% of hits, 34.0% overall), 34 crystals.\n",
      "Processing XY pairs:  73%|███████▎  | 324/441 [48:58<17:50,  9.15s/it]WARNING: You did not specify --int-radius.\n",
      "WARNING: I will use the default values, which are probably not appropriate for your patterns.\n",
      "This is what I understood your unit cell to be:\n",
      "orthorhombic I, right handed.\n",
      "a      b      c            alpha   beta  gamma\n",
      " 80.58  94.49 103.89 A     90.00  90.00  90.00 deg\n",
      "List of indexing methods:\n",
      "   0: xgandalf-nolatt-cell      (xgandalf using cell parameters as prior information)\n",
      "Indexing parameters:\n",
      "                  Check unit cell parameters: on\n",
      "                        Check peak alignment: on\n",
      "                   Refine indexing solutions: off\n",
      " Multi-lattice indexing (\"delete and retry\"): off\n",
      "                              Retry indexing: on\n"
     ]
    },
    {
     "name": "stdout",
     "output_type": "stream",
     "text": [
      "Running for x=-512.0, y=-512.9\n"
     ]
    },
    {
     "name": "stderr",
     "output_type": "stream",
     "text": [
      "WARNING: Radius determination failed\n",
      "54 images processed, 54 hits (100.0%), 14 indexable (25.9% of hits, 25.9% overall), 14 crystals, 10.6 images/sec.\n",
      "Waiting for the last patterns to be processed...\n",
      "Final: 100 images processed, 100 hits (100.0%), 30 indexable (30.0% of hits, 30.0% overall), 30 crystals.\n",
      "Processing XY pairs:  74%|███████▎  | 325/441 [49:08<18:03,  9.34s/it]WARNING: You did not specify --int-radius.\n",
      "WARNING: I will use the default values, which are probably not appropriate for your patterns.\n",
      "This is what I understood your unit cell to be:\n",
      "orthorhombic I, right handed.\n",
      "a      b      c            alpha   beta  gamma\n",
      " 80.58  94.49 103.89 A     90.00  90.00  90.00 deg\n",
      "List of indexing methods:\n",
      "   0: xgandalf-nolatt-cell      (xgandalf using cell parameters as prior information)\n",
      "Indexing parameters:\n",
      "                  Check unit cell parameters: on\n",
      "                        Check peak alignment: on\n",
      "                   Refine indexing solutions: off\n",
      " Multi-lattice indexing (\"delete and retry\"): off\n",
      "                              Retry indexing: on\n"
     ]
    },
    {
     "name": "stdout",
     "output_type": "stream",
     "text": [
      "Running for x=-512.0, y=-511.1\n"
     ]
    },
    {
     "name": "stderr",
     "output_type": "stream",
     "text": [
      "55 images processed, 55 hits (100.0%), 16 indexable (29.1% of hits, 29.1% overall), 16 crystals, 10.9 images/sec.\n",
      "Waiting for the last patterns to be processed...\n",
      "Final: 100 images processed, 100 hits (100.0%), 32 indexable (32.0% of hits, 32.0% overall), 32 crystals.\n",
      "Processing XY pairs:  74%|███████▍  | 326/441 [49:18<17:58,  9.38s/it]WARNING: You did not specify --int-radius.\n",
      "WARNING: I will use the default values, which are probably not appropriate for your patterns.\n",
      "This is what I understood your unit cell to be:\n",
      "orthorhombic I, right handed.\n",
      "a      b      c            alpha   beta  gamma\n",
      " 80.58  94.49 103.89 A     90.00  90.00  90.00 deg\n",
      "List of indexing methods:\n",
      "   0: xgandalf-nolatt-cell      (xgandalf using cell parameters as prior information)\n",
      "Indexing parameters:\n",
      "                  Check unit cell parameters: on\n",
      "                        Check peak alignment: on\n",
      "                   Refine indexing solutions: off\n",
      " Multi-lattice indexing (\"delete and retry\"): off\n",
      "                              Retry indexing: on\n"
     ]
    },
    {
     "name": "stdout",
     "output_type": "stream",
     "text": [
      "Running for x=-511.9, y=-512.9\n"
     ]
    },
    {
     "name": "stderr",
     "output_type": "stream",
     "text": [
      "WARNING: Radius determination failed\n",
      "59 images processed, 59 hits (100.0%), 20 indexable (33.9% of hits, 33.9% overall), 20 crystals, 11.3 images/sec.\n",
      "Waiting for the last patterns to be processed...\n",
      "Final: 100 images processed, 100 hits (100.0%), 31 indexable (31.0% of hits, 31.0% overall), 31 crystals.\n",
      "Processing XY pairs:  74%|███████▍  | 327/441 [49:27<17:58,  9.46s/it]WARNING: You did not specify --int-radius.\n",
      "WARNING: I will use the default values, which are probably not appropriate for your patterns.\n",
      "This is what I understood your unit cell to be:\n",
      "orthorhombic I, right handed.\n",
      "a      b      c            alpha   beta  gamma\n",
      " 80.58  94.49 103.89 A     90.00  90.00  90.00 deg\n",
      "List of indexing methods:\n",
      "   0: xgandalf-nolatt-cell      (xgandalf using cell parameters as prior information)\n",
      "Indexing parameters:\n",
      "                  Check unit cell parameters: on\n",
      "                        Check peak alignment: on\n",
      "                   Refine indexing solutions: off\n",
      " Multi-lattice indexing (\"delete and retry\"): off\n",
      "                              Retry indexing: on\n",
      "WARNING: Radius determination failed\n"
     ]
    },
    {
     "name": "stdout",
     "output_type": "stream",
     "text": [
      "Running for x=-511.9, y=-511.1\n"
     ]
    },
    {
     "name": "stderr",
     "output_type": "stream",
     "text": [
      "56 images processed, 56 hits (100.0%), 15 indexable (26.8% of hits, 26.8% overall), 15 crystals, 11.0 images/sec.\n",
      "Waiting for the last patterns to be processed...\n",
      "Final: 100 images processed, 100 hits (100.0%), 29 indexable (29.0% of hits, 29.0% overall), 29 crystals.\n",
      "Processing XY pairs:  74%|███████▍  | 328/441 [49:37<17:53,  9.50s/it]WARNING: You did not specify --int-radius.\n",
      "WARNING: I will use the default values, which are probably not appropriate for your patterns.\n",
      "This is what I understood your unit cell to be:\n",
      "orthorhombic I, right handed.\n",
      "a      b      c            alpha   beta  gamma\n",
      " 80.58  94.49 103.89 A     90.00  90.00  90.00 deg\n",
      "List of indexing methods:\n",
      "   0: xgandalf-nolatt-cell      (xgandalf using cell parameters as prior information)\n",
      "Indexing parameters:\n",
      "                  Check unit cell parameters: on\n",
      "                        Check peak alignment: on\n",
      "                   Refine indexing solutions: off\n",
      " Multi-lattice indexing (\"delete and retry\"): off\n",
      "                              Retry indexing: on\n"
     ]
    },
    {
     "name": "stdout",
     "output_type": "stream",
     "text": [
      "Running for x=-511.8, y=-512.9\n"
     ]
    },
    {
     "name": "stderr",
     "output_type": "stream",
     "text": [
      "54 images processed, 54 hits (100.0%), 14 indexable (25.9% of hits, 25.9% overall), 14 crystals, 10.8 images/sec.\n",
      "Waiting for the last patterns to be processed...\n",
      "Final: 100 images processed, 100 hits (100.0%), 24 indexable (24.0% of hits, 24.0% overall), 24 crystals.\n",
      "Processing XY pairs:  75%|███████▍  | 329/441 [49:46<17:50,  9.56s/it]WARNING: You did not specify --int-radius.\n",
      "WARNING: I will use the default values, which are probably not appropriate for your patterns.\n",
      "This is what I understood your unit cell to be:\n",
      "orthorhombic I, right handed.\n",
      "a      b      c            alpha   beta  gamma\n",
      " 80.58  94.49 103.89 A     90.00  90.00  90.00 deg\n",
      "List of indexing methods:\n",
      "   0: xgandalf-nolatt-cell      (xgandalf using cell parameters as prior information)\n",
      "Indexing parameters:\n",
      "                  Check unit cell parameters: on\n",
      "                        Check peak alignment: on\n",
      "                   Refine indexing solutions: off\n",
      " Multi-lattice indexing (\"delete and retry\"): off\n",
      "                              Retry indexing: on\n"
     ]
    },
    {
     "name": "stdout",
     "output_type": "stream",
     "text": [
      "Running for x=-511.8, y=-511.1\n"
     ]
    },
    {
     "name": "stderr",
     "output_type": "stream",
     "text": [
      "63 images processed, 63 hits (100.0%), 27 indexable (42.9% of hits, 42.9% overall), 27 crystals, 11.9 images/sec.\n",
      "Waiting for the last patterns to be processed...\n",
      "Final: 100 images processed, 100 hits (100.0%), 35 indexable (35.0% of hits, 35.0% overall), 35 crystals.\n",
      "Processing XY pairs:  75%|███████▍  | 330/441 [49:56<17:36,  9.52s/it]WARNING: You did not specify --int-radius.\n",
      "WARNING: I will use the default values, which are probably not appropriate for your patterns.\n",
      "This is what I understood your unit cell to be:\n",
      "orthorhombic I, right handed.\n",
      "a      b      c            alpha   beta  gamma\n",
      " 80.58  94.49 103.89 A     90.00  90.00  90.00 deg\n",
      "List of indexing methods:\n",
      "   0: xgandalf-nolatt-cell      (xgandalf using cell parameters as prior information)\n",
      "Indexing parameters:\n",
      "                  Check unit cell parameters: on\n",
      "                        Check peak alignment: on\n",
      "                   Refine indexing solutions: off\n",
      " Multi-lattice indexing (\"delete and retry\"): off\n",
      "                              Retry indexing: on\n"
     ]
    },
    {
     "name": "stdout",
     "output_type": "stream",
     "text": [
      "Running for x=-511.7, y=-512.9\n"
     ]
    },
    {
     "name": "stderr",
     "output_type": "stream",
     "text": [
      "57 images processed, 57 hits (100.0%), 17 indexable (29.8% of hits, 29.8% overall), 17 crystals, 11.3 images/sec.\n",
      "Waiting for the last patterns to be processed...\n",
      "Final: 100 images processed, 100 hits (100.0%), 32 indexable (32.0% of hits, 32.0% overall), 32 crystals.\n",
      "Processing XY pairs:  75%|███████▌  | 331/441 [50:04<16:57,  9.25s/it]WARNING: You did not specify --int-radius.\n",
      "WARNING: I will use the default values, which are probably not appropriate for your patterns.\n",
      "This is what I understood your unit cell to be:\n",
      "orthorhombic I, right handed.\n",
      "a      b      c            alpha   beta  gamma\n",
      " 80.58  94.49 103.89 A     90.00  90.00  90.00 deg\n",
      "List of indexing methods:\n",
      "   0: xgandalf-nolatt-cell      (xgandalf using cell parameters as prior information)\n",
      "Indexing parameters:\n",
      "                  Check unit cell parameters: on\n",
      "                        Check peak alignment: on\n",
      "                   Refine indexing solutions: off\n",
      " Multi-lattice indexing (\"delete and retry\"): off\n",
      "                              Retry indexing: on\n"
     ]
    },
    {
     "name": "stdout",
     "output_type": "stream",
     "text": [
      "Running for x=-511.7, y=-511.1\n"
     ]
    },
    {
     "name": "stderr",
     "output_type": "stream",
     "text": [
      "WARNING: Radius determination failed\n",
      "59 images processed, 59 hits (100.0%), 21 indexable (35.6% of hits, 35.6% overall), 21 crystals, 11.7 images/sec.\n",
      "Waiting for the last patterns to be processed...\n",
      "Final: 100 images processed, 100 hits (100.0%), 36 indexable (36.0% of hits, 36.0% overall), 36 crystals.\n",
      "Processing XY pairs:  75%|███████▌  | 332/441 [50:13<16:16,  8.96s/it]WARNING: You did not specify --int-radius.\n",
      "WARNING: I will use the default values, which are probably not appropriate for your patterns.\n",
      "This is what I understood your unit cell to be:\n",
      "orthorhombic I, right handed.\n",
      "a      b      c            alpha   beta  gamma\n",
      " 80.58  94.49 103.89 A     90.00  90.00  90.00 deg\n",
      "List of indexing methods:\n",
      "   0: xgandalf-nolatt-cell      (xgandalf using cell parameters as prior information)\n",
      "Indexing parameters:\n",
      "                  Check unit cell parameters: on\n",
      "                        Check peak alignment: on\n",
      "                   Refine indexing solutions: off\n",
      " Multi-lattice indexing (\"delete and retry\"): off\n",
      "                              Retry indexing: on\n"
     ]
    },
    {
     "name": "stdout",
     "output_type": "stream",
     "text": [
      "Running for x=-511.6, y=-512.9\n"
     ]
    },
    {
     "name": "stderr",
     "output_type": "stream",
     "text": [
      "WARNING: Radius determination failed\n",
      "57 images processed, 57 hits (100.0%), 21 indexable (36.8% of hits, 36.8% overall), 21 crystals, 11.1 images/sec.\n",
      "Waiting for the last patterns to be processed...\n",
      "Final: 100 images processed, 100 hits (100.0%), 27 indexable (27.0% of hits, 27.0% overall), 27 crystals.\n",
      "Processing XY pairs:  76%|███████▌  | 333/441 [50:23<16:35,  9.22s/it]WARNING: You did not specify --int-radius.\n",
      "WARNING: I will use the default values, which are probably not appropriate for your patterns.\n",
      "This is what I understood your unit cell to be:\n",
      "orthorhombic I, right handed.\n",
      "a      b      c            alpha   beta  gamma\n",
      " 80.58  94.49 103.89 A     90.00  90.00  90.00 deg\n",
      "List of indexing methods:\n",
      "   0: xgandalf-nolatt-cell      (xgandalf using cell parameters as prior information)\n",
      "Indexing parameters:\n",
      "                  Check unit cell parameters: on\n",
      "                        Check peak alignment: on\n",
      "                   Refine indexing solutions: off\n",
      " Multi-lattice indexing (\"delete and retry\"): off\n",
      "                              Retry indexing: on\n"
     ]
    },
    {
     "name": "stdout",
     "output_type": "stream",
     "text": [
      "Running for x=-511.6, y=-511.1\n"
     ]
    },
    {
     "name": "stderr",
     "output_type": "stream",
     "text": [
      "56 images processed, 56 hits (100.0%), 17 indexable (30.4% of hits, 30.4% overall), 17 crystals, 10.9 images/sec.\n",
      "Waiting for the last patterns to be processed...\n",
      "Final: 100 images processed, 100 hits (100.0%), 31 indexable (31.0% of hits, 31.0% overall), 31 crystals.\n",
      "Processing XY pairs:  76%|███████▌  | 334/441 [50:32<16:45,  9.40s/it]WARNING: You did not specify --int-radius.\n",
      "WARNING: I will use the default values, which are probably not appropriate for your patterns.\n",
      "This is what I understood your unit cell to be:\n",
      "orthorhombic I, right handed.\n",
      "a      b      c            alpha   beta  gamma\n",
      " 80.58  94.49 103.89 A     90.00  90.00  90.00 deg\n",
      "List of indexing methods:\n",
      "   0: xgandalf-nolatt-cell      (xgandalf using cell parameters as prior information)\n",
      "Indexing parameters:\n",
      "                  Check unit cell parameters: on\n",
      "                        Check peak alignment: on\n",
      "                   Refine indexing solutions: off\n",
      " Multi-lattice indexing (\"delete and retry\"): off\n",
      "                              Retry indexing: on\n"
     ]
    },
    {
     "name": "stdout",
     "output_type": "stream",
     "text": [
      "Running for x=-511.5, y=-512.9\n"
     ]
    },
    {
     "name": "stderr",
     "output_type": "stream",
     "text": [
      "60 images processed, 60 hits (100.0%), 19 indexable (31.7% of hits, 31.7% overall), 19 crystals, 11.6 images/sec.\n",
      "Waiting for the last patterns to be processed...\n",
      "Final: 100 images processed, 100 hits (100.0%), 28 indexable (28.0% of hits, 28.0% overall), 28 crystals.\n",
      "Processing XY pairs:  76%|███████▌  | 335/441 [50:41<16:03,  9.09s/it]WARNING: You did not specify --int-radius.\n",
      "WARNING: I will use the default values, which are probably not appropriate for your patterns.\n",
      "This is what I understood your unit cell to be:\n",
      "orthorhombic I, right handed.\n",
      "a      b      c            alpha   beta  gamma\n",
      " 80.58  94.49 103.89 A     90.00  90.00  90.00 deg\n",
      "List of indexing methods:\n",
      "   0: xgandalf-nolatt-cell      (xgandalf using cell parameters as prior information)\n",
      "Indexing parameters:\n",
      "                  Check unit cell parameters: on\n",
      "                        Check peak alignment: on\n",
      "                   Refine indexing solutions: off\n",
      " Multi-lattice indexing (\"delete and retry\"): off\n",
      "                              Retry indexing: on\n"
     ]
    },
    {
     "name": "stdout",
     "output_type": "stream",
     "text": [
      "Running for x=-511.5, y=-511.1\n"
     ]
    },
    {
     "name": "stderr",
     "output_type": "stream",
     "text": [
      "57 images processed, 57 hits (100.0%), 22 indexable (38.6% of hits, 38.6% overall), 22 crystals, 11.0 images/sec.\n",
      "Waiting for the last patterns to be processed...\n",
      "Final: 100 images processed, 100 hits (100.0%), 34 indexable (34.0% of hits, 34.0% overall), 34 crystals.\n",
      "Processing XY pairs:  76%|███████▌  | 336/441 [50:50<16:08,  9.22s/it]WARNING: You did not specify --int-radius.\n",
      "WARNING: I will use the default values, which are probably not appropriate for your patterns.\n",
      "This is what I understood your unit cell to be:\n",
      "orthorhombic I, right handed.\n",
      "a      b      c            alpha   beta  gamma\n",
      " 80.58  94.49 103.89 A     90.00  90.00  90.00 deg\n",
      "List of indexing methods:\n",
      "   0: xgandalf-nolatt-cell      (xgandalf using cell parameters as prior information)\n",
      "Indexing parameters:\n",
      "                  Check unit cell parameters: on\n",
      "                        Check peak alignment: on\n",
      "                   Refine indexing solutions: off\n",
      " Multi-lattice indexing (\"delete and retry\"): off\n",
      "                              Retry indexing: on\n"
     ]
    },
    {
     "name": "stdout",
     "output_type": "stream",
     "text": [
      "Running for x=-511.4, y=-512.9\n"
     ]
    },
    {
     "name": "stderr",
     "output_type": "stream",
     "text": [
      "59 images processed, 59 hits (100.0%), 16 indexable (27.1% of hits, 27.1% overall), 16 crystals, 11.6 images/sec.\n",
      "Waiting for the last patterns to be processed...\n",
      "Final: 100 images processed, 100 hits (100.0%), 21 indexable (21.0% of hits, 21.0% overall), 21 crystals.\n",
      "Processing XY pairs:  76%|███████▋  | 337/441 [51:00<16:09,  9.32s/it]WARNING: You did not specify --int-radius.\n",
      "WARNING: I will use the default values, which are probably not appropriate for your patterns.\n",
      "This is what I understood your unit cell to be:\n",
      "orthorhombic I, right handed.\n",
      "a      b      c            alpha   beta  gamma\n",
      " 80.58  94.49 103.89 A     90.00  90.00  90.00 deg\n",
      "List of indexing methods:\n",
      "   0: xgandalf-nolatt-cell      (xgandalf using cell parameters as prior information)\n",
      "Indexing parameters:\n",
      "                  Check unit cell parameters: on\n",
      "                        Check peak alignment: on\n",
      "                   Refine indexing solutions: off\n",
      " Multi-lattice indexing (\"delete and retry\"): off\n",
      "                              Retry indexing: on\n"
     ]
    },
    {
     "name": "stdout",
     "output_type": "stream",
     "text": [
      "Running for x=-511.4, y=-511.1\n"
     ]
    },
    {
     "name": "stderr",
     "output_type": "stream",
     "text": [
      "53 images processed, 53 hits (100.0%), 13 indexable (24.5% of hits, 24.5% overall), 13 crystals, 10.5 images/sec.\n",
      "Waiting for the last patterns to be processed...\n",
      "Final: 100 images processed, 100 hits (100.0%), 22 indexable (22.0% of hits, 22.0% overall), 22 crystals.\n",
      "Processing XY pairs:  77%|███████▋  | 338/441 [51:09<15:44,  9.17s/it]WARNING: You did not specify --int-radius.\n",
      "WARNING: I will use the default values, which are probably not appropriate for your patterns.\n",
      "This is what I understood your unit cell to be:\n",
      "orthorhombic I, right handed.\n",
      "a      b      c            alpha   beta  gamma\n",
      " 80.58  94.49 103.89 A     90.00  90.00  90.00 deg\n",
      "List of indexing methods:\n",
      "   0: xgandalf-nolatt-cell      (xgandalf using cell parameters as prior information)\n",
      "Indexing parameters:\n",
      "                  Check unit cell parameters: on\n",
      "                        Check peak alignment: on\n",
      "                   Refine indexing solutions: off\n",
      " Multi-lattice indexing (\"delete and retry\"): off\n",
      "                              Retry indexing: on\n"
     ]
    },
    {
     "name": "stdout",
     "output_type": "stream",
     "text": [
      "Running for x=-511.3, y=-512.9\n"
     ]
    },
    {
     "name": "stderr",
     "output_type": "stream",
     "text": [
      "58 images processed, 58 hits (100.0%), 18 indexable (31.0% of hits, 31.0% overall), 18 crystals, 11.4 images/sec.\n",
      "Waiting for the last patterns to be processed...\n",
      "Final: 100 images processed, 100 hits (100.0%), 22 indexable (22.0% of hits, 22.0% overall), 22 crystals.\n",
      "Processing XY pairs:  77%|███████▋  | 339/441 [51:18<15:54,  9.36s/it]WARNING: You did not specify --int-radius.\n",
      "WARNING: I will use the default values, which are probably not appropriate for your patterns.\n",
      "This is what I understood your unit cell to be:\n",
      "orthorhombic I, right handed.\n",
      "a      b      c            alpha   beta  gamma\n",
      " 80.58  94.49 103.89 A     90.00  90.00  90.00 deg\n",
      "List of indexing methods:\n",
      "   0: xgandalf-nolatt-cell      (xgandalf using cell parameters as prior information)\n",
      "Indexing parameters:\n",
      "                  Check unit cell parameters: on\n",
      "                        Check peak alignment: on\n",
      "                   Refine indexing solutions: off\n",
      " Multi-lattice indexing (\"delete and retry\"): off\n",
      "                              Retry indexing: on\n"
     ]
    },
    {
     "name": "stdout",
     "output_type": "stream",
     "text": [
      "Running for x=-511.3, y=-511.1\n"
     ]
    },
    {
     "name": "stderr",
     "output_type": "stream",
     "text": [
      "59 images processed, 59 hits (100.0%), 15 indexable (25.4% of hits, 25.4% overall), 15 crystals, 11.5 images/sec.\n",
      "Waiting for the last patterns to be processed...\n",
      "Final: 100 images processed, 100 hits (100.0%), 27 indexable (27.0% of hits, 27.0% overall), 27 crystals.\n",
      "Processing XY pairs:  77%|███████▋  | 340/441 [51:28<15:46,  9.37s/it]WARNING: You did not specify --int-radius.\n",
      "WARNING: I will use the default values, which are probably not appropriate for your patterns.\n",
      "This is what I understood your unit cell to be:\n",
      "orthorhombic I, right handed.\n",
      "a      b      c            alpha   beta  gamma\n",
      " 80.58  94.49 103.89 A     90.00  90.00  90.00 deg\n",
      "List of indexing methods:\n",
      "   0: xgandalf-nolatt-cell      (xgandalf using cell parameters as prior information)\n",
      "Indexing parameters:\n",
      "                  Check unit cell parameters: on\n",
      "                        Check peak alignment: on\n",
      "                   Refine indexing solutions: off\n",
      " Multi-lattice indexing (\"delete and retry\"): off\n",
      "                              Retry indexing: on\n"
     ]
    },
    {
     "name": "stdout",
     "output_type": "stream",
     "text": [
      "Running for x=-511.2, y=-512.9\n"
     ]
    },
    {
     "name": "stderr",
     "output_type": "stream",
     "text": [
      "56 images processed, 56 hits (100.0%), 16 indexable (28.6% of hits, 28.6% overall), 16 crystals, 11.1 images/sec.\n",
      "Waiting for the last patterns to be processed...\n",
      "Final: 100 images processed, 100 hits (100.0%), 26 indexable (26.0% of hits, 26.0% overall), 26 crystals.\n",
      "Processing XY pairs:  77%|███████▋  | 341/441 [51:38<15:47,  9.48s/it]WARNING: You did not specify --int-radius.\n",
      "WARNING: I will use the default values, which are probably not appropriate for your patterns.\n",
      "This is what I understood your unit cell to be:\n",
      "orthorhombic I, right handed.\n",
      "a      b      c            alpha   beta  gamma\n",
      " 80.58  94.49 103.89 A     90.00  90.00  90.00 deg\n",
      "List of indexing methods:\n",
      "   0: xgandalf-nolatt-cell      (xgandalf using cell parameters as prior information)\n",
      "Indexing parameters:\n",
      "                  Check unit cell parameters: on\n",
      "                        Check peak alignment: on\n",
      "                   Refine indexing solutions: off\n",
      " Multi-lattice indexing (\"delete and retry\"): off\n",
      "                              Retry indexing: on\n"
     ]
    },
    {
     "name": "stdout",
     "output_type": "stream",
     "text": [
      "Running for x=-511.2, y=-511.1\n"
     ]
    },
    {
     "name": "stderr",
     "output_type": "stream",
     "text": [
      "51 images processed, 51 hits (100.0%), 10 indexable (19.6% of hits, 19.6% overall), 10 crystals, 10.1 images/sec.\n",
      "Waiting for the last patterns to be processed...\n",
      "99 images processed, 99 hits (100.0%), 20 indexable (20.2% of hits, 20.2% overall), 20 crystals, 9.4 images/sec.\n",
      "Final: 100 images processed, 100 hits (100.0%), 20 indexable (20.0% of hits, 20.0% overall), 20 crystals.\n",
      "Processing XY pairs:  78%|███████▊  | 342/441 [51:48<15:59,  9.69s/it]WARNING: You did not specify --int-radius.\n",
      "WARNING: I will use the default values, which are probably not appropriate for your patterns.\n",
      "This is what I understood your unit cell to be:\n",
      "orthorhombic I, right handed.\n",
      "a      b      c            alpha   beta  gamma\n",
      " 80.58  94.49 103.89 A     90.00  90.00  90.00 deg\n",
      "List of indexing methods:\n",
      "   0: xgandalf-nolatt-cell      (xgandalf using cell parameters as prior information)\n",
      "Indexing parameters:\n",
      "                  Check unit cell parameters: on\n",
      "                        Check peak alignment: on\n",
      "                   Refine indexing solutions: off\n",
      " Multi-lattice indexing (\"delete and retry\"): off\n",
      "                              Retry indexing: on\n"
     ]
    },
    {
     "name": "stdout",
     "output_type": "stream",
     "text": [
      "Running for x=-511.1, y=-512.9\n"
     ]
    },
    {
     "name": "stderr",
     "output_type": "stream",
     "text": [
      "56 images processed, 56 hits (100.0%), 14 indexable (25.0% of hits, 25.0% overall), 14 crystals, 11.0 images/sec.\n",
      "Waiting for the last patterns to be processed...\n",
      "Final: 100 images processed, 100 hits (100.0%), 20 indexable (20.0% of hits, 20.0% overall), 20 crystals.\n",
      "Processing XY pairs:  78%|███████▊  | 343/441 [51:58<15:57,  9.77s/it]WARNING: You did not specify --int-radius.\n",
      "WARNING: I will use the default values, which are probably not appropriate for your patterns.\n",
      "This is what I understood your unit cell to be:\n",
      "orthorhombic I, right handed.\n",
      "a      b      c            alpha   beta  gamma\n",
      " 80.58  94.49 103.89 A     90.00  90.00  90.00 deg\n",
      "List of indexing methods:\n",
      "   0: xgandalf-nolatt-cell      (xgandalf using cell parameters as prior information)\n",
      "Indexing parameters:\n",
      "                  Check unit cell parameters: on\n",
      "                        Check peak alignment: on\n",
      "                   Refine indexing solutions: off\n",
      " Multi-lattice indexing (\"delete and retry\"): off\n",
      "                              Retry indexing: on\n"
     ]
    },
    {
     "name": "stdout",
     "output_type": "stream",
     "text": [
      "Running for x=-511.1, y=-512.8\n"
     ]
    },
    {
     "name": "stderr",
     "output_type": "stream",
     "text": [
      "50 images processed, 50 hits (100.0%), 9 indexable (18.0% of hits, 18.0% overall), 9 crystals, 10.0 images/sec.\n",
      "Waiting for the last patterns to be processed...\n",
      "99 images processed, 99 hits (100.0%), 20 indexable (20.2% of hits, 20.2% overall), 20 crystals, 9.5 images/sec.\n",
      "Final: 100 images processed, 100 hits (100.0%), 20 indexable (20.0% of hits, 20.0% overall), 20 crystals.\n",
      "Processing XY pairs:  78%|███████▊  | 344/441 [52:08<16:01,  9.92s/it]WARNING: You did not specify --int-radius.\n",
      "WARNING: I will use the default values, which are probably not appropriate for your patterns.\n",
      "This is what I understood your unit cell to be:\n",
      "orthorhombic I, right handed.\n",
      "a      b      c            alpha   beta  gamma\n",
      " 80.58  94.49 103.89 A     90.00  90.00  90.00 deg\n",
      "List of indexing methods:\n",
      "   0: xgandalf-nolatt-cell      (xgandalf using cell parameters as prior information)\n",
      "Indexing parameters:\n",
      "                  Check unit cell parameters: on\n",
      "                        Check peak alignment: on\n",
      "                   Refine indexing solutions: off\n",
      " Multi-lattice indexing (\"delete and retry\"): off\n",
      "                              Retry indexing: on\n"
     ]
    },
    {
     "name": "stdout",
     "output_type": "stream",
     "text": [
      "Running for x=-511.1, y=-512.7\n"
     ]
    },
    {
     "name": "stderr",
     "output_type": "stream",
     "text": [
      "53 images processed, 53 hits (100.0%), 6 indexable (11.3% of hits, 11.3% overall), 6 crystals, 10.6 images/sec.\n",
      "Waiting for the last patterns to be processed...\n",
      "Final: 100 images processed, 100 hits (100.0%), 16 indexable (16.0% of hits, 16.0% overall), 16 crystals.\n",
      "Processing XY pairs:  78%|███████▊  | 345/441 [52:18<15:47,  9.87s/it]WARNING: You did not specify --int-radius.\n",
      "WARNING: I will use the default values, which are probably not appropriate for your patterns.\n",
      "This is what I understood your unit cell to be:\n",
      "orthorhombic I, right handed.\n",
      "a      b      c            alpha   beta  gamma\n",
      " 80.58  94.49 103.89 A     90.00  90.00  90.00 deg\n",
      "List of indexing methods:\n",
      "   0: xgandalf-nolatt-cell      (xgandalf using cell parameters as prior information)\n",
      "Indexing parameters:\n",
      "                  Check unit cell parameters: on\n",
      "                        Check peak alignment: on\n",
      "                   Refine indexing solutions: off\n",
      " Multi-lattice indexing (\"delete and retry\"): off\n",
      "                              Retry indexing: on\n"
     ]
    },
    {
     "name": "stdout",
     "output_type": "stream",
     "text": [
      "Running for x=-511.1, y=-512.6\n"
     ]
    },
    {
     "name": "stderr",
     "output_type": "stream",
     "text": [
      "56 images processed, 56 hits (100.0%), 12 indexable (21.4% of hits, 21.4% overall), 12 crystals, 11.1 images/sec.\n",
      "Waiting for the last patterns to be processed...\n",
      "Final: 100 images processed, 100 hits (100.0%), 25 indexable (25.0% of hits, 25.0% overall), 25 crystals.\n",
      "Processing XY pairs:  78%|███████▊  | 346/441 [52:27<15:28,  9.77s/it]WARNING: You did not specify --int-radius.\n",
      "WARNING: I will use the default values, which are probably not appropriate for your patterns.\n",
      "This is what I understood your unit cell to be:\n",
      "orthorhombic I, right handed.\n",
      "a      b      c            alpha   beta  gamma\n",
      " 80.58  94.49 103.89 A     90.00  90.00  90.00 deg\n",
      "List of indexing methods:\n",
      "   0: xgandalf-nolatt-cell      (xgandalf using cell parameters as prior information)\n",
      "Indexing parameters:\n",
      "                  Check unit cell parameters: on\n",
      "                        Check peak alignment: on\n",
      "                   Refine indexing solutions: off\n",
      " Multi-lattice indexing (\"delete and retry\"): off\n",
      "                              Retry indexing: on\n"
     ]
    },
    {
     "name": "stdout",
     "output_type": "stream",
     "text": [
      "Running for x=-511.1, y=-512.5\n"
     ]
    },
    {
     "name": "stderr",
     "output_type": "stream",
     "text": [
      "53 images processed, 53 hits (100.0%), 7 indexable (13.2% of hits, 13.2% overall), 7 crystals, 10.5 images/sec.\n",
      "WARNING: Radius determination failed\n",
      "Waiting for the last patterns to be processed...\n",
      "Final: 100 images processed, 100 hits (100.0%), 20 indexable (20.0% of hits, 20.0% overall), 20 crystals.\n",
      "Processing XY pairs:  79%|███████▊  | 347/441 [52:37<15:19,  9.78s/it]WARNING: You did not specify --int-radius.\n",
      "WARNING: I will use the default values, which are probably not appropriate for your patterns.\n",
      "This is what I understood your unit cell to be:\n",
      "orthorhombic I, right handed.\n",
      "a      b      c            alpha   beta  gamma\n",
      " 80.58  94.49 103.89 A     90.00  90.00  90.00 deg\n",
      "List of indexing methods:\n",
      "   0: xgandalf-nolatt-cell      (xgandalf using cell parameters as prior information)\n",
      "Indexing parameters:\n",
      "                  Check unit cell parameters: on\n",
      "                        Check peak alignment: on\n",
      "                   Refine indexing solutions: off\n",
      " Multi-lattice indexing (\"delete and retry\"): off\n",
      "                              Retry indexing: on\n"
     ]
    },
    {
     "name": "stdout",
     "output_type": "stream",
     "text": [
      "Running for x=-511.1, y=-512.4\n"
     ]
    },
    {
     "name": "stderr",
     "output_type": "stream",
     "text": [
      "53 images processed, 53 hits (100.0%), 10 indexable (18.9% of hits, 18.9% overall), 10 crystals, 10.6 images/sec.\n",
      "Waiting for the last patterns to be processed...\n",
      "Final: 100 images processed, 100 hits (100.0%), 22 indexable (22.0% of hits, 22.0% overall), 22 crystals.\n",
      "Processing XY pairs:  79%|███████▉  | 348/441 [52:46<14:39,  9.45s/it]WARNING: You did not specify --int-radius.\n",
      "WARNING: I will use the default values, which are probably not appropriate for your patterns.\n",
      "This is what I understood your unit cell to be:\n",
      "orthorhombic I, right handed.\n",
      "a      b      c            alpha   beta  gamma\n",
      " 80.58  94.49 103.89 A     90.00  90.00  90.00 deg\n",
      "List of indexing methods:\n",
      "   0: xgandalf-nolatt-cell      (xgandalf using cell parameters as prior information)\n",
      "Indexing parameters:\n",
      "                  Check unit cell parameters: on\n",
      "                        Check peak alignment: on\n",
      "                   Refine indexing solutions: off\n",
      " Multi-lattice indexing (\"delete and retry\"): off\n",
      "                              Retry indexing: on\n"
     ]
    },
    {
     "name": "stdout",
     "output_type": "stream",
     "text": [
      "Running for x=-511.1, y=-512.3\n"
     ]
    },
    {
     "name": "stderr",
     "output_type": "stream",
     "text": [
      "54 images processed, 54 hits (100.0%), 14 indexable (25.9% of hits, 25.9% overall), 14 crystals, 10.7 images/sec.\n",
      "Waiting for the last patterns to be processed...\n",
      "Final: 100 images processed, 100 hits (100.0%), 24 indexable (24.0% of hits, 24.0% overall), 24 crystals.\n",
      "Processing XY pairs:  79%|███████▉  | 349/441 [52:55<14:33,  9.50s/it]WARNING: You did not specify --int-radius.\n",
      "WARNING: I will use the default values, which are probably not appropriate for your patterns.\n",
      "This is what I understood your unit cell to be:\n",
      "orthorhombic I, right handed.\n",
      "a      b      c            alpha   beta  gamma\n",
      " 80.58  94.49 103.89 A     90.00  90.00  90.00 deg\n",
      "List of indexing methods:\n",
      "   0: xgandalf-nolatt-cell      (xgandalf using cell parameters as prior information)\n",
      "Indexing parameters:\n",
      "                  Check unit cell parameters: on\n",
      "                        Check peak alignment: on\n",
      "                   Refine indexing solutions: off\n",
      " Multi-lattice indexing (\"delete and retry\"): off\n",
      "                              Retry indexing: on\n"
     ]
    },
    {
     "name": "stdout",
     "output_type": "stream",
     "text": [
      "Running for x=-511.1, y=-512.2\n"
     ]
    },
    {
     "name": "stderr",
     "output_type": "stream",
     "text": [
      "57 images processed, 57 hits (100.0%), 17 indexable (29.8% of hits, 29.8% overall), 17 crystals, 11.1 images/sec.\n",
      "Waiting for the last patterns to be processed...\n",
      "Final: 100 images processed, 100 hits (100.0%), 29 indexable (29.0% of hits, 29.0% overall), 29 crystals.\n",
      "Processing XY pairs:  79%|███████▉  | 350/441 [53:04<13:58,  9.22s/it]WARNING: You did not specify --int-radius.\n",
      "WARNING: I will use the default values, which are probably not appropriate for your patterns.\n",
      "This is what I understood your unit cell to be:\n",
      "orthorhombic I, right handed.\n",
      "a      b      c            alpha   beta  gamma\n",
      " 80.58  94.49 103.89 A     90.00  90.00  90.00 deg\n",
      "List of indexing methods:\n",
      "   0: xgandalf-nolatt-cell      (xgandalf using cell parameters as prior information)\n",
      "Indexing parameters:\n",
      "                  Check unit cell parameters: on\n",
      "                        Check peak alignment: on\n",
      "                   Refine indexing solutions: off\n",
      " Multi-lattice indexing (\"delete and retry\"): off\n",
      "                              Retry indexing: on\n"
     ]
    },
    {
     "name": "stdout",
     "output_type": "stream",
     "text": [
      "Running for x=-511.1, y=-512.1\n"
     ]
    },
    {
     "name": "stderr",
     "output_type": "stream",
     "text": [
      "55 images processed, 55 hits (100.0%), 19 indexable (34.5% of hits, 34.5% overall), 19 crystals, 10.9 images/sec.\n",
      "Waiting for the last patterns to be processed...\n",
      "Final: 100 images processed, 100 hits (100.0%), 29 indexable (29.0% of hits, 29.0% overall), 29 crystals.\n",
      "Processing XY pairs:  80%|███████▉  | 351/441 [53:14<13:59,  9.32s/it]WARNING: You did not specify --int-radius.\n",
      "WARNING: I will use the default values, which are probably not appropriate for your patterns.\n",
      "This is what I understood your unit cell to be:\n",
      "orthorhombic I, right handed.\n",
      "a      b      c            alpha   beta  gamma\n",
      " 80.58  94.49 103.89 A     90.00  90.00  90.00 deg\n",
      "List of indexing methods:\n",
      "   0: xgandalf-nolatt-cell      (xgandalf using cell parameters as prior information)\n",
      "Indexing parameters:\n",
      "                  Check unit cell parameters: on\n",
      "                        Check peak alignment: on\n",
      "                   Refine indexing solutions: off\n",
      " Multi-lattice indexing (\"delete and retry\"): off\n",
      "                              Retry indexing: on\n"
     ]
    },
    {
     "name": "stdout",
     "output_type": "stream",
     "text": [
      "Running for x=-511.1, y=-512.0\n"
     ]
    },
    {
     "name": "stderr",
     "output_type": "stream",
     "text": [
      "58 images processed, 58 hits (100.0%), 14 indexable (24.1% of hits, 24.1% overall), 14 crystals, 11.4 images/sec.\n",
      "Waiting for the last patterns to be processed...\n",
      "Final: 100 images processed, 100 hits (100.0%), 21 indexable (21.0% of hits, 21.0% overall), 21 crystals.\n",
      "Processing XY pairs:  80%|███████▉  | 352/441 [53:23<13:58,  9.42s/it]WARNING: You did not specify --int-radius.\n",
      "WARNING: I will use the default values, which are probably not appropriate for your patterns.\n",
      "This is what I understood your unit cell to be:\n",
      "orthorhombic I, right handed.\n",
      "a      b      c            alpha   beta  gamma\n",
      " 80.58  94.49 103.89 A     90.00  90.00  90.00 deg\n",
      "List of indexing methods:\n",
      "   0: xgandalf-nolatt-cell      (xgandalf using cell parameters as prior information)\n",
      "Indexing parameters:\n",
      "                  Check unit cell parameters: on\n",
      "                        Check peak alignment: on\n",
      "                   Refine indexing solutions: off\n",
      " Multi-lattice indexing (\"delete and retry\"): off\n",
      "                              Retry indexing: on\n"
     ]
    },
    {
     "name": "stdout",
     "output_type": "stream",
     "text": [
      "Running for x=-511.1, y=-511.9\n"
     ]
    },
    {
     "name": "stderr",
     "output_type": "stream",
     "text": [
      "61 images processed, 61 hits (100.0%), 18 indexable (29.5% of hits, 29.5% overall), 18 crystals, 11.8 images/sec.\n",
      "Waiting for the last patterns to be processed...\n",
      "Final: 100 images processed, 100 hits (100.0%), 28 indexable (28.0% of hits, 28.0% overall), 28 crystals.\n",
      "Processing XY pairs:  80%|████████  | 353/441 [53:31<13:14,  9.03s/it]WARNING: You did not specify --int-radius.\n",
      "WARNING: I will use the default values, which are probably not appropriate for your patterns.\n",
      "This is what I understood your unit cell to be:\n",
      "orthorhombic I, right handed.\n",
      "a      b      c            alpha   beta  gamma\n",
      " 80.58  94.49 103.89 A     90.00  90.00  90.00 deg\n",
      "List of indexing methods:\n",
      "   0: xgandalf-nolatt-cell      (xgandalf using cell parameters as prior information)\n",
      "Indexing parameters:\n",
      "                  Check unit cell parameters: on\n",
      "                        Check peak alignment: on\n",
      "                   Refine indexing solutions: off\n",
      " Multi-lattice indexing (\"delete and retry\"): off\n",
      "                              Retry indexing: on\n"
     ]
    },
    {
     "name": "stdout",
     "output_type": "stream",
     "text": [
      "Running for x=-511.1, y=-511.8\n"
     ]
    },
    {
     "name": "stderr",
     "output_type": "stream",
     "text": [
      "48 images processed, 48 hits (100.0%), 17 indexable (35.4% of hits, 35.4% overall), 17 crystals, 9.5 images/sec.\n",
      "Waiting for the last patterns to be processed...\n",
      "99 images processed, 99 hits (100.0%), 28 indexable (28.3% of hits, 28.3% overall), 28 crystals, 9.8 images/sec.\n",
      "Final: 100 images processed, 100 hits (100.0%), 28 indexable (28.0% of hits, 28.0% overall), 28 crystals.\n",
      "Processing XY pairs:  80%|████████  | 354/441 [53:42<13:38,  9.41s/it]WARNING: You did not specify --int-radius.\n",
      "WARNING: I will use the default values, which are probably not appropriate for your patterns.\n",
      "This is what I understood your unit cell to be:\n",
      "orthorhombic I, right handed.\n",
      "a      b      c            alpha   beta  gamma\n",
      " 80.58  94.49 103.89 A     90.00  90.00  90.00 deg\n",
      "List of indexing methods:\n",
      "   0: xgandalf-nolatt-cell      (xgandalf using cell parameters as prior information)\n",
      "Indexing parameters:\n",
      "                  Check unit cell parameters: on\n",
      "                        Check peak alignment: on\n",
      "                   Refine indexing solutions: off\n",
      " Multi-lattice indexing (\"delete and retry\"): off\n",
      "                              Retry indexing: on\n"
     ]
    },
    {
     "name": "stdout",
     "output_type": "stream",
     "text": [
      "Running for x=-511.1, y=-511.7\n"
     ]
    },
    {
     "name": "stderr",
     "output_type": "stream",
     "text": [
      "54 images processed, 54 hits (100.0%), 13 indexable (24.1% of hits, 24.1% overall), 13 crystals, 10.7 images/sec.\n",
      "Waiting for the last patterns to be processed...\n",
      "Final: 100 images processed, 100 hits (100.0%), 25 indexable (25.0% of hits, 25.0% overall), 25 crystals.\n",
      "Processing XY pairs:  80%|████████  | 355/441 [53:51<13:38,  9.51s/it]WARNING: You did not specify --int-radius.\n",
      "WARNING: I will use the default values, which are probably not appropriate for your patterns.\n",
      "This is what I understood your unit cell to be:\n",
      "orthorhombic I, right handed.\n",
      "a      b      c            alpha   beta  gamma\n",
      " 80.58  94.49 103.89 A     90.00  90.00  90.00 deg\n",
      "List of indexing methods:\n",
      "   0: xgandalf-nolatt-cell      (xgandalf using cell parameters as prior information)\n",
      "Indexing parameters:\n",
      "                  Check unit cell parameters: on\n",
      "                        Check peak alignment: on\n",
      "                   Refine indexing solutions: off\n",
      " Multi-lattice indexing (\"delete and retry\"): off\n",
      "                              Retry indexing: on\n"
     ]
    },
    {
     "name": "stdout",
     "output_type": "stream",
     "text": [
      "Running for x=-511.1, y=-511.6\n"
     ]
    },
    {
     "name": "stderr",
     "output_type": "stream",
     "text": [
      "WARNING: Radius determination failed\n",
      "57 images processed, 57 hits (100.0%), 15 indexable (26.3% of hits, 26.3% overall), 15 crystals, 11.2 images/sec.\n",
      "Waiting for the last patterns to be processed...\n",
      "Final: 100 images processed, 100 hits (100.0%), 27 indexable (27.0% of hits, 27.0% overall), 27 crystals.\n",
      "Processing XY pairs:  81%|████████  | 356/441 [54:01<13:28,  9.52s/it]WARNING: You did not specify --int-radius.\n",
      "WARNING: I will use the default values, which are probably not appropriate for your patterns.\n",
      "This is what I understood your unit cell to be:\n",
      "orthorhombic I, right handed.\n",
      "a      b      c            alpha   beta  gamma\n",
      " 80.58  94.49 103.89 A     90.00  90.00  90.00 deg\n",
      "List of indexing methods:\n",
      "   0: xgandalf-nolatt-cell      (xgandalf using cell parameters as prior information)\n",
      "Indexing parameters:\n",
      "                  Check unit cell parameters: on\n",
      "                        Check peak alignment: on\n",
      "                   Refine indexing solutions: off\n",
      " Multi-lattice indexing (\"delete and retry\"): off\n",
      "                              Retry indexing: on\n"
     ]
    },
    {
     "name": "stdout",
     "output_type": "stream",
     "text": [
      "Running for x=-511.1, y=-511.5\n"
     ]
    },
    {
     "name": "stderr",
     "output_type": "stream",
     "text": [
      "59 images processed, 59 hits (100.0%), 13 indexable (22.0% of hits, 22.0% overall), 13 crystals, 11.7 images/sec.\n",
      "Waiting for the last patterns to be processed...\n",
      "Final: 100 images processed, 100 hits (100.0%), 20 indexable (20.0% of hits, 20.0% overall), 20 crystals.\n",
      "Processing XY pairs:  81%|████████  | 357/441 [54:10<13:19,  9.52s/it]WARNING: You did not specify --int-radius.\n",
      "WARNING: I will use the default values, which are probably not appropriate for your patterns.\n",
      "This is what I understood your unit cell to be:\n",
      "orthorhombic I, right handed.\n",
      "a      b      c            alpha   beta  gamma\n",
      " 80.58  94.49 103.89 A     90.00  90.00  90.00 deg\n",
      "List of indexing methods:\n",
      "   0: xgandalf-nolatt-cell      (xgandalf using cell parameters as prior information)\n",
      "Indexing parameters:\n",
      "                  Check unit cell parameters: on\n",
      "                        Check peak alignment: on\n",
      "                   Refine indexing solutions: off\n",
      " Multi-lattice indexing (\"delete and retry\"): off\n",
      "                              Retry indexing: on\n"
     ]
    },
    {
     "name": "stdout",
     "output_type": "stream",
     "text": [
      "Running for x=-511.1, y=-511.4\n"
     ]
    },
    {
     "name": "stderr",
     "output_type": "stream",
     "text": [
      "WARNING: Radius determination failed\n",
      "58 images processed, 58 hits (100.0%), 10 indexable (17.2% of hits, 17.2% overall), 10 crystals, 11.6 images/sec.\n",
      "Waiting for the last patterns to be processed...\n",
      "Final: 100 images processed, 100 hits (100.0%), 20 indexable (20.0% of hits, 20.0% overall), 20 crystals.\n",
      "Processing XY pairs:  81%|████████  | 358/441 [54:20<13:11,  9.53s/it]WARNING: You did not specify --int-radius.\n",
      "WARNING: I will use the default values, which are probably not appropriate for your patterns.\n",
      "This is what I understood your unit cell to be:\n",
      "orthorhombic I, right handed.\n",
      "a      b      c            alpha   beta  gamma\n",
      " 80.58  94.49 103.89 A     90.00  90.00  90.00 deg\n",
      "List of indexing methods:\n",
      "   0: xgandalf-nolatt-cell      (xgandalf using cell parameters as prior information)\n",
      "Indexing parameters:\n",
      "                  Check unit cell parameters: on\n",
      "                        Check peak alignment: on\n",
      "                   Refine indexing solutions: off\n",
      " Multi-lattice indexing (\"delete and retry\"): off\n",
      "                              Retry indexing: on\n"
     ]
    },
    {
     "name": "stdout",
     "output_type": "stream",
     "text": [
      "Running for x=-511.1, y=-511.3\n"
     ]
    },
    {
     "name": "stderr",
     "output_type": "stream",
     "text": [
      "58 images processed, 58 hits (100.0%), 16 indexable (27.6% of hits, 27.6% overall), 16 crystals, 11.5 images/sec.\n",
      "Waiting for the last patterns to be processed...\n",
      "Final: 100 images processed, 100 hits (100.0%), 25 indexable (25.0% of hits, 25.0% overall), 25 crystals.\n",
      "Processing XY pairs:  81%|████████▏ | 359/441 [54:29<12:59,  9.51s/it]WARNING: You did not specify --int-radius.\n",
      "WARNING: I will use the default values, which are probably not appropriate for your patterns.\n",
      "This is what I understood your unit cell to be:\n",
      "orthorhombic I, right handed.\n",
      "a      b      c            alpha   beta  gamma\n",
      " 80.58  94.49 103.89 A     90.00  90.00  90.00 deg\n",
      "List of indexing methods:\n",
      "   0: xgandalf-nolatt-cell      (xgandalf using cell parameters as prior information)\n",
      "Indexing parameters:\n",
      "                  Check unit cell parameters: on\n",
      "                        Check peak alignment: on\n",
      "                   Refine indexing solutions: off\n",
      " Multi-lattice indexing (\"delete and retry\"): off\n",
      "                              Retry indexing: on\n"
     ]
    },
    {
     "name": "stdout",
     "output_type": "stream",
     "text": [
      "Running for x=-511.1, y=-511.2\n"
     ]
    },
    {
     "name": "stderr",
     "output_type": "stream",
     "text": [
      "58 images processed, 58 hits (100.0%), 13 indexable (22.4% of hits, 22.4% overall), 13 crystals, 11.5 images/sec.\n",
      "Waiting for the last patterns to be processed...\n",
      "Final: 100 images processed, 100 hits (100.0%), 24 indexable (24.0% of hits, 24.0% overall), 24 crystals.\n",
      "Processing XY pairs:  82%|████████▏ | 360/441 [54:39<12:41,  9.40s/it]WARNING: You did not specify --int-radius.\n",
      "WARNING: I will use the default values, which are probably not appropriate for your patterns.\n",
      "This is what I understood your unit cell to be:\n",
      "orthorhombic I, right handed.\n",
      "a      b      c            alpha   beta  gamma\n",
      " 80.58  94.49 103.89 A     90.00  90.00  90.00 deg\n",
      "List of indexing methods:\n",
      "   0: xgandalf-nolatt-cell      (xgandalf using cell parameters as prior information)\n",
      "Indexing parameters:\n",
      "                  Check unit cell parameters: on\n",
      "                        Check peak alignment: on\n",
      "                   Refine indexing solutions: off\n",
      " Multi-lattice indexing (\"delete and retry\"): off\n",
      "                              Retry indexing: on\n"
     ]
    },
    {
     "name": "stdout",
     "output_type": "stream",
     "text": [
      "Running for x=-511.1, y=-511.1\n"
     ]
    },
    {
     "name": "stderr",
     "output_type": "stream",
     "text": [
      "57 images processed, 57 hits (100.0%), 10 indexable (17.5% of hits, 17.5% overall), 10 crystals, 11.0 images/sec.\n",
      "Waiting for the last patterns to be processed...\n",
      "Final: 100 images processed, 100 hits (100.0%), 21 indexable (21.0% of hits, 21.0% overall), 21 crystals.\n",
      "Processing XY pairs:  82%|████████▏ | 361/441 [54:48<12:32,  9.40s/it]WARNING: You did not specify --int-radius.\n",
      "WARNING: I will use the default values, which are probably not appropriate for your patterns.\n",
      "This is what I understood your unit cell to be:\n",
      "orthorhombic I, right handed.\n",
      "a      b      c            alpha   beta  gamma\n",
      " 80.58  94.49 103.89 A     90.00  90.00  90.00 deg\n",
      "List of indexing methods:\n",
      "   0: xgandalf-nolatt-cell      (xgandalf using cell parameters as prior information)\n",
      "Indexing parameters:\n",
      "                  Check unit cell parameters: on\n",
      "                        Check peak alignment: on\n",
      "                   Refine indexing solutions: off\n",
      " Multi-lattice indexing (\"delete and retry\"): off\n",
      "                              Retry indexing: on\n"
     ]
    },
    {
     "name": "stdout",
     "output_type": "stream",
     "text": [
      "Running for x=-513.0, y=-513.0\n"
     ]
    },
    {
     "name": "stderr",
     "output_type": "stream",
     "text": [
      "57 images processed, 57 hits (100.0%), 11 indexable (19.3% of hits, 19.3% overall), 11 crystals, 11.1 images/sec.\n",
      "Waiting for the last patterns to be processed...\n",
      "Final: 100 images processed, 100 hits (100.0%), 15 indexable (15.0% of hits, 15.0% overall), 15 crystals.\n",
      "Processing XY pairs:  82%|████████▏ | 362/441 [54:57<12:24,  9.43s/it]WARNING: You did not specify --int-radius.\n",
      "WARNING: I will use the default values, which are probably not appropriate for your patterns.\n",
      "This is what I understood your unit cell to be:\n",
      "orthorhombic I, right handed.\n",
      "a      b      c            alpha   beta  gamma\n",
      " 80.58  94.49 103.89 A     90.00  90.00  90.00 deg\n",
      "List of indexing methods:\n",
      "   0: xgandalf-nolatt-cell      (xgandalf using cell parameters as prior information)\n",
      "Indexing parameters:\n",
      "                  Check unit cell parameters: on\n",
      "                        Check peak alignment: on\n",
      "                   Refine indexing solutions: off\n",
      " Multi-lattice indexing (\"delete and retry\"): off\n",
      "                              Retry indexing: on\n"
     ]
    },
    {
     "name": "stdout",
     "output_type": "stream",
     "text": [
      "Running for x=-513.0, y=-512.9\n"
     ]
    },
    {
     "name": "stderr",
     "output_type": "stream",
     "text": [
      "59 images processed, 59 hits (100.0%), 14 indexable (23.7% of hits, 23.7% overall), 14 crystals, 11.3 images/sec.\n",
      "Waiting for the last patterns to be processed...\n",
      "Final: 100 images processed, 100 hits (100.0%), 21 indexable (21.0% of hits, 21.0% overall), 21 crystals.\n",
      "Processing XY pairs:  82%|████████▏ | 363/441 [55:07<12:17,  9.45s/it]WARNING: You did not specify --int-radius.\n",
      "WARNING: I will use the default values, which are probably not appropriate for your patterns.\n",
      "This is what I understood your unit cell to be:\n",
      "orthorhombic I, right handed.\n",
      "a      b      c            alpha   beta  gamma\n",
      " 80.58  94.49 103.89 A     90.00  90.00  90.00 deg\n",
      "List of indexing methods:\n",
      "   0: xgandalf-nolatt-cell      (xgandalf using cell parameters as prior information)\n",
      "Indexing parameters:\n",
      "                  Check unit cell parameters: on\n",
      "                        Check peak alignment: on\n",
      "                   Refine indexing solutions: off\n",
      " Multi-lattice indexing (\"delete and retry\"): off\n",
      "                              Retry indexing: on\n"
     ]
    },
    {
     "name": "stdout",
     "output_type": "stream",
     "text": [
      "Running for x=-513.0, y=-512.8\n"
     ]
    },
    {
     "name": "stderr",
     "output_type": "stream",
     "text": [
      "58 images processed, 58 hits (100.0%), 10 indexable (17.2% of hits, 17.2% overall), 10 crystals, 11.4 images/sec.\n",
      "Waiting for the last patterns to be processed...\n",
      "Final: 100 images processed, 100 hits (100.0%), 17 indexable (17.0% of hits, 17.0% overall), 17 crystals.\n",
      "Processing XY pairs:  83%|████████▎ | 364/441 [55:17<12:11,  9.50s/it]WARNING: You did not specify --int-radius.\n",
      "WARNING: I will use the default values, which are probably not appropriate for your patterns.\n",
      "This is what I understood your unit cell to be:\n",
      "orthorhombic I, right handed.\n",
      "a      b      c            alpha   beta  gamma\n",
      " 80.58  94.49 103.89 A     90.00  90.00  90.00 deg\n",
      "List of indexing methods:\n",
      "   0: xgandalf-nolatt-cell      (xgandalf using cell parameters as prior information)\n",
      "Indexing parameters:\n",
      "                  Check unit cell parameters: on\n",
      "                        Check peak alignment: on\n",
      "                   Refine indexing solutions: off\n",
      " Multi-lattice indexing (\"delete and retry\"): off\n",
      "                              Retry indexing: on\n"
     ]
    },
    {
     "name": "stdout",
     "output_type": "stream",
     "text": [
      "Running for x=-513.0, y=-512.7\n"
     ]
    },
    {
     "name": "stderr",
     "output_type": "stream",
     "text": [
      "57 images processed, 57 hits (100.0%), 10 indexable (17.5% of hits, 17.5% overall), 10 crystals, 11.1 images/sec.\n",
      "Waiting for the last patterns to be processed...\n",
      "WARNING: Radius determination failed\n",
      "Final: 100 images processed, 100 hits (100.0%), 19 indexable (19.0% of hits, 19.0% overall), 19 crystals.\n",
      "Processing XY pairs:  83%|████████▎ | 365/441 [55:26<12:03,  9.52s/it]WARNING: You did not specify --int-radius.\n",
      "WARNING: I will use the default values, which are probably not appropriate for your patterns.\n",
      "This is what I understood your unit cell to be:\n",
      "orthorhombic I, right handed.\n",
      "a      b      c            alpha   beta  gamma\n",
      " 80.58  94.49 103.89 A     90.00  90.00  90.00 deg\n",
      "List of indexing methods:\n",
      "   0: xgandalf-nolatt-cell      (xgandalf using cell parameters as prior information)\n",
      "Indexing parameters:\n",
      "                  Check unit cell parameters: on\n",
      "                        Check peak alignment: on\n",
      "                   Refine indexing solutions: off\n",
      " Multi-lattice indexing (\"delete and retry\"): off\n",
      "                              Retry indexing: on\n"
     ]
    },
    {
     "name": "stdout",
     "output_type": "stream",
     "text": [
      "Running for x=-513.0, y=-512.6\n"
     ]
    },
    {
     "name": "stderr",
     "output_type": "stream",
     "text": [
      "56 images processed, 56 hits (100.0%), 13 indexable (23.2% of hits, 23.2% overall), 13 crystals, 11.1 images/sec.\n",
      "Waiting for the last patterns to be processed...\n",
      "Final: 100 images processed, 100 hits (100.0%), 26 indexable (26.0% of hits, 26.0% overall), 26 crystals.\n",
      "Processing XY pairs:  83%|████████▎ | 366/441 [55:36<11:55,  9.54s/it]WARNING: You did not specify --int-radius.\n",
      "WARNING: I will use the default values, which are probably not appropriate for your patterns.\n",
      "This is what I understood your unit cell to be:\n",
      "orthorhombic I, right handed.\n",
      "a      b      c            alpha   beta  gamma\n",
      " 80.58  94.49 103.89 A     90.00  90.00  90.00 deg\n",
      "List of indexing methods:\n",
      "   0: xgandalf-nolatt-cell      (xgandalf using cell parameters as prior information)\n",
      "Indexing parameters:\n",
      "                  Check unit cell parameters: on\n",
      "                        Check peak alignment: on\n",
      "                   Refine indexing solutions: off\n",
      " Multi-lattice indexing (\"delete and retry\"): off\n",
      "                              Retry indexing: on\n"
     ]
    },
    {
     "name": "stdout",
     "output_type": "stream",
     "text": [
      "Running for x=-513.0, y=-512.5\n"
     ]
    },
    {
     "name": "stderr",
     "output_type": "stream",
     "text": [
      "58 images processed, 58 hits (100.0%), 12 indexable (20.7% of hits, 20.7% overall), 12 crystals, 11.4 images/sec.\n",
      "Waiting for the last patterns to be processed...\n",
      "Final: 100 images processed, 100 hits (100.0%), 28 indexable (28.0% of hits, 28.0% overall), 28 crystals.\n",
      "Processing XY pairs:  83%|████████▎ | 367/441 [55:45<11:41,  9.48s/it]WARNING: You did not specify --int-radius.\n",
      "WARNING: I will use the default values, which are probably not appropriate for your patterns.\n",
      "This is what I understood your unit cell to be:\n",
      "orthorhombic I, right handed.\n",
      "a      b      c            alpha   beta  gamma\n",
      " 80.58  94.49 103.89 A     90.00  90.00  90.00 deg\n",
      "List of indexing methods:\n",
      "   0: xgandalf-nolatt-cell      (xgandalf using cell parameters as prior information)\n",
      "Indexing parameters:\n",
      "                  Check unit cell parameters: on\n",
      "                        Check peak alignment: on\n",
      "                   Refine indexing solutions: off\n",
      " Multi-lattice indexing (\"delete and retry\"): off\n",
      "                              Retry indexing: on\n"
     ]
    },
    {
     "name": "stdout",
     "output_type": "stream",
     "text": [
      "Running for x=-513.0, y=-512.4\n"
     ]
    },
    {
     "name": "stderr",
     "output_type": "stream",
     "text": [
      "56 images processed, 56 hits (100.0%), 15 indexable (26.8% of hits, 26.8% overall), 15 crystals, 11.2 images/sec.\n",
      "Waiting for the last patterns to be processed...\n",
      "Final: 100 images processed, 100 hits (100.0%), 25 indexable (25.0% of hits, 25.0% overall), 25 crystals.\n",
      "Processing XY pairs:  83%|████████▎ | 368/441 [55:55<11:32,  9.49s/it]WARNING: You did not specify --int-radius.\n",
      "WARNING: I will use the default values, which are probably not appropriate for your patterns.\n",
      "This is what I understood your unit cell to be:\n",
      "orthorhombic I, right handed.\n",
      "a      b      c            alpha   beta  gamma\n",
      " 80.58  94.49 103.89 A     90.00  90.00  90.00 deg\n",
      "List of indexing methods:\n",
      "   0: xgandalf-nolatt-cell      (xgandalf using cell parameters as prior information)\n",
      "Indexing parameters:\n",
      "                  Check unit cell parameters: on\n",
      "                        Check peak alignment: on\n",
      "                   Refine indexing solutions: off\n",
      " Multi-lattice indexing (\"delete and retry\"): off\n",
      "                              Retry indexing: on\n"
     ]
    },
    {
     "name": "stdout",
     "output_type": "stream",
     "text": [
      "Running for x=-513.0, y=-512.3\n"
     ]
    },
    {
     "name": "stderr",
     "output_type": "stream",
     "text": [
      "59 images processed, 59 hits (100.0%), 19 indexable (32.2% of hits, 32.2% overall), 19 crystals, 11.4 images/sec.\n",
      "Waiting for the last patterns to be processed...\n",
      "Final: 100 images processed, 100 hits (100.0%), 28 indexable (28.0% of hits, 28.0% overall), 28 crystals.\n",
      "Processing XY pairs:  84%|████████▎ | 369/441 [56:04<11:20,  9.45s/it]WARNING: You did not specify --int-radius.\n",
      "WARNING: I will use the default values, which are probably not appropriate for your patterns.\n",
      "This is what I understood your unit cell to be:\n",
      "orthorhombic I, right handed.\n",
      "a      b      c            alpha   beta  gamma\n",
      " 80.58  94.49 103.89 A     90.00  90.00  90.00 deg\n",
      "List of indexing methods:\n",
      "   0: xgandalf-nolatt-cell      (xgandalf using cell parameters as prior information)\n",
      "Indexing parameters:\n",
      "                  Check unit cell parameters: on\n",
      "                        Check peak alignment: on\n",
      "                   Refine indexing solutions: off\n",
      " Multi-lattice indexing (\"delete and retry\"): off\n",
      "                              Retry indexing: on\n"
     ]
    },
    {
     "name": "stdout",
     "output_type": "stream",
     "text": [
      "Running for x=-513.0, y=-512.2\n"
     ]
    },
    {
     "name": "stderr",
     "output_type": "stream",
     "text": [
      "WARNING: Radius determination failed\n",
      "60 images processed, 60 hits (100.0%), 17 indexable (28.3% of hits, 28.3% overall), 17 crystals, 11.8 images/sec.\n",
      "WARNING: Radius determination failed\n",
      "Waiting for the last patterns to be processed...\n",
      "Final: 100 images processed, 100 hits (100.0%), 28 indexable (28.0% of hits, 28.0% overall), 28 crystals.\n",
      "Processing XY pairs:  84%|████████▍ | 370/441 [56:13<11:07,  9.40s/it]WARNING: You did not specify --int-radius.\n",
      "WARNING: I will use the default values, which are probably not appropriate for your patterns.\n",
      "This is what I understood your unit cell to be:\n",
      "orthorhombic I, right handed.\n",
      "a      b      c            alpha   beta  gamma\n",
      " 80.58  94.49 103.89 A     90.00  90.00  90.00 deg\n",
      "List of indexing methods:\n",
      "   0: xgandalf-nolatt-cell      (xgandalf using cell parameters as prior information)\n",
      "Indexing parameters:\n",
      "                  Check unit cell parameters: on\n",
      "                        Check peak alignment: on\n",
      "                   Refine indexing solutions: off\n",
      " Multi-lattice indexing (\"delete and retry\"): off\n",
      "                              Retry indexing: on\n"
     ]
    },
    {
     "name": "stdout",
     "output_type": "stream",
     "text": [
      "Running for x=-513.0, y=-512.1\n"
     ]
    },
    {
     "name": "stderr",
     "output_type": "stream",
     "text": [
      "63 images processed, 63 hits (100.0%), 27 indexable (42.9% of hits, 42.9% overall), 27 crystals, 12.5 images/sec.\n",
      "Waiting for the last patterns to be processed...\n",
      "Final: 100 images processed, 100 hits (100.0%), 37 indexable (37.0% of hits, 37.0% overall), 37 crystals.\n",
      "Processing XY pairs:  84%|████████▍ | 371/441 [56:22<10:45,  9.22s/it]WARNING: You did not specify --int-radius.\n",
      "WARNING: I will use the default values, which are probably not appropriate for your patterns.\n",
      "This is what I understood your unit cell to be:\n",
      "orthorhombic I, right handed.\n",
      "a      b      c            alpha   beta  gamma\n",
      " 80.58  94.49 103.89 A     90.00  90.00  90.00 deg\n",
      "List of indexing methods:\n",
      "   0: xgandalf-nolatt-cell      (xgandalf using cell parameters as prior information)\n",
      "Indexing parameters:\n",
      "                  Check unit cell parameters: on\n",
      "                        Check peak alignment: on\n",
      "                   Refine indexing solutions: off\n",
      " Multi-lattice indexing (\"delete and retry\"): off\n",
      "                              Retry indexing: on\n"
     ]
    },
    {
     "name": "stdout",
     "output_type": "stream",
     "text": [
      "Running for x=-513.0, y=-512.0\n"
     ]
    },
    {
     "name": "stderr",
     "output_type": "stream",
     "text": [
      "59 images processed, 59 hits (100.0%), 20 indexable (33.9% of hits, 33.9% overall), 20 crystals, 11.4 images/sec.\n",
      "Waiting for the last patterns to be processed...\n",
      "Final: 100 images processed, 100 hits (100.0%), 38 indexable (38.0% of hits, 38.0% overall), 38 crystals.\n",
      "Processing XY pairs:  84%|████████▍ | 372/441 [56:31<10:34,  9.20s/it]WARNING: You did not specify --int-radius.\n",
      "WARNING: I will use the default values, which are probably not appropriate for your patterns.\n",
      "This is what I understood your unit cell to be:\n",
      "orthorhombic I, right handed.\n",
      "a      b      c            alpha   beta  gamma\n",
      " 80.58  94.49 103.89 A     90.00  90.00  90.00 deg\n",
      "List of indexing methods:\n",
      "   0: xgandalf-nolatt-cell      (xgandalf using cell parameters as prior information)\n",
      "Indexing parameters:\n",
      "                  Check unit cell parameters: on\n",
      "                        Check peak alignment: on\n",
      "                   Refine indexing solutions: off\n",
      " Multi-lattice indexing (\"delete and retry\"): off\n",
      "                              Retry indexing: on\n"
     ]
    },
    {
     "name": "stdout",
     "output_type": "stream",
     "text": [
      "Running for x=-513.0, y=-511.9\n"
     ]
    },
    {
     "name": "stderr",
     "output_type": "stream",
     "text": [
      "62 images processed, 62 hits (100.0%), 27 indexable (43.5% of hits, 43.5% overall), 27 crystals, 12.3 images/sec.\n",
      "Waiting for the last patterns to be processed...\n",
      "Final: 100 images processed, 100 hits (100.0%), 41 indexable (41.0% of hits, 41.0% overall), 41 crystals.\n",
      "Processing XY pairs:  85%|████████▍ | 373/441 [56:40<10:20,  9.13s/it]WARNING: You did not specify --int-radius.\n",
      "WARNING: I will use the default values, which are probably not appropriate for your patterns.\n",
      "This is what I understood your unit cell to be:\n",
      "orthorhombic I, right handed.\n",
      "a      b      c            alpha   beta  gamma\n",
      " 80.58  94.49 103.89 A     90.00  90.00  90.00 deg\n",
      "List of indexing methods:\n",
      "   0: xgandalf-nolatt-cell      (xgandalf using cell parameters as prior information)\n",
      "Indexing parameters:\n",
      "                  Check unit cell parameters: on\n",
      "                        Check peak alignment: on\n",
      "                   Refine indexing solutions: off\n",
      " Multi-lattice indexing (\"delete and retry\"): off\n",
      "                              Retry indexing: on\n"
     ]
    },
    {
     "name": "stdout",
     "output_type": "stream",
     "text": [
      "Running for x=-513.0, y=-511.8\n"
     ]
    },
    {
     "name": "stderr",
     "output_type": "stream",
     "text": [
      "61 images processed, 61 hits (100.0%), 24 indexable (39.3% of hits, 39.3% overall), 24 crystals, 12.1 images/sec.\n",
      "Waiting for the last patterns to be processed...\n",
      "Final: 100 images processed, 100 hits (100.0%), 35 indexable (35.0% of hits, 35.0% overall), 35 crystals.\n",
      "Processing XY pairs:  85%|████████▍ | 374/441 [56:49<10:05,  9.04s/it]WARNING: You did not specify --int-radius.\n",
      "WARNING: I will use the default values, which are probably not appropriate for your patterns.\n",
      "This is what I understood your unit cell to be:\n",
      "orthorhombic I, right handed.\n",
      "a      b      c            alpha   beta  gamma\n",
      " 80.58  94.49 103.89 A     90.00  90.00  90.00 deg\n",
      "List of indexing methods:\n",
      "   0: xgandalf-nolatt-cell      (xgandalf using cell parameters as prior information)\n",
      "Indexing parameters:\n",
      "                  Check unit cell parameters: on\n",
      "                        Check peak alignment: on\n",
      "                   Refine indexing solutions: off\n",
      " Multi-lattice indexing (\"delete and retry\"): off\n",
      "                              Retry indexing: on\n"
     ]
    },
    {
     "name": "stdout",
     "output_type": "stream",
     "text": [
      "Running for x=-513.0, y=-511.7\n"
     ]
    },
    {
     "name": "stderr",
     "output_type": "stream",
     "text": [
      "59 images processed, 59 hits (100.0%), 22 indexable (37.3% of hits, 37.3% overall), 22 crystals, 11.8 images/sec.\n",
      "Waiting for the last patterns to be processed...\n",
      "Final: 100 images processed, 100 hits (100.0%), 32 indexable (32.0% of hits, 32.0% overall), 32 crystals.\n",
      "Processing XY pairs:  85%|████████▌ | 375/441 [56:58<10:04,  9.16s/it]WARNING: You did not specify --int-radius.\n",
      "WARNING: I will use the default values, which are probably not appropriate for your patterns.\n",
      "This is what I understood your unit cell to be:\n",
      "orthorhombic I, right handed.\n",
      "a      b      c            alpha   beta  gamma\n",
      " 80.58  94.49 103.89 A     90.00  90.00  90.00 deg\n",
      "List of indexing methods:\n",
      "   0: xgandalf-nolatt-cell      (xgandalf using cell parameters as prior information)\n",
      "Indexing parameters:\n",
      "                  Check unit cell parameters: on\n",
      "                        Check peak alignment: on\n",
      "                   Refine indexing solutions: off\n",
      " Multi-lattice indexing (\"delete and retry\"): off\n",
      "                              Retry indexing: on\n"
     ]
    },
    {
     "name": "stdout",
     "output_type": "stream",
     "text": [
      "Running for x=-513.0, y=-511.6\n"
     ]
    },
    {
     "name": "stderr",
     "output_type": "stream",
     "text": [
      "WARNING: Radius determination failed\n",
      "60 images processed, 60 hits (100.0%), 18 indexable (30.0% of hits, 30.0% overall), 18 crystals, 12.0 images/sec.\n",
      "Waiting for the last patterns to be processed...\n",
      "Final: 100 images processed, 100 hits (100.0%), 28 indexable (28.0% of hits, 28.0% overall), 28 crystals.\n",
      "Processing XY pairs:  85%|████████▌ | 376/441 [57:08<09:55,  9.16s/it]WARNING: You did not specify --int-radius.\n",
      "WARNING: I will use the default values, which are probably not appropriate for your patterns.\n",
      "This is what I understood your unit cell to be:\n",
      "orthorhombic I, right handed.\n",
      "a      b      c            alpha   beta  gamma\n",
      " 80.58  94.49 103.89 A     90.00  90.00  90.00 deg\n",
      "List of indexing methods:\n",
      "   0: xgandalf-nolatt-cell      (xgandalf using cell parameters as prior information)\n",
      "Indexing parameters:\n",
      "                  Check unit cell parameters: on\n",
      "                        Check peak alignment: on\n",
      "                   Refine indexing solutions: off\n",
      " Multi-lattice indexing (\"delete and retry\"): off\n",
      "                              Retry indexing: on\n",
      "WARNING: Radius determination failed\n"
     ]
    },
    {
     "name": "stdout",
     "output_type": "stream",
     "text": [
      "Running for x=-513.0, y=-511.5\n"
     ]
    },
    {
     "name": "stderr",
     "output_type": "stream",
     "text": [
      "57 images processed, 57 hits (100.0%), 19 indexable (33.3% of hits, 33.3% overall), 19 crystals, 11.2 images/sec.\n",
      "Waiting for the last patterns to be processed...\n",
      "Final: 100 images processed, 100 hits (100.0%), 32 indexable (32.0% of hits, 32.0% overall), 32 crystals.\n",
      "Processing XY pairs:  85%|████████▌ | 377/441 [57:17<09:49,  9.22s/it]WARNING: You did not specify --int-radius.\n",
      "WARNING: I will use the default values, which are probably not appropriate for your patterns.\n",
      "This is what I understood your unit cell to be:\n",
      "orthorhombic I, right handed.\n",
      "a      b      c            alpha   beta  gamma\n",
      " 80.58  94.49 103.89 A     90.00  90.00  90.00 deg\n",
      "List of indexing methods:\n",
      "   0: xgandalf-nolatt-cell      (xgandalf using cell parameters as prior information)\n",
      "Indexing parameters:\n",
      "                  Check unit cell parameters: on\n",
      "                        Check peak alignment: on\n",
      "                   Refine indexing solutions: off\n",
      " Multi-lattice indexing (\"delete and retry\"): off\n",
      "                              Retry indexing: on\n"
     ]
    },
    {
     "name": "stdout",
     "output_type": "stream",
     "text": [
      "Running for x=-513.0, y=-511.4\n"
     ]
    },
    {
     "name": "stderr",
     "output_type": "stream",
     "text": [
      "WARNING: Radius determination failed\n",
      "60 images processed, 60 hits (100.0%), 17 indexable (28.3% of hits, 28.3% overall), 17 crystals, 11.8 images/sec.\n",
      "Waiting for the last patterns to be processed...\n",
      "Final: 100 images processed, 100 hits (100.0%), 24 indexable (24.0% of hits, 24.0% overall), 24 crystals.\n",
      "Processing XY pairs:  86%|████████▌ | 378/441 [57:25<09:21,  8.91s/it]WARNING: You did not specify --int-radius.\n",
      "WARNING: I will use the default values, which are probably not appropriate for your patterns.\n",
      "This is what I understood your unit cell to be:\n",
      "orthorhombic I, right handed.\n",
      "a      b      c            alpha   beta  gamma\n",
      " 80.58  94.49 103.89 A     90.00  90.00  90.00 deg\n",
      "List of indexing methods:\n",
      "   0: xgandalf-nolatt-cell      (xgandalf using cell parameters as prior information)\n",
      "Indexing parameters:\n",
      "                  Check unit cell parameters: on\n",
      "                        Check peak alignment: on\n",
      "                   Refine indexing solutions: off\n",
      " Multi-lattice indexing (\"delete and retry\"): off\n",
      "                              Retry indexing: on\n"
     ]
    },
    {
     "name": "stdout",
     "output_type": "stream",
     "text": [
      "Running for x=-513.0, y=-511.3\n"
     ]
    },
    {
     "name": "stderr",
     "output_type": "stream",
     "text": [
      "WARNING: Radius determination failed\n",
      "59 images processed, 59 hits (100.0%), 17 indexable (28.8% of hits, 28.8% overall), 17 crystals, 11.7 images/sec.\n",
      "Waiting for the last patterns to be processed...\n",
      "Final: 100 images processed, 100 hits (100.0%), 30 indexable (30.0% of hits, 30.0% overall), 30 crystals.\n",
      "Processing XY pairs:  86%|████████▌ | 379/441 [57:34<09:20,  9.05s/it]WARNING: You did not specify --int-radius.\n",
      "WARNING: I will use the default values, which are probably not appropriate for your patterns.\n",
      "This is what I understood your unit cell to be:\n",
      "orthorhombic I, right handed.\n",
      "a      b      c            alpha   beta  gamma\n",
      " 80.58  94.49 103.89 A     90.00  90.00  90.00 deg\n",
      "List of indexing methods:\n",
      "   0: xgandalf-nolatt-cell      (xgandalf using cell parameters as prior information)\n",
      "Indexing parameters:\n",
      "                  Check unit cell parameters: on\n",
      "                        Check peak alignment: on\n",
      "                   Refine indexing solutions: off\n",
      " Multi-lattice indexing (\"delete and retry\"): off\n",
      "                              Retry indexing: on\n"
     ]
    },
    {
     "name": "stdout",
     "output_type": "stream",
     "text": [
      "Running for x=-513.0, y=-511.2\n"
     ]
    },
    {
     "name": "stderr",
     "output_type": "stream",
     "text": [
      "59 images processed, 59 hits (100.0%), 17 indexable (28.8% of hits, 28.8% overall), 17 crystals, 11.8 images/sec.\n",
      "Waiting for the last patterns to be processed...\n",
      "Final: 100 images processed, 100 hits (100.0%), 27 indexable (27.0% of hits, 27.0% overall), 27 crystals.\n",
      "Processing XY pairs:  86%|████████▌ | 380/441 [57:43<08:54,  8.76s/it]WARNING: You did not specify --int-radius.\n",
      "WARNING: I will use the default values, which are probably not appropriate for your patterns.\n",
      "This is what I understood your unit cell to be:\n",
      "orthorhombic I, right handed.\n",
      "a      b      c            alpha   beta  gamma\n",
      " 80.58  94.49 103.89 A     90.00  90.00  90.00 deg\n",
      "List of indexing methods:\n",
      "   0: xgandalf-nolatt-cell      (xgandalf using cell parameters as prior information)\n",
      "Indexing parameters:\n",
      "                  Check unit cell parameters: on\n",
      "                        Check peak alignment: on\n",
      "                   Refine indexing solutions: off\n",
      " Multi-lattice indexing (\"delete and retry\"): off\n",
      "                              Retry indexing: on\n"
     ]
    },
    {
     "name": "stdout",
     "output_type": "stream",
     "text": [
      "Running for x=-513.0, y=-511.1\n"
     ]
    },
    {
     "name": "stderr",
     "output_type": "stream",
     "text": [
      "WARNING: Radius determination failed\n",
      "53 images processed, 53 hits (100.0%), 14 indexable (26.4% of hits, 26.4% overall), 14 crystals, 10.5 images/sec.\n",
      "Waiting for the last patterns to be processed...\n",
      "Final: 100 images processed, 100 hits (100.0%), 23 indexable (23.0% of hits, 23.0% overall), 23 crystals.\n",
      "Processing XY pairs:  86%|████████▋ | 381/441 [57:52<09:04,  9.08s/it]WARNING: You did not specify --int-radius.\n",
      "WARNING: I will use the default values, which are probably not appropriate for your patterns.\n",
      "This is what I understood your unit cell to be:\n",
      "orthorhombic I, right handed.\n",
      "a      b      c            alpha   beta  gamma\n",
      " 80.58  94.49 103.89 A     90.00  90.00  90.00 deg\n",
      "List of indexing methods:\n",
      "   0: xgandalf-nolatt-cell      (xgandalf using cell parameters as prior information)\n",
      "Indexing parameters:\n",
      "                  Check unit cell parameters: on\n",
      "                        Check peak alignment: on\n",
      "                   Refine indexing solutions: off\n",
      " Multi-lattice indexing (\"delete and retry\"): off\n",
      "                              Retry indexing: on\n"
     ]
    },
    {
     "name": "stdout",
     "output_type": "stream",
     "text": [
      "Running for x=-513.0, y=-511.0\n"
     ]
    },
    {
     "name": "stderr",
     "output_type": "stream",
     "text": [
      "55 images processed, 55 hits (100.0%), 12 indexable (21.8% of hits, 21.8% overall), 12 crystals, 11.0 images/sec.\n",
      "Waiting for the last patterns to be processed...\n",
      "Final: 100 images processed, 100 hits (100.0%), 23 indexable (23.0% of hits, 23.0% overall), 23 crystals.\n",
      "Processing XY pairs:  87%|████████▋ | 382/441 [58:02<09:11,  9.34s/it]WARNING: You did not specify --int-radius.\n",
      "WARNING: I will use the default values, which are probably not appropriate for your patterns.\n",
      "This is what I understood your unit cell to be:\n",
      "orthorhombic I, right handed.\n",
      "a      b      c            alpha   beta  gamma\n",
      " 80.58  94.49 103.89 A     90.00  90.00  90.00 deg\n",
      "List of indexing methods:\n",
      "   0: xgandalf-nolatt-cell      (xgandalf using cell parameters as prior information)\n",
      "Indexing parameters:\n",
      "                  Check unit cell parameters: on\n",
      "                        Check peak alignment: on\n",
      "                   Refine indexing solutions: off\n",
      " Multi-lattice indexing (\"delete and retry\"): off\n",
      "                              Retry indexing: on\n"
     ]
    },
    {
     "name": "stdout",
     "output_type": "stream",
     "text": [
      "Running for x=-512.9, y=-513.0\n"
     ]
    },
    {
     "name": "stderr",
     "output_type": "stream",
     "text": [
      "45 images processed, 45 hits (100.0%), 7 indexable (15.6% of hits, 15.6% overall), 7 crystals, 9.0 images/sec.\n",
      "Waiting for the last patterns to be processed...\n",
      "99 images processed, 99 hits (100.0%), 22 indexable (22.2% of hits, 22.2% overall), 22 crystals, 10.2 images/sec.\n",
      "Final: 100 images processed, 100 hits (100.0%), 22 indexable (22.0% of hits, 22.0% overall), 22 crystals.\n",
      "Processing XY pairs:  87%|████████▋ | 383/441 [58:13<09:31,  9.85s/it]WARNING: You did not specify --int-radius.\n",
      "WARNING: I will use the default values, which are probably not appropriate for your patterns.\n",
      "This is what I understood your unit cell to be:\n",
      "orthorhombic I, right handed.\n",
      "a      b      c            alpha   beta  gamma\n",
      " 80.58  94.49 103.89 A     90.00  90.00  90.00 deg\n",
      "List of indexing methods:\n",
      "   0: xgandalf-nolatt-cell      (xgandalf using cell parameters as prior information)\n",
      "Indexing parameters:\n",
      "                  Check unit cell parameters: on\n",
      "                        Check peak alignment: on\n",
      "                   Refine indexing solutions: off\n",
      " Multi-lattice indexing (\"delete and retry\"): off\n",
      "                              Retry indexing: on\n"
     ]
    },
    {
     "name": "stdout",
     "output_type": "stream",
     "text": [
      "Running for x=-512.9, y=-511.0\n"
     ]
    },
    {
     "name": "stderr",
     "output_type": "stream",
     "text": [
      "WARNING: Radius determination failed\n",
      "40 images processed, 40 hits (100.0%), 10 indexable (25.0% of hits, 25.0% overall), 10 crystals, 7.8 images/sec.\n",
      "Waiting for the last patterns to be processed...\n",
      "Final: 100 images processed, 100 hits (100.0%), 26 indexable (26.0% of hits, 26.0% overall), 26 crystals.\n",
      "Processing XY pairs:  87%|████████▋ | 384/441 [58:23<09:21,  9.85s/it]WARNING: You did not specify --int-radius.\n",
      "WARNING: I will use the default values, which are probably not appropriate for your patterns.\n",
      "This is what I understood your unit cell to be:\n",
      "orthorhombic I, right handed.\n",
      "a      b      c            alpha   beta  gamma\n",
      " 80.58  94.49 103.89 A     90.00  90.00  90.00 deg\n",
      "List of indexing methods:\n",
      "   0: xgandalf-nolatt-cell      (xgandalf using cell parameters as prior information)\n",
      "Indexing parameters:\n",
      "                  Check unit cell parameters: on\n",
      "                        Check peak alignment: on\n",
      "                   Refine indexing solutions: off\n",
      " Multi-lattice indexing (\"delete and retry\"): off\n",
      "                              Retry indexing: on\n"
     ]
    },
    {
     "name": "stdout",
     "output_type": "stream",
     "text": [
      "Running for x=-512.8, y=-513.0\n"
     ]
    },
    {
     "name": "stderr",
     "output_type": "stream",
     "text": [
      "53 images processed, 53 hits (100.0%), 10 indexable (18.9% of hits, 18.9% overall), 10 crystals, 10.5 images/sec.\n",
      "Waiting for the last patterns to be processed...\n",
      "Final: 100 images processed, 100 hits (100.0%), 22 indexable (22.0% of hits, 22.0% overall), 22 crystals.\n",
      "Processing XY pairs:  87%|████████▋ | 385/441 [58:33<09:11,  9.84s/it]WARNING: You did not specify --int-radius.\n",
      "WARNING: I will use the default values, which are probably not appropriate for your patterns.\n",
      "This is what I understood your unit cell to be:\n",
      "orthorhombic I, right handed.\n",
      "a      b      c            alpha   beta  gamma\n",
      " 80.58  94.49 103.89 A     90.00  90.00  90.00 deg\n",
      "List of indexing methods:\n",
      "   0: xgandalf-nolatt-cell      (xgandalf using cell parameters as prior information)\n",
      "Indexing parameters:\n",
      "                  Check unit cell parameters: on\n",
      "                        Check peak alignment: on\n",
      "                   Refine indexing solutions: off\n",
      " Multi-lattice indexing (\"delete and retry\"): off\n",
      "                              Retry indexing: on\n"
     ]
    },
    {
     "name": "stdout",
     "output_type": "stream",
     "text": [
      "Running for x=-512.8, y=-511.0\n"
     ]
    },
    {
     "name": "stderr",
     "output_type": "stream",
     "text": [
      "56 images processed, 56 hits (100.0%), 18 indexable (32.1% of hits, 32.1% overall), 18 crystals, 11.1 images/sec.\n",
      "Waiting for the last patterns to be processed...\n",
      "Final: 100 images processed, 100 hits (100.0%), 28 indexable (28.0% of hits, 28.0% overall), 28 crystals.\n",
      "Processing XY pairs:  88%|████████▊ | 386/441 [58:43<08:59,  9.81s/it]WARNING: You did not specify --int-radius.\n",
      "WARNING: I will use the default values, which are probably not appropriate for your patterns.\n",
      "This is what I understood your unit cell to be:\n",
      "orthorhombic I, right handed.\n",
      "a      b      c            alpha   beta  gamma\n",
      " 80.58  94.49 103.89 A     90.00  90.00  90.00 deg\n",
      "List of indexing methods:\n",
      "   0: xgandalf-nolatt-cell      (xgandalf using cell parameters as prior information)\n",
      "Indexing parameters:\n",
      "                  Check unit cell parameters: on\n",
      "                        Check peak alignment: on\n",
      "                   Refine indexing solutions: off\n",
      " Multi-lattice indexing (\"delete and retry\"): off\n",
      "                              Retry indexing: on\n"
     ]
    },
    {
     "name": "stdout",
     "output_type": "stream",
     "text": [
      "Running for x=-512.7, y=-513.0\n"
     ]
    },
    {
     "name": "stderr",
     "output_type": "stream",
     "text": [
      "WARNING: Radius determination failed\n",
      "51 images processed, 51 hits (100.0%), 14 indexable (27.5% of hits, 27.5% overall), 14 crystals, 10.1 images/sec.\n",
      "Waiting for the last patterns to be processed...\n",
      "100 images processed, 100 hits (100.0%), 19 indexable (19.0% of hits, 19.0% overall), 19 crystals, 9.5 images/sec.\n",
      "Final: 100 images processed, 100 hits (100.0%), 19 indexable (19.0% of hits, 19.0% overall), 19 crystals.\n",
      "Processing XY pairs:  88%|████████▊ | 387/441 [58:53<08:55,  9.92s/it]WARNING: You did not specify --int-radius.\n",
      "WARNING: I will use the default values, which are probably not appropriate for your patterns.\n",
      "This is what I understood your unit cell to be:\n",
      "orthorhombic I, right handed.\n",
      "a      b      c            alpha   beta  gamma\n",
      " 80.58  94.49 103.89 A     90.00  90.00  90.00 deg\n",
      "List of indexing methods:\n",
      "   0: xgandalf-nolatt-cell      (xgandalf using cell parameters as prior information)\n",
      "Indexing parameters:\n",
      "                  Check unit cell parameters: on\n",
      "                        Check peak alignment: on\n",
      "                   Refine indexing solutions: off\n",
      " Multi-lattice indexing (\"delete and retry\"): off\n",
      "                              Retry indexing: on\n"
     ]
    },
    {
     "name": "stdout",
     "output_type": "stream",
     "text": [
      "Running for x=-512.7, y=-511.0\n"
     ]
    },
    {
     "name": "stderr",
     "output_type": "stream",
     "text": [
      "60 images processed, 60 hits (100.0%), 15 indexable (25.0% of hits, 25.0% overall), 15 crystals, 11.6 images/sec.\n",
      "Waiting for the last patterns to be processed...\n",
      "Final: 100 images processed, 100 hits (100.0%), 24 indexable (24.0% of hits, 24.0% overall), 24 crystals.\n",
      "Processing XY pairs:  88%|████████▊ | 388/441 [59:03<08:40,  9.82s/it]WARNING: You did not specify --int-radius.\n",
      "WARNING: I will use the default values, which are probably not appropriate for your patterns.\n",
      "This is what I understood your unit cell to be:\n",
      "orthorhombic I, right handed.\n",
      "a      b      c            alpha   beta  gamma\n",
      " 80.58  94.49 103.89 A     90.00  90.00  90.00 deg\n",
      "List of indexing methods:\n",
      "   0: xgandalf-nolatt-cell      (xgandalf using cell parameters as prior information)\n",
      "Indexing parameters:\n",
      "                  Check unit cell parameters: on\n",
      "                        Check peak alignment: on\n",
      "                   Refine indexing solutions: off\n",
      " Multi-lattice indexing (\"delete and retry\"): off\n",
      "                              Retry indexing: on\n"
     ]
    },
    {
     "name": "stdout",
     "output_type": "stream",
     "text": [
      "Running for x=-512.6, y=-513.0\n"
     ]
    },
    {
     "name": "stderr",
     "output_type": "stream",
     "text": [
      "55 images processed, 55 hits (100.0%), 6 indexable (10.9% of hits, 10.9% overall), 6 crystals, 10.8 images/sec.\n",
      "Waiting for the last patterns to be processed...\n",
      "Final: 100 images processed, 100 hits (100.0%), 14 indexable (14.0% of hits, 14.0% overall), 14 crystals.\n",
      "Processing XY pairs:  88%|████████▊ | 389/441 [59:12<08:29,  9.80s/it]WARNING: You did not specify --int-radius.\n",
      "WARNING: I will use the default values, which are probably not appropriate for your patterns.\n",
      "This is what I understood your unit cell to be:\n",
      "orthorhombic I, right handed.\n",
      "a      b      c            alpha   beta  gamma\n",
      " 80.58  94.49 103.89 A     90.00  90.00  90.00 deg\n",
      "List of indexing methods:\n",
      "   0: xgandalf-nolatt-cell      (xgandalf using cell parameters as prior information)\n",
      "Indexing parameters:\n",
      "                  Check unit cell parameters: on\n",
      "                        Check peak alignment: on\n",
      "                   Refine indexing solutions: off\n",
      " Multi-lattice indexing (\"delete and retry\"): off\n",
      "                              Retry indexing: on\n"
     ]
    },
    {
     "name": "stdout",
     "output_type": "stream",
     "text": [
      "Running for x=-512.6, y=-511.0\n"
     ]
    },
    {
     "name": "stderr",
     "output_type": "stream",
     "text": [
      "60 images processed, 60 hits (100.0%), 18 indexable (30.0% of hits, 30.0% overall), 18 crystals, 11.3 images/sec.\n",
      "Waiting for the last patterns to be processed...\n",
      "Final: 100 images processed, 100 hits (100.0%), 27 indexable (27.0% of hits, 27.0% overall), 27 crystals.\n",
      "Processing XY pairs:  88%|████████▊ | 390/441 [59:22<08:16,  9.74s/it]WARNING: You did not specify --int-radius.\n",
      "WARNING: I will use the default values, which are probably not appropriate for your patterns.\n",
      "This is what I understood your unit cell to be:\n",
      "orthorhombic I, right handed.\n",
      "a      b      c            alpha   beta  gamma\n",
      " 80.58  94.49 103.89 A     90.00  90.00  90.00 deg\n",
      "List of indexing methods:\n",
      "   0: xgandalf-nolatt-cell      (xgandalf using cell parameters as prior information)\n",
      "Indexing parameters:\n",
      "                  Check unit cell parameters: on\n",
      "                        Check peak alignment: on\n",
      "                   Refine indexing solutions: off\n",
      " Multi-lattice indexing (\"delete and retry\"): off\n",
      "                              Retry indexing: on\n"
     ]
    },
    {
     "name": "stdout",
     "output_type": "stream",
     "text": [
      "Running for x=-512.5, y=-513.0\n"
     ]
    },
    {
     "name": "stderr",
     "output_type": "stream",
     "text": [
      "53 images processed, 53 hits (100.0%), 15 indexable (28.3% of hits, 28.3% overall), 15 crystals, 10.6 images/sec.\n",
      "Waiting for the last patterns to be processed...\n",
      "Final: 100 images processed, 100 hits (100.0%), 26 indexable (26.0% of hits, 26.0% overall), 26 crystals.\n",
      "Processing XY pairs:  89%|████████▊ | 391/441 [59:32<08:10,  9.81s/it]WARNING: You did not specify --int-radius.\n",
      "WARNING: I will use the default values, which are probably not appropriate for your patterns.\n",
      "This is what I understood your unit cell to be:\n",
      "orthorhombic I, right handed.\n",
      "a      b      c            alpha   beta  gamma\n",
      " 80.58  94.49 103.89 A     90.00  90.00  90.00 deg\n",
      "List of indexing methods:\n",
      "   0: xgandalf-nolatt-cell      (xgandalf using cell parameters as prior information)\n",
      "Indexing parameters:\n",
      "                  Check unit cell parameters: on\n",
      "                        Check peak alignment: on\n",
      "                   Refine indexing solutions: off\n",
      " Multi-lattice indexing (\"delete and retry\"): off\n",
      "                              Retry indexing: on\n",
      "WARNING: Radius determination failed\n"
     ]
    },
    {
     "name": "stdout",
     "output_type": "stream",
     "text": [
      "Running for x=-512.5, y=-511.0\n"
     ]
    },
    {
     "name": "stderr",
     "output_type": "stream",
     "text": [
      "61 images processed, 61 hits (100.0%), 24 indexable (39.3% of hits, 39.3% overall), 24 crystals, 12.2 images/sec.\n",
      "Waiting for the last patterns to be processed...\n",
      "Final: 100 images processed, 100 hits (100.0%), 35 indexable (35.0% of hits, 35.0% overall), 35 crystals.\n",
      "Processing XY pairs:  89%|████████▉ | 392/441 [59:41<07:49,  9.59s/it]WARNING: You did not specify --int-radius.\n",
      "WARNING: I will use the default values, which are probably not appropriate for your patterns.\n",
      "This is what I understood your unit cell to be:\n",
      "orthorhombic I, right handed.\n",
      "a      b      c            alpha   beta  gamma\n",
      " 80.58  94.49 103.89 A     90.00  90.00  90.00 deg\n",
      "List of indexing methods:\n",
      "   0: xgandalf-nolatt-cell      (xgandalf using cell parameters as prior information)\n",
      "Indexing parameters:\n",
      "                  Check unit cell parameters: on\n",
      "                        Check peak alignment: on\n",
      "                   Refine indexing solutions: off\n",
      " Multi-lattice indexing (\"delete and retry\"): off\n",
      "                              Retry indexing: on\n"
     ]
    },
    {
     "name": "stdout",
     "output_type": "stream",
     "text": [
      "Running for x=-512.4, y=-513.0\n"
     ]
    },
    {
     "name": "stderr",
     "output_type": "stream",
     "text": [
      "59 images processed, 59 hits (100.0%), 16 indexable (27.1% of hits, 27.1% overall), 16 crystals, 11.7 images/sec.\n",
      "Waiting for the last patterns to be processed...\n",
      "Final: 100 images processed, 100 hits (100.0%), 20 indexable (20.0% of hits, 20.0% overall), 20 crystals.\n",
      "Processing XY pairs:  89%|████████▉ | 393/441 [59:50<07:35,  9.49s/it]WARNING: You did not specify --int-radius.\n",
      "WARNING: I will use the default values, which are probably not appropriate for your patterns.\n",
      "This is what I understood your unit cell to be:\n",
      "orthorhombic I, right handed.\n",
      "a      b      c            alpha   beta  gamma\n",
      " 80.58  94.49 103.89 A     90.00  90.00  90.00 deg\n",
      "List of indexing methods:\n",
      "   0: xgandalf-nolatt-cell      (xgandalf using cell parameters as prior information)\n",
      "Indexing parameters:\n",
      "                  Check unit cell parameters: on\n",
      "                        Check peak alignment: on\n",
      "                   Refine indexing solutions: off\n",
      " Multi-lattice indexing (\"delete and retry\"): off\n",
      "                              Retry indexing: on\n"
     ]
    },
    {
     "name": "stdout",
     "output_type": "stream",
     "text": [
      "Running for x=-512.4, y=-511.0\n"
     ]
    },
    {
     "name": "stderr",
     "output_type": "stream",
     "text": [
      "59 images processed, 59 hits (100.0%), 21 indexable (35.6% of hits, 35.6% overall), 21 crystals, 11.5 images/sec.\n",
      "Waiting for the last patterns to be processed...\n",
      "Final: 100 images processed, 100 hits (100.0%), 29 indexable (29.0% of hits, 29.0% overall), 29 crystals.\n",
      "Processing XY pairs:  89%|████████▉ | 394/441 [1:00:00<07:24,  9.47s/it]WARNING: You did not specify --int-radius.\n",
      "WARNING: I will use the default values, which are probably not appropriate for your patterns.\n",
      "This is what I understood your unit cell to be:\n",
      "orthorhombic I, right handed.\n",
      "a      b      c            alpha   beta  gamma\n",
      " 80.58  94.49 103.89 A     90.00  90.00  90.00 deg\n",
      "List of indexing methods:\n",
      "   0: xgandalf-nolatt-cell      (xgandalf using cell parameters as prior information)\n",
      "Indexing parameters:\n",
      "                  Check unit cell parameters: on\n",
      "                        Check peak alignment: on\n",
      "                   Refine indexing solutions: off\n",
      " Multi-lattice indexing (\"delete and retry\"): off\n",
      "                              Retry indexing: on\n"
     ]
    },
    {
     "name": "stdout",
     "output_type": "stream",
     "text": [
      "Running for x=-512.3, y=-513.0\n"
     ]
    },
    {
     "name": "stderr",
     "output_type": "stream",
     "text": [
      "57 images processed, 57 hits (100.0%), 15 indexable (26.3% of hits, 26.3% overall), 15 crystals, 11.2 images/sec.\n",
      "Waiting for the last patterns to be processed...\n",
      "Final: 100 images processed, 100 hits (100.0%), 21 indexable (21.0% of hits, 21.0% overall), 21 crystals.\n",
      "Processing XY pairs:  90%|████████▉ | 395/441 [1:00:09<07:16,  9.48s/it]WARNING: You did not specify --int-radius.\n",
      "WARNING: I will use the default values, which are probably not appropriate for your patterns.\n",
      "This is what I understood your unit cell to be:\n",
      "orthorhombic I, right handed.\n",
      "a      b      c            alpha   beta  gamma\n",
      " 80.58  94.49 103.89 A     90.00  90.00  90.00 deg\n",
      "List of indexing methods:\n",
      "   0: xgandalf-nolatt-cell      (xgandalf using cell parameters as prior information)\n",
      "Indexing parameters:\n",
      "                  Check unit cell parameters: on\n",
      "                        Check peak alignment: on\n",
      "                   Refine indexing solutions: off\n",
      " Multi-lattice indexing (\"delete and retry\"): off\n",
      "                              Retry indexing: on\n"
     ]
    },
    {
     "name": "stdout",
     "output_type": "stream",
     "text": [
      "Running for x=-512.3, y=-511.0\n"
     ]
    },
    {
     "name": "stderr",
     "output_type": "stream",
     "text": [
      "61 images processed, 61 hits (100.0%), 22 indexable (36.1% of hits, 36.1% overall), 22 crystals, 11.7 images/sec.\n",
      "Waiting for the last patterns to be processed...\n",
      "Final: 100 images processed, 100 hits (100.0%), 34 indexable (34.0% of hits, 34.0% overall), 34 crystals.\n",
      "Processing XY pairs:  90%|████████▉ | 396/441 [1:00:18<06:59,  9.33s/it]WARNING: You did not specify --int-radius.\n",
      "WARNING: I will use the default values, which are probably not appropriate for your patterns.\n",
      "This is what I understood your unit cell to be:\n",
      "orthorhombic I, right handed.\n",
      "a      b      c            alpha   beta  gamma\n",
      " 80.58  94.49 103.89 A     90.00  90.00  90.00 deg\n",
      "List of indexing methods:\n",
      "   0: xgandalf-nolatt-cell      (xgandalf using cell parameters as prior information)\n",
      "Indexing parameters:\n",
      "                  Check unit cell parameters: on\n",
      "                        Check peak alignment: on\n",
      "                   Refine indexing solutions: off\n",
      " Multi-lattice indexing (\"delete and retry\"): off\n",
      "                              Retry indexing: on\n"
     ]
    },
    {
     "name": "stdout",
     "output_type": "stream",
     "text": [
      "Running for x=-512.2, y=-513.0\n"
     ]
    },
    {
     "name": "stderr",
     "output_type": "stream",
     "text": [
      "59 images processed, 59 hits (100.0%), 19 indexable (32.2% of hits, 32.2% overall), 19 crystals, 11.8 images/sec.\n",
      "Waiting for the last patterns to be processed...\n",
      "Final: 100 images processed, 100 hits (100.0%), 30 indexable (30.0% of hits, 30.0% overall), 30 crystals.\n",
      "Processing XY pairs:  90%|█████████ | 397/441 [1:00:27<06:49,  9.30s/it]WARNING: You did not specify --int-radius.\n",
      "WARNING: I will use the default values, which are probably not appropriate for your patterns.\n",
      "This is what I understood your unit cell to be:\n",
      "orthorhombic I, right handed.\n",
      "a      b      c            alpha   beta  gamma\n",
      " 80.58  94.49 103.89 A     90.00  90.00  90.00 deg\n",
      "List of indexing methods:\n",
      "   0: xgandalf-nolatt-cell      (xgandalf using cell parameters as prior information)\n",
      "Indexing parameters:\n",
      "                  Check unit cell parameters: on\n",
      "                        Check peak alignment: on\n",
      "                   Refine indexing solutions: off\n",
      " Multi-lattice indexing (\"delete and retry\"): off\n",
      "                              Retry indexing: on\n"
     ]
    },
    {
     "name": "stdout",
     "output_type": "stream",
     "text": [
      "Running for x=-512.2, y=-511.0\n"
     ]
    },
    {
     "name": "stderr",
     "output_type": "stream",
     "text": [
      "63 images processed, 63 hits (100.0%), 27 indexable (42.9% of hits, 42.9% overall), 27 crystals, 12.3 images/sec.\n",
      "Waiting for the last patterns to be processed...\n",
      "Final: 100 images processed, 100 hits (100.0%), 33 indexable (33.0% of hits, 33.0% overall), 33 crystals.\n",
      "Processing XY pairs:  90%|█████████ | 398/441 [1:00:36<06:36,  9.22s/it]WARNING: You did not specify --int-radius.\n",
      "WARNING: I will use the default values, which are probably not appropriate for your patterns.\n",
      "This is what I understood your unit cell to be:\n",
      "orthorhombic I, right handed.\n",
      "a      b      c            alpha   beta  gamma\n",
      " 80.58  94.49 103.89 A     90.00  90.00  90.00 deg\n",
      "List of indexing methods:\n",
      "   0: xgandalf-nolatt-cell      (xgandalf using cell parameters as prior information)\n",
      "Indexing parameters:\n",
      "                  Check unit cell parameters: on\n",
      "                        Check peak alignment: on\n",
      "                   Refine indexing solutions: off\n",
      " Multi-lattice indexing (\"delete and retry\"): off\n",
      "                              Retry indexing: on\n"
     ]
    },
    {
     "name": "stdout",
     "output_type": "stream",
     "text": [
      "Running for x=-512.1, y=-513.0\n"
     ]
    },
    {
     "name": "stderr",
     "output_type": "stream",
     "text": [
      "56 images processed, 56 hits (100.0%), 16 indexable (28.6% of hits, 28.6% overall), 16 crystals, 11.0 images/sec.\n",
      "Waiting for the last patterns to be processed...\n",
      "Final: 100 images processed, 100 hits (100.0%), 27 indexable (27.0% of hits, 27.0% overall), 27 crystals.\n",
      "Processing XY pairs:  90%|█████████ | 399/441 [1:00:46<06:29,  9.27s/it]WARNING: You did not specify --int-radius.\n",
      "WARNING: I will use the default values, which are probably not appropriate for your patterns.\n",
      "This is what I understood your unit cell to be:\n",
      "orthorhombic I, right handed.\n",
      "a      b      c            alpha   beta  gamma\n",
      " 80.58  94.49 103.89 A     90.00  90.00  90.00 deg\n",
      "List of indexing methods:\n",
      "   0: xgandalf-nolatt-cell      (xgandalf using cell parameters as prior information)\n",
      "Indexing parameters:\n",
      "                  Check unit cell parameters: on\n",
      "                        Check peak alignment: on\n",
      "                   Refine indexing solutions: off\n",
      " Multi-lattice indexing (\"delete and retry\"): off\n",
      "                              Retry indexing: on\n"
     ]
    },
    {
     "name": "stdout",
     "output_type": "stream",
     "text": [
      "Running for x=-512.1, y=-511.0\n"
     ]
    },
    {
     "name": "stderr",
     "output_type": "stream",
     "text": [
      "60 images processed, 60 hits (100.0%), 14 indexable (23.3% of hits, 23.3% overall), 14 crystals, 11.9 images/sec.\n",
      "Waiting for the last patterns to be processed...\n",
      "Final: 100 images processed, 100 hits (100.0%), 29 indexable (29.0% of hits, 29.0% overall), 29 crystals.\n",
      "Processing XY pairs:  91%|█████████ | 400/441 [1:00:55<06:18,  9.23s/it]WARNING: You did not specify --int-radius.\n",
      "WARNING: I will use the default values, which are probably not appropriate for your patterns.\n",
      "This is what I understood your unit cell to be:\n",
      "orthorhombic I, right handed.\n",
      "a      b      c            alpha   beta  gamma\n",
      " 80.58  94.49 103.89 A     90.00  90.00  90.00 deg\n",
      "List of indexing methods:\n",
      "   0: xgandalf-nolatt-cell      (xgandalf using cell parameters as prior information)\n",
      "Indexing parameters:\n",
      "                  Check unit cell parameters: on\n",
      "                        Check peak alignment: on\n",
      "                   Refine indexing solutions: off\n",
      " Multi-lattice indexing (\"delete and retry\"): off\n",
      "                              Retry indexing: on\n"
     ]
    },
    {
     "name": "stdout",
     "output_type": "stream",
     "text": [
      "Running for x=-512.0, y=-513.0\n"
     ]
    },
    {
     "name": "stderr",
     "output_type": "stream",
     "text": [
      "58 images processed, 58 hits (100.0%), 16 indexable (27.6% of hits, 27.6% overall), 16 crystals, 11.5 images/sec.\n",
      "Waiting for the last patterns to be processed...\n",
      "Final: 100 images processed, 100 hits (100.0%), 23 indexable (23.0% of hits, 23.0% overall), 23 crystals.\n",
      "Processing XY pairs:  91%|█████████ | 401/441 [1:01:04<06:10,  9.26s/it]WARNING: You did not specify --int-radius.\n",
      "WARNING: I will use the default values, which are probably not appropriate for your patterns.\n",
      "This is what I understood your unit cell to be:\n",
      "orthorhombic I, right handed.\n",
      "a      b      c            alpha   beta  gamma\n",
      " 80.58  94.49 103.89 A     90.00  90.00  90.00 deg\n",
      "List of indexing methods:\n",
      "   0: xgandalf-nolatt-cell      (xgandalf using cell parameters as prior information)\n",
      "Indexing parameters:\n",
      "                  Check unit cell parameters: on\n",
      "                        Check peak alignment: on\n",
      "                   Refine indexing solutions: off\n",
      " Multi-lattice indexing (\"delete and retry\"): off\n",
      "                              Retry indexing: on\n"
     ]
    },
    {
     "name": "stdout",
     "output_type": "stream",
     "text": [
      "Running for x=-512.0, y=-511.0\n"
     ]
    },
    {
     "name": "stderr",
     "output_type": "stream",
     "text": [
      "WARNING: Radius determination failed\n",
      "60 images processed, 60 hits (100.0%), 18 indexable (30.0% of hits, 30.0% overall), 18 crystals, 11.9 images/sec.\n",
      "Waiting for the last patterns to be processed...\n",
      "Final: 100 images processed, 100 hits (100.0%), 29 indexable (29.0% of hits, 29.0% overall), 29 crystals.\n",
      "Processing XY pairs:  91%|█████████ | 402/441 [1:01:13<05:59,  9.21s/it]WARNING: You did not specify --int-radius.\n",
      "WARNING: I will use the default values, which are probably not appropriate for your patterns.\n",
      "This is what I understood your unit cell to be:\n",
      "orthorhombic I, right handed.\n",
      "a      b      c            alpha   beta  gamma\n",
      " 80.58  94.49 103.89 A     90.00  90.00  90.00 deg\n",
      "List of indexing methods:\n",
      "   0: xgandalf-nolatt-cell      (xgandalf using cell parameters as prior information)\n",
      "Indexing parameters:\n",
      "                  Check unit cell parameters: on\n",
      "                        Check peak alignment: on\n",
      "                   Refine indexing solutions: off\n",
      " Multi-lattice indexing (\"delete and retry\"): off\n",
      "                              Retry indexing: on\n"
     ]
    },
    {
     "name": "stdout",
     "output_type": "stream",
     "text": [
      "Running for x=-511.9, y=-513.0\n"
     ]
    },
    {
     "name": "stderr",
     "output_type": "stream",
     "text": [
      "WARNING: Radius determination failed\n",
      "61 images processed, 61 hits (100.0%), 17 indexable (27.9% of hits, 27.9% overall), 17 crystals, 11.6 images/sec.\n",
      "Waiting for the last patterns to be processed...\n",
      "Final: 100 images processed, 100 hits (100.0%), 27 indexable (27.0% of hits, 27.0% overall), 27 crystals.\n",
      "Processing XY pairs:  91%|█████████▏| 403/441 [1:01:23<05:51,  9.26s/it]WARNING: You did not specify --int-radius.\n",
      "WARNING: I will use the default values, which are probably not appropriate for your patterns.\n",
      "This is what I understood your unit cell to be:\n",
      "orthorhombic I, right handed.\n",
      "a      b      c            alpha   beta  gamma\n",
      " 80.58  94.49 103.89 A     90.00  90.00  90.00 deg\n",
      "List of indexing methods:\n",
      "   0: xgandalf-nolatt-cell      (xgandalf using cell parameters as prior information)\n",
      "Indexing parameters:\n",
      "                  Check unit cell parameters: on\n",
      "                        Check peak alignment: on\n",
      "                   Refine indexing solutions: off\n",
      " Multi-lattice indexing (\"delete and retry\"): off\n",
      "                              Retry indexing: on\n"
     ]
    },
    {
     "name": "stdout",
     "output_type": "stream",
     "text": [
      "Running for x=-511.9, y=-511.0\n"
     ]
    },
    {
     "name": "stderr",
     "output_type": "stream",
     "text": [
      "57 images processed, 57 hits (100.0%), 14 indexable (24.6% of hits, 24.6% overall), 14 crystals, 11.4 images/sec.\n",
      "Waiting for the last patterns to be processed...\n",
      "Final: 100 images processed, 100 hits (100.0%), 31 indexable (31.0% of hits, 31.0% overall), 31 crystals.\n",
      "Processing XY pairs:  92%|█████████▏| 404/441 [1:01:32<05:42,  9.27s/it]WARNING: You did not specify --int-radius.\n",
      "WARNING: I will use the default values, which are probably not appropriate for your patterns.\n",
      "This is what I understood your unit cell to be:\n",
      "orthorhombic I, right handed.\n",
      "a      b      c            alpha   beta  gamma\n",
      " 80.58  94.49 103.89 A     90.00  90.00  90.00 deg\n",
      "List of indexing methods:\n",
      "   0: xgandalf-nolatt-cell      (xgandalf using cell parameters as prior information)\n",
      "Indexing parameters:\n",
      "                  Check unit cell parameters: on\n",
      "                        Check peak alignment: on\n",
      "                   Refine indexing solutions: off\n",
      " Multi-lattice indexing (\"delete and retry\"): off\n",
      "                              Retry indexing: on\n"
     ]
    },
    {
     "name": "stdout",
     "output_type": "stream",
     "text": [
      "Running for x=-511.8, y=-513.0\n"
     ]
    },
    {
     "name": "stderr",
     "output_type": "stream",
     "text": [
      "WARNING: Radius determination failed\n",
      "59 images processed, 59 hits (100.0%), 16 indexable (27.1% of hits, 27.1% overall), 16 crystals, 11.5 images/sec.\n",
      "Waiting for the last patterns to be processed...\n",
      "Final: 100 images processed, 100 hits (100.0%), 25 indexable (25.0% of hits, 25.0% overall), 25 crystals.\n",
      "Processing XY pairs:  92%|█████████▏| 405/441 [1:01:41<05:32,  9.25s/it]WARNING: You did not specify --int-radius.\n",
      "WARNING: I will use the default values, which are probably not appropriate for your patterns.\n",
      "This is what I understood your unit cell to be:\n",
      "orthorhombic I, right handed.\n",
      "a      b      c            alpha   beta  gamma\n",
      " 80.58  94.49 103.89 A     90.00  90.00  90.00 deg\n",
      "List of indexing methods:\n",
      "   0: xgandalf-nolatt-cell      (xgandalf using cell parameters as prior information)\n",
      "Indexing parameters:\n",
      "                  Check unit cell parameters: on\n",
      "                        Check peak alignment: on\n",
      "                   Refine indexing solutions: off\n",
      " Multi-lattice indexing (\"delete and retry\"): off\n",
      "                              Retry indexing: on\n"
     ]
    },
    {
     "name": "stdout",
     "output_type": "stream",
     "text": [
      "Running for x=-511.8, y=-511.0\n"
     ]
    },
    {
     "name": "stderr",
     "output_type": "stream",
     "text": [
      "58 images processed, 58 hits (100.0%), 12 indexable (20.7% of hits, 20.7% overall), 12 crystals, 11.3 images/sec.\n",
      "Waiting for the last patterns to be processed...\n",
      "Final: 100 images processed, 100 hits (100.0%), 25 indexable (25.0% of hits, 25.0% overall), 25 crystals.\n",
      "Processing XY pairs:  92%|█████████▏| 406/441 [1:01:50<05:23,  9.24s/it]WARNING: You did not specify --int-radius.\n",
      "WARNING: I will use the default values, which are probably not appropriate for your patterns.\n",
      "This is what I understood your unit cell to be:\n",
      "orthorhombic I, right handed.\n",
      "a      b      c            alpha   beta  gamma\n",
      " 80.58  94.49 103.89 A     90.00  90.00  90.00 deg\n",
      "List of indexing methods:\n",
      "   0: xgandalf-nolatt-cell      (xgandalf using cell parameters as prior information)\n",
      "Indexing parameters:\n",
      "                  Check unit cell parameters: on\n",
      "                        Check peak alignment: on\n",
      "                   Refine indexing solutions: off\n",
      " Multi-lattice indexing (\"delete and retry\"): off\n",
      "                              Retry indexing: on\n"
     ]
    },
    {
     "name": "stdout",
     "output_type": "stream",
     "text": [
      "Running for x=-511.7, y=-513.0\n"
     ]
    },
    {
     "name": "stderr",
     "output_type": "stream",
     "text": [
      "59 images processed, 59 hits (100.0%), 18 indexable (30.5% of hits, 30.5% overall), 18 crystals, 11.6 images/sec.\n",
      "Waiting for the last patterns to be processed...\n",
      "Final: 100 images processed, 100 hits (100.0%), 28 indexable (28.0% of hits, 28.0% overall), 28 crystals.\n",
      "Processing XY pairs:  92%|█████████▏| 407/441 [1:01:59<05:09,  9.10s/it]WARNING: You did not specify --int-radius.\n",
      "WARNING: I will use the default values, which are probably not appropriate for your patterns.\n",
      "This is what I understood your unit cell to be:\n",
      "orthorhombic I, right handed.\n",
      "a      b      c            alpha   beta  gamma\n",
      " 80.58  94.49 103.89 A     90.00  90.00  90.00 deg\n",
      "List of indexing methods:\n",
      "   0: xgandalf-nolatt-cell      (xgandalf using cell parameters as prior information)\n",
      "Indexing parameters:\n",
      "                  Check unit cell parameters: on\n",
      "                        Check peak alignment: on\n",
      "                   Refine indexing solutions: off\n",
      " Multi-lattice indexing (\"delete and retry\"): off\n",
      "                              Retry indexing: on\n"
     ]
    },
    {
     "name": "stdout",
     "output_type": "stream",
     "text": [
      "Running for x=-511.7, y=-511.0\n"
     ]
    },
    {
     "name": "stderr",
     "output_type": "stream",
     "text": [
      "58 images processed, 58 hits (100.0%), 16 indexable (27.6% of hits, 27.6% overall), 16 crystals, 11.4 images/sec.\n",
      "Waiting for the last patterns to be processed...\n",
      "Final: 100 images processed, 100 hits (100.0%), 24 indexable (24.0% of hits, 24.0% overall), 24 crystals.\n",
      "Processing XY pairs:  93%|█████████▎| 408/441 [1:02:08<04:57,  9.00s/it]WARNING: You did not specify --int-radius.\n",
      "WARNING: I will use the default values, which are probably not appropriate for your patterns.\n",
      "This is what I understood your unit cell to be:\n",
      "orthorhombic I, right handed.\n",
      "a      b      c            alpha   beta  gamma\n",
      " 80.58  94.49 103.89 A     90.00  90.00  90.00 deg\n",
      "List of indexing methods:\n",
      "   0: xgandalf-nolatt-cell      (xgandalf using cell parameters as prior information)\n",
      "Indexing parameters:\n",
      "                  Check unit cell parameters: on\n",
      "                        Check peak alignment: on\n",
      "                   Refine indexing solutions: off\n",
      " Multi-lattice indexing (\"delete and retry\"): off\n",
      "                              Retry indexing: on\n"
     ]
    },
    {
     "name": "stdout",
     "output_type": "stream",
     "text": [
      "Running for x=-511.6, y=-513.0\n"
     ]
    },
    {
     "name": "stderr",
     "output_type": "stream",
     "text": [
      "59 images processed, 59 hits (100.0%), 18 indexable (30.5% of hits, 30.5% overall), 18 crystals, 11.8 images/sec.\n",
      "Waiting for the last patterns to be processed...\n",
      "Final: 100 images processed, 100 hits (100.0%), 30 indexable (30.0% of hits, 30.0% overall), 30 crystals.\n",
      "Processing XY pairs:  93%|█████████▎| 409/441 [1:02:16<04:40,  8.76s/it]WARNING: You did not specify --int-radius.\n",
      "WARNING: I will use the default values, which are probably not appropriate for your patterns.\n",
      "This is what I understood your unit cell to be:\n",
      "orthorhombic I, right handed.\n",
      "a      b      c            alpha   beta  gamma\n",
      " 80.58  94.49 103.89 A     90.00  90.00  90.00 deg\n",
      "List of indexing methods:\n",
      "   0: xgandalf-nolatt-cell      (xgandalf using cell parameters as prior information)\n",
      "Indexing parameters:\n",
      "                  Check unit cell parameters: on\n",
      "                        Check peak alignment: on\n",
      "                   Refine indexing solutions: off\n",
      " Multi-lattice indexing (\"delete and retry\"): off\n",
      "                              Retry indexing: on\n"
     ]
    },
    {
     "name": "stdout",
     "output_type": "stream",
     "text": [
      "Running for x=-511.6, y=-511.0\n"
     ]
    },
    {
     "name": "stderr",
     "output_type": "stream",
     "text": [
      "59 images processed, 59 hits (100.0%), 18 indexable (30.5% of hits, 30.5% overall), 18 crystals, 11.2 images/sec.\n",
      "Waiting for the last patterns to be processed...\n",
      "Final: 100 images processed, 100 hits (100.0%), 27 indexable (27.0% of hits, 27.0% overall), 27 crystals.\n",
      "Processing XY pairs:  93%|█████████▎| 410/441 [1:02:25<04:27,  8.63s/it]WARNING: You did not specify --int-radius.\n",
      "WARNING: I will use the default values, which are probably not appropriate for your patterns.\n",
      "This is what I understood your unit cell to be:\n",
      "orthorhombic I, right handed.\n",
      "a      b      c            alpha   beta  gamma\n",
      " 80.58  94.49 103.89 A     90.00  90.00  90.00 deg\n",
      "List of indexing methods:\n",
      "   0: xgandalf-nolatt-cell      (xgandalf using cell parameters as prior information)\n",
      "Indexing parameters:\n",
      "                  Check unit cell parameters: on\n",
      "                        Check peak alignment: on\n",
      "                   Refine indexing solutions: off\n",
      " Multi-lattice indexing (\"delete and retry\"): off\n",
      "                              Retry indexing: on\n"
     ]
    },
    {
     "name": "stdout",
     "output_type": "stream",
     "text": [
      "Running for x=-511.5, y=-513.0\n"
     ]
    },
    {
     "name": "stderr",
     "output_type": "stream",
     "text": [
      "WARNING: Radius determination failed\n",
      "57 images processed, 57 hits (100.0%), 11 indexable (19.3% of hits, 19.3% overall), 11 crystals, 11.3 images/sec.\n",
      "Waiting for the last patterns to be processed...\n",
      "Final: 100 images processed, 100 hits (100.0%), 19 indexable (19.0% of hits, 19.0% overall), 19 crystals.\n",
      "Processing XY pairs:  93%|█████████▎| 411/441 [1:02:34<04:27,  8.91s/it]WARNING: You did not specify --int-radius.\n",
      "WARNING: I will use the default values, which are probably not appropriate for your patterns.\n",
      "This is what I understood your unit cell to be:\n",
      "orthorhombic I, right handed.\n",
      "a      b      c            alpha   beta  gamma\n",
      " 80.58  94.49 103.89 A     90.00  90.00  90.00 deg\n",
      "List of indexing methods:\n",
      "   0: xgandalf-nolatt-cell      (xgandalf using cell parameters as prior information)\n",
      "Indexing parameters:\n",
      "                  Check unit cell parameters: on\n",
      "                        Check peak alignment: on\n",
      "                   Refine indexing solutions: off\n",
      " Multi-lattice indexing (\"delete and retry\"): off\n",
      "                              Retry indexing: on\n"
     ]
    },
    {
     "name": "stdout",
     "output_type": "stream",
     "text": [
      "Running for x=-511.5, y=-511.0\n"
     ]
    },
    {
     "name": "stderr",
     "output_type": "stream",
     "text": [
      "WARNING: Radius determination failed\n",
      "58 images processed, 58 hits (100.0%), 11 indexable (19.0% of hits, 19.0% overall), 11 crystals, 11.1 images/sec.\n",
      "Waiting for the last patterns to be processed...\n",
      "Final: 100 images processed, 100 hits (100.0%), 25 indexable (25.0% of hits, 25.0% overall), 25 crystals.\n",
      "Processing XY pairs:  93%|█████████▎| 412/441 [1:02:43<04:15,  8.80s/it]WARNING: You did not specify --int-radius.\n",
      "WARNING: I will use the default values, which are probably not appropriate for your patterns.\n",
      "This is what I understood your unit cell to be:\n",
      "orthorhombic I, right handed.\n",
      "a      b      c            alpha   beta  gamma\n",
      " 80.58  94.49 103.89 A     90.00  90.00  90.00 deg\n",
      "List of indexing methods:\n",
      "   0: xgandalf-nolatt-cell      (xgandalf using cell parameters as prior information)\n",
      "Indexing parameters:\n",
      "                  Check unit cell parameters: on\n",
      "                        Check peak alignment: on\n",
      "                   Refine indexing solutions: off\n",
      " Multi-lattice indexing (\"delete and retry\"): off\n",
      "                              Retry indexing: on\n"
     ]
    },
    {
     "name": "stdout",
     "output_type": "stream",
     "text": [
      "Running for x=-511.4, y=-513.0\n"
     ]
    },
    {
     "name": "stderr",
     "output_type": "stream",
     "text": [
      "56 images processed, 56 hits (100.0%), 15 indexable (26.8% of hits, 26.8% overall), 15 crystals, 11.1 images/sec.\n",
      "Waiting for the last patterns to be processed...\n",
      "Final: 100 images processed, 100 hits (100.0%), 20 indexable (20.0% of hits, 20.0% overall), 20 crystals.\n",
      "Processing XY pairs:  94%|█████████▎| 413/441 [1:02:52<04:13,  9.05s/it]WARNING: You did not specify --int-radius.\n",
      "WARNING: I will use the default values, which are probably not appropriate for your patterns.\n",
      "This is what I understood your unit cell to be:\n",
      "orthorhombic I, right handed.\n",
      "a      b      c            alpha   beta  gamma\n",
      " 80.58  94.49 103.89 A     90.00  90.00  90.00 deg\n",
      "List of indexing methods:\n",
      "   0: xgandalf-nolatt-cell      (xgandalf using cell parameters as prior information)\n",
      "Indexing parameters:\n",
      "                  Check unit cell parameters: on\n",
      "                        Check peak alignment: on\n",
      "                   Refine indexing solutions: off\n",
      " Multi-lattice indexing (\"delete and retry\"): off\n",
      "                              Retry indexing: on\n"
     ]
    },
    {
     "name": "stdout",
     "output_type": "stream",
     "text": [
      "Running for x=-511.4, y=-511.0\n"
     ]
    },
    {
     "name": "stderr",
     "output_type": "stream",
     "text": [
      "61 images processed, 61 hits (100.0%), 15 indexable (24.6% of hits, 24.6% overall), 15 crystals, 11.4 images/sec.\n",
      "Waiting for the last patterns to be processed...\n",
      "Final: 100 images processed, 100 hits (100.0%), 17 indexable (17.0% of hits, 17.0% overall), 17 crystals.\n",
      "Processing XY pairs:  94%|█████████▍| 414/441 [1:03:02<04:06,  9.15s/it]WARNING: You did not specify --int-radius.\n",
      "WARNING: I will use the default values, which are probably not appropriate for your patterns.\n",
      "This is what I understood your unit cell to be:\n",
      "orthorhombic I, right handed.\n",
      "a      b      c            alpha   beta  gamma\n",
      " 80.58  94.49 103.89 A     90.00  90.00  90.00 deg\n",
      "List of indexing methods:\n",
      "   0: xgandalf-nolatt-cell      (xgandalf using cell parameters as prior information)\n",
      "Indexing parameters:\n",
      "                  Check unit cell parameters: on\n",
      "                        Check peak alignment: on\n",
      "                   Refine indexing solutions: off\n",
      " Multi-lattice indexing (\"delete and retry\"): off\n",
      "                              Retry indexing: on\n"
     ]
    },
    {
     "name": "stdout",
     "output_type": "stream",
     "text": [
      "Running for x=-511.3, y=-513.0\n"
     ]
    },
    {
     "name": "stderr",
     "output_type": "stream",
     "text": [
      "59 images processed, 59 hits (100.0%), 18 indexable (30.5% of hits, 30.5% overall), 18 crystals, 11.6 images/sec.\n",
      "Waiting for the last patterns to be processed...\n",
      "Final: 100 images processed, 100 hits (100.0%), 27 indexable (27.0% of hits, 27.0% overall), 27 crystals.\n",
      "Processing XY pairs:  94%|█████████▍| 415/441 [1:03:11<03:58,  9.19s/it]WARNING: You did not specify --int-radius.\n",
      "WARNING: I will use the default values, which are probably not appropriate for your patterns.\n",
      "This is what I understood your unit cell to be:\n",
      "orthorhombic I, right handed.\n",
      "a      b      c            alpha   beta  gamma\n",
      " 80.58  94.49 103.89 A     90.00  90.00  90.00 deg\n",
      "List of indexing methods:\n",
      "   0: xgandalf-nolatt-cell      (xgandalf using cell parameters as prior information)\n",
      "Indexing parameters:\n",
      "                  Check unit cell parameters: on\n",
      "                        Check peak alignment: on\n",
      "                   Refine indexing solutions: off\n",
      " Multi-lattice indexing (\"delete and retry\"): off\n",
      "                              Retry indexing: on\n"
     ]
    },
    {
     "name": "stdout",
     "output_type": "stream",
     "text": [
      "Running for x=-511.3, y=-511.0\n"
     ]
    },
    {
     "name": "stderr",
     "output_type": "stream",
     "text": [
      "58 images processed, 58 hits (100.0%), 11 indexable (19.0% of hits, 19.0% overall), 11 crystals, 11.3 images/sec.\n",
      "Waiting for the last patterns to be processed...\n",
      "Final: 100 images processed, 100 hits (100.0%), 18 indexable (18.0% of hits, 18.0% overall), 18 crystals.\n",
      "Processing XY pairs:  94%|█████████▍| 416/441 [1:03:20<03:50,  9.22s/it]WARNING: You did not specify --int-radius.\n",
      "WARNING: I will use the default values, which are probably not appropriate for your patterns.\n",
      "This is what I understood your unit cell to be:\n",
      "orthorhombic I, right handed.\n",
      "a      b      c            alpha   beta  gamma\n",
      " 80.58  94.49 103.89 A     90.00  90.00  90.00 deg\n",
      "List of indexing methods:\n",
      "   0: xgandalf-nolatt-cell      (xgandalf using cell parameters as prior information)\n",
      "Indexing parameters:\n",
      "                  Check unit cell parameters: on\n",
      "                        Check peak alignment: on\n",
      "                   Refine indexing solutions: off\n",
      " Multi-lattice indexing (\"delete and retry\"): off\n",
      "                              Retry indexing: on\n"
     ]
    },
    {
     "name": "stdout",
     "output_type": "stream",
     "text": [
      "Running for x=-511.2, y=-513.0\n"
     ]
    },
    {
     "name": "stderr",
     "output_type": "stream",
     "text": [
      "55 images processed, 55 hits (100.0%), 11 indexable (20.0% of hits, 20.0% overall), 11 crystals, 10.9 images/sec.\n",
      "Waiting for the last patterns to be processed...\n",
      "Final: 100 images processed, 100 hits (100.0%), 20 indexable (20.0% of hits, 20.0% overall), 20 crystals.\n",
      "Processing XY pairs:  95%|█████████▍| 417/441 [1:03:30<03:43,  9.33s/it]WARNING: You did not specify --int-radius.\n",
      "WARNING: I will use the default values, which are probably not appropriate for your patterns.\n",
      "This is what I understood your unit cell to be:\n",
      "orthorhombic I, right handed.\n",
      "a      b      c            alpha   beta  gamma\n",
      " 80.58  94.49 103.89 A     90.00  90.00  90.00 deg\n",
      "List of indexing methods:\n",
      "   0: xgandalf-nolatt-cell      (xgandalf using cell parameters as prior information)\n",
      "Indexing parameters:\n",
      "                  Check unit cell parameters: on\n",
      "                        Check peak alignment: on\n",
      "                   Refine indexing solutions: off\n",
      " Multi-lattice indexing (\"delete and retry\"): off\n",
      "                              Retry indexing: on\n"
     ]
    },
    {
     "name": "stdout",
     "output_type": "stream",
     "text": [
      "Running for x=-511.2, y=-511.0\n"
     ]
    },
    {
     "name": "stderr",
     "output_type": "stream",
     "text": [
      "58 images processed, 58 hits (100.0%), 11 indexable (19.0% of hits, 19.0% overall), 11 crystals, 11.5 images/sec.\n",
      "Waiting for the last patterns to be processed...\n",
      "Final: 100 images processed, 100 hits (100.0%), 18 indexable (18.0% of hits, 18.0% overall), 18 crystals.\n",
      "Processing XY pairs:  95%|█████████▍| 418/441 [1:03:39<03:36,  9.39s/it]WARNING: You did not specify --int-radius.\n",
      "WARNING: I will use the default values, which are probably not appropriate for your patterns.\n",
      "This is what I understood your unit cell to be:\n",
      "orthorhombic I, right handed.\n",
      "a      b      c            alpha   beta  gamma\n",
      " 80.58  94.49 103.89 A     90.00  90.00  90.00 deg\n",
      "List of indexing methods:\n",
      "   0: xgandalf-nolatt-cell      (xgandalf using cell parameters as prior information)\n",
      "Indexing parameters:\n",
      "                  Check unit cell parameters: on\n",
      "                        Check peak alignment: on\n",
      "                   Refine indexing solutions: off\n",
      " Multi-lattice indexing (\"delete and retry\"): off\n",
      "                              Retry indexing: on\n"
     ]
    },
    {
     "name": "stdout",
     "output_type": "stream",
     "text": [
      "Running for x=-511.1, y=-513.0\n"
     ]
    },
    {
     "name": "stderr",
     "output_type": "stream",
     "text": [
      "58 images processed, 58 hits (100.0%), 12 indexable (20.7% of hits, 20.7% overall), 12 crystals, 11.5 images/sec.\n",
      "Waiting for the last patterns to be processed...\n",
      "Final: 100 images processed, 100 hits (100.0%), 19 indexable (19.0% of hits, 19.0% overall), 19 crystals.\n",
      "Processing XY pairs:  95%|█████████▌| 419/441 [1:03:49<03:26,  9.41s/it]WARNING: You did not specify --int-radius.\n",
      "WARNING: I will use the default values, which are probably not appropriate for your patterns.\n",
      "This is what I understood your unit cell to be:\n",
      "orthorhombic I, right handed.\n",
      "a      b      c            alpha   beta  gamma\n",
      " 80.58  94.49 103.89 A     90.00  90.00  90.00 deg\n",
      "List of indexing methods:\n",
      "   0: xgandalf-nolatt-cell      (xgandalf using cell parameters as prior information)\n",
      "Indexing parameters:\n",
      "                  Check unit cell parameters: on\n",
      "                        Check peak alignment: on\n",
      "                   Refine indexing solutions: off\n",
      " Multi-lattice indexing (\"delete and retry\"): off\n",
      "                              Retry indexing: on\n"
     ]
    },
    {
     "name": "stdout",
     "output_type": "stream",
     "text": [
      "Running for x=-511.1, y=-511.0\n"
     ]
    },
    {
     "name": "stderr",
     "output_type": "stream",
     "text": [
      "59 images processed, 59 hits (100.0%), 12 indexable (20.3% of hits, 20.3% overall), 12 crystals, 11.8 images/sec.\n",
      "Waiting for the last patterns to be processed...\n",
      "Final: 100 images processed, 100 hits (100.0%), 20 indexable (20.0% of hits, 20.0% overall), 20 crystals.\n",
      "Processing XY pairs:  95%|█████████▌| 420/441 [1:03:58<03:17,  9.40s/it]WARNING: You did not specify --int-radius.\n",
      "WARNING: I will use the default values, which are probably not appropriate for your patterns.\n",
      "This is what I understood your unit cell to be:\n",
      "orthorhombic I, right handed.\n",
      "a      b      c            alpha   beta  gamma\n",
      " 80.58  94.49 103.89 A     90.00  90.00  90.00 deg\n",
      "List of indexing methods:\n",
      "   0: xgandalf-nolatt-cell      (xgandalf using cell parameters as prior information)\n",
      "Indexing parameters:\n",
      "                  Check unit cell parameters: on\n",
      "                        Check peak alignment: on\n",
      "                   Refine indexing solutions: off\n",
      " Multi-lattice indexing (\"delete and retry\"): off\n",
      "                              Retry indexing: on\n"
     ]
    },
    {
     "name": "stdout",
     "output_type": "stream",
     "text": [
      "Running for x=-511.0, y=-513.0\n"
     ]
    },
    {
     "name": "stderr",
     "output_type": "stream",
     "text": [
      "57 images processed, 57 hits (100.0%), 15 indexable (26.3% of hits, 26.3% overall), 15 crystals, 11.4 images/sec.\n",
      "Waiting for the last patterns to be processed...\n",
      "Final: 100 images processed, 100 hits (100.0%), 22 indexable (22.0% of hits, 22.0% overall), 22 crystals.\n",
      "Processing XY pairs:  95%|█████████▌| 421/441 [1:04:08<03:08,  9.44s/it]WARNING: You did not specify --int-radius.\n",
      "WARNING: I will use the default values, which are probably not appropriate for your patterns.\n",
      "This is what I understood your unit cell to be:\n",
      "orthorhombic I, right handed.\n",
      "a      b      c            alpha   beta  gamma\n",
      " 80.58  94.49 103.89 A     90.00  90.00  90.00 deg\n",
      "List of indexing methods:\n",
      "   0: xgandalf-nolatt-cell      (xgandalf using cell parameters as prior information)\n",
      "Indexing parameters:\n",
      "                  Check unit cell parameters: on\n",
      "                        Check peak alignment: on\n",
      "                   Refine indexing solutions: off\n",
      " Multi-lattice indexing (\"delete and retry\"): off\n",
      "                              Retry indexing: on\n"
     ]
    },
    {
     "name": "stdout",
     "output_type": "stream",
     "text": [
      "Running for x=-511.0, y=-512.9\n"
     ]
    },
    {
     "name": "stderr",
     "output_type": "stream",
     "text": [
      "56 images processed, 56 hits (100.0%), 10 indexable (17.9% of hits, 17.9% overall), 10 crystals, 11.1 images/sec.\n",
      "Waiting for the last patterns to be processed...\n",
      "Final: 100 images processed, 100 hits (100.0%), 13 indexable (13.0% of hits, 13.0% overall), 13 crystals.\n",
      "Processing XY pairs:  96%|█████████▌| 422/441 [1:04:17<03:01,  9.55s/it]WARNING: You did not specify --int-radius.\n",
      "WARNING: I will use the default values, which are probably not appropriate for your patterns.\n",
      "This is what I understood your unit cell to be:\n",
      "orthorhombic I, right handed.\n",
      "a      b      c            alpha   beta  gamma\n",
      " 80.58  94.49 103.89 A     90.00  90.00  90.00 deg\n",
      "List of indexing methods:\n",
      "   0: xgandalf-nolatt-cell      (xgandalf using cell parameters as prior information)\n",
      "Indexing parameters:\n",
      "                  Check unit cell parameters: on\n",
      "                        Check peak alignment: on\n",
      "                   Refine indexing solutions: off\n",
      " Multi-lattice indexing (\"delete and retry\"): off\n",
      "                              Retry indexing: on\n"
     ]
    },
    {
     "name": "stdout",
     "output_type": "stream",
     "text": [
      "Running for x=-511.0, y=-512.8\n"
     ]
    },
    {
     "name": "stderr",
     "output_type": "stream",
     "text": [
      "57 images processed, 57 hits (100.0%), 9 indexable (15.8% of hits, 15.8% overall), 9 crystals, 11.2 images/sec.\n",
      "Waiting for the last patterns to be processed...\n",
      "Final: 100 images processed, 100 hits (100.0%), 16 indexable (16.0% of hits, 16.0% overall), 16 crystals.\n",
      "Processing XY pairs:  96%|█████████▌| 423/441 [1:04:27<02:51,  9.53s/it]WARNING: You did not specify --int-radius.\n",
      "WARNING: I will use the default values, which are probably not appropriate for your patterns.\n",
      "This is what I understood your unit cell to be:\n",
      "orthorhombic I, right handed.\n",
      "a      b      c            alpha   beta  gamma\n",
      " 80.58  94.49 103.89 A     90.00  90.00  90.00 deg\n",
      "List of indexing methods:\n",
      "   0: xgandalf-nolatt-cell      (xgandalf using cell parameters as prior information)\n",
      "Indexing parameters:\n",
      "                  Check unit cell parameters: on\n",
      "                        Check peak alignment: on\n",
      "                   Refine indexing solutions: off\n",
      " Multi-lattice indexing (\"delete and retry\"): off\n",
      "                              Retry indexing: on\n"
     ]
    },
    {
     "name": "stdout",
     "output_type": "stream",
     "text": [
      "Running for x=-511.0, y=-512.7\n"
     ]
    },
    {
     "name": "stderr",
     "output_type": "stream",
     "text": [
      "58 images processed, 58 hits (100.0%), 8 indexable (13.8% of hits, 13.8% overall), 8 crystals, 11.1 images/sec.\n",
      "Waiting for the last patterns to be processed...\n",
      "Final: 100 images processed, 100 hits (100.0%), 15 indexable (15.0% of hits, 15.0% overall), 15 crystals.\n",
      "Processing XY pairs:  96%|█████████▌| 424/441 [1:04:36<02:40,  9.46s/it]WARNING: You did not specify --int-radius.\n",
      "WARNING: I will use the default values, which are probably not appropriate for your patterns.\n",
      "This is what I understood your unit cell to be:\n",
      "orthorhombic I, right handed.\n",
      "a      b      c            alpha   beta  gamma\n",
      " 80.58  94.49 103.89 A     90.00  90.00  90.00 deg\n",
      "List of indexing methods:\n",
      "   0: xgandalf-nolatt-cell      (xgandalf using cell parameters as prior information)\n",
      "Indexing parameters:\n",
      "                  Check unit cell parameters: on\n",
      "                        Check peak alignment: on\n",
      "                   Refine indexing solutions: off\n",
      " Multi-lattice indexing (\"delete and retry\"): off\n",
      "                              Retry indexing: on\n"
     ]
    },
    {
     "name": "stdout",
     "output_type": "stream",
     "text": [
      "Running for x=-511.0, y=-512.6\n"
     ]
    },
    {
     "name": "stderr",
     "output_type": "stream",
     "text": [
      "60 images processed, 60 hits (100.0%), 13 indexable (21.7% of hits, 21.7% overall), 13 crystals, 11.6 images/sec.\n",
      "Waiting for the last patterns to be processed...\n",
      "Final: 100 images processed, 100 hits (100.0%), 23 indexable (23.0% of hits, 23.0% overall), 23 crystals.\n",
      "Processing XY pairs:  96%|█████████▋| 425/441 [1:04:46<02:30,  9.41s/it]WARNING: You did not specify --int-radius.\n",
      "WARNING: I will use the default values, which are probably not appropriate for your patterns.\n",
      "This is what I understood your unit cell to be:\n",
      "orthorhombic I, right handed.\n",
      "a      b      c            alpha   beta  gamma\n",
      " 80.58  94.49 103.89 A     90.00  90.00  90.00 deg\n",
      "List of indexing methods:\n",
      "   0: xgandalf-nolatt-cell      (xgandalf using cell parameters as prior information)\n",
      "Indexing parameters:\n",
      "                  Check unit cell parameters: on\n",
      "                        Check peak alignment: on\n",
      "                   Refine indexing solutions: off\n",
      " Multi-lattice indexing (\"delete and retry\"): off\n",
      "                              Retry indexing: on\n"
     ]
    },
    {
     "name": "stdout",
     "output_type": "stream",
     "text": [
      "Running for x=-511.0, y=-512.5\n"
     ]
    },
    {
     "name": "stderr",
     "output_type": "stream",
     "text": [
      "58 images processed, 58 hits (100.0%), 13 indexable (22.4% of hits, 22.4% overall), 13 crystals, 11.4 images/sec.\n",
      "Waiting for the last patterns to be processed...\n",
      "Final: 100 images processed, 100 hits (100.0%), 20 indexable (20.0% of hits, 20.0% overall), 20 crystals.\n",
      "Processing XY pairs:  97%|█████████▋| 426/441 [1:04:54<02:16,  9.09s/it]WARNING: You did not specify --int-radius.\n",
      "WARNING: I will use the default values, which are probably not appropriate for your patterns.\n",
      "This is what I understood your unit cell to be:\n",
      "orthorhombic I, right handed.\n",
      "a      b      c            alpha   beta  gamma\n",
      " 80.58  94.49 103.89 A     90.00  90.00  90.00 deg\n",
      "List of indexing methods:\n",
      "   0: xgandalf-nolatt-cell      (xgandalf using cell parameters as prior information)\n",
      "Indexing parameters:\n",
      "                  Check unit cell parameters: on\n",
      "                        Check peak alignment: on\n",
      "                   Refine indexing solutions: off\n",
      " Multi-lattice indexing (\"delete and retry\"): off\n",
      "                              Retry indexing: on\n"
     ]
    },
    {
     "name": "stdout",
     "output_type": "stream",
     "text": [
      "Running for x=-511.0, y=-512.4\n"
     ]
    },
    {
     "name": "stderr",
     "output_type": "stream",
     "text": [
      "59 images processed, 59 hits (100.0%), 13 indexable (22.0% of hits, 22.0% overall), 13 crystals, 11.5 images/sec.\n",
      "Waiting for the last patterns to be processed...\n",
      "Final: 100 images processed, 100 hits (100.0%), 22 indexable (22.0% of hits, 22.0% overall), 22 crystals.\n",
      "Processing XY pairs:  97%|█████████▋| 427/441 [1:05:04<02:09,  9.24s/it]WARNING: You did not specify --int-radius.\n",
      "WARNING: I will use the default values, which are probably not appropriate for your patterns.\n",
      "This is what I understood your unit cell to be:\n",
      "orthorhombic I, right handed.\n",
      "a      b      c            alpha   beta  gamma\n",
      " 80.58  94.49 103.89 A     90.00  90.00  90.00 deg\n",
      "List of indexing methods:\n",
      "   0: xgandalf-nolatt-cell      (xgandalf using cell parameters as prior information)\n",
      "Indexing parameters:\n",
      "                  Check unit cell parameters: on\n",
      "                        Check peak alignment: on\n",
      "                   Refine indexing solutions: off\n",
      " Multi-lattice indexing (\"delete and retry\"): off\n",
      "                              Retry indexing: on\n"
     ]
    },
    {
     "name": "stdout",
     "output_type": "stream",
     "text": [
      "Running for x=-511.0, y=-512.3\n"
     ]
    },
    {
     "name": "stderr",
     "output_type": "stream",
     "text": [
      "58 images processed, 58 hits (100.0%), 12 indexable (20.7% of hits, 20.7% overall), 12 crystals, 11.3 images/sec.\n",
      "Waiting for the last patterns to be processed...\n",
      "Final: 100 images processed, 100 hits (100.0%), 21 indexable (21.0% of hits, 21.0% overall), 21 crystals.\n",
      "Processing XY pairs:  97%|█████████▋| 428/441 [1:05:13<02:00,  9.25s/it]WARNING: You did not specify --int-radius.\n",
      "WARNING: I will use the default values, which are probably not appropriate for your patterns.\n",
      "This is what I understood your unit cell to be:\n",
      "orthorhombic I, right handed.\n",
      "a      b      c            alpha   beta  gamma\n",
      " 80.58  94.49 103.89 A     90.00  90.00  90.00 deg\n",
      "List of indexing methods:\n",
      "   0: xgandalf-nolatt-cell      (xgandalf using cell parameters as prior information)\n",
      "Indexing parameters:\n",
      "                  Check unit cell parameters: on\n",
      "                        Check peak alignment: on\n",
      "                   Refine indexing solutions: off\n",
      " Multi-lattice indexing (\"delete and retry\"): off\n",
      "                              Retry indexing: on\n"
     ]
    },
    {
     "name": "stdout",
     "output_type": "stream",
     "text": [
      "Running for x=-511.0, y=-512.2\n"
     ]
    },
    {
     "name": "stderr",
     "output_type": "stream",
     "text": [
      "59 images processed, 59 hits (100.0%), 14 indexable (23.7% of hits, 23.7% overall), 14 crystals, 11.7 images/sec.\n",
      "Waiting for the last patterns to be processed...\n",
      "Final: 100 images processed, 100 hits (100.0%), 25 indexable (25.0% of hits, 25.0% overall), 25 crystals.\n",
      "Processing XY pairs:  97%|█████████▋| 429/441 [1:05:21<01:48,  9.03s/it]WARNING: You did not specify --int-radius.\n",
      "WARNING: I will use the default values, which are probably not appropriate for your patterns.\n",
      "This is what I understood your unit cell to be:\n",
      "orthorhombic I, right handed.\n",
      "a      b      c            alpha   beta  gamma\n",
      " 80.58  94.49 103.89 A     90.00  90.00  90.00 deg\n",
      "List of indexing methods:\n",
      "   0: xgandalf-nolatt-cell      (xgandalf using cell parameters as prior information)\n",
      "Indexing parameters:\n",
      "                  Check unit cell parameters: on\n",
      "                        Check peak alignment: on\n",
      "                   Refine indexing solutions: off\n",
      " Multi-lattice indexing (\"delete and retry\"): off\n",
      "                              Retry indexing: on\n"
     ]
    },
    {
     "name": "stdout",
     "output_type": "stream",
     "text": [
      "Running for x=-511.0, y=-512.1\n"
     ]
    },
    {
     "name": "stderr",
     "output_type": "stream",
     "text": [
      "58 images processed, 58 hits (100.0%), 18 indexable (31.0% of hits, 31.0% overall), 18 crystals, 11.2 images/sec.\n",
      "Waiting for the last patterns to be processed...\n",
      "Final: 100 images processed, 100 hits (100.0%), 28 indexable (28.0% of hits, 28.0% overall), 28 crystals.\n",
      "Processing XY pairs:  98%|█████████▊| 430/441 [1:05:31<01:40,  9.10s/it]WARNING: You did not specify --int-radius.\n",
      "WARNING: I will use the default values, which are probably not appropriate for your patterns.\n",
      "This is what I understood your unit cell to be:\n",
      "orthorhombic I, right handed.\n",
      "a      b      c            alpha   beta  gamma\n",
      " 80.58  94.49 103.89 A     90.00  90.00  90.00 deg\n",
      "List of indexing methods:\n",
      "   0: xgandalf-nolatt-cell      (xgandalf using cell parameters as prior information)\n",
      "Indexing parameters:\n",
      "                  Check unit cell parameters: on\n",
      "                        Check peak alignment: on\n",
      "                   Refine indexing solutions: off\n",
      " Multi-lattice indexing (\"delete and retry\"): off\n",
      "                              Retry indexing: on\n"
     ]
    },
    {
     "name": "stdout",
     "output_type": "stream",
     "text": [
      "Running for x=-511.0, y=-512.0\n"
     ]
    },
    {
     "name": "stderr",
     "output_type": "stream",
     "text": [
      "57 images processed, 57 hits (100.0%), 11 indexable (19.3% of hits, 19.3% overall), 11 crystals, 11.4 images/sec.\n",
      "Waiting for the last patterns to be processed...\n",
      "Final: 100 images processed, 100 hits (100.0%), 23 indexable (23.0% of hits, 23.0% overall), 23 crystals.\n",
      "Processing XY pairs:  98%|█████████▊| 431/441 [1:05:40<01:31,  9.15s/it]WARNING: You did not specify --int-radius.\n",
      "WARNING: I will use the default values, which are probably not appropriate for your patterns.\n",
      "This is what I understood your unit cell to be:\n",
      "orthorhombic I, right handed.\n",
      "a      b      c            alpha   beta  gamma\n",
      " 80.58  94.49 103.89 A     90.00  90.00  90.00 deg\n",
      "List of indexing methods:\n",
      "   0: xgandalf-nolatt-cell      (xgandalf using cell parameters as prior information)\n",
      "Indexing parameters:\n",
      "                  Check unit cell parameters: on\n",
      "                        Check peak alignment: on\n",
      "                   Refine indexing solutions: off\n",
      " Multi-lattice indexing (\"delete and retry\"): off\n",
      "                              Retry indexing: on\n"
     ]
    },
    {
     "name": "stdout",
     "output_type": "stream",
     "text": [
      "Running for x=-511.0, y=-511.9\n"
     ]
    },
    {
     "name": "stderr",
     "output_type": "stream",
     "text": [
      "55 images processed, 55 hits (100.0%), 8 indexable (14.5% of hits, 14.5% overall), 8 crystals, 10.6 images/sec.\n",
      "Waiting for the last patterns to be processed...\n",
      "Final: 100 images processed, 100 hits (100.0%), 19 indexable (19.0% of hits, 19.0% overall), 19 crystals.\n",
      "Processing XY pairs:  98%|█████████▊| 432/441 [1:05:49<01:23,  9.30s/it]WARNING: You did not specify --int-radius.\n",
      "WARNING: I will use the default values, which are probably not appropriate for your patterns.\n",
      "This is what I understood your unit cell to be:\n",
      "orthorhombic I, right handed.\n",
      "a      b      c            alpha   beta  gamma\n",
      " 80.58  94.49 103.89 A     90.00  90.00  90.00 deg\n",
      "List of indexing methods:\n",
      "   0: xgandalf-nolatt-cell      (xgandalf using cell parameters as prior information)\n",
      "Indexing parameters:\n",
      "                  Check unit cell parameters: on\n",
      "                        Check peak alignment: on\n",
      "                   Refine indexing solutions: off\n",
      " Multi-lattice indexing (\"delete and retry\"): off\n",
      "                              Retry indexing: on\n"
     ]
    },
    {
     "name": "stdout",
     "output_type": "stream",
     "text": [
      "Running for x=-511.0, y=-511.8\n"
     ]
    },
    {
     "name": "stderr",
     "output_type": "stream",
     "text": [
      "59 images processed, 59 hits (100.0%), 17 indexable (28.8% of hits, 28.8% overall), 17 crystals, 11.8 images/sec.\n",
      "Waiting for the last patterns to be processed...\n",
      "Final: 100 images processed, 100 hits (100.0%), 23 indexable (23.0% of hits, 23.0% overall), 23 crystals.\n",
      "Processing XY pairs:  98%|█████████▊| 433/441 [1:05:59<01:14,  9.31s/it]WARNING: You did not specify --int-radius.\n",
      "WARNING: I will use the default values, which are probably not appropriate for your patterns.\n",
      "This is what I understood your unit cell to be:\n",
      "orthorhombic I, right handed.\n",
      "a      b      c            alpha   beta  gamma\n",
      " 80.58  94.49 103.89 A     90.00  90.00  90.00 deg\n",
      "List of indexing methods:\n",
      "   0: xgandalf-nolatt-cell      (xgandalf using cell parameters as prior information)\n",
      "Indexing parameters:\n",
      "                  Check unit cell parameters: on\n",
      "                        Check peak alignment: on\n",
      "                   Refine indexing solutions: off\n",
      " Multi-lattice indexing (\"delete and retry\"): off\n",
      "                              Retry indexing: on\n"
     ]
    },
    {
     "name": "stdout",
     "output_type": "stream",
     "text": [
      "Running for x=-511.0, y=-511.7\n"
     ]
    },
    {
     "name": "stderr",
     "output_type": "stream",
     "text": [
      "56 images processed, 56 hits (100.0%), 14 indexable (25.0% of hits, 25.0% overall), 14 crystals, 11.1 images/sec.\n",
      "Waiting for the last patterns to be processed...\n",
      "Final: 100 images processed, 100 hits (100.0%), 24 indexable (24.0% of hits, 24.0% overall), 24 crystals.\n",
      "Processing XY pairs:  98%|█████████▊| 434/441 [1:06:08<01:05,  9.36s/it]WARNING: You did not specify --int-radius.\n",
      "WARNING: I will use the default values, which are probably not appropriate for your patterns.\n",
      "This is what I understood your unit cell to be:\n",
      "orthorhombic I, right handed.\n",
      "a      b      c            alpha   beta  gamma\n",
      " 80.58  94.49 103.89 A     90.00  90.00  90.00 deg\n",
      "List of indexing methods:\n",
      "   0: xgandalf-nolatt-cell      (xgandalf using cell parameters as prior information)\n",
      "Indexing parameters:\n",
      "                  Check unit cell parameters: on\n",
      "                        Check peak alignment: on\n",
      "                   Refine indexing solutions: off\n",
      " Multi-lattice indexing (\"delete and retry\"): off\n",
      "                              Retry indexing: on\n"
     ]
    },
    {
     "name": "stdout",
     "output_type": "stream",
     "text": [
      "Running for x=-511.0, y=-511.6\n"
     ]
    },
    {
     "name": "stderr",
     "output_type": "stream",
     "text": [
      "61 images processed, 61 hits (100.0%), 19 indexable (31.1% of hits, 31.1% overall), 19 crystals, 11.9 images/sec.\n",
      "Waiting for the last patterns to be processed...\n",
      "Final: 100 images processed, 100 hits (100.0%), 24 indexable (24.0% of hits, 24.0% overall), 24 crystals.\n",
      "Processing XY pairs:  99%|█████████▊| 435/441 [1:06:18<00:56,  9.36s/it]WARNING: You did not specify --int-radius.\n",
      "WARNING: I will use the default values, which are probably not appropriate for your patterns.\n",
      "This is what I understood your unit cell to be:\n",
      "orthorhombic I, right handed.\n",
      "a      b      c            alpha   beta  gamma\n",
      " 80.58  94.49 103.89 A     90.00  90.00  90.00 deg\n",
      "List of indexing methods:\n",
      "   0: xgandalf-nolatt-cell      (xgandalf using cell parameters as prior information)\n",
      "Indexing parameters:\n",
      "                  Check unit cell parameters: on\n",
      "                        Check peak alignment: on\n",
      "                   Refine indexing solutions: off\n",
      " Multi-lattice indexing (\"delete and retry\"): off\n",
      "                              Retry indexing: on\n"
     ]
    },
    {
     "name": "stdout",
     "output_type": "stream",
     "text": [
      "Running for x=-511.0, y=-511.5\n"
     ]
    },
    {
     "name": "stderr",
     "output_type": "stream",
     "text": [
      "WARNING: Radius determination failed\n",
      "57 images processed, 57 hits (100.0%), 12 indexable (21.1% of hits, 21.1% overall), 12 crystals, 11.2 images/sec.\n",
      "Waiting for the last patterns to be processed...\n",
      "Final: 100 images processed, 100 hits (100.0%), 25 indexable (25.0% of hits, 25.0% overall), 25 crystals.\n",
      "Processing XY pairs:  99%|█████████▉| 436/441 [1:06:27<00:47,  9.42s/it]WARNING: You did not specify --int-radius.\n",
      "WARNING: I will use the default values, which are probably not appropriate for your patterns.\n",
      "This is what I understood your unit cell to be:\n",
      "orthorhombic I, right handed.\n",
      "a      b      c            alpha   beta  gamma\n",
      " 80.58  94.49 103.89 A     90.00  90.00  90.00 deg\n",
      "List of indexing methods:\n",
      "   0: xgandalf-nolatt-cell      (xgandalf using cell parameters as prior information)\n",
      "Indexing parameters:\n",
      "                  Check unit cell parameters: on\n",
      "                        Check peak alignment: on\n",
      "                   Refine indexing solutions: off\n",
      " Multi-lattice indexing (\"delete and retry\"): off\n",
      "                              Retry indexing: on\n"
     ]
    },
    {
     "name": "stdout",
     "output_type": "stream",
     "text": [
      "Running for x=-511.0, y=-511.4\n"
     ]
    },
    {
     "name": "stderr",
     "output_type": "stream",
     "text": [
      "60 images processed, 60 hits (100.0%), 16 indexable (26.7% of hits, 26.7% overall), 16 crystals, 11.7 images/sec.\n",
      "Waiting for the last patterns to be processed...\n",
      "Final: 100 images processed, 100 hits (100.0%), 23 indexable (23.0% of hits, 23.0% overall), 23 crystals.\n",
      "Processing XY pairs:  99%|█████████▉| 437/441 [1:06:37<00:37,  9.40s/it]WARNING: You did not specify --int-radius.\n",
      "WARNING: I will use the default values, which are probably not appropriate for your patterns.\n",
      "This is what I understood your unit cell to be:\n",
      "orthorhombic I, right handed.\n",
      "a      b      c            alpha   beta  gamma\n",
      " 80.58  94.49 103.89 A     90.00  90.00  90.00 deg\n",
      "List of indexing methods:\n",
      "   0: xgandalf-nolatt-cell      (xgandalf using cell parameters as prior information)\n",
      "Indexing parameters:\n",
      "                  Check unit cell parameters: on\n",
      "                        Check peak alignment: on\n",
      "                   Refine indexing solutions: off\n",
      " Multi-lattice indexing (\"delete and retry\"): off\n",
      "                              Retry indexing: on\n"
     ]
    },
    {
     "name": "stdout",
     "output_type": "stream",
     "text": [
      "Running for x=-511.0, y=-511.3\n"
     ]
    },
    {
     "name": "stderr",
     "output_type": "stream",
     "text": [
      "62 images processed, 62 hits (100.0%), 20 indexable (32.3% of hits, 32.3% overall), 20 crystals, 12.1 images/sec.\n",
      "Waiting for the last patterns to be processed...\n",
      "Final: 100 images processed, 100 hits (100.0%), 26 indexable (26.0% of hits, 26.0% overall), 26 crystals.\n",
      "Processing XY pairs:  99%|█████████▉| 438/441 [1:06:46<00:27,  9.29s/it]WARNING: You did not specify --int-radius.\n",
      "WARNING: I will use the default values, which are probably not appropriate for your patterns.\n",
      "This is what I understood your unit cell to be:\n",
      "orthorhombic I, right handed.\n",
      "a      b      c            alpha   beta  gamma\n",
      " 80.58  94.49 103.89 A     90.00  90.00  90.00 deg\n",
      "List of indexing methods:\n",
      "   0: xgandalf-nolatt-cell      (xgandalf using cell parameters as prior information)\n",
      "Indexing parameters:\n",
      "                  Check unit cell parameters: on\n",
      "                        Check peak alignment: on\n",
      "                   Refine indexing solutions: off\n",
      " Multi-lattice indexing (\"delete and retry\"): off\n",
      "                              Retry indexing: on\n"
     ]
    },
    {
     "name": "stdout",
     "output_type": "stream",
     "text": [
      "Running for x=-511.0, y=-511.2\n"
     ]
    },
    {
     "name": "stderr",
     "output_type": "stream",
     "text": [
      "55 images processed, 55 hits (100.0%), 10 indexable (18.2% of hits, 18.2% overall), 10 crystals, 10.9 images/sec.\n",
      "Waiting for the last patterns to be processed...\n",
      "Final: 100 images processed, 100 hits (100.0%), 20 indexable (20.0% of hits, 20.0% overall), 20 crystals.\n",
      "Processing XY pairs: 100%|█████████▉| 439/441 [1:06:55<00:18,  9.45s/it]WARNING: You did not specify --int-radius.\n",
      "WARNING: I will use the default values, which are probably not appropriate for your patterns.\n",
      "This is what I understood your unit cell to be:\n",
      "orthorhombic I, right handed.\n",
      "a      b      c            alpha   beta  gamma\n",
      " 80.58  94.49 103.89 A     90.00  90.00  90.00 deg\n",
      "List of indexing methods:\n",
      "   0: xgandalf-nolatt-cell      (xgandalf using cell parameters as prior information)\n",
      "Indexing parameters:\n",
      "                  Check unit cell parameters: on\n",
      "                        Check peak alignment: on\n",
      "                   Refine indexing solutions: off\n",
      " Multi-lattice indexing (\"delete and retry\"): off\n",
      "                              Retry indexing: on\n"
     ]
    },
    {
     "name": "stdout",
     "output_type": "stream",
     "text": [
      "Running for x=-511.0, y=-511.1\n"
     ]
    },
    {
     "name": "stderr",
     "output_type": "stream",
     "text": [
      "56 images processed, 56 hits (100.0%), 7 indexable (12.5% of hits, 12.5% overall), 7 crystals, 11.2 images/sec.\n",
      "Waiting for the last patterns to be processed...\n",
      "Final: 100 images processed, 100 hits (100.0%), 15 indexable (15.0% of hits, 15.0% overall), 15 crystals.\n",
      "Processing XY pairs: 100%|█████████▉| 440/441 [1:07:05<00:09,  9.51s/it]WARNING: You did not specify --int-radius.\n",
      "WARNING: I will use the default values, which are probably not appropriate for your patterns.\n",
      "This is what I understood your unit cell to be:\n",
      "orthorhombic I, right handed.\n",
      "a      b      c            alpha   beta  gamma\n",
      " 80.58  94.49 103.89 A     90.00  90.00  90.00 deg\n",
      "List of indexing methods:\n",
      "   0: xgandalf-nolatt-cell      (xgandalf using cell parameters as prior information)\n",
      "Indexing parameters:\n",
      "                  Check unit cell parameters: on\n",
      "                        Check peak alignment: on\n",
      "                   Refine indexing solutions: off\n",
      " Multi-lattice indexing (\"delete and retry\"): off\n",
      "                              Retry indexing: on\n"
     ]
    },
    {
     "name": "stdout",
     "output_type": "stream",
     "text": [
      "Running for x=-511.0, y=-511.0\n"
     ]
    },
    {
     "name": "stderr",
     "output_type": "stream",
     "text": [
      "59 images processed, 59 hits (100.0%), 12 indexable (20.3% of hits, 20.3% overall), 12 crystals, 11.7 images/sec.\n",
      "Waiting for the last patterns to be processed...\n",
      "Final: 100 images processed, 100 hits (100.0%), 18 indexable (18.0% of hits, 18.0% overall), 18 crystals.\n",
      "Processing XY pairs: 100%|██████████| 441/441 [1:07:14<00:00,  9.15s/it]\n"
     ]
    }
   ],
   "source": [
    "# Indexing (To speed up process make sure output stream is in wsl folder)\n",
    "geomfile_path = \"/home/bubl3932/files/UOX1/UOX.geom\"\n",
    "cellfile_path = \"/home/bubl3932/files/UOX1/UOX.cell\"\n",
    "input_path =  \"/home/bubl3932/files/UOX1/UOX_subset\"  \n",
    "output_dir = input_path\n",
    "output_file_base = \"UOXs\"\n",
    "\n",
    "num_threads = 23\n",
    "indexing_method = \"xgandalf\"\n",
    "resolution_push = 0\n",
    "integration_method = \"rings\"\n",
    "int_radius = \"4,5,8\"\n",
    "min_peaks = 0 \n",
    "xgandalf_tolerance = 0.02\n",
    "xgandalf_sampling_pitch = 5\n",
    "xgandalf_iterations = 1\n",
    "tolerance = \"5,5,5,5\"\n",
    "step_size = 0.1\n",
    "layers = 10\n",
    "##### Enter your parameters above #####\n",
    "\n",
    "gandalf_iterator(geomfile_path, cellfile_path, input_path, output_file_base, output_dir, num_threads, indexing_method, resolution_push, integration_method, int_radius, min_peaks, xgandalf_tolerance, xgandalf_sampling_pitch, xgandalf_iterations, tolerance, step_size, layers)\n"
   ]
  },
  {
   "cell_type": "markdown",
   "metadata": {},
   "source": [
    "Then based on RMSD between found peaks and indexed reflections combine the best indexings from xGandalf for each frame to one .stream file and then write a .sol from combinded .stream file."
   ]
  },
  {
   "cell_type": "code",
   "execution_count": null,
   "metadata": {},
   "outputs": [],
   "source": [
    "# Find Best Results Function Definitions\n",
    "\n",
    "from best_results_def import find_best_results, read_stream_write_sol"
   ]
  },
  {
   "cell_type": "code",
   "execution_count": null,
   "metadata": {},
   "outputs": [],
   "source": [
    "# Find Best Results\n",
    "inputfolder_path = '/home/buster/hMTH1_TH287'\n",
    "lattice = \"oP\" # Pearson Symbol read from .cell file first letter for lattice type and second for centering\n",
    "\n",
    "##### Enter your parameters above #####\n",
    "\n",
    "find_best_results(inputfolder_path)\n",
    "\n",
    "import os\n",
    "\n",
    "output_file_path = os.path.join(inputfolder_path, \"best_results.stream\")\n",
    "\n",
    "read_stream_write_sol(output_file_path, lattice)"
   ]
  },
  {
   "cell_type": "markdown",
   "metadata": {},
   "source": [
    "Integrate with best found ring for integration (From Fast Integration)"
   ]
  },
  {
   "cell_type": "code",
   "execution_count": null,
   "metadata": {},
   "outputs": [],
   "source": [
    "# Full Integration Function Definitions\n",
    "\n",
    "from full_int_def import run_indexamajig_with_frames"
   ]
  },
  {
   "cell_type": "code",
   "execution_count": null,
   "metadata": {},
   "outputs": [],
   "source": [
    "# Full Integration\n",
    "geomfile_path = \".geom\"\n",
    "cellfile_path = \".cell\"\n",
    "input_path = \"\"\n",
    "\n",
    "x = -512\n",
    "y = -512\n",
    "num_threads = 23\n",
    "indexing_method = \"file\"\n",
    "resolution_push = 5\n",
    "integration_method = \"rings\"\n",
    "int_radius = \"4,5,9\"\n",
    "min_peaks = 5\n",
    "xgandalf_tolerance = 0.02\n",
    "xgandalf_sampling_pitch = 5\n",
    "xgandalf_min_vector_length = 40\n",
    "xgandalf_max_vector_length = 110\n",
    "xgandalf_iterations = 1\n",
    "tolerance = \"5,5,5,5\"\n",
    "overpredict = True\n",
    "\n",
    "##### Enter your parameters above #####\n",
    "\n",
    "run_indexamajig_with_frames(x, y, geomfile_path, cellfile_path, input_path, num_threads, indexing_method, resolution_push, integration_method, int_radius, min_peaks, xgandalf_tolerance, xgandalf_sampling_pitch, xgandalf_iterations, tolerance)"
   ]
  },
  {
   "cell_type": "markdown",
   "metadata": {},
   "source": [
    "Merge integration results"
   ]
  },
  {
   "cell_type": "code",
   "execution_count": null,
   "metadata": {},
   "outputs": [],
   "source": [
    "# Full Merge Function Definitions\n",
    "\n",
    "from full_merge_def import merge_and_write_mtz"
   ]
  },
  {
   "cell_type": "code",
   "execution_count": null,
   "metadata": {},
   "outputs": [],
   "source": [
    "# Merge\n",
    "input_folder_path = \"\"\n",
    "cellfile_path = \"\"\n",
    "pointgroup = \"\"\n",
    "\n",
    "##### Enter your parameters above #####\n",
    "\n",
    "merge_and_write_mtz(input_folder_path, cellfile_path, pointgroup)"
   ]
  },
  {
   "cell_type": "markdown",
   "metadata": {},
   "source": [
    "Refinement using REFMAC5"
   ]
  },
  {
   "cell_type": "code",
   "execution_count": null,
   "metadata": {},
   "outputs": [],
   "source": [
    "# Full Refine Function Definitions\n",
    "\n",
    "from full_ref_def import process_run_folders"
   ]
  },
  {
   "cell_type": "code",
   "execution_count": null,
   "metadata": {},
   "outputs": [],
   "source": [
    "# Full Refine\n",
    "\n",
    "run_number = 1\n",
    "bins = 30\n",
    "\n",
    "# Global variables for filenames\n",
    "base_path = \"\"\n",
    "pdb_filename = \".pdb\"\n",
    "mtz_orig_filename = \"output.mtz\"\n",
    "output_filename = f\"output_bins_{bins}.txt\"\n",
    "\n",
    "process_run_folders(base_path, run_number)"
   ]
  }
 ],
 "metadata": {
  "kernelspec": {
   "display_name": "diffractem_env",
   "language": "python",
   "name": "python3"
  },
  "language_info": {
   "codemirror_mode": {
    "name": "ipython",
    "version": 3
   },
   "file_extension": ".py",
   "mimetype": "text/x-python",
   "name": "python",
   "nbconvert_exporter": "python",
   "pygments_lexer": "ipython3",
   "version": "3.9.21"
  }
 },
 "nbformat": 4,
 "nbformat_minor": 2
}
