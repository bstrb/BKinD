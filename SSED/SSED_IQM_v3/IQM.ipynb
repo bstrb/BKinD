{
 "cells": [
  {
   "cell_type": "code",
   "execution_count": 6,
   "metadata": {},
   "outputs": [
    {
     "name": "stdout",
     "output_type": "stream",
     "text": [
      "Evaluating multiple stream files with weights: (12, 12, 10, -32, 12, -15, 10, 13, -12)\n"
     ]
    },
    {
     "name": "stderr",
     "output_type": "stream",
     "text": [
      "Processing chunks in UOX_-512.0_-511.99.stream: 100%|██████████| 26138/26138 [05:54<00:00, 73.74chunk/s]] \n",
      "Processing chunks in UOX_-512_-512.stream: 100%|██████████| 26138/26138 [05:55<00:00, 73.44chunk/s]unk/s]\n",
      "Processing chunks in UOX_-511.99_-512.01.stream: 100%|██████████| 26138/26138 [05:58<00:00, 72.84chunk/s] \n",
      "Processing chunks in UOX_-512.01_-512.01.stream: 100%|██████████| 26138/26138 [05:59<00:00, 72.77chunk/s] \n",
      "Processing chunks in UOX_-512.0_-512.01.stream: 100%|██████████| 26138/26138 [05:59<00:00, 72.75chunk/s]\n",
      "Processing chunks in UOX_-511.99_-511.99.stream: 100%|██████████| 26138/26138 [06:00<00:00, 72.51chunk/s] \n",
      "Processing chunks in UOX_-511.99_-512.0.stream: 100%|██████████| 26138/26138 [06:02<00:00, 72.05chunk/s]] \n",
      "Processing chunks in UOX_-512.01_-511.99.stream: 100%|██████████| 26138/26138 [06:03<00:00, 71.95chunk/s] \n",
      "Processing chunks in UOX_-512.01_-512.0.stream: 100%|██████████| 26138/26138 [06:04<00:00, 71.70chunk/s] \n"
     ]
    },
    {
     "name": "stdout",
     "output_type": "stream",
     "text": [
      "Combined metrics CSV written to /home/buster/UOX123/3x3_retry/combined_metrics_IQM_SUM_12_12_10_-32_12_-15_10_13_-12.csv\n",
      "Best results stream file written to /home/buster/UOX123/3x3_retry/best_results_IQM_SUM_12_12_10_-32_12_-15_10_13_-12.stream\n",
      "Writing .sol file from stream: /home/buster/UOX123/3x3_retry/best_results_IQM_SUM_12_12_10_-32_12_-15_10_13_-12.stream\n",
      "Bash script generated: /home/buster/UOX123/3x3_retry/IQM_SUM_12_12_10_-32_12_-15_10_13_-12.sh\n",
      "Running fast integration...\n"
     ]
    },
    {
     "name": "stderr",
     "output_type": "stream",
     "text": [
      "Writing integration output stream: 100%|██████████| 23914/23914 [05:47<00:00, 68.78lines/s]\n"
     ]
    },
    {
     "name": "stdout",
     "output_type": "stream",
     "text": [
      "Integration executed successfully\n",
      "Merging fast integration results...\n",
      "Running partialator for stream file: /home/buster/UOX123/3x3_retry/IQM_SUM_12_12_10_-32_12_-15_10_13_-12/int_rings_3-4-7.stream\n"
     ]
    },
    {
     "name": "stderr",
     "output_type": "stream",
     "text": [
      "Partialator Progress: 100%|██████████| 5/5 [09:19<00:00, 111.83s/Residuals]\n"
     ]
    },
    {
     "name": "stdout",
     "output_type": "stream",
     "text": [
      "Partialator completed for stream file: /home/buster/UOX123/3x3_retry/IQM_SUM_12_12_10_-32_12_-15_10_13_-12/int_rings_3-4-7.stream\n",
      "Converting crystfel.hkl to output.mtz in directory: /home/buster/UOX123/3x3_retry/IQM_SUM_12_12_10_-32_12_-15_10_13_-12/merge_3_iter_int_rings_3-4-7\n",
      "Conversion to output.mtz completed for directory: /home/buster/UOX123/3x3_retry/IQM_SUM_12_12_10_-32_12_-15_10_13_-12/merge_3_iter_int_rings_3-4-7\n",
      "Merging Complete for int_rings_3-4-7\n",
      "Refining fast integration results...\n",
      "Processing folder: /home/buster/UOX123/3x3_retry/IQM_SUM_12_12_10_-32_12_-15_10_13_-12/merge_3_iter_int_rings_3-4-7\n"
     ]
    },
    {
     "name": "stderr",
     "output_type": "stream",
     "text": [
      "Refmac5 CGMAT cycles: 100%|██████████| 30/30 [01:11<00:00,  2.37s/cycle]"
     ]
    },
    {
     "name": "stdout",
     "output_type": "stream",
     "text": [
      "Automation process completed successfully for weights: (12, 12, 10, -32, 12, -15, 10, 13, -12) with a final R factor of 0.1701\n",
      "Evaluating multiple stream files with weights: (12, 12, 10, 8, 12, -15, 10, 13, -12)\n"
     ]
    },
    {
     "name": "stderr",
     "output_type": "stream",
     "text": [
      "\n",
      "Processing chunks in UOX_-512.0_-511.99.stream: 100%|██████████| 26138/26138 [05:48<00:00, 75.04chunk/s]s]\n",
      "Processing chunks in UOX_-511.99_-512.01.stream: 100%|██████████| 26138/26138 [05:53<00:00, 73.96chunk/s] \n",
      "Processing chunks in UOX_-512.0_-512.01.stream: 100%|██████████| 26138/26138 [05:53<00:00, 73.86chunk/s]]\n",
      "Processing chunks in UOX_-512_-512.stream: 100%|██████████| 26138/26138 [05:54<00:00, 73.83chunk/s] nk/s]\n",
      "Processing chunks in UOX_-511.99_-511.99.stream: 100%|██████████| 26138/26138 [05:55<00:00, 73.54chunk/s] \n",
      "Processing chunks in UOX_-512.01_-512.01.stream: 100%|██████████| 26138/26138 [05:55<00:00, 73.48chunk/s] \n",
      "Processing chunks in UOX_-512.01_-511.99.stream: 100%|██████████| 26138/26138 [05:56<00:00, 73.34chunk/s] \n",
      "Processing chunks in UOX_-511.99_-512.0.stream: 100%|██████████| 26138/26138 [05:56<00:00, 73.29chunk/s] \n",
      "Processing chunks in UOX_-512.01_-512.0.stream: 100%|██████████| 26138/26138 [06:00<00:00, 72.58chunk/s] \n"
     ]
    },
    {
     "name": "stdout",
     "output_type": "stream",
     "text": [
      "Combined metrics CSV written to /home/buster/UOX123/3x3_retry/combined_metrics_IQM_SUM_12_12_10_8_12_-15_10_13_-12.csv\n",
      "Best results stream file written to /home/buster/UOX123/3x3_retry/best_results_IQM_SUM_12_12_10_8_12_-15_10_13_-12.stream\n",
      "Writing .sol file from stream: /home/buster/UOX123/3x3_retry/best_results_IQM_SUM_12_12_10_8_12_-15_10_13_-12.stream\n",
      "Bash script generated: /home/buster/UOX123/3x3_retry/IQM_SUM_12_12_10_8_12_-15_10_13_-12.sh\n",
      "Running fast integration...\n"
     ]
    },
    {
     "name": "stderr",
     "output_type": "stream",
     "text": [
      "Writing integration output stream: 100%|██████████| 23914/23914 [06:15<00:00, 63.68lines/s]\n"
     ]
    },
    {
     "name": "stdout",
     "output_type": "stream",
     "text": [
      "Integration executed successfully\n",
      "Merging fast integration results...\n",
      "Running partialator for stream file: /home/buster/UOX123/3x3_retry/IQM_SUM_12_12_10_8_12_-15_10_13_-12/int_rings_3-4-7.stream\n"
     ]
    },
    {
     "name": "stderr",
     "output_type": "stream",
     "text": [
      "Partialator Progress: 100%|██████████| 5/5 [09:55<00:00, 119.05s/Residuals]\n"
     ]
    },
    {
     "name": "stdout",
     "output_type": "stream",
     "text": [
      "Partialator completed for stream file: /home/buster/UOX123/3x3_retry/IQM_SUM_12_12_10_8_12_-15_10_13_-12/int_rings_3-4-7.stream\n",
      "Converting crystfel.hkl to output.mtz in directory: /home/buster/UOX123/3x3_retry/IQM_SUM_12_12_10_8_12_-15_10_13_-12/merge_3_iter_int_rings_3-4-7\n",
      "Conversion to output.mtz completed for directory: /home/buster/UOX123/3x3_retry/IQM_SUM_12_12_10_8_12_-15_10_13_-12/merge_3_iter_int_rings_3-4-7\n",
      "Merging Complete for int_rings_3-4-7\n",
      "Refining fast integration results...\n",
      "Processing folder: /home/buster/UOX123/3x3_retry/IQM_SUM_12_12_10_8_12_-15_10_13_-12/merge_3_iter_int_rings_3-4-7\n"
     ]
    },
    {
     "name": "stderr",
     "output_type": "stream",
     "text": [
      "Refmac5 CGMAT cycles: 100%|██████████| 30/30 [01:11<00:00,  2.37s/cycle]"
     ]
    },
    {
     "name": "stdout",
     "output_type": "stream",
     "text": [
      "Automation process completed successfully for weights: (12, 12, 10, 8, 12, -15, 10, 13, -12) with a final R factor of 0.1697\n",
      "Evaluating multiple stream files with weights: (12, 12, 10, -12, 32, -15, 10, 13, -12)\n"
     ]
    },
    {
     "name": "stderr",
     "output_type": "stream",
     "text": [
      "\n",
      "Processing chunks in UOX_-512.0_-511.99.stream: 100%|██████████| 26138/26138 [05:49<00:00, 74.81chunk/s]] \n",
      "Processing chunks in UOX_-512_-512.stream: 100%|██████████| 26138/26138 [05:51<00:00, 74.40chunk/s]unk/s]]\n",
      "Processing chunks in UOX_-511.99_-512.01.stream: 100%|██████████| 26138/26138 [05:51<00:00, 74.28chunk/s]]\n",
      "Processing chunks in UOX_-512.01_-512.01.stream: 100%|██████████| 26138/26138 [05:53<00:00, 73.87chunk/s] \n",
      "Processing chunks in UOX_-511.99_-512.0.stream: 100%|██████████| 26138/26138 [05:55<00:00, 73.49chunk/s]]\n",
      "Processing chunks in UOX_-512.0_-512.01.stream: 100%|██████████| 26138/26138 [05:56<00:00, 73.30chunk/s]s]\n",
      "Processing chunks in UOX_-512.01_-511.99.stream: 100%|██████████| 26138/26138 [05:57<00:00, 73.06chunk/s] \n",
      "Processing chunks in UOX_-511.99_-511.99.stream: 100%|██████████| 26138/26138 [05:58<00:00, 72.83chunk/s] \n",
      "Processing chunks in UOX_-512.01_-512.0.stream: 100%|██████████| 26138/26138 [06:00<00:00, 72.45chunk/s] \n"
     ]
    },
    {
     "name": "stdout",
     "output_type": "stream",
     "text": [
      "Combined metrics CSV written to /home/buster/UOX123/3x3_retry/combined_metrics_IQM_SUM_12_12_10_-12_32_-15_10_13_-12.csv\n",
      "Best results stream file written to /home/buster/UOX123/3x3_retry/best_results_IQM_SUM_12_12_10_-12_32_-15_10_13_-12.stream\n",
      "Writing .sol file from stream: /home/buster/UOX123/3x3_retry/best_results_IQM_SUM_12_12_10_-12_32_-15_10_13_-12.stream\n",
      "Bash script generated: /home/buster/UOX123/3x3_retry/IQM_SUM_12_12_10_-12_32_-15_10_13_-12.sh\n",
      "Running fast integration...\n"
     ]
    },
    {
     "name": "stderr",
     "output_type": "stream",
     "text": [
      "Writing integration output stream: 100%|██████████| 23914/23914 [06:13<00:00, 64.03lines/s]\n"
     ]
    },
    {
     "name": "stdout",
     "output_type": "stream",
     "text": [
      "Integration executed successfully\n",
      "Merging fast integration results...\n",
      "Running partialator for stream file: /home/buster/UOX123/3x3_retry/IQM_SUM_12_12_10_-12_32_-15_10_13_-12/int_rings_3-4-7.stream\n"
     ]
    },
    {
     "name": "stderr",
     "output_type": "stream",
     "text": [
      "Partialator Progress: 100%|██████████| 5/5 [09:37<00:00, 115.45s/Residuals]\n"
     ]
    },
    {
     "name": "stdout",
     "output_type": "stream",
     "text": [
      "Partialator completed for stream file: /home/buster/UOX123/3x3_retry/IQM_SUM_12_12_10_-12_32_-15_10_13_-12/int_rings_3-4-7.stream\n",
      "Converting crystfel.hkl to output.mtz in directory: /home/buster/UOX123/3x3_retry/IQM_SUM_12_12_10_-12_32_-15_10_13_-12/merge_3_iter_int_rings_3-4-7\n",
      "Conversion to output.mtz completed for directory: /home/buster/UOX123/3x3_retry/IQM_SUM_12_12_10_-12_32_-15_10_13_-12/merge_3_iter_int_rings_3-4-7\n",
      "Merging Complete for int_rings_3-4-7\n",
      "Refining fast integration results...\n",
      "Processing folder: /home/buster/UOX123/3x3_retry/IQM_SUM_12_12_10_-12_32_-15_10_13_-12/merge_3_iter_int_rings_3-4-7\n"
     ]
    },
    {
     "name": "stderr",
     "output_type": "stream",
     "text": [
      "Refmac5 CGMAT cycles: 100%|██████████| 30/30 [01:13<00:00,  2.45s/cycle]"
     ]
    },
    {
     "name": "stdout",
     "output_type": "stream",
     "text": [
      "Automation process completed successfully for weights: (12, 12, 10, -12, 32, -15, 10, 13, -12) with a final R factor of 0.1693\n",
      "Evaluating multiple stream files with weights: (12, 12, 10, -12, -8, -15, 10, 13, -12)\n"
     ]
    },
    {
     "name": "stderr",
     "output_type": "stream",
     "text": [
      "\n",
      "Processing chunks in UOX_-512.0_-511.99.stream: 100%|██████████| 26138/26138 [05:38<00:00, 77.19chunk/s]] \n",
      "Processing chunks in UOX_-511.99_-512.01.stream: 100%|██████████| 26138/26138 [05:41<00:00, 76.62chunk/s] \n",
      "Processing chunks in UOX_-512.01_-512.01.stream: 100%|██████████| 26138/26138 [05:43<00:00, 76.15chunk/s] \n",
      "Processing chunks in UOX_-512.0_-512.01.stream: 100%|██████████| 26138/26138 [05:44<00:00, 75.97chunk/s]]\n",
      "Processing chunks in UOX_-512_-512.stream: 100%|██████████| 26138/26138 [05:44<00:00, 75.90chunk/s] unk/s]\n",
      "Processing chunks in UOX_-512.01_-511.99.stream: 100%|██████████| 26138/26138 [05:45<00:00, 75.58chunk/s] \n",
      "Processing chunks in UOX_-511.99_-511.99.stream: 100%|██████████| 26138/26138 [05:46<00:00, 75.44chunk/s] \n",
      "Processing chunks in UOX_-511.99_-512.0.stream: 100%|██████████| 26138/26138 [05:46<00:00, 75.41chunk/s] \n",
      "Processing chunks in UOX_-512.01_-512.0.stream: 100%|██████████| 26138/26138 [05:47<00:00, 75.31chunk/s] \n"
     ]
    },
    {
     "name": "stdout",
     "output_type": "stream",
     "text": [
      "Combined metrics CSV written to /home/buster/UOX123/3x3_retry/combined_metrics_IQM_SUM_12_12_10_-12_-8_-15_10_13_-12.csv\n",
      "Best results stream file written to /home/buster/UOX123/3x3_retry/best_results_IQM_SUM_12_12_10_-12_-8_-15_10_13_-12.stream\n",
      "Writing .sol file from stream: /home/buster/UOX123/3x3_retry/best_results_IQM_SUM_12_12_10_-12_-8_-15_10_13_-12.stream\n",
      "Bash script generated: /home/buster/UOX123/3x3_retry/IQM_SUM_12_12_10_-12_-8_-15_10_13_-12.sh\n",
      "Running fast integration...\n"
     ]
    },
    {
     "name": "stderr",
     "output_type": "stream",
     "text": [
      "Writing integration output stream: 100%|██████████| 23914/23914 [06:45<00:00, 59.00lines/s]\n"
     ]
    },
    {
     "name": "stdout",
     "output_type": "stream",
     "text": [
      "Integration executed successfully\n",
      "Merging fast integration results...\n",
      "Running partialator for stream file: /home/buster/UOX123/3x3_retry/IQM_SUM_12_12_10_-12_-8_-15_10_13_-12/int_rings_3-4-7.stream\n"
     ]
    },
    {
     "name": "stderr",
     "output_type": "stream",
     "text": [
      "Partialator Progress: 100%|██████████| 5/5 [10:04<00:00, 120.87s/Residuals]\n"
     ]
    },
    {
     "name": "stdout",
     "output_type": "stream",
     "text": [
      "Partialator completed for stream file: /home/buster/UOX123/3x3_retry/IQM_SUM_12_12_10_-12_-8_-15_10_13_-12/int_rings_3-4-7.stream\n",
      "Converting crystfel.hkl to output.mtz in directory: /home/buster/UOX123/3x3_retry/IQM_SUM_12_12_10_-12_-8_-15_10_13_-12/merge_3_iter_int_rings_3-4-7\n",
      "Conversion to output.mtz completed for directory: /home/buster/UOX123/3x3_retry/IQM_SUM_12_12_10_-12_-8_-15_10_13_-12/merge_3_iter_int_rings_3-4-7\n",
      "Merging Complete for int_rings_3-4-7\n",
      "Refining fast integration results...\n",
      "Processing folder: /home/buster/UOX123/3x3_retry/IQM_SUM_12_12_10_-12_-8_-15_10_13_-12/merge_3_iter_int_rings_3-4-7\n"
     ]
    },
    {
     "name": "stderr",
     "output_type": "stream",
     "text": [
      "Refmac5 CGMAT cycles: 100%|██████████| 30/30 [01:10<00:00,  2.34s/cycle]"
     ]
    },
    {
     "name": "stdout",
     "output_type": "stream",
     "text": [
      "Automation process completed successfully for weights: (12, 12, 10, -12, -8, -15, 10, 13, -12) with a final R factor of 0.1702\n",
      "Evaluating multiple stream files with weights: (12, 12, 10, -12, 12, 5, 10, 13, -12)\n"
     ]
    },
    {
     "name": "stderr",
     "output_type": "stream",
     "text": [
      "\n",
      "Processing chunks in UOX_-511.99_-512.01.stream: 100%|██████████| 26138/26138 [05:48<00:00, 74.92chunk/s] \n",
      "Processing chunks in UOX_-512_-512.stream: 100%|██████████| 26138/26138 [05:51<00:00, 74.37chunk/s]nk/s]]\n",
      "Processing chunks in UOX_-511.99_-511.99.stream: 100%|██████████| 26138/26138 [05:52<00:00, 74.12chunk/s] \n",
      "Processing chunks in UOX_-512.01_-512.01.stream: 100%|██████████| 26138/26138 [05:52<00:00, 74.06chunk/s]\n",
      "Processing chunks in UOX_-512.0_-512.01.stream: 100%|██████████| 26138/26138 [05:53<00:00, 74.01chunk/s] \n",
      "Processing chunks in UOX_-512.01_-511.99.stream: 100%|██████████| 26138/26138 [05:53<00:00, 73.94chunk/s] \n",
      "Processing chunks in UOX_-511.99_-512.0.stream: 100%|██████████| 26138/26138 [05:53<00:00, 73.88chunk/s] \n",
      "Processing chunks in UOX_-512.01_-512.0.stream: 100%|██████████| 26138/26138 [05:57<00:00, 73.05chunk/s] \n",
      "Processing chunks in UOX_-512.0_-511.99.stream: 100%|██████████| 26138/26138 [06:01<00:00, 72.32chunk/s]\n"
     ]
    },
    {
     "name": "stdout",
     "output_type": "stream",
     "text": [
      "Combined metrics CSV written to /home/buster/UOX123/3x3_retry/combined_metrics_IQM_SUM_12_12_10_-12_12_5_10_13_-12.csv\n",
      "Best results stream file written to /home/buster/UOX123/3x3_retry/best_results_IQM_SUM_12_12_10_-12_12_5_10_13_-12.stream\n",
      "Writing .sol file from stream: /home/buster/UOX123/3x3_retry/best_results_IQM_SUM_12_12_10_-12_12_5_10_13_-12.stream\n",
      "Bash script generated: /home/buster/UOX123/3x3_retry/IQM_SUM_12_12_10_-12_12_5_10_13_-12.sh\n",
      "Running fast integration...\n"
     ]
    },
    {
     "name": "stderr",
     "output_type": "stream",
     "text": [
      "Writing integration output stream: 100%|██████████| 23914/23914 [07:09<00:00, 55.65lines/s]  \n"
     ]
    },
    {
     "name": "stdout",
     "output_type": "stream",
     "text": [
      "Integration executed successfully\n",
      "Merging fast integration results...\n",
      "Running partialator for stream file: /home/buster/UOX123/3x3_retry/IQM_SUM_12_12_10_-12_12_5_10_13_-12/int_rings_3-4-7.stream\n"
     ]
    },
    {
     "name": "stderr",
     "output_type": "stream",
     "text": [
      "Partialator Progress: 100%|██████████| 5/5 [10:53<00:00, 130.68s/Residuals]\n"
     ]
    },
    {
     "name": "stdout",
     "output_type": "stream",
     "text": [
      "Partialator completed for stream file: /home/buster/UOX123/3x3_retry/IQM_SUM_12_12_10_-12_12_5_10_13_-12/int_rings_3-4-7.stream\n",
      "Converting crystfel.hkl to output.mtz in directory: /home/buster/UOX123/3x3_retry/IQM_SUM_12_12_10_-12_12_5_10_13_-12/merge_3_iter_int_rings_3-4-7\n",
      "Conversion to output.mtz completed for directory: /home/buster/UOX123/3x3_retry/IQM_SUM_12_12_10_-12_12_5_10_13_-12/merge_3_iter_int_rings_3-4-7\n",
      "Merging Complete for int_rings_3-4-7\n",
      "Refining fast integration results...\n",
      "Processing folder: /home/buster/UOX123/3x3_retry/IQM_SUM_12_12_10_-12_12_5_10_13_-12/merge_3_iter_int_rings_3-4-7\n"
     ]
    },
    {
     "name": "stderr",
     "output_type": "stream",
     "text": [
      "Refmac5 CGMAT cycles: 100%|██████████| 30/30 [01:10<00:00,  2.34s/cycle]"
     ]
    },
    {
     "name": "stdout",
     "output_type": "stream",
     "text": [
      "Automation process completed successfully for weights: (12, 12, 10, -12, 12, 5, 10, 13, -12) with a final R factor of 0.1696\n",
      "Evaluating multiple stream files with weights: (12, 12, 10, -12, 12, -35, 10, 13, -12)\n"
     ]
    },
    {
     "name": "stderr",
     "output_type": "stream",
     "text": [
      "\n",
      "Processing chunks in UOX_-512.0_-511.99.stream: 100%|██████████| 26138/26138 [05:44<00:00, 75.79chunk/s]]]\n",
      "Processing chunks in UOX_-512_-512.stream: 100%|██████████| 26138/26138 [05:50<00:00, 74.62chunk/s] k/s]] \n",
      "Processing chunks in UOX_-511.99_-512.01.stream: 100%|██████████| 26138/26138 [05:51<00:00, 74.43chunk/s] \n",
      "Processing chunks in UOX_-511.99_-511.99.stream: 100%|██████████| 26138/26138 [05:52<00:00, 74.23chunk/s]]\n",
      "Processing chunks in UOX_-512.01_-511.99.stream: 100%|██████████| 26138/26138 [05:52<00:00, 74.24chunk/s] \n",
      "Processing chunks in UOX_-512.01_-512.01.stream: 100%|██████████| 26138/26138 [05:52<00:00, 74.10chunk/s] \n",
      "Processing chunks in UOX_-512.0_-512.01.stream: 100%|██████████| 26138/26138 [05:52<00:00, 74.06chunk/s]\n",
      "Processing chunks in UOX_-511.99_-512.0.stream: 100%|██████████| 26138/26138 [05:53<00:00, 73.86chunk/s] \n",
      "Processing chunks in UOX_-512.01_-512.0.stream: 100%|██████████| 26138/26138 [05:55<00:00, 73.43chunk/s] \n"
     ]
    },
    {
     "name": "stdout",
     "output_type": "stream",
     "text": [
      "Combined metrics CSV written to /home/buster/UOX123/3x3_retry/combined_metrics_IQM_SUM_12_12_10_-12_12_-35_10_13_-12.csv\n",
      "Best results stream file written to /home/buster/UOX123/3x3_retry/best_results_IQM_SUM_12_12_10_-12_12_-35_10_13_-12.stream\n",
      "Writing .sol file from stream: /home/buster/UOX123/3x3_retry/best_results_IQM_SUM_12_12_10_-12_12_-35_10_13_-12.stream\n",
      "Bash script generated: /home/buster/UOX123/3x3_retry/IQM_SUM_12_12_10_-12_12_-35_10_13_-12.sh\n",
      "Running fast integration...\n"
     ]
    },
    {
     "name": "stderr",
     "output_type": "stream",
     "text": [
      "Writing integration output stream: 100%|██████████| 23914/23914 [06:26<00:00, 61.83lines/s]\n"
     ]
    },
    {
     "name": "stdout",
     "output_type": "stream",
     "text": [
      "Integration executed successfully\n",
      "Merging fast integration results...\n",
      "Running partialator for stream file: /home/buster/UOX123/3x3_retry/IQM_SUM_12_12_10_-12_12_-35_10_13_-12/int_rings_3-4-7.stream\n"
     ]
    },
    {
     "name": "stderr",
     "output_type": "stream",
     "text": [
      "Partialator Progress: 100%|██████████| 5/5 [10:02<00:00, 120.47s/Residuals]\n"
     ]
    },
    {
     "name": "stdout",
     "output_type": "stream",
     "text": [
      "Partialator completed for stream file: /home/buster/UOX123/3x3_retry/IQM_SUM_12_12_10_-12_12_-35_10_13_-12/int_rings_3-4-7.stream\n",
      "Converting crystfel.hkl to output.mtz in directory: /home/buster/UOX123/3x3_retry/IQM_SUM_12_12_10_-12_12_-35_10_13_-12/merge_3_iter_int_rings_3-4-7\n",
      "Conversion to output.mtz completed for directory: /home/buster/UOX123/3x3_retry/IQM_SUM_12_12_10_-12_12_-35_10_13_-12/merge_3_iter_int_rings_3-4-7\n",
      "Merging Complete for int_rings_3-4-7\n",
      "Refining fast integration results...\n",
      "Processing folder: /home/buster/UOX123/3x3_retry/IQM_SUM_12_12_10_-12_12_-35_10_13_-12/merge_3_iter_int_rings_3-4-7\n"
     ]
    },
    {
     "name": "stderr",
     "output_type": "stream",
     "text": [
      "Refmac5 CGMAT cycles: 100%|██████████| 30/30 [01:12<00:00,  2.43s/cycle]"
     ]
    },
    {
     "name": "stdout",
     "output_type": "stream",
     "text": [
      "Automation process completed successfully for weights: (12, 12, 10, -12, 12, -35, 10, 13, -12) with a final R factor of 0.1695\n",
      "Evaluating multiple stream files with weights: (12, 12, 10, -12, 12, -15, 30, 13, -12)\n"
     ]
    },
    {
     "name": "stderr",
     "output_type": "stream",
     "text": [
      "\n",
      "Processing chunks in UOX_-512.0_-511.99.stream: 100%|██████████| 26138/26138 [05:47<00:00, 75.22chunk/s]] \n",
      "Processing chunks in UOX_-512.01_-512.01.stream: 100%|██████████| 26138/26138 [05:50<00:00, 74.62chunk/s]]\n",
      "Processing chunks in UOX_-511.99_-512.01.stream: 100%|██████████| 26138/26138 [05:51<00:00, 74.46chunk/s] \n",
      "Processing chunks in UOX_-512_-512.stream: 100%|██████████| 26138/26138 [05:50<00:00, 74.48chunk/s]unk/s]\n",
      "Processing chunks in UOX_-511.99_-511.99.stream: 100%|██████████| 26138/26138 [05:52<00:00, 74.15chunk/s] \n",
      "Processing chunks in UOX_-512.0_-512.01.stream: 100%|██████████| 26138/26138 [05:53<00:00, 74.02chunk/s]] \n",
      "Processing chunks in UOX_-511.99_-512.0.stream: 100%|██████████| 26138/26138 [05:53<00:00, 73.91chunk/s]s]\n",
      "Processing chunks in UOX_-512.01_-511.99.stream: 100%|██████████| 26138/26138 [05:53<00:00, 73.91chunk/s] \n",
      "Processing chunks in UOX_-512.01_-512.0.stream: 100%|██████████| 26138/26138 [05:57<00:00, 73.12chunk/s] \n"
     ]
    },
    {
     "name": "stdout",
     "output_type": "stream",
     "text": [
      "Combined metrics CSV written to /home/buster/UOX123/3x3_retry/combined_metrics_IQM_SUM_12_12_10_-12_12_-15_30_13_-12.csv\n",
      "Best results stream file written to /home/buster/UOX123/3x3_retry/best_results_IQM_SUM_12_12_10_-12_12_-15_30_13_-12.stream\n",
      "Writing .sol file from stream: /home/buster/UOX123/3x3_retry/best_results_IQM_SUM_12_12_10_-12_12_-15_30_13_-12.stream\n",
      "Bash script generated: /home/buster/UOX123/3x3_retry/IQM_SUM_12_12_10_-12_12_-15_30_13_-12.sh\n",
      "Running fast integration...\n"
     ]
    },
    {
     "name": "stderr",
     "output_type": "stream",
     "text": [
      "Writing integration output stream: 100%|██████████| 23914/23914 [06:14<00:00, 63.83lines/s]\n"
     ]
    },
    {
     "name": "stdout",
     "output_type": "stream",
     "text": [
      "Integration executed successfully\n",
      "Merging fast integration results...\n",
      "Running partialator for stream file: /home/buster/UOX123/3x3_retry/IQM_SUM_12_12_10_-12_12_-15_30_13_-12/int_rings_3-4-7.stream\n"
     ]
    },
    {
     "name": "stderr",
     "output_type": "stream",
     "text": [
      "Partialator Progress: 100%|██████████| 5/5 [10:43<00:00, 128.68s/Residuals]\n"
     ]
    },
    {
     "name": "stdout",
     "output_type": "stream",
     "text": [
      "Partialator completed for stream file: /home/buster/UOX123/3x3_retry/IQM_SUM_12_12_10_-12_12_-15_30_13_-12/int_rings_3-4-7.stream\n",
      "Converting crystfel.hkl to output.mtz in directory: /home/buster/UOX123/3x3_retry/IQM_SUM_12_12_10_-12_12_-15_30_13_-12/merge_3_iter_int_rings_3-4-7\n",
      "Conversion to output.mtz completed for directory: /home/buster/UOX123/3x3_retry/IQM_SUM_12_12_10_-12_12_-15_30_13_-12/merge_3_iter_int_rings_3-4-7\n",
      "Merging Complete for int_rings_3-4-7\n",
      "Refining fast integration results...\n",
      "Processing folder: /home/buster/UOX123/3x3_retry/IQM_SUM_12_12_10_-12_12_-15_30_13_-12/merge_3_iter_int_rings_3-4-7\n"
     ]
    },
    {
     "name": "stderr",
     "output_type": "stream",
     "text": [
      "Refmac5 CGMAT cycles: 100%|██████████| 30/30 [01:12<00:00,  2.42s/cycle]"
     ]
    },
    {
     "name": "stdout",
     "output_type": "stream",
     "text": [
      "Automation process completed successfully for weights: (12, 12, 10, -12, 12, -15, 30, 13, -12) with a final R factor of 0.1706\n",
      "Evaluating multiple stream files with weights: (12, 12, 10, -12, 12, -15, -10, 13, -12)\n"
     ]
    },
    {
     "name": "stderr",
     "output_type": "stream",
     "text": [
      "\n",
      "Processing chunks in UOX_-512.0_-511.99.stream: 100%|██████████| 26138/26138 [05:39<00:00, 77.10chunk/s]] \n",
      "Processing chunks in UOX_-511.99_-512.01.stream: 100%|██████████| 26138/26138 [05:42<00:00, 76.39chunk/s] \n",
      "Processing chunks in UOX_-512_-512.stream: 100%|██████████| 26138/26138 [05:42<00:00, 76.41chunk/s]nk/s]\n",
      "Processing chunks in UOX_-512.0_-512.01.stream: 100%|██████████| 26138/26138 [05:44<00:00, 75.96chunk/s]] \n",
      "Processing chunks in UOX_-511.99_-511.99.stream: 100%|██████████| 26138/26138 [05:44<00:00, 75.87chunk/s] \n",
      "Processing chunks in UOX_-511.99_-512.0.stream: 100%|██████████| 26138/26138 [05:44<00:00, 75.84chunk/s]s]\n",
      "Processing chunks in UOX_-512.01_-512.01.stream: 100%|██████████| 26138/26138 [05:45<00:00, 75.71chunk/s] \n",
      "Processing chunks in UOX_-512.01_-511.99.stream: 100%|██████████| 26138/26138 [05:45<00:00, 75.63chunk/s] \n",
      "Processing chunks in UOX_-512.01_-512.0.stream: 100%|██████████| 26138/26138 [05:47<00:00, 75.19chunk/s] \n"
     ]
    },
    {
     "name": "stdout",
     "output_type": "stream",
     "text": [
      "Combined metrics CSV written to /home/buster/UOX123/3x3_retry/combined_metrics_IQM_SUM_12_12_10_-12_12_-15_-10_13_-12.csv\n",
      "Best results stream file written to /home/buster/UOX123/3x3_retry/best_results_IQM_SUM_12_12_10_-12_12_-15_-10_13_-12.stream\n",
      "Writing .sol file from stream: /home/buster/UOX123/3x3_retry/best_results_IQM_SUM_12_12_10_-12_12_-15_-10_13_-12.stream\n",
      "Bash script generated: /home/buster/UOX123/3x3_retry/IQM_SUM_12_12_10_-12_12_-15_-10_13_-12.sh\n",
      "Running fast integration...\n"
     ]
    },
    {
     "name": "stderr",
     "output_type": "stream",
     "text": [
      "Writing integration output stream: 100%|██████████| 23914/23914 [06:20<00:00, 62.92lines/s]\n"
     ]
    },
    {
     "name": "stdout",
     "output_type": "stream",
     "text": [
      "Integration executed successfully\n",
      "Merging fast integration results...\n",
      "Running partialator for stream file: /home/buster/UOX123/3x3_retry/IQM_SUM_12_12_10_-12_12_-15_-10_13_-12/int_rings_3-4-7.stream\n"
     ]
    },
    {
     "name": "stderr",
     "output_type": "stream",
     "text": [
      "Partialator Progress: 100%|██████████| 5/5 [10:24<00:00, 124.87s/Residuals]\n"
     ]
    },
    {
     "name": "stdout",
     "output_type": "stream",
     "text": [
      "Partialator completed for stream file: /home/buster/UOX123/3x3_retry/IQM_SUM_12_12_10_-12_12_-15_-10_13_-12/int_rings_3-4-7.stream\n",
      "Converting crystfel.hkl to output.mtz in directory: /home/buster/UOX123/3x3_retry/IQM_SUM_12_12_10_-12_12_-15_-10_13_-12/merge_3_iter_int_rings_3-4-7\n",
      "Conversion to output.mtz completed for directory: /home/buster/UOX123/3x3_retry/IQM_SUM_12_12_10_-12_12_-15_-10_13_-12/merge_3_iter_int_rings_3-4-7\n",
      "Merging Complete for int_rings_3-4-7\n",
      "Refining fast integration results...\n",
      "Processing folder: /home/buster/UOX123/3x3_retry/IQM_SUM_12_12_10_-12_12_-15_-10_13_-12/merge_3_iter_int_rings_3-4-7\n"
     ]
    },
    {
     "name": "stderr",
     "output_type": "stream",
     "text": [
      "Refmac5 CGMAT cycles: 100%|██████████| 30/30 [01:13<00:00,  2.46s/cycle]"
     ]
    },
    {
     "name": "stdout",
     "output_type": "stream",
     "text": [
      "Automation process completed successfully for weights: (12, 12, 10, -12, 12, -15, -10, 13, -12) with a final R factor of 0.1697\n",
      "Evaluating multiple stream files with weights: (12, 12, 10, -32, 32, -15, 10, 13, -12)\n"
     ]
    },
    {
     "name": "stderr",
     "output_type": "stream",
     "text": [
      "\n",
      "Processing chunks in UOX_-512.0_-511.99.stream: 100%|██████████| 26138/26138 [05:41<00:00, 76.60chunk/s]] \n",
      "Processing chunks in UOX_-511.99_-512.01.stream: 100%|██████████| 26138/26138 [05:46<00:00, 75.37chunk/s] \n",
      "Processing chunks in UOX_-512.0_-512.01.stream: 100%|██████████| 26138/26138 [05:46<00:00, 75.34chunk/s]]\n",
      "Processing chunks in UOX_-512_-512.stream: 100%|██████████| 26138/26138 [05:47<00:00, 75.28chunk/s]nk/s]]\n",
      "Processing chunks in UOX_-512.01_-512.01.stream: 100%|██████████| 26138/26138 [05:47<00:00, 75.13chunk/s] \n",
      "Processing chunks in UOX_-511.99_-511.99.stream: 100%|██████████| 26138/26138 [05:48<00:00, 75.09chunk/s]\n",
      "Processing chunks in UOX_-512.01_-511.99.stream: 100%|██████████| 26138/26138 [05:48<00:00, 74.92chunk/s] \n",
      "Processing chunks in UOX_-511.99_-512.0.stream: 100%|██████████| 26138/26138 [05:49<00:00, 74.79chunk/s] \n",
      "Processing chunks in UOX_-512.01_-512.0.stream: 100%|██████████| 26138/26138 [05:52<00:00, 74.05chunk/s] \n"
     ]
    },
    {
     "name": "stdout",
     "output_type": "stream",
     "text": [
      "Combined metrics CSV written to /home/buster/UOX123/3x3_retry/combined_metrics_IQM_SUM_12_12_10_-32_32_-15_10_13_-12.csv\n",
      "Best results stream file written to /home/buster/UOX123/3x3_retry/best_results_IQM_SUM_12_12_10_-32_32_-15_10_13_-12.stream\n",
      "Writing .sol file from stream: /home/buster/UOX123/3x3_retry/best_results_IQM_SUM_12_12_10_-32_32_-15_10_13_-12.stream\n",
      "Bash script generated: /home/buster/UOX123/3x3_retry/IQM_SUM_12_12_10_-32_32_-15_10_13_-12.sh\n",
      "Running fast integration...\n"
     ]
    },
    {
     "name": "stderr",
     "output_type": "stream",
     "text": [
      "Writing integration output stream: 100%|██████████| 23914/23914 [06:02<00:00, 66.02lines/s]\n"
     ]
    },
    {
     "name": "stdout",
     "output_type": "stream",
     "text": [
      "Integration executed successfully\n",
      "Merging fast integration results...\n",
      "Running partialator for stream file: /home/buster/UOX123/3x3_retry/IQM_SUM_12_12_10_-32_32_-15_10_13_-12/int_rings_3-4-7.stream\n"
     ]
    },
    {
     "name": "stderr",
     "output_type": "stream",
     "text": [
      "Partialator Progress: 100%|██████████| 5/5 [10:09<00:00, 121.87s/Residuals]\n"
     ]
    },
    {
     "name": "stdout",
     "output_type": "stream",
     "text": [
      "Partialator completed for stream file: /home/buster/UOX123/3x3_retry/IQM_SUM_12_12_10_-32_32_-15_10_13_-12/int_rings_3-4-7.stream\n",
      "Converting crystfel.hkl to output.mtz in directory: /home/buster/UOX123/3x3_retry/IQM_SUM_12_12_10_-32_32_-15_10_13_-12/merge_3_iter_int_rings_3-4-7\n",
      "Conversion to output.mtz completed for directory: /home/buster/UOX123/3x3_retry/IQM_SUM_12_12_10_-32_32_-15_10_13_-12/merge_3_iter_int_rings_3-4-7\n",
      "Merging Complete for int_rings_3-4-7\n",
      "Refining fast integration results...\n",
      "Processing folder: /home/buster/UOX123/3x3_retry/IQM_SUM_12_12_10_-32_32_-15_10_13_-12/merge_3_iter_int_rings_3-4-7\n"
     ]
    },
    {
     "name": "stderr",
     "output_type": "stream",
     "text": [
      "Refmac5 CGMAT cycles: 100%|██████████| 30/30 [01:26<00:00,  2.89s/cycle]"
     ]
    },
    {
     "name": "stdout",
     "output_type": "stream",
     "text": [
      "Automation process completed successfully for weights: (12, 12, 10, -32, 32, -15, 10, 13, -12) with a final R factor of 0.1705\n",
      "Evaluating multiple stream files with weights: (12, 12, 10, 8, -8, -15, 10, 13, -12)\n"
     ]
    },
    {
     "name": "stderr",
     "output_type": "stream",
     "text": [
      "\n",
      "Processing chunks in UOX_-512.0_-511.99.stream: 100%|██████████| 26138/26138 [05:53<00:00, 73.86chunk/s]] \n",
      "Processing chunks in UOX_-512_-512.stream: 100%|██████████| 26138/26138 [05:58<00:00, 72.97chunk/s] nk/s] \n",
      "Processing chunks in UOX_-511.99_-512.01.stream: 100%|██████████| 26138/26138 [05:58<00:00, 72.85chunk/s] \n",
      "Processing chunks in UOX_-511.99_-511.99.stream: 100%|██████████| 26138/26138 [05:59<00:00, 72.74chunk/s]\n",
      "Processing chunks in UOX_-512.01_-512.01.stream: 100%|██████████| 26138/26138 [05:59<00:00, 72.66chunk/s] \n",
      "Processing chunks in UOX_-512.0_-512.01.stream: 100%|██████████| 26138/26138 [06:00<00:00, 72.50chunk/s]s]\n",
      "Processing chunks in UOX_-512.01_-511.99.stream: 100%|██████████| 26138/26138 [06:00<00:00, 72.51chunk/s] \n",
      "Processing chunks in UOX_-511.99_-512.0.stream: 100%|██████████| 26138/26138 [06:01<00:00, 72.25chunk/s] \n",
      "Processing chunks in UOX_-512.01_-512.0.stream: 100%|██████████| 26138/26138 [06:06<00:00, 71.40chunk/s] \n"
     ]
    },
    {
     "name": "stdout",
     "output_type": "stream",
     "text": [
      "Combined metrics CSV written to /home/buster/UOX123/3x3_retry/combined_metrics_IQM_SUM_12_12_10_8_-8_-15_10_13_-12.csv\n",
      "Best results stream file written to /home/buster/UOX123/3x3_retry/best_results_IQM_SUM_12_12_10_8_-8_-15_10_13_-12.stream\n",
      "Writing .sol file from stream: /home/buster/UOX123/3x3_retry/best_results_IQM_SUM_12_12_10_8_-8_-15_10_13_-12.stream\n",
      "Bash script generated: /home/buster/UOX123/3x3_retry/IQM_SUM_12_12_10_8_-8_-15_10_13_-12.sh\n",
      "Running fast integration...\n"
     ]
    },
    {
     "name": "stderr",
     "output_type": "stream",
     "text": [
      "Writing integration output stream: 100%|██████████| 23914/23914 [06:19<00:00, 62.97lines/s]\n"
     ]
    },
    {
     "name": "stdout",
     "output_type": "stream",
     "text": [
      "Integration executed successfully\n",
      "Merging fast integration results...\n",
      "Running partialator for stream file: /home/buster/UOX123/3x3_retry/IQM_SUM_12_12_10_8_-8_-15_10_13_-12/int_rings_3-4-7.stream\n"
     ]
    },
    {
     "name": "stderr",
     "output_type": "stream",
     "text": [
      "Partialator Progress: 100%|██████████| 5/5 [10:05<00:00, 121.09s/Residuals]\n"
     ]
    },
    {
     "name": "stdout",
     "output_type": "stream",
     "text": [
      "Partialator completed for stream file: /home/buster/UOX123/3x3_retry/IQM_SUM_12_12_10_8_-8_-15_10_13_-12/int_rings_3-4-7.stream\n",
      "Converting crystfel.hkl to output.mtz in directory: /home/buster/UOX123/3x3_retry/IQM_SUM_12_12_10_8_-8_-15_10_13_-12/merge_3_iter_int_rings_3-4-7\n",
      "Conversion to output.mtz completed for directory: /home/buster/UOX123/3x3_retry/IQM_SUM_12_12_10_8_-8_-15_10_13_-12/merge_3_iter_int_rings_3-4-7\n",
      "Merging Complete for int_rings_3-4-7\n",
      "Refining fast integration results...\n",
      "Processing folder: /home/buster/UOX123/3x3_retry/IQM_SUM_12_12_10_8_-8_-15_10_13_-12/merge_3_iter_int_rings_3-4-7\n"
     ]
    },
    {
     "name": "stderr",
     "output_type": "stream",
     "text": [
      "Refmac5 CGMAT cycles: 100%|██████████| 30/30 [01:13<00:00,  2.46s/cycle]"
     ]
    },
    {
     "name": "stdout",
     "output_type": "stream",
     "text": [
      "Automation process completed successfully for weights: (12, 12, 10, 8, -8, -15, 10, 13, -12) with a final R factor of 0.1701\n",
      "Evaluating multiple stream files with weights: (12, 12, 10, -32, -8, -15, 10, 13, -12)\n"
     ]
    },
    {
     "name": "stderr",
     "output_type": "stream",
     "text": [
      "\n",
      "Processing chunks in UOX_-512.0_-511.99.stream: 100%|██████████| 26138/26138 [06:37<00:00, 65.71chunk/s]] \n",
      "Processing chunks in UOX_-512_-512.stream: 100%|██████████| 26138/26138 [06:40<00:00, 65.25chunk/s] unk/s]\n",
      "Processing chunks in UOX_-512.01_-512.01.stream: 100%|██████████| 26138/26138 [06:40<00:00, 65.22chunk/s] \n",
      "Processing chunks in UOX_-511.99_-512.01.stream: 100%|██████████| 26138/26138 [06:41<00:00, 65.07chunk/s] \n",
      "Processing chunks in UOX_-511.99_-511.99.stream: 100%|██████████| 26138/26138 [06:43<00:00, 64.85chunk/s] \n",
      "Processing chunks in UOX_-512.0_-512.01.stream: 100%|██████████| 26138/26138 [06:43<00:00, 64.71chunk/s]]\n",
      "Processing chunks in UOX_-512.01_-512.0.stream: 100%|██████████| 26138/26138 [06:44<00:00, 64.56chunk/s]  \n",
      "Processing chunks in UOX_-511.99_-512.0.stream: 100%|██████████| 26138/26138 [06:45<00:00, 64.49chunk/s]] \n",
      "Processing chunks in UOX_-512.01_-511.99.stream: 100%|██████████| 26138/26138 [06:45<00:00, 64.40chunk/s] \n"
     ]
    },
    {
     "name": "stdout",
     "output_type": "stream",
     "text": [
      "Combined metrics CSV written to /home/buster/UOX123/3x3_retry/combined_metrics_IQM_SUM_12_12_10_-32_-8_-15_10_13_-12.csv\n",
      "Best results stream file written to /home/buster/UOX123/3x3_retry/best_results_IQM_SUM_12_12_10_-32_-8_-15_10_13_-12.stream\n",
      "Writing .sol file from stream: /home/buster/UOX123/3x3_retry/best_results_IQM_SUM_12_12_10_-32_-8_-15_10_13_-12.stream\n",
      "Bash script generated: /home/buster/UOX123/3x3_retry/IQM_SUM_12_12_10_-32_-8_-15_10_13_-12.sh\n",
      "Running fast integration...\n"
     ]
    },
    {
     "name": "stderr",
     "output_type": "stream",
     "text": [
      "Writing integration output stream: 100%|██████████| 23914/23914 [06:18<00:00, 63.21lines/s]\n"
     ]
    },
    {
     "name": "stdout",
     "output_type": "stream",
     "text": [
      "Integration executed successfully\n",
      "Merging fast integration results...\n",
      "Running partialator for stream file: /home/buster/UOX123/3x3_retry/IQM_SUM_12_12_10_-32_-8_-15_10_13_-12/int_rings_3-4-7.stream\n"
     ]
    },
    {
     "name": "stderr",
     "output_type": "stream",
     "text": [
      "Partialator Progress: 100%|██████████| 5/5 [11:22<00:00, 136.50s/Residuals]\n"
     ]
    },
    {
     "name": "stdout",
     "output_type": "stream",
     "text": [
      "Partialator completed for stream file: /home/buster/UOX123/3x3_retry/IQM_SUM_12_12_10_-32_-8_-15_10_13_-12/int_rings_3-4-7.stream\n",
      "Converting crystfel.hkl to output.mtz in directory: /home/buster/UOX123/3x3_retry/IQM_SUM_12_12_10_-32_-8_-15_10_13_-12/merge_3_iter_int_rings_3-4-7\n",
      "Conversion to output.mtz completed for directory: /home/buster/UOX123/3x3_retry/IQM_SUM_12_12_10_-32_-8_-15_10_13_-12/merge_3_iter_int_rings_3-4-7\n",
      "Merging Complete for int_rings_3-4-7\n",
      "Refining fast integration results...\n",
      "Processing folder: /home/buster/UOX123/3x3_retry/IQM_SUM_12_12_10_-32_-8_-15_10_13_-12/merge_3_iter_int_rings_3-4-7\n"
     ]
    },
    {
     "name": "stderr",
     "output_type": "stream",
     "text": [
      "Refmac5 CGMAT cycles: 100%|██████████| 30/30 [01:11<00:00,  2.39s/cycle]"
     ]
    },
    {
     "name": "stdout",
     "output_type": "stream",
     "text": [
      "Automation process completed successfully for weights: (12, 12, 10, -32, -8, -15, 10, 13, -12) with a final R factor of 0.1709\n",
      "Evaluating multiple stream files with weights: (12, 12, 10, 8, 32, -15, 10, 13, -12)\n"
     ]
    },
    {
     "name": "stderr",
     "output_type": "stream",
     "text": [
      "\n",
      "Processing chunks in UOX_-512.0_-511.99.stream: 100%|██████████| 26138/26138 [05:38<00:00, 77.24chunk/s]]]\n",
      "Processing chunks in UOX_-511.99_-512.01.stream: 100%|██████████| 26138/26138 [05:44<00:00, 75.81chunk/s] \n",
      "Processing chunks in UOX_-512_-512.stream: 100%|██████████| 26138/26138 [05:45<00:00, 75.71chunk/s] unk/s]\n",
      "Processing chunks in UOX_-511.99_-511.99.stream: 100%|██████████| 26138/26138 [05:46<00:00, 75.51chunk/s] \n",
      "Processing chunks in UOX_-512.01_-512.01.stream: 100%|██████████| 26138/26138 [05:46<00:00, 75.34chunk/s] \n",
      "Processing chunks in UOX_-512.0_-512.01.stream: 100%|██████████| 26138/26138 [05:47<00:00, 75.27chunk/s]s]\n",
      "Processing chunks in UOX_-512.01_-511.99.stream: 100%|██████████| 26138/26138 [05:48<00:00, 75.03chunk/s] \n",
      "Processing chunks in UOX_-511.99_-512.0.stream: 100%|██████████| 26138/26138 [05:49<00:00, 74.80chunk/s]]\n",
      "Processing chunks in UOX_-512.01_-512.0.stream: 100%|██████████| 26138/26138 [05:50<00:00, 74.62chunk/s] \n"
     ]
    },
    {
     "name": "stdout",
     "output_type": "stream",
     "text": [
      "Combined metrics CSV written to /home/buster/UOX123/3x3_retry/combined_metrics_IQM_SUM_12_12_10_8_32_-15_10_13_-12.csv\n",
      "Best results stream file written to /home/buster/UOX123/3x3_retry/best_results_IQM_SUM_12_12_10_8_32_-15_10_13_-12.stream\n",
      "Writing .sol file from stream: /home/buster/UOX123/3x3_retry/best_results_IQM_SUM_12_12_10_8_32_-15_10_13_-12.stream\n",
      "Bash script generated: /home/buster/UOX123/3x3_retry/IQM_SUM_12_12_10_8_32_-15_10_13_-12.sh\n",
      "Running fast integration...\n"
     ]
    },
    {
     "name": "stderr",
     "output_type": "stream",
     "text": [
      "Writing integration output stream: 100%|██████████| 23914/23914 [08:32<00:00, 46.64lines/s]\n"
     ]
    },
    {
     "name": "stdout",
     "output_type": "stream",
     "text": [
      "Integration executed successfully\n",
      "Merging fast integration results...\n",
      "Running partialator for stream file: /home/buster/UOX123/3x3_retry/IQM_SUM_12_12_10_8_32_-15_10_13_-12/int_rings_3-4-7.stream\n"
     ]
    },
    {
     "name": "stderr",
     "output_type": "stream",
     "text": [
      "Partialator Progress: 100%|██████████| 5/5 [20:29<00:00, 245.92s/Residuals]  \n"
     ]
    },
    {
     "name": "stdout",
     "output_type": "stream",
     "text": [
      "Partialator completed for stream file: /home/buster/UOX123/3x3_retry/IQM_SUM_12_12_10_8_32_-15_10_13_-12/int_rings_3-4-7.stream\n",
      "Converting crystfel.hkl to output.mtz in directory: /home/buster/UOX123/3x3_retry/IQM_SUM_12_12_10_8_32_-15_10_13_-12/merge_3_iter_int_rings_3-4-7\n",
      "Conversion to output.mtz completed for directory: /home/buster/UOX123/3x3_retry/IQM_SUM_12_12_10_8_32_-15_10_13_-12/merge_3_iter_int_rings_3-4-7\n",
      "Merging Complete for int_rings_3-4-7\n",
      "Refining fast integration results...\n",
      "Processing folder: /home/buster/UOX123/3x3_retry/IQM_SUM_12_12_10_8_32_-15_10_13_-12/merge_3_iter_int_rings_3-4-7\n"
     ]
    },
    {
     "name": "stderr",
     "output_type": "stream",
     "text": [
      "Refmac5 CGMAT cycles: 100%|██████████| 30/30 [01:11<00:00,  2.38s/cycle]"
     ]
    },
    {
     "name": "stdout",
     "output_type": "stream",
     "text": [
      "Automation process completed successfully for weights: (12, 12, 10, 8, 32, -15, 10, 13, -12) with a final R factor of 0.1699\n",
      "Evaluating multiple stream files with weights: (12, 12, 10, -12, 12, -35, 30, 13, -12)\n"
     ]
    },
    {
     "name": "stderr",
     "output_type": "stream",
     "text": [
      "\n",
      "Processing chunks in UOX_-512.0_-511.99.stream: 100%|██████████| 26138/26138 [06:00<00:00, 72.50chunk/s]] \n",
      "Processing chunks in UOX_-511.99_-512.01.stream: 100%|██████████| 26138/26138 [06:05<00:00, 71.48chunk/s] \n",
      "Processing chunks in UOX_-511.99_-511.99.stream: 100%|██████████| 26138/26138 [06:05<00:00, 71.48chunk/s] \n",
      "Processing chunks in UOX_-512_-512.stream: 100%|██████████| 26138/26138 [06:05<00:00, 71.46chunk/s] nk/s]\n",
      "Processing chunks in UOX_-512.01_-512.01.stream: 100%|██████████| 26138/26138 [06:06<00:00, 71.32chunk/s] \n",
      "Processing chunks in UOX_-512.0_-512.01.stream: 100%|██████████| 26138/26138 [06:06<00:00, 71.28chunk/s]] \n",
      "Processing chunks in UOX_-511.99_-512.0.stream: 100%|██████████| 26138/26138 [06:07<00:00, 71.19chunk/s]]\n",
      "Processing chunks in UOX_-512.01_-511.99.stream: 100%|██████████| 26138/26138 [06:07<00:00, 71.13chunk/s] \n",
      "Processing chunks in UOX_-512.01_-512.0.stream: 100%|██████████| 26138/26138 [06:11<00:00, 70.29chunk/s] \n"
     ]
    },
    {
     "name": "stdout",
     "output_type": "stream",
     "text": [
      "Combined metrics CSV written to /home/buster/UOX123/3x3_retry/combined_metrics_IQM_SUM_12_12_10_-12_12_-35_30_13_-12.csv\n",
      "Best results stream file written to /home/buster/UOX123/3x3_retry/best_results_IQM_SUM_12_12_10_-12_12_-35_30_13_-12.stream\n",
      "Writing .sol file from stream: /home/buster/UOX123/3x3_retry/best_results_IQM_SUM_12_12_10_-12_12_-35_30_13_-12.stream\n",
      "Bash script generated: /home/buster/UOX123/3x3_retry/IQM_SUM_12_12_10_-12_12_-35_30_13_-12.sh\n",
      "Running fast integration...\n"
     ]
    },
    {
     "name": "stderr",
     "output_type": "stream",
     "text": [
      "Writing integration output stream: 100%|██████████| 23914/23914 [05:56<00:00, 67.07lines/s]\n"
     ]
    },
    {
     "name": "stdout",
     "output_type": "stream",
     "text": [
      "Integration executed successfully\n",
      "Merging fast integration results...\n",
      "Running partialator for stream file: /home/buster/UOX123/3x3_retry/IQM_SUM_12_12_10_-12_12_-35_30_13_-12/int_rings_3-4-7.stream\n"
     ]
    },
    {
     "name": "stderr",
     "output_type": "stream",
     "text": [
      "Partialator Progress: 100%|██████████| 5/5 [10:05<00:00, 121.06s/Residuals]\n"
     ]
    },
    {
     "name": "stdout",
     "output_type": "stream",
     "text": [
      "Partialator completed for stream file: /home/buster/UOX123/3x3_retry/IQM_SUM_12_12_10_-12_12_-35_30_13_-12/int_rings_3-4-7.stream\n",
      "Converting crystfel.hkl to output.mtz in directory: /home/buster/UOX123/3x3_retry/IQM_SUM_12_12_10_-12_12_-35_30_13_-12/merge_3_iter_int_rings_3-4-7\n",
      "Conversion to output.mtz completed for directory: /home/buster/UOX123/3x3_retry/IQM_SUM_12_12_10_-12_12_-35_30_13_-12/merge_3_iter_int_rings_3-4-7\n",
      "Merging Complete for int_rings_3-4-7\n",
      "Refining fast integration results...\n",
      "Processing folder: /home/buster/UOX123/3x3_retry/IQM_SUM_12_12_10_-12_12_-35_30_13_-12/merge_3_iter_int_rings_3-4-7\n"
     ]
    },
    {
     "name": "stderr",
     "output_type": "stream",
     "text": [
      "Refmac5 CGMAT cycles: 100%|██████████| 30/30 [01:16<00:00,  2.55s/cycle]"
     ]
    },
    {
     "name": "stdout",
     "output_type": "stream",
     "text": [
      "Automation process completed successfully for weights: (12, 12, 10, -12, 12, -35, 30, 13, -12) with a final R factor of 0.1696\n",
      "Evaluating multiple stream files with weights: (12, 12, 10, -12, 12, 5, -10, 13, -12)\n"
     ]
    },
    {
     "name": "stderr",
     "output_type": "stream",
     "text": [
      "\n",
      "Processing chunks in UOX_-512.0_-511.99.stream: 100%|██████████| 26138/26138 [05:45<00:00, 75.64chunk/s]] \n",
      "Processing chunks in UOX_-512_-512.stream: 100%|██████████| 26138/26138 [05:50<00:00, 74.65chunk/s] nk/s] \n",
      "Processing chunks in UOX_-511.99_-512.01.stream: 100%|██████████| 26138/26138 [05:51<00:00, 74.42chunk/s] \n",
      "Processing chunks in UOX_-511.99_-511.99.stream: 100%|██████████| 26138/26138 [05:51<00:00, 74.34chunk/s] \n",
      "Processing chunks in UOX_-512.01_-512.01.stream: 100%|██████████| 26138/26138 [05:52<00:00, 74.21chunk/s] \n",
      "Processing chunks in UOX_-512.0_-512.01.stream: 100%|██████████| 26138/26138 [05:52<00:00, 74.09chunk/s]]]\n",
      "Processing chunks in UOX_-512.01_-511.99.stream: 100%|██████████| 26138/26138 [05:53<00:00, 74.01chunk/s] \n",
      "Processing chunks in UOX_-511.99_-512.0.stream: 100%|██████████| 26138/26138 [05:53<00:00, 73.93chunk/s] \n",
      "Processing chunks in UOX_-512.01_-512.0.stream: 100%|██████████| 26138/26138 [05:57<00:00, 73.15chunk/s] \n"
     ]
    },
    {
     "name": "stdout",
     "output_type": "stream",
     "text": [
      "Combined metrics CSV written to /home/buster/UOX123/3x3_retry/combined_metrics_IQM_SUM_12_12_10_-12_12_5_-10_13_-12.csv\n",
      "Best results stream file written to /home/buster/UOX123/3x3_retry/best_results_IQM_SUM_12_12_10_-12_12_5_-10_13_-12.stream\n",
      "Writing .sol file from stream: /home/buster/UOX123/3x3_retry/best_results_IQM_SUM_12_12_10_-12_12_5_-10_13_-12.stream\n",
      "Bash script generated: /home/buster/UOX123/3x3_retry/IQM_SUM_12_12_10_-12_12_5_-10_13_-12.sh\n",
      "Running fast integration...\n"
     ]
    },
    {
     "name": "stderr",
     "output_type": "stream",
     "text": [
      "Writing integration output stream: 100%|██████████| 23914/23914 [05:41<00:00, 69.95lines/s]\n"
     ]
    },
    {
     "name": "stdout",
     "output_type": "stream",
     "text": [
      "Integration executed successfully\n",
      "Merging fast integration results...\n",
      "Running partialator for stream file: /home/buster/UOX123/3x3_retry/IQM_SUM_12_12_10_-12_12_5_-10_13_-12/int_rings_3-4-7.stream\n"
     ]
    },
    {
     "name": "stderr",
     "output_type": "stream",
     "text": [
      "Partialator Progress: 100%|██████████| 5/5 [10:14<00:00, 122.86s/Residuals]\n"
     ]
    },
    {
     "name": "stdout",
     "output_type": "stream",
     "text": [
      "Partialator completed for stream file: /home/buster/UOX123/3x3_retry/IQM_SUM_12_12_10_-12_12_5_-10_13_-12/int_rings_3-4-7.stream\n",
      "Converting crystfel.hkl to output.mtz in directory: /home/buster/UOX123/3x3_retry/IQM_SUM_12_12_10_-12_12_5_-10_13_-12/merge_3_iter_int_rings_3-4-7\n",
      "Conversion to output.mtz completed for directory: /home/buster/UOX123/3x3_retry/IQM_SUM_12_12_10_-12_12_5_-10_13_-12/merge_3_iter_int_rings_3-4-7\n",
      "Merging Complete for int_rings_3-4-7\n",
      "Refining fast integration results...\n",
      "Processing folder: /home/buster/UOX123/3x3_retry/IQM_SUM_12_12_10_-12_12_5_-10_13_-12/merge_3_iter_int_rings_3-4-7\n"
     ]
    },
    {
     "name": "stderr",
     "output_type": "stream",
     "text": [
      "Refmac5 CGMAT cycles: 100%|██████████| 30/30 [01:11<00:00,  2.40s/cycle]"
     ]
    },
    {
     "name": "stdout",
     "output_type": "stream",
     "text": [
      "Automation process completed successfully for weights: (12, 12, 10, -12, 12, 5, -10, 13, -12) with a final R factor of 0.1691\n",
      "Evaluating multiple stream files with weights: (12, 12, 10, -12, 12, -35, -10, 13, -12)\n"
     ]
    },
    {
     "name": "stderr",
     "output_type": "stream",
     "text": [
      "\n",
      "Processing chunks in UOX_-512.0_-511.99.stream: 100%|██████████| 26138/26138 [05:47<00:00, 75.16chunk/s]]]\n",
      "Processing chunks in UOX_-511.99_-512.01.stream: 100%|██████████| 26138/26138 [05:52<00:00, 74.16chunk/s]]\n",
      "Processing chunks in UOX_-511.99_-511.99.stream: 100%|██████████| 26138/26138 [05:54<00:00, 73.65chunk/s] \n",
      "Processing chunks in UOX_-512.01_-512.01.stream: 100%|██████████| 26138/26138 [05:54<00:00, 73.65chunk/s] \n",
      "Processing chunks in UOX_-512.01_-511.99.stream: 100%|██████████| 26138/26138 [05:57<00:00, 73.16chunk/s] \n",
      "Processing chunks in UOX_-512_-512.stream: 100%|██████████| 26138/26138 [05:37<00:00, 77.42chunk/s] nk/s]\n",
      "Processing chunks in UOX_-512.0_-512.01.stream: 100%|██████████| 26138/26138 [05:40<00:00, 76.81chunk/s] \n",
      "Processing chunks in UOX_-511.99_-512.0.stream: 100%|██████████| 26138/26138 [05:40<00:00, 76.73chunk/s] \n",
      "Processing chunks in UOX_-512.01_-512.0.stream: 100%|██████████| 26138/26138 [05:44<00:00, 75.94chunk/s] \n"
     ]
    },
    {
     "name": "stdout",
     "output_type": "stream",
     "text": [
      "Combined metrics CSV written to /home/buster/UOX123/3x3_retry/combined_metrics_IQM_SUM_12_12_10_-12_12_-35_-10_13_-12.csv\n",
      "Best results stream file written to /home/buster/UOX123/3x3_retry/best_results_IQM_SUM_12_12_10_-12_12_-35_-10_13_-12.stream\n",
      "Writing .sol file from stream: /home/buster/UOX123/3x3_retry/best_results_IQM_SUM_12_12_10_-12_12_-35_-10_13_-12.stream\n",
      "Bash script generated: /home/buster/UOX123/3x3_retry/IQM_SUM_12_12_10_-12_12_-35_-10_13_-12.sh\n",
      "Running fast integration...\n"
     ]
    },
    {
     "name": "stderr",
     "output_type": "stream",
     "text": [
      "Writing integration output stream: 100%|██████████| 23914/23914 [05:38<00:00, 70.62lines/s]\n"
     ]
    },
    {
     "name": "stdout",
     "output_type": "stream",
     "text": [
      "Integration executed successfully\n",
      "Merging fast integration results...\n",
      "Running partialator for stream file: /home/buster/UOX123/3x3_retry/IQM_SUM_12_12_10_-12_12_-35_-10_13_-12/int_rings_3-4-7.stream\n"
     ]
    },
    {
     "name": "stderr",
     "output_type": "stream",
     "text": [
      "Partialator Progress: 100%|██████████| 5/5 [09:48<00:00, 117.65s/Residuals]\n"
     ]
    },
    {
     "name": "stdout",
     "output_type": "stream",
     "text": [
      "Partialator completed for stream file: /home/buster/UOX123/3x3_retry/IQM_SUM_12_12_10_-12_12_-35_-10_13_-12/int_rings_3-4-7.stream\n",
      "Converting crystfel.hkl to output.mtz in directory: /home/buster/UOX123/3x3_retry/IQM_SUM_12_12_10_-12_12_-35_-10_13_-12/merge_3_iter_int_rings_3-4-7\n",
      "Conversion to output.mtz completed for directory: /home/buster/UOX123/3x3_retry/IQM_SUM_12_12_10_-12_12_-35_-10_13_-12/merge_3_iter_int_rings_3-4-7\n",
      "Merging Complete for int_rings_3-4-7\n",
      "Refining fast integration results...\n",
      "Processing folder: /home/buster/UOX123/3x3_retry/IQM_SUM_12_12_10_-12_12_-35_-10_13_-12/merge_3_iter_int_rings_3-4-7\n"
     ]
    },
    {
     "name": "stderr",
     "output_type": "stream",
     "text": [
      "Refmac5 CGMAT cycles: 100%|██████████| 30/30 [01:11<00:00,  2.40s/cycle]"
     ]
    },
    {
     "name": "stdout",
     "output_type": "stream",
     "text": [
      "Automation process completed successfully for weights: (12, 12, 10, -12, 12, -35, -10, 13, -12) with a final R factor of 0.1694\n",
      "Evaluating multiple stream files with weights: (12, 12, 10, -12, 12, 5, 30, 13, -12)\n"
     ]
    },
    {
     "name": "stderr",
     "output_type": "stream",
     "text": [
      "\n",
      "Processing chunks in UOX_-511.99_-512.01.stream: 100%|██████████| 26138/26138 [07:10<00:00, 60.76chunk/s]  \n",
      "Processing chunks in UOX_-512.0_-511.99.stream: 100%|██████████| 26138/26138 [05:39<00:00, 76.94chunk/s]] \n",
      "Processing chunks in UOX_-512.01_-512.01.stream: 100%|██████████| 26138/26138 [05:45<00:00, 75.59chunk/s] \n",
      "Processing chunks in UOX_-512_-512.stream: 100%|██████████| 26138/26138 [05:42<00:00, 76.20chunk/s]nk/s] \n",
      "Processing chunks in UOX_-512.0_-512.01.stream: 100%|██████████| 26138/26138 [05:43<00:00, 76.04chunk/s]]\n",
      "Processing chunks in UOX_-511.99_-512.0.stream: 100%|██████████| 26138/26138 [05:46<00:00, 75.42chunk/s]] \n",
      "Processing chunks in UOX_-512.01_-511.99.stream: 100%|██████████| 26138/26138 [05:47<00:00, 75.28chunk/s] \n",
      "Processing chunks in UOX_-511.99_-511.99.stream: 100%|██████████| 26138/26138 [05:47<00:00, 75.24chunk/s]\n",
      "Processing chunks in UOX_-512.01_-512.0.stream: 100%|██████████| 26138/26138 [05:49<00:00, 74.75chunk/s] \n"
     ]
    },
    {
     "name": "stdout",
     "output_type": "stream",
     "text": [
      "Combined metrics CSV written to /home/buster/UOX123/3x3_retry/combined_metrics_IQM_SUM_12_12_10_-12_12_5_30_13_-12.csv\n",
      "Best results stream file written to /home/buster/UOX123/3x3_retry/best_results_IQM_SUM_12_12_10_-12_12_5_30_13_-12.stream\n",
      "Writing .sol file from stream: /home/buster/UOX123/3x3_retry/best_results_IQM_SUM_12_12_10_-12_12_5_30_13_-12.stream\n",
      "Bash script generated: /home/buster/UOX123/3x3_retry/IQM_SUM_12_12_10_-12_12_5_30_13_-12.sh\n",
      "Running fast integration...\n"
     ]
    },
    {
     "name": "stderr",
     "output_type": "stream",
     "text": [
      "Writing integration output stream: 100%|██████████| 23914/23914 [05:41<00:00, 70.11lines/s]\n"
     ]
    },
    {
     "name": "stdout",
     "output_type": "stream",
     "text": [
      "Integration executed successfully\n",
      "Merging fast integration results...\n",
      "Running partialator for stream file: /home/buster/UOX123/3x3_retry/IQM_SUM_12_12_10_-12_12_5_30_13_-12/int_rings_3-4-7.stream\n"
     ]
    },
    {
     "name": "stderr",
     "output_type": "stream",
     "text": [
      "Partialator Progress: 100%|██████████| 5/5 [09:48<00:00, 117.65s/Residuals]\n"
     ]
    },
    {
     "name": "stdout",
     "output_type": "stream",
     "text": [
      "Partialator completed for stream file: /home/buster/UOX123/3x3_retry/IQM_SUM_12_12_10_-12_12_5_30_13_-12/int_rings_3-4-7.stream\n",
      "Converting crystfel.hkl to output.mtz in directory: /home/buster/UOX123/3x3_retry/IQM_SUM_12_12_10_-12_12_5_30_13_-12/merge_3_iter_int_rings_3-4-7\n",
      "Conversion to output.mtz completed for directory: /home/buster/UOX123/3x3_retry/IQM_SUM_12_12_10_-12_12_5_30_13_-12/merge_3_iter_int_rings_3-4-7\n",
      "Merging Complete for int_rings_3-4-7\n",
      "Refining fast integration results...\n",
      "Processing folder: /home/buster/UOX123/3x3_retry/IQM_SUM_12_12_10_-12_12_5_30_13_-12/merge_3_iter_int_rings_3-4-7\n"
     ]
    },
    {
     "name": "stderr",
     "output_type": "stream",
     "text": [
      "Refmac5 CGMAT cycles: 100%|██████████| 30/30 [01:12<00:00,  2.41s/cycle]"
     ]
    },
    {
     "name": "stdout",
     "output_type": "stream",
     "text": [
      "Automation process completed successfully for weights: (12, 12, 10, -12, 12, 5, 30, 13, -12) with a final R factor of 0.1699\n",
      "Evaluating multiple stream files with weights: (12, 12, 10, -32, 32, -35, 30, 13, -12)\n"
     ]
    },
    {
     "name": "stderr",
     "output_type": "stream",
     "text": [
      "\n",
      "Processing chunks in UOX_-512.0_-512.01.stream: 100%|██████████| 26138/26138 [06:21<00:00, 68.48chunk/s]] \n",
      "Processing chunks in UOX_-512.01_-511.99.stream: 100%|██████████| 26138/26138 [06:22<00:00, 68.28chunk/s] \n",
      "Processing chunks in UOX_-512.0_-511.99.stream: 100%|██████████| 26138/26138 [05:41<00:00, 76.45chunk/s]]\n",
      "Processing chunks in UOX_-511.99_-512.0.stream: 100%|██████████| 26138/26138 [06:23<00:00, 68.23chunk/s]] \n",
      "Processing chunks in UOX_-512_-512.stream: 100%|██████████| 26138/26138 [05:47<00:00, 75.18chunk/s] unk/s]\n",
      "Processing chunks in UOX_-512.01_-512.01.stream: 100%|██████████| 26138/26138 [05:48<00:00, 75.04chunk/s] \n",
      "Processing chunks in UOX_-511.99_-512.01.stream: 100%|██████████| 26138/26138 [05:48<00:00, 75.07chunk/s] \n",
      "Processing chunks in UOX_-512.01_-512.0.stream: 100%|██████████| 26138/26138 [06:26<00:00, 67.65chunk/s]  \n",
      "Processing chunks in UOX_-511.99_-511.99.stream: 100%|██████████| 26138/26138 [05:51<00:00, 74.44chunk/s] \n"
     ]
    },
    {
     "name": "stdout",
     "output_type": "stream",
     "text": [
      "Combined metrics CSV written to /home/buster/UOX123/3x3_retry/combined_metrics_IQM_SUM_12_12_10_-32_32_-35_30_13_-12.csv\n",
      "Best results stream file written to /home/buster/UOX123/3x3_retry/best_results_IQM_SUM_12_12_10_-32_32_-35_30_13_-12.stream\n",
      "Writing .sol file from stream: /home/buster/UOX123/3x3_retry/best_results_IQM_SUM_12_12_10_-32_32_-35_30_13_-12.stream\n",
      "Bash script generated: /home/buster/UOX123/3x3_retry/IQM_SUM_12_12_10_-32_32_-35_30_13_-12.sh\n",
      "Running fast integration...\n"
     ]
    },
    {
     "name": "stderr",
     "output_type": "stream",
     "text": [
      "Writing integration output stream: 100%|██████████| 23914/23914 [05:38<00:00, 70.62lines/s]\n"
     ]
    },
    {
     "name": "stdout",
     "output_type": "stream",
     "text": [
      "Integration executed successfully\n",
      "Merging fast integration results...\n",
      "Running partialator for stream file: /home/buster/UOX123/3x3_retry/IQM_SUM_12_12_10_-32_32_-35_30_13_-12/int_rings_3-4-7.stream\n"
     ]
    },
    {
     "name": "stderr",
     "output_type": "stream",
     "text": [
      "Partialator Progress: 100%|██████████| 5/5 [10:34<00:00, 126.89s/Residuals]\n"
     ]
    },
    {
     "name": "stdout",
     "output_type": "stream",
     "text": [
      "Partialator completed for stream file: /home/buster/UOX123/3x3_retry/IQM_SUM_12_12_10_-32_32_-35_30_13_-12/int_rings_3-4-7.stream\n",
      "Converting crystfel.hkl to output.mtz in directory: /home/buster/UOX123/3x3_retry/IQM_SUM_12_12_10_-32_32_-35_30_13_-12/merge_3_iter_int_rings_3-4-7\n",
      "Conversion to output.mtz completed for directory: /home/buster/UOX123/3x3_retry/IQM_SUM_12_12_10_-32_32_-35_30_13_-12/merge_3_iter_int_rings_3-4-7\n",
      "Merging Complete for int_rings_3-4-7\n",
      "Refining fast integration results...\n",
      "Processing folder: /home/buster/UOX123/3x3_retry/IQM_SUM_12_12_10_-32_32_-35_30_13_-12/merge_3_iter_int_rings_3-4-7\n"
     ]
    },
    {
     "name": "stderr",
     "output_type": "stream",
     "text": [
      "Refmac5 CGMAT cycles: 100%|██████████| 30/30 [01:13<00:00,  2.46s/cycle]"
     ]
    },
    {
     "name": "stdout",
     "output_type": "stream",
     "text": [
      "Automation process completed successfully for weights: (12, 12, 10, -32, 32, -35, 30, 13, -12) with a final R factor of 0.1712\n",
      "Evaluating multiple stream files with weights: (12, 12, 10, 8, -8, 5, -10, 13, -12)\n"
     ]
    },
    {
     "name": "stderr",
     "output_type": "stream",
     "text": [
      "\n",
      "Processing chunks in UOX_-512.0_-511.99.stream: 100%|██████████| 26138/26138 [05:42<00:00, 76.26chunk/s]s]\n",
      "Processing chunks in UOX_-511.99_-512.01.stream: 100%|██████████| 26138/26138 [05:46<00:00, 75.39chunk/s] \n",
      "Processing chunks in UOX_-512_-512.stream: 100%|██████████| 26138/26138 [05:47<00:00, 75.16chunk/s] k/s]]\n",
      "Processing chunks in UOX_-512.0_-512.01.stream: 100%|██████████| 26138/26138 [05:49<00:00, 74.83chunk/s]]]\n",
      "Processing chunks in UOX_-512.01_-512.01.stream: 100%|██████████| 26138/26138 [05:49<00:00, 74.86chunk/s] \n",
      "Processing chunks in UOX_-511.99_-512.0.stream: 100%|██████████| 26138/26138 [05:50<00:00, 74.51chunk/s]] \n",
      "Processing chunks in UOX_-511.99_-511.99.stream: 100%|██████████| 26138/26138 [05:49<00:00, 74.75chunk/s] \n",
      "Processing chunks in UOX_-512.01_-511.99.stream: 100%|██████████| 26138/26138 [05:50<00:00, 74.60chunk/s] \n",
      "Processing chunks in UOX_-512.01_-512.0.stream: 100%|██████████| 26138/26138 [05:53<00:00, 73.85chunk/s] \n"
     ]
    },
    {
     "name": "stdout",
     "output_type": "stream",
     "text": [
      "Combined metrics CSV written to /home/buster/UOX123/3x3_retry/combined_metrics_IQM_SUM_12_12_10_8_-8_5_-10_13_-12.csv\n",
      "Best results stream file written to /home/buster/UOX123/3x3_retry/best_results_IQM_SUM_12_12_10_8_-8_5_-10_13_-12.stream\n",
      "Writing .sol file from stream: /home/buster/UOX123/3x3_retry/best_results_IQM_SUM_12_12_10_8_-8_5_-10_13_-12.stream\n",
      "Bash script generated: /home/buster/UOX123/3x3_retry/IQM_SUM_12_12_10_8_-8_5_-10_13_-12.sh\n",
      "Running fast integration...\n"
     ]
    },
    {
     "name": "stderr",
     "output_type": "stream",
     "text": [
      "Writing integration output stream: 100%|██████████| 23914/23914 [05:40<00:00, 70.25lines/s]\n"
     ]
    },
    {
     "name": "stdout",
     "output_type": "stream",
     "text": [
      "Integration executed successfully\n",
      "Merging fast integration results...\n",
      "Running partialator for stream file: /home/buster/UOX123/3x3_retry/IQM_SUM_12_12_10_8_-8_5_-10_13_-12/int_rings_3-4-7.stream\n"
     ]
    },
    {
     "name": "stderr",
     "output_type": "stream",
     "text": [
      "Partialator Progress: 100%|██████████| 5/5 [10:41<00:00, 128.21s/Residuals]\n"
     ]
    },
    {
     "name": "stdout",
     "output_type": "stream",
     "text": [
      "Partialator completed for stream file: /home/buster/UOX123/3x3_retry/IQM_SUM_12_12_10_8_-8_5_-10_13_-12/int_rings_3-4-7.stream\n",
      "Converting crystfel.hkl to output.mtz in directory: /home/buster/UOX123/3x3_retry/IQM_SUM_12_12_10_8_-8_5_-10_13_-12/merge_3_iter_int_rings_3-4-7\n",
      "Conversion to output.mtz completed for directory: /home/buster/UOX123/3x3_retry/IQM_SUM_12_12_10_8_-8_5_-10_13_-12/merge_3_iter_int_rings_3-4-7\n",
      "Merging Complete for int_rings_3-4-7\n",
      "Refining fast integration results...\n",
      "Processing folder: /home/buster/UOX123/3x3_retry/IQM_SUM_12_12_10_8_-8_5_-10_13_-12/merge_3_iter_int_rings_3-4-7\n"
     ]
    },
    {
     "name": "stderr",
     "output_type": "stream",
     "text": [
      "Refmac5 CGMAT cycles: 100%|██████████| 30/30 [01:11<00:00,  2.39s/cycle]"
     ]
    },
    {
     "name": "stdout",
     "output_type": "stream",
     "text": [
      "Automation process completed successfully for weights: (12, 12, 10, 8, -8, 5, -10, 13, -12) with a final R factor of 0.1698\n",
      "Evaluating multiple stream files with weights: (12, 12, 10, -32, -8, -35, -10, 13, -12)\n"
     ]
    },
    {
     "name": "stderr",
     "output_type": "stream",
     "text": [
      "\n",
      "Processing chunks in UOX_-512.0_-511.99.stream: 100%|██████████| 26138/26138 [05:41<00:00, 76.62chunk/s]] \n",
      "Processing chunks in UOX_-511.99_-512.01.stream: 100%|██████████| 26138/26138 [05:48<00:00, 74.91chunk/s] \n",
      "Processing chunks in UOX_-512.0_-512.01.stream: 100%|██████████| 26138/26138 [05:47<00:00, 75.11chunk/s]] \n",
      "Processing chunks in UOX_-512_-512.stream: 100%|██████████| 26138/26138 [05:48<00:00, 75.08chunk/s]unk/s]\n",
      "Processing chunks in UOX_-512.01_-512.01.stream: 100%|██████████| 26138/26138 [05:49<00:00, 74.78chunk/s] \n",
      "Processing chunks in UOX_-511.99_-511.99.stream: 100%|██████████| 26138/26138 [05:51<00:00, 74.37chunk/s] \n",
      "Processing chunks in UOX_-512.01_-511.99.stream: 100%|██████████| 26138/26138 [05:51<00:00, 74.26chunk/s] \n",
      "Processing chunks in UOX_-511.99_-512.0.stream: 100%|██████████| 26138/26138 [05:51<00:00, 74.41chunk/s]]\n",
      "Processing chunks in UOX_-512.01_-512.0.stream: 100%|██████████| 26138/26138 [05:54<00:00, 73.79chunk/s] \n"
     ]
    },
    {
     "name": "stdout",
     "output_type": "stream",
     "text": [
      "Combined metrics CSV written to /home/buster/UOX123/3x3_retry/combined_metrics_IQM_SUM_12_12_10_-32_-8_-35_-10_13_-12.csv\n",
      "Best results stream file written to /home/buster/UOX123/3x3_retry/best_results_IQM_SUM_12_12_10_-32_-8_-35_-10_13_-12.stream\n",
      "Writing .sol file from stream: /home/buster/UOX123/3x3_retry/best_results_IQM_SUM_12_12_10_-32_-8_-35_-10_13_-12.stream\n",
      "Bash script generated: /home/buster/UOX123/3x3_retry/IQM_SUM_12_12_10_-32_-8_-35_-10_13_-12.sh\n",
      "Running fast integration...\n"
     ]
    },
    {
     "name": "stderr",
     "output_type": "stream",
     "text": [
      "Writing integration output stream: 100%|██████████| 23914/23914 [05:43<00:00, 69.61lines/s]\n"
     ]
    },
    {
     "name": "stdout",
     "output_type": "stream",
     "text": [
      "Integration executed successfully\n",
      "Merging fast integration results...\n",
      "Running partialator for stream file: /home/buster/UOX123/3x3_retry/IQM_SUM_12_12_10_-32_-8_-35_-10_13_-12/int_rings_3-4-7.stream\n"
     ]
    },
    {
     "name": "stderr",
     "output_type": "stream",
     "text": [
      "Partialator Progress: 100%|██████████| 5/5 [10:28<00:00, 125.68s/Residuals]\n"
     ]
    },
    {
     "name": "stdout",
     "output_type": "stream",
     "text": [
      "Partialator completed for stream file: /home/buster/UOX123/3x3_retry/IQM_SUM_12_12_10_-32_-8_-35_-10_13_-12/int_rings_3-4-7.stream\n",
      "Converting crystfel.hkl to output.mtz in directory: /home/buster/UOX123/3x3_retry/IQM_SUM_12_12_10_-32_-8_-35_-10_13_-12/merge_3_iter_int_rings_3-4-7\n",
      "Conversion to output.mtz completed for directory: /home/buster/UOX123/3x3_retry/IQM_SUM_12_12_10_-32_-8_-35_-10_13_-12/merge_3_iter_int_rings_3-4-7\n",
      "Merging Complete for int_rings_3-4-7\n",
      "Refining fast integration results...\n",
      "Processing folder: /home/buster/UOX123/3x3_retry/IQM_SUM_12_12_10_-32_-8_-35_-10_13_-12/merge_3_iter_int_rings_3-4-7\n"
     ]
    },
    {
     "name": "stderr",
     "output_type": "stream",
     "text": [
      "Refmac5 CGMAT cycles: 100%|██████████| 30/30 [01:11<00:00,  2.38s/cycle]"
     ]
    },
    {
     "name": "stdout",
     "output_type": "stream",
     "text": [
      "Automation process completed successfully for weights: (12, 12, 10, -32, -8, -35, -10, 13, -12) with a final R factor of 0.1709\n",
      "Evaluating multiple stream files with weights: (12, 12, 10, 8, 32, 5, 30, 13, -12)\n"
     ]
    },
    {
     "name": "stderr",
     "output_type": "stream",
     "text": [
      "\n",
      "Processing chunks in UOX_-511.99_-512.01.stream: 100%|██████████| 26138/26138 [06:00<00:00, 72.47chunk/s]]\n",
      "Processing chunks in UOX_-512.01_-512.01.stream: 100%|██████████| 26138/26138 [06:02<00:00, 72.16chunk/s] \n",
      "Processing chunks in UOX_-512_-512.stream: 100%|██████████| 26138/26138 [06:02<00:00, 72.14chunk/s]nk/s]] \n",
      "Processing chunks in UOX_-511.99_-511.99.stream: 100%|██████████| 26138/26138 [06:02<00:00, 72.01chunk/s]\n",
      "Processing chunks in UOX_-512.0_-511.99.stream: 100%|██████████| 26138/26138 [05:48<00:00, 74.93chunk/s]s]\n",
      "Processing chunks in UOX_-512.01_-511.99.stream: 100%|██████████| 26138/26138 [06:04<00:00, 71.72chunk/s] \n",
      "Processing chunks in UOX_-512.0_-512.01.stream: 100%|██████████| 26138/26138 [05:54<00:00, 73.81chunk/s] \n",
      "Processing chunks in UOX_-511.99_-512.0.stream: 100%|██████████| 26138/26138 [06:11<00:00, 70.31chunk/s]\n",
      "Processing chunks in UOX_-512.01_-512.0.stream: 100%|██████████| 26138/26138 [06:00<00:00, 72.46chunk/s] \n"
     ]
    },
    {
     "name": "stdout",
     "output_type": "stream",
     "text": [
      "Combined metrics CSV written to /home/buster/UOX123/3x3_retry/combined_metrics_IQM_SUM_12_12_10_8_32_5_30_13_-12.csv\n",
      "Best results stream file written to /home/buster/UOX123/3x3_retry/best_results_IQM_SUM_12_12_10_8_32_5_30_13_-12.stream\n",
      "Writing .sol file from stream: /home/buster/UOX123/3x3_retry/best_results_IQM_SUM_12_12_10_8_32_5_30_13_-12.stream\n",
      "Bash script generated: /home/buster/UOX123/3x3_retry/IQM_SUM_12_12_10_8_32_5_30_13_-12.sh\n",
      "Running fast integration...\n"
     ]
    },
    {
     "name": "stderr",
     "output_type": "stream",
     "text": [
      "Writing integration output stream: 100%|██████████| 23914/23914 [05:41<00:00, 70.07lines/s]\n"
     ]
    },
    {
     "name": "stdout",
     "output_type": "stream",
     "text": [
      "Integration executed successfully\n",
      "Merging fast integration results...\n",
      "Running partialator for stream file: /home/buster/UOX123/3x3_retry/IQM_SUM_12_12_10_8_32_5_30_13_-12/int_rings_3-4-7.stream\n"
     ]
    },
    {
     "name": "stderr",
     "output_type": "stream",
     "text": [
      "Partialator Progress: 100%|██████████| 5/5 [09:51<00:00, 118.26s/Residuals]\n"
     ]
    },
    {
     "name": "stdout",
     "output_type": "stream",
     "text": [
      "Partialator completed for stream file: /home/buster/UOX123/3x3_retry/IQM_SUM_12_12_10_8_32_5_30_13_-12/int_rings_3-4-7.stream\n",
      "Converting crystfel.hkl to output.mtz in directory: /home/buster/UOX123/3x3_retry/IQM_SUM_12_12_10_8_32_5_30_13_-12/merge_3_iter_int_rings_3-4-7\n",
      "Conversion to output.mtz completed for directory: /home/buster/UOX123/3x3_retry/IQM_SUM_12_12_10_8_32_5_30_13_-12/merge_3_iter_int_rings_3-4-7\n",
      "Merging Complete for int_rings_3-4-7\n",
      "Refining fast integration results...\n",
      "Processing folder: /home/buster/UOX123/3x3_retry/IQM_SUM_12_12_10_8_32_5_30_13_-12/merge_3_iter_int_rings_3-4-7\n"
     ]
    },
    {
     "name": "stderr",
     "output_type": "stream",
     "text": [
      "Refmac5 CGMAT cycles: 100%|██████████| 30/30 [01:12<00:00,  2.43s/cycle]"
     ]
    },
    {
     "name": "stdout",
     "output_type": "stream",
     "text": [
      "Automation process completed successfully for weights: (12, 12, 10, 8, 32, 5, 30, 13, -12) with a final R factor of 0.1705\n"
     ]
    },
    {
     "name": "stderr",
     "output_type": "stream",
     "text": [
      "\n"
     ]
    }
   ],
   "source": [
    "from find_first_file import find_first_file\n",
    "from automate_evaluation_and_integration import automate_evaluation_and_integration\n",
    "\n",
    "stream_file_folder = \"/home/buster/UOX123/3x3_retry\"\n",
    "cellfile_path = find_first_file(stream_file_folder, \".cell\")\n",
    "pdb_file = find_first_file(stream_file_folder, \".pdb\")\n",
    "\n",
    "weights_list = [\n",
    "    (12, 12, 10, -32, 12, -15, 10, 13, -12),  # Penalize Metric 4 (-20)\n",
    "    (12, 12, 10, 8, 12, -15, 10, 13, -12),    # Lessen penalty for Metric 4 (+20)\n",
    "    (12, 12, 10, -12, 32, -15, 10, 13, -12),  # Increase Metric 5 (+20)\n",
    "    (12, 12, 10, -12, -8, -15, 10, 13, -12),  # Penalize Metric 5 (-20)\n",
    "    (12, 12, 10, -12, 12, 5, 10, 13, -12),    # Lessen penalty for Metric 6 (+20)\n",
    "    (12, 12, 10, -12, 12, -35, 10, 13, -12),  # Penalize Metric 6 (-20)\n",
    "    (12, 12, 10, -12, 12, -15, 30, 13, -12),  # Increase Metric 7 (+20)\n",
    "    (12, 12, 10, -12, 12, -15, -10, 13, -12), # Penalize Metric 7 (-20)\n",
    "\n",
    "    (12, 12, 10, -32, 32, -15, 10, 13, -12),  # Penalize Metric 4 (-20), Increase Metric 5 (+20)\n",
    "    (12, 12, 10, 8, -8, -15, 10, 13, -12),    # Lessen penalty for Metric 4 (+20), Penalize Metric 5 (-20)\n",
    "    (12, 12, 10, -32, -8, -15, 10, 13, -12),  # Penalize both Metric 4 and Metric 5 (-20)\n",
    "    (12, 12, 10, 8, 32, -15, 10, 13, -12), \n",
    "\n",
    "    (12, 12, 10, -12, 12, -35, 30, 13, -12),  # Penalize Metric 6 (-20), Increase Metric 7 (+20)\n",
    "    (12, 12, 10, -12, 12, 5, -10, 13, -12),   # Lessen penalty for Metric 6 (+20), Penalize Metric 7 (-20)\n",
    "    (12, 12, 10, -12, 12, -35, -10, 13, -12), # Penalize both Metric 6 and Metric 7 (-20)\n",
    "    (12, 12, 10, -12, 12, 5, 30, 13, -12),  \n",
    "\n",
    "    (12, 12, 10, -32, 32, -35, 30, 13, -12),  # Penalize 4 & 6 (-20), Increase 5 & 7 (+20)\n",
    "    (12, 12, 10, 8, -8, 5, -10, 13, -12),     # Lessen penalty for 4 & 6 (+20), Penalize 5 & 7 (-20)\n",
    "    (12, 12, 10, -32, -8, -35, -10, 13, -12), # Penalize both pairs 4,5 and 6,7 (-20)\n",
    "    (12, 12, 10, 8, 32, 5, 30, 13, -12)    # Increase both pairs 4,5 and 6,7 (+20)\n",
    "]\n",
    "\n",
    "\n",
    "\n",
    "lattice = \"oI\"  # Pearson Symbol read from .cell file first letter for lattice type and second for centering\n",
    "ring_size = [(3, 4, 7)]\n",
    "pointgroup = \"mmm\"\n",
    "num_threads = 23\n",
    "bins = 20\n",
    "min_res = 1.5\n",
    "iterations = 3\n",
    "\n",
    "automate_evaluation_and_integration(stream_file_folder, weights_list, lattice, ring_size, cellfile_path, pointgroup, num_threads, bins, pdb_file, min_res, iterations)\n"
   ]
  }
 ],
 "metadata": {
  "kernelspec": {
   "display_name": "diffractem_env",
   "language": "python",
   "name": "python3"
  },
  "language_info": {
   "codemirror_mode": {
    "name": "ipython",
    "version": 3
   },
   "file_extension": ".py",
   "mimetype": "text/x-python",
   "name": "python",
   "nbconvert_exporter": "python",
   "pygments_lexer": "ipython3",
   "version": "3.10.14"
  }
 },
 "nbformat": 4,
 "nbformat_minor": 2
}
