{
 "cells": [
  {
   "cell_type": "code",
   "execution_count": null,
   "metadata": {},
   "outputs": [],
   "source": [
    "from find_first_file import find_first_file\n",
    "from automate_evaluation_and_integration import automate_evaluation_and_integration\n",
    "\n",
    "stream_file_folder = \"/home/buster/UOX1/different_index_params/5x5_retry\"\n",
    "cellfile_path = find_first_file(stream_file_folder, \".cell\")\n",
    "pdb_file = find_first_file(stream_file_folder, \".pdb\")\n",
    "weights_list = [(1, 2, 3, -1, 1, -1, -1, 1),\n",
    "                (1, 2, 3, -1, 1, -1, 0, 1),\n",
    "                (1, 2, 3, -1, 1, -1, 1, 1),\n",
    "                (1, 2, 3, -1, 1, 0, -1, 1),\n",
    "                (1, 2, 3, -1, 1, 0, 0, 1),\n",
    "                (1, 2, 3, -1, 1, 0, 1, 1),\n",
    "                (1, 2, 3, -1, 1, 1, -1, 1),\n",
    "                (1, 2, 3, -1, 1, 1, 0, 1),\n",
    "                (1, 2, 3, -1, 1, 1, 1, 1),\n",
    "                ] # wrmsd,cld,cad,np,nr,pres,dres,pr\n",
    "lattice = \"oI\"  # Pearson Symbol read from .cell file first letter for lattice type and second for centering\n",
    "ring_size = [(3, 4, 7)]\n",
    "pointgroup = \"mmm\"\n",
    "num_threads = 23\n",
    "bins = 20\n",
    "min_res = 1.5\n",
    "iterations = 3\n",
    "\n",
    "automate_evaluation_and_integration(stream_file_folder, weights_list, lattice, ring_size, cellfile_path, pointgroup, num_threads, bins, pdb_file, min_res, iterations)\n"
   ]
  }
 ],
 "metadata": {
  "language_info": {
   "name": "python"
  }
 },
 "nbformat": 4,
 "nbformat_minor": 2
}
