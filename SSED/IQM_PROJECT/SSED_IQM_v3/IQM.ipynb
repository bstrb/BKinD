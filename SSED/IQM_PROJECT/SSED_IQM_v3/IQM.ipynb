{
 "cells": [
  {
   "cell_type": "code",
   "execution_count": 1,
   "metadata": {},
   "outputs": [
    {
     "name": "stdout",
     "output_type": "stream",
     "text": [
      "Evaluating multiple stream files with weights: (12, 12, 10, -12, 12, -15, 10, 13, -13)\n"
     ]
    },
    {
     "name": "stderr",
     "output_type": "stream",
     "text": [
      "Processing chunks in UOX_no_bg_SLL_-511.99_-512.0.stream: 100%|██████████| 5149/5149 [01:16<00:00, 66.99chunk/s]] \n",
      "Processing chunks in UOX_no_bg_SLL_-512.01_-512.0.stream: 100%|██████████| 5149/5149 [01:17<00:00, 66.87chunk/s]]\n",
      "Processing chunks in UOX_no_bg_SLL_-512.0_-512.01.stream: 100%|██████████| 5149/5149 [01:17<00:00, 66.54chunk/s]]\n",
      "Processing chunks in UOX_no_bg_SLL_-512.01_-512.01.stream: 100%|██████████| 5149/5149 [01:17<00:00, 66.51chunk/s]\n",
      "Processing chunks in UOX_no_bg_SLL_-512.0_-511.99.stream: 100%|██████████| 5149/5149 [01:17<00:00, 66.43chunk/s]\n",
      "Processing chunks in UOX_no_bg_SLL_-512_-512.stream: 100%|██████████| 5149/5149 [01:17<00:00, 66.39chunk/s]unk/s]\n",
      "Processing chunks in UOX_no_bg_SLL_-512.01_-511.99.stream: 100%|██████████| 5149/5149 [01:18<00:00, 65.63chunk/s] \n",
      "Processing chunks in UOX_no_bg_SLL_-511.99_-511.99.stream: 100%|██████████| 5149/5149 [01:18<00:00, 65.58chunk/s]\n",
      "Processing chunks in UOX_no_bg_SLL_-511.99_-512.01.stream: 100%|██████████| 5149/5149 [01:19<00:00, 64.88chunk/s] \n"
     ]
    },
    {
     "name": "stdout",
     "output_type": "stream",
     "text": [
      "Combined metrics CSV written to /home/buster/UOX1/UOX1_no_bg_SLL/new_PF/combined_metrics_IQM_SUM_12_12_10_-12_12_-15_10_13_-13.csv\n",
      "Best results stream file written to /home/buster/UOX1/UOX1_no_bg_SLL/new_PF/best_results_IQM_SUM_12_12_10_-12_12_-15_10_13_-13.stream\n",
      "Writing .sol file from stream: /home/buster/UOX1/UOX1_no_bg_SLL/new_PF/best_results_IQM_SUM_12_12_10_-12_12_-15_10_13_-13.stream\n",
      "Bash script generated: /home/buster/UOX1/UOX1_no_bg_SLL/new_PF/IQM_SUM_12_12_10_-12_12_-15_10_13_-13.sh\n",
      "Running fast integration...\n"
     ]
    },
    {
     "name": "stderr",
     "output_type": "stream",
     "text": [
      "Writing integration output stream: 100%|██████████| 4802/4802 [01:08<00:00, 69.71lines/s]\n"
     ]
    },
    {
     "name": "stdout",
     "output_type": "stream",
     "text": [
      "Integration executed successfully\n"
     ]
    },
    {
     "name": "stderr",
     "output_type": "stream",
     "text": [
      "Writing integration output stream: 100%|██████████| 4802/4802 [01:13<00:00, 64.97lines/s]\n"
     ]
    },
    {
     "name": "stdout",
     "output_type": "stream",
     "text": [
      "Integration executed successfully\n",
      "Merging fast integration results...\n",
      "Running partialator for stream file: /home/buster/UOX1/UOX1_no_bg_SLL/new_PF/IQM_SUM_12_12_10_-12_12_-15_10_13_-13/int_rings_3-4-7.stream\n"
     ]
    },
    {
     "name": "stderr",
     "output_type": "stream",
     "text": [
      "Partialator Progress: 100%|██████████| 5/5 [02:20<00:00, 28.06s/Residuals]\n"
     ]
    },
    {
     "name": "stdout",
     "output_type": "stream",
     "text": [
      "Partialator completed for stream file: /home/buster/UOX1/UOX1_no_bg_SLL/new_PF/IQM_SUM_12_12_10_-12_12_-15_10_13_-13/int_rings_3-4-7.stream\n",
      "Converting crystfel.hkl to output.mtz in directory: /home/buster/UOX1/UOX1_no_bg_SLL/new_PF/IQM_SUM_12_12_10_-12_12_-15_10_13_-13/merge_3_iter_int_rings_3-4-7\n",
      "Conversion to output.mtz completed for directory: /home/buster/UOX1/UOX1_no_bg_SLL/new_PF/IQM_SUM_12_12_10_-12_12_-15_10_13_-13/merge_3_iter_int_rings_3-4-7\n",
      "Merging Complete for int_rings_3-4-7\n",
      "Running partialator for stream file: /home/buster/UOX1/UOX1_no_bg_SLL/new_PF/IQM_SUM_12_12_10_-12_12_-15_10_13_-13/int_rings_2-5-10.stream\n"
     ]
    },
    {
     "name": "stderr",
     "output_type": "stream",
     "text": [
      "Partialator Progress: 100%|██████████| 5/5 [02:03<00:00, 24.65s/Residuals]\n"
     ]
    },
    {
     "name": "stdout",
     "output_type": "stream",
     "text": [
      "Partialator completed for stream file: /home/buster/UOX1/UOX1_no_bg_SLL/new_PF/IQM_SUM_12_12_10_-12_12_-15_10_13_-13/int_rings_2-5-10.stream\n",
      "Converting crystfel.hkl to output.mtz in directory: /home/buster/UOX1/UOX1_no_bg_SLL/new_PF/IQM_SUM_12_12_10_-12_12_-15_10_13_-13/merge_3_iter_int_rings_2-5-10\n",
      "Conversion to output.mtz completed for directory: /home/buster/UOX1/UOX1_no_bg_SLL/new_PF/IQM_SUM_12_12_10_-12_12_-15_10_13_-13/merge_3_iter_int_rings_2-5-10\n",
      "Merging Complete for int_rings_2-5-10\n",
      "Refining fast integration results...\n",
      "Processing folder: /home/buster/UOX1/UOX1_no_bg_SLL/new_PF/IQM_SUM_12_12_10_-12_12_-15_10_13_-13/merge_3_iter_int_rings_2-5-10\n"
     ]
    },
    {
     "name": "stderr",
     "output_type": "stream",
     "text": [
      "Refmac5 CGMAT cycles: 100%|██████████| 30/30 [01:15<00:00,  2.53s/cycle]\n"
     ]
    },
    {
     "name": "stdout",
     "output_type": "stream",
     "text": [
      "Processing folder: /home/buster/UOX1/UOX1_no_bg_SLL/new_PF/IQM_SUM_12_12_10_-12_12_-15_10_13_-13/merge_3_iter_int_rings_3-4-7\n"
     ]
    },
    {
     "name": "stderr",
     "output_type": "stream",
     "text": [
      "Refmac5 CGMAT cycles: 100%|██████████| 30/30 [01:23<00:00,  2.80s/cycle]"
     ]
    },
    {
     "name": "stdout",
     "output_type": "stream",
     "text": [
      "Automation process completed successfully for weights: (12, 12, 10, -12, 12, -15, 10, 13, -13) with a final R factor of 0.1902\n"
     ]
    },
    {
     "name": "stderr",
     "output_type": "stream",
     "text": [
      "\n"
     ]
    }
   ],
   "source": [
    "from find_first_file import find_first_file\n",
    "from automate_evaluation_and_integration import automate_evaluation_and_integration\n",
    "\n",
    "# stream_file_folder = \"/home/buster/UOX1/UOX1_no_bg_SLL\"\n",
    "stream_file_folder = \"/home/buster/UOX1/UOX1_no_bg_SLL/new_PF\"\n",
    "cellfile_path = find_first_file(stream_file_folder, \".cell\")\n",
    "pdb_file = find_first_file(stream_file_folder, \".pdb\")\n",
    "\n",
    "weights_list = [\n",
    "    (12, 12, 10, -12, 12, -15, 10, 13, -13)  # Increase both pairs 4,5 and 6,7 (+20)\n",
    "]\n",
    "\n",
    "lattice = \"oI\"  # Pearson Symbol read from .cell file first letter for lattice type and second for centering\n",
    "ring_size = [(3, 4, 7),(2, 5, 10)]\n",
    "pointgroup = \"mmm\"\n",
    "num_threads = 23\n",
    "bins = 20\n",
    "min_res = 1.5\n",
    "iterations = 3\n",
    "\n",
    "automate_evaluation_and_integration(stream_file_folder, weights_list, lattice, ring_size, cellfile_path, pointgroup, num_threads, bins, pdb_file, min_res, iterations)\n"
   ]
  }
 ],
 "metadata": {
  "kernelspec": {
   "display_name": "diffractem_env",
   "language": "python",
   "name": "python3"
  },
  "language_info": {
   "codemirror_mode": {
    "name": "ipython",
    "version": 3
   },
   "file_extension": ".py",
   "mimetype": "text/x-python",
   "name": "python",
   "nbconvert_exporter": "python",
   "pygments_lexer": "ipython3",
   "version": "3.10.14"
  }
 },
 "nbformat": 4,
 "nbformat_minor": 2
}
