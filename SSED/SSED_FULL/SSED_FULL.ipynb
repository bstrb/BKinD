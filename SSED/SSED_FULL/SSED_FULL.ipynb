{
 "cells": [
  {
   "cell_type": "markdown",
   "metadata": {},
   "source": [
    "Conversion from .emd to .h5 format."
   ]
  },
  {
   "cell_type": "code",
   "execution_count": null,
   "metadata": {},
   "outputs": [],
   "source": [
    "# Conversion Function Definitions\n",
    "\n",
    "from conversion_def import find_and_process_velox_files"
   ]
  },
  {
   "cell_type": "code",
   "execution_count": null,
   "metadata": {},
   "outputs": [],
   "source": [
    "# Convert to HDF5\n",
    "inputfolder_path= \"/home/buster/leidata/hMTH1_TH287_Serial/45deg\"\n",
    "\n",
    "find_and_process_velox_files(inputfolder_path)"
   ]
  },
  {
   "cell_type": "markdown",
   "metadata": {},
   "source": [
    "Peakfinding using peakfinder8 from diffractem package. First open .h5 file in crystfel using .geom file that refers to correct mask file and find good peakfinding settings. Make sure there are enough friedel pairs for center beam finding and fitting. Don't put the mask in the same folder as the .h5 file since it is also .h5 format. If peakfinding has been run old data will be deleted."
   ]
  },
  {
   "cell_type": "code",
   "execution_count": null,
   "metadata": {},
   "outputs": [],
   "source": [
    "# Peak Finder Function Definitions\n",
    "\n",
    "from peakfinder_def import find_files_and_run_peakfinding"
   ]
  },
  {
   "cell_type": "code",
   "execution_count": null,
   "metadata": {},
   "outputs": [],
   "source": [
    "# Peak Finder\n",
    "inputfolder_path = \"/home/buster/leidata/hMTH1_TH287_Serial/45deg\"\n",
    "\n",
    "# Peakfinder settings:\n",
    "threshold = 80\n",
    "min_snr = 4\n",
    "min_pix_count = 2\n",
    "max_pix_count = 200 \n",
    "local_bg_radius = 10\n",
    "min_res = 30\n",
    "max_res = 1200\n",
    "x0 = 525\n",
    "y0 = 500  \n",
    "\n",
    "##### Enter parameters above #####\n",
    "\n",
    "find_files_and_run_peakfinding(inputfolder_path, x0, y0, threshold, min_snr, min_pix_count, max_pix_count, local_bg_radius, min_res, max_res)"
   ]
  },
  {
   "cell_type": "markdown",
   "metadata": {},
   "source": [
    "Find the center beam spot center on all frames using friedel pairs and  interpolation."
   ]
  },
  {
   "cell_type": "code",
   "execution_count": null,
   "metadata": {},
   "outputs": [],
   "source": [
    "# Find Center Beam Spot Center Function Definitions\n",
    "\n",
    "from centerfinding_def import find_files_and_run_centerfinding"
   ]
  },
  {
   "cell_type": "code",
   "execution_count": null,
   "metadata": {},
   "outputs": [],
   "source": [
    "# Find Center Beam Spot Center\n",
    "tolerance = 30 # If you know that your beam center is close to the center of the detector you can reduce the tolerance to reduce the processing time\n",
    "min_peaks = 30 # Minimum number of peaks in a frame to be considered\n",
    "resolution_limit = 200 # Maximum resultuion of peaks to be considered\n",
    "min_samples_fraction = 0.05  # Fraction of datapoints in the largest cluster to be accepted\n",
    "x0 = 512\n",
    "y0 = 512\n",
    "\n",
    "inputfolder_path= \"/home/buster/leidata/hMTH1_TH287_Serial/45deg\"\n",
    "\n",
    "##### Enter parameters above #####\n",
    "\n",
    "find_files_and_run_centerfinding(inputfolder_path, x0, y0, tolerance, min_peaks, resolution_limit, min_samples_fraction)"
   ]
  },
  {
   "cell_type": "markdown",
   "metadata": {},
   "source": [
    "Improve the center beam center with a LOWESS fit"
   ]
  },
  {
   "cell_type": "code",
   "execution_count": null,
   "metadata": {},
   "outputs": [],
   "source": [
    "# Center Beam Drift Refinement Function Definitions\n",
    "\n",
    "from centerrefinement_def import find_files_and_run_centerrefinement\n"
   ]
  },
  {
   "cell_type": "code",
   "execution_count": null,
   "metadata": {},
   "outputs": [],
   "source": [
    "# Center Beam Drift Refinement\n",
    "tolerance = 10 # If you know that your beam center is close to the center of the detector you can reduce the tolerance to reduce the processing time\n",
    "min_peaks = 5 # Minimum number of peaks in frame to be used for refinement\n",
    "resolution_limit = 150 # Maximum resolution (pixels) of peaks to be considered for refinement\n",
    "max_iterations = 5 # Maximum number of iterations for refinement\n",
    "convergence_threshold = 0.05 # Refinement is stopped when the deviation of the LOWESS fit does not exceed the threshold (given in pixels)\n",
    "\n",
    "inputfolder_path= \"/home/buster/leidata/hMTH1_TH287_Serial/45deg\"\n",
    "\n",
    "##### Enter your parameters above #####\n",
    "\n",
    "find_files_and_run_centerrefinement(inputfolder_path, tolerance, min_peaks, resolution_limit, max_iterations, convergence_threshold)"
   ]
  },
  {
   "cell_type": "markdown",
   "metadata": {},
   "source": [
    "And now to find the indexing using xGandalf (5x5=25 output streams as default)"
   ]
  },
  {
   "cell_type": "code",
   "execution_count": null,
   "metadata": {},
   "outputs": [],
   "source": [
    "# Indexing Function Definitions\n",
    "\n",
    "from gandalf_iterator import gandalf_iterator"
   ]
  },
  {
   "cell_type": "code",
   "execution_count": null,
   "metadata": {},
   "outputs": [],
   "source": [
    "# Indexing (To speed up process make sure output stream is in wsl folder)\n",
    "geomfile_path = \"/home/buster/UOX123/UOX.geom\"\n",
    "cellfile_path = \"/home/buster/UOX123/UOX.cell\"\n",
    "input_path = \"/home/buster/UOX123\"\n",
    "output_dir = \"/home/buster/UOX123\"\n",
    "output_file_base = \"UOX\"\n",
    "\n",
    "num_threads = 23\n",
    "indexing_method = \"xgandalf\"\n",
    "resolution_push = 0\n",
    "integration_method = \"rings\"\n",
    "int_radius = \"4,5,8\"\n",
    "min_peaks = 15\n",
    "xgandalf_tolerance = 0.02\n",
    "xgandalf_sampling_pitch = 5\n",
    "# xgandalf_min_vector_length = 40\n",
    "# xgandalf_max_vector_length = 110\n",
    "xgandalf_iterations = 1\n",
    "tolerance = \"5,5,5,5\"\n",
    "step = 0.01\n",
    "layers = 1\n",
    "##### Enter your parameters above #####\n",
    "\n",
    "# gandalf_iterator(geomfile_path, cellfile_path, input_path, output_file_base, output_dir, num_threads, indexing_method, resolution_push, integration_method, int_radius, min_peaks, xgandalf_tolerance, xgandalf_sampling_pitch, xgandalf_min_vector_length, xgandalf_max_vector_length, xgandalf_iterations, tolerance, step, layers)\n",
    "gandalf_iterator(geomfile_path, cellfile_path, input_path, output_file_base, output_dir, num_threads, indexing_method, resolution_push, integration_method, int_radius, min_peaks, xgandalf_tolerance, xgandalf_sampling_pitch, xgandalf_iterations, tolerance, step, layers)\n"
   ]
  },
  {
   "cell_type": "markdown",
   "metadata": {},
   "source": [
    "Then based on RMSD between found peaks and indexed reflections combine the best indexings from xGandalf for each frame to one .stream file and then write a .sol from combinded .stream file."
   ]
  },
  {
   "cell_type": "code",
   "execution_count": null,
   "metadata": {},
   "outputs": [],
   "source": [
    "# Find Best Results Function Definitions\n",
    "\n",
    "from best_results_def import find_best_results, read_stream_write_sol"
   ]
  },
  {
   "cell_type": "code",
   "execution_count": 5,
   "metadata": {},
   "outputs": [],
   "source": [
    "# Find Best Results\n",
    "inputfolder_path = \"/home/buster/UOX123/3x3_retry\"\n",
    "lattice = \"oI\" # Pearson Symbol read from .cell file first letter for lattice type and second for centering\n",
    "\n",
    "##### Enter your parameters above #####\n",
    "\n",
    "# find_best_results(inputfolder_path)\n",
    "\n",
    "import os\n",
    "\n",
    "output_file_path = os.path.join(inputfolder_path, \"best_results_RMSD.stream\")\n",
    "\n",
    "read_stream_write_sol(output_file_path, lattice)"
   ]
  },
  {
   "cell_type": "markdown",
   "metadata": {},
   "source": [
    "Integrate with best found ring for integration (From Fast Integration)"
   ]
  },
  {
   "cell_type": "code",
   "execution_count": null,
   "metadata": {},
   "outputs": [],
   "source": [
    "# Full Integration Function Definitions\n",
    "\n",
    "from full_int_def import run_indexamajig_with_frames"
   ]
  },
  {
   "cell_type": "code",
   "execution_count": null,
   "metadata": {},
   "outputs": [],
   "source": [
    "# Full Integration\n",
    "geomfile_path = \".geom\"\n",
    "cellfile_path = \".cell\"\n",
    "input_path = \"\"\n",
    "\n",
    "x = -512\n",
    "y = -512\n",
    "num_threads = 23\n",
    "indexing_method = \"file\"\n",
    "resolution_push = 5\n",
    "integration_method = \"rings\"\n",
    "int_radius = \"4,5,9\"\n",
    "min_peaks = 5\n",
    "xgandalf_tolerance = 0.02\n",
    "xgandalf_sampling_pitch = 5\n",
    "xgandalf_min_vector_length = 40\n",
    "xgandalf_max_vector_length = 110\n",
    "xgandalf_iterations = 1\n",
    "tolerance = \"5,5,5,5\"\n",
    "overpredict = True\n",
    "\n",
    "##### Enter your parameters above #####\n",
    "\n",
    "run_indexamajig_with_frames(x, y, geomfile_path, cellfile_path, input_path, num_threads, indexing_method, resolution_push, integration_method, int_radius, min_peaks, xgandalf_tolerance, xgandalf_sampling_pitch, xgandalf_iterations, tolerance)"
   ]
  },
  {
   "cell_type": "markdown",
   "metadata": {},
   "source": [
    "Merge integration results"
   ]
  },
  {
   "cell_type": "code",
   "execution_count": null,
   "metadata": {},
   "outputs": [],
   "source": [
    "# Full Merge Function Definitions\n",
    "\n",
    "from full_merge_def import merge_and_write_mtz"
   ]
  },
  {
   "cell_type": "code",
   "execution_count": null,
   "metadata": {},
   "outputs": [],
   "source": [
    "# Merge\n",
    "input_folder_path = \"\"\n",
    "cellfile_path = \"\"\n",
    "pointgroup = \"\"\n",
    "\n",
    "##### Enter your parameters above #####\n",
    "\n",
    "merge_and_write_mtz(input_folder_path, cellfile_path, pointgroup)"
   ]
  },
  {
   "cell_type": "markdown",
   "metadata": {},
   "source": [
    "Refinement using REFMAC5"
   ]
  },
  {
   "cell_type": "code",
   "execution_count": null,
   "metadata": {},
   "outputs": [],
   "source": [
    "# Full Refine Function Definitions\n",
    "\n",
    "from full_ref_def import process_run_folders"
   ]
  },
  {
   "cell_type": "code",
   "execution_count": null,
   "metadata": {},
   "outputs": [],
   "source": [
    "# Full Refine\n",
    "\n",
    "run_number = 1\n",
    "bins = 30\n",
    "\n",
    "# Global variables for filenames\n",
    "base_path = \"\"\n",
    "pdb_filename = \".pdb\"\n",
    "mtz_orig_filename = \"output.mtz\"\n",
    "output_filename = f\"output_bins_{bins}.txt\"\n",
    "\n",
    "process_run_folders(base_path, run_number)"
   ]
  }
 ],
 "metadata": {
  "kernelspec": {
   "display_name": "diffractem_env",
   "language": "python",
   "name": "python3"
  },
  "language_info": {
   "codemirror_mode": {
    "name": "ipython",
    "version": 3
   },
   "file_extension": ".py",
   "mimetype": "text/x-python",
   "name": "python",
   "nbconvert_exporter": "python",
   "pygments_lexer": "ipython3",
   "version": "3.10.14"
  }
 },
 "nbformat": 4,
 "nbformat_minor": 2
}
