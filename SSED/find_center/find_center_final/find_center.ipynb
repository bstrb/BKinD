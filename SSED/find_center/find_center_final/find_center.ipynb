{
 "cells": [
  {
   "cell_type": "code",
   "execution_count": null,
   "metadata": {},
   "outputs": [],
   "source": [
    "from find_center_v2 import find_center\n",
    "from plot_xy import plot_xy\n",
    "\n",
    "# Paths to the files\n",
    "# h5_file_path = '/home/buster/UOX1/UOX1_min_10/UOX1_min_10.h5'\n",
    "h5_file_path = '/home/buster/UOX1/UOX1_original/UOX1.h5'\n",
    "# new_h5_file_path = '/home/buster/UOX1/UOX1_original/UOX1_xy_pos.h5'\n",
    "mask_path = '/home/buster/mask/pxmask.h5'\n",
    "selected_indices = list(range(0, 6700, 100)) \n",
    "# selected_indices = [1700] \n",
    "# selected_indices = None\n",
    "\n",
    "# Call the main processing function\n",
    "# find_center(h5_file_path, new_h5_file_path, mask_path, selected_indices=selected_indices, plot=True, verbose=True)\n",
    "# find_center(h5_file_path, mask_path, selected_indices=selected_indices, plot=False, verbose=True)\n",
    "plot_xy(h5_file_path)"
   ]
  }
 ],
 "metadata": {
  "kernelspec": {
   "display_name": "diffractem_env",
   "language": "python",
   "name": "python3"
  },
  "language_info": {
   "codemirror_mode": {
    "name": "ipython",
    "version": 3
   },
   "file_extension": ".py",
   "mimetype": "text/x-python",
   "name": "python",
   "nbconvert_exporter": "python",
   "pygments_lexer": "ipython3",
   "version": "3.10.14"
  }
 },
 "nbformat": 4,
 "nbformat_minor": 2
}
