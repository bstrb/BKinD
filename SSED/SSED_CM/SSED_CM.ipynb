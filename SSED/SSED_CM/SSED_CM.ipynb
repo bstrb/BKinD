{
 "cells": [
  {
   "cell_type": "code",
   "execution_count": 1,
   "metadata": {},
   "outputs": [],
   "source": [
    "# Split .stream Function Definition\n",
    "\n",
    "from split_stream_file_with_step import split_stream_file_with_step\n"
   ]
  },
  {
   "cell_type": "code",
   "execution_count": null,
   "metadata": {},
   "outputs": [],
   "source": [
    "# Split .stream\n",
    "# Splits integration stream file into chunks of selected number(step_size) of indexed frames  \n",
    "\n",
    "stream_file = \"/home/buster/UOX1/3x3/fast_int_3-4-7/fast_int_rings_3-4-7.stream\"\n",
    "step_size = 100 # Number of indexed frames added to each chunk\n",
    "output_dir = f\"/home/buster/UOXm/fast_int/chunked_{step_size}\"\n",
    "\n",
    "split_stream_file_with_step(stream_file, output_dir, step_size)\n"
   ]
  },
  {
   "cell_type": "code",
   "execution_count": null,
   "metadata": {},
   "outputs": [],
   "source": [
    "# Chunk Merge Function Definition\n",
    "\n",
    "from chunk_merge_def import chunk_merge_and_write_mtz"
   ]
  },
  {
   "cell_type": "code",
   "execution_count": null,
   "metadata": {},
   "outputs": [],
   "source": [
    "# Chunk Merge\n",
    "\n",
    "input_folder_path = \"/home/buster/UOXm/fast_int/chunked_1000\"\n",
    "cellfile_path = \"/home/buster/UOXm/UOX.cell\"\n",
    "pointgroup = \"mmm\"\n",
    "num_threads = 23\n",
    "\n",
    "# Call the function\n",
    "chunk_merge_and_write_mtz(input_folder_path, cellfile_path, pointgroup, num_threads)\n"
   ]
  },
  {
   "cell_type": "code",
   "execution_count": 4,
   "metadata": {},
   "outputs": [],
   "source": [
    "# Chunk Refine Function Definition\n",
    "\n",
    "from chunk_ref_def import process_run_chunk_folders"
   ]
  },
  {
   "cell_type": "code",
   "execution_count": null,
   "metadata": {},
   "outputs": [],
   "source": [
    "# Chunk Refine\n",
    "\n",
    "bins = 20\n",
    "\n",
    "# Global variables for filenames\n",
    "base_path = \"/home/buster/UOXm/fast_int/chunked_1000\"\n",
    "pdb_filename = \"UOX.pdb\" # make sure it is found in the same file as integration output streams\n",
    "\n",
    "process_run_chunk_folders(base_path, pdb_filename, bins)"
   ]
  },
  {
   "cell_type": "code",
   "execution_count": 1,
   "metadata": {},
   "outputs": [],
   "source": [
    "# Plot Chunk Merge Function Definition\n",
    "\n",
    "from plot_chunk_merge_def import plot_chunk_merge"
   ]
  },
  {
   "cell_type": "code",
   "execution_count": 2,
   "metadata": {},
   "outputs": [
    {
     "name": "stdout",
     "output_type": "stream",
     "text": [
      "Processing file: /home/buster/UOXm/5x5_0-01/fast_int_3-4-7/chunked_1000/merge_chunk_12000/output_bins_20.txt\n",
      "Found last cycle at character position: 80974.\n",
      "Processing file: /home/buster/UOXm/5x5_0-01/fast_int_3-4-7/chunked_1000/merge_chunk_18000/output_bins_20.txt\n",
      "Found last cycle at character position: 80940.\n",
      "Processing file: /home/buster/UOXm/5x5_0-01/fast_int_3-4-7/chunked_1000/merge_chunk_7000/output_bins_20.txt\n",
      "Found last cycle at character position: 80863.\n",
      "Processing file: /home/buster/UOXm/5x5_0-01/fast_int_3-4-7/chunked_1000/merge_chunk_16000/output_bins_20.txt\n",
      "Found last cycle at character position: 81134.\n",
      "Processing file: /home/buster/UOXm/5x5_0-01/fast_int_3-4-7/chunked_1000/merge_chunk_8000/output_bins_20.txt\n",
      "Found last cycle at character position: 80967.\n",
      "Processing file: /home/buster/UOXm/5x5_0-01/fast_int_3-4-7/chunked_1000/merge_chunk_17000/output_bins_20.txt\n",
      "Found last cycle at character position: 80974.\n",
      "Processing file: /home/buster/UOXm/5x5_0-01/fast_int_3-4-7/chunked_1000/merge_chunk_21000/output_bins_20.txt\n",
      "Found last cycle at character position: 81134.\n",
      "Processing file: /home/buster/UOXm/5x5_0-01/fast_int_3-4-7/chunked_1000/merge_chunk_22960/output_bins_20.txt\n",
      "Found last cycle at character position: 80974.\n",
      "Processing file: /home/buster/UOXm/5x5_0-01/fast_int_3-4-7/chunked_1000/merge_chunk_15000/output_bins_20.txt\n",
      "Found last cycle at character position: 80940.\n",
      "Processing file: /home/buster/UOXm/5x5_0-01/fast_int_3-4-7/chunked_1000/merge_chunk_6000/output_bins_20.txt\n",
      "Found last cycle at character position: 80969.\n",
      "Processing file: /home/buster/UOXm/5x5_0-01/fast_int_3-4-7/chunked_1000/merge_chunk_22000/output_bins_20.txt\n",
      "Found last cycle at character position: 80974.\n",
      "Processing file: /home/buster/UOXm/5x5_0-01/fast_int_3-4-7/chunked_1000/merge_chunk_9000/output_bins_20.txt\n",
      "Found last cycle at character position: 80969.\n",
      "Processing file: /home/buster/UOXm/5x5_0-01/fast_int_3-4-7/chunked_1000/merge_chunk_1000/output_bins_20.txt\n",
      "Found last cycle at character position: 79128.\n",
      "Processing file: /home/buster/UOXm/5x5_0-01/fast_int_3-4-7/chunked_1000/merge_chunk_10000/output_bins_20.txt\n",
      "Found last cycle at character position: 81168.\n",
      "Processing file: /home/buster/UOXm/5x5_0-01/fast_int_3-4-7/chunked_1000/merge_chunk_20000/output_bins_20.txt\n",
      "Found last cycle at character position: 81134.\n",
      "Processing file: /home/buster/UOXm/5x5_0-01/fast_int_3-4-7/chunked_1000/merge_chunk_5000/output_bins_20.txt\n",
      "Found last cycle at character position: 81091.\n",
      "Processing file: /home/buster/UOXm/5x5_0-01/fast_int_3-4-7/chunked_1000/merge_chunk_13000/output_bins_20.txt\n",
      "Found last cycle at character position: 80974.\n",
      "Processing file: /home/buster/UOXm/5x5_0-01/fast_int_3-4-7/chunked_1000/merge_chunk_11000/output_bins_20.txt\n",
      "Found last cycle at character position: 80974.\n",
      "Processing file: /home/buster/UOXm/5x5_0-01/fast_int_3-4-7/chunked_1000/merge_chunk_19000/output_bins_20.txt\n",
      "Found last cycle at character position: 80974.\n",
      "Processing file: /home/buster/UOXm/5x5_0-01/fast_int_3-4-7/chunked_1000/merge_chunk_2000/output_bins_20.txt\n",
      "Found last cycle at character position: 79254.\n",
      "Processing file: /home/buster/UOXm/5x5_0-01/fast_int_3-4-7/chunked_1000/merge_chunk_14000/output_bins_20.txt\n",
      "Found last cycle at character position: 81134.\n",
      "Processing file: /home/buster/UOXm/5x5_0-01/fast_int_3-4-7/chunked_1000/merge_chunk_4000/output_bins_20.txt\n",
      "Found last cycle at character position: 79873.\n",
      "Processing file: /home/buster/UOXm/5x5_0-01/fast_int_3-4-7/chunked_1000/merge_chunk_3000/output_bins_20.txt\n",
      "Found last cycle at character position: 79330.\n",
      "Processing file: /home/buster/UOXm/5x5_0-01/fast_int_3-4-7/chunked_1000/merge_chunk_12000/output_bins_20.txt\n",
      "Processing file: /home/buster/UOXm/5x5_0-01/fast_int_3-4-7/chunked_1000/merge_chunk_18000/output_bins_20.txt\n",
      "Processing file: /home/buster/UOXm/5x5_0-01/fast_int_3-4-7/chunked_1000/merge_chunk_7000/output_bins_20.txt\n",
      "Processing file: /home/buster/UOXm/5x5_0-01/fast_int_3-4-7/chunked_1000/merge_chunk_16000/output_bins_20.txt\n",
      "Processing file: /home/buster/UOXm/5x5_0-01/fast_int_3-4-7/chunked_1000/merge_chunk_8000/output_bins_20.txt\n",
      "Processing file: /home/buster/UOXm/5x5_0-01/fast_int_3-4-7/chunked_1000/merge_chunk_17000/output_bins_20.txt\n",
      "Processing file: /home/buster/UOXm/5x5_0-01/fast_int_3-4-7/chunked_1000/merge_chunk_21000/output_bins_20.txt\n",
      "Processing file: /home/buster/UOXm/5x5_0-01/fast_int_3-4-7/chunked_1000/merge_chunk_22960/output_bins_20.txt\n",
      "Processing file: /home/buster/UOXm/5x5_0-01/fast_int_3-4-7/chunked_1000/merge_chunk_15000/output_bins_20.txt\n",
      "Processing file: /home/buster/UOXm/5x5_0-01/fast_int_3-4-7/chunked_1000/merge_chunk_6000/output_bins_20.txt\n",
      "Processing file: /home/buster/UOXm/5x5_0-01/fast_int_3-4-7/chunked_1000/merge_chunk_22000/output_bins_20.txt\n",
      "Processing file: /home/buster/UOXm/5x5_0-01/fast_int_3-4-7/chunked_1000/merge_chunk_9000/output_bins_20.txt\n",
      "Processing file: /home/buster/UOXm/5x5_0-01/fast_int_3-4-7/chunked_1000/merge_chunk_1000/output_bins_20.txt\n",
      "Processing file: /home/buster/UOXm/5x5_0-01/fast_int_3-4-7/chunked_1000/merge_chunk_10000/output_bins_20.txt\n",
      "Processing file: /home/buster/UOXm/5x5_0-01/fast_int_3-4-7/chunked_1000/merge_chunk_20000/output_bins_20.txt\n",
      "Processing file: /home/buster/UOXm/5x5_0-01/fast_int_3-4-7/chunked_1000/merge_chunk_5000/output_bins_20.txt\n",
      "Processing file: /home/buster/UOXm/5x5_0-01/fast_int_3-4-7/chunked_1000/merge_chunk_13000/output_bins_20.txt\n",
      "Processing file: /home/buster/UOXm/5x5_0-01/fast_int_3-4-7/chunked_1000/merge_chunk_11000/output_bins_20.txt\n",
      "Processing file: /home/buster/UOXm/5x5_0-01/fast_int_3-4-7/chunked_1000/merge_chunk_19000/output_bins_20.txt\n",
      "Processing file: /home/buster/UOXm/5x5_0-01/fast_int_3-4-7/chunked_1000/merge_chunk_2000/output_bins_20.txt\n",
      "Processing file: /home/buster/UOXm/5x5_0-01/fast_int_3-4-7/chunked_1000/merge_chunk_14000/output_bins_20.txt\n",
      "Processing file: /home/buster/UOXm/5x5_0-01/fast_int_3-4-7/chunked_1000/merge_chunk_4000/output_bins_20.txt\n",
      "Processing file: /home/buster/UOXm/5x5_0-01/fast_int_3-4-7/chunked_1000/merge_chunk_3000/output_bins_20.txt\n"
     ]
    }
   ],
   "source": [
    "# Plot Chunk Merge\n",
    "\n",
    "base_path = \"/home/buster/UOXm/5x5_0-01/fast_int_3-4-7/chunked_1000\"\n",
    "fit_and_plot_exponential = True\n",
    "\n",
    "plot_chunk_merge(base_path, fit_exponential = fit_and_plot_exponential)"
   ]
  }
 ],
 "metadata": {
  "kernelspec": {
   "display_name": "diffractem_env",
   "language": "python",
   "name": "python3"
  },
  "language_info": {
   "codemirror_mode": {
    "name": "ipython",
    "version": 3
   },
   "file_extension": ".py",
   "mimetype": "text/x-python",
   "name": "python",
   "nbconvert_exporter": "python",
   "pygments_lexer": "ipython3",
   "version": "3.10.14"
  }
 },
 "nbformat": 4,
 "nbformat_minor": 2
}
