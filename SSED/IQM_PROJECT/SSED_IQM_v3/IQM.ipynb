{
 "cells": [
  {
   "cell_type": "code",
   "execution_count": 1,
   "metadata": {},
   "outputs": [
    {
     "name": "stdout",
     "output_type": "stream",
     "text": [
      "Evaluating multiple stream files with weights: (12, 12, 10, -12, 12, -15, 10, 13, -13)\n"
     ]
    },
    {
     "name": "stderr",
     "output_type": "stream",
     "text": [
      "Processing chunks in UOX1_no_bg_beam_centers19_-511.5_-511.5.stream:  18%|█▊        | 1141/6446 [02:01<09:31,  9.28chunk/s]"
     ]
    },
    {
     "name": "stdout",
     "output_type": "stream",
     "text": [
      "No diffraction resolution found in chunk.\n"
     ]
    },
    {
     "name": "stderr",
     "output_type": "stream",
     "text": [
      "Processing chunks in UOX1_no_bg_beam_centers19_-512.0_-512.5.stream:  34%|███▍      | 2204/6446 [03:31<06:38, 10.65chunk/s]"
     ]
    },
    {
     "name": "stdout",
     "output_type": "stream",
     "text": [
      "No diffraction resolution found in chunk.\n"
     ]
    },
    {
     "name": "stderr",
     "output_type": "stream",
     "text": [
      "Processing chunks in UOX1_no_bg_beam_centers19_-512.5_-512.5.stream:  35%|███▍      | 2254/6446 [03:39<07:51,  8.90chunk/s]"
     ]
    },
    {
     "name": "stdout",
     "output_type": "stream",
     "text": [
      "No diffraction resolution found in chunk.\n"
     ]
    },
    {
     "name": "stderr",
     "output_type": "stream",
     "text": [
      "Processing chunks in UOX1_no_bg_beam_centers19_-512_-512.stream:  52%|█████▏    | 3321/6446 [04:40<05:00, 10.40chunk/s]k/s]"
     ]
    },
    {
     "name": "stdout",
     "output_type": "stream",
     "text": [
      "No diffraction resolution found in chunk.\n"
     ]
    },
    {
     "name": "stderr",
     "output_type": "stream",
     "text": [
      "Processing chunks in UOX1_no_bg_beam_centers19_-512.5_-512.5.stream:  57%|█████▋    | 3677/6446 [06:04<05:31,  8.36chunk/s]"
     ]
    },
    {
     "name": "stdout",
     "output_type": "stream",
     "text": [
      "No diffraction resolution found in chunk.\n"
     ]
    },
    {
     "name": "stderr",
     "output_type": "stream",
     "text": [
      "Processing chunks in UOX1_no_bg_beam_centers19_-512_-512.stream:  69%|██████▉   | 4458/6446 [06:28<04:15,  7.79chunk/s]k/s]"
     ]
    },
    {
     "name": "stdout",
     "output_type": "stream",
     "text": [
      "No diffraction resolution found in chunk."
     ]
    },
    {
     "name": "stderr",
     "output_type": "stream",
     "text": [
      "Processing chunks in UOX1_no_bg_beam_centers19_-512.0_-511.5.stream:  63%|██████▎   | 4052/6446 [06:28<05:39,  7.06chunk/s]"
     ]
    },
    {
     "name": "stdout",
     "output_type": "stream",
     "text": [
      "\n"
     ]
    },
    {
     "name": "stderr",
     "output_type": "stream",
     "text": [
      "Processing chunks in UOX1_no_bg_beam_centers19_-511.5_-512.5.stream:  76%|███████▋  | 4929/6446 [08:33<02:00, 12.60chunk/s]"
     ]
    },
    {
     "name": "stdout",
     "output_type": "stream",
     "text": [
      "No diffraction resolution found in chunk.\n"
     ]
    },
    {
     "name": "stderr",
     "output_type": "stream",
     "text": [
      "Processing chunks in UOX1_no_bg_beam_centers19_-512.5_-512.5.stream:  89%|████████▊ | 5705/6446 [09:49<01:37,  7.63chunk/s]"
     ]
    },
    {
     "name": "stdout",
     "output_type": "stream",
     "text": [
      "No diffraction resolution found in chunk.\n"
     ]
    },
    {
     "name": "stderr",
     "output_type": "stream",
     "text": [
      "Processing chunks in UOX1_no_bg_beam_centers19_-512_-512.stream: 100%|██████████| 6446/6446 [09:54<00:00, 10.84chunk/s]k/s]\n",
      "Processing chunks in UOX1_no_bg_beam_centers19_-512.5_-512.0.stream: 100%|██████████| 6446/6446 [10:36<00:00, 10.13chunk/s]\n",
      "Processing chunks in UOX1_no_bg_beam_centers19_-511.5_-512.0.stream:  96%|█████████▌| 6166/6446 [10:38<00:40,  6.84chunk/s]"
     ]
    },
    {
     "name": "stdout",
     "output_type": "stream",
     "text": [
      "No diffraction resolution found in chunk.\n"
     ]
    },
    {
     "name": "stderr",
     "output_type": "stream",
     "text": [
      "Processing chunks in UOX1_no_bg_beam_centers19_-512.0_-511.5.stream: 100%|██████████| 6446/6446 [10:50<00:00,  9.91chunk/s]\n",
      "Processing chunks in UOX1_no_bg_beam_centers19_-512.5_-511.5.stream: 100%|██████████| 6446/6446 [10:52<00:00,  9.87chunk/s]\n",
      "Processing chunks in UOX1_no_bg_beam_centers19_-512.0_-512.5.stream: 100%|██████████| 6446/6446 [11:00<00:00,  9.76chunk/s]\n",
      "Processing chunks in UOX1_no_bg_beam_centers19_-511.5_-512.0.stream: 100%|██████████| 6446/6446 [11:04<00:00,  9.70chunk/s]\n",
      "Processing chunks in UOX1_no_bg_beam_centers19_-512.5_-512.5.stream: 100%|██████████| 6446/6446 [11:12<00:00,  9.59chunk/s]\n",
      "Processing chunks in UOX1_no_bg_beam_centers19_-511.5_-512.5.stream: 100%|██████████| 6446/6446 [11:28<00:00,  9.36chunk/s]\n",
      "Processing chunks in UOX1_no_bg_beam_centers19_-511.5_-511.5.stream: 100%|██████████| 6446/6446 [11:39<00:00,  9.22chunk/s]\n"
     ]
    },
    {
     "name": "stdout",
     "output_type": "stream",
     "text": [
      "Combined metrics CSV written to /home/buster/UOX1/UOX1_min_10/CF_intensity_copy5/UOX1_min_10_no_bg_beam_centers19/combined_metrics_IQM_SUM_12_12_10_-12_12_-15_10_13_-13.csv\n",
      "Best results stream file written to /home/buster/UOX1/UOX1_min_10/CF_intensity_copy5/UOX1_min_10_no_bg_beam_centers19/best_results_IQM_SUM_12_12_10_-12_12_-15_10_13_-13.stream\n",
      "Writing .sol file from stream: /home/buster/UOX1/UOX1_min_10/CF_intensity_copy5/UOX1_min_10_no_bg_beam_centers19/best_results_IQM_SUM_12_12_10_-12_12_-15_10_13_-13.stream\n",
      "Bash script generated: /home/buster/UOX1/UOX1_min_10/CF_intensity_copy5/UOX1_min_10_no_bg_beam_centers19/IQM_SUM_12_12_10_-12_12_-15_10_13_-13.sh\n",
      "Running fast integration...\n"
     ]
    },
    {
     "name": "stderr",
     "output_type": "stream",
     "text": [
      "Writing integration output stream:  93%|█████████▎| 6005/6444 [01:30<00:06, 66.43lines/s]\n"
     ]
    },
    {
     "name": "stdout",
     "output_type": "stream",
     "text": [
      "Integration executed successfully\n",
      "Merging fast integration results...\n",
      "Running partialator for stream file: /home/buster/UOX1/UOX1_min_10/CF_intensity_copy5/UOX1_min_10_no_bg_beam_centers19/IQM_SUM_12_12_10_-12_12_-15_10_13_-13/int_rings_2-5-10.stream\n"
     ]
    },
    {
     "name": "stderr",
     "output_type": "stream",
     "text": [
      "Partialator Progress: 100%|██████████| 5/5 [02:39<00:00, 31.87s/Residuals]\n"
     ]
    },
    {
     "name": "stdout",
     "output_type": "stream",
     "text": [
      "Partialator completed for stream file: /home/buster/UOX1/UOX1_min_10/CF_intensity_copy5/UOX1_min_10_no_bg_beam_centers19/IQM_SUM_12_12_10_-12_12_-15_10_13_-13/int_rings_2-5-10.stream\n",
      "Converting crystfel.hkl to output.mtz in directory: /home/buster/UOX1/UOX1_min_10/CF_intensity_copy5/UOX1_min_10_no_bg_beam_centers19/IQM_SUM_12_12_10_-12_12_-15_10_13_-13/merge_3_iter_int_rings_2-5-10\n",
      "Conversion to output.mtz completed for directory: /home/buster/UOX1/UOX1_min_10/CF_intensity_copy5/UOX1_min_10_no_bg_beam_centers19/IQM_SUM_12_12_10_-12_12_-15_10_13_-13/merge_3_iter_int_rings_2-5-10\n",
      "Merging Complete for int_rings_2-5-10\n",
      "Refining fast integration results...\n",
      "Processing folder: /home/buster/UOX1/UOX1_min_10/CF_intensity_copy5/UOX1_min_10_no_bg_beam_centers19/IQM_SUM_12_12_10_-12_12_-15_10_13_-13/merge_3_iter_int_rings_2-5-10\n"
     ]
    },
    {
     "name": "stderr",
     "output_type": "stream",
     "text": [
      "Refmac5 CGMAT cycles: 100%|██████████| 30/30 [01:16<00:00,  2.53s/cycle]"
     ]
    },
    {
     "name": "stdout",
     "output_type": "stream",
     "text": [
      "Automation process completed successfully for weights: (12, 12, 10, -12, 12, -15, 10, 13, -13) with a final R factor of 0.2282\n"
     ]
    },
    {
     "name": "stderr",
     "output_type": "stream",
     "text": [
      "\n"
     ]
    }
   ],
   "source": [
    "from find_first_file import find_first_file\n",
    "from automate_evaluation_and_integration import automate_evaluation_and_integration\n",
    "\n",
    "stream_file_folder = '/home/buster/UOX1/UOX1_min_10/CF_intensity_copy5/UOX1_min_10_no_bg_beam_centers19'\n",
    "cellfile_path = find_first_file(stream_file_folder, \".cell\")\n",
    "pdb_file = find_first_file(stream_file_folder, \".pdb\")\n",
    "\n",
    "weights_list = [\n",
    "    (12, 12, 10, -12, 12, -15, 10, 13, -13)  \n",
    "]\n",
    "\n",
    "lattice = \"oI\"  # Pearson Symbol read from .cell file first letter for lattice type and second for centering\n",
    "ring_size = [(2, 5, 10)]\n",
    "pointgroup = \"mmm\"\n",
    "num_threads = 23\n",
    "iterations = 3 # iterations during mergin\n",
    "bins = 20 # resolution bins during refinement\n",
    "min_res = 1.5 # min resolution for refinement\n",
    "\n",
    "automate_evaluation_and_integration(stream_file_folder, weights_list, lattice, ring_size, cellfile_path, pointgroup, num_threads, bins, pdb_file, min_res, iterations)\n"
   ]
  }
 ],
 "metadata": {
  "kernelspec": {
   "display_name": "diffractem_env",
   "language": "python",
   "name": "python3"
  },
  "language_info": {
   "codemirror_mode": {
    "name": "ipython",
    "version": 3
   },
   "file_extension": ".py",
   "mimetype": "text/x-python",
   "name": "python",
   "nbconvert_exporter": "python",
   "pygments_lexer": "ipython3",
   "version": "3.10.14"
  }
 },
 "nbformat": 4,
 "nbformat_minor": 2
}
