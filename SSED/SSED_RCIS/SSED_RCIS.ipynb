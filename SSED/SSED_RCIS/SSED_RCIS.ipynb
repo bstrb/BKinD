{
 "cells": [
  {
   "cell_type": "markdown",
   "metadata": {},
   "source": [
    "Evaluate indexing results based on intensity weighted RMSD, cell parameter comparison and number of indexed reflections"
   ]
  },
  {
   "cell_type": "code",
   "execution_count": null,
   "metadata": {},
   "outputs": [],
   "source": [
    "# Evaluate indexing over multiple stream files using RCIS metric and combine into a best indexing results stream file\n",
    "\n",
    "from evaluate_multiple_streams import evaluate_multiple_streams\n",
    "\n",
    "stream_file_folder = \"/home/buster/UOX1/3x3\"\n",
    "wrmsd_weight = 1\n",
    "cd_weight = 2\n",
    "rpr_weight = 3\n",
    "\n",
    "evaluate_multiple_streams(stream_file_folder, wrmsd_weight, cd_weight, rpr_weight)\n"
   ]
  },
  {
   "cell_type": "code",
   "execution_count": 9,
   "metadata": {},
   "outputs": [],
   "source": [
    "# Write stream file to .sol file \n",
    "\n",
    "from read_stream_write_sol import read_stream_write_sol\n",
    "\n",
    "input_stream_folder = f\"/home/buster/UOX1/3x3/best_results_RCIS_{wrmsd_weight}_{cd_weight}_{rpr_weight}.stream\"\n",
    "lattice = \"oI\" # Pearson Symbol read from .cell file first letter for lattice type and second for centering\n",
    "\n",
    "read_stream_write_sol(input_stream_folder, lattice)\n"
   ]
  },
  {
   "cell_type": "code",
   "execution_count": null,
   "metadata": {},
   "outputs": [],
   "source": [
    "# Fast Integration Function Definitions\n",
    "import os\n",
    "from rcis_int_def import fast_integration\n",
    "from generate_bash_script import generate_bash_script\n",
    "\n",
    "# Fast integration\n",
    "ring_size = [(3,4,7)]\n",
    "\n",
    "bash_file_name = f\"fast_int_RCIS_{wrmsd_weight}_{cd_weight}_{rpr_weight}\"\n",
    "bash_file_path = os.path.join(stream_file_folder, bash_file_name)+\".sh\"\n",
    "# f\"/home/buster/UOX1/3x3/.sh\" # Create a bash file using create_bash_lst script\n",
    "output_stream_format = f\"/home/buster/UOX1/3x3/fast_int_RCIS_{wrmsd_weight}_{cd_weight}_{rpr_weight}/fast_int.stream\"\n",
    "\n",
    "generate_bash_script(bash_file_name, stream_file_folder)\n",
    "\n",
    "fast_integration(bash_file_path, output_stream_format, integration=\"rings\", ring_sizes = ring_size)"
   ]
  },
  {
   "cell_type": "code",
   "execution_count": null,
   "metadata": {},
   "outputs": [],
   "source": [
    "# Merge Fast Integration Results Function Definition\n",
    "\n",
    "from fast_merge_def import merge_and_write_mtz\n",
    "\n",
    "# Merge Fast Integration Results\n",
    "input_folder_path = f\"/home/buster/UOX1/3x3/fast_int_RCIS_{wrmsd_weight}_{cd_weight}_{rpr_weight}\"\n",
    "cellfile_path = \"/home/buster/UOX1/UOX.cell\"\n",
    "pointgroup = \"mmm\"\n",
    "num_threads = 23\n",
    "\n",
    "##### Enter your parameters above #####\n",
    "\n",
    "merge_and_write_mtz(input_folder_path, cellfile_path, pointgroup, num_threads)"
   ]
  },
  {
   "cell_type": "code",
   "execution_count": null,
   "metadata": {},
   "outputs": [],
   "source": [
    "# Refine Fast Integration Results Function Definitions\n",
    "\n",
    "from rcis_ref_def import process_run_folders\n",
    "\n",
    "# Refine Fast Integration Results\n",
    "\n",
    "bins = 20\n",
    "\n",
    "# Global variables for filenames\n",
    "base_path =  input_folder_path\n",
    "pdb_file = \"/home/buster/UOX1/3x3/UOX.pdb\"\n",
    "\n",
    "process_run_folders(base_path, pdb_file, bins)\n"
   ]
  },
  {
   "cell_type": "code",
   "execution_count": null,
   "metadata": {},
   "outputs": [],
   "source": [
    "# -------------------------\n",
    "# Part 3: Notebook Script to Run the Automation\n",
    "# -------------------------\n",
    "from find_first_file import find_first_file\n",
    "from automate_evaluation_and_integration import automate_evaluation_and_integration\n",
    "\n",
    "stream_file_folder = \"/home/buster/UOX1/3x3\"\n",
    "cellfile_path = find_first_file(stream_file_folder, \".cell\")\n",
    "pdb_file = \"/home/buster/UOX1/3x3/UOX.pdb\"\n",
    "# weights_list = [(1, 1, 10), (10, 1, 1), (1, 10, 1)]\n",
    "weights_list = [(1, 10, 10)]\n",
    "lattice = \"oI\"  # Pearson Symbol read from .cell file first letter for lattice type and second for centering\n",
    "ring_size = [(3, 4, 7)]\n",
    "pointgroup = \"mmm\"\n",
    "num_threads = 23\n",
    "bins = 20\n",
    "\n",
    "automate_evaluation_and_integration(stream_file_folder, weights_list, lattice, ring_size, cellfile_path, pointgroup, num_threads, bins, pdb_file)\n"
   ]
  }
 ],
 "metadata": {
  "kernelspec": {
   "display_name": "diffractem_env",
   "language": "python",
   "name": "python3"
  },
  "language_info": {
   "codemirror_mode": {
    "name": "ipython",
    "version": 3
   },
   "file_extension": ".py",
   "mimetype": "text/x-python",
   "name": "python",
   "nbconvert_exporter": "python",
   "pygments_lexer": "ipython3",
   "version": "3.10.14"
  }
 },
 "nbformat": 4,
 "nbformat_minor": 2
}
