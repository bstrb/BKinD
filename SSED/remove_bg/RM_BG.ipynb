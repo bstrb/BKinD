{
 "cells": [
  {
   "cell_type": "code",
   "execution_count": null,
   "metadata": {},
   "outputs": [
    {
     "name": "stdout",
     "output_type": "stream",
     "text": [
      "Processing 5591 selected images.\n"
     ]
    },
    {
     "name": "stderr",
     "output_type": "stream",
     "text": [
      "Processing images: 100%|██████████| 5591/5591 [36:01<00:00,  2.59it/s]  "
     ]
    },
    {
     "name": "stdout",
     "output_type": "stream",
     "text": [
      "Processing completed.\n"
     ]
    },
    {
     "name": "stderr",
     "output_type": "stream",
     "text": [
      "\n"
     ]
    }
   ],
   "source": [
    "from remove_background_backup import remove_background\n",
    "\n",
    "# Paths to the files\n",
    "h5_file_path = '/home/buster/UOX1/UOX1_min_10/UOX1_min_10.h5'\n",
    "new_h5_file_path = '/home/buster/UOX1/UOX1_min_10/UOX1_min_10_no_bg.h5'\n",
    "\n",
    "selected_indices = None \n",
    "\n",
    "# Call the main processing function\n",
    "remove_background(h5_file_path, new_h5_file_path, selected_indices=selected_indices)\n"
   ]
  }
 ],
 "metadata": {
  "kernelspec": {
   "display_name": "diffractem_env",
   "language": "python",
   "name": "python3"
  },
  "language_info": {
   "codemirror_mode": {
    "name": "ipython",
    "version": 3
   },
   "file_extension": ".py",
   "mimetype": "text/x-python",
   "name": "python",
   "nbconvert_exporter": "python",
   "pygments_lexer": "ipython3",
   "version": "3.10.14"
  }
 },
 "nbformat": 4,
 "nbformat_minor": 2
}
