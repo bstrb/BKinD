{
 "cells": [
  {
   "cell_type": "markdown",
   "metadata": {},
   "source": [
    "Conversion from .emd to .h5 format."
   ]
  },
  {
   "cell_type": "code",
   "execution_count": null,
   "metadata": {},
   "outputs": [],
   "source": [
    "# Conversion Function Definitions\n",
    "\n",
    "from conversion_def import find_and_process_velox_files"
   ]
  },
  {
   "cell_type": "code",
   "execution_count": null,
   "metadata": {},
   "outputs": [],
   "source": [
    "# Convert to HDF5\n",
    "inputfolder_path= \"\"\n",
    "\n",
    "find_and_process_velox_files(inputfolder_path)"
   ]
  },
  {
   "cell_type": "markdown",
   "metadata": {},
   "source": [
    "Peakfinding using peakfinder8 from diffractem package. First open .h5 file in crystfel using .geom file that refers to correct mask file and find good peakfinding settings. Make sure there are enough friedel pairs for center beam finding and fitting. Don't put the mask in the same folder as the .h5 file since it is also .h5 format. If peakfinding has been run old data will be deleted."
   ]
  },
  {
   "cell_type": "code",
   "execution_count": 9,
   "metadata": {},
   "outputs": [],
   "source": [
    "# Peak Finder Function Definitions\n",
    "\n",
    "from peakfinder_def import find_files_and_run_peakfinding"
   ]
  },
  {
   "cell_type": "code",
   "execution_count": null,
   "metadata": {},
   "outputs": [],
   "source": [
    "# Peak Finder\n",
    "inputfolder_path= \"\"\n",
    "\n",
    "# Peakfinder settings:\n",
    "threshold = 80\n",
    "min_snr = 3\n",
    "min_pix_count = 2\n",
    "max_pix_count = 200\n",
    "local_bg_radius = 9\n",
    "min_res = 0\n",
    "max_res = 1000\n",
    "x0 = 512\n",
    "y0 = 512  \n",
    "\n",
    "##### Enter parameters above #####\n",
    "\n",
    "find_files_and_run_peakfinding(inputfolder_path, x0, y0, threshold, min_snr, min_pix_count, max_pix_count, local_bg_radius, min_res, max_res)"
   ]
  },
  {
   "cell_type": "markdown",
   "metadata": {},
   "source": [
    "Find the center beam spot center on all frames using friedel pairs and  interpolation."
   ]
  },
  {
   "cell_type": "code",
   "execution_count": 11,
   "metadata": {},
   "outputs": [],
   "source": [
    "# Find Center Beam Spot Center Function Definitions\n",
    "\n",
    "from centerfinding_def import find_files_and_run_centerfinding"
   ]
  },
  {
   "cell_type": "code",
   "execution_count": null,
   "metadata": {},
   "outputs": [],
   "source": [
    "# Find Center Beam Spot Center\n",
    "tolerance = 25 # If you know that your beam center is close to the center of the detector you can reduce the tolerance to reduce the processing time\n",
    "min_peaks = 30 # Minimum number of peaks in a frame to be considered\n",
    "resolution_limit = 150 # Maximum resultuion of peaks to be considered\n",
    "min_samples_fraction = 0.05  # Fraction of datapoints in the largest cluster to be accepted\n",
    "x0 = 512\n",
    "y0 = 512\n",
    "\n",
    "inputfolder_path= \"\"\n",
    "\n",
    "##### Enter parameters above #####\n",
    "\n",
    "find_files_and_run_centerfinding(inputfolder_path, x0, y0, tolerance, min_peaks, resolution_limit, min_samples_fraction)"
   ]
  },
  {
   "cell_type": "markdown",
   "metadata": {},
   "source": [
    "Improve the center beam center with a LOWESS fit"
   ]
  },
  {
   "cell_type": "code",
   "execution_count": 13,
   "metadata": {},
   "outputs": [],
   "source": [
    "# Center Beam Drift Refinement Function Definitions\n",
    "\n",
    "from centerrefinement_def import find_files_and_run_centerrefinement\n"
   ]
  },
  {
   "cell_type": "code",
   "execution_count": null,
   "metadata": {},
   "outputs": [],
   "source": [
    "# Center Beam Drift Refinement\n",
    "tolerance = 6 # If you know that your beam center is close to the center of the detector you can reduce the tolerance to reduce the processing time\n",
    "min_peaks = 30 # Minimum number of peaks in frame to be used for refinement\n",
    "resolution_limit = 150 # Maximum resolution of peaks to be considered for refinement\n",
    "max_iterations = 10 # Maximum number of iterations for refinement\n",
    "convergence_threshold = 0.05 # Refinement is stopped when the deviation of the LOWESS fit does not exceed the threshold (given in pixels)\n",
    "\n",
    "inputfolder_path= \"\"\n",
    "\n",
    "##### Enter your parameters above #####\n",
    "\n",
    "find_files_and_run_centerrefinement(inputfolder_path, tolerance, min_peaks, resolution_limit, max_iterations, convergence_threshold)"
   ]
  },
  {
   "cell_type": "markdown",
   "metadata": {},
   "source": [
    "And now to find the indexing using xGandalf (5x5=25 output streams as default)"
   ]
  },
  {
   "cell_type": "code",
   "execution_count": 1,
   "metadata": {},
   "outputs": [],
   "source": [
    "# Indexing Function Definitions\n",
    "\n",
    "from gandalf_iterator import gandalf_iterator"
   ]
  },
  {
   "cell_type": "code",
   "execution_count": null,
   "metadata": {},
   "outputs": [],
   "source": [
    "# Indexing (To speed up process make sure output stream is in wsl folder)\n",
    "geomfile_path = \"/home/buster/UOX1/UOX.geom\"\n",
    "cellfile_path = \"/home/buster/UOX1/UOX.cell\"\n",
    "input_path = \"/home/buster/UOX1\"\n",
    "output_dir = \"/home/buster/UOX1\"\n",
    "output_file_base = \"UOX1\"\n",
    "\n",
    "num_threads = 23\n",
    "indexing_method = \"xgandalf\"\n",
    "resolution_push = 0\n",
    "integration_method = \"rings\"\n",
    "int_radius = \"4,5,8\"\n",
    "min_peaks = 15\n",
    "xgandalf_tolerance = 0.02\n",
    "xgandalf_sampling_pitch = 5\n",
    "xgandalf_min_vector_length = 40\n",
    "xgandalf_max_vector_length = 110\n",
    "xgandalf_iterations = 1\n",
    "tolerance = \"5,5,5,5\"\n",
    "step= 0.01\n",
    "layers= 2\n",
    "##### Enter your parameters above #####\n",
    "\n",
    "gandalf_iterator(geomfile_path, cellfile_path, input_path, output_file_base, output_dir, num_threads, indexing_method, resolution_push, integration_method, int_radius, min_peaks, xgandalf_tolerance, xgandalf_sampling_pitch, xgandalf_min_vector_length, xgandalf_max_vector_length, xgandalf_iterations, tolerance, step, layers)"
   ]
  },
  {
   "cell_type": "markdown",
   "metadata": {},
   "source": [
    "Then based on RMSD between found peaks and indexed reflections combine the best indexings from xGandalf for each frame to one .stream file and then write a .sol from combinded .stream file."
   ]
  },
  {
   "cell_type": "code",
   "execution_count": 1,
   "metadata": {},
   "outputs": [],
   "source": [
    "# Find Best Results Function Definitions\n",
    "\n",
    "from best_results_def import find_best_results, read_stream_write_sol"
   ]
  },
  {
   "cell_type": "code",
   "execution_count": 2,
   "metadata": {},
   "outputs": [
    {
     "name": "stdout",
     "output_type": "stream",
     "text": [
      "['/home/buster/UOX1/5x5/UOX1_-511.98_-512.02.stream', '/home/buster/UOX1/5x5/UOX1_-512.0_-512.01.stream', '/home/buster/UOX1/5x5/UOX1_-512.02_-512.01.stream', '/home/buster/UOX1/5x5/UOX1_-512.0_-511.98.stream', '/home/buster/UOX1/5x5/UOX1_-512.0_-511.99.stream', '/home/buster/UOX1/5x5/UOX1_-512.01_-512.01.stream', '/home/buster/UOX1/5x5/UOX1_-512.01_-511.98.stream', '/home/buster/UOX1/5x5/best_results_RCIS_1_2_1_-1_1_1.stream', '/home/buster/UOX1/5x5/UOX1_-512_-512.stream', '/home/buster/UOX1/5x5/UOX1_-512.02_-512.0.stream', '/home/buster/UOX1/5x5/best_results_RCIS_1_1_2_-1_1_1.stream', '/home/buster/UOX1/5x5/UOX1_-511.98_-512.0.stream', '/home/buster/UOX1/5x5/UOX1_-512.01_-512.0.stream', '/home/buster/UOX1/5x5/UOX1_-512.01_-512.02.stream', '/home/buster/UOX1/5x5/UOX1_-511.98_-511.99.stream', '/home/buster/UOX1/5x5/best_results_RCIS_1_3_2_-1_1_1.stream', '/home/buster/UOX1/5x5/UOX1_-511.98_-511.98.stream', '/home/buster/UOX1/5x5/UOX1_-512.02_-511.98.stream', '/home/buster/UOX1/5x5/UOX1_-511.99_-512.0.stream', '/home/buster/UOX1/5x5/UOX1_-511.99_-512.01.stream', '/home/buster/UOX1/5x5/best_results_RCIS_1_2_3_-1_1_1.stream', '/home/buster/UOX1/5x5/UOX1_-511.98_-512.01.stream', '/home/buster/UOX1/5x5/UOX1_-511.99_-511.98.stream', '/home/buster/UOX1/5x5/UOX1_-512.02_-511.99.stream', '/home/buster/UOX1/5x5/UOX1_-511.99_-512.02.stream', '/home/buster/UOX1/5x5/UOX1_-512.01_-511.99.stream', '/home/buster/UOX1/5x5/UOX1_-512.0_-512.02.stream', '/home/buster/UOX1/5x5/UOX1_-511.99_-511.99.stream', '/home/buster/UOX1/5x5/UOX1_-512.02_-512.02.stream']\n",
      "File: /home/buster/UOX1/5x5/UOX1_-511.98_-512.02.stream, Average RMSD: 6.5852318995463515, Chunk Count: 6280, Indexed Patterns: 1222\n",
      "File: /home/buster/UOX1/5x5/UOX1_-512.0_-512.01.stream, Average RMSD: 6.344920352575455, Chunk Count: 6280, Indexed Patterns: 1175\n",
      "File: /home/buster/UOX1/5x5/UOX1_-512.02_-512.01.stream, Average RMSD: 6.147206784858802, Chunk Count: 6280, Indexed Patterns: 1191\n",
      "File: /home/buster/UOX1/5x5/UOX1_-512.0_-511.98.stream, Average RMSD: 6.107639090102283, Chunk Count: 6280, Indexed Patterns: 1226\n",
      "File: /home/buster/UOX1/5x5/UOX1_-512.0_-511.99.stream, Average RMSD: 6.03311574791211, Chunk Count: 6280, Indexed Patterns: 1240\n",
      "File: /home/buster/UOX1/5x5/UOX1_-512.01_-512.01.stream, Average RMSD: 5.8274603083666365, Chunk Count: 6280, Indexed Patterns: 1238\n",
      "File: /home/buster/UOX1/5x5/UOX1_-512.01_-511.98.stream, Average RMSD: 6.241343762269866, Chunk Count: 6280, Indexed Patterns: 1205\n",
      "File: /home/buster/UOX1/5x5/best_results_RCIS_1_2_1_-1_1_1.stream, Average RMSD: 6.838759843236504, Chunk Count: 4673, Indexed Patterns: 4673\n",
      "File: /home/buster/UOX1/5x5/UOX1_-512_-512.stream, Average RMSD: 6.275758510891806, Chunk Count: 6280, Indexed Patterns: 1164\n",
      "File: /home/buster/UOX1/5x5/UOX1_-512.02_-512.0.stream, Average RMSD: 6.218619016502492, Chunk Count: 6280, Indexed Patterns: 1194\n",
      "File: /home/buster/UOX1/5x5/best_results_RCIS_1_1_2_-1_1_1.stream, Average RMSD: 6.7961760941719955, Chunk Count: 4673, Indexed Patterns: 4673\n",
      "File: /home/buster/UOX1/5x5/UOX1_-511.98_-512.0.stream, Average RMSD: 6.388029381535546, Chunk Count: 6280, Indexed Patterns: 1190\n",
      "File: /home/buster/UOX1/5x5/UOX1_-512.01_-512.0.stream, Average RMSD: 6.289800007948296, Chunk Count: 6280, Indexed Patterns: 1239\n",
      "File: /home/buster/UOX1/5x5/UOX1_-512.01_-512.02.stream, Average RMSD: 6.211428335538882, Chunk Count: 6280, Indexed Patterns: 1179\n",
      "File: /home/buster/UOX1/5x5/UOX1_-511.98_-511.99.stream, Average RMSD: 6.2019921224453824, Chunk Count: 6280, Indexed Patterns: 1164\n",
      "File: /home/buster/UOX1/5x5/best_results_RCIS_1_3_2_-1_1_1.stream, Average RMSD: 6.885345801145022, Chunk Count: 4673, Indexed Patterns: 4673\n",
      "File: /home/buster/UOX1/5x5/UOX1_-511.98_-511.98.stream, Average RMSD: 6.188687430043281, Chunk Count: 6280, Indexed Patterns: 1187\n",
      "File: /home/buster/UOX1/5x5/UOX1_-512.02_-511.98.stream, Average RMSD: 6.135327115367512, Chunk Count: 6280, Indexed Patterns: 1242\n",
      "File: /home/buster/UOX1/5x5/UOX1_-511.99_-512.0.stream, Average RMSD: 6.5820658637377685, Chunk Count: 6280, Indexed Patterns: 1246\n",
      "File: /home/buster/UOX1/5x5/UOX1_-511.99_-512.01.stream, Average RMSD: 6.1655335897384385, Chunk Count: 6280, Indexed Patterns: 1180\n",
      "File: /home/buster/UOX1/5x5/best_results_RCIS_1_2_3_-1_1_1.stream, Average RMSD: 6.8545099175649025, Chunk Count: 4673, Indexed Patterns: 4673\n",
      "File: /home/buster/UOX1/5x5/UOX1_-511.98_-512.01.stream, Average RMSD: 6.173942615043025, Chunk Count: 6280, Indexed Patterns: 1212\n",
      "File: /home/buster/UOX1/5x5/UOX1_-511.99_-511.98.stream, Average RMSD: 5.865474986256803, Chunk Count: 6280, Indexed Patterns: 1199\n",
      "File: /home/buster/UOX1/5x5/UOX1_-512.02_-511.99.stream, Average RMSD: 5.953793508431188, Chunk Count: 6280, Indexed Patterns: 1195\n",
      "File: /home/buster/UOX1/5x5/UOX1_-511.99_-512.02.stream, Average RMSD: 5.679012715535995, Chunk Count: 6280, Indexed Patterns: 1215\n",
      "File: /home/buster/UOX1/5x5/UOX1_-512.01_-511.99.stream, Average RMSD: 6.1076457160017155, Chunk Count: 6280, Indexed Patterns: 1216\n",
      "File: /home/buster/UOX1/5x5/UOX1_-512.0_-512.02.stream, Average RMSD: 5.936042216607021, Chunk Count: 6280, Indexed Patterns: 1208\n",
      "File: /home/buster/UOX1/5x5/UOX1_-511.99_-511.99.stream, Average RMSD: 6.130557607972404, Chunk Count: 6280, Indexed Patterns: 1217\n",
      "File: /home/buster/UOX1/5x5/UOX1_-512.02_-512.02.stream, Average RMSD: 6.122126632201617, Chunk Count: 6280, Indexed Patterns: 1217\n",
      "File: /home/buster/UOX1/5x5/best_results.stream, Average RMSD: 5.968, Chunk Count: 4673, Indexed Patterns: 4673\n",
      "Adding header to /home/buster/UOX1/5x5/best_results.stream...\n",
      "/home/buster/UOX1/5x5/UOX1_-511.98_-512.02.stream\n",
      "Header copied and added to /home/buster/UOX1/5x5/best_results.stream\n"
     ]
    },
    {
     "ename": "FileNotFoundError",
     "evalue": "[Errno 2] No such file or directory: '/home/buster/UOX1/5x5/best_results_RMSD.stream'",
     "output_type": "error",
     "traceback": [
      "\u001b[0;31m---------------------------------------------------------------------------\u001b[0m",
      "\u001b[0;31mFileNotFoundError\u001b[0m                         Traceback (most recent call last)",
      "Cell \u001b[0;32mIn[2], line 14\u001b[0m\n\u001b[1;32m     10\u001b[0m \u001b[38;5;28;01mimport\u001b[39;00m \u001b[38;5;21;01mos\u001b[39;00m\n\u001b[1;32m     12\u001b[0m output_file_path \u001b[38;5;241m=\u001b[39m os\u001b[38;5;241m.\u001b[39mpath\u001b[38;5;241m.\u001b[39mjoin(inputfolder_path, \u001b[38;5;124m\"\u001b[39m\u001b[38;5;124mbest_results_RMSD.stream\u001b[39m\u001b[38;5;124m\"\u001b[39m)\n\u001b[0;32m---> 14\u001b[0m \u001b[43mread_stream_write_sol\u001b[49m\u001b[43m(\u001b[49m\u001b[43moutput_file_path\u001b[49m\u001b[43m,\u001b[49m\u001b[43m \u001b[49m\u001b[43mlattice\u001b[49m\u001b[43m)\u001b[49m\n",
      "File \u001b[0;32m/mnt/c/Users/bubl3932/Desktop/BKinD/SSED/SSED_FULL/best_results_def.py:242\u001b[0m, in \u001b[0;36mread_stream_write_sol\u001b[0;34m(stream_file_path, lattice)\u001b[0m\n\u001b[1;32m    239\u001b[0m solfilename \u001b[38;5;241m=\u001b[39m filename_without_extension \u001b[38;5;241m+\u001b[39m \u001b[38;5;124m'\u001b[39m\u001b[38;5;124m.sol\u001b[39m\u001b[38;5;124m'\u001b[39m\n\u001b[1;32m    240\u001b[0m solfile_path \u001b[38;5;241m=\u001b[39m os\u001b[38;5;241m.\u001b[39mpath\u001b[38;5;241m.\u001b[39mjoin(base,solfilename)\n\u001b[0;32m--> 242\u001b[0m \u001b[38;5;28;01mwith\u001b[39;00m \u001b[38;5;28;43mopen\u001b[39;49m\u001b[43m(\u001b[49m\u001b[43mstream_file_path\u001b[49m\u001b[43m,\u001b[49m\u001b[43m \u001b[49m\u001b[38;5;124;43m'\u001b[39;49m\u001b[38;5;124;43mr\u001b[39;49m\u001b[38;5;124;43m'\u001b[39;49m\u001b[43m)\u001b[49m \u001b[38;5;28;01mas\u001b[39;00m stream_file, \u001b[38;5;28mopen\u001b[39m(solfile_path, \u001b[38;5;124m'\u001b[39m\u001b[38;5;124mw\u001b[39m\u001b[38;5;124m'\u001b[39m) \u001b[38;5;28;01mas\u001b[39;00m output_file:\n\u001b[1;32m    243\u001b[0m     current_block \u001b[38;5;241m=\u001b[39m []\n\u001b[1;32m    244\u001b[0m     \u001b[38;5;28;01mfor\u001b[39;00m line \u001b[38;5;129;01min\u001b[39;00m stream_file:\n",
      "\u001b[0;31mFileNotFoundError\u001b[0m: [Errno 2] No such file or directory: '/home/buster/UOX1/5x5/best_results_RMSD.stream'"
     ]
    }
   ],
   "source": [
    "# Find Best Results\n",
    "inputfolder_path = \"/home/buster/UOX1/5x5\"\n",
    "output_path= \"/home/buster/UOX1/5x5\"\n",
    "lattice = \"oI\" # Pearson Symbol read from .cell file first letter for lattice type and second for centering\n",
    "\n",
    "##### Enter your parameters above #####\n",
    "\n",
    "# find_best_results(inputfolder_path, output_path)\n",
    "\n",
    "import os\n",
    "\n",
    "output_file_path = os.path.join(inputfolder_path, \"best_results_RMSD.stream\")\n",
    "\n",
    "read_stream_write_sol(output_file_path, lattice)"
   ]
  },
  {
   "cell_type": "markdown",
   "metadata": {},
   "source": [
    "Integrate with best found ring for integration (From Fast Integration)"
   ]
  },
  {
   "cell_type": "code",
   "execution_count": null,
   "metadata": {},
   "outputs": [],
   "source": [
    "# Full Integration Function Definitions\n",
    "\n",
    "from full_int_def import run_indexamajig_with_frames"
   ]
  },
  {
   "cell_type": "code",
   "execution_count": null,
   "metadata": {},
   "outputs": [],
   "source": [
    "# Full Integration\n",
    "geomfile_path = \".geom\"\n",
    "cellfile_path = \".cell\"\n",
    "input_path = \"\"\n",
    "\n",
    "x = -512\n",
    "y = -512\n",
    "num_threads = 23\n",
    "indexing_method = \"file\"\n",
    "resolution_push = 5\n",
    "integration_method = \"rings\"\n",
    "int_radius = \"4,5,9\"\n",
    "min_peaks = 5\n",
    "xgandalf_tolerance = 0.02\n",
    "xgandalf_sampling_pitch = 5\n",
    "xgandalf_min_vector_length = 40\n",
    "xgandalf_max_vector_length = 110\n",
    "xgandalf_iterations = 1\n",
    "tolerance = \"5,5,5,5\"\n",
    "overpredict = True\n",
    "\n",
    "##### Enter your parameters above #####\n",
    "\n",
    "run_indexamajig_with_frames(x, y, geomfile_path, cellfile_path, input_path, num_threads, indexing_method, resolution_push, integration_method, int_radius, min_peaks, xgandalf_tolerance, xgandalf_sampling_pitch, xgandalf_iterations, tolerance)"
   ]
  },
  {
   "cell_type": "markdown",
   "metadata": {},
   "source": [
    "Merge integration results"
   ]
  },
  {
   "cell_type": "code",
   "execution_count": null,
   "metadata": {},
   "outputs": [],
   "source": [
    "# Full Merge Function Definitions\n",
    "\n",
    "from full_merge_def import merge_and_write_mtz"
   ]
  },
  {
   "cell_type": "code",
   "execution_count": null,
   "metadata": {},
   "outputs": [],
   "source": [
    "# Merge\n",
    "input_folder_path = \"\"\n",
    "cellfile_path = \"\"\n",
    "pointgroup = \"\"\n",
    "\n",
    "##### Enter your parameters above #####\n",
    "\n",
    "merge_and_write_mtz(input_folder_path, cellfile_path, pointgroup)"
   ]
  },
  {
   "cell_type": "markdown",
   "metadata": {},
   "source": [
    "Refinement using REFMAC5"
   ]
  },
  {
   "cell_type": "code",
   "execution_count": null,
   "metadata": {},
   "outputs": [],
   "source": [
    "# Full Refine Function Definitions\n",
    "\n",
    "from full_ref_def import process_run_folders"
   ]
  },
  {
   "cell_type": "code",
   "execution_count": null,
   "metadata": {},
   "outputs": [],
   "source": [
    "# Full Refine\n",
    "\n",
    "run_number = 1\n",
    "bins = 30\n",
    "\n",
    "# Global variables for filenames\n",
    "base_path = \"\"\n",
    "pdb_filename = \".pdb\"\n",
    "mtz_orig_filename = \"output.mtz\"\n",
    "output_filename = f\"output_bins_{bins}.txt\"\n",
    "\n",
    "process_run_folders(base_path, run_number)"
   ]
  }
 ],
 "metadata": {
  "kernelspec": {
   "display_name": "diffractem_env",
   "language": "python",
   "name": "python3"
  },
  "language_info": {
   "codemirror_mode": {
    "name": "ipython",
    "version": 3
   },
   "file_extension": ".py",
   "mimetype": "text/x-python",
   "name": "python",
   "nbconvert_exporter": "python",
   "pygments_lexer": "ipython3",
   "version": "3.10.14"
  }
 },
 "nbformat": 4,
 "nbformat_minor": 2
}
