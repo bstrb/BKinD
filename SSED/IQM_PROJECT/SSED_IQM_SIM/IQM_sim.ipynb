{
 "cells": [
  {
   "cell_type": "code",
   "execution_count": 1,
   "metadata": {},
   "outputs": [
    {
     "name": "stdout",
     "output_type": "stream",
     "text": [
      "Evaluating multiple stream files with weights: (10, 10, 10, -10, 10, -10, 10, 10, -10)\n"
     ]
    },
    {
     "name": "stderr",
     "output_type": "stream",
     "text": [
      "Processing chunks in UOX_sim_-512_-512_reduced.stream: 100%|██████████| 157/157 [00:21<00:00,  7.21chunk/s]\n"
     ]
    },
    {
     "name": "stdout",
     "output_type": "stream",
     "text": [
      "Combined metrics CSV written to /home/bubl3932/files/UOX_sim/combined_simulations_P-1_mee_0_0003_angres_5/IQM_10_10_10_-10_10_-10_10_10_-10/IQM_values.csv\n",
      "Best results stream file written to /home/bubl3932/files/UOX_sim/combined_simulations_P-1_mee_0_0003_angres_5/IQM_10_10_10_-10_10_-10_10_10_-10/best_IQM.stream\n",
      "Merging fast integration results...\n",
      "Running partialator for stream file: /home/bubl3932/files/UOX_sim/combined_simulations_P-1_mee_0_0003_angres_5/UOX_sim_-512_-512_reduced.stream\n"
     ]
    },
    {
     "name": "stderr",
     "output_type": "stream",
     "text": [
      "Partialator Progress: 100%|██████████| 5/5 [00:05<00:00,  1.19s/Residuals]\n"
     ]
    },
    {
     "name": "stdout",
     "output_type": "stream",
     "text": [
      "Partialator completed for stream file: /home/bubl3932/files/UOX_sim/combined_simulations_P-1_mee_0_0003_angres_5/UOX_sim_-512_-512_reduced.stream\n",
      "[INFO] Converting crystfel.hkl to output.mtz in directory: /home/bubl3932/files/UOX_sim/combined_simulations_P-1_mee_0_0003_angres_5/merge_3_iter_UOX_sim_-512_-512_reduced\n",
      "[INFO] Conversion to output.mtz completed successfully in: /home/bubl3932/files/UOX_sim/combined_simulations_P-1_mee_0_0003_angres_5/merge_3_iter_UOX_sim_-512_-512_reduced\n",
      "Merging Complete for UOX_sim_-512_-512_reduced\n",
      "Refining fast integration results...\n",
      "Processing folder: /home/bubl3932/files/UOX_sim/combined_simulations_P-1_mee_0_0003_angres_5/merge_3_iter_UOX_sim_-512_-512_reduced\n"
     ]
    },
    {
     "name": "stderr",
     "output_type": "stream",
     "text": [
      "Refmac5 CGMAT cycles: 100%|██████████| 30/30 [00:40<00:00,  1.34s/cycle]\n"
     ]
    },
    {
     "name": "stdout",
     "output_type": "stream",
     "text": [
      "Processing folder: /home/bubl3932/files/UOX_sim/combined_simulations_P-1_mee_0_0003_angres_5/non_reduced_stream_512-512\n"
     ]
    },
    {
     "name": "stderr",
     "output_type": "stream",
     "text": [
      "Refmac5 CGMAT cycles:   0%|          | 0/30 [00:00<?, ?cycle/s]\n"
     ]
    },
    {
     "name": "stdout",
     "output_type": "stream",
     "text": [
      "Processing folder: /home/bubl3932/files/UOX_sim/combined_simulations_P-1_mee_0_0003_angres_5/IQM_10_10_10_-10_10_-10_10_10_-10\n"
     ]
    },
    {
     "name": "stderr",
     "output_type": "stream",
     "text": [
      "Refmac5 CGMAT cycles:   0%|          | 0/30 [00:00<?, ?cycle/s]"
     ]
    },
    {
     "name": "stdout",
     "output_type": "stream",
     "text": [
      "Automation process completed successfully for weights: (10, 10, 10, -10, 10, -10, 10, 10, -10) with a final R factor of 0.3718\n"
     ]
    },
    {
     "name": "stderr",
     "output_type": "stream",
     "text": [
      "\n"
     ]
    }
   ],
   "source": [
    "from find_first_file import find_first_file\n",
    "from automate_evaluation_and_integration import automate_evaluation_and_integration\n",
    "\n",
    "stream_file_folder = '/home/bubl3932/files/UOX_sim/combined_simulations_P-1_mee_0_0003_angres_5'\n",
    "cellfile_path = find_first_file(stream_file_folder, \".cell\")\n",
    "pdb_file = find_first_file(stream_file_folder, \".pdb\")\n",
    "\n",
    "weights_list = [\n",
    "    (10, 10, 10, -10, 10, -10, 10, 10, -10)\n",
    "]\n",
    "\n",
    "pointgroup = \"mmm\"\n",
    "num_threads = 23\n",
    "iterations = 3 # iterations during mergin\n",
    "bins = 20 # resolution bins during refinement\n",
    "min_res = 1.5 # min resolution for refinement\n",
    "merging = True\n",
    "refining = True\n",
    "\n",
    "automate_evaluation_and_integration(stream_file_folder, weights_list, cellfile_path, pointgroup, num_threads, bins, pdb_file, min_res, iterations, merging = merging, refining = refining)\n"
   ]
  }
 ],
 "metadata": {
  "kernelspec": {
   "display_name": "diffractem_env",
   "language": "python",
   "name": "python3"
  },
  "language_info": {
   "codemirror_mode": {
    "name": "ipython",
    "version": 3
   },
   "file_extension": ".py",
   "mimetype": "text/x-python",
   "name": "python",
   "nbconvert_exporter": "python",
   "pygments_lexer": "ipython3",
   "version": "3.9.21"
  }
 },
 "nbformat": 4,
 "nbformat_minor": 2
}
