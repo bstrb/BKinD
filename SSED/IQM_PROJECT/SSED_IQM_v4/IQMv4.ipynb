{
 "cells": [
  {
   "cell_type": "code",
   "execution_count": null,
   "metadata": {},
   "outputs": [],
   "source": [
    "from find_first_file import find_first_file\n",
    "from automate_evaluation_and_integration import automate_evaluation_and_integration\n",
    "\n",
    "stream_file_folder = '/home/bubl3932/files/UOX_sim/combined_simulations_P-1_mee_0_0003_angres_5'\n",
    "cellfile_path = find_first_file(stream_file_folder, \".cell\")\n",
    "pdb_file = find_first_file(stream_file_folder, \".pdb\")\n",
    "\n",
    "weights_list = [\n",
    "    (10, 10, 10, -10, 10, -10, 10, 10, -10)\n",
    "]\n",
    "\n",
    "lattice = \"oI\"  # Pearson Symbol read from .cell file first letter for lattice type and second for centering\n",
    "ring_size = [(2, 5, 10)]\n",
    "pointgroup = \"mmm\"\n",
    "num_threads = 23\n",
    "iterations = 3 # iterations during mergin\n",
    "bins = 20 # resolution bins during refinement\n",
    "min_res = 1.5 # min resolution for refinement\n",
    "integration = True\n",
    "merging = True\n",
    "refining = True\n",
    "\n",
    "automate_evaluation_and_integration(stream_file_folder, weights_list, lattice, ring_size, cellfile_path, pointgroup, num_threads, bins, pdb_file, min_res, iterations, integration = integration, merging = merging, refining = refining)\n"
   ]
  }
 ],
 "metadata": {
  "kernelspec": {
   "display_name": "diffractem_env",
   "language": "python",
   "name": "python3"
  },
  "language_info": {
   "codemirror_mode": {
    "name": "ipython",
    "version": 3
   },
   "file_extension": ".py",
   "mimetype": "text/x-python",
   "name": "python",
   "nbconvert_exporter": "python",
   "pygments_lexer": "ipython3",
   "version": "3.9.21"
  }
 },
 "nbformat": 4,
 "nbformat_minor": 2
}
