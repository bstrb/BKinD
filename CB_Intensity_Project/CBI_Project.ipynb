{
 "cells": [
  {
   "cell_type": "markdown",
   "metadata": {},
   "source": [
    "# Project: Correlation of Center Beam Spot Intensity (CBI) with Dynamic Effects in 3DED Data\n",
    "\n",
    "## Project Overview\n",
    "This project aims to correlate **Center Beam Intensity (CBI)** with **dynamic effects** in **3DED data**. Multiple experiments are performed on the same crystal in different orientations, with CBI extracted and analyzed for each frame. Duplicate reflections with lower CBI values are removed before merging the data. After merging, the structure is refined using **SHELX** to assess improvements in data quality via metrics like R-values.\n"
   ]
  },
  {
   "cell_type": "markdown",
   "metadata": {},
   "source": [
    "## Experimental Setup\n",
    "- **Crystal**: The same crystal is measured in multiple orientations using Themis Z detector.\n",
    "- **CBI Measurement**: A program is developed to fit a 2D Gaussian (or pseudo-Voigt) to the center beam spot and extract CBI from each frame.\n",
    "- **Data Storage**: The extracted CBI values are added to the **XDS_ASCII.HKL** files, which also contain frame information.\n"
   ]
  },
  {
   "cell_type": "markdown",
   "metadata": {},
   "source": [
    "## Data Normalization and Filtering\n",
    "- **Normalization**: The CBI values for each reflection are normalized using a z-score.\n",
    "- **Duplicate Removal**: Duplicate reflections (same Miller index) are identified across the different data sets, and the reflections with lower CBI values are removed.\n"
   ]
  },
  {
   "cell_type": "markdown",
   "metadata": {},
   "source": [
    "## Merging Data with XSCALE\n",
    "After filtering, the reduced **XDS_ASCII.HKL** files are merged using **XSCALE**. This process combines data from the multiple experiments into a single dataset for refinement.\n"
   ]
  },
  {
   "cell_type": "markdown",
   "metadata": {},
   "source": [
    "## Refinement and Data Quality Analysis\n",
    "- After merging, the dataset is refined using **SHELXL**.\n",
    "- Metrics such as **R-values** (R1, Rint) and other indicators of data quality are studied to assess the impact of using higher CBI values.\n"
   ]
  },
  {
   "cell_type": "markdown",
   "metadata": {},
   "source": [
    "## Conclusion and Next Steps\n",
    "The correlation between **CBI** and **dynamic effects** was explored, with duplicate reflections removed based on higher CBI values. Merging and refinement using **SHELXL** provided insights into data quality improvements. Next steps involve refining the data merging process and further analyzing the impact of CBI on dynamic effects.\n"
   ]
  }
 ],
 "metadata": {
  "language_info": {
   "name": "python"
  }
 },
 "nbformat": 4,
 "nbformat_minor": 2
}
