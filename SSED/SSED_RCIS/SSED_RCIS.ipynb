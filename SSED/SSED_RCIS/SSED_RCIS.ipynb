{
 "cells": [
  {
   "cell_type": "markdown",
   "metadata": {},
   "source": [
    "Evaluate indexing results based on intensity weighted RMSD, cell parameter comparison and number of indexed reflections"
   ]
  },
  {
   "cell_type": "code",
   "execution_count": 1,
   "metadata": {},
   "outputs": [],
   "source": [
    "# Evaluate indexing Function Definitions\n",
    "\n",
    "from evaluate_indexing import evaluate_indexing"
   ]
  },
  {
   "cell_type": "code",
   "execution_count": null,
   "metadata": {},
   "outputs": [],
   "source": [
    "# Evaluate indexing\n",
    "\n",
    "index_stream = \"/home/buster/UOX1/9x9/UOX1_-512.01_-512.0.stream\"\n",
    "\n",
    "evaluate_indexing(index_stream)"
   ]
  },
  {
   "cell_type": "code",
   "execution_count": null,
   "metadata": {},
   "outputs": [],
   "source": [
    "# Evaluate indexing over multiple stream files\n",
    "\n",
    "from evaluate_multiple_streams import evaluate_multiple_streams\n",
    "\n",
    "input_stream_folder = \"/home/buster/UOX1/3x3\"\n",
    "\n",
    "evaluate_multiple_streams(input_stream_folder)"
   ]
  }
 ],
 "metadata": {
  "kernelspec": {
   "display_name": "diffractem_env",
   "language": "python",
   "name": "python3"
  },
  "language_info": {
   "codemirror_mode": {
    "name": "ipython",
    "version": 3
   },
   "file_extension": ".py",
   "mimetype": "text/x-python",
   "name": "python",
   "nbconvert_exporter": "python",
   "pygments_lexer": "ipython3",
   "version": "3.10.14"
  }
 },
 "nbformat": 4,
 "nbformat_minor": 2
}
