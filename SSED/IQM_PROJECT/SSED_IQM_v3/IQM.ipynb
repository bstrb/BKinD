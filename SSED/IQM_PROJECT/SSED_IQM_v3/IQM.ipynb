{
 "cells": [
  {
   "cell_type": "code",
   "execution_count": 1,
   "metadata": {},
   "outputs": [
    {
     "name": "stdout",
     "output_type": "stream",
     "text": [
      "Evaluating multiple stream files with weights: (10, 12, 10, -12, 12, -15, 10, 13, -13)\n"
     ]
    },
    {
     "name": "stderr",
     "output_type": "stream",
     "text": [
      "Processing chunks in UOX1_-512.02_-512.01.stream:  99%|█████████▉| 6236/6280 [08:20<00:04,  9.13chunk/s]\n",
      "Processing chunks in UOX1_-511.99_-512.01.stream: 100%|██████████| 6280/6280 [08:21<00:00, 12.52chunk/s]\n",
      "Processing chunks in UOX1_-512.02_-512.01.stream: 100%|██████████| 6280/6280 [08:25<00:00, 12.43chunk/s]\n",
      "Processing chunks in UOX1_-511.98_-512.0.stream: 100%|█████████▉| 6250/6280 [08:25<00:02, 13.75chunk/s]]\n",
      "Processing chunks in UOX1_-512.02_-511.99.stream: 100%|██████████| 6280/6280 [08:26<00:00, 12.39chunk/s]\n",
      "Processing chunks in UOX1_-511.99_-511.98.stream:  97%|█████████▋| 6105/6280 [08:28<00:19,  9.18chunk/s]\n",
      "Processing chunks in UOX1_-512.02_-512.02.stream: 100%|██████████| 6280/6280 [08:28<00:00, 12.36chunk/s]\n",
      "Processing chunks in UOX1_-511.98_-511.98.stream: 100%|██████████| 6280/6280 [08:28<00:00, 12.36chunk/s]\n",
      "Processing chunks in UOX1_-511.98_-512.0.stream: 100%|██████████| 6280/6280 [08:30<00:00, 12.30chunk/s]]\n",
      "Processing chunks in UOX1_-511.98_-512.02.stream: 100%|██████████| 6280/6280 [08:32<00:00, 12.26chunk/s]\n",
      "Processing chunks in UOX1_-511.98_-512.01.stream: 100%|██████████| 6280/6280 [08:32<00:00, 12.24chunk/s]\n",
      "Processing chunks in UOX1_-511.99_-512.02.stream: 100%|██████████| 6280/6280 [08:33<00:00, 12.24chunk/s]\n",
      "Processing chunks in UOX1_-512.0_-512.01.stream: 100%|██████████| 6280/6280 [08:34<00:00, 12.22chunk/s]]\n",
      "Processing chunks in UOX1_-512.01_-512.01.stream: 100%|██████████| 6280/6280 [08:35<00:00, 12.19chunk/s]\n",
      "Processing chunks in UOX1_-512.0_-511.98.stream: 100%|██████████| 6280/6280 [08:36<00:00, 12.17chunk/s]]\n",
      "Processing chunks in UOX1_-512.02_-511.98.stream: 100%|██████████| 6280/6280 [08:36<00:00, 12.16chunk/s]\n",
      "Processing chunks in UOX1_-512.02_-512.0.stream: 100%|██████████| 6280/6280 [08:36<00:00, 12.15chunk/s]]\n",
      "Processing chunks in UOX1_-512.01_-512.02.stream: 100%|██████████| 6280/6280 [08:37<00:00, 12.13chunk/s]\n",
      "Processing chunks in UOX1_-511.99_-511.98.stream: 100%|██████████| 6280/6280 [08:38<00:00, 12.12chunk/s]\n",
      "Processing chunks in UOX1_-511.99_-512.0.stream: 100%|██████████| 6280/6280 [08:38<00:00, 12.12chunk/s]\n",
      "Processing chunks in UOX1_-511.99_-511.99.stream: 100%|██████████| 6280/6280 [08:39<00:00, 12.08chunk/s]\n",
      "Processing chunks in UOX1_-512.01_-511.99.stream: 100%|██████████| 6280/6280 [08:40<00:00, 12.07chunk/s]\n",
      "Processing chunks in UOX1_-512.01_-512.0.stream: 100%|██████████| 6280/6280 [08:40<00:00, 12.06chunk/s]]\n",
      "Processing chunks in UOX1_-511.98_-511.99.stream: 100%|██████████| 6280/6280 [08:41<00:00, 12.03chunk/s]\n",
      "Processing chunks in UOX1_-512.01_-511.98.stream: 100%|██████████| 6280/6280 [02:56<00:00, 35.56chunk/s]\n"
     ]
    },
    {
     "name": "stdout",
     "output_type": "stream",
     "text": [
      "Combined metrics CSV written to /home/bubl3932/files/UOX1/UOX1_original_IQM/combined_metrics_IQM_SUM_10_12_10_-12_12_-15_10_13_-13.csv\n",
      "Best results stream file written to /home/bubl3932/files/UOX1/UOX1_original_IQM/best_results_IQM_SUM_10_12_10_-12_12_-15_10_13_-13.stream\n",
      "Writing .sol file from stream: /home/bubl3932/files/UOX1/UOX1_original_IQM/best_results_IQM_SUM_10_12_10_-12_12_-15_10_13_-13.stream\n",
      "Bash script generated: /home/bubl3932/files/UOX1/UOX1_original_IQM/IQM_SUM_10_12_10_-12_12_-15_10_13_-13.sh\n",
      "Running fast integration...\n"
     ]
    },
    {
     "name": "stderr",
     "output_type": "stream",
     "text": [
      "Writing integration output stream: 100%|██████████| 5227/5227 [01:24<00:00, 61.69lines/s]\n"
     ]
    },
    {
     "name": "stdout",
     "output_type": "stream",
     "text": [
      "Script failed with return code 134\n",
      "Merging fast integration results...\n",
      "Running partialator for stream file: /home/bubl3932/files/UOX1/UOX1_original_IQM/IQM_SUM_10_12_10_-12_12_-15_10_13_-13/int_rings_2-5-10.stream\n"
     ]
    },
    {
     "name": "stderr",
     "output_type": "stream",
     "text": [
      "Partialator Progress: 100%|██████████| 5/5 [01:41<00:00, 20.25s/Residuals]\n"
     ]
    },
    {
     "name": "stdout",
     "output_type": "stream",
     "text": [
      "Partialator completed for stream file: /home/bubl3932/files/UOX1/UOX1_original_IQM/IQM_SUM_10_12_10_-12_12_-15_10_13_-13/int_rings_2-5-10.stream\n",
      "Converting crystfel.hkl to output.mtz in directory: /home/bubl3932/files/UOX1/UOX1_original_IQM/IQM_SUM_10_12_10_-12_12_-15_10_13_-13/merge_3_iter_int_rings_2-5-10\n",
      "Error during conversion to MTZ in /home/bubl3932/files/UOX1/UOX1_original_IQM/IQM_SUM_10_12_10_-12_12_-15_10_13_-13/merge_3_iter_int_rings_2-5-10: Command '['get_hkl', '-i', '/home/bubl3932/files/UOX1/UOX1_original_IQM/IQM_SUM_10_12_10_-12_12_-15_10_13_-13/merge_3_iter_int_rings_2-5-10/crystfel.hkl', '-o', '/home/bubl3932/files/UOX1/UOX1_original_IQM/IQM_SUM_10_12_10_-12_12_-15_10_13_-13/merge_3_iter_int_rings_2-5-10/output.mtz', '-p', '/home/bubl3932/files/UOX1/UOX1_original_IQM/UOX.cell', '--output-format=mtz']' returned non-zero exit status 1.\n",
      "Skipping further steps for int_rings_2-5-10 due to error.\n",
      "Refining fast integration results...\n",
      "Processing folder: /home/bubl3932/files/UOX1/UOX1_original_IQM/IQM_SUM_10_12_10_-12_12_-15_10_13_-13/merge_3_iter_int_rings_2-5-10\n"
     ]
    },
    {
     "name": "stderr",
     "output_type": "stream",
     "text": [
      "Refmac5 CGMAT cycles:   0%|          | 0/30 [00:00<?, ?cycle/s]"
     ]
    },
    {
     "name": "stdout",
     "output_type": "stream",
     "text": [
      "Automation process completed successfully for weights: (10, 12, 10, -12, 12, -15, 10, 13, -13) with a final R factor of None\n"
     ]
    },
    {
     "name": "stderr",
     "output_type": "stream",
     "text": [
      "\n"
     ]
    }
   ],
   "source": [
    "from find_first_file import find_first_file\n",
    "from automate_evaluation_and_integration import automate_evaluation_and_integration\n",
    "\n",
    "stream_file_folder = '/home/bubl3932/files/UOX1/UOX1_original_IQM'\n",
    "cellfile_path = find_first_file(stream_file_folder, \".cell\")\n",
    "pdb_file = find_first_file(stream_file_folder, \".pdb\")\n",
    "\n",
    "weights_list = [\n",
    "    (10, 12, 10, -12, 12, -15, 10, 13, -13)  \n",
    "]\n",
    "\n",
    "lattice = \"oI\"  # Pearson Symbol read from .cell file first letter for lattice type and second for centering\n",
    "ring_size = [(2, 5, 10)]\n",
    "pointgroup = \"mmm\"\n",
    "num_threads = 23\n",
    "iterations = 3 # iterations during mergin\n",
    "bins = 20 # resolution bins during refinement\n",
    "min_res = 1.5 # min resolution for refinement\n",
    "integration = True\n",
    "merging = True\n",
    "refining = True\n",
    "\n",
    "automate_evaluation_and_integration(stream_file_folder, weights_list, lattice, ring_size, cellfile_path, pointgroup, num_threads, bins, pdb_file, min_res, iterations, integration = integration, merging = merging, refining = refining)\n"
   ]
  }
 ],
 "metadata": {
  "kernelspec": {
   "display_name": "diffractem_env",
   "language": "python",
   "name": "python3"
  },
  "language_info": {
   "codemirror_mode": {
    "name": "ipython",
    "version": 3
   },
   "file_extension": ".py",
   "mimetype": "text/x-python",
   "name": "python",
   "nbconvert_exporter": "python",
   "pygments_lexer": "ipython3",
   "version": "3.9.21"
  }
 },
 "nbformat": 4,
 "nbformat_minor": 2
}
