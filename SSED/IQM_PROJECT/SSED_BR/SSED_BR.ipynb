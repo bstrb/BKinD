{
 "cells": [
  {
   "cell_type": "markdown",
   "metadata": {},
   "source": [
    "Based on RMSD between found peaks and indexed reflections combine the best indexings from xGandalf for each frame to one .stream file and then write a .sol from combined .stream file."
   ]
  },
  {
   "cell_type": "code",
   "execution_count": 1,
   "metadata": {},
   "outputs": [],
   "source": [
    "# Find Best Results Function Definitions\n",
    "\n",
    "from best_results_def import find_best_results\n",
    "from read_stream_write_sol import read_stream_write_sol"
   ]
  },
  {
   "cell_type": "code",
   "execution_count": 2,
   "metadata": {},
   "outputs": [
    {
     "name": "stdout",
     "output_type": "stream",
     "text": [
      "['/home/buster/leidata/hMTH1_TH287_Serial/first-trial-process/hMTH1_TH287_-512.01_-512.01.stream', '/home/buster/leidata/hMTH1_TH287_Serial/first-trial-process/hMTH1_TH287_-511.99_-511.99.stream', '/home/buster/leidata/hMTH1_TH287_Serial/first-trial-process/hMTH1_TH287_-511.99_-511.98.stream', '/home/buster/leidata/hMTH1_TH287_Serial/first-trial-process/hMTH1_TH287_-512.0_-512.02.stream', '/home/buster/leidata/hMTH1_TH287_Serial/first-trial-process/hMTH1_TH287_-511.98_-512.0.stream', '/home/buster/leidata/hMTH1_TH287_Serial/first-trial-process/hMTH1_TH287_-512.0_-511.98.stream', '/home/buster/leidata/hMTH1_TH287_Serial/first-trial-process/hMTH1_TH287_-511.99_-512.01.stream', '/home/buster/leidata/hMTH1_TH287_Serial/first-trial-process/hMTH1_TH287_-512.02_-512.01.stream', '/home/buster/leidata/hMTH1_TH287_Serial/first-trial-process/hMTH1_TH287_-512.01_-511.99.stream', '/home/buster/leidata/hMTH1_TH287_Serial/first-trial-process/hMTH1_TH287_-512.0_-512.01.stream', '/home/buster/leidata/hMTH1_TH287_Serial/first-trial-process/hMTH1_TH287_-512.01_-512.0.stream', '/home/buster/leidata/hMTH1_TH287_Serial/first-trial-process/hMTH1_TH287_-512.01_-511.98.stream', '/home/buster/leidata/hMTH1_TH287_Serial/first-trial-process/hMTH1_TH287_-512.0_-511.99.stream', '/home/buster/leidata/hMTH1_TH287_Serial/first-trial-process/hMTH1_TH287_-512.01_-512.02.stream', '/home/buster/leidata/hMTH1_TH287_Serial/first-trial-process/hMTH1_TH287_-511.99_-512.0.stream', '/home/buster/leidata/hMTH1_TH287_Serial/first-trial-process/hMTH1_TH287_-512_-512.stream', '/home/buster/leidata/hMTH1_TH287_Serial/first-trial-process/hMTH1_TH287_-512.02_-511.98.stream', '/home/buster/leidata/hMTH1_TH287_Serial/first-trial-process/hMTH1_TH287_-511.98_-511.98.stream', '/home/buster/leidata/hMTH1_TH287_Serial/first-trial-process/hMTH1_TH287_-511.99_-512.02.stream', '/home/buster/leidata/hMTH1_TH287_Serial/first-trial-process/hMTH1_TH287_-511.98_-511.99.stream', '/home/buster/leidata/hMTH1_TH287_Serial/first-trial-process/hMTH1_TH287_-512.02_-511.99.stream', '/home/buster/leidata/hMTH1_TH287_Serial/first-trial-process/hMTH1_TH287_-512.02_-512.02.stream', '/home/buster/leidata/hMTH1_TH287_Serial/first-trial-process/hMTH1_TH287_-511.98_-512.02.stream', '/home/buster/leidata/hMTH1_TH287_Serial/first-trial-process/hMTH1_TH287_-511.98_-512.01.stream', '/home/buster/leidata/hMTH1_TH287_Serial/first-trial-process/hMTH1_TH287_-512.02_-512.0.stream']\n",
      "File: /home/buster/leidata/hMTH1_TH287_Serial/first-trial-process/hMTH1_TH287_-512.01_-512.01.stream, Average RMSD: 9.721739214878404, Chunk Count: 3583, Indexed Patterns: 1928\n",
      "File: /home/buster/leidata/hMTH1_TH287_Serial/first-trial-process/hMTH1_TH287_-511.99_-511.99.stream, Average RMSD: 9.586952505716557, Chunk Count: 3583, Indexed Patterns: 1892\n",
      "File: /home/buster/leidata/hMTH1_TH287_Serial/first-trial-process/hMTH1_TH287_-511.99_-511.98.stream, Average RMSD: 9.216748850739968, Chunk Count: 3583, Indexed Patterns: 1935\n",
      "File: /home/buster/leidata/hMTH1_TH287_Serial/first-trial-process/hMTH1_TH287_-512.0_-512.02.stream, Average RMSD: 9.698887444923507, Chunk Count: 3583, Indexed Patterns: 1876\n",
      "File: /home/buster/leidata/hMTH1_TH287_Serial/first-trial-process/hMTH1_TH287_-511.98_-512.0.stream, Average RMSD: 9.84228868993092, Chunk Count: 3583, Indexed Patterns: 1874\n",
      "File: /home/buster/leidata/hMTH1_TH287_Serial/first-trial-process/hMTH1_TH287_-512.0_-511.98.stream, Average RMSD: 9.236025557277177, Chunk Count: 3583, Indexed Patterns: 1894\n",
      "File: /home/buster/leidata/hMTH1_TH287_Serial/first-trial-process/hMTH1_TH287_-511.99_-512.01.stream, Average RMSD: 9.926598907836317, Chunk Count: 3583, Indexed Patterns: 1878\n",
      "File: /home/buster/leidata/hMTH1_TH287_Serial/first-trial-process/hMTH1_TH287_-512.02_-512.01.stream, Average RMSD: 9.487792398561565, Chunk Count: 3583, Indexed Patterns: 1880\n",
      "File: /home/buster/leidata/hMTH1_TH287_Serial/first-trial-process/hMTH1_TH287_-512.01_-511.99.stream, Average RMSD: 9.865368813820869, Chunk Count: 3583, Indexed Patterns: 1894\n",
      "File: /home/buster/leidata/hMTH1_TH287_Serial/first-trial-process/hMTH1_TH287_-512.0_-512.01.stream, Average RMSD: 9.411266797328265, Chunk Count: 3583, Indexed Patterns: 1900\n",
      "File: /home/buster/leidata/hMTH1_TH287_Serial/first-trial-process/hMTH1_TH287_-512.01_-512.0.stream, Average RMSD: 9.808809073591028, Chunk Count: 3583, Indexed Patterns: 1896\n",
      "File: /home/buster/leidata/hMTH1_TH287_Serial/first-trial-process/hMTH1_TH287_-512.01_-511.98.stream, Average RMSD: 9.320989372229963, Chunk Count: 3583, Indexed Patterns: 1903\n",
      "File: /home/buster/leidata/hMTH1_TH287_Serial/first-trial-process/hMTH1_TH287_-512.0_-511.99.stream, Average RMSD: 9.810024626122244, Chunk Count: 3583, Indexed Patterns: 1886\n",
      "File: /home/buster/leidata/hMTH1_TH287_Serial/first-trial-process/hMTH1_TH287_-512.01_-512.02.stream, Average RMSD: 9.700552242874597, Chunk Count: 3583, Indexed Patterns: 1898\n",
      "File: /home/buster/leidata/hMTH1_TH287_Serial/first-trial-process/hMTH1_TH287_-511.99_-512.0.stream, Average RMSD: 9.739924419534523, Chunk Count: 3583, Indexed Patterns: 1907\n",
      "File: /home/buster/leidata/hMTH1_TH287_Serial/first-trial-process/hMTH1_TH287_-512_-512.stream, Average RMSD: 9.961487473188761, Chunk Count: 3583, Indexed Patterns: 1887\n",
      "File: /home/buster/leidata/hMTH1_TH287_Serial/first-trial-process/hMTH1_TH287_-512.02_-511.98.stream, Average RMSD: 9.77779570281753, Chunk Count: 3583, Indexed Patterns: 1894\n",
      "File: /home/buster/leidata/hMTH1_TH287_Serial/first-trial-process/hMTH1_TH287_-511.98_-511.98.stream, Average RMSD: 9.654251577446752, Chunk Count: 3583, Indexed Patterns: 1909\n",
      "File: /home/buster/leidata/hMTH1_TH287_Serial/first-trial-process/hMTH1_TH287_-511.99_-512.02.stream, Average RMSD: 9.535581594753477, Chunk Count: 3583, Indexed Patterns: 1903\n",
      "File: /home/buster/leidata/hMTH1_TH287_Serial/first-trial-process/hMTH1_TH287_-511.98_-511.99.stream, Average RMSD: 9.119832097778849, Chunk Count: 3583, Indexed Patterns: 1902\n",
      "File: /home/buster/leidata/hMTH1_TH287_Serial/first-trial-process/hMTH1_TH287_-512.02_-511.99.stream, Average RMSD: 9.470241108603522, Chunk Count: 3583, Indexed Patterns: 1900\n",
      "File: /home/buster/leidata/hMTH1_TH287_Serial/first-trial-process/hMTH1_TH287_-512.02_-512.02.stream, Average RMSD: 9.677062073452806, Chunk Count: 3583, Indexed Patterns: 1928\n",
      "File: /home/buster/leidata/hMTH1_TH287_Serial/first-trial-process/hMTH1_TH287_-511.98_-512.02.stream, Average RMSD: 9.867067818673586, Chunk Count: 3583, Indexed Patterns: 1886\n",
      "File: /home/buster/leidata/hMTH1_TH287_Serial/first-trial-process/hMTH1_TH287_-511.98_-512.01.stream, Average RMSD: 9.943391693584717, Chunk Count: 3583, Indexed Patterns: 1879\n",
      "File: /home/buster/leidata/hMTH1_TH287_Serial/first-trial-process/hMTH1_TH287_-512.02_-512.0.stream, Average RMSD: 9.579834226155565, Chunk Count: 3583, Indexed Patterns: 1872\n",
      "File: /home/buster/leidata/hMTH1_TH287_Serial/first-trial-process/best_results_RMSD.stream, Average RMSD: 7.952, Chunk Count: 2965, Indexed Patterns: 2965\n",
      "Adding header to /home/buster/leidata/hMTH1_TH287_Serial/first-trial-process/best_results_RMSD.stream...\n",
      "/home/buster/leidata/hMTH1_TH287_Serial/first-trial-process/hMTH1_TH287_-512.01_-512.01.stream\n",
      "Header copied and added to /home/buster/leidata/hMTH1_TH287_Serial/first-trial-process/best_results_RMSD.stream\n"
     ]
    }
   ],
   "source": [
    "# Find Best Results\n",
    "\n",
    "import os\n",
    "inputfolder_path = \"/home/buster/leidata/hMTH1_TH287_Serial/first-trial-process\"\n",
    "# output_path = \"/home/buster/UOX1/3x3/best_results.stream\"\n",
    "\n",
    "output_path = os.path.join(inputfolder_path,\"best_results_RMSD.stream\")\n",
    "lattice = \"oP\" # Pearson Symbol read from .cell file first letter for lattice type and second for centering\n",
    "\n",
    "find_best_results(inputfolder_path, output_path)\n",
    "\n",
    "read_stream_write_sol(output_path, lattice)"
   ]
  },
  {
   "cell_type": "code",
   "execution_count": null,
   "metadata": {},
   "outputs": [],
   "source": [
    "# RMSD heatmap for specific frame\n",
    "from rmsd_heatmap import  rmsd_heatmap\n",
    "\n",
    "inputfolder_path = \"/home/buster/UOX1/3x3\"\n",
    "target_serial_number = 6186\n",
    "rmsd_heatmap(inputfolder_path, target_serial_number)"
   ]
  },
  {
   "cell_type": "code",
   "execution_count": null,
   "metadata": {},
   "outputs": [],
   "source": [
    "# Extract RMSD for each frame from each stream to .csv\n",
    "from extract_rmsd_to_csv import extract_rmsd_to_csv\n",
    "\n",
    "inputfolder_path = \"/home/buster/UOX1/3x3\"\n",
    "extract_rmsd_to_csv(inputfolder_path, n=10)"
   ]
  },
  {
   "cell_type": "code",
   "execution_count": null,
   "metadata": {},
   "outputs": [],
   "source": [
    "# Plot and save RMSD heatmaps\n",
    "from plot_and_save_rmsd_heatmaps_v2 import plot_and_save_rmsd_heatmaps\n",
    "\n",
    "csv_path = \"/home/buster/leidata/hMTH1_TH287_Serial/first-trial-process/rmsd_data.csv\"\n",
    "plot_and_save_rmsd_heatmaps(csv_path)"
   ]
  },
  {
   "cell_type": "code",
   "execution_count": null,
   "metadata": {},
   "outputs": [],
   "source": [
    "# Create .gif from pngs\n",
    "from create_gif_from_pngs import create_gif_from_pngs\n",
    "\n",
    "# Provide the folder path containing your .png files\n",
    "png_folder_path = '/home/buster/leidata/hMTH1_TH287_Serial/first-trial-process/rmsd_heatmaps'\n",
    "output_gif = '/home/buster/leidata/hMTH1_TH287_Serial/first-trial-process/rmsd_heatmaps/heatmap5x5fast.gif'\n",
    "create_gif_from_pngs(png_folder_path, output_filename=output_gif, duration=100, resize_factor=0.5, reduce_colors=True, colors=32)\n"
   ]
  }
 ],
 "metadata": {
  "kernelspec": {
   "display_name": "diffractem_env",
   "language": "python",
   "name": "python3"
  },
  "language_info": {
   "codemirror_mode": {
    "name": "ipython",
    "version": 3
   },
   "file_extension": ".py",
   "mimetype": "text/x-python",
   "name": "python",
   "nbconvert_exporter": "python",
   "pygments_lexer": "ipython3",
   "version": "3.10.14"
  }
 },
 "nbformat": 4,
 "nbformat_minor": 2
}
